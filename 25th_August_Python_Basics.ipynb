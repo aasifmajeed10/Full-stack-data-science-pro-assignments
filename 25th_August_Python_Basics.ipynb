{
 "cells": [
  {
   "cell_type": "markdown",
   "id": "cae4d61c-0adb-4d36-a814-58537e3d7aba",
   "metadata": {},
   "source": [
    "### python Basics Assignment 1"
   ]
  },
  {
   "cell_type": "markdown",
   "id": "538d5edc-379f-4165-8309-41a0a09cd0c8",
   "metadata": {},
   "source": [
    "## Name : Aasif Majeed "
   ]
  },
  {
   "cell_type": "markdown",
   "id": "f7cca604-914b-44a5-8f97-e0632e3b0bc1",
   "metadata": {},
   "source": [
    "TOPIC: Python Basics Variable"
   ]
  },
  {
   "cell_type": "markdown",
   "id": "63dbebc1-9b6a-497a-857c-786d53d6662a",
   "metadata": {},
   "source": [
    "1. Declare two variables, `x` and `y`, and assign them integer values. Swap the\n",
    "values of these variables without using any temporary variable."
   ]
  },
  {
   "cell_type": "code",
   "execution_count": 1,
   "id": "d3a42bd5-ea5c-4f72-9504-157ca09f527b",
   "metadata": {},
   "outputs": [
    {
     "name": "stdout",
     "output_type": "stream",
     "text": [
      "x: 20\n",
      "y: 10\n"
     ]
    }
   ],
   "source": [
    "x = 10  # assigment the integer to variables\n",
    "y = 20\n",
    "\n",
    "x, y = y, x   # swaping the variables or we can reassign the variable separately\n",
    "\n",
    "print(\"x:\", x)   # printing the latest assigned value of the variable \n",
    "print(\"y:\", y)"
   ]
  },
  {
   "cell_type": "markdown",
   "id": "b8742dc9-e2d9-4e91-858d-f8ddd41a9111",
   "metadata": {},
   "source": [
    "2. Create a program that calculates the area of a rectangle. Take the length and\n",
    "width as inputs from the user and store them in variables. Calculate and\n",
    "display the area.\n"
   ]
  },
  {
   "cell_type": "code",
   "execution_count": 20,
   "id": "080b1412-561f-45b0-bd0f-cd5cdb23f468",
   "metadata": {},
   "outputs": [
    {
     "name": "stdin",
     "output_type": "stream",
     "text": [
      "Enter the length of the rectangle:  5\n",
      "Enter the width of the rectangle:  3.5\n"
     ]
    },
    {
     "name": "stdout",
     "output_type": "stream",
     "text": [
      "length of the rectangle is : 5.0\n",
      "Breadth of the rectangle is : 3.5\n",
      "The area of the rectangle is: 17.5\n"
     ]
    }
   ],
   "source": [
    "# Taking input from the user\n",
    "length = float(input(\"Enter the length of the rectangle: \")) # float ensures to various types of  inputs \n",
    "width = float(input(\"Enter the width of the rectangle: \"))\n",
    "print('length of the rectangle is :', length)  # this line of code is added for the reader reading the \n",
    "                                               # from github reprository\n",
    "print('Breadth of the rectangle is :', width)\n",
    "# Calculating the area\n",
    "area = length * width  # calculates the area from floating point numbers\n",
    "\n",
    "# Displaying the result\n",
    "print(\"The area of the rectangle is:\", area)"
   ]
  },
  {
   "cell_type": "markdown",
   "id": "44a30694-2d3d-462a-b0eb-778b1aa6f44d",
   "metadata": {},
   "source": [
    "3. Write a Python program that converts temperatures from Celsius to\n",
    "Fahrenheit. Take the temperature in Celsius as input, store it in a variable,\n",
    "convert it to Fahrenheit, and display the result."
   ]
  },
  {
   "cell_type": "code",
   "execution_count": 1,
   "id": "e5b7e6a5-cd88-420e-8769-8affca706355",
   "metadata": {},
   "outputs": [
    {
     "name": "stdin",
     "output_type": "stream",
     "text": [
      "Enter temperature in Celsius:  32\n"
     ]
    },
    {
     "name": "stdout",
     "output_type": "stream",
     "text": [
      "temeperature in celcuis: 32.0\n",
      "Temperature in Fahrenheit: 89.6\n"
     ]
    }
   ],
   "source": [
    "# Taking input from the user\n",
    "celsius = float(input(\"Enter temperature in Celsius: \"))\n",
    "print('temeperature in celcuis:', celsius)       \n",
    "# Converting Celsius to Fahrenheit\n",
    "fahrenheit = (celsius * 9/5) + 32\n",
    "\n",
    "# Displaying the result\n",
    "print(\"Temperature in Fahrenheit:\", fahrenheit)\n",
    "\n",
    "\n"
   ]
  },
  {
   "cell_type": "markdown",
   "id": "61f3bf80-7bc3-443f-818f-9f6ac6f6d5f3",
   "metadata": {},
   "source": [
    "TOPIC: String Based Questions"
   ]
  },
  {
   "cell_type": "markdown",
   "id": "0df04f8d-3f0f-4944-be66-60e9c5e5094e",
   "metadata": {},
   "source": [
    "1. Write a Python program that takes a string as input and prints the length of\n",
    "the string."
   ]
  },
  {
   "cell_type": "code",
   "execution_count": 2,
   "id": "0bf024f3-f60a-4e80-b747-1d7bf81328ff",
   "metadata": {},
   "outputs": [
    {
     "name": "stdin",
     "output_type": "stream",
     "text": [
      "Enter a string:  this is data science pro course\n"
     ]
    },
    {
     "name": "stdout",
     "output_type": "stream",
     "text": [
      "your string is : this is data science pro course\n",
      "Length of the string: 31\n"
     ]
    }
   ],
   "source": [
    "# Taking input from the user\n",
    "input_string = input(\"Enter a string: \")\n",
    "print(\"your string is :\", input_string)\n",
    "# Calculating the length of the string\n",
    "string_length = len(input_string)  # it will count the spaces as well \n",
    "\n",
    "# Displaying the result\n",
    "print(\"Length of the string:\", string_length)"
   ]
  },
  {
   "cell_type": "code",
   "execution_count": 3,
   "id": "bcc06bb3-840b-40d3-80be-8e61672a6c17",
   "metadata": {},
   "outputs": [
    {
     "name": "stdin",
     "output_type": "stream",
     "text": [
      "Enter a string:  this is data science pro course\n"
     ]
    },
    {
     "name": "stdout",
     "output_type": "stream",
     "text": [
      "Length of the string: 31\n"
     ]
    }
   ],
   "source": [
    "#the above code can be written in one line of code \n",
    "print(\"Length of the string:\", len(input(\"Enter a string: \")))"
   ]
  },
  {
   "cell_type": "markdown",
   "id": "b9e28b39-baf7-43cd-afcc-2c4acc47a9ea",
   "metadata": {},
   "source": [
    "2. Create a program that takes a sentence from the user and counts the number\n",
    "of vowels (a, e, i, o, u) in the string."
   ]
  },
  {
   "cell_type": "code",
   "execution_count": 5,
   "id": "845291a4-6010-4c51-958b-6a6432f951bd",
   "metadata": {},
   "outputs": [
    {
     "name": "stdin",
     "output_type": "stream",
     "text": [
      "Enter a sentence:  this is a data science course assignment one\n"
     ]
    },
    {
     "name": "stdout",
     "output_type": "stream",
     "text": [
      "your sentense is: this is a data science course assignment one\n",
      "Number of vowels: 16\n"
     ]
    }
   ],
   "source": [
    "# Taking input from the user\n",
    "sentence = input(\"Enter a sentence: \")\n",
    "print('your sentense is:',sentence)\n",
    "# Counting the number of vowels using count() method\n",
    "vowel_count = sentence.lower().count(\"a\") + sentence.lower().count(\"e\") + sentence.lower().count(\"i\") + sentence.lower().count(\"o\") + sentence.lower().count(\"u\")\n",
    "\n",
    "# Displaying the result\n",
    "print(\"Number of vowels:\", vowel_count)"
   ]
  },
  {
   "cell_type": "code",
   "execution_count": 6,
   "id": "2f5abcae-2d15-4b4b-8341-dfbc0b03a1cc",
   "metadata": {},
   "outputs": [
    {
     "name": "stdin",
     "output_type": "stream",
     "text": [
      "Enter a sentence:  this is a data science course assignment one\n"
     ]
    },
    {
     "name": "stdout",
     "output_type": "stream",
     "text": [
      "Number of vowels: 16\n"
     ]
    }
   ],
   "source": [
    "#we can use the for loop for the above code as follows \n",
    "# Taking input from the user\n",
    "sentence = input(\"Enter a sentence: \")\n",
    "\n",
    "# Counting the number of vowels\n",
    "vowel_count = sum(1 for char in sentence if char.lower() in \"aeiou\")\n",
    "\n",
    "# Displaying the result\n",
    "print(\"Number of vowels:\", vowel_count)"
   ]
  },
  {
   "cell_type": "markdown",
   "id": "b8d4158f-44bc-4877-8529-670dce1882ed",
   "metadata": {},
   "source": [
    "3. Given a string, reverse the order of characters using string slicing and print\n",
    "the reversed string."
   ]
  },
  {
   "cell_type": "code",
   "execution_count": 8,
   "id": "9b7c0f6c-7357-4f39-886c-9ef242926dd2",
   "metadata": {},
   "outputs": [
    {
     "name": "stdin",
     "output_type": "stream",
     "text": [
      "Enter a string:  this is a data science course assignment one\n"
     ]
    },
    {
     "name": "stdout",
     "output_type": "stream",
     "text": [
      "your sentense is: this is a data science course assignment one\n",
      "Reversed string: eno tnemngissa esruoc ecneics atad a si siht\n"
     ]
    }
   ],
   "source": [
    "# Taking input from the user\n",
    "input_string = input(\"Enter a string: \")\n",
    "print('your sentense is:',input_string)\n",
    "# Reversing the string using string slicing\n",
    "reversed_string = input_string[::-1]\n",
    "\n",
    "# Displaying the reversed string\n",
    "print(\"Reversed string:\", reversed_string)#"
   ]
  },
  {
   "cell_type": "markdown",
   "id": "cad5528d-8d78-4eef-b1a0-9b684246d2b0",
   "metadata": {},
   "source": [
    "4. Write a program that takes a string as input and checks if it is a palindrome\n",
    "(reads the same forwards and backwards)."
   ]
  },
  {
   "cell_type": "code",
   "execution_count": 9,
   "id": "486558e0-d8fc-4b36-bcec-de97ce849401",
   "metadata": {},
   "outputs": [
    {
     "name": "stdin",
     "output_type": "stream",
     "text": [
      "Enter a string here :  print('your sentense is:',input_string)\n"
     ]
    },
    {
     "name": "stdout",
     "output_type": "stream",
     "text": [
      "your string is: print('your sentense is:',input_string)\n",
      "your entered string is not a palindrome.\n"
     ]
    }
   ],
   "source": [
    "# Taking input from the user\n",
    "input_string = input(\"Enter a string here : \")\n",
    "print('your string is:',input_string)\n",
    "# Removing spaces and converting to lowercase for comparison\n",
    "cleaned_string = input_string.replace(\" \", \"\").lower()\n",
    "\n",
    "# Reversing the cleaned string\n",
    "reversed_string = cleaned_string[::-1]\n",
    "\n",
    "# Checking if the string is a palindrome\n",
    "if cleaned_string == reversed_string:\n",
    "    print(\"your entered string is a palindrome.\")\n",
    "else:\n",
    "    print(\"your entered string is not a palindrome.\")"
   ]
  },
  {
   "cell_type": "code",
   "execution_count": 16,
   "id": "918c52be-2f5f-4e27-ac01-897a55d7ece3",
   "metadata": {},
   "outputs": [
    {
     "name": "stdin",
     "output_type": "stream",
     "text": [
      "Enter a string here :  Yo banana boy\n"
     ]
    },
    {
     "name": "stdout",
     "output_type": "stream",
     "text": [
      "your entered string is a palindrome.\n"
     ]
    }
   ],
   "source": [
    "# Taking input from the user\n",
    "input_string = input(\"Enter a string here : \")\n",
    "\n",
    "# Removing spaces and converting to lowercase for comparison\n",
    "cleaned_string = input_string.replace(\" \", \"\").lower()\n",
    "\n",
    "# Reversing the cleaned string\n",
    "reversed_string = cleaned_string[::-1]\n",
    "\n",
    "# Checking if the string is a palindrome\n",
    "if cleaned_string == reversed_string:\n",
    "    print(\"your entered string is a palindrome.\")\n",
    "else:\n",
    "    print(\"your entered string is not a palindrome.\")"
   ]
  },
  {
   "cell_type": "markdown",
   "id": "3632f628-ff72-4d73-b01b-948a5eacfd60",
   "metadata": {},
   "source": [
    "5. Create a program that takes a string as input and removes all the spaces from\n",
    "it. Print the modified string without spaces."
   ]
  },
  {
   "cell_type": "code",
   "execution_count": 17,
   "id": "2b656ba2-f7f8-4b1d-b1c3-d6fb723ae740",
   "metadata": {},
   "outputs": [
    {
     "name": "stdin",
     "output_type": "stream",
     "text": [
      "Enter a string:  Yo banana boy\n"
     ]
    },
    {
     "name": "stdout",
     "output_type": "stream",
     "text": [
      "Modified string: Yobananaboy\n"
     ]
    }
   ],
   "source": [
    "# Taking input from the user\n",
    "input_string = input(\"Enter a string: \")\n",
    "\n",
    "# Removing spaces from the input string\n",
    "modified_string = input_string.replace(\" \", \"\")\n",
    "\n",
    "# Displaying the modified string\n",
    "print(\"Modified string:\", modified_string)"
   ]
  },
  {
   "cell_type": "code",
   "execution_count": null,
   "id": "578e6584-d35e-4d00-afcf-c3d6c5561310",
   "metadata": {},
   "outputs": [],
   "source": []
  },
  {
   "cell_type": "code",
   "execution_count": null,
   "id": "5f177e57-40bc-4332-a951-da0b5c3cd2c4",
   "metadata": {},
   "outputs": [],
   "source": []
  }
 ],
 "metadata": {
  "kernelspec": {
   "display_name": "Python 3 (ipykernel)",
   "language": "python",
   "name": "python3"
  },
  "language_info": {
   "codemirror_mode": {
    "name": "ipython",
    "version": 3
   },
   "file_extension": ".py",
   "mimetype": "text/x-python",
   "name": "python",
   "nbconvert_exporter": "python",
   "pygments_lexer": "ipython3",
   "version": "3.10.8"
  }
 },
 "nbformat": 4,
 "nbformat_minor": 5
}
