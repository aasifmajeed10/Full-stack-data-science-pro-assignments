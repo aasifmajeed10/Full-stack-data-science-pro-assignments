{
  "nbformat": 4,
  "nbformat_minor": 0,
  "metadata": {
    "colab": {
      "provenance": []
    },
    "kernelspec": {
      "name": "python3",
      "display_name": "Python 3"
    },
    "language_info": {
      "name": "python"
    }
  },
  "cells": [
    {
      "cell_type": "markdown",
      "source": [
        "## **<font color='darkgreen'>Full Stack Data Science Pro**\n",
        "\n",
        "Assignment 5 :  Python assignment\n",
        "\n",
        "## **<font color='darkgreen'>Name : Aasif Majeed**"
      ],
      "metadata": {
        "id": "i6j84NbVotcS"
      }
    },
    {
      "cell_type": "markdown",
      "source": [
        "# **<font color='blue'>For Loop :-**\n"
      ],
      "metadata": {
        "id": "ZDA25sEapXjp"
      }
    },
    {
      "cell_type": "markdown",
      "source": [
        "## **1.Write a Python program to print numbers from 1 to 10 using a for loop.**\n"
      ],
      "metadata": {
        "id": "03ywvooVpbzr"
      }
    },
    {
      "cell_type": "code",
      "execution_count": null,
      "metadata": {
        "id": "Zhfq39E2or93",
        "colab": {
          "base_uri": "https://localhost:8080/"
        },
        "outputId": "a4c8ab4c-2d49-47eb-e03a-27e19bebded5"
      },
      "outputs": [
        {
          "output_type": "stream",
          "name": "stdout",
          "text": [
            "1\n",
            "2\n",
            "3\n",
            "4\n",
            "5\n",
            "6\n",
            "7\n",
            "8\n",
            "9\n",
            "10\n"
          ]
        }
      ],
      "source": [
        "# Python program to print numbers from 1 to 10 using a for loop\n",
        "\n",
        "for i in range(1, 11):\n",
        "    print(i)"
      ]
    },
    {
      "cell_type": "markdown",
      "source": [
        "## **2.Explain the difference between a for loop and a while loop in Python.**"
      ],
      "metadata": {
        "id": "q-Lz6QpBElVQ"
      }
    },
    {
      "cell_type": "markdown",
      "source": [
        "<font color='orange'>1.Syntax:\n",
        "\n",
        "For Loop: In Python, the syntax for a for loop involves iterating over a sequence (such as a list, tuple, string, or range) or any iterable object. It follows the format for item in iterable.\n",
        "While Loop: The while loop, on the other hand, uses a condition to repeatedly execute a block of code until the condition evaluates to False. Its syntax is while condition:\n",
        "\n",
        "<font color='orange'>2.Initialization:\n",
        "\n",
        "For Loop: In a for loop, there's no explicit initialization of the loop variable required. The loop variable is automatically assigned each value from the iterable in each iteration.\n",
        "While Loop: In a while loop, you need to initialize any variables before entering the loop, and the loop continues executing until the condition becomes False.\n",
        "\n",
        "<font color='orange'>3.Control Flow:\n",
        "\n",
        "For Loop: For loops are typically used when you know the number of iterations beforehand, such as iterating over elements of a list, characters of a string, or a range of numbers.\n",
        "While Loop: While loops are useful when you don't know in advance how many times you need to iterate. They continue executing until a certain condition is met.\n",
        "\n",
        "<font color='orange'>4.Termination:\n",
        "\n",
        "For Loop: For loops terminate automatically when all elements in the iterable have been processed.\n",
        "While Loop: While loops continue executing until the condition becomes False. If the condition is never met, it can potentially lead to an infinite loop unless there's a mechanism to break out of it.\n",
        "\n",
        "<font color='orange'>5.Suitability:\n",
        "\n",
        "For Loop: For loops are commonly used when you know the number of iterations in advance or when you need to iterate over a collection of items.\n",
        "While Loop: While loops are often used when the number of iterations is uncertain or when you need to repeatedly execute a block of code until a specific condition is met."
      ],
      "metadata": {
        "id": "7sufnrWvpcca"
      }
    },
    {
      "cell_type": "markdown",
      "source": [
        "## **3.Write a Python program to calculate the sum of all numbers from 1 to 100 using a for loop.**\n"
      ],
      "metadata": {
        "id": "aGNljN33Evex"
      }
    },
    {
      "cell_type": "code",
      "source": [
        "# Python program to calculate the sum of all numbers from 1 to 100 using a for loop\n",
        "\n",
        "# Initialize a variable to store the sum\n",
        "total_sum = 0\n",
        "\n",
        "# Loop through numbers from 1 to 100\n",
        "for num in range(1, 101):\n",
        "    # Add each number to the total sum\n",
        "    total_sum += num\n",
        "\n",
        "# Print the sum\n",
        "print(\"The sum of all numbers from 1 to 100 is:\", total_sum)"
      ],
      "metadata": {
        "id": "NYOzBAa_pcoo",
        "colab": {
          "base_uri": "https://localhost:8080/"
        },
        "outputId": "31aa5e53-2391-4732-a309-322e45177d4b"
      },
      "execution_count": null,
      "outputs": [
        {
          "output_type": "stream",
          "name": "stdout",
          "text": [
            "The sum of all numbers from 1 to 100 is: 5050\n"
          ]
        }
      ]
    },
    {
      "cell_type": "markdown",
      "source": [
        "## **4.How do you iterate through a list using a for loop in Python?**\n"
      ],
      "metadata": {
        "id": "cyUVwL6Epcyg"
      }
    },
    {
      "cell_type": "markdown",
      "source": [
        "<font color='orange'>In Python, you can iterate through a list using a for loop by following these steps:\n",
        "\n",
        "\n",
        "\n",
        "1.   Initialize a for loop with the for keyword.\n",
        "2.  Specify a loop variable that will take on each element of the list in each iteration.\n",
        "\n",
        "1.   Use the in keyword followed by the list you want to iterate over.\n",
        "2.  Indent the block of code you want to execute for each element of the list.\n",
        "\n",
        "\n",
        "\n",
        "\n",
        "\n",
        "\n"
      ],
      "metadata": {
        "id": "kp-qItXcFRZU"
      }
    },
    {
      "cell_type": "code",
      "source": [
        ",,,\n",
        "for element in list_name:\n",
        "    # Code block to execute for each element\n",
        "    # Use the variable 'element' to access the current element\n",
        ",,,\n"
      ],
      "metadata": {
        "id": "RQno8u3kpc8D"
      },
      "execution_count": null,
      "outputs": []
    },
    {
      "cell_type": "markdown",
      "source": [
        "## **5.Write a Python program to find the product of all elements in a list using a for loop.**\n"
      ],
      "metadata": {
        "id": "E31dge9bpdIt"
      }
    },
    {
      "cell_type": "code",
      "source": [
        "# Python program to find the product of all elements in a list using a for loop\n",
        "\n",
        "# Define the list\n",
        "my_list = [2, 3, 5, 7, 11]\n",
        "\n",
        "# Initialize the product variable to store the result\n",
        "product = 1\n",
        "\n",
        "# Iterate through the list\n",
        "for num in my_list:\n",
        "    # Multiply each element with the product\n",
        "    product *= num\n",
        "\n",
        "# Print the product\n",
        "print(\"The product of all elements in the list is:\", product)\n"
      ],
      "metadata": {
        "id": "xKDhvvhSpdUU",
        "colab": {
          "base_uri": "https://localhost:8080/"
        },
        "outputId": "dd562ac7-aea9-4008-f269-ac07be3f4f9e"
      },
      "execution_count": null,
      "outputs": [
        {
          "output_type": "stream",
          "name": "stdout",
          "text": [
            "The product of all elements in the list is: 2310\n"
          ]
        }
      ]
    },
    {
      "cell_type": "markdown",
      "source": [
        "## **6.Create a Python program that prints all even numbers from 1 to 20 using a for loop.**\n"
      ],
      "metadata": {
        "id": "6EYntujupdio"
      }
    },
    {
      "cell_type": "code",
      "source": [
        "# Python program to print all even numbers from 1 to 20 using a for loop\n",
        "\n",
        "# Iterate through numbers from 1 to 20\n",
        "for num in range(1, 21):\n",
        "    # Check if the number is even\n",
        "    if num % 2 == 0:\n",
        "        # Print the even number\n",
        "        print(num)\n"
      ],
      "metadata": {
        "id": "vwEKc8Hhpdz8",
        "colab": {
          "base_uri": "https://localhost:8080/"
        },
        "outputId": "bb14aa65-7954-4ea6-db07-02a6a957b7db"
      },
      "execution_count": null,
      "outputs": [
        {
          "output_type": "stream",
          "name": "stdout",
          "text": [
            "2\n",
            "4\n",
            "6\n",
            "8\n",
            "10\n",
            "12\n",
            "14\n",
            "16\n",
            "18\n",
            "20\n"
          ]
        }
      ]
    },
    {
      "cell_type": "markdown",
      "source": [
        "## **7.Write a Python program that calculates the factorial of a number using a for loop.**\n"
      ],
      "metadata": {
        "id": "A4IdKduSpeCG"
      }
    },
    {
      "cell_type": "code",
      "source": [
        "# Python program to calculate the factorial of a number using a for loop\n",
        "\n",
        "# Function to calculate factorial\n",
        "def factorial(n):\n",
        "    # Initialize the factorial value to 1\n",
        "    fact = 1\n",
        "\n",
        "    # Iterate from 1 to n (inclusive)\n",
        "    for i in range(1, n + 1):\n",
        "        # Multiply each number from 1 to n\n",
        "        fact *= i\n",
        "\n",
        "    # Return the factorial value\n",
        "    return fact\n",
        "\n",
        "# Input the number from the user\n",
        "num = int(input(\"Enter a number to calculate its factorial: \"))\n",
        "\n",
        "# Calculate the factorial using the factorial function\n",
        "result = factorial(num)\n",
        "\n",
        "# Print the factorial\n",
        "print(\"The factorial of\", num, \"is:\", result)\n"
      ],
      "metadata": {
        "id": "tz_ddAW5peMu",
        "colab": {
          "base_uri": "https://localhost:8080/"
        },
        "outputId": "ab894a32-fa6e-45cf-c1ba-e0debe6172a4"
      },
      "execution_count": null,
      "outputs": [
        {
          "output_type": "stream",
          "name": "stdout",
          "text": [
            "Enter a number to calculate its factorial: 4\n",
            "The factorial of 4 is: 24\n"
          ]
        }
      ]
    },
    {
      "cell_type": "markdown",
      "source": [
        "## **8.How can you iterate through the characters of a string using a for loop in Python?**"
      ],
      "metadata": {
        "id": "K2rn7O54peYu"
      }
    },
    {
      "cell_type": "markdown",
      "source": [
        "<font color='orange'>In Python, you can iterate through the characters of a string using a for loop in a similar way to iterating through a list. Here's how you can do it:"
      ],
      "metadata": {
        "id": "OQzzckAYGwOH"
      }
    },
    {
      "cell_type": "code",
      "source": [
        "# Define a string\n",
        "my_string = \"Hello, world!\"\n",
        "\n",
        "# Iterate through the characters of the string\n",
        "for char in my_string:\n",
        "    print(char)\n"
      ],
      "metadata": {
        "id": "SLdDObnhpejN",
        "colab": {
          "base_uri": "https://localhost:8080/"
        },
        "outputId": "3cb8b5ce-9d5e-426d-9dab-742fb325f5ff"
      },
      "execution_count": null,
      "outputs": [
        {
          "output_type": "stream",
          "name": "stdout",
          "text": [
            "H\n",
            "e\n",
            "l\n",
            "l\n",
            "o\n",
            ",\n",
            " \n",
            "w\n",
            "o\n",
            "r\n",
            "l\n",
            "d\n",
            "!\n"
          ]
        }
      ]
    },
    {
      "cell_type": "markdown",
      "source": [
        "In this example:\n",
        "\n",
        "- We have a string my_string containing the text \"Hello, world!\".\n",
        "\n",
        "\n",
        "- We use a for loop to iterate through each character of the string.\n",
        "\n",
        "- In each iteration, the variable char holds the current character, which we print using the print() function.\n"
      ],
      "metadata": {
        "id": "oNXOA2YhpetR"
      }
    },
    {
      "cell_type": "markdown",
      "source": [
        "## **9.Write a Python program to find the largest number in a list using a for loop.**\n"
      ],
      "metadata": {
        "id": "4_49dVQRHE_T"
      }
    },
    {
      "cell_type": "code",
      "source": [
        "# Python program to find the largest number in a list using a for loop\n",
        "\n",
        "# Define the list\n",
        "my_list = [12, 45, 67, 23, 90, 56, 78]\n",
        "\n",
        "# Initialize the variable to store the largest number\n",
        "largest = my_list[0]\n",
        "\n",
        "# Iterate through the list\n",
        "for num in my_list:\n",
        "    # Check if the current number is greater than the current largest number\n",
        "    if num > largest:\n",
        "        # If it is, update the largest number\n",
        "        largest = num\n",
        "\n",
        "# Print the largest number\n",
        "print(\"The largest number in the list is:\", largest)\n"
      ],
      "metadata": {
        "id": "5FUGy2y3pe2A",
        "colab": {
          "base_uri": "https://localhost:8080/"
        },
        "outputId": "5e3e9561-0e58-43c3-9e92-d4fef328ddc8"
      },
      "execution_count": null,
      "outputs": [
        {
          "output_type": "stream",
          "name": "stdout",
          "text": [
            "The largest number in the list is: 90\n"
          ]
        }
      ]
    },
    {
      "cell_type": "markdown",
      "source": [
        "## **10.Create a Python program that prints the Fibonacci sequence up to a specified limit using a for loop.**\n"
      ],
      "metadata": {
        "id": "vJbioLrEpe_E"
      }
    },
    {
      "cell_type": "code",
      "source": [
        "# Python program to print the Fibonacci sequence up to a specified limit using a for loop\n",
        "\n",
        "def fibonacci(limit):\n",
        "    # Initialize the first two Fibonacci numbers\n",
        "    fib1, fib2 = 0, 1\n",
        "\n",
        "    # Print the first two Fibonacci numbers\n",
        "    print(fib1, fib2, end=\" \")\n",
        "\n",
        "    # Iterate to generate Fibonacci numbers\n",
        "    for _ in range(2, limit):\n",
        "        fib_next = fib1 + fib2\n",
        "        # Break the loop if the next Fibonacci number exceeds the limit\n",
        "        if fib_next > limit:\n",
        "            break\n",
        "        # Print the next Fibonacci number\n",
        "        print(fib_next, end=\" \")\n",
        "        # Update fib1 and fib2 for the next iteration\n",
        "        fib1, fib2 = fib2, fib_next\n",
        "\n",
        "# Input the limit from the user\n",
        "limit = int(input(\"Enter the limit for the Fibonacci sequence: \"))\n",
        "\n",
        "# Print the Fibonacci sequence up to the specified limit\n",
        "print(\"Fibonacci sequence up to limit\", limit, \":\")\n",
        "fibonacci(limit)\n"
      ],
      "metadata": {
        "id": "3GhLntmSpfHU",
        "colab": {
          "base_uri": "https://localhost:8080/"
        },
        "outputId": "5b923b35-38db-42f5-97b7-9dd99b84187f"
      },
      "execution_count": null,
      "outputs": [
        {
          "output_type": "stream",
          "name": "stdout",
          "text": [
            "Enter the limit for the Fibonacci sequence: 10\n",
            "Fibonacci sequence up to limit 10 :\n",
            "0 1 1 2 3 5 8 "
          ]
        }
      ]
    },
    {
      "cell_type": "markdown",
      "source": [
        "## **11.Write a Python program to count the number of vowels in a given string using a for loop.**\n"
      ],
      "metadata": {
        "id": "p2bnJuMdpfQY"
      }
    },
    {
      "cell_type": "code",
      "source": [
        "# Python program to count the number of vowels in a given string using a for loop\n",
        "\n",
        "def count_vowels(input_string):\n",
        "    # Define a string containing all vowels\n",
        "    vowels = \"aeiouAEIOU\"\n",
        "\n",
        "    # Initialize a variable to store the count of vowels\n",
        "    vowel_count = 0\n",
        "\n",
        "    # Iterate through each character in the input string\n",
        "    for char in input_string:\n",
        "        # Check if the character is a vowel\n",
        "        if char in vowels:\n",
        "            # If it is, increment the vowel count\n",
        "            vowel_count += 1\n",
        "\n",
        "    # Return the total count of vowels\n",
        "    return vowel_count\n",
        "\n",
        "# Input the string from the user\n",
        "input_string = input(\"Enter a string: \")\n",
        "\n",
        "# Call the count_vowels function and print the result\n",
        "print(\"Number of vowels in the string:\", count_vowels(input_string))\n"
      ],
      "metadata": {
        "id": "DMUcmB_DpfYO",
        "colab": {
          "base_uri": "https://localhost:8080/"
        },
        "outputId": "c4e52f46-e459-4eea-e63c-d41cca8f3209"
      },
      "execution_count": null,
      "outputs": [
        {
          "output_type": "stream",
          "name": "stdout",
          "text": [
            "Enter a string: aasif majeed\n",
            "Number of vowels in the string: 6\n"
          ]
        }
      ]
    },
    {
      "cell_type": "markdown",
      "source": [
        "## **12.Create a Python program that generates a multiplication table for a given number using a for loop.**\n"
      ],
      "metadata": {
        "id": "mn0B2lI6pfgg"
      }
    },
    {
      "cell_type": "code",
      "source": [
        "# Python program to generate a multiplication table for a given number using a for loop\n",
        "\n",
        "def multiplication_table(number):\n",
        "    # Print the header\n",
        "    print(\"Multiplication table for\", number)\n",
        "\n",
        "    # Iterate from 1 to 10 (inclusive)\n",
        "    for i in range(1, 11):\n",
        "        # Calculate the product of the number and the current iteration value\n",
        "        product = number * i\n",
        "        # Print the multiplication table entry\n",
        "        print(number, \"x\", i, \"=\", product)\n",
        "\n",
        "# Input the number from the user\n",
        "number = int(input(\"Enter a number to generate its multiplication table: \"))\n",
        "\n",
        "# Call the multiplication_table function with the input number\n",
        "multiplication_table(number)\n"
      ],
      "metadata": {
        "id": "NwaOLU5Bpfog",
        "colab": {
          "base_uri": "https://localhost:8080/"
        },
        "outputId": "9060a80e-be72-44d6-f43b-4cb83ff18e0f"
      },
      "execution_count": null,
      "outputs": [
        {
          "output_type": "stream",
          "name": "stdout",
          "text": [
            "Enter a number to generate its multiplication table: 2\n",
            "Multiplication table for 2\n",
            "2 x 1 = 2\n",
            "2 x 2 = 4\n",
            "2 x 3 = 6\n",
            "2 x 4 = 8\n",
            "2 x 5 = 10\n",
            "2 x 6 = 12\n",
            "2 x 7 = 14\n",
            "2 x 8 = 16\n",
            "2 x 9 = 18\n",
            "2 x 10 = 20\n"
          ]
        }
      ]
    },
    {
      "cell_type": "markdown",
      "source": [
        "## **13.Write a Python program to reverse a list using a for loop.**\n",
        "\n"
      ],
      "metadata": {
        "id": "XIv2gYRlpfwG"
      }
    },
    {
      "cell_type": "code",
      "source": [
        "# Python program to reverse a list using a for loop\n",
        "\n",
        "def reverse_list(input_list):\n",
        "    # Initialize an empty list to store the reversed elements\n",
        "    reversed_list = []\n",
        "\n",
        "    # Iterate through the input list in reverse order\n",
        "    for i in range(len(input_list) - 1, -1, -1):\n",
        "        # Append each element to the reversed list\n",
        "        reversed_list.append(input_list[i])\n",
        "\n",
        "    # Return the reversed list\n",
        "    return reversed_list\n",
        "\n",
        "# Input the list from the user\n",
        "input_list = input(\"Enter elements of the list separated by spaces: \").split()\n",
        "\n",
        "# Convert input elements to integers (assuming input elements are integers)\n",
        "input_list = [int(x) for x in input_list]\n",
        "\n",
        "# Reverse the list using the reverse_list function\n",
        "reversed_list = reverse_list(input_list)\n",
        "\n",
        "# Print the reversed list\n",
        "print(\"Reversed list:\", reversed_list)\n"
      ],
      "metadata": {
        "id": "epvCvvC9pf4M",
        "colab": {
          "base_uri": "https://localhost:8080/"
        },
        "outputId": "844bd099-178b-47b3-b9f7-d6fce9325ace"
      },
      "execution_count": null,
      "outputs": [
        {
          "output_type": "stream",
          "name": "stdout",
          "text": [
            "Enter elements of the list separated by spaces: 2 5 5 7 888 55 \n",
            "Reversed list: [55, 888, 7, 5, 5, 2]\n"
          ]
        }
      ]
    },
    {
      "cell_type": "markdown",
      "source": [
        "## **14.Write a Python program to find the common elements between two lists using a for loop.**\n"
      ],
      "metadata": {
        "id": "NoziS6AFpgGH"
      }
    },
    {
      "cell_type": "code",
      "source": [
        "# Python program to find the common elements between two lists using a for loop\n",
        "\n",
        "def find_common_elements(list1, list2):\n",
        "    # Initialize an empty list to store the common elements\n",
        "    common_elements = []\n",
        "\n",
        "    # Iterate through each element in the first list\n",
        "    for element in list1:\n",
        "        # Check if the element is also present in the second list\n",
        "        if element in list2:\n",
        "            # If it is, add it to the list of common elements\n",
        "            common_elements.append(element)\n",
        "\n",
        "    # Return the list of common elements\n",
        "    return common_elements\n",
        "\n",
        "# Input the elements of the first list from the user\n",
        "list1 = input(\"Enter elements of the first list separated by spaces: \").split()\n",
        "\n",
        "# Input the elements of the second list from the user\n",
        "list2 = input(\"Enter elements of the second list separated by spaces: \").split()\n",
        "\n",
        "# Convert input elements to integers (assuming input elements are integers)\n",
        "list1 = [int(x) for x in list1]\n",
        "list2 = [int(x) for x in list2]\n",
        "\n",
        "# Find the common elements between the two lists using the find_common_elements function\n",
        "common_elements = find_common_elements(list1, list2)\n",
        "\n",
        "# Print the common elements\n",
        "print(\"Common elements between the two lists:\", common_elements)\n"
      ],
      "metadata": {
        "id": "Ch0y_xq2pgP2",
        "colab": {
          "base_uri": "https://localhost:8080/"
        },
        "outputId": "68b2701f-6559-4cc0-d68f-51faf915f388"
      },
      "execution_count": null,
      "outputs": [
        {
          "output_type": "stream",
          "name": "stdout",
          "text": [
            "Enter elements of the first list separated by spaces:  1 3 2 5 6 4\n",
            "Enter elements of the second list separated by spaces:  7 9 7 4 2 3 1\n",
            "Common elements between the two lists: [1, 3, 2, 4]\n"
          ]
        }
      ]
    },
    {
      "cell_type": "markdown",
      "source": [
        "## **15.Explain how to use a for loop to iterate through the keys and values of a dictionary in Python.**\n"
      ],
      "metadata": {
        "id": "vAdt1kxwpgx9"
      }
    },
    {
      "cell_type": "markdown",
      "source": [
        "In Python, you can use a for loop to iterate through the keys and values of a dictionary using the items() method. Here's how you can do it:"
      ],
      "metadata": {
        "id": "3UkEfbWWI62F"
      }
    },
    {
      "cell_type": "code",
      "source": [
        "# Define a dictionary\n",
        "my_dict = {\"apple\": 3, \"banana\": 2, \"orange\": 5}\n",
        "\n",
        "# Iterate through keys and values using a for loop\n",
        "for key, value in my_dict.items():\n",
        "    print(\"Key:\", key, \", Value:\", value)\n"
      ],
      "metadata": {
        "id": "Y2j1-jhBpg-A",
        "colab": {
          "base_uri": "https://localhost:8080/"
        },
        "outputId": "b64b2a1a-2892-4f66-f24f-027734ec8b42"
      },
      "execution_count": null,
      "outputs": [
        {
          "output_type": "stream",
          "name": "stdout",
          "text": [
            "Key: apple , Value: 3\n",
            "Key: banana , Value: 2\n",
            "Key: orange , Value: 5\n"
          ]
        }
      ]
    },
    {
      "cell_type": "markdown",
      "source": [
        "- We have a dictionary my_dict containing key-value pairs representing fruits and their corresponding quantities.\n",
        "\n",
        "- We use a for loop to iterate through the items (key-value pairs) of the dictionary using the items() method.\n",
        "\n",
        "- In each iteration, the loop variable key holds the key of the current item, and the loop variable value holds the corresponding value.\n",
        "\n",
        "- We print the key and value pairs inside the loop.\n",
        "The output of this code will display each key-value pair of the dictionary, with the key followed by the corresponding value."
      ],
      "metadata": {
        "id": "E8rS_1DLphQC"
      }
    },
    {
      "cell_type": "markdown",
      "source": [
        "## **16.Write a Python program to find the GCD (Greatest Common Divisor) of two numbers using a for loop.**\n"
      ],
      "metadata": {
        "id": "sgxQhpqeJHn-"
      }
    },
    {
      "cell_type": "code",
      "source": [
        "# Python program to find the Greatest Common Divisor (GCD) of two numbers using a for loop\n",
        "\n",
        "def find_gcd(num1, num2):\n",
        "    # Find the minimum of the two numbers\n",
        "    min_num = min(num1, num2)\n",
        "\n",
        "    # Initialize a variable to store the GCD\n",
        "    gcd = 1\n",
        "\n",
        "    # Iterate from 1 to the minimum of the two numbers\n",
        "    for i in range(1, min_num + 1):\n",
        "        # Check if both numbers are divisible by the current number in the iteration\n",
        "        if num1 % i == 0 and num2 % i == 0:\n",
        "            # If they are, update the GCD\n",
        "            gcd = i\n",
        "\n",
        "    # Return the GCD\n",
        "    return gcd\n",
        "\n",
        "# Input the two numbers from the user\n",
        "num1 = int(input(\"Enter the first number: \"))\n",
        "num2 = int(input(\"Enter the second number: \"))\n",
        "\n",
        "# Find the GCD of the two numbers using the find_gcd function\n",
        "gcd = find_gcd(num1, num2)\n",
        "\n",
        "# Print the GCD\n",
        "print(\"The Greatest Common Divisor (GCD) of\", num1, \"and\", num2, \"is:\", gcd)\n"
      ],
      "metadata": {
        "id": "DO7Psu9pphcp",
        "colab": {
          "base_uri": "https://localhost:8080/"
        },
        "outputId": "0ba61b44-17dd-4f4f-fa8b-8dfdec67703b"
      },
      "execution_count": null,
      "outputs": [
        {
          "output_type": "stream",
          "name": "stdout",
          "text": [
            "Enter the first number: 455\n",
            "Enter the second number: 899\n",
            "The Greatest Common Divisor (GCD) of 455 and 899 is: 1\n"
          ]
        }
      ]
    },
    {
      "cell_type": "markdown",
      "source": [
        "## **17.Create a Python program that checks if a string is a palindrome using a for loop.**"
      ],
      "metadata": {
        "id": "hb32bXbmphrS"
      }
    },
    {
      "cell_type": "code",
      "source": [
        "# Python program to check if a string is a palindrome using a for loop\n",
        "\n",
        "def is_palindrome(input_string):\n",
        "    # Convert the input string to lowercase and remove whitespace\n",
        "    input_string = input_string.lower().replace(\" \", \"\")\n",
        "\n",
        "    # Initialize two pointers: one at the beginning and one at the end of the string\n",
        "    start = 0\n",
        "    end = len(input_string) - 1\n",
        "\n",
        "    # Iterate through the string from both ends towards the center\n",
        "    while start < end:\n",
        "        # Check if characters at the current positions are equal\n",
        "        if input_string[start] != input_string[end]:\n",
        "            # If not equal, the string is not a palindrome\n",
        "            return False\n",
        "        # Move the pointers towards the center\n",
        "        start += 1\n",
        "        end -= 1\n",
        "\n",
        "    # If the loop completes without returning False, the string is a palindrome\n",
        "    return True\n",
        "\n",
        "# Input the string from the user\n",
        "input_string = input(\"Enter a string: \")\n",
        "\n",
        "# Check if the input string is a palindrome using the is_palindrome function\n",
        "if is_palindrome(input_string):\n",
        "    print(\"The string is a palindrome.\")\n",
        "else:\n",
        "    print(\"The string is not a palindrome.\")\n"
      ],
      "metadata": {
        "id": "3-75JnRqph2V",
        "colab": {
          "base_uri": "https://localhost:8080/"
        },
        "outputId": "6af98a8e-e53d-4d26-e680-9039fcc460d5"
      },
      "execution_count": null,
      "outputs": [
        {
          "output_type": "stream",
          "name": "stdout",
          "text": [
            "Enter a string: Aasif Majeed\n",
            "The string is not a palindrome.\n"
          ]
        }
      ]
    },
    {
      "cell_type": "markdown",
      "source": [
        "## **18.Write a Python program to remove duplicates from a list using a for loop.**\n"
      ],
      "metadata": {
        "id": "SvtU_1GQpkvQ"
      }
    },
    {
      "cell_type": "code",
      "source": [
        "# Python program to remove duplicates from a list using a for loop\n",
        "\n",
        "def remove_duplicates(input_list):\n",
        "    # Initialize an empty list to store unique elements\n",
        "    unique_list = []\n",
        "\n",
        "    # Iterate through the input list\n",
        "    for element in input_list:\n",
        "        # Check if the current element is not already in the unique list\n",
        "        if element not in unique_list:\n",
        "            # If it's not, add it to the unique list\n",
        "            unique_list.append(element)\n",
        "\n",
        "    # Return the list with duplicates removed\n",
        "    return unique_list\n",
        "\n",
        "# Example usage:\n",
        "# Define a list with duplicates\n",
        "my_list = [1, 2, 3, 4, 3, 2, 5, 6, 1]\n",
        "\n",
        "# Remove duplicates from the list using the remove_duplicates function\n",
        "unique_list = remove_duplicates(my_list)\n",
        "\n",
        "# Print the original list and the list with duplicates removed\n",
        "print(\"Original list with duplicates:\", my_list)\n",
        "print(\"List with duplicates removed:\", unique_list)\n"
      ],
      "metadata": {
        "id": "h101AZT6plFW",
        "colab": {
          "base_uri": "https://localhost:8080/"
        },
        "outputId": "c8ba385c-cdac-4d02-be00-a08ec3956d6f"
      },
      "execution_count": null,
      "outputs": [
        {
          "output_type": "stream",
          "name": "stdout",
          "text": [
            "Original list with duplicates: [1, 2, 3, 4, 3, 2, 5, 6, 1]\n",
            "List with duplicates removed: [1, 2, 3, 4, 5, 6]\n"
          ]
        }
      ]
    },
    {
      "cell_type": "markdown",
      "source": [
        "## **19.Create a Python program that counts the number of words in a sentence using a for loop.**\n"
      ],
      "metadata": {
        "id": "VKiRJjKqplTC"
      }
    },
    {
      "cell_type": "code",
      "source": [
        "# Python program to count the number of words in a sentence using a for loop\n",
        "\n",
        "def count_words(sentence):\n",
        "    # Initialize a variable to store the word count\n",
        "    word_count = 0\n",
        "\n",
        "    # Iterate through each character in the sentence\n",
        "    for char in sentence:\n",
        "        # Check if the character is a space\n",
        "        if char == \" \":\n",
        "            # If it is, increment the word count\n",
        "            word_count += 1\n",
        "\n",
        "    # Add 1 to the word count to account for the last word\n",
        "    word_count += 1\n",
        "\n",
        "    # Return the word count\n",
        "    return word_count\n",
        "\n",
        "# Input the sentence from the user\n",
        "sentence = input(\"Enter a sentence: \")\n",
        "\n",
        "# Call the count_words function and print the result\n",
        "print(\"Number of words in the sentence:\", count_words(sentence))\n"
      ],
      "metadata": {
        "id": "uXtSFyalplf6",
        "colab": {
          "base_uri": "https://localhost:8080/"
        },
        "outputId": "62ff92e5-428f-4f5d-f4ba-22832619a7a1"
      },
      "execution_count": null,
      "outputs": [
        {
          "output_type": "stream",
          "name": "stdout",
          "text": [
            "Enter a sentence: aasif majeed\n",
            "Number of words in the sentence: 2\n"
          ]
        }
      ]
    },
    {
      "cell_type": "markdown",
      "source": [
        "## **20.Write a Python program to find the sum of all odd numbers from 1 to 50 using a for loop.**\n"
      ],
      "metadata": {
        "id": "70K3frlopltW"
      }
    },
    {
      "cell_type": "code",
      "source": [
        "# Python program to find the sum of all odd numbers from 1 to 50 using a for loop\n",
        "\n",
        "# Initialize a variable to store the sum of odd numbers\n",
        "sum_odd = 0\n",
        "\n",
        "# Iterate through numbers from 1 to 50\n",
        "for num in range(1, 51):\n",
        "    # Check if the number is odd\n",
        "    if num % 2 != 0:\n",
        "        # If it is odd, add it to the sum\n",
        "        sum_odd += num\n",
        "\n",
        "# Print the sum of odd numbers\n",
        "print(\"The sum of all odd numbers from 1 to 50 is:\", sum_odd)\n"
      ],
      "metadata": {
        "id": "FLL-9JN0pl8a",
        "colab": {
          "base_uri": "https://localhost:8080/"
        },
        "outputId": "e9990369-352d-47a9-9522-a8c1421ab8b9"
      },
      "execution_count": null,
      "outputs": [
        {
          "output_type": "stream",
          "name": "stdout",
          "text": [
            "The sum of all odd numbers from 1 to 50 is: 625\n"
          ]
        }
      ]
    },
    {
      "cell_type": "markdown",
      "source": [
        "## **21.Write a Python program that checks if a given year is a leap year using a for loop.**\n"
      ],
      "metadata": {
        "id": "XCRV5C-OpmKH"
      }
    },
    {
      "cell_type": "code",
      "source": [
        "# Python program to check if a given year is a leap year\n",
        "\n",
        "def is_leap_year(year):\n",
        "    # Leap year if it is divisible by 4 and not divisible by 100, or divisible by 400\n",
        "    if (year % 4 == 0 and year % 100 != 0) or (year % 400 == 0):\n",
        "        return True\n",
        "    else:\n",
        "        return False\n",
        "\n",
        "# Input the year from the user\n",
        "year = int(input(\"Enter a year: \"))\n",
        "\n",
        "# Check if the input year is a leap year using the is_leap_year function\n",
        "if is_leap_year(year):\n",
        "    print(year, \"is a leap year.\")\n",
        "else:\n",
        "    print(year, \"is not a leap year.\")\n"
      ],
      "metadata": {
        "id": "kVIbgAcUpmW_",
        "colab": {
          "base_uri": "https://localhost:8080/"
        },
        "outputId": "86be0dd0-97f8-439b-92a8-f09fda7d1ae6"
      },
      "execution_count": null,
      "outputs": [
        {
          "output_type": "stream",
          "name": "stdout",
          "text": [
            "Enter a year: 2024\n",
            "2024 is a leap year.\n"
          ]
        }
      ]
    },
    {
      "cell_type": "markdown",
      "source": [
        "### **22.Create a Python program that calculates the square root of a number using a for loop.**\n"
      ],
      "metadata": {
        "id": "1zXpZlDQpmji"
      }
    },
    {
      "cell_type": "code",
      "source": [
        "# Python program to calculate the square root of a number using the Babylonian method\n",
        "\n",
        "def square_root(number, tolerance=1e-7):\n",
        "    # Initial guess for the square root\n",
        "    guess = number / 2\n",
        "\n",
        "    # Iterate until the guess is close enough to the actual square root\n",
        "    while abs(guess * guess - number) > tolerance:\n",
        "        # Update the guess using the Babylonian method\n",
        "        guess = (guess + number / guess) / 2\n",
        "\n",
        "    # Return the final guess as the square root\n",
        "    return guess\n",
        "\n",
        "# Input the number from the user\n",
        "number = float(input(\"Enter a number to calculate its square root: \"))\n",
        "\n",
        "# Calculate the square root using the square_root function\n",
        "result = square_root(number)\n",
        "\n",
        "# Print the square root\n",
        "print(\"The square root of\", number, \"is approximately:\", result)\n"
      ],
      "metadata": {
        "id": "ObJFbtV_pmwM",
        "colab": {
          "base_uri": "https://localhost:8080/"
        },
        "outputId": "4c025100-82d1-4fd8-c371-1a5bcb83b4e3"
      },
      "execution_count": null,
      "outputs": [
        {
          "output_type": "stream",
          "name": "stdout",
          "text": [
            "Enter a number to calculate its square root: 15\n",
            "The square root of 15.0 is approximately: 3.872983346207418\n"
          ]
        }
      ]
    },
    {
      "cell_type": "markdown",
      "source": [
        "## **23.Write a Python program to find the LCM (Least Common Multiple) of two numbers using a for loop.**"
      ],
      "metadata": {
        "id": "wLDoI_JHpnWn"
      }
    },
    {
      "cell_type": "code",
      "source": [
        "# Python program to find the Least Common Multiple (LCM) of two numbers using a for loop\n",
        "\n",
        "def find_lcm(num1, num2):\n",
        "    # Find the maximum of the two numbers\n",
        "    max_num = max(num1, num2)\n",
        "\n",
        "    # Iterate from the maximum number up to the product of the two numbers\n",
        "    for lcm in range(max_num, num1 * num2 + 1, max_num):\n",
        "        # Check if both numbers are divisible by the current LCM\n",
        "        if lcm % num1 == 0 and lcm % num2 == 0:\n",
        "            # If they are, return the LCM\n",
        "            return lcm\n",
        "\n",
        "# Example usage:\n",
        "# Input the two numbers\n",
        "num1 = 12\n",
        "num2 = 15\n",
        "\n",
        "# Find the LCM of the two numbers using the find_lcm function\n",
        "lcm = find_lcm(num1, num2)\n",
        "\n",
        "# Print the LCM\n",
        "print(\"The Least Common Multiple (LCM) of\", num1, \"and\", num2, \"is:\", lcm)\n"
      ],
      "metadata": {
        "id": "C3PTgLg6pnkS",
        "colab": {
          "base_uri": "https://localhost:8080/"
        },
        "outputId": "70af5293-35e9-440e-fc4e-50d80e2f953b"
      },
      "execution_count": null,
      "outputs": [
        {
          "output_type": "stream",
          "name": "stdout",
          "text": [
            "The Least Common Multiple (LCM) of 12 and 15 is: 60\n"
          ]
        }
      ]
    },
    {
      "cell_type": "markdown",
      "source": [
        "# **<font color='blue'>If else :**\n"
      ],
      "metadata": {
        "id": "OIqAhPtR7xfc"
      }
    },
    {
      "cell_type": "markdown",
      "source": [
        "## **1.Write a Python program to check if a number is positive, negative, or zero using an if-else statement.**\n"
      ],
      "metadata": {
        "id": "_DSeXxev7_ha"
      }
    },
    {
      "cell_type": "code",
      "source": [
        "# Python program to check if a number is positive, negative, or zero using an if-else statement\n",
        "\n",
        "# Input the number from the user\n",
        "number = float(input(\"Enter a number: \"))\n",
        "\n",
        "# Check if the number is positive, negative, or zero\n",
        "if number > 0:\n",
        "    print(\"The number is positive.\")\n",
        "elif number < 0:\n",
        "    print(\"The number is negative.\")\n",
        "else:\n",
        "    print(\"The number is zero.\")\n"
      ],
      "metadata": {
        "colab": {
          "base_uri": "https://localhost:8080/"
        },
        "id": "TcqnGS_y7yJK",
        "outputId": "acbe8856-e1e7-46f2-a292-052ecfd71204"
      },
      "execution_count": null,
      "outputs": [
        {
          "output_type": "stream",
          "name": "stdout",
          "text": [
            "Enter a number: -2\n",
            "The number is negative.\n"
          ]
        }
      ]
    },
    {
      "cell_type": "markdown",
      "source": [
        "## **2.Create a Python program that checks if a given number is even or odd using an if-else statement.**\n"
      ],
      "metadata": {
        "id": "Bxa01QZO7yWL"
      }
    },
    {
      "cell_type": "code",
      "source": [
        "# Python program to check if a given number is even or odd using an if-else statement\n",
        "\n",
        "# Input the number from the user\n",
        "number = int(input(\"Enter a number: \"))\n",
        "\n",
        "# Check if the number is even or odd\n",
        "if number % 2 == 0:\n",
        "    print(\"The number is even.\")\n",
        "else:\n",
        "    print(\"The number is odd.\")\n"
      ],
      "metadata": {
        "colab": {
          "base_uri": "https://localhost:8080/"
        },
        "id": "rXWcXwFh7ygy",
        "outputId": "2714cf5d-4ef6-405f-8026-0595071ffe2e"
      },
      "execution_count": null,
      "outputs": [
        {
          "output_type": "stream",
          "name": "stdout",
          "text": [
            "Enter a number: 45\n",
            "The number is odd.\n"
          ]
        }
      ]
    },
    {
      "cell_type": "markdown",
      "source": [
        "## ***3.How can you use nested if-else statements in Python, and provide an example?***\n"
      ],
      "metadata": {
        "id": "hyG6qCZH7ypg"
      }
    },
    {
      "cell_type": "markdown",
      "source": [
        "<font color='orange'>Nested if-else statements in Python allow you to have if-else statements inside other if-else statements. This is useful when you need to check multiple conditions with different outcomes based on the result of previous conditions. Here's an example:"
      ],
      "metadata": {
        "id": "QTKToN2T93UF"
      }
    },
    {
      "cell_type": "code",
      "source": [
        "# Python program to demonstrate nested if-else statements\n",
        "\n",
        "# Input the marks from the user\n",
        "marks = float(input(\"Enter your marks: \"))\n",
        "\n",
        "# Check if the student passed or failed\n",
        "if marks >= 50:\n",
        "    # If the marks are greater than or equal to 50, check if it's a distinction or a pass\n",
        "    if marks >= 75:\n",
        "        print(\"Congratulations! You scored a distinction.\")\n",
        "    else:\n",
        "        print(\"Congratulations! You passed.\")\n",
        "else:\n",
        "    # If the marks are less than 50, the student failed\n",
        "    print(\"Sorry, you failed. Better luck next time.\")\n"
      ],
      "metadata": {
        "colab": {
          "base_uri": "https://localhost:8080/"
        },
        "id": "0WH4pTbM7yym",
        "outputId": "0cd17e7c-f070-4ee3-e595-7b0979d0ae6e"
      },
      "execution_count": null,
      "outputs": [
        {
          "output_type": "stream",
          "name": "stdout",
          "text": [
            "Enter your marks: 45\n",
            "Sorry, you failed. Better luck next time.\n"
          ]
        }
      ]
    },
    {
      "cell_type": "markdown",
      "source": [
        "# Example\n",
        "\n",
        "- We input the marks from the user.\n",
        "- We use a nested if-else structure to check multiple conditions:\n",
        "  - If the marks are greater than or equal to 50, we enter the inner if-else block to check if the student scored a distinction (marks greater than or equal to 75) or a pass (marks less than 75 but greater than or equal to 50).\n",
        "  - If the marks are less than 50, we print a message indicating that the student failed.\n",
        "- Depending on the conditions met, appropriate messages are printed to the user.\n"
      ],
      "metadata": {
        "id": "Qu0npYUD7y8w"
      }
    },
    {
      "cell_type": "markdown",
      "source": [
        "## **4.Write a Python program to determine the largest of three numbers using if-else.**\n"
      ],
      "metadata": {
        "id": "4_zqEuYZ-VhT"
      }
    },
    {
      "cell_type": "code",
      "source": [
        "# Python program to determine the largest of three numbers using if-else statements\n",
        "\n",
        "# Input the three numbers from the user\n",
        "num1 = float(input(\"Enter the first number: \"))\n",
        "num2 = float(input(\"Enter the second number: \"))\n",
        "num3 = float(input(\"Enter the third number: \"))\n",
        "\n",
        "# Compare the numbers to find the largest\n",
        "if num1 >= num2 and num1 >= num3:\n",
        "    largest = num1\n",
        "elif num2 >= num1 and num2 >= num3:\n",
        "    largest = num2\n",
        "else:\n",
        "    largest = num3\n",
        "\n",
        "# Print the largest number\n",
        "print(\"The largest of the three numbers is:\", largest)\n"
      ],
      "metadata": {
        "colab": {
          "base_uri": "https://localhost:8080/"
        },
        "id": "1TV4dfer7zIy",
        "outputId": "f075d88b-5c5a-4d31-9ba8-0aea40955b4f"
      },
      "execution_count": null,
      "outputs": [
        {
          "output_type": "stream",
          "name": "stdout",
          "text": [
            "Enter the first number: 5\n",
            "Enter the second number: 6\n",
            "Enter the third number: 7\n",
            "The largest of the three numbers is: 7.0\n"
          ]
        }
      ]
    },
    {
      "cell_type": "markdown",
      "source": [
        "## **5.Write a Python program that calculates the absolute value of a number using if-else.**\n"
      ],
      "metadata": {
        "id": "d9jGCEAv7zeZ"
      }
    },
    {
      "cell_type": "code",
      "source": [
        "# Python program to calculate the absolute value of a number using if-else statements\n",
        "\n",
        "# Input the number from the user\n",
        "number = float(input(\"Enter a number: \"))\n",
        "\n",
        "# Check if the number is positive, negative, or zero\n",
        "if number >= 0:\n",
        "    # If the number is non-negative, it is its own absolute value\n",
        "    absolute_value = number\n",
        "else:\n",
        "    # If the number is negative, its absolute value is its negation\n",
        "    absolute_value = -number\n",
        "\n",
        "# Print the absolute value\n",
        "print(\"The absolute value of\", number, \"is:\", absolute_value)\n"
      ],
      "metadata": {
        "colab": {
          "base_uri": "https://localhost:8080/"
        },
        "id": "DJfVDHHA7zn7",
        "outputId": "08167ffe-5cad-4c7d-bc94-ab74abbeb0cf"
      },
      "execution_count": null,
      "outputs": [
        {
          "output_type": "stream",
          "name": "stdout",
          "text": [
            "Enter a number: -52\n",
            "The absolute value of -52.0 is: 52.0\n"
          ]
        }
      ]
    },
    {
      "cell_type": "markdown",
      "source": [
        "## **6.Create a Python program that checks if a given character is a vowel or consonant using if-else.**\n"
      ],
      "metadata": {
        "id": "1zPoK-al70Sv"
      }
    },
    {
      "cell_type": "code",
      "source": [
        "# Python program to check if a given character is a vowel or consonant using if-else statements\n",
        "\n",
        "# Input the character from the user\n",
        "character = input(\"Enter a character: \")\n",
        "\n",
        "# Check if the input is a single character\n",
        "if len(character) == 1:\n",
        "    # Convert the character to lowercase for case-insensitive comparison\n",
        "    character = character.lower()\n",
        "\n",
        "    # Check if the character is a vowel\n",
        "    if character in ('a', 'e', 'i', 'o', 'u'):\n",
        "        print(\"The character\", character, \"is a vowel.\")\n",
        "    else:\n",
        "        print(\"The character\", character, \"is a consonant.\")\n",
        "else:\n",
        "    print(\"Please enter only a single character.\")\n",
        "\n"
      ],
      "metadata": {
        "colab": {
          "base_uri": "https://localhost:8080/"
        },
        "id": "Oeqwr-_G70dR",
        "outputId": "37d49450-d31a-4224-c3d4-cbf2e7f21cd7"
      },
      "execution_count": null,
      "outputs": [
        {
          "output_type": "stream",
          "name": "stdout",
          "text": [
            "Enter a character: u\n",
            "The character u is a vowel.\n"
          ]
        }
      ]
    },
    {
      "cell_type": "markdown",
      "source": [
        "## **7.Write a Python program to determine if a user is eligible to vote based on their age using if-else.**\n"
      ],
      "metadata": {
        "id": "D6vBP8az70qE"
      }
    },
    {
      "cell_type": "code",
      "source": [
        "# Python program to determine if a user is eligible to vote based on their age using if-else statements\n",
        "\n",
        "# Input the age from the user\n",
        "age = int(input(\"Enter your age: \"))\n",
        "\n",
        "# Check if the age meets the eligibility criteria for voting\n",
        "if age >= 18:\n",
        "    print(\"You are eligible to vote.\")\n",
        "else:\n",
        "    print(\"You are not eligible to vote.\")\n"
      ],
      "metadata": {
        "colab": {
          "base_uri": "https://localhost:8080/"
        },
        "id": "L96n27bC70yX",
        "outputId": "4c365061-1f0f-41a9-f24d-5ce522f180c1"
      },
      "execution_count": null,
      "outputs": [
        {
          "output_type": "stream",
          "name": "stdout",
          "text": [
            "Enter your age: 13\n",
            "You are not eligible to vote.\n"
          ]
        }
      ]
    },
    {
      "cell_type": "markdown",
      "source": [
        "## **8.Create a Python program that calculates the discount amount based on the purchase amount using if-else.**\n"
      ],
      "metadata": {
        "id": "6kDTxIpe70_e"
      }
    },
    {
      "cell_type": "code",
      "source": [
        "# Python program to calculate the discount amount based on the purchase amount using if-else statements\n",
        "\n",
        "# Input the purchase amount from the user\n",
        "purchase_amount = float(input(\"Enter the purchase amount: \"))\n",
        "\n",
        "# Check the purchase amount to determine the discount\n",
        "if purchase_amount >= 1000:\n",
        "    # If the purchase amount is $1000 or more, apply a 10% discount\n",
        "    discount = 0.1 * purchase_amount\n",
        "    print(\"You qualify for a 10% discount.\")\n",
        "else:\n",
        "    # If the purchase amount is less than $1000, no discount is applied\n",
        "    discount = 0\n",
        "    print(\"No discount is applicable for this purchase.\")\n",
        "\n",
        "# Print the discount amount\n",
        "print(\"Discount amount:\", discount)\n"
      ],
      "metadata": {
        "colab": {
          "base_uri": "https://localhost:8080/"
        },
        "id": "RkIB5FbS71I7",
        "outputId": "7fd2ff16-ee0a-4f3b-86a0-62e7367293e1"
      },
      "execution_count": null,
      "outputs": [
        {
          "output_type": "stream",
          "name": "stdout",
          "text": [
            "Enter the purchase amount: 456\n",
            "No discount is applicable for this purchase.\n",
            "Discount amount: 0\n"
          ]
        }
      ]
    },
    {
      "cell_type": "markdown",
      "source": [
        "## **9.Write a Python program to check if a number is within a specified range using if-else.**\n"
      ],
      "metadata": {
        "id": "vCl1-F4e71WZ"
      }
    },
    {
      "cell_type": "code",
      "source": [
        "# Python program to check if a number is within a specified range using if-else statements\n",
        "\n",
        "# Define the range\n",
        "lower_limit = 10\n",
        "upper_limit = 50\n",
        "\n",
        "# Input the number from the user\n",
        "number = float(input(\"Enter a number: \"))\n",
        "\n",
        "# Check if the number is within the specified range\n",
        "if lower_limit <= number <= upper_limit:\n",
        "    print(\"The number is within the specified range.\")\n",
        "else:\n",
        "    print(\"The number is not within the specified range.\")\n"
      ],
      "metadata": {
        "colab": {
          "base_uri": "https://localhost:8080/"
        },
        "id": "EsdWzd1b71g_",
        "outputId": "f0e5cd68-583d-4464-c5cc-f61affe4e9f7"
      },
      "execution_count": null,
      "outputs": [
        {
          "output_type": "stream",
          "name": "stdout",
          "text": [
            "Enter a number: 34\n",
            "The number is within the specified range.\n"
          ]
        }
      ]
    },
    {
      "cell_type": "markdown",
      "source": [
        "## **10.Create a Python program that determines the grade of a student based on their score using if-else.**\n"
      ],
      "metadata": {
        "id": "ysy2bsat71zg"
      }
    },
    {
      "cell_type": "code",
      "source": [
        "# Python program to determine the grade of a student based on their score using if-else statements\n",
        "\n",
        "# Input the score from the user\n",
        "score = float(input(\"Enter the score: \"))\n",
        "\n",
        "# Determine the grade based on the score\n",
        "if score >= 90:\n",
        "    grade = 'A'\n",
        "elif score >= 80:\n",
        "    grade = 'B'\n",
        "elif score >= 70:\n",
        "    grade = 'C'\n",
        "elif score >= 60:\n",
        "    grade = 'D'\n",
        "else:\n",
        "    grade = 'F'\n",
        "\n",
        "# Print the grade\n",
        "print(\"The grade for the score\", score, \"is:\", grade)\n",
        "\n"
      ],
      "metadata": {
        "colab": {
          "base_uri": "https://localhost:8080/"
        },
        "id": "TiyOncvG71-c",
        "outputId": "41c26c75-0e90-41a2-a6db-a0d60cfee936"
      },
      "execution_count": null,
      "outputs": [
        {
          "output_type": "stream",
          "name": "stdout",
          "text": [
            "Enter the score: 76\n",
            "The grade for the score 76.0 is: C\n"
          ]
        }
      ]
    },
    {
      "cell_type": "markdown",
      "source": [
        "## **11.Write a Python program to check if a string is empty or not using if-else.**\n"
      ],
      "metadata": {
        "id": "PD3Mdfnr72Nc"
      }
    },
    {
      "cell_type": "code",
      "source": [
        "# Python program to check if a string is empty or not using if-else statements\n",
        "\n",
        "# Input the string from the user\n",
        "input_string = input(\"Enter a string: \")\n",
        "\n",
        "# Check if the string is empty or not\n",
        "if input_string:\n",
        "    print(\"The string is not empty.\")\n",
        "else:\n",
        "    print(\"The string is empty.\")\n"
      ],
      "metadata": {
        "colab": {
          "base_uri": "https://localhost:8080/"
        },
        "id": "VxlKh7G572au",
        "outputId": "49af2937-9be8-4296-b33e-3a8304e924f2"
      },
      "execution_count": null,
      "outputs": [
        {
          "output_type": "stream",
          "name": "stdout",
          "text": [
            "Enter a string: ddffgghhh\n",
            "The string is not empty.\n"
          ]
        }
      ]
    },
    {
      "cell_type": "markdown",
      "source": [
        "## **12.Create a Python program that identifies the type of a triangle (e.g., equilateral, isosceles, or scalene) based on input values using if-else.**\n"
      ],
      "metadata": {
        "id": "JZsAe7cN72ui"
      }
    },
    {
      "cell_type": "code",
      "source": [
        "# Python program to identify the type of a triangle based on input values using if-else statements\n",
        "\n",
        "# Input the lengths of the sides of the triangle from the user\n",
        "side1 = float(input(\"Enter the length of side 1: \"))\n",
        "side2 = float(input(\"Enter the length of side 2: \"))\n",
        "side3 = float(input(\"Enter the length of side 3: \"))\n",
        "\n",
        "# Check the type of triangle based on the lengths of its sides\n",
        "if side1 == side2 == side3:\n",
        "    triangle_type = \"equilateral\"\n",
        "elif side1 == side2 or side1 == side3 or side2 == side3:\n",
        "    triangle_type = \"isosceles\"\n",
        "else:\n",
        "    triangle_type = \"scalene\"\n",
        "\n",
        "# Print the type of triangle\n",
        "print(\"The triangle with side lengths\", side1, \",\", side2, \", and\", side3, \"is a\", triangle_type, \"triangle.\")\n",
        "\n"
      ],
      "metadata": {
        "colab": {
          "base_uri": "https://localhost:8080/"
        },
        "id": "II2-VsQA725U",
        "outputId": "da7d93be-7fab-42dc-c9e5-892d9f75c8c0"
      },
      "execution_count": null,
      "outputs": [
        {
          "output_type": "stream",
          "name": "stdout",
          "text": [
            "Enter the length of side 1: 45\n",
            "Enter the length of side 2: 45\n",
            "Enter the length of side 3: 65\n",
            "The triangle with side lengths 45.0 , 45.0 , and 65.0 is a isosceles triangle.\n"
          ]
        }
      ]
    },
    {
      "cell_type": "markdown",
      "source": [
        "## **13.Write a Python program to determine the day of the week based on a user-provided number using if-else.**\n"
      ],
      "metadata": {
        "id": "oc2rW6HJ73OD"
      }
    },
    {
      "cell_type": "code",
      "source": [
        "# Python program to determine the day of the week based on a user-provided number using if-else statements\n",
        "\n",
        "# Input the number representing the day of the week from the user\n",
        "day_number = int(input(\"Enter a number (1-7) representing the day of the week: \"))\n",
        "\n",
        "# Determine the day of the week based on the input number\n",
        "if day_number == 1:\n",
        "    day_name = \"Monday\"\n",
        "elif day_number == 2:\n",
        "    day_name = \"Tuesday\"\n",
        "elif day_number == 3:\n",
        "    day_name = \"Wednesday\"\n",
        "elif day_number == 4:\n",
        "    day_name = \"Thursday\"\n",
        "elif day_number == 5:\n",
        "    day_name = \"Friday\"\n",
        "elif day_number == 6:\n",
        "    day_name = \"Saturday\"\n",
        "elif day_number == 7:\n",
        "    day_name = \"Sunday\"\n",
        "else:\n",
        "    day_name = \"Invalid day number\"\n",
        "\n",
        "# Print the day of the week\n",
        "print(\"The day corresponding to the number\", day_number, \"is:\", day_name)\n"
      ],
      "metadata": {
        "colab": {
          "base_uri": "https://localhost:8080/"
        },
        "id": "Lx8qPUcB73Xr",
        "outputId": "0aaeac70-708b-4afe-9707-223cea0129f2"
      },
      "execution_count": null,
      "outputs": [
        {
          "output_type": "stream",
          "name": "stdout",
          "text": [
            "Enter a number (1-7) representing the day of the week: 5\n",
            "The day corresponding to the number 5 is: Friday\n"
          ]
        }
      ]
    },
    {
      "cell_type": "markdown",
      "source": [
        "## **14.Create a Python program that checks if a given year is a leap year using both if-else and a function.**\n"
      ],
      "metadata": {
        "id": "uavO-D-I73rD"
      }
    },
    {
      "cell_type": "code",
      "source": [
        "# Python program to check if a given year is a leap year using both if-else and a function\n",
        "\n",
        "def is_leap_year(year):\n",
        "    # Leap year if it is divisible by 4 and not divisible by 100, or divisible by 400\n",
        "    if (year % 4 == 0 and year % 100 != 0) or (year % 400 == 0):\n",
        "        return True\n",
        "    else:\n",
        "        return False\n",
        "\n",
        "# Input the year from the user\n",
        "year = int(input(\"Enter a year: \"))\n",
        "\n",
        "# Check if the input year is a leap year using the is_leap_year function\n",
        "if is_leap_year(year):\n",
        "    print(year, \"is a leap year.\")\n",
        "else:\n",
        "    print(year, \"is not a leap year.\")\n"
      ],
      "metadata": {
        "colab": {
          "base_uri": "https://localhost:8080/"
        },
        "id": "fVeVTaDa730c",
        "outputId": "8412a750-0506-4fba-f644-769773e28c70"
      },
      "execution_count": null,
      "outputs": [
        {
          "output_type": "stream",
          "name": "stdout",
          "text": [
            "Enter a year: 2022\n",
            "2022 is not a leap year.\n"
          ]
        }
      ]
    },
    {
      "cell_type": "markdown",
      "source": [
        "## ***15.How do you use the \"assert\" statement in Python to add debugging checks within if-else blocks?***\n"
      ],
      "metadata": {
        "id": "Ujp9kg8w74F8"
      }
    },
    {
      "cell_type": "markdown",
      "source": [
        "<font color='orange'>The assert statement in Python is used to add debugging checks within if-else blocks. It takes an expression and raises an AssertionError if the expression evaluates to False. This can be helpful for catching bugs during development and ensuring that certain conditions are met within your code."
      ],
      "metadata": {
        "id": "JRhUCMBvA12c"
      }
    },
    {
      "cell_type": "markdown",
      "source": [
        "The `assert` statement in Python is used to add debugging checks within if-else blocks. It takes an expression and raises an `AssertionError` if the expression evaluates to `False`. This can be helpful for catching bugs during development and ensuring that certain conditions are met within your code.\n",
        "\n",
        "Here's how you can use the `assert` statement within if-else blocks:\n",
        "\n",
        "```python\n",
        "# Example usage of the assert statement within if-else blocks\n",
        "\n",
        "# Define a function to check if a number is positive\n",
        "def check_positive(number):\n",
        "    # Check if the number is positive using an assert statement\n",
        "    assert number > 0, \"Number must be positive\"  # Raises AssertionError if number is not positive\n",
        "\n",
        "    # If the assertion passes, print a message indicating that the number is positive\n",
        "    print(\"The number is positive.\")\n",
        "\n",
        "# Test the function with a positive number\n",
        "check_positive(10)\n",
        "\n",
        "# Test the function with a non-positive number\n",
        "check_positive(-5)\n"
      ],
      "metadata": {
        "id": "uPr4eb1lA-fW"
      }
    },
    {
      "cell_type": "markdown",
      "source": [
        "In this example:\n",
        "\n",
        "- We define a function `check_positive(number)` that takes a number as input and checks if it's positive using an assert statement within the if-else block.\n",
        "- If the number is positive, the assertion passes, and the function prints a message indicating that the number is positive.\n",
        "- If the number is not positive (i.e., less than or equal to 0), the assertion fails, and an `AssertionError` is raised with the specified error message.\n",
        "- When running the code, the assertion failure will cause the program to terminate and raise an `AssertionError` with the specified error message.\n"
      ],
      "metadata": {
        "id": "OQaO7a0GBRPU"
      }
    },
    {
      "cell_type": "markdown",
      "source": [
        "## **16.Create a Python program that determines the eligibility of a person for a senior citizen discount based on age using if-else.**\n"
      ],
      "metadata": {
        "id": "0booqe7nBfpj"
      }
    },
    {
      "cell_type": "code",
      "source": [
        "# Python program to determine the eligibility of a person for a senior citizen discount based on age using if-else statements\n",
        "\n",
        "# Define the age threshold for senior citizen discount\n",
        "senior_citizen_age = 60\n",
        "\n",
        "# Input the age from the user\n",
        "age = int(input(\"Enter your age: \"))\n",
        "\n",
        "# Check if the age meets the eligibility criteria for senior citizen discount\n",
        "if age >= senior_citizen_age:\n",
        "    print(\"Congratulations! You are eligible for a senior citizen discount.\")\n",
        "else:\n",
        "    print(\"Sorry, you are not eligible for a senior citizen discount.\")\n"
      ],
      "metadata": {
        "colab": {
          "base_uri": "https://localhost:8080/"
        },
        "id": "2OSOzoUU74P1",
        "outputId": "9f749744-d612-4abb-ec05-4f60e6aa76b5"
      },
      "execution_count": null,
      "outputs": [
        {
          "output_type": "stream",
          "name": "stdout",
          "text": [
            "Enter your age: 65\n",
            "Congratulations! You are eligible for a senior citizen discount.\n"
          ]
        }
      ]
    },
    {
      "cell_type": "markdown",
      "source": [
        "## **17.Write a Python program to categorize a given character as uppercase, lowercase, or neither using if-else.**\n"
      ],
      "metadata": {
        "id": "WWyW76N-Bgmd"
      }
    },
    {
      "cell_type": "code",
      "source": [
        "# Python program to categorize a given character as uppercase, lowercase, or neither using if-else statements\n",
        "\n",
        "# Input the character from the user\n",
        "character = input(\"Enter a character: \")\n",
        "\n",
        "# Check if the input character is a letter\n",
        "if character.isalpha():\n",
        "    # Check if the character is uppercase\n",
        "    if character.isupper():\n",
        "        print(\"The character\", character, \"is uppercase.\")\n",
        "    # Check if the character is lowercase\n",
        "    elif character.islower():\n",
        "        print(\"The character\", character, \"is lowercase.\")\n",
        "else:\n",
        "    print(\"The input is not a letter.\")\n",
        "\n"
      ],
      "metadata": {
        "colab": {
          "base_uri": "https://localhost:8080/"
        },
        "id": "pdsL02P7LecH",
        "outputId": "99091e16-142c-4e24-8303-6f06955f8e0d"
      },
      "execution_count": null,
      "outputs": [
        {
          "output_type": "stream",
          "name": "stdout",
          "text": [
            "Enter a character: aasif\n",
            "The character aasif is lowercase.\n"
          ]
        }
      ]
    },
    {
      "cell_type": "markdown",
      "source": [
        "## **18.Write a Python program to determine the roots of a quadratic equation using if-else.**\n"
      ],
      "metadata": {
        "id": "B4udq_vWBhiV"
      }
    },
    {
      "cell_type": "code",
      "source": [
        "# Python program to determine the roots of a quadratic equation using if-else statements\n",
        "\n",
        "import math\n",
        "\n",
        "# Input the coefficients of the quadratic equation from the user\n",
        "a = float(input(\"Enter the coefficient of x^2 (a): \"))\n",
        "b = float(input(\"Enter the coefficient of x (b): \"))\n",
        "c = float(input(\"Enter the constant term (c): \"))\n",
        "\n",
        "# Calculate the discriminant\n",
        "discriminant = b**2 - 4*a*c\n",
        "\n",
        "# Check the number of roots based on the discriminant\n",
        "if discriminant > 0:\n",
        "    # Two distinct real roots\n",
        "    root1 = (-b + math.sqrt(discriminant)) / (2*a)\n",
        "    root2 = (-b - math.sqrt(discriminant)) / (2*a)\n",
        "    print(\"The roots of the quadratic equation are:\", root1, \"and\", root2)\n",
        "elif discriminant == 0:\n",
        "    # One real root (repeated)\n",
        "    root = -b / (2*a)\n",
        "    print(\"The quadratic equation has one repeated root:\", root)\n",
        "else:\n",
        "    # Complex roots\n",
        "    real_part = -b / (2*a)\n",
        "    imaginary_part = math.sqrt(abs(discriminant)) / (2*a)\n",
        "    print(\"The roots of the quadratic equation are complex:\")\n",
        "    print(\"Root 1:\", real_part, \"+\", imaginary_part, \"i\")\n",
        "    print(\"Root 2:\", real_part, \"-\", imaginary_part, \"i\")\n"
      ],
      "metadata": {
        "colab": {
          "base_uri": "https://localhost:8080/"
        },
        "id": "c-IQQHwYBhyi",
        "outputId": "0c5263dc-24f9-4e94-a709-b48ba31ad848"
      },
      "execution_count": null,
      "outputs": [
        {
          "output_type": "stream",
          "name": "stdout",
          "text": [
            "Enter the coefficient of x^2 (a): 5\n",
            "Enter the coefficient of x (b): 8\n",
            "Enter the constant term (c): 4\n",
            "The roots of the quadratic equation are complex:\n",
            "Root 1: -0.8 + 0.4 i\n",
            "Root 2: -0.8 - 0.4 i\n"
          ]
        }
      ]
    },
    {
      "cell_type": "markdown",
      "source": [
        "## **19.Create a Python program that checks if a given year is a century year or not using if-else.**\n"
      ],
      "metadata": {
        "id": "G2JVpwcgBh_x"
      }
    },
    {
      "cell_type": "code",
      "source": [
        "# Python program to check if a given year is a century year or not using if-else statements\n",
        "\n",
        "# Input the year from the user\n",
        "year = int(input(\"Enter a year: \"))\n",
        "\n",
        "# Check if the year is a century year or not\n",
        "if year % 100 == 0:\n",
        "    print(year, \"is a century year.\")\n",
        "else:\n",
        "    print(year, \"is not a century year.\")\n"
      ],
      "metadata": {
        "colab": {
          "base_uri": "https://localhost:8080/"
        },
        "id": "IKdAIje_BiJ9",
        "outputId": "43efee88-d923-4aad-e488-fa3102d35933"
      },
      "execution_count": null,
      "outputs": [
        {
          "output_type": "stream",
          "name": "stdout",
          "text": [
            "Enter a year: 2022\n",
            "2022 is not a century year.\n"
          ]
        }
      ]
    },
    {
      "cell_type": "markdown",
      "source": [
        "## **20.Write a Python program to determine if a given number is a perfect square using if-else.**\n"
      ],
      "metadata": {
        "id": "0L83KsbYBiXE"
      }
    },
    {
      "cell_type": "code",
      "source": [
        "# Python program to determine if a given number is a perfect square using if-else statements\n",
        "\n",
        "# Input the number from the user\n",
        "number = int(input(\"Enter a number: \"))\n",
        "\n",
        "# Check if the number is a perfect square\n",
        "if number >= 0:\n",
        "    square_root = number ** 0.5  # Calculate the square root of the number\n",
        "    if square_root.is_integer():  # Check if the square root is an integer\n",
        "        print(number, \"is a perfect square.\")\n",
        "    else:\n",
        "        print(number, \"is not a perfect square.\")\n",
        "else:\n",
        "    print(\"Please enter a non-negative number.\")\n"
      ],
      "metadata": {
        "colab": {
          "base_uri": "https://localhost:8080/"
        },
        "id": "08dVDMxsBihx",
        "outputId": "73652d6a-1496-4329-b8a4-69bb8c3b6047"
      },
      "execution_count": null,
      "outputs": [
        {
          "output_type": "stream",
          "name": "stdout",
          "text": [
            "Enter a number: 16\n",
            "16 is a perfect square.\n"
          ]
        }
      ]
    },
    {
      "cell_type": "markdown",
      "source": [
        "## ***21.Explain the purpose of the \"continue\" and \"break\" statements within if-else loops.***\n"
      ],
      "metadata": {
        "id": "PJMDXTNrBitv"
      }
    },
    {
      "cell_type": "markdown",
      "source": [
        "### `continue` Statement:\n",
        "\n",
        "- The <font color='blue'>`continue` statement</font> is used to skip the rest of the code inside a loop for the current iteration and move to the next iteration of the loop.\n",
        "- When encountered, the <font color='blue'>`continue` statement</font> causes the program to jump to the next iteration of the loop without executing any remaining code within the loop for the current iteration.\n",
        "- In other words, if a <font color='blue'>`continue` statement</font> is encountered, the loop does not terminate; instead, it immediately proceeds to the next iteration.\n",
        "- The <font color='blue'>`continue` statement</font> is often used when you want to skip certain iterations of a loop based on a condition, but you still want the loop to continue iterating.\n",
        "\n",
        "### `break` Statement:\n",
        "\n",
        "- The <font color='blue'>`break` statement</font> is used to exit a loop prematurely, regardless of whether the loop's condition has been met or not.\n",
        "- When encountered, the <font color='blue'>`break` statement</font> causes the program to immediately exit the loop in which it is contained, and execution continues with the next statement after the loop.\n",
        "- In other words, if a <font color='blue'>`break` statement</font> is encountered, the loop is terminated, and control is transferred to the statement immediately following the loop.\n",
        "- The <font color='blue'>`break` statement</font> is often used when you want to exit a loop early based on a certain condition, without completing all iterations of the loop.\n",
        "\n",
        "In summary:\n",
        "- <font color='blue'>`continue`</font>: Skips the rest of the code within the loop for the current iteration and moves to the next iteration.\n",
        "- <font color='blue'>`break`</font>: Exits the loop prematurely, regardless of the loop's condition, and continues with the next statement after the loop.\n"
      ],
      "metadata": {
        "id": "5TPJbe8cEbh7"
      }
    },
    {
      "cell_type": "markdown",
      "source": [
        "## **22.Create a Python program that calculates the BMI (Body Mass Index) of a person based on their weight and height using if-else.**\n"
      ],
      "metadata": {
        "id": "CZRjOHXUEjpZ"
      }
    },
    {
      "cell_type": "code",
      "source": [
        "# Python program to calculate the BMI (Body Mass Index) of a person based on their weight and height using if-else statements\n",
        "\n",
        "# Input weight and height from the user\n",
        "weight_kg = float(input(\"Enter your weight in kilograms: \"))\n",
        "height_m = float(input(\"Enter your height in meters: \"))\n",
        "\n",
        "# Calculate BMI\n",
        "bmi = weight_kg / (height_m ** 2)\n",
        "\n",
        "# Determine BMI category based on calculated BMI\n",
        "if bmi < 18.5:\n",
        "    category = \"Underweight\"\n",
        "elif 18.5 <= bmi < 25:\n",
        "    category = \"Normal weight\"\n",
        "elif 25 <= bmi < 30:\n",
        "    category = \"Overweight\"\n",
        "else:\n",
        "    category = \"Obese\"\n",
        "\n",
        "# Print the BMI and category\n",
        "print(\"Your BMI is:\", round(bmi, 2))\n",
        "print(\"You are categorized as:\", category)\n"
      ],
      "metadata": {
        "colab": {
          "base_uri": "https://localhost:8080/"
        },
        "id": "-8KcTATJBi4S",
        "outputId": "f4426527-26b5-43b6-cdc9-f8ea9ce6a896"
      },
      "execution_count": null,
      "outputs": [
        {
          "output_type": "stream",
          "name": "stdout",
          "text": [
            "Enter your weight in kilograms: 73\n",
            "Enter your height in meters: 1.5\n",
            "Your BMI is: 32.44\n",
            "You are categorized as: Obese\n"
          ]
        }
      ]
    },
    {
      "cell_type": "markdown",
      "source": [
        "## **23.How can you use the \"filter()\" function with if-else statements to filter elements from a list?**"
      ],
      "metadata": {
        "id": "pa7PeC5KFcLq"
      }
    },
    {
      "cell_type": "markdown",
      "source": [
        "### Using the `filter()` Function with if-else Statements:\n",
        "\n",
        "- The `filter()` function in Python is used to filter elements from an iterable (e.g., list, tuple) based on a specified function (predicate) that returns <font color='blue'>`True`</font> or <font color='blue'>`False`</font>.\n",
        "- You can use if-else statements within the filtering function passed to <font color='blue'>`filter()`</font> to define the filtering logic based on your criteria.\n",
        "\n",
        "```python\n",
        "# Python program to demonstrate the usage of the filter() function with if-else statements\n",
        "\n",
        "# Define a list of numbers\n",
        "numbers = [1, 2, 3, 4, 5, 6, 7, 8, 9, 10]\n",
        "\n",
        "# Define a filtering function using if-else statements\n",
        "def is_even(num):\n",
        "    if num % 2 == 0:\n",
        "        return True\n",
        "    else:\n",
        "        return False\n",
        "\n",
        "# Use the filter() function to filter even numbers from the list\n",
        "even_numbers = filter(is_even, numbers)\n",
        "\n",
        "# Print the filtered even numbers\n",
        "print(\"Even numbers:\", list(even_numbers))\n"
      ],
      "metadata": {
        "id": "vacZNaVrBjGR"
      }
    },
    {
      "cell_type": "markdown",
      "source": [
        "In this example:\n",
        "\n",
        "- We have a list of numbers numbers.\n",
        "\n",
        "- We define a filtering function is_even(num) that checks if a number is even using if-else statements.\n",
        "- If the number is even, the function returns True; otherwise, it returns False.\n",
        "\n",
        "- We use the filter() function to filter even numbers from the list numbers based on the is_even() function.\n",
        "- The filtered even numbers are then printed."
      ],
      "metadata": {
        "id": "uDzSo2usFiQk"
      }
    },
    {
      "cell_type": "markdown",
      "source": [
        "## **24.Write a Python program to determine if a given number is prime or not using if-else.**\n"
      ],
      "metadata": {
        "id": "dFJXM6FuFwQH"
      }
    },
    {
      "cell_type": "code",
      "source": [
        "# Python program to determine if a given number is prime or not using if-else statements\n",
        "\n",
        "# Input the number from the user\n",
        "number = int(input(\"Enter a number: \"))\n",
        "\n",
        "# Check if the number is greater than 1\n",
        "if number > 1:\n",
        "    # Check for factors\n",
        "    for i in range(2, number):\n",
        "        if (number % i) == 0:\n",
        "            print(number, \"is not a prime number.\")\n",
        "            break\n",
        "    else:\n",
        "        print(number, \"is a prime number.\")\n",
        "else:\n",
        "    print(number, \"is not a prime number.\")\n"
      ],
      "metadata": {
        "id": "QB57XuSxBjxu",
        "colab": {
          "base_uri": "https://localhost:8080/"
        },
        "outputId": "9e81d43d-800d-4845-9250-a36b6ee372d4"
      },
      "execution_count": null,
      "outputs": [
        {
          "output_type": "stream",
          "name": "stdout",
          "text": [
            "Enter a number: 22\n",
            "22 is not a prime number.\n"
          ]
        }
      ]
    },
    {
      "cell_type": "markdown",
      "source": [
        "# **<font color='blue'>Map :-**"
      ],
      "metadata": {
        "id": "CiAi8Br3BkEs"
      }
    },
    {
      "cell_type": "markdown",
      "source": [
        "## **1.Explain the purpose of the `map()` function in Python and provide an example of how it can be used to apply a function to each element of an iterable.**\n"
      ],
      "metadata": {
        "id": "9N0JeO0nMCfX"
      }
    },
    {
      "cell_type": "markdown",
      "source": [
        "## **Purpose of the map() Function:**\n",
        "\n",
        "- The map() function in Python is used to apply a specified function to each item in an iterable (e.g., list, tuple, etc.).\n",
        "\n",
        "- It takes two arguments: the function to apply and the iterable to apply it to.\n",
        "\n",
        "- The function passed to map() is applied to each element of the iterable, and the result is returned as a new iterator.\n",
        "\n",
        "# **Example of Using the map() Function:**"
      ],
      "metadata": {
        "id": "YFab_9LpNbf4"
      }
    },
    {
      "cell_type": "code",
      "source": [
        "# Python program to demonstrate the usage of the map() function\n",
        "\n",
        "# Define a function to double a number\n",
        "def double(x):\n",
        "    return x * 2\n",
        "\n",
        "# Define a list of numbers\n",
        "numbers = [1, 2, 3, 4, 5]\n",
        "\n",
        "# Use the map() function to double each number in the list\n",
        "doubled_numbers = map(double, numbers)\n",
        "\n",
        "# Print the original and doubled numbers\n",
        "print(\"Original numbers:\", list(numbers))\n",
        "print(\"Doubled numbers:\", list(doubled_numbers))\n"
      ],
      "metadata": {
        "id": "4U4AJZNgBkWH",
        "colab": {
          "base_uri": "https://localhost:8080/"
        },
        "outputId": "31100ee1-9065-4b5c-ea40-42cbe2d49f0d"
      },
      "execution_count": null,
      "outputs": [
        {
          "output_type": "stream",
          "name": "stdout",
          "text": [
            "Original numbers: [1, 2, 3, 4, 5]\n",
            "Doubled numbers: [2, 4, 6, 8, 10]\n"
          ]
        }
      ]
    },
    {
      "cell_type": "markdown",
      "source": [
        "\n",
        "\n",
        "### Example of Using the `map()` Function:\n",
        "\n",
        "- We define a function double(x) that takes a number x as input and returns x * 2, effectively doubling the number.\n",
        "\n",
        "- We have a list of numbers numbers.We use the map() function to apply the double() function to each element of the numbers list.\n",
        "\n",
        "- The result of the map() function is an iterator containing the doubled numbers.\n",
        "\n",
        "- We convert the iterators to lists and print both the original and doubled numbers.\n"
      ],
      "metadata": {
        "id": "EDElst99BkjY"
      }
    },
    {
      "cell_type": "markdown",
      "source": [
        "## **2.Write a Python program that uses the `map()` function to square each element of a list of numbers.**\n"
      ],
      "metadata": {
        "id": "KodF3CN4OuAv"
      }
    },
    {
      "cell_type": "code",
      "source": [
        "# Python program to square each element of a list of numbers using the map() function\n",
        "\n",
        "# Define a function to square a number\n",
        "def square(x):\n",
        "    return x ** 2\n",
        "\n",
        "# Define a list of numbers\n",
        "numbers = [1, 2, 3, 4, 5]\n",
        "\n",
        "# Use the map() function to square each number in the list\n",
        "squared_numbers = map(square, numbers)\n",
        "\n",
        "# Print the original and squared numbers\n",
        "print(\"Original numbers:\", list(numbers))\n",
        "print(\"Squared numbers:\", list(squared_numbers))\n"
      ],
      "metadata": {
        "id": "FSEq_NxVBkw6",
        "colab": {
          "base_uri": "https://localhost:8080/"
        },
        "outputId": "49a87dcb-194e-4983-9dbd-39bf949c6f8b"
      },
      "execution_count": null,
      "outputs": [
        {
          "output_type": "stream",
          "name": "stdout",
          "text": [
            "Original numbers: [1, 2, 3, 4, 5]\n",
            "Squared numbers: [1, 4, 9, 16, 25]\n"
          ]
        }
      ]
    },
    {
      "cell_type": "markdown",
      "source": [
        "## **3.How does the `map()` function differ from a list comprehension in Python, and when would you choose one over the other?**\n"
      ],
      "metadata": {
        "id": "wx7ti3XyBlC5"
      }
    },
    {
      "cell_type": "markdown",
      "source": [
        "### <font color='orange'>Differences between `map()` function and list comprehension:\n",
        "\n",
        "1. **Syntax**:\n",
        "   - The <font color='blue'>`map()` function</font> takes two arguments: the function to apply and the iterable to apply it to. It returns an iterator.\n",
        "   - List comprehension has a more concise syntax, allowing you to apply an expression to each element of an iterable and optionally filter the elements based on a condition.\n",
        "\n",
        "2. **Readability**:\n",
        "   - List comprehension is often considered more readable and Pythonic, especially for simple transformations of data.\n",
        "   - The <font color='blue'>`map()` function</font> may be less intuitive for some developers, especially when used with lambda functions.\n",
        "\n",
        "3. **Flexibility**:\n",
        "   - List comprehension provides more flexibility in terms of expression complexity and the ability to include conditionals for filtering elements.\n",
        "   - The <font color='blue'>`map()` function</font> is generally less flexible and suited for simple transformation tasks.\n",
        "\n",
        "### <font color='orange'>When to choose one over the other:\n",
        "\n",
        "- **For simplicity and readability**, especially for straightforward transformations, **list comprehension** is often preferred.\n",
        "- **For more complex transformations** or when applying functions that are already defined elsewhere in the codebase, the **<font color='blue'>`map()` function</font>** can be a suitable choice.\n",
        "- **For performance**, both approaches are generally comparable, but in some cases, list comprehension may be slightly faster due to its internal optimizations. However, the difference is usually negligible.\n",
        "\n",
        "In summary, choose **list comprehension** for simplicity and readability, especially for simple transformations and when you need more flexibility, while the **<font color='blue'>`map()` function</font>** can be suitable for more complex transformations or when applying existing functions to every element of an iterable. Ultimately, the choice depends on the specific requirements of the task and personal preference.\n"
      ],
      "metadata": {
        "id": "Yo0AjKjGPTgg"
      }
    },
    {
      "cell_type": "markdown",
      "source": [
        "## **4.Create a Python program that uses the `map()` function to convert a list of names to uppercase.**\n"
      ],
      "metadata": {
        "id": "sPjS-jAQPnrb"
      }
    },
    {
      "cell_type": "code",
      "source": [
        "# Python program to convert a list of names to uppercase using the map() function\n",
        "\n",
        "# Define a list of names\n",
        "names = [\"Alice\", \"Bob\", \"Charlie\", \"David\", \"Emma\"]\n",
        "\n",
        "# Use the map() function to convert each name to uppercase\n",
        "uppercase_names = map(str.upper, names)\n",
        "\n",
        "# Convert the result to a list and print\n",
        "uppercase_names_list = list(uppercase_names)\n",
        "print(\"Uppercase names:\", uppercase_names_list)\n"
      ],
      "metadata": {
        "id": "dojrBzwXBlQ_",
        "colab": {
          "base_uri": "https://localhost:8080/"
        },
        "outputId": "0968e5d9-2971-45f1-c241-81c81ed1c93e"
      },
      "execution_count": null,
      "outputs": [
        {
          "output_type": "stream",
          "name": "stdout",
          "text": [
            "Uppercase names: ['ALICE', 'BOB', 'CHARLIE', 'DAVID', 'EMMA']\n"
          ]
        }
      ]
    },
    {
      "cell_type": "markdown",
      "source": [
        "## **5.Write a Python program that uses the `map()` function to calculate the length of each word in a list of strings.**\n"
      ],
      "metadata": {
        "id": "1XLA8pg0PoTT"
      }
    },
    {
      "cell_type": "code",
      "source": [
        "# Python program to calculate the length of each word in a list of strings using the map() function\n",
        "\n",
        "# Define a list of strings\n",
        "strings = [\"apple\", \"banana\", \"cherry\", \"date\", \"elderberry\"]\n",
        "\n",
        "# Use the map() function to calculate the length of each word\n",
        "word_lengths = map(len, strings)\n",
        "\n",
        "# Convert the result to a list and print\n",
        "word_lengths_list = list(word_lengths)\n",
        "print(\"Length of each word:\", word_lengths_list)\n"
      ],
      "metadata": {
        "colab": {
          "base_uri": "https://localhost:8080/"
        },
        "id": "dMrv8xZkPol8",
        "outputId": "f3cef397-fe98-41e1-dc9c-0768d02dbd6f"
      },
      "execution_count": null,
      "outputs": [
        {
          "output_type": "stream",
          "name": "stdout",
          "text": [
            "Length of each word: [5, 6, 6, 4, 10]\n"
          ]
        }
      ]
    },
    {
      "cell_type": "markdown",
      "source": [
        "## **6.How can you use the `map()` function to apply a custom function to elements of multiple lists simultaneously in Python?**\n",
        "\n"
      ],
      "metadata": {
        "id": "sQNYbeVFPo0Z"
      }
    },
    {
      "cell_type": "markdown",
      "source": [
        "In Python, you can use the map() function along with a custom function to apply operations to elements of multiple lists simultaneously. This is achieved by passing multiple iterables (lists) as arguments to the map() function along with the custom function.\n",
        "\n",
        "Here's an example demonstrating how to use the map() function to apply a custom function to elements of two lists simultaneously:"
      ],
      "metadata": {
        "id": "4FSQucvfQW6Z"
      }
    },
    {
      "cell_type": "code",
      "source": [
        "# Define custom function to add corresponding elements of two lists\n",
        "def add_elements(x, y):\n",
        "    return x + y\n",
        "\n",
        "# Define two lists\n",
        "list1 = [1, 2, 3, 4, 5]\n",
        "list2 = [10, 20, 30, 40, 50]\n",
        "\n",
        "# Use map() to apply add_elements function to corresponding elements of lists\n",
        "result = map(add_elements, list1, list2)\n",
        "\n",
        "# Convert result to a list and print\n",
        "result_list = list(result)\n",
        "print(\"Result of adding corresponding elements:\", result_list)\n"
      ],
      "metadata": {
        "colab": {
          "base_uri": "https://localhost:8080/"
        },
        "id": "qfhE-WwpPpBV",
        "outputId": "6d4e6462-0ef1-4d9e-872c-14746f66bbcf"
      },
      "execution_count": null,
      "outputs": [
        {
          "output_type": "stream",
          "name": "stdout",
          "text": [
            "Result of adding corresponding elements: [11, 22, 33, 44, 55]\n"
          ]
        }
      ]
    },
    {
      "cell_type": "markdown",
      "source": [
        "In this example:\n",
        "\n",
        "- We define a custom function add_elements(x, y) that takes two arguments x and y and returns their sum.\n",
        "- We have two lists list1 and list2.\n",
        "- We use the map() function to apply the add_elements() function to corresponding elements of list1 and list2.\n",
        "- The map() function returns an iterator, so we convert it to a list using list() to see the result.\n",
        "- Finally, we print the result, which contains the sum of corresponding elements from list1 and list2."
      ],
      "metadata": {
        "id": "bQwNUIQuPpOT"
      }
    },
    {
      "cell_type": "markdown",
      "source": [
        "## **7.Create a Python program that uses `map()` to convert a list of temperatures from Celsius to Fahrenheit.**\n"
      ],
      "metadata": {
        "id": "IfilNKW0QsQu"
      }
    },
    {
      "cell_type": "code",
      "source": [
        "# Define a function to convert Celsius to Fahrenheit\n",
        "def celsius_to_fahrenheit(celsius):\n",
        "    return (celsius * 9/5) + 32\n",
        "\n",
        "# Define a list of temperatures in Celsius\n",
        "temperatures_celsius = [20, 25, 30, 35, 40]\n",
        "\n",
        "# Use map() to apply the conversion function to each temperature\n",
        "temperatures_fahrenheit = map(celsius_to_fahrenheit, temperatures_celsius)\n",
        "\n",
        "# Convert the result to a list and print\n",
        "temperatures_fahrenheit_list = list(temperatures_fahrenheit)\n",
        "print(\"Temperatures in Fahrenheit:\", temperatures_fahrenheit_list)\n"
      ],
      "metadata": {
        "colab": {
          "base_uri": "https://localhost:8080/"
        },
        "id": "3SPJg9dgPpax",
        "outputId": "1f6d5645-0c00-4cf7-c0db-1a69f5795ae4"
      },
      "execution_count": null,
      "outputs": [
        {
          "output_type": "stream",
          "name": "stdout",
          "text": [
            "Temperatures in Fahrenheit: [68.0, 77.0, 86.0, 95.0, 104.0]\n"
          ]
        }
      ]
    },
    {
      "cell_type": "markdown",
      "source": [
        "## **8.Write a Python program that uses the `map()` function to round each element of a list of floating-point numbers to the nearest integer.**\n"
      ],
      "metadata": {
        "id": "Tb7nNAycPpou"
      }
    },
    {
      "cell_type": "code",
      "source": [
        "# Define a list of floating-point numbers\n",
        "numbers = [3.14, 2.718, 1.618, 4.669, 0.577]\n",
        "\n",
        "# Use map() to apply the round function to each number\n",
        "rounded_numbers = map(round, numbers)\n",
        "\n",
        "# Convert the result to a list and print\n",
        "rounded_numbers_list = list(rounded_numbers)\n",
        "print(\"Rounded numbers:\", rounded_numbers_list)\n"
      ],
      "metadata": {
        "colab": {
          "base_uri": "https://localhost:8080/"
        },
        "id": "1XaPSeyJPp0y",
        "outputId": "9b0ec311-feb4-456d-f927-277a5abb6e1a"
      },
      "execution_count": null,
      "outputs": [
        {
          "output_type": "stream",
          "name": "stdout",
          "text": [
            "Rounded numbers: [3, 3, 2, 5, 1]\n"
          ]
        }
      ]
    },
    {
      "cell_type": "markdown",
      "source": [
        "# **<font color='blue'>Reduce :-**\n"
      ],
      "metadata": {
        "id": "k3K6-TD_RJvE"
      }
    },
    {
      "cell_type": "markdown",
      "source": [
        "## **1.What is the `reduce()` function in Python, and what module should you import to use it? Provide an example of its basic usage.**\n"
      ],
      "metadata": {
        "id": "DBQLlVlGRMDp"
      }
    },
    {
      "cell_type": "markdown",
      "source": [
        "The reduce() function in Python is a part of the functools module. It is used to apply a function of two arguments cumulatively to the items of an iterable, from left to right, so as to reduce the iterable to a single value.\n",
        "\n",
        "Here's an example of its basic usage:"
      ],
      "metadata": {
        "id": "5-I2wHxDTAAC"
      }
    },
    {
      "cell_type": "code",
      "source": [
        "# Python program to demonstrate the usage of the reduce() function\n",
        "\n",
        "# Import the functools module to use the reduce() function\n",
        "from functools import reduce\n",
        "\n",
        "# Define a custom function to add two numbers\n",
        "def add(x, y):\n",
        "    return x + y\n",
        "\n",
        "# Define a list of numbers\n",
        "numbers = [1, 2, 3, 4, 5]\n",
        "\n",
        "# Use reduce() to find the sum of all numbers in the list\n",
        "sum_of_numbers = reduce(add, numbers)\n",
        "\n",
        "# Print the result\n",
        "print(\"Sum of numbers:\", sum_of_numbers)\n"
      ],
      "metadata": {
        "colab": {
          "base_uri": "https://localhost:8080/"
        },
        "id": "InlPjiTUQ_cv",
        "outputId": "5687ebdf-2645-4f05-d4c8-946e9365eba3"
      },
      "execution_count": null,
      "outputs": [
        {
          "output_type": "stream",
          "name": "stdout",
          "text": [
            "Sum of numbers: 15\n"
          ]
        }
      ]
    },
    {
      "cell_type": "markdown",
      "source": [
        "In this example:\n",
        "\n",
        "- We import the reduce() function from the functools module.\n",
        "- We define a custom function add(x, y) that takes two numbers as input and returns their sum.\n",
        "- We have a list of numbers numbers.\n",
        "- We use the reduce() function to apply the add() function cumulatively to the items of the numbers list, resulting in the sum of all numbers.\n",
        "- Finally, we print the sum of the numbers.\n",
        "\n",
        "The reduce() function is useful when you need to perform calculations on all elements of an iterable and accumulate the result into a single value.\n",
        "\n",
        "\n",
        "\n",
        "\n",
        "\n",
        "\n"
      ],
      "metadata": {
        "id": "87r6wUNaRMyU"
      }
    },
    {
      "cell_type": "markdown",
      "source": [
        "## **2.Write a Python program that uses the `reduce()` function to find the product of all elements in a list.**\n"
      ],
      "metadata": {
        "id": "bkfT4msVTUC6"
      }
    },
    {
      "cell_type": "code",
      "source": [
        "# Python program to find the product of all elements in a list using the reduce() function\n",
        "\n",
        "# Import the functools module to use the reduce() function\n",
        "from functools import reduce\n",
        "\n",
        "# Define a list of numbers\n",
        "numbers = [1, 2, 3, 4, 5]\n",
        "\n",
        "# Define a custom function to multiply two numbers\n",
        "def multiply(x, y):\n",
        "    return x * y\n",
        "\n",
        "# Use reduce() to find the product of all numbers in the list\n",
        "product_of_numbers = reduce(multiply, numbers)\n",
        "\n",
        "# Print the result\n",
        "print(\"Product of numbers:\", product_of_numbers)\n"
      ],
      "metadata": {
        "colab": {
          "base_uri": "https://localhost:8080/"
        },
        "id": "4F1i8_FdRNCb",
        "outputId": "d15e4d17-d555-46aa-ee1b-48fda99da375"
      },
      "execution_count": null,
      "outputs": [
        {
          "output_type": "stream",
          "name": "stdout",
          "text": [
            "Product of numbers: 120\n"
          ]
        }
      ]
    },
    {
      "cell_type": "markdown",
      "source": [
        "## **3.Create a Python program that uses `reduce()` to find the maximum element in a list of numbers.**\n"
      ],
      "metadata": {
        "id": "r2RRnkCkRNPN"
      }
    },
    {
      "cell_type": "code",
      "source": [
        "# Python program to find the maximum element in a list of numbers using the reduce() function\n",
        "\n",
        "# Import the functools module to use the reduce() function\n",
        "from functools import reduce\n",
        "\n",
        "# Define a list of numbers\n",
        "numbers = [10, 5, 8, 20, 15]\n",
        "\n",
        "# Use reduce() to find the maximum element in the list\n",
        "max_number = reduce(lambda x, y: x if x > y else y, numbers)\n",
        "\n",
        "# Print the result\n",
        "print(\"Maximum number:\", max_number)\n"
      ],
      "metadata": {
        "colab": {
          "base_uri": "https://localhost:8080/"
        },
        "id": "nUpBYBNCRNcC",
        "outputId": "3f4b4937-0ffb-4a66-e065-99329c8b3817"
      },
      "execution_count": null,
      "outputs": [
        {
          "output_type": "stream",
          "name": "stdout",
          "text": [
            "Maximum number: 20\n"
          ]
        }
      ]
    },
    {
      "cell_type": "markdown",
      "source": [
        "## **4.How can you use the `reduce()` function to concatenate a list of strings into a single string?**\n"
      ],
      "metadata": {
        "id": "DqW_7RFvRNmm"
      }
    },
    {
      "cell_type": "markdown",
      "source": [
        "\n",
        "You can use the reduce() function to concatenate a list of strings into a single string by applying a function that concatenates two strings together. Here's how you can do it:"
      ],
      "metadata": {
        "id": "ZOLwJavFUCoh"
      }
    },
    {
      "cell_type": "code",
      "source": [
        "# Python program to concatenate a list of strings into a single string using the reduce() function\n",
        "\n",
        "# Import the functools module to use the reduce() function\n",
        "from functools import reduce\n",
        "\n",
        "# Define a list of strings\n",
        "strings = [\"hello\", \"world\", \"how\", \"are\", \"you\"]\n",
        "\n",
        "# Use reduce() to concatenate the strings into a single string\n",
        "concatenated_string = reduce(lambda x, y: x + y, strings)\n",
        "\n",
        "# Print the result\n",
        "print(\"Concatenated string:\", concatenated_string)\n"
      ],
      "metadata": {
        "colab": {
          "base_uri": "https://localhost:8080/"
        },
        "id": "vrkxo1bxRNwd",
        "outputId": "e4c717b2-cfb4-49c3-a41d-62196f2f0d1b"
      },
      "execution_count": null,
      "outputs": [
        {
          "output_type": "stream",
          "name": "stdout",
          "text": [
            "Concatenated string: helloworldhowareyou\n"
          ]
        }
      ]
    },
    {
      "cell_type": "markdown",
      "source": [
        "In the above code:\n",
        "\n",
        "- We import the reduce() function from the functools module.\n",
        "- We have a list of strings strings.\n",
        "- We use the reduce() function with a lambda function to concatenate each pair of strings together.\n",
        "- Finally, we print the concatenated string, which contains all the strings from the original list concatenated into one."
      ],
      "metadata": {
        "id": "_OnEjBYWRN8U"
      }
    },
    {
      "cell_type": "markdown",
      "source": [
        "## **5.Write a Python program that calculates the factorial of a number using the `reduce()` function.**\n"
      ],
      "metadata": {
        "id": "N9zuWAClUYgO"
      }
    },
    {
      "cell_type": "code",
      "source": [
        "# Python program to calculate the factorial of a number using the reduce() function\n",
        "\n",
        "# Import the functools module to use the reduce() function\n",
        "from functools import reduce\n",
        "\n",
        "# Define a function to multiply two numbers\n",
        "def multiply(x, y):\n",
        "    return x * y\n",
        "\n",
        "# Define a function to calculate the factorial of a number\n",
        "def factorial(n):\n",
        "    # Check if n is 0 or 1, in which case factorial is 1\n",
        "    if n == 0 or n == 1:\n",
        "        return 1\n",
        "    else:\n",
        "        # Use reduce() to multiply all numbers from 1 to n\n",
        "        return reduce(multiply, range(1, n + 1))\n",
        "\n",
        "# Input the number\n",
        "num = int(input(\"Enter a number: \"))\n",
        "\n",
        "# Calculate the factorial using the factorial() function\n",
        "result = factorial(num)\n",
        "\n",
        "# Print the result\n",
        "print(\"Factorial of\", num, \"is\", result)\n",
        "\n"
      ],
      "metadata": {
        "colab": {
          "base_uri": "https://localhost:8080/"
        },
        "id": "ycHFDnEQROEp",
        "outputId": "a9324708-01fa-4365-8b4f-9748359112eb"
      },
      "execution_count": null,
      "outputs": [
        {
          "output_type": "stream",
          "name": "stdout",
          "text": [
            "Enter a number: 5\n",
            "Factorial of 5 is 120\n"
          ]
        }
      ]
    },
    {
      "cell_type": "markdown",
      "source": [
        "In this program:\n",
        "\n",
        "- We import the reduce() function from the functools module.\n",
        "- We define a function multiply(x, y) to multiply two numbers.\n",
        "- We define a function factorial(n) to calculate the factorial of a number n. It uses reduce() to multiply all numbers from 1 to n.\n",
        "- We input a number from the user.\n",
        "- We calculate the factorial of the input number using the factorial() function.\n",
        "- Finally, we print the result."
      ],
      "metadata": {
        "id": "9E9uittvROQZ"
      }
    },
    {
      "cell_type": "markdown",
      "source": [
        "## **6.Create a Python program that uses `reduce()` to find the GCD (Greatest Common Divisor) of a list of numbers.**"
      ],
      "metadata": {
        "id": "1sO_Eo6VU7FX"
      }
    },
    {
      "cell_type": "code",
      "source": [
        "# Python program to find the Greatest Common Divisor (GCD) of a list of numbers using the reduce() function\n",
        "\n",
        "# Import the functools module to use the reduce() function\n",
        "from functools import reduce\n",
        "\n",
        "# Define a function to calculate the GCD of two numbers\n",
        "def gcd(x, y):\n",
        "    while y != 0:\n",
        "        x, y = y, x % y\n",
        "    return x\n",
        "\n",
        "# Define a list of numbers\n",
        "numbers = [48, 60, 72, 84]\n",
        "\n",
        "# Use reduce() to find the GCD of all numbers in the list\n",
        "gcd_of_numbers = reduce(gcd, numbers)\n",
        "\n",
        "# Print the result\n",
        "print(\"GCD of numbers:\", gcd_of_numbers)\n",
        "\n"
      ],
      "metadata": {
        "colab": {
          "base_uri": "https://localhost:8080/"
        },
        "id": "sYlNvZkSROYx",
        "outputId": "9f6033c4-7b85-4926-b152-f33fd040854e"
      },
      "execution_count": null,
      "outputs": [
        {
          "output_type": "stream",
          "name": "stdout",
          "text": [
            "GCD of numbers: 12\n"
          ]
        }
      ]
    },
    {
      "cell_type": "markdown",
      "source": [
        "## **7.Write a Python program that uses the `reduce()` function to find the sum of the digits of a given number.**\n"
      ],
      "metadata": {
        "id": "kbuRvCq_ROiw"
      }
    },
    {
      "cell_type": "code",
      "source": [
        "# Python program to find the sum of the digits of a given number using the reduce() function\n",
        "\n",
        "# Import the functools module to use the reduce() function\n",
        "from functools import reduce\n",
        "\n",
        "# Define a function to calculate the sum of the digits of a number\n",
        "def sum_of_digits(number):\n",
        "    return reduce(lambda x, y: int(x) + int(y), str(number))\n",
        "\n",
        "# Input the number\n",
        "number = int(input(\"Enter a number: \"))\n",
        "\n",
        "# Calculate the sum of the digits using the sum_of_digits() function\n",
        "sum_digits = sum_of_digits(number)\n",
        "\n",
        "# Print the result\n",
        "print(\"Sum of the digits:\", sum_digits)\n"
      ],
      "metadata": {
        "colab": {
          "base_uri": "https://localhost:8080/"
        },
        "id": "als74U37ROrU",
        "outputId": "fd327a46-9921-44b6-ed7e-1bc5a48d5642"
      },
      "execution_count": null,
      "outputs": [
        {
          "output_type": "stream",
          "name": "stdout",
          "text": [
            "Enter a number: 544745\n",
            "Sum of the digits: 29\n"
          ]
        }
      ]
    },
    {
      "cell_type": "markdown",
      "source": [
        "# **<font color='blue'>Filter** :-\n"
      ],
      "metadata": {
        "id": "YbYL6_bbRO2D"
      }
    },
    {
      "cell_type": "markdown",
      "source": [
        "## **1.Explain the purpose of the `filter()` function in Python and provide an example of how it can be used to filter elements from an iterable.**\n"
      ],
      "metadata": {
        "id": "a2d_6CMPVkDt"
      }
    },
    {
      "cell_type": "markdown",
      "source": [
        "- The filter() function in Python is used to create an iterator that filters elements from an iterable (such as a list, tuple, or dictionary) based on a specified function, called a \"predicate\" function.\n",
        "\n",
        "- This predicate function should return True or False for each element in the iterable, indicating whether the element should be included in the filtered result.\n",
        "\n",
        "- The filter() function applies the function to each element in the iterable.\n",
        "- If the function returns True for an element, the element is included in the filtered result; otherwise, it is excluded.\n",
        "\n",
        "Here's an example of how the filter() function can be used to filter even numbers from a list:"
      ],
      "metadata": {
        "id": "2fOAncAnXnTn"
      }
    },
    {
      "cell_type": "code",
      "source": [
        "# Define a list of numbers\n",
        "numbers = [1, 2, 3, 4, 5, 6, 7, 8, 9, 10]\n",
        "\n",
        "# Use the filter() function to filter even numbers\n",
        "even_numbers = filter(lambda x: x % 2 == 0, numbers)\n",
        "\n",
        "# Convert the result to a list and print\n",
        "even_numbers_list = list(even_numbers)\n",
        "print(\"Even numbers:\", even_numbers_list)\n"
      ],
      "metadata": {
        "colab": {
          "base_uri": "https://localhost:8080/"
        },
        "id": "WDn9y15URO-u",
        "outputId": "dfadc182-9893-4349-935d-626e85610b5b"
      },
      "execution_count": null,
      "outputs": [
        {
          "output_type": "stream",
          "name": "stdout",
          "text": [
            "Even numbers: [2, 4, 6, 8, 10]\n"
          ]
        }
      ]
    },
    {
      "cell_type": "markdown",
      "source": [
        "In this example:\n",
        "\n",
        "- We have a list of numbers numbers.\n",
        "- We use the filter() function with a lambda function lambda x: x % 2 == 0 to filter even numbers from the list.\n",
        "- The lambda function returns True if the number is even (i.e., if it's divisible by 2) and False otherwise.\n",
        "- The filter() function returns an iterator containing only the even numbers.\n",
        "- We convert the iterator to a list using list() and print the result."
      ],
      "metadata": {
        "id": "33Iin0hoRPIp"
      }
    },
    {
      "cell_type": "markdown",
      "source": [
        "## **2.Write a Python program that uses the `filter()` function to select even numbers from a list of integers.**\n"
      ],
      "metadata": {
        "id": "kOIBFet4YNk2"
      }
    },
    {
      "cell_type": "code",
      "source": [
        "# Define a list of numbers\n",
        "numbers = [1, 2, 3, 4, 5, 6, 7, 8, 9, 10]\n",
        "\n",
        "# Use the filter() function to select even numbers\n",
        "even_numbers = filter(lambda x: x % 2 == 0, numbers)\n",
        "\n",
        "# Convert the result to a list and print\n",
        "even_numbers_list = list(even_numbers)\n",
        "print(\"Even numbers:\", even_numbers_list)\n"
      ],
      "metadata": {
        "colab": {
          "base_uri": "https://localhost:8080/"
        },
        "id": "M4PAgCNrRPSR",
        "outputId": "87c1fd24-532b-493d-98ae-bb7024d08a7d"
      },
      "execution_count": null,
      "outputs": [
        {
          "output_type": "stream",
          "name": "stdout",
          "text": [
            "Even numbers: [2, 4, 6, 8, 10]\n"
          ]
        }
      ]
    },
    {
      "cell_type": "markdown",
      "source": [
        "## **3.Create a Python program that uses the `filter()` function to select names that start with a specific letter from a list of strings.**\n"
      ],
      "metadata": {
        "id": "oetSrf5zRPcx"
      }
    },
    {
      "cell_type": "code",
      "source": [
        "# Define a list of names\n",
        "names = [\"Alice\", \"Bob\", \"Charlie\", \"David\", \"Emma\", \"Ethan\", \"Grace\"]\n",
        "\n",
        "# Specify the letter to filter names by\n",
        "letter = \"E\"\n",
        "\n",
        "# Use the filter() function to select names starting with the specified letter\n",
        "selected_names = filter(lambda name: name.startswith(letter), names)\n",
        "\n",
        "# Convert the result to a list and print\n",
        "selected_names_list = list(selected_names)\n",
        "print(f\"Names starting with '{letter}':\", selected_names_list)\n"
      ],
      "metadata": {
        "colab": {
          "base_uri": "https://localhost:8080/"
        },
        "id": "pobyjX42RQsF",
        "outputId": "c0a9d53c-2e11-43b7-80c0-564d94e487b5"
      },
      "execution_count": null,
      "outputs": [
        {
          "output_type": "stream",
          "name": "stdout",
          "text": [
            "Names starting with 'E': ['Emma', 'Ethan']\n"
          ]
        }
      ]
    },
    {
      "cell_type": "markdown",
      "source": [
        "## **4.Write a Python program that uses the `filter()` function to select prime numbers from a list of integers.**"
      ],
      "metadata": {
        "id": "QlF-Oa2fRRIf"
      }
    },
    {
      "cell_type": "code",
      "source": [
        "# Define a function to check if a number is prime\n",
        "def is_prime(n):\n",
        "    if n <= 1:\n",
        "        return False\n",
        "    for i in range(2, int(n**0.5) + 1):\n",
        "        if n % i == 0:\n",
        "            return False\n",
        "    return True\n",
        "\n",
        "# Define a list of numbers\n",
        "numbers = [1, 2, 3, 4, 5, 6, 7, 8, 9, 10]\n",
        "\n",
        "# Use the filter() function to select prime numbers\n",
        "prime_numbers = filter(is_prime, numbers)\n",
        "\n",
        "# Convert the result to a list and print\n",
        "prime_numbers_list = list(prime_numbers)\n",
        "print(\"Prime numbers:\", prime_numbers_list)\n"
      ],
      "metadata": {
        "colab": {
          "base_uri": "https://localhost:8080/"
        },
        "id": "0na6kk17RRYm",
        "outputId": "e4619372-b164-417b-a802-d5c57c87ca06"
      },
      "execution_count": null,
      "outputs": [
        {
          "output_type": "stream",
          "name": "stdout",
          "text": [
            "Prime numbers: [2, 3, 5, 7]\n"
          ]
        }
      ]
    },
    {
      "cell_type": "markdown",
      "source": [
        "## **5.How can you use the `filter()` function to remove None values from a list in Python?**\n"
      ],
      "metadata": {
        "id": "R2WRyiCQRRph"
      }
    },
    {
      "cell_type": "code",
      "source": [
        "# Define a list with None values\n",
        "values = [1, None, 3, None, 5, None, 7, None, 9]\n",
        "\n",
        "# Use the filter() function to remove None values\n",
        "filtered_values = filter(lambda x: x is not None, values)\n",
        "\n",
        "# Convert the result to a list and print\n",
        "filtered_values_list = list(filtered_values)\n",
        "print(\"List with None values removed:\", filtered_values_list)\n",
        "\n"
      ],
      "metadata": {
        "colab": {
          "base_uri": "https://localhost:8080/"
        },
        "id": "JXEkpQHORR2H",
        "outputId": "5dcfee98-91c3-46c1-b78b-53d992252c9d"
      },
      "execution_count": null,
      "outputs": [
        {
          "output_type": "stream",
          "name": "stdout",
          "text": [
            "List with None values removed: [1, 3, 5, 7, 9]\n"
          ]
        }
      ]
    },
    {
      "cell_type": "markdown",
      "source": [
        "## **6.Create a Python program that uses `filter()` to select words longer than a certain length from a list of strings.**"
      ],
      "metadata": {
        "id": "v62n5cuBRSDo"
      }
    },
    {
      "cell_type": "code",
      "source": [
        "# Define a list of strings\n",
        "words = [\"apple\", \"banana\", \"orange\", \"grape\", \"kiwi\", \"pineapple\", \"strawberry\"]\n",
        "\n",
        "# Specify the minimum length for words to be selected\n",
        "min_length = 5\n",
        "\n",
        "# Use the filter() function to select words longer than the specified length\n",
        "selected_words = filter(lambda word: len(word) > min_length, words)\n",
        "\n",
        "# Convert the result to a list and print\n",
        "selected_words_list = list(selected_words)\n",
        "print(f\"Words longer than {min_length} characters:\", selected_words_list)\n"
      ],
      "metadata": {
        "colab": {
          "base_uri": "https://localhost:8080/"
        },
        "id": "pbsVfR2XRSPF",
        "outputId": "929209c8-18fc-4a0f-9a31-cebe5dff8fb0"
      },
      "execution_count": null,
      "outputs": [
        {
          "output_type": "stream",
          "name": "stdout",
          "text": [
            "Words longer than 5 characters: ['banana', 'orange', 'pineapple', 'strawberry']\n"
          ]
        }
      ]
    },
    {
      "cell_type": "markdown",
      "source": [
        "## **7.Write a Python program that uses the `filter()` function to select elements greater than a specified threshold from a list of values.**\n"
      ],
      "metadata": {
        "id": "g83idjkpRSdy"
      }
    },
    {
      "cell_type": "code",
      "source": [
        "# Define a list of values\n",
        "values = [10, 20, 30, 40, 50, 60, 70, 80, 90, 100]\n",
        "\n",
        "# Specify the threshold for selecting elements\n",
        "threshold = 50\n",
        "\n",
        "# Use the filter() function to select elements greater than the specified threshold\n",
        "selected_values = filter(lambda x: x > threshold, values)\n",
        "\n",
        "# Convert the result to a list and print\n",
        "selected_values_list = list(selected_values)\n",
        "print(f\"Values greater than {threshold}:\", selected_values_list)\n"
      ],
      "metadata": {
        "colab": {
          "base_uri": "https://localhost:8080/"
        },
        "id": "0Sizse-SRSog",
        "outputId": "a259169e-adff-450a-bf38-92521a50ca01"
      },
      "execution_count": null,
      "outputs": [
        {
          "output_type": "stream",
          "name": "stdout",
          "text": [
            "Values greater than 50: [60, 70, 80, 90, 100]\n"
          ]
        }
      ]
    },
    {
      "cell_type": "markdown",
      "source": [
        "# **<font color='blue'>Recursion:-**\n"
      ],
      "metadata": {
        "id": "_9nC8odxRS2N"
      }
    },
    {
      "cell_type": "markdown",
      "source": [
        "## ***1.Explain the concept of recursion in Python. How does it differ from iteration?***\n"
      ],
      "metadata": {
        "id": "H34J7T09Z-2J"
      }
    },
    {
      "cell_type": "markdown",
      "source": [
        "<font color='blue'>Recursion</font> is a programming technique where a function calls itself in order to solve a problem. In Python, recursion allows a function to break down a complex problem into smaller, more manageable subproblems and solve each subproblem individually.\n",
        "\n",
        "Here's how <font color='blue'>recursion</font> works:\n",
        "1. The function checks for a base case or terminating condition. This is a condition where the function returns a known value without making any further recursive calls. It prevents the function from infinitely calling itself.\n",
        "2. If the base case is not met, the function calls itself with a modified set of parameters. Each subsequent call should move the function closer to the base case.\n",
        "3. The function continues to call itself recursively until it reaches the base case, at which point it returns a value back up the call stack.\n",
        "\n",
        "<font color='blue'>Recursion</font> can be very elegant and intuitive for certain problems, such as those involving hierarchical data structures like trees and graphs. However, it can also lead to performance issues and stack overflow errors if not implemented carefully, especially for problems with deep recursion levels.\n",
        "\n",
        "On the other hand, <font color='blue'>iteration</font> is a programming technique where a loop is used to repeatedly execute a set of statements until a condition is met. Instead of calling itself, an iterative solution uses loop constructs like `for` loops or `while` loops to iterate through a sequence of instructions.\n",
        "\n",
        "Here's a comparison between <font color='blue'>recursion</font> and <font color='blue'>iteration</font>:\n",
        "\n",
        "| **Recursion**                               | **Iteration**                             |\n",
        "|-----------------------------------------|---------------------------------------|\n",
        "| Uses function calls to solve problems   | Uses loop constructs to solve problems|\n",
        "| Typically involves a base case to terminate recursion | Typically involves a loop condition to terminate iteration |\n",
        "| Can be more intuitive for certain problems, like tree traversal | May require more manual bookkeeping and iteration variables |\n",
        "| Can lead to stack overflow errors if not implemented properly | Less likely to cause stack overflow errors |\n",
        "\n",
        "In summary, <font color='blue'>recursion</font> and <font color='blue'>iteration</font> are both techniques used to solve problems by repeatedly breaking them down into smaller subproblems, but they differ in how they achieve this. <font color='blue'>Recursion</font> involves calling a function within itself, while <font color='blue'>iteration</font> involves using loop constructs to repeat a set of instructions. Each approach has its own advantages and disadvantages, and the choice between them depends on the specific problem being solved and programming preferences.\n"
      ],
      "metadata": {
        "id": "OMhwW7YFcDtI"
      }
    },
    {
      "cell_type": "markdown",
      "source": [
        "## **2.Write a Python program to calculate the factorial of a number using recursion.**"
      ],
      "metadata": {
        "id": "CfaiR_r8c44p"
      }
    },
    {
      "cell_type": "code",
      "source": [
        "def factorial(n):\n",
        "    if n == 0:\n",
        "        return 1\n",
        "    else:\n",
        "        return n * factorial(n - 1)\n",
        "\n",
        "# Test the function\n",
        "number = 5\n",
        "print(f\"The factorial of {number} is {factorial(number)}\")\n",
        "\n"
      ],
      "metadata": {
        "colab": {
          "base_uri": "https://localhost:8080/"
        },
        "id": "jw9urtwVRTAu",
        "outputId": "5de35133-a386-4714-9932-11b9d118bf01"
      },
      "execution_count": null,
      "outputs": [
        {
          "output_type": "stream",
          "name": "stdout",
          "text": [
            "The factorial of 5 is 120\n"
          ]
        }
      ]
    },
    {
      "cell_type": "markdown",
      "source": [
        "## **3.Create a recursive Python function to find the nth Fibonacci number.**\n"
      ],
      "metadata": {
        "id": "dkOD6RGcZ1te"
      }
    },
    {
      "cell_type": "code",
      "source": [
        "def fibonacci(n):\n",
        "    if n <= 1:\n",
        "        return n\n",
        "    else:\n",
        "        return fibonacci(n - 1) + fibonacci(n - 2)\n",
        "\n",
        "# Test the function\n",
        "n = 10\n",
        "print(f\"The {n}th Fibonacci number is {fibonacci(n)}\")\n"
      ],
      "metadata": {
        "colab": {
          "base_uri": "https://localhost:8080/"
        },
        "id": "d5coVtv-Z2AW",
        "outputId": "dd6e4c8d-3561-4ab7-ffc8-b5dd4c76ec34"
      },
      "execution_count": null,
      "outputs": [
        {
          "output_type": "stream",
          "name": "stdout",
          "text": [
            "The 10th Fibonacci number is 55\n"
          ]
        }
      ]
    },
    {
      "cell_type": "markdown",
      "source": [
        "## **4.Write a recursive Python function to calculate the sum of all elements in a list.**\n"
      ],
      "metadata": {
        "id": "mK0gS3y4Z2c4"
      }
    },
    {
      "cell_type": "code",
      "source": [
        "def list_sum(arr):\n",
        "    if len(arr) == 0:\n",
        "        return 0\n",
        "    else:\n",
        "        return arr[0] + list_sum(arr[1:])\n",
        "\n",
        "# Test the function\n",
        "my_list = [1, 2, 3, 4, 5]\n",
        "print(f\"The sum of all elements in the list is {list_sum(my_list)}\")\n"
      ],
      "metadata": {
        "colab": {
          "base_uri": "https://localhost:8080/"
        },
        "id": "3iG2YbRdZ2l3",
        "outputId": "fa937fc0-5f97-49e3-a3a7-adf3305e34bb"
      },
      "execution_count": null,
      "outputs": [
        {
          "output_type": "stream",
          "name": "stdout",
          "text": [
            "The sum of all elements in the list is 15\n"
          ]
        }
      ]
    },
    {
      "cell_type": "markdown",
      "source": [
        "## **5.How can you prevent a recursive function from running indefinitely, causing a stack overflow error?**\n"
      ],
      "metadata": {
        "id": "p2DaqtQzZ3CM"
      }
    },
    {
      "cell_type": "markdown",
      "source": [
        "To prevent a recursive function from running indefinitely and causing a stack overflow error, you can ensure that your recursive function has a base case that allows it to terminate. A **base case** is a condition that is used to stop the recursion by providing a known result without making any further recursive calls.\n",
        "\n",
        "Here are some strategies to prevent infinite recursion and stack overflow errors:\n",
        "\n",
        "1. **Define a Base Case**: Ensure that your recursive function has a base case that specifies when the recursion should stop. This base case should be reached eventually through successive recursive calls.\n",
        "\n",
        "2. **Progress Toward the Base Case**: Each recursive call should move closer to the base case. This ensures that the recursive function will eventually reach the base case and terminate.\n",
        "\n",
        "3. **Limit Recursion Depth**: Some programming languages allow you to limit the maximum recursion depth. You can set a maximum recursion depth to prevent the function from making too many recursive calls.\n",
        "\n",
        "4. **Use Tail Recursion**: Tail recursion is a special case where the recursive call is the last operation performed by the function. Some programming languages optimize tail-recursive functions to use constant stack space, effectively preventing stack overflow errors.\n",
        "\n",
        "5. **Test and Debug**: Test your recursive function with various inputs to ensure that it behaves as expected and terminates correctly. Debug any issues that may cause infinite recursion.\n",
        "\n",
        "By following these strategies, you can prevent recursive functions from running indefinitely and causing stack overflow errors, ensuring that your code behaves correctly and efficiently.\n"
      ],
      "metadata": {
        "id": "vjUYkLdPeMzC"
      }
    },
    {
      "cell_type": "code",
      "source": [
        "#Here's an example Python code implementing a recursive function to calculate the factorial of a number\n",
        "def factorial(n):\n",
        "    if n == 0:  # Base case\n",
        "        return 1\n",
        "    else:\n",
        "        return n * factorial(n - 1)\n",
        "\n",
        "# Test the function\n",
        "number = 5\n",
        "print(f\"The factorial of {number} is {factorial(number)}\")\n"
      ],
      "metadata": {
        "colab": {
          "base_uri": "https://localhost:8080/"
        },
        "id": "NSnCE3g8Z3S0",
        "outputId": "db3f6a99-40c1-4360-c89c-53f00fa65235"
      },
      "execution_count": null,
      "outputs": [
        {
          "output_type": "stream",
          "name": "stdout",
          "text": [
            "The factorial of 5 is 120\n"
          ]
        }
      ]
    },
    {
      "cell_type": "markdown",
      "source": [
        "In this code:\n",
        "\n",
        "- We define a recursive function factorial(n) to calculate the factorial of a number n.\n",
        "\n",
        "- The base case is when n is 0, where the factorial is defined as 1.\n",
        "- In this case, the function returns 1.\n",
        "Otherwise, the function recursively calls itself with the argument n - 1 until the base case is reached.\n",
        "- We test the function with a sample number (in this case, number = 5) and print the result."
      ],
      "metadata": {
        "id": "jX30Ic0oZ3jY"
      }
    },
    {
      "cell_type": "markdown",
      "source": [
        "## **6.Create a recursive Python function to find the greatest common divisor (GCD) of two numbers using the Euclidean algorithm.**\n"
      ],
      "metadata": {
        "id": "8dplDt9oU_Bc"
      }
    },
    {
      "cell_type": "code",
      "source": [
        "def gcd(a, b):\n",
        "    if b == 0:  # Base case: When b becomes 0, a is the GCD\n",
        "        return a\n",
        "    else:\n",
        "        return gcd(b, a % b)  # Recursive call with b and remainder of a divided by b\n",
        "\n",
        "# Test the function\n",
        "num1 = 48\n",
        "num2 = 18\n",
        "print(f\"The GCD of {num1} and {num2} is {gcd(num1, num2)}\")\n"
      ],
      "metadata": {
        "colab": {
          "base_uri": "https://localhost:8080/"
        },
        "id": "RNPuIV3LZ3yO",
        "outputId": "d38b961c-9dc5-4a3a-c709-63e78714dd2b"
      },
      "execution_count": null,
      "outputs": [
        {
          "output_type": "stream",
          "name": "stdout",
          "text": [
            "The GCD of 48 and 18 is 6\n"
          ]
        }
      ]
    },
    {
      "cell_type": "markdown",
      "source": [
        "## **7.Write a recursive Python function to reverse a string.**\n"
      ],
      "metadata": {
        "id": "dBnxSK6BZ4CF"
      }
    },
    {
      "cell_type": "code",
      "source": [
        "def reverse_string(s):\n",
        "    if len(s) == 0:  # Base case: When the string is empty, return empty string\n",
        "        return \"\"\n",
        "    else:\n",
        "        return reverse_string(s[1:]) + s[0]  # Recursively call the function with substring and append the first character\n",
        "\n",
        "# Test the function\n",
        "string = \"hello\"\n",
        "print(f\"The reverse of '{string}' is '{reverse_string(string)}'\")\n"
      ],
      "metadata": {
        "colab": {
          "base_uri": "https://localhost:8080/"
        },
        "id": "t8j3yNZNZ4Ra",
        "outputId": "95bd9ee4-f75c-42f9-a12c-d157a5c04f01"
      },
      "execution_count": null,
      "outputs": [
        {
          "output_type": "stream",
          "name": "stdout",
          "text": [
            "The reverse of 'hello' is 'olleh'\n"
          ]
        }
      ]
    },
    {
      "cell_type": "markdown",
      "source": [
        "## **8.Create a recursive Python function to calculate the power of a number (x^n).**\n"
      ],
      "metadata": {
        "id": "P3bWsPhwZ4hx"
      }
    },
    {
      "cell_type": "code",
      "source": [
        "def power(x, n):\n",
        "    # Base case: if n is 0, return 1\n",
        "    if n == 0:\n",
        "        return 1\n",
        "    # If n is negative, return reciprocal of x raised to positive n\n",
        "    elif n < 0:\n",
        "        return 1 / power(x, -n)\n",
        "    # Recursive case: x^n = x * x^(n-1)\n",
        "    else:\n",
        "        return x * power(x, n - 1)\n",
        "\n",
        "# Example usage:\n",
        "result = power(2, 5)  # Calculates 2^5\n",
        "print(result)  # Output: 32\n"
      ],
      "metadata": {
        "colab": {
          "base_uri": "https://localhost:8080/"
        },
        "id": "vUVSmJMFZ4xp",
        "outputId": "e0e23f74-77fc-4bf3-c10a-eb793372d9c3"
      },
      "execution_count": null,
      "outputs": [
        {
          "output_type": "stream",
          "name": "stdout",
          "text": [
            "32\n"
          ]
        }
      ]
    },
    {
      "cell_type": "markdown",
      "source": [
        "## **9.Write a recursive Python function to find all permutations of a given string.**\n"
      ],
      "metadata": {
        "id": "mZE7rmVHZ5BO"
      }
    },
    {
      "cell_type": "code",
      "source": [
        "def permutations(s):\n",
        "    # Base case: if the string has only one character, return it as a single-element list\n",
        "    if len(s) == 1:\n",
        "        return [s]\n",
        "\n",
        "    # Initialize an empty list to store permutations\n",
        "    perms = []\n",
        "\n",
        "    # Iterate through each character in the string\n",
        "    for i in range(len(s)):\n",
        "        # Extract the current character\n",
        "        current_char = s[i]\n",
        "\n",
        "        # Generate the remaining string by excluding the current character\n",
        "        remaining_chars = s[:i] + s[i+1:]\n",
        "\n",
        "        # Recursively find permutations of the remaining string\n",
        "        remaining_perms = permutations(remaining_chars)\n",
        "\n",
        "        # Append the current character to each permutation of the remaining string\n",
        "        for perm in remaining_perms:\n",
        "            perms.append(current_char + perm)\n",
        "\n",
        "    return perms\n",
        "\n",
        "# Example usage:\n",
        "input_string = \"abc\"\n",
        "result = permutations(input_string)\n",
        "print(result)\n"
      ],
      "metadata": {
        "colab": {
          "base_uri": "https://localhost:8080/"
        },
        "id": "R31rQ_cHZ5RA",
        "outputId": "ed993ba3-7ec9-4d8d-e888-53c6e5dd734c"
      },
      "execution_count": null,
      "outputs": [
        {
          "output_type": "stream",
          "name": "stdout",
          "text": [
            "['abc', 'acb', 'bac', 'bca', 'cab', 'cba']\n"
          ]
        }
      ]
    },
    {
      "cell_type": "markdown",
      "source": [
        "## **10.Write a recursive Python function to check if a string is a palindrome.**\n"
      ],
      "metadata": {
        "id": "QDVrSEh-Z5f3"
      }
    },
    {
      "cell_type": "code",
      "source": [
        "def is_palindrome(s):\n",
        "    # Base case: if the string has 0 or 1 characters, it's a palindrome\n",
        "    if len(s) <= 1:\n",
        "        return True\n",
        "\n",
        "    # Check if the first and last characters are the same\n",
        "    if s[0] != s[-1]:\n",
        "        return False\n",
        "\n",
        "    # Recursively check if the substring excluding the first and last characters is a palindrome\n",
        "    return is_palindrome(s[1:-1])\n",
        "\n",
        "# Example usage:\n",
        "input_string = \"radar\"\n",
        "print(is_palindrome(input_string))  # Output: True\n",
        "\n",
        "input_string = \"hello\"\n",
        "print(is_palindrome(input_string))  # Output: False\n"
      ],
      "metadata": {
        "colab": {
          "base_uri": "https://localhost:8080/"
        },
        "id": "P_KOQdDRZ5vq",
        "outputId": "07efd017-a6ac-4ebc-db0c-e88d86c654dc"
      },
      "execution_count": null,
      "outputs": [
        {
          "output_type": "stream",
          "name": "stdout",
          "text": [
            "True\n",
            "False\n"
          ]
        }
      ]
    },
    {
      "cell_type": "markdown",
      "source": [
        "## **11.Create a recursive Python function to generate all possible combinations of a list of elements.**\n"
      ],
      "metadata": {
        "id": "RqAM2IpAZ6B3"
      }
    },
    {
      "cell_type": "code",
      "source": [
        "def combinations(elements, k):\n",
        "    # Base case: if k is 0, return an empty list (no combinations)\n",
        "    if k == 0:\n",
        "        return [[]]\n",
        "\n",
        "    # Base case: if k is equal to the length of elements, return the list itself as a combination\n",
        "    if k == len(elements):\n",
        "        return [elements]\n",
        "\n",
        "    # Base case: if elements is empty, there are no combinations\n",
        "    if not elements:\n",
        "        return []\n",
        "\n",
        "    # Recursive case:\n",
        "    # Combine the first element with all combinations of length k-1 from the rest of the list\n",
        "    first = elements[0]\n",
        "    rest = elements[1:]\n",
        "\n",
        "    # Recursive call to generate combinations without including the first element\n",
        "    without_first = combinations(rest, k)\n",
        "\n",
        "    # Recursive call to generate combinations including the first element\n",
        "    with_first = combinations(rest, k - 1)\n",
        "\n",
        "    # Append the first element to combinations of length k-1\n",
        "    with_first = [[first] + combo for combo in with_first]\n",
        "\n",
        "    # Concatenate combinations without the first element and combinations with the first element\n",
        "    return with_first + without_first\n",
        "\n",
        "# Example usage:\n",
        "elements = ['a', 'b', 'c']\n",
        "k = 2\n",
        "result = combinations(elements, k)\n",
        "print(result)\n"
      ],
      "metadata": {
        "colab": {
          "base_uri": "https://localhost:8080/"
        },
        "id": "LHPuL1nnZ6Rx",
        "outputId": "9000da59-187d-4fb0-f8d0-4f4d12d9ee2a"
      },
      "execution_count": null,
      "outputs": [
        {
          "output_type": "stream",
          "name": "stdout",
          "text": [
            "[['a', 'b'], ['a', 'c'], ['b', 'c']]\n"
          ]
        }
      ]
    },
    {
      "cell_type": "markdown",
      "source": [
        "# **<font color='blue'>Basics of Functions:**\n"
      ],
      "metadata": {
        "id": "SEQaqKeUZ6hs"
      }
    },
    {
      "cell_type": "markdown",
      "source": [
        "## **1.What is a function in Python, and why is it used?**\n"
      ],
      "metadata": {
        "id": "HteyOBpwWY_M"
      }
    },
    {
      "cell_type": "markdown",
      "source": [
        "### In Python, a function is a block of reusable code that performs a specific task. Functions are defined using the `def` keyword followed by the function name, a list of parameters (optional), and a block of code to execute when the function is called.\n",
        "\n",
        "### **Functions are used to:**\n",
        "\n",
        "- **Encapsulate logic**: Functions allow you to encapsulate a piece of code and give it a name, making your code more modular and easier to understand. This helps in organizing code into smaller, manageable chunks.\n",
        "\n",
        "- **Reuse code**: Once defined, functions can be called multiple times from different parts of the program, reducing code duplication and promoting code reuse. This helps in maintaining consistency and avoiding errors caused by redundant code.\n",
        "\n",
        "- **Abstraction**: Functions allow you to abstract away complex operations by providing a simple interface. Users of the function don't need to know the internal implementation details; they only need to know how to use it.\n",
        "\n",
        "- **Parameterization**: Functions can accept input parameters, allowing them to operate on different data or perform different tasks based on the input provided. This makes functions flexible and adaptable to various scenarios.\n",
        "\n",
        "- **Modularity**: By breaking down a program into smaller functions, each responsible for a specific task, you can enhance the modularity of your codebase. This makes it easier to debug, test, and maintain the code.\n",
        "\n",
        "Here's how you can define a simple function in Python:\n",
        "```python\n",
        "def greet(name):\n",
        "    print(\"Hello,\", name)\n",
        "\n",
        "# Call the function\n",
        "greet(\"Alice\")\n",
        "```\n",
        "<font color='orange'>This function greet() takes one parameter name and prints a greeting message. When called with \"Alice\" as an argument, it prints \"Hello, Alice\"."
      ],
      "metadata": {
        "id": "uFH6GsogWgIV"
      }
    },
    {
      "cell_type": "markdown",
      "source": [
        "## **2.How do you define a function in Python? Provide an example.**\n"
      ],
      "metadata": {
        "id": "TcDoqvBMYDdR"
      }
    },
    {
      "cell_type": "markdown",
      "source": [
        "**To define a function in Python, you use the `def` keyword followed by the name of the function, parentheses containing any parameters the function takes (if any), and then a colon `:` to indicate the beginning of the function block. Inside the function block, you write the code that the function will execute when it's called.**\n",
        "\n",
        "Here's an example of how to define a simple function in Python:\n",
        "\n",
        "```python\n",
        "def greet(name):\n",
        "    \"\"\"This function greets the person with the given name.\"\"\"\n",
        "    print(\"Hello,\", name)\n",
        "\n",
        "# Call the function\n",
        "greet(\"Alice\")\n",
        "```\n",
        "In this example:\n",
        "\n",
        "- We define a function called greet using the def keyword.\n",
        "- The function takes one parameter named name.\n",
        "- Inside the function, we print a greeting message using the print statement.\n",
        "- We call the greet function with the argument \"Alice\", which prints Hello, Alice."
      ],
      "metadata": {
        "id": "vFAYkCekYayE"
      }
    },
    {
      "cell_type": "markdown",
      "source": [
        "## **3.Explain the difference between a function definition and a function call.**\n"
      ],
      "metadata": {
        "id": "qsD8fKmEYypL"
      }
    },
    {
      "cell_type": "markdown",
      "source": [
        "### <font color='green'>Function Definition vs Function Call\n",
        "\n",
        "**Function Definition**:\n",
        "- **Definition**: A function definition is the process of creating a function in Python. It involves specifying the name of the function, its parameters (if any), and the code that should be executed when the function is called.\n",
        "- **Syntax**: Function definition is done using the `def` keyword followed by the function name, parentheses containing the parameters (if any), and a colon `:`. The code block defining the function is indented.\n",
        "- **Role**: The purpose of a function definition is to create a reusable block of code that can be executed whenever needed by calling the function.\n",
        "- **Example**:\n",
        "  ```python\n",
        "  def greet(name):\n",
        "      print(\"Hello,\", name)\n",
        "```\n",
        "#\n",
        "\n",
        "**Function call**:\n",
        "- **Definition**: A function call is the process of invoking or executing a defined function in Python. It involves using the function's name along with any required arguments in order to execute the code defined within the function.\n",
        "- **Syntax**:Function call is done by simply using the function name followed by parentheses containing any arguments (if required) that are passed to the function.\n",
        "- **Role**: The purpose of a function call is to execute the code defined within the function at a specific point in the program.\n",
        "- **Example**:\n",
        "  ```python\n",
        "  greet(\"Alice\")\n"
      ],
      "metadata": {
        "id": "IXR-SKzfZMoA"
      }
    },
    {
      "cell_type": "markdown",
      "source": [
        "## **4.Write a Python program that defines a function to calculate the sum of two numbers and then calls the function.**\n"
      ],
      "metadata": {
        "id": "5RxJRMKJaYQL"
      }
    },
    {
      "cell_type": "code",
      "source": [
        "def calculate_sum(a, b):\n",
        "    \"\"\"This function calculates the sum of two numbers.\"\"\"\n",
        "    return a + b\n",
        "\n",
        "# Call the function\n",
        "num1 = 5\n",
        "num2 = 7\n",
        "result = calculate_sum(num1, num2)\n",
        "print(\"The sum of\", num1, \"and\", num2, \"is:\", result)\n"
      ],
      "metadata": {
        "colab": {
          "base_uri": "https://localhost:8080/"
        },
        "id": "4AixuU2HZ6xs",
        "outputId": "db34639b-9ac4-4133-cd5d-72447f9a9a28"
      },
      "execution_count": null,
      "outputs": [
        {
          "output_type": "stream",
          "name": "stdout",
          "text": [
            "The sum of 5 and 7 is: 12\n"
          ]
        }
      ]
    },
    {
      "cell_type": "markdown",
      "source": [
        "## **5.What is a function signature, and what information does it typically include?**\n"
      ],
      "metadata": {
        "id": "NtR1MFKFZ7C2"
      }
    },
    {
      "cell_type": "markdown",
      "source": [
        "###<font color='green'>Function Signature\n",
        "\n",
        "A function signature, also known as a function prototype or function declaration, defines the interface of a function in a programming language. It specifies various characteristics of the function, such as its name, return type, and parameters.\n",
        "\n",
        "A function signature typically includes the following information:\n",
        "\n",
        "1. **Function Name**: The name of the function, which uniquely identifies it within the program.\n",
        "\n",
        "2. **Return Type**: The data type of the value that the function returns after its execution. If the function doesn't return any value, the return type is usually specified as `void` or equivalent.\n",
        "\n",
        "3. **Parameters**: The list of parameters, if any, that the function accepts. Each parameter includes its data type and, optionally, a name.\n",
        "\n",
        "Together, these elements define the function signature and provide essential information about how the function can be used, including how to call it and what to expect as a result.\n",
        "\n",
        "For example, consider the following function signature in C:\n",
        "\n",
        "```c\n",
        "int add(int a, int b);\n",
        "```\n",
        "In this function signature:\n",
        "\n",
        "- int specifies the return type, indicating that the function returns an integer value.\n",
        "- add is the name of the function.\n",
        "- (int a, int b) lists the parameters the function accepts, both of which are integers.\n",
        "\n",
        "```python\n",
        "def greet(name: str) -> str:\n",
        "    \"\"\"This function greets the person with the given name.\"\"\"\n",
        "    return \"Hello, \" + name\n",
        "```\n",
        "In this Python function signature:\n",
        "\n",
        "- def greet(name: str) -> str:\n",
        "- def keyword indicates the start of a function definition.\n",
        "greet is the name of the function.\n",
        "- (name: str) defines a parameter named name with the type annotation str, indicating that the parameter should be a string.\n",
        "- -> str specifies the return type of the function as str, indicating that the function returns a string.\n",
        "\n",
        "Function signatures are often used during function declaration or definition to provide a clear understanding of the function's purpose and usage. They serve as documentation for developers working on the codebase and help ensure proper usage of functions throughout the program."
      ],
      "metadata": {
        "id": "OD1W6Gbkbbng"
      }
    },
    {
      "cell_type": "markdown",
      "source": [],
      "metadata": {
        "id": "_aW7tXYGcsHp"
      }
    },
    {
      "cell_type": "markdown",
      "source": [
        "## **6.Create a Python function that takes two arguments and returns their product.**\n"
      ],
      "metadata": {
        "id": "N5Jpy8r4csSk"
      }
    },
    {
      "cell_type": "code",
      "source": [
        "def product(x, y):\n",
        "    \"\"\"This function takes two arguments and returns their product.\"\"\"\n",
        "    return x * y\n",
        "\n",
        "# Example usage:\n",
        "result = product(3, 5)\n",
        "print(\"The product of 3 and 5 is:\", result)\n"
      ],
      "metadata": {
        "colab": {
          "base_uri": "https://localhost:8080/"
        },
        "id": "NoSUIC7aZ7Sq",
        "outputId": "4d567995-f8db-49bc-a983-2753f478ce5e"
      },
      "execution_count": null,
      "outputs": [
        {
          "output_type": "stream",
          "name": "stdout",
          "text": [
            "The product of 3 and 5 is: 15\n"
          ]
        }
      ]
    },
    {
      "cell_type": "markdown",
      "source": [
        "# **<font color='blue'>Function Parameters and Arguments:**\n"
      ],
      "metadata": {
        "id": "bwfyP-fnZ7nL"
      }
    },
    {
      "cell_type": "markdown",
      "source": [
        "## **1.Explain the concepts of formal parameters and actual arguments in Python functions.**\n"
      ],
      "metadata": {
        "id": "SdcYJJ51dJFd"
      }
    },
    {
      "cell_type": "markdown",
      "source": [
        "### <font color='orange'>Formal Parameters and Actual Arguments in Python Functions\n",
        "\n",
        "**Formal Parameters**:\n",
        "- **Definition**: Formal parameters are the placeholders or variables listed in the function definition. They represent the values that a function expects to receive when it is called.\n",
        "- **Role**: Formal parameters define the interface of the function, specifying the type and number of arguments that the function can accept.\n",
        "- **Usage**: Formal parameters are used within the function's code block to perform operations or computations. They act as variables that store the values passed to the function when it is called.\n",
        "- **Example**: In the function `def add(x, y):`, `x` and `y` are formal parameters.\n",
        "\n",
        "**Actual Arguments** (or Arguments):\n",
        "- **Definition**: Actual arguments are the real values passed to a function when it is called. They provide the data that the function will operate on.\n",
        "- **Role**: Actual arguments supply the values for the formal parameters defined in the function's parameter list.\n",
        "- **Usage**: Actual arguments are provided within the parentheses of the function call. They can be variables, literals, or expressions.\n",
        "- **Example**: In the function call `add(3, 5)`, `3` and `5` are actual arguments.\n",
        "\n",
        "<font color='orange'>In summary, formal parameters are the variables defined in the function header, representing the expected inputs, while actual arguments are the real values passed to the function when it is called. The function uses these actual arguments to perform its operations on the provided data. Understanding the distinction between formal parameters and actual arguments is crucial for effectively defining and calling functions in Python.\n"
      ],
      "metadata": {
        "id": "-ltgiwM8dQtc"
      }
    },
    {
      "cell_type": "markdown",
      "source": [
        "## **2.Write a Python program that defines a function with default argument values.**\n"
      ],
      "metadata": {
        "id": "ePNIY-d0dv_1"
      }
    },
    {
      "cell_type": "code",
      "source": [
        "def greet(name=\"there\"):\n",
        "    \"\"\"This function greets the person with the given name, defaulting to \"there\" if no name is provided.\"\"\"\n",
        "    print(\"Hello,\", name)\n",
        "\n",
        "# Call the function without providing any arguments\n",
        "greet()  # Output: Hello, there\n",
        "\n",
        "# Call the function with a specific name\n",
        "greet(\"Alice\")  # Output: Hello, Alice\n"
      ],
      "metadata": {
        "colab": {
          "base_uri": "https://localhost:8080/"
        },
        "id": "w7kXD1l5Z70v",
        "outputId": "6c25f57e-4e08-44d0-cedf-fc83021fd822"
      },
      "execution_count": null,
      "outputs": [
        {
          "output_type": "stream",
          "name": "stdout",
          "text": [
            "Hello, there\n",
            "Hello, Alice\n"
          ]
        }
      ]
    },
    {
      "cell_type": "markdown",
      "source": [
        "<font color='orange'>In this program:\n",
        "\n",
        "\n",
        "- The function greet is defined with a single parameter name which has a default value of \"there\".\n",
        "- If the greet function is called without any arguments, it will use the default value \"there\" for the name parameter.\n",
        "- If the greet function is called with an argument, it will use the provided value for the name parameter instead of the default value.\n",
        "- This way, the function greet can be called with or without providing an argument, allowing flexibility in its usage."
      ],
      "metadata": {
        "id": "aOnVUPCCZ8GV"
      }
    },
    {
      "cell_type": "markdown",
      "source": [
        "## **3.How do you use keyword arguments in Python function calls? Provide an example.**\n"
      ],
      "metadata": {
        "id": "6IzcZIJEeCXI"
      }
    },
    {
      "cell_type": "markdown",
      "source": [
        "\n",
        "### In Python, keyword arguments allow you to specify arguments to a function by their parameter names, rather than their positions. This provides more clarity and flexibility when calling functions, especially for functions with multiple parameters.\n",
        "\n",
        "Here's how you can use keyword arguments in Python function calls:"
      ],
      "metadata": {
        "id": "-3vLEVKNfFDV"
      }
    },
    {
      "cell_type": "code",
      "source": [
        "def greet(name, message):\n",
        "    \"\"\"This function greets the person with the given name using the provided message.\"\"\"\n",
        "    print(message, name)\n",
        "\n",
        "# Call the function using keyword arguments\n",
        "greet(name=\"Alice\", message=\"Hello,\")  # Output: Hello, Alice\n",
        "\n",
        "# Call the function with arguments in a different order\n",
        "greet(message=\"Hi,\", name=\"Bob\")  # Output: Hi, Bob\n"
      ],
      "metadata": {
        "colab": {
          "base_uri": "https://localhost:8080/"
        },
        "id": "NZoL-cXxZ8V9",
        "outputId": "c98f981b-dae6-4e9b-8110-053258def5f8"
      },
      "execution_count": null,
      "outputs": [
        {
          "output_type": "stream",
          "name": "stdout",
          "text": [
            "Hello, Alice\n",
            "Hi, Bob\n"
          ]
        }
      ]
    },
    {
      "cell_type": "markdown",
      "source": [
        "<font color='orange'>In this example:\n",
        "\n",
        "- When calling the greet function, we specify the arguments using their parameter names (name and message) followed by an equals sign (=).\n",
        "- This allows us to provide the arguments in any order, making the function call more readable and self-explanatory.\n",
        "-Using keyword arguments also makes it clear which argument corresponds to which parameter, which can be especially useful for functions with many parameters or when some parameters have default values."
      ],
      "metadata": {
        "id": "u-MFE51nZ8l1"
      }
    },
    {
      "cell_type": "markdown",
      "source": [
        "## **4.Create a Python function that accepts a variable number of arguments and calculates their sum.**\n"
      ],
      "metadata": {
        "id": "3rXaXLjMfo-U"
      }
    },
    {
      "cell_type": "code",
      "source": [
        "def calculate_sum(*args):\n",
        "    \"\"\"This function calculates the sum of a variable number of arguments.\"\"\"\n",
        "    total = 0\n",
        "    for num in args:\n",
        "        total += num\n",
        "    return total\n",
        "\n",
        "# Example usage:\n",
        "result = calculate_sum(1, 2, 3, 4, 5)\n",
        "print(\"The sum is:\", result)  # Output: The sum is: 15\n",
        "\n",
        "result = calculate_sum(10, 20, 30)\n",
        "print(\"The sum is:\", result)  # Output: The sum is: 60\n",
        "\n"
      ],
      "metadata": {
        "colab": {
          "base_uri": "https://localhost:8080/"
        },
        "id": "Spp-e5ClZ81C",
        "outputId": "0384f128-e516-4a1d-d250-b9b4b82a399f"
      },
      "execution_count": null,
      "outputs": [
        {
          "output_type": "stream",
          "name": "stdout",
          "text": [
            "The sum is: 15\n",
            "The sum is: 60\n"
          ]
        }
      ]
    },
    {
      "cell_type": "markdown",
      "source": [
        "## 5.What is the purpose of the `*args` and `**kwargs` syntax in function parameter lists?\n"
      ],
      "metadata": {
        "id": "78DJcUlFgaYr"
      }
    },
    {
      "cell_type": "markdown",
      "source": [
        "- ### Purpose: The **kwargs syntax allows a function to accept an arbitrary number of keyword arguments. These arguments are collected into a dictionary within the function, allowing the function to process them dynamically.\n",
        "- ### Usage: **kwargs is often used when the function needs to accept any number of keyword arguments or when the function needs to accept both positional and keyword arguments.\n",
        "- ### Example:\n"
      ],
      "metadata": {
        "id": "brBQbRAWZ9En"
      }
    },
    {
      "cell_type": "code",
      "source": [
        "def example_function(**kwargs):\n",
        "    for key, value in kwargs.items():\n",
        "        print(key, \":\", value)\n",
        "\n",
        "example_function(name=\"Alice\", age=30)  # Output: name : Alice, age : 30\n",
        "example_function(country=\"USA\", city=\"New York\", population=8500000)  # Output: country : USA, city : New York, population : 8500000\n"
      ],
      "metadata": {
        "colab": {
          "base_uri": "https://localhost:8080/"
        },
        "id": "qDLTELynZ9S4",
        "outputId": "55fa577b-93ed-4d50-9bf4-b286801f3c2b"
      },
      "execution_count": null,
      "outputs": [
        {
          "output_type": "stream",
          "name": "stdout",
          "text": [
            "name : Alice\n",
            "age : 30\n",
            "country : USA\n",
            "city : New York\n",
            "population : 8500000\n"
          ]
        }
      ]
    },
    {
      "cell_type": "markdown",
      "source": [
        "<font color='orange'>Using *args and **kwargs provides flexibility in function definitions, allowing functions to be more generic and adaptable to different use cases. They are commonly used in situations where the exact number or type of arguments may vary, or when writing higher-order functions that delegate work to other functions with different argument requirements."
      ],
      "metadata": {
        "id": "FbtLI3Rhg00z"
      }
    },
    {
      "cell_type": "markdown",
      "source": [
        "# **<font color ='blue'>Return Values and Scoping:**\n"
      ],
      "metadata": {
        "id": "bkLKLA3mfeOF"
      }
    },
    {
      "cell_type": "markdown",
      "source": [
        "## **1.What are lambda functions in Python, and when are they typically used?**\n"
      ],
      "metadata": {
        "id": "WDimbGJQhTMG"
      }
    },
    {
      "cell_type": "markdown",
      "source": [
        "### <font color='orange'>Lambda Functions in Python\n",
        "\n",
        "Lambda functions in Python are small anonymous functions that can have any number of arguments, but can only have one expression. They are defined using the `lambda` keyword, which is followed by the arguments, a colon `:`, and the expression to evaluate.\n",
        "\n",
        "Lambda functions are typically used in situations where a small, simple function is needed for a short period of time, especially in scenarios where defining a named function using the `def` keyword would be overkill. They are commonly used in conjunction with functions that accept other functions as arguments, such as `map()`, `filter()`, and `sorted()`.\n",
        "\n",
        "Here's a simple example of a lambda function:\n",
        "\n",
        "```python\n",
        "# Using a lambda function to double a number\n",
        "double = lambda x: x * 2\n",
        "\n",
        "print(double(5))  # Output: 10\n",
        "```\n",
        "**Lambda functions are commonly used in scenarios like:**\n",
        "\n",
        "1.**Mapping**: Applying a function to each element of a sequence.\n",
        "```python\n",
        "numbers = [1, 2, 3, 4, 5]\n",
        "doubled_numbers = list(map(lambda x: x * 2, numbers))\n",
        "print(doubled_numbers)  # Output: [2, 4, 6, 8, 10]\n",
        "```\n",
        "2.**Filtering**: Selecting elements from a sequence based on a condition.\n",
        "```python\n",
        "numbers = [1, 2, 3, 4, 5]\n",
        "even_numbers = list(filter(lambda x: x % 2 == 0, numbers))\n",
        "print(even_numbers)  # Output: [2, 4]\n",
        "```\n",
        "3.**Sorting**: Custom sorting of elements in a sequence.\n",
        "```python\n",
        "names = ['Alice', 'Bob', 'Charlie', 'David']\n",
        "sorted_names = sorted(names, key=lambda x: len(x))\n",
        "print(sorted_names)  # Output: ['Bob', 'Alice', 'David', 'Charlie']\n",
        "```\n",
        "<font color='orange'>Lambda functions offer a concise way to define simple functions without the need for a separate def statement, making code more compact and readable, especially in functional programming paradigms. However, they are limited to single expressions, which can make them less suitable for complex logic.\n"
      ],
      "metadata": {
        "id": "wFVKOKsRh0I8"
      }
    },
    {
      "cell_type": "markdown",
      "source": [
        "## **2.Write a Python program that uses lambda functions to sort a list of tuples based on the second element.**"
      ],
      "metadata": {
        "id": "W3mHAHDGjI43"
      }
    },
    {
      "cell_type": "code",
      "source": [
        "# Define a list of tuples\n",
        "data = [('Alice', 30), ('Bob', 25), ('Charlie', 35), ('David', 20)]\n",
        "\n",
        "# Sort the list of tuples based on the second element using a lambda function\n",
        "sorted_data = sorted(data, key=lambda x: x[1])\n",
        "\n",
        "# Print the sorted list\n",
        "print(\"Sorted list of tuples based on the second element:\")\n",
        "for item in sorted_data:\n",
        "    print(item)\n"
      ],
      "metadata": {
        "colab": {
          "base_uri": "https://localhost:8080/"
        },
        "id": "LK93XD7rfesf",
        "outputId": "1fca423d-0a35-4196-efab-633ba08ae81f"
      },
      "execution_count": null,
      "outputs": [
        {
          "output_type": "stream",
          "name": "stdout",
          "text": [
            "Sorted list of tuples based on the second element:\n",
            "('David', 20)\n",
            "('Bob', 25)\n",
            "('Alice', 30)\n",
            "('Charlie', 35)\n"
          ]
        }
      ]
    },
    {
      "cell_type": "markdown",
      "source": [
        "## **3.Explain the concept of higher-order functions in Python, and provide an example.**\n"
      ],
      "metadata": {
        "id": "yXZewDiNffAL"
      }
    },
    {
      "cell_type": "markdown",
      "source": [
        "### <font color= 'orange'>Higher-Order Functions in Python\n",
        "\n",
        "In Python, higher-order functions are functions that can accept other functions as arguments, return functions as output, or both. This concept is derived from functional programming, where functions are treated as first-class citizens, meaning they can be manipulated and passed around like any other data type.\n",
        "\n",
        "Here's a breakdown of the concept of higher-order functions:\n",
        "\n",
        "1. **Accepting Functions as Arguments**:\n",
        "   - Higher-order functions can take other functions as arguments. This allows them to customize their behavior by applying the passed function to the data they operate on.\n",
        "   - This feature promotes code reusability and enables the implementation of more generic and flexible functions.\n",
        "\n",
        "2. **Returning Functions as Output**:\n",
        "   - Higher-order functions can return functions as their result. This allows them to generate new functions dynamically based on certain conditions or configurations.\n",
        "   - This feature facilitates the creation of factories for generating specialized functions or implementing function composition.\n",
        "\n",
        "## Here's an example of a higher-order function in Python:\n"
      ],
      "metadata": {
        "id": "IRCl5R9ojyT7"
      }
    },
    {
      "cell_type": "code",
      "source": [
        "def apply_operation(operation, x, y):\n",
        "    \"\"\"This function applies the specified operation to the given arguments.\"\"\"\n",
        "    return operation(x, y)\n",
        "\n",
        "def add(x, y):\n",
        "    \"\"\"This function adds two numbers.\"\"\"\n",
        "    return x + y\n",
        "\n",
        "def multiply(x, y):\n",
        "    \"\"\"This function multiplies two numbers.\"\"\"\n",
        "    return x * y\n",
        "\n",
        "# Using the higher-order function apply_operation\n",
        "result = apply_operation(add, 3, 5)\n",
        "print(\"Result of addition:\", result)  # Output: Result of addition: 8\n",
        "\n",
        "result = apply_operation(multiply, 3, 5)\n",
        "print(\"Result of multiplication:\", result)  # Output: Result of multiplication: 15\n"
      ],
      "metadata": {
        "colab": {
          "base_uri": "https://localhost:8080/"
        },
        "id": "3LKhUdb1ffPq",
        "outputId": "7e70c61b-6d40-4377-f672-cb3a247c3fcb"
      },
      "execution_count": null,
      "outputs": [
        {
          "output_type": "stream",
          "name": "stdout",
          "text": [
            "Result of addition: 8\n",
            "Result of multiplication: 15\n"
          ]
        }
      ]
    },
    {
      "cell_type": "markdown",
      "source": [
        "In this example:\n",
        "\n",
        "- The `apply_operation` function is a higher-order function that takes three arguments: an operation (which is itself a function), and two values to apply the operation to.\n",
        "- We define two functions `add` and `multiply`, each performing a different arithmetic operation.\n",
        "- We then use the `apply_operation` function to apply these operations to pairs of numbers.\n",
        "- Depending on the operation passed to `apply_operation`, it dynamically applies the corresponding function (`add` or `multiply`) to the given arguments.\n"
      ],
      "metadata": {
        "id": "771QfG1RffgC"
      }
    },
    {
      "cell_type": "markdown",
      "source": [
        "## **4.Create a Python function that takes a list of numbers and a function as arguments, applying the function to each element in the list.**\n"
      ],
      "metadata": {
        "id": "g7vwu9ljkurU"
      }
    },
    {
      "cell_type": "code",
      "source": [
        "def apply_function_to_list(numbers, func):\n",
        "    \"\"\"Apply the given function to each element in the list.\"\"\"\n",
        "    result = []\n",
        "    for num in numbers:\n",
        "        result.append(func(num))\n",
        "    return result\n",
        "\n",
        "# Example usage:\n",
        "def square(x):\n",
        "    \"\"\"Function to square a number.\"\"\"\n",
        "    return x ** 2\n",
        "\n",
        "numbers = [1, 2, 3, 4, 5]\n",
        "result = apply_function_to_list(numbers, square)\n",
        "print(\"Result after applying square function to each element:\", result)\n"
      ],
      "metadata": {
        "colab": {
          "base_uri": "https://localhost:8080/"
        },
        "id": "g0y8EmZOfftg",
        "outputId": "d7a0d607-89f6-4f06-f699-0837595f554c"
      },
      "execution_count": null,
      "outputs": [
        {
          "output_type": "stream",
          "name": "stdout",
          "text": [
            "Result after applying square function to each element: [1, 4, 9, 16, 25]\n"
          ]
        }
      ]
    },
    {
      "cell_type": "markdown",
      "source": [
        "# **<font color= 'blue'>Built-in Functions:**\n"
      ],
      "metadata": {
        "id": "5p-gb6mCff7a"
      }
    },
    {
      "cell_type": "markdown",
      "source": [
        "## **1.Describe the role of built-in functions like `len()`, `max()`, and `min()` in Python.**\n"
      ],
      "metadata": {
        "id": "WhNZ0jXhlS4n"
      }
    },
    {
      "cell_type": "markdown",
      "source": [
        "### <font color= 'orange'>Role of Built-in Functions in Python\n",
        "\n",
        "Built-in functions like `len()`, `max()`, and `min()` in Python play essential roles in performing common operations on data structures and values. Here's a brief description of each function and its role:\n",
        "\n",
        "1. **`len()`**:\n",
        "   - **Role**: The `len()` function returns the length (number of items) of an object, such as a string, list, tuple, dictionary, or set.\n",
        "   - **Usage**: It is commonly used to determine the size of a container or sequence, allowing you to check the number of elements it contains.\n",
        "   - **Example**:\n",
        "     ```python\n",
        "     my_list = [1, 2, 3, 4, 5]\n",
        "     length = len(my_list)\n",
        "     print(\"Length of the list:\", length)  # Output: Length of the list: 5\n",
        "     ```\n",
        "\n",
        "2. **`max()`**:\n",
        "   - **Role**: The `max()` function returns the largest item in an iterable or the largest of two or more arguments.\n",
        "   - **Usage**: It is used to find the maximum value among a collection of values.\n",
        "   - **Example**:\n",
        "     ```python\n",
        "     numbers = [10, 20, 30, 40, 50]\n",
        "     maximum = max(numbers)\n",
        "     print(\"Maximum number:\", maximum)  # Output: Maximum number: 50\n",
        "     ```\n",
        "\n",
        "3. **`min()`**:\n",
        "   - **Role**: The `min()` function returns the smallest item in an iterable or the smallest of two or more arguments.\n",
        "   - **Usage**: It is used to find the minimum value among a collection of values.\n",
        "   - **Example**:\n",
        "     ```python\n",
        "     numbers = [10, 20, 30, 40, 50]\n",
        "     minimum = min(numbers)\n",
        "     print(\"Minimum number:\", minimum)  # Output: Minimum number: 10\n",
        "     ```\n",
        "\n",
        "<font color= 'orange'>These built-in functions provide convenient and efficient ways to perform common tasks in Python, such as finding the length of objects, determining the maximum and minimum values, and more. They are widely used in various applications, ranging from data processing to algorithmic problem-solving.\n"
      ],
      "metadata": {
        "id": "rajgWLl9liyC"
      }
    },
    {
      "cell_type": "markdown",
      "source": [
        "## **2.Write a Python program that uses the `map()` function to apply a function to each element of a list.**\n"
      ],
      "metadata": {
        "id": "Z2qScw7Fl3Xb"
      }
    },
    {
      "cell_type": "code",
      "source": [
        "# Define a function to double a number\n",
        "def double(x):\n",
        "    return x * 2\n",
        "\n",
        "# Define a list of numbers\n",
        "numbers = [1, 2, 3, 4, 5]\n",
        "\n",
        "# Apply the double function to each element of the list using map()\n",
        "doubled_numbers = list(map(double, numbers))\n",
        "\n",
        "# Print the original list and the result\n",
        "print(\"Original list:\", numbers)\n",
        "print(\"Doubled list:\", doubled_numbers)\n"
      ],
      "metadata": {
        "colab": {
          "base_uri": "https://localhost:8080/"
        },
        "id": "l5CTrdpNfgIl",
        "outputId": "3299900c-c92f-4f5a-d1d4-fbedc813700d"
      },
      "execution_count": null,
      "outputs": [
        {
          "output_type": "stream",
          "name": "stdout",
          "text": [
            "Original list: [1, 2, 3, 4, 5]\n",
            "Doubled list: [2, 4, 6, 8, 10]\n"
          ]
        }
      ]
    },
    {
      "cell_type": "markdown",
      "source": [
        "## **3.How does the `filter()` function work in Python, and when would you use it?**\n"
      ],
      "metadata": {
        "id": "XKNUx6dcfgcn"
      }
    },
    {
      "cell_type": "markdown",
      "source": [
        "### <font color= 'orange'>Understanding the `filter()` Function in Python\n",
        "\n",
        "The `filter()` function in Python is used to filter elements from an iterable (such as a list, tuple, or set) based on a specified condition. It takes two arguments: a function and an iterable. The function passed to `filter()` must return either `True` or `False` for each element in the iterable. Elements for which the function returns `True` are retained in the output, while elements for which the function returns `False` are filtered out.\n",
        "\n",
        "#### How `filter()` Works:\n",
        "\n",
        "1. The `filter()` function takes two arguments:\n",
        "   - A function: This function is applied to each element of the iterable. It should return `True` or `False` based on a condition.\n",
        "   - An iterable: This is the collection of elements from which filtering is to be done.\n",
        "\n",
        "2. For each element in the iterable, the function passed to `filter()` is applied.\n",
        "   - If the function returns `True` for an element, the element is retained in the output.\n",
        "   - If the function returns `False` for an element, the element is filtered out from the output.\n",
        "\n",
        "3. The `filter()` function returns an iterator containing the filtered elements.\n",
        "\n",
        "#### When to Use `filter()`:\n",
        "\n",
        "You would use the `filter()` function when you need to selectively retain elements from a collection based on a specific condition. It is particularly useful when you want to perform data filtering or selection based on certain criteria without having to manually iterate over the elements.\n",
        "\n",
        "#### Example Usage:\n",
        "\n",
        "\n"
      ],
      "metadata": {
        "id": "EEBpjiaXmn2W"
      }
    },
    {
      "cell_type": "code",
      "source": [
        "# Define a function to filter even numbers\n",
        "def is_even(num):\n",
        "    return num % 2 == 0\n",
        "\n",
        "# Define a list of numbers\n",
        "numbers = [1, 2, 3, 4, 5, 6, 7, 8, 9, 10]\n",
        "\n",
        "# Use filter() to retain only even numbers from the list\n",
        "even_numbers = list(filter(is_even, numbers))\n",
        "\n",
        "# Print the original list and the filtered list\n",
        "print(\"Original list:\", numbers)\n",
        "print(\"Filtered list (even numbers):\", even_numbers)"
      ],
      "metadata": {
        "colab": {
          "base_uri": "https://localhost:8080/"
        },
        "id": "03hV_iIqnm7u",
        "outputId": "5b3572c8-1356-43f9-ee67-2807ded69b1a"
      },
      "execution_count": null,
      "outputs": [
        {
          "output_type": "stream",
          "name": "stdout",
          "text": [
            "Original list: [1, 2, 3, 4, 5, 6, 7, 8, 9, 10]\n",
            "Filtered list (even numbers): [2, 4, 6, 8, 10]\n"
          ]
        }
      ]
    },
    {
      "cell_type": "markdown",
      "source": [
        "<font color= 'orange'>In this example, the is_even() function is used with the filter() function to retain only the even numbers from the numbers list. The resulting even_numbers list contains only the even elements filtered from the original list."
      ],
      "metadata": {
        "id": "uJPlIkrgntOu"
      }
    },
    {
      "cell_type": "markdown",
      "source": [
        "## **4.Create a Python program that uses the `reduce()` function to find the product of all elements in a list.**\n"
      ],
      "metadata": {
        "id": "FwK-0_54oCZi"
      }
    },
    {
      "cell_type": "code",
      "source": [
        "from functools import reduce\n",
        "\n",
        "# Define a function to multiply two numbers\n",
        "def multiply(x, y):\n",
        "    return x * y\n",
        "\n",
        "# Define a list of numbers\n",
        "numbers = [1, 2, 3, 4, 5]\n",
        "\n",
        "# Use the reduce() function to find the product of all elements in the list\n",
        "product = reduce(multiply, numbers)\n",
        "\n",
        "# Print the original list and the product\n",
        "print(\"Original list:\", numbers)\n",
        "print(\"Product of all elements:\", product)\n"
      ],
      "metadata": {
        "colab": {
          "base_uri": "https://localhost:8080/"
        },
        "id": "HePrzu25fg3N",
        "outputId": "3cb8031d-072c-43ee-9223-0b159c82913e"
      },
      "execution_count": null,
      "outputs": [
        {
          "output_type": "stream",
          "name": "stdout",
          "text": [
            "Original list: [1, 2, 3, 4, 5]\n",
            "Product of all elements: 120\n"
          ]
        }
      ]
    },
    {
      "cell_type": "markdown",
      "source": [
        "# **<font color= 'blue'>Function Documentation and Best Practices:**\n"
      ],
      "metadata": {
        "id": "z4i9XZZnfhLB"
      }
    },
    {
      "cell_type": "markdown",
      "source": [
        "## **1.Explain the purpose of docstrings in Python functions and how to write them.**\n"
      ],
      "metadata": {
        "id": "fRvVGTJ7oWjD"
      }
    },
    {
      "cell_type": "markdown",
      "source": [
        "### <font color= 'orange'>Purpose of Docstrings in Python Functions\n",
        "\n",
        "Docstrings in Python functions serve as documentation strings that describe what a function does, its parameters, return values, and any additional information that users might need to know. They help improve code readability, maintainability, and understandability by providing clear and concise documentation directly within the code.\n",
        "\n",
        "#### <font color= 'orange'>How to Write Docstrings:\n",
        "\n",
        "Docstrings are written as multi-line strings placed immediately after the function definition. They are enclosed within triple quotes (`\"\"\"`) and follow a specific format convention known as the \"Google Style\" or \"NumPy Style\" docstring format. This format typically includes the following sections:\n",
        "\n",
        "1. **Function Description**: A brief description of what the function does.\n",
        "\n",
        "2. **Parameters**: A description of each parameter the function accepts, including its name, type, and any additional information about its purpose or usage.\n",
        "\n",
        "3. **Return Value(s)**: A description of the value(s) returned by the function, including their type and any special conditions or behaviors.\n",
        "\n",
        "4. **Raises (Optional)**: Describes any exceptions that the function may raise under certain conditions.\n",
        "\n",
        "## Here's an example of a Python function with a docstring:\n",
        "```python\n",
        "def calculate_area(radius):\n",
        "    \"\"\"\n",
        "    Calculate the area of a circle.\n",
        "\n",
        "    Parameters:\n",
        "        radius (float): The radius of the circle.\n",
        "\n",
        "    Returns:\n",
        "        float: The area of the circle.\n",
        "\n",
        "    Raises:\n",
        "        ValueError: If the radius is negative.\n",
        "    \"\"\"\n",
        "    if radius < 0:\n",
        "        raise ValueError(\"Radius must be non-negative.\")\n",
        "    return 3.14159 * radius ** 2\n",
        "  ```\n",
        "  \n",
        "\n",
        "\n"
      ],
      "metadata": {
        "id": "uuuNkTmjotx_"
      }
    },
    {
      "cell_type": "markdown",
      "source": [
        "## **2.Describe some best practices for naming functions and variables in Python, including naming conventions and guidelines.**\n"
      ],
      "metadata": {
        "id": "CidphfhTfhrG"
      }
    },
    {
      "cell_type": "markdown",
      "source": [
        "### <font color= 'orange'>Best Practices for Naming Functions and Variables in Python\n",
        "\n",
        "1. **Use Descriptive Names**: Choose names that accurately describe the purpose or functionality of the function or variable. This improves code readability and makes it easier for others (and yourself) to understand the code.\n",
        "\n",
        "2. **Follow Naming Conventions**:\n",
        "   - **Snake Case**: For variables and function names, use lowercase letters with underscores between words. For example, `total_count`, `calculate_area`.\n",
        "   - **Pascal Case**: For class names, capitalize the first letter of each word (including the first word). For example, `CarModel`, `EmployeeDetails`.\n",
        "   - **UPPER_CASE**: Use all capital letters for constants. For example, `PI`, `MAX_VALUE`.\n",
        "\n",
        "3. **Be Consistent**: Maintain consistency in naming conventions throughout your codebase. This helps improve code readability and maintainability.\n",
        "\n",
        "4. **Use Verb-Noun Pattern for Functions**: Function names should typically start with a verb that describes the action performed by the function, followed by a noun that describes the object or subject of the action. For example, `calculate_area`, `get_user_details`.\n",
        "\n",
        "5. **Avoid Single-letter Names**: Except for very short-lived variables (e.g., loop iterators), avoid using single-letter names as they are not descriptive. Instead, use meaningful names that convey the purpose of the variable or function.\n",
        "\n",
        "6. **Avoid Reserved Keywords**: Do not use Python reserved keywords (such as `if`, `else`, `for`, `while`, `def`, etc.) as function or variable names, as this can lead to syntax errors.\n",
        "\n",
        "7. **Use Singular Nouns for Single Values and Plural Nouns for Collections**: Use singular nouns for variables representing single values and plural nouns for variables representing collections or sequences. For example, `user` vs. `users`, `item` vs. `items`.\n",
        "\n",
        "8. **Avoid Abbreviations Unless Standardized**: While abbreviations can save typing effort, they may reduce code readability. Avoid abbreviations unless they are standardized and widely understood within the context of your project or industry.\n",
        "\n",
        "9. **Consider Context**: Consider the context in which the function or variable is used and choose names that are meaningful within that context. Avoid generic names that may be ambiguous or misleading.\n",
        "\n",
        "10. **Document Non-obvious Names**: If a function or variable name is not immediately obvious in its purpose or usage, consider adding a brief comment or docstring to clarify its meaning and usage.\n",
        "\n",
        "<font color= 'orange'>By following these best practices and guidelines, you can create more readable, maintainable, and understandable Python code.\n"
      ],
      "metadata": {
        "id": "fyzH9lH4fiUQ"
      }
    },
    {
      "cell_type": "code",
      "source": [],
      "metadata": {
        "id": "4zWZllNjfinU"
      },
      "execution_count": null,
      "outputs": []
    }
  ]
}