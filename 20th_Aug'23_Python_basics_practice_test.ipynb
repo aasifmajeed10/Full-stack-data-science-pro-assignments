{
  "nbformat": 4,
  "nbformat_minor": 0,
  "metadata": {
    "colab": {
      "provenance": []
    },
    "kernelspec": {
      "name": "python3",
      "display_name": "Python 3"
    },
    "language_info": {
      "name": "python"
    }
  },
  "cells": [
    {
      "cell_type": "markdown",
      "source": [
        "###python Basics practice  Assignment 2\n",
        "#Name : Aasif Majeed\n",
        "\n",
        "## **TOPIC: String Based Assignment Problem**"
      ],
      "metadata": {
        "id": "yAjp1JFmI9lA"
      }
    },
    {
      "cell_type": "markdown",
      "source": [
        "## ***1. Write a program to reverse a string.***"
      ],
      "metadata": {
        "id": "jwik-N6AKoM2"
      }
    },
    {
      "cell_type": "code",
      "execution_count": null,
      "metadata": {
        "colab": {
          "base_uri": "https://localhost:8080/"
        },
        "id": "6xwJXqj2Ha5-",
        "outputId": "89bbf590-cf2c-47ac-97f6-4d10d659f23c"
      },
      "outputs": [
        {
          "output_type": "stream",
          "name": "stdout",
          "text": [
            "Original String: Hello, World!\n",
            "Reversed String: !dlroW ,olleH\n"
          ]
        }
      ],
      "source": [
        "def reverse_string(input_str): #take the input string\n",
        "    reversed_str = input_str[::-1]  #using string slicing method\n",
        "    return reversed_str\n",
        "\n",
        "# Test the function\n",
        "original_string = \"Hello, World!\"\n",
        "reversed_string = reverse_string(original_string)\n",
        "\n",
        "print(\"Original String:\", original_string)\n",
        "print(\"Reversed String:\", reversed_string)"
      ]
    },
    {
      "cell_type": "code",
      "source": [
        "def reverse_string(input_str):\n",
        "    reversed_str = ''.join(reversed(input_str))  #using inbuilt functions\n",
        "    return reversed_str\n",
        "\n",
        "# Test the function\n",
        "original_string = \"Hello, World!\"\n",
        "reversed_string = reverse_string(original_string)\n",
        "\n",
        "print(\"Original String:\", original_string)\n",
        "print(\"Reversed String:\", reversed_string)"
      ],
      "metadata": {
        "colab": {
          "base_uri": "https://localhost:8080/"
        },
        "id": "3QZaeeh5H49B",
        "outputId": "d5544d5c-ec6a-41da-a954-0c75cf0cdfca"
      },
      "execution_count": null,
      "outputs": [
        {
          "output_type": "stream",
          "name": "stdout",
          "text": [
            "Original String: Hello, World!\n",
            "Reversed String: !dlroW ,olleH\n"
          ]
        }
      ]
    },
    {
      "cell_type": "markdown",
      "source": [
        "## **2. Check if a string is a palindrome.**"
      ],
      "metadata": {
        "id": "YMfAW3stS62B"
      }
    },
    {
      "cell_type": "code",
      "source": [
        "# Taking input from the user\n",
        "input_string = input(\"Enter a string here : \")\n",
        "print('your string is:',input_string)\n",
        "# Removing spaces and converting to lowercase for comparison\n",
        "cleaned_string = input_string.replace(\" \", \"\").lower()\n",
        "\n",
        "# Reversing the cleaned string\n",
        "reversed_string = cleaned_string[::-1]\n",
        "\n",
        "# Checking if the string is a palindrome\n",
        "if cleaned_string == reversed_string:\n",
        "    print(\"your entered string is a palindrome.\")\n",
        "else:\n",
        "    print(\"your entered string is not a palindrome.\")"
      ],
      "metadata": {
        "colab": {
          "base_uri": "https://localhost:8080/"
        },
        "id": "R04nEMZqH5DT",
        "outputId": "27439547-9e7c-411f-a21c-0e588c6db4e4"
      },
      "execution_count": null,
      "outputs": [
        {
          "output_type": "stream",
          "name": "stdout",
          "text": [
            "Enter a string here : Yo banana boy\n",
            "your string is: Yo banana boy\n",
            "your entered string is a palindrome.\n"
          ]
        }
      ]
    },
    {
      "cell_type": "markdown",
      "source": [
        "A palindrome is a word, phrase, number, or other sequences of characters that reads the same forward and backward (ignoring spaces, punctuation, and capitalization)."
      ],
      "metadata": {
        "id": "TY-cRq3oT__l"
      }
    },
    {
      "cell_type": "code",
      "source": [
        "def is_palindrome(s):\n",
        "    # Convert the string to lowercase to ensure case-insensitive comparison\n",
        "    s = s.lower()\n",
        "\n",
        "    # Remove spaces and punctuation from the string\n",
        "    s = ''.join(e for e in s if e.isalnum())\n",
        "\n",
        "    # Compare the original string with its reverse\n",
        "    return s == s[::-1]"
      ],
      "metadata": {
        "id": "Dc0pp3sQH5F3"
      },
      "execution_count": null,
      "outputs": []
    },
    {
      "cell_type": "markdown",
      "source": [
        "return s == s[::-1]: This line compares the modified string (s) with its reverse (s[::-1]) using the equality operator (==). If the string and its reverse are the same, it means the input string is a palindrome, and the function will return True. Otherwise, it will return False."
      ],
      "metadata": {
        "id": "oVZAiGrVUk_3"
      }
    },
    {
      "cell_type": "code",
      "source": [
        "print(is_palindrome(\"racecar\"))\n",
        "print(is_palindrome(\"hello\"))\n",
        "print(is_palindrome(\"A man, a plan, a canal, Panama\"))"
      ],
      "metadata": {
        "colab": {
          "base_uri": "https://localhost:8080/"
        },
        "id": "dSg0lOJVH5Id",
        "outputId": "ef46ba60-63fa-484a-b1b3-9e63d6256a7a"
      },
      "execution_count": null,
      "outputs": [
        {
          "output_type": "stream",
          "name": "stdout",
          "text": [
            "True\n",
            "False\n",
            "True\n"
          ]
        }
      ]
    },
    {
      "cell_type": "markdown",
      "source": [
        "## **3. Convert a string to uppercase.**"
      ],
      "metadata": {
        "id": "_sM8rUjEVnso"
      }
    },
    {
      "cell_type": "code",
      "source": [
        "# Take input from the user\n",
        "user_input = input(\"Enter a string: \")\n",
        "\n",
        "# Convert the input string to uppercase\n",
        "uppercase_string = user_input.upper()\n",
        "\n",
        "# Display the original and uppercase strings\n",
        "print(\"Original String:\", user_input)\n",
        "print(\"Uppercase String:\", uppercase_string)"
      ],
      "metadata": {
        "colab": {
          "base_uri": "https://localhost:8080/"
        },
        "id": "1j5ZQpsSH5LM",
        "outputId": "a74501e8-1880-4444-d0a9-b4e7b4fd85d5"
      },
      "execution_count": null,
      "outputs": [
        {
          "output_type": "stream",
          "name": "stdout",
          "text": [
            "Enter a string: aasif\n",
            "Original String: aasif\n",
            "Uppercase String: AASIF\n"
          ]
        }
      ]
    },
    {
      "cell_type": "markdown",
      "source": [
        "**4. Convert a string to lowercase**"
      ],
      "metadata": {
        "id": "s1bPX6xKWQCM"
      }
    },
    {
      "cell_type": "code",
      "source": [
        "# Take input from the user\n",
        "user_input = input(\"Enter a string: \")\n",
        "\n",
        "# Convert the input string to lowercase\n",
        "lowercase_string = user_input.lower()\n",
        "\n",
        "# Display the original and lowercase strings\n",
        "print(\"Original String:\", user_input)\n",
        "print(\"Lowercase String:\", lowercase_string)"
      ],
      "metadata": {
        "colab": {
          "base_uri": "https://localhost:8080/"
        },
        "id": "mpW6cVciH5Nl",
        "outputId": "2868d56d-1dfc-455d-e1f8-8ffaac2a22f8"
      },
      "execution_count": null,
      "outputs": [
        {
          "output_type": "stream",
          "name": "stdout",
          "text": [
            "Enter a string: AASIF\n",
            "Original String: AASIF\n",
            "Lowercase String: aasif\n"
          ]
        }
      ]
    },
    {
      "cell_type": "markdown",
      "source": [
        "## **5. Count the number of vowels in a string.**"
      ],
      "metadata": {
        "id": "w6HdFNFHWnVu"
      }
    },
    {
      "cell_type": "code",
      "source": [
        "# Taking input from the user\n",
        "sentence = input(\"Enter a sentence: \")\n",
        "print('your sentense is:',sentence)\n",
        "# Counting the number of vowels using count() method\n",
        "vowel_count = sentence.lower().count(\"a\") + sentence.lower().count(\"e\") + sentence.lower().count(\"i\") + sentence.lower().count(\"o\") + sentence.lower().count(\"u\")\n",
        "\n",
        "# Displaying the result\n",
        "print(\"Number of vowels:\", vowel_count)"
      ],
      "metadata": {
        "colab": {
          "base_uri": "https://localhost:8080/"
        },
        "id": "6ioSIIMRH5QV",
        "outputId": "aec4302f-7c4b-4727-d71c-0579fa86a232"
      },
      "execution_count": null,
      "outputs": [
        {
          "output_type": "stream",
          "name": "stdout",
          "text": [
            "Enter a sentence: this is a data science course assignment one\n",
            "your sentense is: this is a data science course assignment one\n",
            "Number of vowels: 16\n"
          ]
        }
      ]
    },
    {
      "cell_type": "code",
      "source": [
        " #using for loop methods\n",
        "\n",
        " def count_vowels(string):\n",
        "    # Initialize a variable to keep track of the vowel count\n",
        "    vowel_count = 0\n",
        "\n",
        "    # Convert the input string to lowercase to handle both upper and lowercase vowels\n",
        "    string = string.lower()\n",
        "\n",
        "    # Define a set of vowels\n",
        "    vowels = \"aeiou\"\n",
        "\n",
        "    # Iterate through each character in the string\n",
        "    for letter in string:\n",
        "        # Check if the character is a vowel\n",
        "        if letter in vowels:\n",
        "            # Increment the vowel count if the character is a vowel\n",
        "            vowel_count += 1\n",
        "\n",
        "    # Return the final vowel count\n",
        "    return vowel_count\n",
        "\n",
        "# Test the function\n",
        "input_string = \"this is a data science course assignment one\"\n",
        "result = count_vowels(input_string)\n",
        "print(\"Number of vowels:\", result)"
      ],
      "metadata": {
        "colab": {
          "base_uri": "https://localhost:8080/"
        },
        "id": "rF91DO5sH5TB",
        "outputId": "c8d95a02-1405-4cee-8d92-d6a27c997965"
      },
      "execution_count": null,
      "outputs": [
        {
          "output_type": "stream",
          "name": "stdout",
          "text": [
            "Number of vowels: 16\n"
          ]
        }
      ]
    },
    {
      "cell_type": "markdown",
      "source": [
        "## **6. Count the number of consonants in a string.**"
      ],
      "metadata": {
        "id": "HLkxZHhbYXLk"
      }
    },
    {
      "cell_type": "code",
      "source": [
        " def count_consonants(string):\n",
        "    # Initialize a variable to keep track of the count of consonants\n",
        "    consonant_count = 0\n",
        "\n",
        "    # Define a set of consonant characters\n",
        "    consonants = \"bcdfghjklmnpqrstvwxyzBCDFGHJKLMNPQRSTVWXYZ\"\n",
        "\n",
        "    # Iterate through each character in the input string\n",
        "    for char in string:\n",
        "        # Check if the character is in the set of consonants\n",
        "        if char in consonants:\n",
        "            # Increment the consonant count\n",
        "            consonant_count += 1\n",
        "\n",
        "    # Return the final count of consonants\n",
        "    return consonant_count\n",
        "\n",
        "# Input string\n",
        "input_string = \"this is a data science course assignment one\"\n",
        "\n",
        "# Call the function and print the result\n",
        "result = count_consonants(input_string)\n",
        "print(\"Number of consonants:\", result)"
      ],
      "metadata": {
        "colab": {
          "base_uri": "https://localhost:8080/"
        },
        "id": "9zvpRhQxH5V8",
        "outputId": "525152e0-a7a6-4fe8-d3f2-59e5e8f100ee"
      },
      "execution_count": null,
      "outputs": [
        {
          "output_type": "stream",
          "name": "stdout",
          "text": [
            "Number of consonants: 21\n"
          ]
        }
      ]
    },
    {
      "cell_type": "markdown",
      "source": [
        "## **7. Remove all whitespaces from a string.**"
      ],
      "metadata": {
        "id": "wG950E9lZm0i"
      }
    },
    {
      "cell_type": "code",
      "source": [
        "# Taking input from the user\n",
        "input_string = input(\"Enter a string: \")\n",
        "print('your string is:',input_string)\n",
        "# Removing spaces from the input string\n",
        "modified_string = input_string.replace(\" \", \"\")\n",
        "\n",
        "# Displaying the modified string\n",
        "print(\"Modified string:\", modified_string)"
      ],
      "metadata": {
        "colab": {
          "base_uri": "https://localhost:8080/"
        },
        "id": "8z4A8C5SYWEY",
        "outputId": "617c07d3-c594-49ab-c7dd-d4f51c657929"
      },
      "execution_count": null,
      "outputs": [
        {
          "output_type": "stream",
          "name": "stdout",
          "text": [
            "Enter a string: Remove all whitespaces from a string\n",
            "your string is: Remove all whitespaces from a string\n",
            "Modified string: Removeallwhitespacesfromastring\n"
          ]
        }
      ]
    },
    {
      "cell_type": "markdown",
      "source": [
        "## **8.Find the length of a string without using the `len()` function.**"
      ],
      "metadata": {
        "id": "Z-J0-gYMbg8p"
      }
    },
    {
      "cell_type": "code",
      "source": [
        "def calculate_string_length(input_string):\n",
        "    # Initialize a variable to store the length of the string\n",
        "    length = 0\n",
        "\n",
        "    # Iterate through each character in the input string\n",
        "    for letter in input_string:\n",
        "        # Increment the length for each character encountered\n",
        "        length += 1\n",
        "\n",
        "    # Return the calculated length\n",
        "    return length\n",
        "\n",
        "# Take input from the user\n",
        "user_input = input(\"Enter a string: \")\n",
        "\n",
        "# Calculate the length of the string using the custom function\n",
        "string_length = calculate_string_length(user_input)\n",
        "\n",
        "# Display the length of the string\n",
        "print(\"Length of the string:\", string_length)"
      ],
      "metadata": {
        "colab": {
          "base_uri": "https://localhost:8080/"
        },
        "id": "Dll7qoNlYWG8",
        "outputId": "a7156c48-7fa8-40c2-cde1-ab906811762f"
      },
      "execution_count": null,
      "outputs": [
        {
          "output_type": "stream",
          "name": "stdout",
          "text": [
            "Enter a string: my name is aasif majeed\n",
            "Length of the string: 23\n"
          ]
        }
      ]
    },
    {
      "cell_type": "markdown",
      "source": [
        "## **9. Check if a string contains a specific word.**"
      ],
      "metadata": {
        "id": "8e1eJl3_cRmd"
      }
    },
    {
      "cell_type": "code",
      "source": [
        "def contains_word(input_string, target_word):\n",
        "    # Check if the target word is in the input string\n",
        "    return target_word in input_string\n",
        "\n",
        "# Test the function\n",
        "user_input = input(\"Enter a string: \")\n",
        "target_word = input(\"Enter the word to check for: \")\n",
        "\n",
        "if contains_word(user_input, target_word):\n",
        "    print(f'The string \"{user_input}\" contains the word \"{target_word}\".')\n",
        "else:\n",
        "    print(f'The string \"{user_input}\" does not contain the word \"{target_word}\".')"
      ],
      "metadata": {
        "colab": {
          "base_uri": "https://localhost:8080/"
        },
        "id": "YVJSiDRxYWKP",
        "outputId": "0c006998-9fe8-49c3-e260-6b1fb6c4d800"
      },
      "execution_count": null,
      "outputs": [
        {
          "output_type": "stream",
          "name": "stdout",
          "text": [
            "Enter a string: my name is aasif majeed from jammu and kashmir.\n",
            "Enter the word to check for: aasif\n",
            "The string \"my name is aasif majeed from jammu and kashmir.\" contains the word \"aasif\".\n"
          ]
        }
      ]
    },
    {
      "cell_type": "markdown",
      "source": [
        "## **10. Replace a word in a string with another word.**"
      ],
      "metadata": {
        "id": "UZ8SvfNbblgw"
      }
    },
    {
      "cell_type": "code",
      "source": [
        "def replace_word(input_string, old_word, new_word):\n",
        "    # Replace occurrences of the old word with the new word using the replace() method\n",
        "    modified_string = input_string.replace(old_word, new_word)\n",
        "\n",
        "    # Return the modified string\n",
        "    return modified_string\n",
        "\n",
        "# Take input from the user\n",
        "user_input = input(\"Enter a string: \")\n",
        "\n",
        "# Take input for the word to be replaced\n",
        "old_word = input(\"Enter the word to replace: \")\n",
        "\n",
        "# Take input for the new word\n",
        "new_word = input(\"Enter the new word: \")\n",
        "\n",
        "# Call the replace_word function to perform the replacement\n",
        "modified_string = replace_word(user_input, old_word, new_word)\n",
        "\n",
        "# Display the original and modified strings\n",
        "print(f'Original String: \"{user_input}\"')\n",
        "print(f'Modified String: \"{modified_string}\"')"
      ],
      "metadata": {
        "colab": {
          "base_uri": "https://localhost:8080/"
        },
        "id": "DNPkr0f-cpCo",
        "outputId": "8c1574b3-f92f-4777-f385-d8138f4b0c44"
      },
      "execution_count": null,
      "outputs": [
        {
          "output_type": "stream",
          "name": "stdout",
          "text": [
            "Enter a string: this is not data science course \n",
            "Enter the word to replace: not\n",
            "Enter the new word: surely\n",
            "Original String: \"this is not data science course \"\n",
            "Modified String: \"this is surely data science course \"\n"
          ]
        }
      ]
    },
    {
      "cell_type": "markdown",
      "source": [
        "## **11. Count the occurrences of a word in a string.**"
      ],
      "metadata": {
        "id": "IYuVXqN2cQn1"
      }
    },
    {
      "cell_type": "code",
      "source": [
        "def count_occurrences(input_string, target_word):\n",
        "    # Use the count() method to count occurrences of the target word\n",
        "    occurrences = input_string.lower().count(target_word.lower())\n",
        "    return occurrences\n",
        "\n",
        "# Test the function\n",
        "user_input = input(\"Enter a string: \")\n",
        "target_word = input(\"Enter the word to count: \")\n",
        "\n",
        "occurrences = count_occurrences(user_input, target_word)\n",
        "\n",
        "print(f'The word \"{target_word}\" occurs {occurrences} times in the string.')"
      ],
      "metadata": {
        "colab": {
          "base_uri": "https://localhost:8080/"
        },
        "id": "rzOGtBfAb7ve",
        "outputId": "48186187-068b-4bda-efc6-8e4568e26984"
      },
      "execution_count": null,
      "outputs": [
        {
          "output_type": "stream",
          "name": "stdout",
          "text": [
            "Enter a string: This is an apple, and that is also an apple. The apples are red and green.\n",
            "Enter the word to count: Apple\n",
            "The word \"Apple\" occurs 3 times in the string.\n"
          ]
        }
      ]
    },
    {
      "cell_type": "markdown",
      "source": [
        "## **12. Find the first occurrence of a word in a string.**"
      ],
      "metadata": {
        "id": "IbeLg7XudSyV"
      }
    },
    {
      "cell_type": "code",
      "source": [
        "def find_first_occurrence(input_string, target_word):\n",
        "    # Use the find() method to find the first occurrence of the target word\n",
        "    index = input_string.lower().find(target_word.lower())\n",
        "    return index\n",
        "\n",
        "# Test the function\n",
        "user_input = input(\"Enter a string: \")\n",
        "target_word = input(\"Enter the word to find: \")\n",
        "\n",
        "index = find_first_occurrence(user_input, target_word)\n",
        "\n",
        "if index != -1:\n",
        "    print(f'The first occurrence of the word \"{target_word}\" starts at index {index}.')\n",
        "else:\n",
        "    print(f'The word \"{target_word}\" does not occur in the string.')"
      ],
      "metadata": {
        "colab": {
          "base_uri": "https://localhost:8080/"
        },
        "id": "s-oLXf4Ecz3w",
        "outputId": "26932d41-cd18-4c97-b157-9ad7f568a777"
      },
      "execution_count": null,
      "outputs": [
        {
          "output_type": "stream",
          "name": "stdout",
          "text": [
            "Enter a string:  This is an apple, and that is also an apple. The apples are red and green.\n",
            "Enter the word to find: apple\n",
            "The first occurrence of the word \"apple\" starts at index 12.\n"
          ]
        }
      ]
    },
    {
      "cell_type": "markdown",
      "source": [
        "## **13. Find the last occurrence of a word in a string.**"
      ],
      "metadata": {
        "id": "nf_9i185d0a-"
      }
    },
    {
      "cell_type": "code",
      "source": [
        "def find_last_occurrence(input_string, target_word):\n",
        "    # Use the rfind() method to find the last occurrence of the target word\n",
        "    #The rfind() method is used to find the index of the last occurrence of the target_word\n",
        "    index = input_string.lower().rfind(target_word.lower())\n",
        "    return index\n",
        "\n",
        "# Test the function\n",
        "user_input = input(\"Enter a string: \")\n",
        "target_word = input(\"Enter the word to find: \")\n",
        "\n",
        "index = find_last_occurrence(user_input, target_word)\n",
        "\n",
        "if index != -1:\n",
        "    print(f'The last occurrence of the word \"{target_word}\" starts at index {index}.')\n",
        "else:\n",
        "    print(f'The word \"{target_word}\" does not occur in the string.')\n"
      ],
      "metadata": {
        "colab": {
          "base_uri": "https://localhost:8080/"
        },
        "id": "f4Gfjp8Mdj9n",
        "outputId": "d83e4afb-7a08-4a05-d0f0-5fa615dead76"
      },
      "execution_count": null,
      "outputs": [
        {
          "output_type": "stream",
          "name": "stdout",
          "text": [
            "Enter a string: This is an apple, and that is also an apple. The apples are red and green.\n",
            "Enter the word to find: apple\n",
            "The last occurrence of the word \"apple\" starts at index 49.\n"
          ]
        }
      ]
    },
    {
      "cell_type": "markdown",
      "source": [
        "## **14. Split a string into a list of words.**"
      ],
      "metadata": {
        "id": "0zPczKFmecos"
      }
    },
    {
      "cell_type": "code",
      "source": [
        "def split_string(input_string):\n",
        "    # Use the split() method to split the string into a list of words\n",
        "    word_list = input_string.split()\n",
        "    return word_list\n",
        "\n",
        "# Test the function\n",
        "user_input = input(\"Enter a string: \")\n",
        "words = split_string(user_input)\n",
        "\n",
        "print(f'The string \"{user_input}\" has been split into the following words:')\n",
        "print(words)\n"
      ],
      "metadata": {
        "colab": {
          "base_uri": "https://localhost:8080/"
        },
        "id": "ggGpDAWkee8u",
        "outputId": "369ffb09-8e08-48c8-db7d-53535850b81f"
      },
      "execution_count": null,
      "outputs": [
        {
          "output_type": "stream",
          "name": "stdout",
          "text": [
            "Enter a string: This is an apple, and that is also an apple. The apples are red and green.\n",
            "The string \"This is an apple, and that is also an apple. The apples are red and green.\" has been split into the following words:\n",
            "['This', 'is', 'an', 'apple,', 'and', 'that', 'is', 'also', 'an', 'apple.', 'The', 'apples', 'are', 'red', 'and', 'green.']\n"
          ]
        }
      ]
    },
    {
      "cell_type": "markdown",
      "source": [
        "## **15. Join a list of words into a string.**"
      ],
      "metadata": {
        "id": "9Ct-gUuwefyj"
      }
    },
    {
      "cell_type": "code",
      "source": [
        "def join_words(word_list):\n",
        "    # Use the join() method to join the list of words into a string\n",
        "    joined_string = ' '.join(word_list)\n",
        "    return joined_string\n",
        "\n",
        "# Test the function\n",
        "word_list = [\"Hello,\", \"how\", \"are\", \"you\", \"today?\"]\n",
        "joined_string = join_words(word_list)\n",
        "\n",
        "print(f'The list of words has been joined into the following string:')\n",
        "print(joined_string)"
      ],
      "metadata": {
        "colab": {
          "base_uri": "https://localhost:8080/"
        },
        "id": "O6uXG37Oeh3J",
        "outputId": "aacc7423-e38a-4e97-a66b-24200d585605"
      },
      "execution_count": null,
      "outputs": [
        {
          "output_type": "stream",
          "name": "stdout",
          "text": [
            "The list of words has been joined into the following string:\n",
            "Hello, how are you today?\n"
          ]
        }
      ]
    },
    {
      "cell_type": "markdown",
      "source": [
        "## **16. Convert a string where words are separated by spaces to one where words are separated by underscores.**"
      ],
      "metadata": {
        "id": "ZDEqqKxNef34"
      }
    },
    {
      "cell_type": "code",
      "source": [
        "def replace_spaces_with_underscores(input_string):\n",
        "    # Use the replace() method to replace spaces with underscores\n",
        "    modified_string = input_string.replace(' ', '_')\n",
        "    return modified_string\n",
        "\n",
        "# Test the function\n",
        "user_input = input(\"Enter a string: \")\n",
        "modified_string = replace_spaces_with_underscores(user_input)\n",
        "\n",
        "print(f'The string \"{user_input}\" has been modified with underscores:')\n",
        "print(modified_string)"
      ],
      "metadata": {
        "colab": {
          "base_uri": "https://localhost:8080/"
        },
        "id": "UpQQfiLfekJ7",
        "outputId": "fc4e5fba-e6fc-4cb6-d775-da0b266a43c8"
      },
      "execution_count": null,
      "outputs": [
        {
          "output_type": "stream",
          "name": "stdout",
          "text": [
            "Enter a string: Hello, how are you today?\n",
            "The string \"Hello, how are you today?\" has been modified with underscores:\n",
            "Hello,_how_are_you_today?\n"
          ]
        }
      ]
    },
    {
      "cell_type": "markdown",
      "source": [
        "## **17. Check if a string starts with a specific word or phrase.**"
      ],
      "metadata": {
        "id": "0egkT_r4ekl0"
      }
    },
    {
      "cell_type": "code",
      "source": [
        "def starts_with_word(input_string, target_word):\n",
        "    # Use the startswith() method to check if the string starts with the target word\n",
        "    starts_with = input_string.lower().startswith(target_word.lower())\n",
        "    return starts_with\n",
        "\n",
        "# Test the function\n",
        "user_input = input(\"Enter a string: \")\n",
        "target_word = input(\"Enter the word or phrase to check for at the beginning: \")\n",
        "\n",
        "if starts_with_word(user_input, target_word):\n",
        "    print(f'The string \"{user_input}\" starts with the word or phrase \"{target_word}\".')\n",
        "else:\n",
        "    print(f'The string \"{user_input}\" does not start with the word or phrase \"{target_word}\".')"
      ],
      "metadata": {
        "colab": {
          "base_uri": "https://localhost:8080/"
        },
        "id": "IgkFNWqMelHf",
        "outputId": "4139652d-5c7a-4fb2-a1b0-ad321f2876f9"
      },
      "execution_count": null,
      "outputs": [
        {
          "output_type": "stream",
          "name": "stdout",
          "text": [
            "Enter a string: Python is a powerful programming language.\n",
            "Enter the word or phrase to check for at the beginning: python\n",
            "The string \"Python is a powerful programming language.\" starts with the word or phrase \"python\".\n"
          ]
        }
      ]
    },
    {
      "cell_type": "markdown",
      "source": [
        "## **18. Check if a string ends with a specific word or phrase.**"
      ],
      "metadata": {
        "id": "u_jDyrq1eltg"
      }
    },
    {
      "cell_type": "code",
      "source": [
        "def ends_with_word(input_string, target_word):\n",
        "    # Use the endswith() method to check if the string ends with the target word\n",
        "    ends_with = input_string.lower().endswith(target_word.lower())\n",
        "    return ends_with\n",
        "\n",
        "# Test the function\n",
        "user_input = input(\"Enter a string: \")\n",
        "target_word = input(\"Enter the word or phrase to check for at the end: \")\n",
        "\n",
        "if ends_with_word(user_input, target_word):\n",
        "    print(f'The string \"{user_input}\" ends with the word or phrase \"{target_word}\".')\n",
        "else:\n",
        "    print(f'The string \"{user_input}\" does not end with the word or phrase \"{target_word}\".')\n"
      ],
      "metadata": {
        "colab": {
          "base_uri": "https://localhost:8080/"
        },
        "id": "LoUjs9VCel23",
        "outputId": "73068753-b00a-4ca6-a376-386c3e2d4f2d"
      },
      "execution_count": null,
      "outputs": [
        {
          "output_type": "stream",
          "name": "stdout",
          "text": [
            "Enter a string: Python is a powerful programming language.\n",
            "Enter the word or phrase to check for at the end: python\n",
            "The string \"Python is a powerful programming language.\" does not end with the word or phrase \"python\".\n"
          ]
        }
      ]
    },
    {
      "cell_type": "markdown",
      "source": [
        "## **19. Convert a string to title case (e.g., \"hello world\" to \"Hello World\").**"
      ],
      "metadata": {
        "id": "wtDeP2-Fel-j"
      }
    },
    {
      "cell_type": "code",
      "source": [
        "def convert_to_title_case(input_string):\n",
        "    # Use the title() method to convert the string to title case\n",
        "    title_case_string = input_string.title()\n",
        "    return title_case_string\n",
        "\n",
        "# Test the function\n",
        "user_input = input(\"Enter a string: \")\n",
        "title_case_result = convert_to_title_case(user_input)\n",
        "\n",
        "print(f'The string \"{user_input}\" has been converted to title case:')\n",
        "print(title_case_result)\n"
      ],
      "metadata": {
        "colab": {
          "base_uri": "https://localhost:8080/"
        },
        "id": "pekSvZfUemNI",
        "outputId": "bdde8fc8-2b0d-4051-8286-4600fc851496"
      },
      "execution_count": null,
      "outputs": [
        {
          "output_type": "stream",
          "name": "stdout",
          "text": [
            "Enter a string: hello world\n",
            "The string \"hello world\" has been converted to title case:\n",
            "Hello World\n"
          ]
        }
      ]
    },
    {
      "cell_type": "markdown",
      "source": [
        "## **20. Find the longest word in a string.**"
      ],
      "metadata": {
        "id": "6FdZhs69emV8"
      }
    },
    {
      "cell_type": "code",
      "source": [
        "def find_longest_word(input_string):\n",
        "    # Split the string into words\n",
        "    words = input_string.split()\n",
        "\n",
        "    # Initialize variables to track the longest word and its length\n",
        "    longest_word = \"\"\n",
        "    max_length = 0\n",
        "\n",
        "    # Iterate through each word to find the longest one\n",
        "    for word in words:\n",
        "        # Remove any punctuation from the word (optional)\n",
        "        cleaned_word = ''.join(c for c in word if c.isalnum())\n",
        "\n",
        "        # Check if the current word is longer than the current longest word\n",
        "        if len(cleaned_word) > max_length:\n",
        "            longest_word = cleaned_word\n",
        "            max_length = len(cleaned_word)\n",
        "\n",
        "    return longest_word\n",
        "\n",
        "# Test the function\n",
        "user_input = input(\"Enter a string: \")\n",
        "longest_word_result = find_longest_word(user_input)\n",
        "\n",
        "if longest_word_result:\n",
        "    print(f'The longest word in the string is: \"{longest_word_result}\"')\n",
        "else:\n",
        "    print(\"The input string does not contain any words.\")\n"
      ],
      "metadata": {
        "colab": {
          "base_uri": "https://localhost:8080/"
        },
        "id": "Lm735xoOemjV",
        "outputId": "78be55db-c74b-494d-f5f3-ad93355f34cf"
      },
      "execution_count": null,
      "outputs": [
        {
          "output_type": "stream",
          "name": "stdout",
          "text": [
            "Enter a string: this is a datascience course\n",
            "The longest word in the string is: \"datascience\"\n"
          ]
        }
      ]
    },
    {
      "cell_type": "markdown",
      "source": [
        "## **21. Find the shortest word in a string.**"
      ],
      "metadata": {
        "id": "WgIHXfqdemtj"
      }
    },
    {
      "cell_type": "code",
      "source": [
        "def find_shortest_word(input_string):\n",
        "    # Split the string into words\n",
        "    words = input_string.split()\n",
        "\n",
        "    # Initialize variables to track the shortest word and its length\n",
        "    shortest_word = None\n",
        "    min_length = float('inf')  # Set to positive infinity initially\n",
        "\n",
        "    # Iterate through each word to find the shortest one\n",
        "    for word in words:\n",
        "        # Remove any punctuation from the word (optional)\n",
        "        cleaned_word = ''.join(c for c in word if c.isalnum())\n",
        "\n",
        "        # Check if the current word is shorter than the current shortest word\n",
        "        if len(cleaned_word) < min_length:\n",
        "            shortest_word = cleaned_word\n",
        "            min_length = len(cleaned_word)\n",
        "\n",
        "    return shortest_word\n",
        "\n",
        "# Test the function\n",
        "user_input = input(\"Enter a string: \")\n",
        "shortest_word_result = find_shortest_word(user_input)\n",
        "\n",
        "if shortest_word_result:\n",
        "    print(f'The shortest word in the string is: \"{shortest_word_result}\"')\n",
        "else:\n",
        "    print(\"The input string does not contain any words.\")\n"
      ],
      "metadata": {
        "colab": {
          "base_uri": "https://localhost:8080/"
        },
        "id": "0rZRPx6uem1j",
        "outputId": "9ce5b62b-01e6-49ac-a2ad-9809d82ea9ec"
      },
      "execution_count": null,
      "outputs": [
        {
          "output_type": "stream",
          "name": "stdout",
          "text": [
            "Enter a string: this is a data science course\n",
            "The shortest word in the string is: \"a\"\n"
          ]
        }
      ]
    },
    {
      "cell_type": "markdown",
      "source": [
        "## **22. Reverse the order of words in a string.**"
      ],
      "metadata": {
        "id": "57wxAbVqem-U"
      }
    },
    {
      "cell_type": "code",
      "source": [
        "def reverse_words_order(input_string):\n",
        "    # Split the string into words\n",
        "    words = input_string.split()\n",
        "\n",
        "    # Reverse the order of words\n",
        "    reversed_words = reversed(words)\n",
        "\n",
        "    # Join the reversed words to form the reversed string\n",
        "    reversed_string = ' '.join(reversed_words)\n",
        "\n",
        "    return reversed_string\n",
        "\n",
        "# Test the function\n",
        "user_input = input(\"Enter a string: \")\n",
        "reversed_string_result = reverse_words_order(user_input)\n",
        "\n",
        "print(f'The reversed order of words in the string is:')\n",
        "print(reversed_string_result)\n"
      ],
      "metadata": {
        "colab": {
          "base_uri": "https://localhost:8080/"
        },
        "id": "gaMpdy7VenHI",
        "outputId": "ab41c871-e99d-4847-838a-eaa42db4ab16"
      },
      "execution_count": null,
      "outputs": [
        {
          "output_type": "stream",
          "name": "stdout",
          "text": [
            "Enter a string: this is  a datascience course\n",
            "The reversed order of words in the string is:\n",
            "course datascience a is this\n"
          ]
        }
      ]
    },
    {
      "cell_type": "markdown",
      "source": [
        "## **23. Check if a string is alphanumeric.**"
      ],
      "metadata": {
        "id": "ZbWymNE3enRF"
      }
    },
    {
      "cell_type": "code",
      "source": [
        "def is_alphanumeric(input_string):\n",
        "    # Use the isalnum() method to check if the string is alphanumeric\n",
        "    return input_string.isalnum()\n",
        "\n",
        "# Test the function\n",
        "user_input = input(\"Enter a string: \")\n",
        "\n",
        "if is_alphanumeric(user_input):\n",
        "    print(f'The string \"{user_input}\" is alphanumeric.')\n",
        "else:\n",
        "    print(f'The string \"{user_input}\" is not alphanumeric.')\n"
      ],
      "metadata": {
        "colab": {
          "base_uri": "https://localhost:8080/"
        },
        "id": "hZ3t-tjcenZ7",
        "outputId": "b0362ebd-6f51-4699-b250-5bffc0fd6b4a"
      },
      "execution_count": null,
      "outputs": [
        {
          "output_type": "stream",
          "name": "stdout",
          "text": [
            "Enter a string: Hello123\n",
            "The string \"Hello123\" is alphanumeric.\n"
          ]
        }
      ]
    },
    {
      "cell_type": "markdown",
      "source": [
        "## **24. Extract all digits from a string.**"
      ],
      "metadata": {
        "id": "SsQsHUkPenjm"
      }
    },
    {
      "cell_type": "code",
      "source": [
        "def extract_digits(input_string):\n",
        "    # Use a list comprehension to extract all digits from the string\n",
        "    digits = [char for char in input_string if char.isdigit()]\n",
        "    return ''.join(digits)\n",
        "\n",
        "# Test the function\n",
        "user_input = input(\"Enter a string: \")\n",
        "extracted_digits = extract_digits(user_input)\n",
        "\n",
        "if extracted_digits:\n",
        "    print(f'The digits extracted from the string are: {extracted_digits}')\n",
        "else:\n",
        "    print('The string does not contain any digits.')"
      ],
      "metadata": {
        "colab": {
          "base_uri": "https://localhost:8080/"
        },
        "id": "rliLNFrPensV",
        "outputId": "99d37053-6cd8-4ff7-fa19-6a7bfbfc3940"
      },
      "execution_count": null,
      "outputs": [
        {
          "output_type": "stream",
          "name": "stdout",
          "text": [
            "Enter a string: Hello123World456\n",
            "The digits extracted from the string are: 123456\n"
          ]
        }
      ]
    },
    {
      "cell_type": "markdown",
      "source": [
        "25. Extract all alphabets from a string."
      ],
      "metadata": {
        "id": "xNJqQcxnen3b"
      }
    },
    {
      "cell_type": "code",
      "source": [
        "def extract_alphabets(input_string):\n",
        "    # Use a list comprehension to extract all alphabets from the string\n",
        "    alphabets = [char for char in input_string if char.isalpha()]\n",
        "    return ''.join(alphabets)\n",
        "\n",
        "# Test the function\n",
        "user_input = input(\"Enter a string: \")\n",
        "extracted_alphabets = extract_alphabets(user_input)\n",
        "\n",
        "if extracted_alphabets:\n",
        "    print(f'The alphabets extracted from the string are: {extracted_alphabets}')\n",
        "else:\n",
        "    print('The string does not contain any alphabets.')\n"
      ],
      "metadata": {
        "colab": {
          "base_uri": "https://localhost:8080/"
        },
        "id": "7bSe_4lWeoA6",
        "outputId": "324299d6-e922-4a33-d45d-5a157d956ac2"
      },
      "execution_count": null,
      "outputs": [
        {
          "output_type": "stream",
          "name": "stdout",
          "text": [
            "Enter a string: Hello123\n",
            "The alphabets extracted from the string are: Hello\n"
          ]
        }
      ]
    },
    {
      "cell_type": "markdown",
      "source": [
        "## **26. Count the number of uppercase letters in a string.**"
      ],
      "metadata": {
        "id": "KJ9-Toc-eoLb"
      }
    },
    {
      "cell_type": "code",
      "source": [
        "def count_uppercase_letters(input_string):\n",
        "    # Use a list comprehension to create a list of uppercase letters\n",
        "    uppercase_letters = [char for char in input_string if char.isupper()]\n",
        "\n",
        "    # Return the length of the list, which represents the count of uppercase letters\n",
        "    return len(uppercase_letters)\n",
        "input_string = \"HelloWORLD\"\n",
        "result = count_uppercase_letters(input_string)\n",
        "print(result)"
      ],
      "metadata": {
        "colab": {
          "base_uri": "https://localhost:8080/"
        },
        "id": "ssP-d8YteoUW",
        "outputId": "4e826d9f-fcbd-4def-c173-8da77b8b082d"
      },
      "execution_count": null,
      "outputs": [
        {
          "output_type": "stream",
          "name": "stdout",
          "text": [
            "6\n"
          ]
        }
      ]
    },
    {
      "cell_type": "markdown",
      "source": [
        "## **27. Count the number of lowercase letters in a string.**"
      ],
      "metadata": {
        "id": "elRqt-Jieoer"
      }
    },
    {
      "cell_type": "code",
      "source": [
        "def count_lowercase_letters(input_string):\n",
        "    # Initialize a counter for lowercase letters\n",
        "    lowercase_count = 0\n",
        "\n",
        "    # Iterate through each character in the string\n",
        "    for char in input_string:\n",
        "        # Check if the character is a lowercase letter\n",
        "        if char.islower():\n",
        "            lowercase_count += 1\n",
        "\n",
        "    return lowercase_count\n",
        "\n",
        "# Test the function\n",
        "user_input = input(\"Enter a string: \")\n",
        "lowercase_count_result = count_lowercase_letters(user_input)\n",
        "\n",
        "print(f'The number of lowercase letters in the string is: {lowercase_count_result}')\n"
      ],
      "metadata": {
        "colab": {
          "base_uri": "https://localhost:8080/"
        },
        "id": "bpDQPTrAeoo-",
        "outputId": "2fade27e-16fb-4508-d339-c5f5a6ec11c3"
      },
      "execution_count": null,
      "outputs": [
        {
          "output_type": "stream",
          "name": "stdout",
          "text": [
            "Enter a string: THIS is a data science course\n",
            "The number of lowercase letters in the string is: 20\n"
          ]
        }
      ]
    },
    {
      "cell_type": "code",
      "source": [
        "def count_lowercase(input_string):\n",
        "    lowercase_count = sum(1 for char in input_string if char.islower())\n",
        "    return lowercase_count\n",
        "\n",
        "# Example input string\n",
        "input_string = \"HelloWORLD\"\n",
        "result = count_lowercase(input_string)\n",
        "print(result)"
      ],
      "metadata": {
        "colab": {
          "base_uri": "https://localhost:8080/"
        },
        "id": "V1yc9tUpuBes",
        "outputId": "e813d8a8-cb9e-49fa-c9eb-5b284be30000"
      },
      "execution_count": null,
      "outputs": [
        {
          "output_type": "stream",
          "name": "stdout",
          "text": [
            "4\n"
          ]
        }
      ]
    },
    {
      "cell_type": "markdown",
      "source": [
        "## **28. Swap the case of each character in a string.**"
      ],
      "metadata": {
        "id": "FCyuM_KMeoys"
      }
    },
    {
      "cell_type": "code",
      "source": [
        "def swap_case(input_string):\n",
        "    # Use the swapcase() method to swap the case of each character in the string\n",
        "    swapped_string = input_string.swapcase()\n",
        "    return swapped_string\n",
        "\n",
        "# Test the function\n",
        "user_input = input(\"Enter a string: \")\n",
        "swapped_string_result = swap_case(user_input)\n",
        "\n",
        "# Display the original and swapped strings\n",
        "print(f'The original string is: {user_input}')\n",
        "print(f'The string with swapped case is: {swapped_string_result}')\n"
      ],
      "metadata": {
        "colab": {
          "base_uri": "https://localhost:8080/"
        },
        "id": "l156Hjajepn0",
        "outputId": "1bef57cc-d043-44e6-e476-5b47842f085f"
      },
      "execution_count": null,
      "outputs": [
        {
          "output_type": "stream",
          "name": "stdout",
          "text": [
            "Enter a string: Python is Fun\n",
            "The original string is: Python is Fun\n",
            "The string with swapped case is: pYTHON IS fUN\n"
          ]
        }
      ]
    },
    {
      "cell_type": "markdown",
      "source": [
        "## **29. Remove a specific word from a string.**"
      ],
      "metadata": {
        "id": "tBklEKn1ep6L"
      }
    },
    {
      "cell_type": "code",
      "source": [
        "def remove_word(input_string, target_word):\n",
        "    # Use the replace() method to remove the target word from the string\n",
        "    modified_string = input_string.replace(target_word, '')\n",
        "    return modified_string\n",
        "\n",
        "# Test the function\n",
        "user_input = input(\"Enter a string: \")\n",
        "target_word = input(\"Enter the word to remove: \")\n",
        "\n",
        "modified_string_result = remove_word(user_input, target_word)\n",
        "\n",
        "print(f'The string with \"{target_word}\" removed is: {modified_string_result}')\n"
      ],
      "metadata": {
        "colab": {
          "base_uri": "https://localhost:8080/"
        },
        "id": "pOHIhZqueqCy",
        "outputId": "b5311195-c2c3-419c-b057-6b7b4e45920e"
      },
      "execution_count": null,
      "outputs": [
        {
          "output_type": "stream",
          "name": "stdout",
          "text": [
            "Enter a string: my name is aasif majeed sheikh\n",
            "Enter the word to remove: sheikh\n",
            "The string with \"sheikh\" removed is: my name is aasif majeed \n"
          ]
        }
      ]
    },
    {
      "cell_type": "markdown",
      "source": [
        "## **30. Check if a string is a valid email address.**"
      ],
      "metadata": {
        "id": "Yo_RiamgvCzg"
      }
    },
    {
      "cell_type": "code",
      "source": [
        "def is_valid_email_simple(email):\n",
        "    # Split the email address into local part and domain part\n",
        "    parts = email.split('@')\n",
        "\n",
        "    # Check if there are exactly two parts\n",
        "    if len(parts) == 2:\n",
        "        local_part, domain_part = parts\n",
        "\n",
        "        # Check if both parts are non-empty\n",
        "        if local_part and domain_part:\n",
        "            # Check if there is a dot in the domain part\n",
        "            if '.' in domain_part:\n",
        "                return True\n",
        "\n",
        "    return False\n",
        "\n",
        "# Test the function\n",
        "user_email = input(\"Enter an email address: \")\n",
        "\n",
        "if is_valid_email_simple(user_email):\n",
        "    print(f'The email address \"{user_email}\" is valid.')\n",
        "else:\n",
        "    print(f'The email address \"{user_email}\" is not valid.')\n"
      ],
      "metadata": {
        "colab": {
          "base_uri": "https://localhost:8080/"
        },
        "id": "U2MMJtDAu6eT",
        "outputId": "18a10f42-0201-44ea-b920-cd3853328ee8"
      },
      "execution_count": null,
      "outputs": [
        {
          "output_type": "stream",
          "name": "stdout",
          "text": [
            "Enter an email address: hjdhjsggdhdh@gmail.com\n",
            "The email address \"hjdhjsggdhdh@gmail.com\" is valid.\n"
          ]
        }
      ]
    },
    {
      "cell_type": "code",
      "source": [
        "#using regular expressions\n",
        "import re\n",
        "\n",
        "def is_valid_email(email):\n",
        "    # Define a regular expression pattern for a basic email validation\n",
        "    pattern = r'^[a-zA-Z0-9_.+-]+@[a-zA-Z0-9-]+\\.[a-zA-Z0-9-.]+$'\n",
        "\n",
        "    # Use re.match() to check if the email matches the pattern\n",
        "    match = re.match(pattern, email)\n",
        "\n",
        "    # If there's a match, the email is valid; otherwise, it's not\n",
        "    return bool(match)\n",
        "\n",
        "# Test the function\n",
        "user_email = input(\"Enter an email address: \")\n",
        "\n",
        "if is_valid_email(user_email):\n",
        "    print(f'The email address \"{user_email}\" is valid.')\n",
        "else:\n",
        "    print(f'The email address \"{user_email}\" is not valid.')\n"
      ],
      "metadata": {
        "colab": {
          "base_uri": "https://localhost:8080/"
        },
        "id": "2v76bSUVvlZn",
        "outputId": "02a0bf34-4f51-4718-a4c4-9973ac83c8b8"
      },
      "execution_count": null,
      "outputs": [
        {
          "output_type": "stream",
          "name": "stdout",
          "text": [
            "Enter an email address: hjhghdgh@gmail.com\n",
            "The email address \"hjhghdgh@gmail.com\" is valid.\n"
          ]
        }
      ]
    },
    {
      "cell_type": "markdown",
      "source": [
        " Inside the function, create a regular expression pattern (pattern) that matches a basic email format. The pattern uses the following components:\n",
        "  - `^`: Anchors the pattern to the start of the string.\n",
        "  - `[\\w\\.-]+`: Matches one or more word characters (letters, digits, underscores) or dots or hyphens, which are valid characters in the username part of the email.\n",
        "  - `@`: Matches the \"@\" symbol.\n",
        "  - `[\\w\\.-]+`: Matches one or more word characters (letters, digits, underscores) or dots or hyphens, which are valid characters in the domain name part of the email.\n",
        "  - `\\.`: Escapes and matches the literal dot (.) symbol.\n",
        "  - `\\w+$`: Matches one or more word characters (letters, digits, underscores) at the end of the string (domain suffix, like \".com\").\n",
        "- Use re.match(pattern, email) to match the email against the pattern. If the match is successful, the email is considered valid."
      ],
      "metadata": {
        "id": "b0eiT0ehv8k9"
      }
    },
    {
      "cell_type": "markdown",
      "source": [
        "## **31. Extract the username from an email address string.**"
      ],
      "metadata": {
        "id": "jh9D-i7MvDo6"
      }
    },
    {
      "cell_type": "code",
      "source": [
        "def extract_username(email):\n",
        "    # Split the email address at '@' symbol and return the first part\n",
        "    return email.split('@')[0]\n",
        "\n",
        "# Example usage:\n",
        "email_address = \"user@example.com\"\n",
        "username = extract_username(email_address)\n",
        "print(f\"Username: {username}\")"
      ],
      "metadata": {
        "colab": {
          "base_uri": "https://localhost:8080/"
        },
        "id": "CStqEeqJvD3O",
        "outputId": "e9b6f58c-cdc5-40bb-f422-a543fc257dbb"
      },
      "execution_count": null,
      "outputs": [
        {
          "output_type": "stream",
          "name": "stdout",
          "text": [
            "Username: user\n"
          ]
        }
      ]
    },
    {
      "cell_type": "markdown",
      "source": [
        "## **32. Extract the domain name from an email address string.**"
      ],
      "metadata": {
        "id": "xYjL9_vWvECK"
      }
    },
    {
      "cell_type": "code",
      "source": [
        "def extract_domain(email):\n",
        "    # Split the email address at '@' symbol and return the second part\n",
        "    return email.split('@')[1]\n",
        "\n",
        "# Example usage:\n",
        "email_address = \"user@gmail.com\"\n",
        "domain = extract_domain(email_address)\n",
        "print(f\"Domain: {domain}\")"
      ],
      "metadata": {
        "colab": {
          "base_uri": "https://localhost:8080/"
        },
        "id": "mlLuEXAUvEKC",
        "outputId": "c0f68fb6-7fda-493a-817f-cf542ee5c3fb"
      },
      "execution_count": null,
      "outputs": [
        {
          "output_type": "stream",
          "name": "stdout",
          "text": [
            "Domain: gmail.com\n"
          ]
        }
      ]
    },
    {
      "cell_type": "markdown",
      "source": [
        "## **33. Replace multiple spaces in a string with a single space.**"
      ],
      "metadata": {
        "id": "O6dqCLBtvESA"
      }
    },
    {
      "cell_type": "code",
      "source": [
        "def replace_multiple_spaces(text):\n",
        "    # Use regular expression to replace multiple spaces with a single space\n",
        "    import re\n",
        "    return re.sub(' +', ' ', text)\n",
        "\n",
        "# Example usage:\n",
        "sentence = \"Hello    world!   How are you?\"\n",
        "cleaned_sentence = replace_multiple_spaces(sentence)\n",
        "print(f\"Cleaned Sentence: {cleaned_sentence}\")"
      ],
      "metadata": {
        "colab": {
          "base_uri": "https://localhost:8080/"
        },
        "id": "tI7gyXlivEZR",
        "outputId": "7a2eb465-4ea7-4804-b91c-e25a538bafbd"
      },
      "execution_count": null,
      "outputs": [
        {
          "output_type": "stream",
          "name": "stdout",
          "text": [
            "Cleaned Sentence: Hello world! How are you?\n"
          ]
        }
      ]
    },
    {
      "cell_type": "code",
      "source": [
        "#without using regular expression\n",
        "def replace_multiple_spaces(input_string):\n",
        "    cleaned_string = ' '.join(input_string.split())  # Split the string at spaces and then join using a single space\n",
        "    return cleaned_string\n",
        "\n",
        "# Example input string with multiple spaces\n",
        "input_string = \"Hello     world!   How   are   you?\"\n",
        "result = replace_multiple_spaces(input_string)\n",
        "print(result)"
      ],
      "metadata": {
        "colab": {
          "base_uri": "https://localhost:8080/"
        },
        "id": "F7RHV9JtjfEl",
        "outputId": "0e406f71-f12d-483c-ca7a-50db4d0e042d"
      },
      "execution_count": null,
      "outputs": [
        {
          "output_type": "stream",
          "name": "stdout",
          "text": [
            "Hello world! How are you?\n"
          ]
        }
      ]
    },
    {
      "cell_type": "markdown",
      "source": [
        "## **34. Check if a string is a valid URL.**"
      ],
      "metadata": {
        "id": "Y9guy6nIvEhd"
      }
    },
    {
      "cell_type": "code",
      "source": [
        "from urllib.parse import urlparse\n",
        "\n",
        "def is_valid_url(url):\n",
        "    try:\n",
        "        result = urlparse(url)\n",
        "        return all([result.scheme, result.netloc])  # Check if both scheme and netloc are present\n",
        "    except ValueError:\n",
        "        return False\n",
        "\n",
        "# Example URLs\n",
        "url1 = \"https://www.example.com\"\n",
        "url2 = \"invalid-url\"\n",
        "result1 = is_valid_url(url1)\n",
        "result2 = is_valid_url(url2)\n",
        "print(result1)  # Should print True\n",
        "print(result2)  # Should print False"
      ],
      "metadata": {
        "colab": {
          "base_uri": "https://localhost:8080/"
        },
        "id": "hTwJ_IgKvEoU",
        "outputId": "b4360a8e-a7b2-4549-c0c7-4519ed93ffbb"
      },
      "execution_count": null,
      "outputs": [
        {
          "output_type": "stream",
          "name": "stdout",
          "text": [
            "True\n",
            "False\n"
          ]
        }
      ]
    },
    {
      "cell_type": "markdown",
      "source": [
        "## **35. Extract the protocol (http or https) from a URL string.**"
      ],
      "metadata": {
        "id": "TIQO5-EhvEwF"
      }
    },
    {
      "cell_type": "code",
      "source": [
        "def extract_protocol(url):\n",
        "    # Use the urllib.parse library to extract the scheme (protocol) from the URL\n",
        "    from urllib.parse import urlparse\n",
        "    return urlparse(url).scheme\n",
        "\n",
        "# Example usage:\n",
        "url = \"https://www.example.com\"\n",
        "protocol = extract_protocol(url)\n",
        "print(f\"Protocol: {protocol}\")\n"
      ],
      "metadata": {
        "colab": {
          "base_uri": "https://localhost:8080/"
        },
        "id": "6uJefooNvE3Q",
        "outputId": "81948fc9-3611-4a20-b178-1e992076ef1a"
      },
      "execution_count": null,
      "outputs": [
        {
          "output_type": "stream",
          "name": "stdout",
          "text": [
            "Protocol: https\n"
          ]
        }
      ]
    },
    {
      "cell_type": "code",
      "source": [
        "#without using url parser\n",
        "def extract_protocol(url):\n",
        "    # Find the index of the first occurrence of \"://\"\n",
        "    protocol_end = url.find(\"://\")\n",
        "\n",
        "    if protocol_end != -1:\n",
        "        # Extract the protocol from the URL\n",
        "        protocol = url[:protocol_end]\n",
        "        return protocol\n",
        "    else:\n",
        "        return None\n",
        "\n",
        "# Example URL strings\n",
        "url1 = \"https://www.example.com\"\n",
        "url2 = \"http://google.com\"\n",
        "url3 = \"ftp://ftp.example.com\"\n",
        "\n",
        "# Extract protocols\n",
        "protocol1 = extract_protocol(url1)\n",
        "protocol2 = extract_protocol(url2)\n",
        "protocol3 = extract_protocol(url3)\n",
        "\n",
        "# Print extracted protocols\n",
        "print(\"Protocol 1:\", protocol1)\n",
        "print(\"Protocol 2:\", protocol2)\n",
        "print(\"Protocol 3:\", protocol3)"
      ],
      "metadata": {
        "colab": {
          "base_uri": "https://localhost:8080/"
        },
        "id": "8s6C8CM3kgVT",
        "outputId": "beace859-ca20-4327-883f-146b167d0964"
      },
      "execution_count": null,
      "outputs": [
        {
          "output_type": "stream",
          "name": "stdout",
          "text": [
            "Protocol 1: https\n",
            "Protocol 2: http\n",
            "Protocol 3: ftp\n"
          ]
        }
      ]
    },
    {
      "cell_type": "markdown",
      "source": [
        "## **36. Find the frequency of each character in a string.**"
      ],
      "metadata": {
        "id": "yf0hkMlWvFCa"
      }
    },
    {
      "cell_type": "code",
      "source": [
        "def character_frequency(text):\n",
        "    # Use a dictionary to count the frequency of each character\n",
        "    frequency = {}\n",
        "    for char in text:\n",
        "        frequency[char] = frequency.get(char, 0) + 1\n",
        "    return frequency\n",
        "\n",
        "# Example usage:\n",
        "text = \"hello world\"\n",
        "char_freq = character_frequency(text)\n",
        "print(f\"Character Frequency: {char_freq}\")\n"
      ],
      "metadata": {
        "colab": {
          "base_uri": "https://localhost:8080/"
        },
        "id": "pUsEUEv3vFNT",
        "outputId": "fd0be2d0-972f-478f-e695-7e153b441b78"
      },
      "execution_count": null,
      "outputs": [
        {
          "output_type": "stream",
          "name": "stdout",
          "text": [
            "Character Frequency: {'h': 1, 'e': 1, 'l': 3, 'o': 2, ' ': 1, 'w': 1, 'r': 1, 'd': 1}\n"
          ]
        }
      ]
    },
    {
      "cell_type": "code",
      "source": [
        "def character_frequency(input_string):\n",
        "    frequency = {}  # Create an empty dictionary to store character frequencies\n",
        "\n",
        "    for char in input_string:\n",
        "        if char in frequency:\n",
        "            frequency[char] += 1  # Increment the frequency count if the character is already in the dictionary\n",
        "        else:\n",
        "            frequency[char] = 1   # Initialize the frequency count to 1 if the character is not in the dictionary\n",
        "\n",
        "    return frequency\n",
        "\n",
        "# Example string\n",
        "input_str = \"Aasif majeed\"\n",
        "\n",
        "# Calculate character frequencies\n",
        "char_freq = character_frequency(input_str)\n",
        "\n",
        "# Print character frequencies\n",
        "for char, freq in char_freq.items():\n",
        "    print(f\"Character: '{char}', Frequency: {freq}\")"
      ],
      "metadata": {
        "colab": {
          "base_uri": "https://localhost:8080/"
        },
        "id": "aUvg1azN5uuX",
        "outputId": "da83a50c-618c-4965-db0a-a6bdf57319f9"
      },
      "execution_count": null,
      "outputs": [
        {
          "output_type": "stream",
          "name": "stdout",
          "text": [
            "Character: 'A', Frequency: 1\n",
            "Character: 'a', Frequency: 2\n",
            "Character: 's', Frequency: 1\n",
            "Character: 'i', Frequency: 1\n",
            "Character: 'f', Frequency: 1\n",
            "Character: ' ', Frequency: 1\n",
            "Character: 'm', Frequency: 1\n",
            "Character: 'j', Frequency: 1\n",
            "Character: 'e', Frequency: 2\n",
            "Character: 'd', Frequency: 1\n"
          ]
        }
      ]
    },
    {
      "cell_type": "markdown",
      "source": [
        "## **37. Remove all punctuation from a string.**"
      ],
      "metadata": {
        "id": "CdaHA_Qc6VM-"
      }
    },
    {
      "cell_type": "code",
      "source": [
        "def remove_punctuation(text):\n",
        "    # Use string.punctuation to remove all punctuation characters\n",
        "    import string\n",
        "    return text.translate(str.maketrans('', '', string.punctuation))\n",
        "\n",
        "# Example usage:\n",
        "text_with_punctuation = \"Hello, world! How are you?\"\n",
        "cleaned_text = remove_punctuation(text_with_punctuation)\n",
        "print(f\"Cleaned Text: {cleaned_text}\")"
      ],
      "metadata": {
        "colab": {
          "base_uri": "https://localhost:8080/"
        },
        "id": "gHKJOXRF6M6U",
        "outputId": "d424cb09-ef80-4d55-9682-ca018b4bc8c6"
      },
      "execution_count": null,
      "outputs": [
        {
          "output_type": "stream",
          "name": "stdout",
          "text": [
            "Cleaned Text: Hello world How are you\n"
          ]
        }
      ]
    },
    {
      "cell_type": "markdown",
      "source": [
        "## **38. Check if a string contains only digits.**"
      ],
      "metadata": {
        "id": "j8GKOolh6V5d"
      }
    },
    {
      "cell_type": "code",
      "source": [
        "def contains_only_digits(text):\n",
        "    # Use str.isdigit() to check if all characters in the string are digits\n",
        "    return text.isdigit()\n",
        "\n",
        "# Example usage:\n",
        "numeric_string = \"12345\"\n",
        "print(f\"Contains Only Digits: {contains_only_digits(numeric_string)}\")"
      ],
      "metadata": {
        "colab": {
          "base_uri": "https://localhost:8080/"
        },
        "id": "WNcu9o786WDN",
        "outputId": "2d261ecd-58a8-4d4f-857d-c04383cc8588"
      },
      "execution_count": null,
      "outputs": [
        {
          "output_type": "stream",
          "name": "stdout",
          "text": [
            "Contains Only Digits: True\n"
          ]
        }
      ]
    },
    {
      "cell_type": "markdown",
      "source": [
        "## **39. Check if a string contains only alphabets.**"
      ],
      "metadata": {
        "id": "IwMVn5ZF6Wi8"
      }
    },
    {
      "cell_type": "code",
      "source": [
        "def contains_only_alphabets(text):\n",
        "    # Use str.isalpha() to check if all characters in the string are alphabets\n",
        "    return text.isalpha()\n",
        "\n",
        "# Example usage:\n",
        "alpha_string = \"abcdef\"\n",
        "print(f\"Contains Only Alphabets: {contains_only_alphabets(alpha_string)}\")"
      ],
      "metadata": {
        "colab": {
          "base_uri": "https://localhost:8080/"
        },
        "id": "kEOW-c266Wv8",
        "outputId": "b78d9384-7446-49af-8b87-7e46db8c05d7"
      },
      "execution_count": null,
      "outputs": [
        {
          "output_type": "stream",
          "name": "stdout",
          "text": [
            "Contains Only Alphabets: True\n"
          ]
        }
      ]
    },
    {
      "cell_type": "markdown",
      "source": [
        "## **40. Convert a string to a list of characters.**"
      ],
      "metadata": {
        "id": "UL-zFz506W5R"
      }
    },
    {
      "cell_type": "code",
      "source": [
        "def string_to_list(text):\n",
        "    # Use list() to convert the string to a list of characters\n",
        "    return list(text)\n",
        "\n",
        "# Example usage:\n",
        "word = \"Python\"\n",
        "char_list = string_to_list(word)\n",
        "print(f\"List of Characters: {char_list}\")\n"
      ],
      "metadata": {
        "colab": {
          "base_uri": "https://localhost:8080/"
        },
        "id": "3h787vjQ6XNG",
        "outputId": "d5f325b5-2c5e-4961-9e52-5c634effb913"
      },
      "execution_count": null,
      "outputs": [
        {
          "output_type": "stream",
          "name": "stdout",
          "text": [
            "List of Characters: ['P', 'y', 't', 'h', 'o', 'n']\n"
          ]
        }
      ]
    },
    {
      "cell_type": "markdown",
      "source": [
        "## **41. Check if two strings are anagrams.**"
      ],
      "metadata": {
        "id": "FuYmXxxf6XWx"
      }
    },
    {
      "cell_type": "code",
      "source": [
        "#anagrams is a pair word, phrase, or name formed by rearranging the letters of another, such as spar, formed from rasp.\n",
        "def are_anagrams(str1, str2):\n",
        "    # Use sorted() to check if the sorted characters of both strings are equal\n",
        "    return sorted(str1) == sorted(str2)\n",
        "\n",
        "# Example usage:\n",
        "string1 = \"listen\"\n",
        "string2 = \"silent\"\n",
        "print(f\"Are Anagrams: {are_anagrams(string1, string2)}\")"
      ],
      "metadata": {
        "colab": {
          "base_uri": "https://localhost:8080/"
        },
        "id": "6_mJG-mi6Xhh",
        "outputId": "7f08311b-ee4d-44f7-e4e9-aeb884892d5e"
      },
      "execution_count": null,
      "outputs": [
        {
          "output_type": "stream",
          "name": "stdout",
          "text": [
            "Are Anagrams: True\n"
          ]
        }
      ]
    },
    {
      "cell_type": "markdown",
      "source": [
        "## **42. Encode a string using a Caesar cipher.**"
      ],
      "metadata": {
        "id": "qfZtUJ-46XtE"
      }
    },
    {
      "cell_type": "code",
      "source": [
        "def caesar_cipher_encode(text, shift):\n",
        "    # Initialize an empty string to store the encoded text\n",
        "    encoded_text = \"\"\n",
        "\n",
        "    # Iterate through each character in the input text\n",
        "    for char in text:\n",
        "        # Check if the character is an alphabet letter\n",
        "        if char.isalpha():\n",
        "            # Determine the offset based on whether the character is uppercase or lowercase\n",
        "            offset = ord('A') if char.isupper() else ord('a')\n",
        "\n",
        "            # Apply the Caesar cipher encoding formula:\n",
        "            # 1. Calculate the new position of the character in the alphabet using modular arithmetic\n",
        "            # 2. Convert the new position back to a character and append it to the encoded text\n",
        "            encoded_text += chr((ord(char) - offset + shift) % 26 + offset)\n",
        "        else:\n",
        "            # If the character is not an alphabet letter, append it unchanged to the encoded text\n",
        "            encoded_text += char\n",
        "\n",
        "    # Return the final encoded text\n",
        "    return encoded_text\n",
        "\n",
        "# Example usage:\n",
        "original_text = \"Hello, World!\"\n",
        "shift_amount = 3\n",
        "encoded_text = caesar_cipher_encode(original_text, shift_amount)\n",
        "print(f\"Encoded Text: {encoded_text}\")"
      ],
      "metadata": {
        "colab": {
          "base_uri": "https://localhost:8080/"
        },
        "id": "HbUoPXrk6X3Y",
        "outputId": "219c8102-594a-4427-b8bf-7c78f9e67478"
      },
      "execution_count": null,
      "outputs": [
        {
          "output_type": "stream",
          "name": "stdout",
          "text": [
            "Encoded Text: Khoor, Zruog!\n"
          ]
        }
      ]
    },
    {
      "cell_type": "markdown",
      "source": [
        "**Explanation of the Caesar cipher:**\n",
        "\n",
        "1.*The Caesar cipher is a substitution cipher where each letter in the plaintext is shifted a certain number of places down or up the alphabet.*\n",
        "\n",
        ">\n",
        "\n",
        "\n",
        "2.*In this implementation, the shift parameter determines the number of positions each letter should be shifted.*\n",
        "\n",
        ">\n",
        "\n",
        "\n",
        "3.*The offset is used to determine whether the character is uppercase or lowercase, and the alphabet is treated as a circular structure using modulo arithmetic (% 26) to wrap around the alphabet if needed.*\n",
        "\n",
        ">\n",
        "\n",
        "\n",
        "4.*Non-alphabetic characters are left unchanged in the encoded text.*"
      ],
      "metadata": {
        "id": "L5BLbfVZ6YCm"
      }
    },
    {
      "cell_type": "markdown",
      "source": [
        "## **44. Find the most frequent word in a string.**"
      ],
      "metadata": {
        "id": "Q0NSN-O89kjj"
      }
    },
    {
      "cell_type": "code",
      "source": [
        "def most_frequent_word(text):\n",
        "    # Use collections.Counter to count the frequency of each word\n",
        "    from collections import Counter\n",
        "    words = text.split()\n",
        "    word_counts = Counter(words)\n",
        "    most_common_word = word_counts.most_common(1)\n",
        "    return most_common_word[0][0]\n",
        "\n",
        "# Example usage:\n",
        "text_with_words = \"apple orange banana apple orange apple\"\n",
        "most_common_word_result = most_frequent_word(text_with_words)\n",
        "print(f\"Most Frequent Word: {most_common_word_result}\")"
      ],
      "metadata": {
        "colab": {
          "base_uri": "https://localhost:8080/"
        },
        "id": "j6fIQKSV6YLw",
        "outputId": "caecd0bb-e8d8-4c65-ede9-61a0fe178f9b"
      },
      "execution_count": null,
      "outputs": [
        {
          "output_type": "stream",
          "name": "stdout",
          "text": [
            "Most Frequent Word: apple\n"
          ]
        }
      ]
    },
    {
      "cell_type": "markdown",
      "source": [
        "## **45. Find all unique words in a string.**"
      ],
      "metadata": {
        "id": "ugarnxMR6YTv"
      }
    },
    {
      "cell_type": "code",
      "source": [
        "def unique_words(text):\n",
        "    # Use set() to get unique words in the string\n",
        "    words = text.split()\n",
        "    unique_words_set = set(words)\n",
        "    return list(unique_words_set)\n",
        "\n",
        "# Example usage:\n",
        "text_with_duplicate_words = \"apple orange banana apple orange apple\"\n",
        "unique_words_list = unique_words(text_with_duplicate_words)\n",
        "print(f\"Unique Words: {unique_words_list}\")\n"
      ],
      "metadata": {
        "colab": {
          "base_uri": "https://localhost:8080/"
        },
        "id": "Gs7RcsOR6YcZ",
        "outputId": "d9f45609-1e40-499c-c7c9-d52da054bf86"
      },
      "execution_count": null,
      "outputs": [
        {
          "output_type": "stream",
          "name": "stdout",
          "text": [
            "Unique Words: ['apple', 'orange', 'banana']\n"
          ]
        }
      ]
    },
    {
      "cell_type": "markdown",
      "source": [
        "## **46. Count the number of syllables in a string.**"
      ],
      "metadata": {
        "id": "9COT98kT6Ym_"
      }
    },
    {
      "cell_type": "code",
      "source": [
        "def count_syllables(word):\n",
        "    # Use a simple syllable counting algorithm\n",
        "    vowels = \"aeiouy\"\n",
        "    count = 0\n",
        "    prev_char_is_vowel = False\n",
        "\n",
        "    for char in word.lower():\n",
        "        if char in vowels:\n",
        "            if not prev_char_is_vowel:\n",
        "                count += 1\n",
        "            prev_char_is_vowel = True\n",
        "        else:\n",
        "            prev_char_is_vowel = False\n",
        "\n",
        "    return count\n",
        "\n",
        "# Example usage:\n",
        "word_to_count_syllables = \"elephant\"\n",
        "syllable_count = count_syllables(word_to_count_syllables)\n",
        "print(f\"Syllable Count: {syllable_count}\")"
      ],
      "metadata": {
        "colab": {
          "base_uri": "https://localhost:8080/"
        },
        "id": "2IgamBUQ6YyO",
        "outputId": "bc8ea77b-82b5-48a4-c06f-b10dfd48c3b1"
      },
      "execution_count": null,
      "outputs": [
        {
          "output_type": "stream",
          "name": "stdout",
          "text": [
            "Syllable Count: 3\n"
          ]
        }
      ]
    },
    {
      "cell_type": "markdown",
      "source": [
        "## **47. Check if a string contains any special characters.**"
      ],
      "metadata": {
        "id": "tO2C8uZL6Y-I"
      }
    },
    {
      "cell_type": "code",
      "source": [
        "def contains_special_characters(text):\n",
        "    # Use regex to check if the string contains any special characters\n",
        "    import re\n",
        "    # [^A-Za-z0-9] matches any character that is not a letter or digit\n",
        "    return bool(re.search('[^A-Za-z0-9]', text))\n",
        "\n",
        "# Example usage:\n",
        "string_with_special_characters = \"Hello@World\"\n",
        "contains_special = contains_special_characters(string_with_special_characters)\n",
        "print(f\"Contains Special Characters: {contains_special}\")\n"
      ],
      "metadata": {
        "colab": {
          "base_uri": "https://localhost:8080/"
        },
        "id": "ZGe_1ZGY6ZGl",
        "outputId": "beb4585f-847f-4a5e-f167-59986969045a"
      },
      "execution_count": null,
      "outputs": [
        {
          "output_type": "stream",
          "name": "stdout",
          "text": [
            "Contains Special Characters: True\n"
          ]
        }
      ]
    },
    {
      "cell_type": "markdown",
      "source": [
        "## **48. Remove the nth word from a string.**"
      ],
      "metadata": {
        "id": "6OqZkqR2_5am"
      }
    },
    {
      "cell_type": "code",
      "source": [
        "def remove_nth_word(input_string, n):\n",
        "    # Split the input string into words\n",
        "    words = input_string.split()\n",
        "\n",
        "    # Check if n is within a valid range\n",
        "    if n >= 1 and n <= len(words):\n",
        "        # Remove the nth word by excluding it from the words list\n",
        "        removed_word = words.pop(n - 1)\n",
        "\n",
        "        # Join the remaining words to form the modified string\n",
        "        modified_string = ' '.join(words)\n",
        "\n",
        "        return modified_string, removed_word\n",
        "    else:\n",
        "        return None, None\n",
        "\n",
        "# Example string and n value\n",
        "input_str = \"This is an example sentence to test the function.\"\n",
        "n_value = 4\n",
        "\n",
        "# Remove the nth word\n",
        "modified_str, removed_word = remove_nth_word(input_str, n_value)\n",
        "\n",
        "# Print the results\n",
        "print(\"Original string:\", input_str)\n",
        "if modified_str is not None:\n",
        "    print(\"Modified string:\", modified_str)\n",
        "    print(\"Removed word:\", removed_word)\n",
        "else:\n",
        "    print(\"Invalid n value.\")"
      ],
      "metadata": {
        "colab": {
          "base_uri": "https://localhost:8080/"
        },
        "id": "DRxvFxh1_3EP",
        "outputId": "418f769e-2a06-4223-938a-b3a3171fcb54"
      },
      "execution_count": null,
      "outputs": [
        {
          "output_type": "stream",
          "name": "stdout",
          "text": [
            "Original string: This is an example sentence to test the function.\n",
            "Modified string: This is an sentence to test the function.\n",
            "Removed word: example\n"
          ]
        }
      ]
    },
    {
      "cell_type": "markdown",
      "source": [
        "## **49. Insert a word at the nth position in a string.**"
      ],
      "metadata": {
        "id": "rNdn1g1h_5_j"
      }
    },
    {
      "cell_type": "code",
      "source": [
        "def insert_word_at_nth_position(text, word, n):\n",
        "    # Use split() to separate words and insert the new word at the specified position\n",
        "    words = text.split()\n",
        "    if 0 <= n <= len(words):\n",
        "        words.insert(n, word)\n",
        "    return ' '.join(words)\n",
        "\n",
        "# Example usage:\n",
        "sentence_to_insert_word = \"This is a sample sentence.\"\n",
        "word_to_insert = \"great\"\n",
        "position_to_insert = 2\n",
        "inserted_word_sentence = insert_word_at_nth_position(sentence_to_insert_word, word_to_insert, position_to_insert)\n",
        "print(f\"Inserted Word Sentence: {inserted_word_sentence}\")"
      ],
      "metadata": {
        "colab": {
          "base_uri": "https://localhost:8080/"
        },
        "id": "1YItNb3F_6PW",
        "outputId": "83f5c111-bee8-4cb9-a272-724af407a755"
      },
      "execution_count": null,
      "outputs": [
        {
          "output_type": "stream",
          "name": "stdout",
          "text": [
            "Inserted Word Sentence: This is great a sample sentence.\n"
          ]
        }
      ]
    },
    {
      "cell_type": "markdown",
      "source": [
        "## **50. Convert a CSV string to a list of lists.**"
      ],
      "metadata": {
        "id": "VyeNcUx3_6Yo"
      }
    },
    {
      "cell_type": "code",
      "source": [
        "# Define a function to convert a CSV string to a list of lists\n",
        "def csv_string_to_list(csv_string):\n",
        "    # Import the csv module to handle CSV parsing\n",
        "    import csv\n",
        "    from io import StringIO  # Import StringIO for handling string as file\n",
        "\n",
        "    # Wrap the CSV string in a StringIO object to simulate a file-like object\n",
        "    csv_file = StringIO(csv_string)\n",
        "\n",
        "    # Use csv.reader to parse the CSV string with the specified delimiter (',') and convert it to a list of lists\n",
        "    # Set newline='' to handle universal-newline mode and avoid the new-line character error\n",
        "    csv_list = list(csv.reader(csv_file, delimiter=','))\n",
        "\n",
        "    # Return the resulting list of lists\n",
        "    return csv_list\n",
        "\n",
        "# Example usage:\n",
        "csv_data_string = \"1,John,Doe\\n2,Jane,Smith\\n3,Bob,Johnson\"\n",
        "csv_list = csv_string_to_list(csv_data_string)\n",
        "print(f\"CSV List: {csv_list}\")\n"
      ],
      "metadata": {
        "colab": {
          "base_uri": "https://localhost:8080/"
        },
        "id": "bK8zNbdA_6go",
        "outputId": "3b433f97-b959-4278-f956-2686ee7f9eee"
      },
      "execution_count": null,
      "outputs": [
        {
          "output_type": "stream",
          "name": "stdout",
          "text": [
            "CSV List: [['1', 'John', 'Doe'], ['2', 'Jane', 'Smith'], ['3', 'Bob', 'Johnson']]\n"
          ]
        }
      ]
    },
    {
      "cell_type": "code",
      "source": [
        "def csv_string_to_list(csv_string):\n",
        "    # Split the CSV string into lines\n",
        "    lines = csv_string.split('\\n')\n",
        "\n",
        "    # Initialize an empty list to store the result\n",
        "    result = []\n",
        "\n",
        "    for line in lines:\n",
        "        # Split each line into fields using comma as the delimiter\n",
        "        fields = line.split(',')\n",
        "\n",
        "        # Append the fields to the result list as a row\n",
        "        result.append(fields)\n",
        "\n",
        "    return result\n",
        "\n",
        "# Example CSV string\n",
        "csv_data = \"Name, Age, Country\\nJohn, 25, USA\\nAlice, 30, Canada\\nBob, 22, UK\"\n",
        "\n",
        "# Convert CSV string to a list of lists\n",
        "list_of_lists = csv_string_to_list(csv_data)\n",
        "\n",
        "# Print the result\n",
        "for row in list_of_lists:\n",
        "    print(row)"
      ],
      "metadata": {
        "colab": {
          "base_uri": "https://localhost:8080/"
        },
        "id": "2JmWbSJgCHnn",
        "outputId": "b1dd2f21-6d43-4cc2-9379-b624ed693f35"
      },
      "execution_count": null,
      "outputs": [
        {
          "output_type": "stream",
          "name": "stdout",
          "text": [
            "['Name', ' Age', ' Country']\n",
            "['John', ' 25', ' USA']\n",
            "['Alice', ' 30', ' Canada']\n",
            "['Bob', ' 22', ' UK']\n"
          ]
        }
      ]
    },
    {
      "cell_type": "markdown",
      "source": [
        "\n",
        "# Topic : List Based Practice Problem\n",
        "\n",
        "---\n",
        "\n",
        "\n",
        "\n"
      ],
      "metadata": {
        "id": "-qJArjIb_6ol"
      }
    },
    {
      "cell_type": "markdown",
      "source": [
        "## **1. Create a list with integers from 1 to 10.**"
      ],
      "metadata": {
        "id": "ZyCblXIvCgHn"
      }
    },
    {
      "cell_type": "code",
      "source": [
        "# Creating a list with integers from 1 to 10\n",
        "integers= list(range(1, 11))\n",
        "print(integers)\n",
        "type(integers)"
      ],
      "metadata": {
        "colab": {
          "base_uri": "https://localhost:8080/"
        },
        "id": "io_iZSOO_6vc",
        "outputId": "acc9daa7-a9d8-4309-b39b-a6b1f01d14ae"
      },
      "execution_count": null,
      "outputs": [
        {
          "output_type": "stream",
          "name": "stdout",
          "text": [
            "[1, 2, 3, 4, 5, 6, 7, 8, 9, 10]\n"
          ]
        },
        {
          "output_type": "execute_result",
          "data": {
            "text/plain": [
              "list"
            ]
          },
          "metadata": {},
          "execution_count": 3
        }
      ]
    },
    {
      "cell_type": "markdown",
      "source": [
        "## **2. Find the length of a list without using the `len()` function.**"
      ],
      "metadata": {
        "id": "pPJIbYjs_624"
      }
    },
    {
      "cell_type": "code",
      "source": [
        "# Finding the length of a list without using len()\n",
        "my_list = [1, 2, 3, 4, 5, 6, 7, 8, 9, 10]\n",
        "\n",
        "# Using a loop to count the elements\n",
        "length = 0\n",
        "for i in my_list:\n",
        "    length += 1\n",
        "\n",
        "# Example\n",
        "print(\"Length of the list:\", length)"
      ],
      "metadata": {
        "colab": {
          "base_uri": "https://localhost:8080/"
        },
        "id": "BT4XfUNH_699",
        "outputId": "21656dce-6c66-4fbd-9223-c9576d20b9a9"
      },
      "execution_count": null,
      "outputs": [
        {
          "output_type": "stream",
          "name": "stdout",
          "text": [
            "Length of the list: 10\n"
          ]
        }
      ]
    },
    {
      "cell_type": "markdown",
      "source": [
        "## **3. Append an element to the end of a list.**"
      ],
      "metadata": {
        "id": "sH6J8nqD_7Fj"
      }
    },
    {
      "cell_type": "code",
      "source": [
        "# Appending an element to the end of a list\n",
        "my_list = [1, 2, 3, 4, 5]\n",
        "\n",
        "# Using append() method\n",
        "my_list.append(6)\n",
        "\n",
        "# Example\n",
        "print(my_list)"
      ],
      "metadata": {
        "colab": {
          "base_uri": "https://localhost:8080/"
        },
        "id": "lkq4IAcc_7NY",
        "outputId": "5e7cc72b-75ef-40d3-bbde-cf1c41b19a71"
      },
      "execution_count": null,
      "outputs": [
        {
          "output_type": "stream",
          "name": "stdout",
          "text": [
            "[1, 2, 3, 4, 5, 6]\n"
          ]
        }
      ]
    },
    {
      "cell_type": "markdown",
      "source": [
        "## **4. Insert an element at a specific index in a list.**"
      ],
      "metadata": {
        "id": "uXO0NoBW_7VQ"
      }
    },
    {
      "cell_type": "code",
      "source": [
        "# Inserting an element at a specific index in a list\n",
        "my_list = [1, 2, 3, 4, 5]\n",
        "\n",
        "# Using insert() method to insert 10 at index 2\n",
        "my_list.insert(2, 10)\n",
        "\n",
        "# Example\n",
        "print(my_list)"
      ],
      "metadata": {
        "colab": {
          "base_uri": "https://localhost:8080/"
        },
        "id": "nhUzuZBd_7cW",
        "outputId": "915a6c00-27d6-4abf-ba9c-220c02f5b9b1"
      },
      "execution_count": null,
      "outputs": [
        {
          "output_type": "stream",
          "name": "stdout",
          "text": [
            "[1, 2, 10, 3, 4, 5]\n"
          ]
        }
      ]
    },
    {
      "cell_type": "markdown",
      "source": [
        "## **5. Remove an element from a list by its value.**"
      ],
      "metadata": {
        "id": "tqnlWY7H_7kF"
      }
    },
    {
      "cell_type": "code",
      "source": [
        "# Removing an element from a list by its value\n",
        "my_list = [1, 2, 3, 4, 5]\n",
        "\n",
        "# Using remove() method to remove 3 from the list\n",
        "my_list.remove(3)\n",
        "\n",
        "# Example\n",
        "print(my_list)\n"
      ],
      "metadata": {
        "colab": {
          "base_uri": "https://localhost:8080/"
        },
        "id": "cPvX0pi9_7rt",
        "outputId": "b3449bb5-6c8c-48d7-d14e-06394d17efac"
      },
      "execution_count": null,
      "outputs": [
        {
          "output_type": "stream",
          "name": "stdout",
          "text": [
            "[1, 2, 4, 5]\n"
          ]
        }
      ]
    },
    {
      "cell_type": "markdown",
      "source": [
        "## **6. Remove an element from a list by its index.**"
      ],
      "metadata": {
        "id": "jSxmGuXL_7zv"
      }
    },
    {
      "cell_type": "code",
      "source": [
        "# Removing an element from a list by its index\n",
        "my_list = [1, 2, 3, 4, 5]\n",
        "\n",
        "# Using pop() method to remove element at index 2\n",
        "removed_element = my_list.pop(2)\n",
        "\n",
        "# Example\n",
        "print(\"Removed element:\", removed_element)\n",
        "print(\"Updated list:\", my_list)"
      ],
      "metadata": {
        "colab": {
          "base_uri": "https://localhost:8080/"
        },
        "id": "on7lrhdO_76m",
        "outputId": "045f0e18-6c76-477d-8f37-558d33d69eb8"
      },
      "execution_count": null,
      "outputs": [
        {
          "output_type": "stream",
          "name": "stdout",
          "text": [
            "Removed element: 3\n",
            "Updated list: [1, 2, 4, 5]\n"
          ]
        }
      ]
    },
    {
      "cell_type": "markdown",
      "source": [
        "## **7. Check if an element exists in a list.**"
      ],
      "metadata": {
        "id": "qgksW9FO_8B9"
      }
    },
    {
      "cell_type": "code",
      "source": [
        "# Checking if an element exists in a list\n",
        "my_list = [1, 2, 3, 4, 5]\n",
        "\n",
        "# Using the 'in' keyword\n",
        "element_exists = 3 in my_list\n",
        "\n",
        "# Example\n",
        "print(\"Does 3 exist in the list?\", element_exists)"
      ],
      "metadata": {
        "colab": {
          "base_uri": "https://localhost:8080/"
        },
        "id": "o8Iwo7Mi_8Om",
        "outputId": "0721db22-8a36-4829-dd86-7bb73ae98175"
      },
      "execution_count": null,
      "outputs": [
        {
          "output_type": "stream",
          "name": "stdout",
          "text": [
            "Does 3 exist in the list? True\n"
          ]
        }
      ]
    },
    {
      "cell_type": "markdown",
      "source": [
        "## **8. Find the index of the first occurrence of an element in a list.**"
      ],
      "metadata": {
        "id": "8YvCtSdd_8W_"
      }
    },
    {
      "cell_type": "code",
      "source": [
        "# Finding the index of the first occurrence of an element in a list\n",
        "my_list = [1, 2, 3, 4, 5, 3]\n",
        "\n",
        "# Using index() method to find the index of 3\n",
        "index_of_3 = my_list.index(3)\n",
        "\n",
        "# Example\n",
        "print(\"Index of the first occurrence of 3:\", index_of_3)"
      ],
      "metadata": {
        "colab": {
          "base_uri": "https://localhost:8080/"
        },
        "id": "z60swOe0_8gH",
        "outputId": "c8681a5d-b614-4bb8-ad93-52977034ab83"
      },
      "execution_count": null,
      "outputs": [
        {
          "output_type": "stream",
          "name": "stdout",
          "text": [
            "Index of the first occurrence of 3: 2\n"
          ]
        }
      ]
    },
    {
      "cell_type": "markdown",
      "source": [
        "## **9. Count the occurrences of an element in a list.**"
      ],
      "metadata": {
        "id": "lXu-_tgJ_8pQ"
      }
    },
    {
      "cell_type": "code",
      "source": [
        "# Counting the occurrences of an element in a list\n",
        "my_list = [1, 2, 3, 4, 5, 3, 3]\n",
        "\n",
        "# Using count() method to count the occurrences of 3\n",
        "count_of_3 = my_list.count(3)\n",
        "\n",
        "# Example\n",
        "print(\"Count of occurrences of 3:\", count_of_3)"
      ],
      "metadata": {
        "colab": {
          "base_uri": "https://localhost:8080/"
        },
        "id": "A581iGmR_8vg",
        "outputId": "4381f53b-d266-492a-e3a5-9c75b584b30a"
      },
      "execution_count": null,
      "outputs": [
        {
          "output_type": "stream",
          "name": "stdout",
          "text": [
            "Count of occurrences of 3: 3\n"
          ]
        }
      ]
    },
    {
      "cell_type": "markdown",
      "source": [
        "\n",
        "## **10. Reverse the order of elements in a list.**"
      ],
      "metadata": {
        "id": "d9bcvYF__83M"
      }
    },
    {
      "cell_type": "code",
      "source": [
        "# Reversing the order of elements in a list\n",
        "my_list = [1, 2, 3, 4, 5]\n",
        "\n",
        "# Using reverse() method to reverse the list\n",
        "my_list.reverse()\n",
        "\n",
        "# Example\n",
        "print(\"Reversed list:\", my_list)"
      ],
      "metadata": {
        "colab": {
          "base_uri": "https://localhost:8080/"
        },
        "id": "FWdP8SND_8-W",
        "outputId": "95d43108-81a5-47f2-e0fc-950c806c410d"
      },
      "execution_count": null,
      "outputs": [
        {
          "output_type": "stream",
          "name": "stdout",
          "text": [
            "Reversed list: [5, 4, 3, 2, 1]\n"
          ]
        }
      ]
    },
    {
      "cell_type": "markdown",
      "source": [
        "## **11. Sort a list in ascending order.**"
      ],
      "metadata": {
        "id": "sH2FmoJUChsk"
      }
    },
    {
      "cell_type": "code",
      "source": [
        "# Sorting a list in ascending order\n",
        "my_list = [5, 2, 8, 1, 3]\n",
        "\n",
        "# Using sort() method\n",
        "my_list.sort()\n",
        "\n",
        "# Example\n",
        "print(\"Sorted list in ascending order:\", my_list)"
      ],
      "metadata": {
        "colab": {
          "base_uri": "https://localhost:8080/"
        },
        "id": "PZNC0XJQCh6D",
        "outputId": "564120bb-c1a6-434b-eff7-72b50cf71c61"
      },
      "execution_count": null,
      "outputs": [
        {
          "output_type": "stream",
          "name": "stdout",
          "text": [
            "Sorted list in ascending order: [1, 2, 3, 5, 8]\n"
          ]
        }
      ]
    },
    {
      "cell_type": "markdown",
      "source": [
        "## **12. Sort a list in descending order.**"
      ],
      "metadata": {
        "id": "tIgpKebUCiBL"
      }
    },
    {
      "cell_type": "code",
      "source": [
        "# Sorting a list in descending order\n",
        "my_list = [5, 2, 8, 1, 3]\n",
        "\n",
        "# Using sort() method with reverse=True\n",
        "my_list.sort(reverse=True)\n",
        "\n",
        "# Example\n",
        "print(\"Sorted list in descending order:\", my_list)\n"
      ],
      "metadata": {
        "colab": {
          "base_uri": "https://localhost:8080/"
        },
        "id": "5zwPP56KCiKs",
        "outputId": "130619f7-e2c4-4bd8-fe61-263c28cd3faa"
      },
      "execution_count": null,
      "outputs": [
        {
          "output_type": "stream",
          "name": "stdout",
          "text": [
            "Sorted list in descending order: [8, 5, 3, 2, 1]\n"
          ]
        }
      ]
    },
    {
      "cell_type": "markdown",
      "source": [
        "## **13. Create a list of even numbers from 1 to 20.**"
      ],
      "metadata": {
        "id": "CI1ajQVECiR7"
      }
    },
    {
      "cell_type": "code",
      "source": [
        "# Creating a list of even numbers from 1 to 20\n",
        "even_numbers = list(range(2, 21, 2))\n",
        "\n",
        "# Example\n",
        "print(\"List of even numbers:\", even_numbers)"
      ],
      "metadata": {
        "colab": {
          "base_uri": "https://localhost:8080/"
        },
        "id": "TjBWOIxZCiYS",
        "outputId": "50f1cc22-1786-4b68-bf2f-91eb56bd1a4e"
      },
      "execution_count": null,
      "outputs": [
        {
          "output_type": "stream",
          "name": "stdout",
          "text": [
            "List of even numbers: [2, 4, 6, 8, 10, 12, 14, 16, 18, 20]\n"
          ]
        }
      ]
    },
    {
      "cell_type": "markdown",
      "source": [
        "## **14. Create a list of odd numbers from 1 to 20.**"
      ],
      "metadata": {
        "id": "xYdOePo6Cige"
      }
    },
    {
      "cell_type": "code",
      "source": [
        "# Creating a list of odd numbers from 1 to 20\n",
        "odd_numbers = list(range(1, 21, 2))\n",
        "\n",
        "# Example\n",
        "print(\"List of odd numbers:\", odd_numbers)"
      ],
      "metadata": {
        "colab": {
          "base_uri": "https://localhost:8080/"
        },
        "id": "kWoqxLyqCinY",
        "outputId": "f2107464-4145-4a35-cdad-19aafd235ca3"
      },
      "execution_count": null,
      "outputs": [
        {
          "output_type": "stream",
          "name": "stdout",
          "text": [
            "List of odd numbers: [1, 3, 5, 7, 9, 11, 13, 15, 17, 19]\n"
          ]
        }
      ]
    },
    {
      "cell_type": "markdown",
      "source": [
        "## **15. Find the sum of all elements in a list.**"
      ],
      "metadata": {
        "id": "_Oajx0PBCivA"
      }
    },
    {
      "cell_type": "code",
      "source": [
        "# Finding the sum of all elements in a list\n",
        "my_list = [1, 2, 3, 4, 5]\n",
        "\n",
        "# Using sum() function\n",
        "sum_of_elements = sum(my_list)\n",
        "\n",
        "# Example\n",
        "print(\"Sum of elements:\", sum_of_elements)"
      ],
      "metadata": {
        "colab": {
          "base_uri": "https://localhost:8080/"
        },
        "id": "u7KJAyU_Ci1S",
        "outputId": "a08758e6-1e50-4b93-aebf-c27faad6512c"
      },
      "execution_count": null,
      "outputs": [
        {
          "output_type": "stream",
          "name": "stdout",
          "text": [
            "Sum of elements: 15\n"
          ]
        }
      ]
    },
    {
      "cell_type": "markdown",
      "source": [
        "## **16. Find the maximum value in a list.**"
      ],
      "metadata": {
        "id": "RZYZ19X2Ci8f"
      }
    },
    {
      "cell_type": "code",
      "source": [
        "# Finding the maximum value in a list\n",
        "my_list = [3, 8, 1, 6, 2]\n",
        "\n",
        "# Using max() function\n",
        "max_value = max(my_list)\n",
        "\n",
        "# Example\n",
        "print(\"Maximum value:\", max_value)"
      ],
      "metadata": {
        "colab": {
          "base_uri": "https://localhost:8080/"
        },
        "id": "8zfS6qUtCjDd",
        "outputId": "5c256a14-2c79-4a1c-af2e-3cb9683d3a11"
      },
      "execution_count": null,
      "outputs": [
        {
          "output_type": "stream",
          "name": "stdout",
          "text": [
            "Maximum value: 8\n"
          ]
        }
      ]
    },
    {
      "cell_type": "markdown",
      "source": [
        "## **17. Find the minimum value in a list.**"
      ],
      "metadata": {
        "id": "YsU_8IbVCjKb"
      }
    },
    {
      "cell_type": "code",
      "source": [
        "# Finding the minimum value in a list\n",
        "my_list = [3, 8, 1, 6, 2]\n",
        "\n",
        "# Using min() function\n",
        "min_value = min(my_list)\n",
        "\n",
        "# Example\n",
        "print(\"Minimum value:\", min_value)"
      ],
      "metadata": {
        "colab": {
          "base_uri": "https://localhost:8080/"
        },
        "id": "OZpL29i7CjRX",
        "outputId": "9bea3b81-b53b-46ab-fbfb-3c4c0aad87c5"
      },
      "execution_count": null,
      "outputs": [
        {
          "output_type": "stream",
          "name": "stdout",
          "text": [
            "Minimum value: 1\n"
          ]
        }
      ]
    },
    {
      "cell_type": "markdown",
      "source": [
        "## **18. Create a list of squares of numbers from 1 to 10.**"
      ],
      "metadata": {
        "id": "nXmtRWI4CjZJ"
      }
    },
    {
      "cell_type": "code",
      "source": [
        "\n",
        "# Creating a list of squares of numbers from 1 to 10\n",
        "squares_list = [x**2 for x in range(1, 11)]\n",
        "\n",
        "# Example\n",
        "print(\"List of squares:\", squares_list)"
      ],
      "metadata": {
        "colab": {
          "base_uri": "https://localhost:8080/"
        },
        "id": "52aKFE3oCjft",
        "outputId": "00eb0c3a-e2b3-48e1-a6a0-8cf3eb01c37a"
      },
      "execution_count": null,
      "outputs": [
        {
          "output_type": "stream",
          "name": "stdout",
          "text": [
            "List of squares: [1, 4, 9, 16, 25, 36, 49, 64, 81, 100]\n"
          ]
        }
      ]
    },
    {
      "cell_type": "markdown",
      "source": [
        "## **19. Create a list of random numbers.**"
      ],
      "metadata": {
        "id": "dQSRB7K_Cjnm"
      }
    },
    {
      "cell_type": "code",
      "source": [
        "# Creating a list of random numbers\n",
        "import random\n",
        "\n",
        "random_numbers = [random.randint(1, 100) for i in range(10)]\n",
        "\n",
        "# Example\n",
        "print(\"List of random numbers:\", random_numbers)"
      ],
      "metadata": {
        "colab": {
          "base_uri": "https://localhost:8080/"
        },
        "id": "qcA1reHDCjut",
        "outputId": "61b2260f-6093-4635-f467-613b414b8f55"
      },
      "execution_count": null,
      "outputs": [
        {
          "output_type": "stream",
          "name": "stdout",
          "text": [
            "List of random numbers: [84, 100, 86, 94, 67, 84, 57, 52, 17, 95]\n"
          ]
        }
      ]
    },
    {
      "cell_type": "markdown",
      "source": [
        "## **20. Remove duplicates from a list.**"
      ],
      "metadata": {
        "id": "T3iGOYzTCj29"
      }
    },
    {
      "cell_type": "code",
      "source": [
        "# Removing duplicates from a list\n",
        "my_list = [1, 2, 2, 3, 4, 4, 5]\n",
        "\n",
        "# Using set() to eliminate duplicates and then converting back to list\n",
        "unique_list = list(set(my_list))\n",
        "\n",
        "# Example\n",
        "print(\"List with duplicates removed:\", unique_list)"
      ],
      "metadata": {
        "colab": {
          "base_uri": "https://localhost:8080/"
        },
        "id": "49NNJU1kCj92",
        "outputId": "6477fa1e-25c8-42ca-daf3-befecb6624f7"
      },
      "execution_count": null,
      "outputs": [
        {
          "output_type": "stream",
          "name": "stdout",
          "text": [
            "List with duplicates removed: [1, 2, 3, 4, 5]\n"
          ]
        }
      ]
    },
    {
      "cell_type": "markdown",
      "source": [
        "## **21. Find the common elements between two lists.**"
      ],
      "metadata": {
        "id": "q8H8_elrCkFj"
      }
    },
    {
      "cell_type": "code",
      "source": [
        "# Finding the common elements between two lists\n",
        "list1 = [1, 2, 3, 4, 5]\n",
        "list2 = [3, 4, 5, 6, 7]\n",
        "\n",
        "# Using set intersection to find common elements\n",
        "common_elements = list(set(list1) & set(list2))\n",
        "\n",
        "# Example\n",
        "print(\"Common elements between list1 and list2:\", common_elements)"
      ],
      "metadata": {
        "colab": {
          "base_uri": "https://localhost:8080/"
        },
        "id": "-QVKVvzxCkMm",
        "outputId": "1d02f7d8-d5f2-4a77-c4a9-b556e6490bb1"
      },
      "execution_count": null,
      "outputs": [
        {
          "output_type": "stream",
          "name": "stdout",
          "text": [
            "Common elements between list1 and list2: [3, 4, 5]\n"
          ]
        }
      ]
    },
    {
      "cell_type": "markdown",
      "source": [
        "## **22. Find the difference between two lists.**"
      ],
      "metadata": {
        "id": "Xv7Z7r2HCkVk"
      }
    },
    {
      "cell_type": "code",
      "source": [
        "# Finding the difference between two lists\n",
        "list1 = [1, 2, 3, 4, 5]\n",
        "list2 = [3, 4, 5, 6, 7]\n",
        "\n",
        "# Using set difference to find elements unique to each list\n",
        "difference_list1 = list(set(list1) - set(list2))\n",
        "difference_list2 = list(set(list2) - set(list1))\n",
        "\n",
        "# Example\n",
        "print(\"Elements unique to list1:\", difference_list1)\n",
        "print(\"Elements unique to list2:\", difference_list2)"
      ],
      "metadata": {
        "colab": {
          "base_uri": "https://localhost:8080/"
        },
        "id": "N5dCdLQICkcN",
        "outputId": "10de0517-f56c-4200-f097-321ca5fcf2fe"
      },
      "execution_count": null,
      "outputs": [
        {
          "output_type": "stream",
          "name": "stdout",
          "text": [
            "Elements unique to list1: [1, 2]\n",
            "Elements unique to list2: [6, 7]\n"
          ]
        }
      ]
    },
    {
      "cell_type": "markdown",
      "source": [
        "## **23. Merge two lists.**"
      ],
      "metadata": {
        "id": "tsSfRfT3Ckl0"
      }
    },
    {
      "cell_type": "code",
      "source": [
        "# Merge two lists using the + operator\n",
        "list1 = [1, 2, 3]\n",
        "list2 = [4, 5, 6]\n",
        "\n",
        "merged_list = list1 + list2\n",
        "\n",
        "# Example\n",
        "print(\"Merged list:\", merged_list)"
      ],
      "metadata": {
        "colab": {
          "base_uri": "https://localhost:8080/"
        },
        "id": "xX01SXcdCksm",
        "outputId": "4f1d750e-77c3-4247-a34e-3755a2a54292"
      },
      "execution_count": null,
      "outputs": [
        {
          "output_type": "stream",
          "name": "stdout",
          "text": [
            "Merged list: [1, 2, 3, 4, 5, 6]\n"
          ]
        }
      ]
    },
    {
      "cell_type": "code",
      "source": [
        "# Merge two lists using the extend() method\n",
        "list1 = [1, 2, 3]\n",
        "list2 = [4, 5, 6]\n",
        "\n",
        "list1.extend(list2)\n",
        "\n",
        "# Example\n",
        "print(\"Merged list:\", list1)\n"
      ],
      "metadata": {
        "colab": {
          "base_uri": "https://localhost:8080/"
        },
        "id": "K0c-qyX2Ck7m",
        "outputId": "eaff23cb-face-4053-9477-06a44f964bb0"
      },
      "execution_count": null,
      "outputs": [
        {
          "output_type": "stream",
          "name": "stdout",
          "text": [
            "Merged list: [1, 2, 3, 4, 5, 6]\n"
          ]
        }
      ]
    },
    {
      "cell_type": "markdown",
      "source": [
        "## **24. Multiply all elements in a list by 2.**"
      ],
      "metadata": {
        "id": "mf9-r24xCk0Z"
      }
    },
    {
      "cell_type": "code",
      "source": [
        "# Multiply all elements in a list by 2 using a list comprehension\n",
        "original_list = [1, 2, 3, 4, 5]\n",
        "\n",
        "doubled_list = [x * 2 for x in original_list]\n",
        "\n",
        "# Example\n",
        "print(\"Original list:\", original_list)\n",
        "print(\"Doubled list:\", doubled_list)"
      ],
      "metadata": {
        "colab": {
          "base_uri": "https://localhost:8080/"
        },
        "id": "_adKgXCX9Xks",
        "outputId": "0b104afb-e6a5-4a1d-9ee1-e94cd99de80a"
      },
      "execution_count": null,
      "outputs": [
        {
          "output_type": "stream",
          "name": "stdout",
          "text": [
            "Original list: [1, 2, 3, 4, 5]\n",
            "Doubled list: [2, 4, 6, 8, 10]\n"
          ]
        }
      ]
    },
    {
      "cell_type": "markdown",
      "source": [
        "## **25. Filter out all even numbers from a list.**"
      ],
      "metadata": {
        "id": "8HT87kTKClFR"
      }
    },
    {
      "cell_type": "code",
      "source": [
        "# Filter out all even numbers from a list using a list comprehension\n",
        "original_list = [1, 2, 3, 4, 5, 6, 7, 8, 9, 10]\n",
        "\n",
        "filtered_list = [x for x in original_list if x % 2 != 0]\n",
        "\n",
        "# Example\n",
        "print(\"Original list:\", original_list)\n",
        "print(\"Filtered list (without even numbers):\", filtered_list)"
      ],
      "metadata": {
        "colab": {
          "base_uri": "https://localhost:8080/"
        },
        "id": "uONYG2srClLi",
        "outputId": "f6ba641b-9606-4536-a0ed-d85967331626"
      },
      "execution_count": null,
      "outputs": [
        {
          "output_type": "stream",
          "name": "stdout",
          "text": [
            "Original list: [1, 2, 3, 4, 5, 6, 7, 8, 9, 10]\n",
            "Filtered list (without even numbers): [1, 3, 5, 7, 9]\n"
          ]
        }
      ]
    },
    {
      "cell_type": "code",
      "source": [
        "# Filter out all even numbers from a list using the filter() function\n",
        "original_list = [1, 2, 3, 4, 5, 6, 7, 8, 9, 10]\n",
        "\n",
        "filtered_list = list(filter(lambda x: x % 2 != 0, original_list))\n",
        "\n",
        "# Example\n",
        "print(\"Original list:\", original_list)\n",
        "print(\"Filtered list (without even numbers):\", filtered_list)"
      ],
      "metadata": {
        "colab": {
          "base_uri": "https://localhost:8080/"
        },
        "id": "ngVHUI8K9lcn",
        "outputId": "d0caabc9-1359-4162-9943-e0e7fa12d363"
      },
      "execution_count": null,
      "outputs": [
        {
          "output_type": "stream",
          "name": "stdout",
          "text": [
            "Original list: [1, 2, 3, 4, 5, 6, 7, 8, 9, 10]\n",
            "Filtered list (without even numbers): [1, 3, 5, 7, 9]\n"
          ]
        }
      ]
    },
    {
      "cell_type": "markdown",
      "source": [
        "## **26. Convert a list of strings to a list of integers.**"
      ],
      "metadata": {
        "id": "miev6Eh_ClUs"
      }
    },
    {
      "cell_type": "code",
      "source": [
        "# Convert a list of strings to a list of integers using a list comprehension\n",
        "string_list = [\"1\", \"2\", \"3\", \"4\", \"5\"]\n",
        "\n",
        "integer_list = [int(x) for x in string_list]\n",
        "\n",
        "# Example\n",
        "print(\"Original list of strings:\", string_list)\n",
        "print(\"Converted list of integers:\", integer_list)"
      ],
      "metadata": {
        "colab": {
          "base_uri": "https://localhost:8080/"
        },
        "id": "z4HlhDBBClaz",
        "outputId": "4a22d295-c439-4384-e41d-5894204a8317"
      },
      "execution_count": null,
      "outputs": [
        {
          "output_type": "stream",
          "name": "stdout",
          "text": [
            "Original list of strings: ['1', '2', '3', '4', '5']\n",
            "Converted list of integers: [1, 2, 3, 4, 5]\n"
          ]
        }
      ]
    },
    {
      "cell_type": "code",
      "source": [
        "# Convert a list of strings to a list of integers using the map() function\n",
        "string_list = [\"1\", \"2\", \"3\", \"4\", \"5\"]\n",
        "\n",
        "integer_list = list(map(int, string_list))\n",
        "\n",
        "# Example\n",
        "print(\"Original list of strings:\", string_list)\n",
        "print(\"Converted list of integers:\", integer_list)"
      ],
      "metadata": {
        "colab": {
          "base_uri": "https://localhost:8080/"
        },
        "id": "xmEOv4BQ97Jw",
        "outputId": "375f2294-8ecc-4f1e-b354-9b5cc0b7aea1"
      },
      "execution_count": null,
      "outputs": [
        {
          "output_type": "stream",
          "name": "stdout",
          "text": [
            "Original list of strings: ['1', '2', '3', '4', '5']\n",
            "Converted list of integers: [1, 2, 3, 4, 5]\n"
          ]
        }
      ]
    },
    {
      "cell_type": "markdown",
      "source": [
        "## **27. Convert a list of integers to a list of strings.**"
      ],
      "metadata": {
        "id": "SB5YVkseClkt"
      }
    },
    {
      "cell_type": "code",
      "source": [
        "# Convert a list of integers to a list of strings using a list comprehension\n",
        "integer_list = [1, 2, 3, 4, 5]\n",
        "\n",
        "string_list = [str(x) for x in integer_list]\n",
        "\n",
        "# Example\n",
        "print(\"Original list of integers:\", integer_list)\n",
        "print(\"Converted list of strings:\", string_list)\n"
      ],
      "metadata": {
        "colab": {
          "base_uri": "https://localhost:8080/"
        },
        "id": "Gf4DNBdyClrE",
        "outputId": "e30309d4-6689-4b31-de24-e175f66f8a8d"
      },
      "execution_count": null,
      "outputs": [
        {
          "output_type": "stream",
          "name": "stdout",
          "text": [
            "Original list of integers: [1, 2, 3, 4, 5]\n",
            "Converted list of strings: ['1', '2', '3', '4', '5']\n"
          ]
        }
      ]
    },
    {
      "cell_type": "markdown",
      "source": [
        "## **28. Flatten a nested list.**"
      ],
      "metadata": {
        "id": "0v3SutSdClz8"
      }
    },
    {
      "cell_type": "code",
      "source": [
        "# Flatten a nested list using a recursive function\n",
        "def flatten_list(nested_list):\n",
        "    flattened = []\n",
        "    for element in nested_list:\n",
        "        if isinstance(element, list):\n",
        "            flattened.extend(flatten_list(element))\n",
        "        else:\n",
        "            flattened.append(element)\n",
        "    return flattened\n",
        "\n",
        "# Example\n",
        "nested_list = [1, [2, 3, [4, 5]], 6, [7, 8]]\n",
        "flattened_list = flatten_list(nested_list)\n",
        "\n",
        "print(\"Original nested list:\", nested_list)\n",
        "print(\"Flattened list:\", flattened_list)\n"
      ],
      "metadata": {
        "colab": {
          "base_uri": "https://localhost:8080/"
        },
        "id": "1L3By-8mCl5g",
        "outputId": "39a437fb-753a-4e52-de53-c96b205b570f"
      },
      "execution_count": null,
      "outputs": [
        {
          "output_type": "stream",
          "name": "stdout",
          "text": [
            "Original nested list: [1, [2, 3, [4, 5]], 6, [7, 8]]\n",
            "Flattened list: [1, 2, 3, 4, 5, 6, 7, 8]\n"
          ]
        }
      ]
    },
    {
      "cell_type": "markdown",
      "source": [
        "## **29. Create a list of the first 10 Fibonacci numbers.**"
      ],
      "metadata": {
        "id": "gEZX-_UUCmB_"
      }
    },
    {
      "cell_type": "markdown",
      "source": [
        "# Fibonacci Numbers\n",
        "\n",
        "Fibonacci numbers are a sequence of numbers in which each number is the sum of the two preceding ones. The sequence starts with 0 and 1. Formally, it can be defined by the recurrence relation:\n",
        "\n",
        "\\[ F(n) = F(n-1) + F(n-2) \\]\n",
        "\n",
        "with initial conditions:\n",
        "\n",
        "\\[ F(0) = 0,  F(1) = 1 \\]\n",
        "\n",
        "So, the sequence begins: 0, 1, 1, 2, 3, 5, 8, 13, 21, 34, and so on.\n",
        "\n",
        "The Fibonacci sequence has applications in various areas, including mathematics, computer science, and nature (e.g., the arrangement of leaves on a stem or the spirals in a pinecone).\n",
        "\n",
        "The formula and the sequence can be used to generate Fibonacci numbers, as demonstrated in the examples provided earlier.\n"
      ],
      "metadata": {
        "id": "xTsbFBja_QXU"
      }
    },
    {
      "cell_type": "code",
      "source": [
        " # Function to generate the first n Fibonacci numbers\n",
        "def generate_fibonacci(n):\n",
        "    fibonacci_list = [0, 1]  # Initialize the list with the first two Fibonacci numbers\n",
        "\n",
        "    for i in range(2, n):\n",
        "        next_fibonacci = fibonacci_list[i - 1] + fibonacci_list[i - 2]\n",
        "        fibonacci_list.append(next_fibonacci)\n",
        "\n",
        "    return fibonacci_list\n",
        "\n",
        "# Generate the first 10 Fibonacci numbers\n",
        "fibonacci_numbers = generate_fibonacci(10)\n",
        "\n",
        "# Print the list of Fibonacci numbers\n",
        "print(\"First 10 Fibonacci numbers:\", fibonacci_numbers)"
      ],
      "metadata": {
        "colab": {
          "base_uri": "https://localhost:8080/"
        },
        "id": "kyJeKTLmCmIJ",
        "outputId": "e556e227-2c6b-417b-d17b-4b7fca5c6eb6"
      },
      "execution_count": 1,
      "outputs": [
        {
          "output_type": "stream",
          "name": "stdout",
          "text": [
            "First 10 Fibonacci numbers: [0, 1, 1, 2, 3, 5, 8, 13, 21, 34]\n"
          ]
        }
      ]
    },
    {
      "cell_type": "markdown",
      "source": [
        "## **30. Check if a list is sorted.**"
      ],
      "metadata": {
        "id": "YWCb_SfbVD3j"
      }
    },
    {
      "cell_type": "code",
      "source": [
        "# Function to check if a list is sorted in ascending order\n",
        "def is_sorted_ascending(lst):\n",
        "    for i in range(1, len(lst)):\n",
        "        if lst[i] < lst[i - 1]:\n",
        "            return False\n",
        "    return True\n",
        "\n",
        "# Example list\n",
        "ascending_list = [10, 20, 30, 40, 50]\n",
        "\n",
        "# Check if the list is sorted in ascending order\n",
        "if is_sorted_ascending(ascending_list):\n",
        "    print(\"The list is sorted in ascending order.\")\n",
        "else:\n",
        "    print(\"The list is not sorted in ascending order.\")"
      ],
      "metadata": {
        "id": "TMw29EOx-pwc",
        "colab": {
          "base_uri": "https://localhost:8080/"
        },
        "outputId": "96750eb8-3b74-4e43-b948-05410c556586"
      },
      "execution_count": 2,
      "outputs": [
        {
          "output_type": "stream",
          "name": "stdout",
          "text": [
            "The list is sorted in ascending order.\n"
          ]
        }
      ]
    },
    {
      "cell_type": "markdown",
      "source": [
        "## **31. Rotate a list to the left by `n` positions.**"
      ],
      "metadata": {
        "id": "lGe_RvzPVGN_"
      }
    },
    {
      "cell_type": "code",
      "source": [
        "# Rotate a list to the left by n positions\n",
        "def rotate_left(input_list, n):\n",
        "    n = n % len(input_list)  # Ensure n is within the length of the list\n",
        "    return input_list[n:] + input_list[:n]\n",
        "\n",
        "# Example\n",
        "original_list = [1, 2, 3, 4, 5]\n",
        "\n",
        "# Rotate the list to the left by 2 positions\n",
        "rotated_list = rotate_left(original_list, 2)\n",
        "\n",
        "print(\"Original list:\", original_list)\n",
        "print(\"Rotated list:\", rotated_list)"
      ],
      "metadata": {
        "colab": {
          "base_uri": "https://localhost:8080/"
        },
        "id": "FSin5u4MVGcz",
        "outputId": "5584c190-df01-4567-b5a2-991ab53a1f89"
      },
      "execution_count": 3,
      "outputs": [
        {
          "output_type": "stream",
          "name": "stdout",
          "text": [
            "Original list: [1, 2, 3, 4, 5]\n",
            "Rotated list: [3, 4, 5, 1, 2]\n"
          ]
        }
      ]
    },
    {
      "cell_type": "markdown",
      "source": [
        "## **32. Rotate a list to the right by `n` positions.**"
      ],
      "metadata": {
        "id": "By_5ddvzVGnf"
      }
    },
    {
      "cell_type": "code",
      "source": [
        "# Rotate a list to the right by n positions\n",
        "def rotate_right(input_list, n):\n",
        "    n = n % len(input_list)  # Ensure n is within the length of the list\n",
        "    return input_list[-n:] + input_list[:-n]\n",
        "\n",
        "# Example\n",
        "original_list = [1, 2, 3, 4, 5]\n",
        "\n",
        "# Rotate the list to the right by 2 positions\n",
        "rotated_list = rotate_right(original_list, 2)\n",
        "\n",
        "print(\"Original list:\", original_list)\n",
        "print(\"Rotated list:\", rotated_list)"
      ],
      "metadata": {
        "colab": {
          "base_uri": "https://localhost:8080/"
        },
        "id": "ThgoS4ebVGvH",
        "outputId": "89e694a8-33d2-48f1-ac05-de5a1d60adfa"
      },
      "execution_count": 4,
      "outputs": [
        {
          "output_type": "stream",
          "name": "stdout",
          "text": [
            "Original list: [1, 2, 3, 4, 5]\n",
            "Rotated list: [4, 5, 1, 2, 3]\n"
          ]
        }
      ]
    },
    {
      "cell_type": "markdown",
      "source": [
        "## **33. Create a list of prime numbers up to 50.**"
      ],
      "metadata": {
        "id": "iNwp3ffXVG3k"
      }
    },
    {
      "cell_type": "code",
      "source": [
        "# Check if a number is prime\n",
        "def is_prime(num):\n",
        "    if num < 2:\n",
        "        return False\n",
        "    for i in range(2, int(num**0.5) + 1):\n",
        "        if num % i == 0:\n",
        "            return False\n",
        "    return True\n",
        "\n",
        "# Create a list of prime numbers up to 50\n",
        "prime_numbers_up_to_50 = [num for num in range(2, 51) if is_prime(num)]\n",
        "\n",
        "# Example\n",
        "print(\"List of prime numbers up to 50:\", prime_numbers_up_to_50)\n"
      ],
      "metadata": {
        "colab": {
          "base_uri": "https://localhost:8080/"
        },
        "id": "dm0a1y2lVG97",
        "outputId": "2d9219ea-1c16-483e-dfab-c28621c3d7b7"
      },
      "execution_count": 5,
      "outputs": [
        {
          "output_type": "stream",
          "name": "stdout",
          "text": [
            "List of prime numbers up to 50: [2, 3, 5, 7, 11, 13, 17, 19, 23, 29, 31, 37, 41, 43, 47]\n"
          ]
        }
      ]
    },
    {
      "cell_type": "markdown",
      "source": [
        "## **34. Split a list into chunks of size `n`.**"
      ],
      "metadata": {
        "id": "FBzEOs8mVHFq"
      }
    },
    {
      "cell_type": "code",
      "source": [
        "# Split a list into chunks of size n\n",
        "def split_into_chunks(input_list, n):\n",
        "    return [input_list[i:i+n] for i in range(0, len(input_list), n)]\n",
        "\n",
        "# Example\n",
        "original_list = [1, 2, 3, 4, 5, 6, 7, 8, 9, 10]\n",
        "\n",
        "# Split the list into chunks of size 3\n",
        "chunks = split_into_chunks(original_list, 3)\n",
        "\n",
        "print(\"Original list:\", original_list)\n",
        "print(\"Chunks of size 3:\", chunks)"
      ],
      "metadata": {
        "colab": {
          "base_uri": "https://localhost:8080/"
        },
        "id": "0ipnZ9WxVHLt",
        "outputId": "93af02ef-ac2f-443a-8dc2-c70cfa93a25e"
      },
      "execution_count": 6,
      "outputs": [
        {
          "output_type": "stream",
          "name": "stdout",
          "text": [
            "Original list: [1, 2, 3, 4, 5, 6, 7, 8, 9, 10]\n",
            "Chunks of size 3: [[1, 2, 3], [4, 5, 6], [7, 8, 9], [10]]\n"
          ]
        }
      ]
    },
    {
      "cell_type": "markdown",
      "source": [
        "## **35. Find the second largest number in a list.**"
      ],
      "metadata": {
        "id": "UADF0OxCVHSk"
      }
    },
    {
      "cell_type": "code",
      "source": [
        "# Find the second largest number in a list\n",
        "def second_largest(input_list):\n",
        "    if len(input_list) < 2:\n",
        "        return \"List should have at least two elements\"\n",
        "\n",
        "    sorted_list = sorted(input_list, reverse=True)\n",
        "    return sorted_list[1]\n",
        "\n",
        "# Example\n",
        "numbers = [10, 5, 8, 12, 3, 7]\n",
        "\n",
        "second_largest_number = second_largest(numbers)\n",
        "\n",
        "print(\"Original list:\", numbers)\n",
        "print(\"Second largest number:\", second_largest_number)\n"
      ],
      "metadata": {
        "colab": {
          "base_uri": "https://localhost:8080/"
        },
        "id": "jmG3Z99PVHYg",
        "outputId": "526e36b2-acae-4435-c894-881b95047746"
      },
      "execution_count": 7,
      "outputs": [
        {
          "output_type": "stream",
          "name": "stdout",
          "text": [
            "Original list: [10, 5, 8, 12, 3, 7]\n",
            "Second largest number: 10\n"
          ]
        }
      ]
    },
    {
      "cell_type": "markdown",
      "source": [
        "## **36. Replace every element in a list with its square.**"
      ],
      "metadata": {
        "id": "EguVjCQBVHiJ"
      }
    },
    {
      "cell_type": "code",
      "source": [
        "# Replace every element in a list with its square\n",
        "original_list = [1, 2, 3, 4, 5]\n",
        "\n",
        "squared_list = [x**2 for x in original_list]\n",
        "\n",
        "# Example\n",
        "print(\"Original list:\", original_list)\n",
        "print(\"List with elements replaced by their squares:\", squared_list)\n"
      ],
      "metadata": {
        "colab": {
          "base_uri": "https://localhost:8080/"
        },
        "id": "-MRjrA_NVHop",
        "outputId": "103d695c-b238-4b21-b780-ebccc6a1d79a"
      },
      "execution_count": 8,
      "outputs": [
        {
          "output_type": "stream",
          "name": "stdout",
          "text": [
            "Original list: [1, 2, 3, 4, 5]\n",
            "List with elements replaced by their squares: [1, 4, 9, 16, 25]\n"
          ]
        }
      ]
    },
    {
      "cell_type": "markdown",
      "source": [
        "## **37. Convert a list to a dictionary where list elements become keys and their indices become values.**"
      ],
      "metadata": {
        "id": "u-DeDeKjVHw1"
      }
    },
    {
      "cell_type": "code",
      "source": [
        "# Convert a list to a dictionary with elements as keys and indices as values\n",
        "original_list = ['apple', 'banana', 'orange', 'grape']\n",
        "\n",
        "index_dict = {element: index for index, element in enumerate(original_list)}\n",
        "\n",
        "# Example\n",
        "print(\"Original list:\", original_list)\n",
        "print(\"Dictionary with elements as keys and indices as values:\", index_dict)\n"
      ],
      "metadata": {
        "colab": {
          "base_uri": "https://localhost:8080/"
        },
        "id": "oa9ZtBzrVH5X",
        "outputId": "b91a9f4c-2613-4812-993d-97efd9770246"
      },
      "execution_count": 9,
      "outputs": [
        {
          "output_type": "stream",
          "name": "stdout",
          "text": [
            "Original list: ['apple', 'banana', 'orange', 'grape']\n",
            "Dictionary with elements as keys and indices as values: {'apple': 0, 'banana': 1, 'orange': 2, 'grape': 3}\n"
          ]
        }
      ]
    },
    {
      "cell_type": "markdown",
      "source": [
        "## **38. Shuffle the elements of a list randomly.**"
      ],
      "metadata": {
        "id": "eXwUSkuZVIBt"
      }
    },
    {
      "cell_type": "code",
      "source": [
        "import random\n",
        "\n",
        "# Shuffle the elements of a list randomly\n",
        "original_list = [1, 2, 3, 4, 5]\n",
        "\n",
        "shuffled_list = original_list.copy()  # Create a copy to avoid modifying the original list directly\n",
        "random.shuffle(shuffled_list)\n",
        "\n",
        "# Example\n",
        "print(\"Original list:\", original_list)\n",
        "print(\"Shuffled list:\", shuffled_list)\n"
      ],
      "metadata": {
        "colab": {
          "base_uri": "https://localhost:8080/"
        },
        "id": "tsMs5HWpVIKK",
        "outputId": "6f9411c5-0e6e-4b6d-ab78-5d095b2c8939"
      },
      "execution_count": 10,
      "outputs": [
        {
          "output_type": "stream",
          "name": "stdout",
          "text": [
            "Original list: [1, 2, 3, 4, 5]\n",
            "Shuffled list: [2, 3, 4, 1, 5]\n"
          ]
        }
      ]
    },
    {
      "cell_type": "markdown",
      "source": [
        "## **39. Create a list of the first 10 factorial numbers.**"
      ],
      "metadata": {
        "id": "BGfGQcozVISh"
      }
    },
    {
      "cell_type": "code",
      "source": [
        "# Create a list of the first 10 factorial numbers\n",
        "def factorial(num):\n",
        "    if num == 0 or num == 1:\n",
        "        return 1\n",
        "    else:\n",
        "        return num * factorial(num - 1)\n",
        "\n",
        "factorial_numbers = [factorial(i) for i in range(10)]\n",
        "\n",
        "# Example\n",
        "print(\"List of the first 10 factorial numbers:\", factorial_numbers)\n"
      ],
      "metadata": {
        "colab": {
          "base_uri": "https://localhost:8080/"
        },
        "id": "wUd6MlqFVIaq",
        "outputId": "f717ce7b-a363-4acb-ae57-45200b47a11b"
      },
      "execution_count": 11,
      "outputs": [
        {
          "output_type": "stream",
          "name": "stdout",
          "text": [
            "List of the first 10 factorial numbers: [1, 1, 2, 6, 24, 120, 720, 5040, 40320, 362880]\n"
          ]
        }
      ]
    },
    {
      "cell_type": "markdown",
      "source": [
        "## **40. Check if two lists have at least one element in common.**"
      ],
      "metadata": {
        "id": "JX6ATYF8VIjw"
      }
    },
    {
      "cell_type": "code",
      "source": [
        "# Check if two lists have at least one element in common\n",
        "def have_common_element(list1, list2):\n",
        "    return bool(set(list1) & set(list2))\n",
        "\n",
        "# Example\n",
        "list1 = [1, 2, 3, 4, 5]\n",
        "list2 = [5, 6, 7, 8, 9]\n",
        "\n",
        "result = have_common_element(list1, list2)\n",
        "\n",
        "print(\"List 1:\", list1)\n",
        "print(\"List 2:\", list2)\n",
        "print(\"Do the lists have at least one element in common?\", result)"
      ],
      "metadata": {
        "colab": {
          "base_uri": "https://localhost:8080/"
        },
        "id": "cjxlmEF0VIqw",
        "outputId": "f6f39a6e-c9e1-45b6-c5f1-928b144446a3"
      },
      "execution_count": 14,
      "outputs": [
        {
          "output_type": "stream",
          "name": "stdout",
          "text": [
            "List 1: [1, 2, 3, 4, 5]\n",
            "List 2: [5, 6, 7, 8, 9]\n",
            "Do the lists have at least one element in common? True\n"
          ]
        }
      ]
    },
    {
      "cell_type": "markdown",
      "source": [
        "## **41. Remove all elements from a list.**"
      ],
      "metadata": {
        "id": "dG7IaVMFVI0H"
      }
    },
    {
      "cell_type": "code",
      "source": [
        "# Example list\n",
        "my_list = [1, 2, 3, 4, 5]\n",
        "\n",
        "# Clear all elements from the list\n",
        "my_list.clear()\n",
        "\n",
        "# Print the empty list\n",
        "print(\"Empty list:\", my_list)"
      ],
      "metadata": {
        "colab": {
          "base_uri": "https://localhost:8080/"
        },
        "id": "jI-Zbwd4VI7y",
        "outputId": "2ab2a3e8-44cd-45af-8be2-6d39b7bf4193"
      },
      "execution_count": 16,
      "outputs": [
        {
          "output_type": "stream",
          "name": "stdout",
          "text": [
            "Empty list: []\n"
          ]
        }
      ]
    },
    {
      "cell_type": "markdown",
      "metadata": {
        "id": "opbNh8in3KNa"
      },
      "source": [
        "## **42. Replace negative numbers in a list with 0.**"
      ]
    },
    {
      "cell_type": "code",
      "execution_count": null,
      "metadata": {
        "colab": {
          "base_uri": "https://localhost:8080/"
        },
        "id": "K9f2CpQggqpt",
        "outputId": "232f43e4-f5ad-4cb4-e1f9-9f4230d71954"
      },
      "outputs": [
        {
          "name": "stdout",
          "output_type": "stream",
          "text": [
            "List after replacing negative numbers with 0: [10, 0, 20, 0, 30, 0]\n"
          ]
        }
      ],
      "source": [
        "# Example list\n",
        "my_list = [10, -5, 20, -15, 30, -25]\n",
        "\n",
        "# Step 1: Iterate through the list and replace negative numbers with 0\n",
        "for i in range(len(my_list)):\n",
        "    if my_list[i] < 0:\n",
        "        my_list[i] = 0\n",
        "\n",
        "# Print the list after replacing negative numbers with 0\n",
        "print(\"List after replacing negative numbers with 0:\", my_list)"
      ]
    },
    {
      "cell_type": "markdown",
      "metadata": {
        "id": "5XS8pFgL3MgZ"
      },
      "source": [
        "## **43. Convert a string into a list of words.**"
      ]
    },
    {
      "cell_type": "code",
      "execution_count": null,
      "metadata": {
        "colab": {
          "base_uri": "https://localhost:8080/"
        },
        "id": "DCBzHs8hgqnu",
        "outputId": "0d65eff1-689a-4c11-8e6e-590b45439622"
      },
      "outputs": [
        {
          "name": "stdout",
          "output_type": "stream",
          "text": [
            "List of words: ['Hello,', 'this', 'is', 'a', 'sample', 'sentence.']\n"
          ]
        }
      ],
      "source": [
        "# Example string\n",
        "my_string = \"Hello, this is a sample sentence.\"\n",
        "\n",
        "# Convert the string into a list of words\n",
        "word_list = my_string.split()\n",
        "\n",
        "# Print the list of words\n",
        "print(\"List of words:\", word_list)"
      ]
    },
    {
      "cell_type": "markdown",
      "metadata": {
        "id": "PQmYFKZy3QzR"
      },
      "source": [
        "## **44. Convert a list of words into a string**"
      ]
    },
    {
      "cell_type": "code",
      "execution_count": null,
      "metadata": {
        "colab": {
          "base_uri": "https://localhost:8080/"
        },
        "id": "gVvJDgA9gqjY",
        "outputId": "aeed187f-da07-4d7f-babf-6be038ae2490"
      },
      "outputs": [
        {
          "name": "stdout",
          "output_type": "stream",
          "text": [
            "Converted string: Hello, this is a sample sentence.\n"
          ]
        }
      ],
      "source": [
        "# Example list of words\n",
        "word_list = [\"Hello,\", \"this\", \"is\", \"a\", \"sample\", \"sentence.\"]\n",
        "\n",
        "# Convert the list of words into a string\n",
        "my_string = \" \".join(word_list)\n",
        "\n",
        "# Print the resulting string\n",
        "print(\"Converted string:\", my_string)"
      ]
    },
    {
      "cell_type": "markdown",
      "metadata": {
        "id": "x09jyTnb3Rop"
      },
      "source": [
        "## **45. Create a list of the first `n` powers of 2.**"
      ]
    },
    {
      "cell_type": "code",
      "execution_count": null,
      "metadata": {
        "colab": {
          "base_uri": "https://localhost:8080/"
        },
        "id": "PR06D_qlgqg1",
        "outputId": "0ac15743-a13e-4df0-a1c0-71d5faa7e293"
      },
      "outputs": [
        {
          "name": "stdout",
          "output_type": "stream",
          "text": [
            "List of the first 5 powers of 2: [1, 2, 4, 8, 16]\n"
          ]
        }
      ],
      "source": [
        "# Specify the value of n\n",
        "n = 5\n",
        "\n",
        "# Create a list of the first n powers of 2 using a loop\n",
        "power_list = [2 ** i for i in range(n)]\n",
        "\n",
        "# Print the list of powers of 2\n",
        "print(\"List of the first\", n, \"powers of 2:\", power_list)"
      ]
    },
    {
      "cell_type": "markdown",
      "metadata": {
        "id": "PPTsVYhF3Xku"
      },
      "source": [
        "## **46. Find the longest string in a list of strings.**"
      ]
    },
    {
      "cell_type": "code",
      "execution_count": 17,
      "metadata": {
        "colab": {
          "base_uri": "https://localhost:8080/"
        },
        "id": "ktoukRUQgpMZ",
        "outputId": "6314c11e-f01f-44d0-ed6b-39d1a92105fb"
      },
      "outputs": [
        {
          "output_type": "stream",
          "name": "stdout",
          "text": [
            "Longest string: elderberry\n"
          ]
        }
      ],
      "source": [
        "# Example list of strings\n",
        "string_list = [\"apple\", \"banana\", \"aasif\", \"majeed\", \"elderberry\"]\n",
        "\n",
        "# Find the longest string in the list\n",
        "longest_string = \"\"\n",
        "for s in string_list:\n",
        "    if len(s) > len(longest_string):\n",
        "        longest_string = s\n",
        "\n",
        "# Print the longest string\n",
        "print(\"Longest string:\", longest_string)"
      ]
    },
    {
      "cell_type": "markdown",
      "metadata": {
        "id": "PuiYk4ZA3ahe"
      },
      "source": [
        "## **47. Find the shortest string in a list of strings.**"
      ]
    },
    {
      "cell_type": "code",
      "execution_count": 18,
      "metadata": {
        "colab": {
          "base_uri": "https://localhost:8080/"
        },
        "id": "VwxeF-Ch2b52",
        "outputId": "da46b172-195c-4bbe-fcf7-6ab13343d47c"
      },
      "outputs": [
        {
          "output_type": "stream",
          "name": "stdout",
          "text": [
            "Shortest string: asif\n"
          ]
        }
      ],
      "source": [
        "# Example list of strings\n",
        "string_list = [\"apple\", \"banana\", \"cherry\", \"asif\", \"elderberry\"]\n",
        "\n",
        "# Find the shortest string in the list\n",
        "shortest_string = string_list[0]  # Initialize with the first string\n",
        "for s in string_list:\n",
        "    if len(s) < len(shortest_string):\n",
        "        shortest_string = s\n",
        "\n",
        "# Print the shortest string\n",
        "print(\"Shortest string:\", shortest_string)"
      ]
    },
    {
      "cell_type": "markdown",
      "metadata": {
        "id": "E2x6cPYL3bLF"
      },
      "source": [
        "## **48. Create a list of the first `n` triangular numbers.**"
      ]
    },
    {
      "cell_type": "markdown",
      "source": [
        "# Triangular Numbers\n",
        "\n",
        "Triangular numbers are a sequence of numbers that can be represented in the form of an equilateral triangle. The nth triangular number is the sum of the first n natural numbers.\n",
        "\n",
        "The formula for the nth triangular number \\(T_n\\) is given by:\n",
        "\n",
        " n * (n + 1) // 2.\n",
        "\n",
        "So, the sequence of triangular numbers starts as follows:\n",
        "\n",
        "- \\( T_1 = 1 \\) (1)\n",
        "- \\( T_2 = 3 \\) (1 + 2)\n",
        "- \\( T_3 = 6 \\) (1 + 2 + 3)\n",
        "- \\( T_4 = 10 \\) (1 + 2 + 3 + 4)\n",
        "- \\( T_5 = 15 \\) (1 + 2 + 3 + 4 + 5)\n",
        "- and so on.\n",
        "\n",
        "Triangular numbers have various applications, including in the computation of binomial coefficients, geometric arrangements, and number patterns. They are called \"triangular\" because you can arrange dots or objects in the shape of an equilateral triangle to represent these numbers visually.\n"
      ],
      "metadata": {
        "id": "JgHMOl7Ga3-M"
      }
    },
    {
      "cell_type": "code",
      "execution_count": null,
      "metadata": {
        "colab": {
          "base_uri": "https://localhost:8080/"
        },
        "id": "Z0UxtOl62eQL",
        "outputId": "bccc4172-317d-4798-edc1-4acc7992e299"
      },
      "outputs": [
        {
          "name": "stdout",
          "output_type": "stream",
          "text": [
            "List of the first 5 triangular numbers: [1, 3, 6, 10, 15]\n"
          ]
        }
      ],
      "source": [
        "# Function to calculate triangular numbers\n",
        "def triangular_numbers(n):\n",
        "    return [i * (i + 1) // 2 for i in range(1, n + 1)]\n",
        "\n",
        "# Specify the value of n\n",
        "n = 5\n",
        "\n",
        "# Create a list of the first n triangular numbers\n",
        "triangular_list = triangular_numbers(n)\n",
        "\n",
        "# Print the list of triangular numbers\n",
        "print(\"List of the first\", n, \"triangular numbers:\", triangular_list)"
      ]
    },
    {
      "cell_type": "markdown",
      "metadata": {
        "id": "bykjK8ox2flK"
      },
      "source": [
        "## **49. Check if a list contains another list as a subsequence.**"
      ]
    },
    {
      "cell_type": "code",
      "execution_count": null,
      "metadata": {
        "colab": {
          "base_uri": "https://localhost:8080/"
        },
        "id": "wR0rTeG32eNu",
        "outputId": "69d92a6f-6efd-4b4d-b06f-0cb96437410b"
      },
      "outputs": [
        {
          "name": "stdout",
          "output_type": "stream",
          "text": [
            "Main list contains the subsequence.\n"
          ]
        }
      ],
      "source": [
        "# Function to check if a list contains another list as a subsequence\n",
        "def is_subsequence(subsequence, main_list):\n",
        "    subseq_index = 0  # Index for the subsequence elements\n",
        "    for element in main_list:\n",
        "        if element == subsequence[subseq_index]:\n",
        "            subseq_index += 1\n",
        "            if subseq_index == len(subsequence):\n",
        "                return True\n",
        "    return False\n",
        "\n",
        "# Example main list and subsequence\n",
        "main_list = [1, 2, 3, 4, 5, 6, 7, 8, 9, 10]\n",
        "subsequence = [3, 5, 8]\n",
        "\n",
        "# Check if the main list contains the subsequence\n",
        "if is_subsequence(subsequence, main_list):\n",
        "    print(\"Main list contains the subsequence.\")\n",
        "else:\n",
        "    print(\"Main list does not contain the subsequence.\")"
      ]
    },
    {
      "cell_type": "markdown",
      "metadata": {
        "id": "-mIaB6pt3b7q"
      },
      "source": [
        "## **50. Swap two elements in a list by their indices.**"
      ]
    },
    {
      "cell_type": "code",
      "execution_count": null,
      "metadata": {
        "colab": {
          "base_uri": "https://localhost:8080/"
        },
        "id": "A0JHpP9c2eLL",
        "outputId": "3fc99824-215f-4d59-f85b-1ac19eae8af0"
      },
      "outputs": [
        {
          "name": "stdout",
          "output_type": "stream",
          "text": [
            "List after swapping elements: [1, 4, 3, 2, 5]\n"
          ]
        }
      ],
      "source": [
        "# Example list\n",
        "my_list = [1, 2, 3, 4, 5]\n",
        "\n",
        "# Indices of elements to swap\n",
        "index1 = 1\n",
        "index2 = 3\n",
        "\n",
        "# Swap the elements at the specified indices\n",
        "temp = my_list[index1]\n",
        "my_list[index1] = my_list[index2]\n",
        "my_list[index2] = temp\n",
        "\n",
        "# Print the list after swapping\n",
        "print(\"List after swapping elements:\", my_list)"
      ]
    },
    {
      "cell_type": "markdown",
      "metadata": {
        "id": "M1vldj15-lGd"
      },
      "source": [
        "# Topic: Tuple based practice problem :\n",
        "\n",
        "---\n"
      ]
    },
    {
      "cell_type": "markdown",
      "metadata": {
        "id": "l9HbdfwR-nht"
      },
      "source": [
        "## **1. Create a tuple with integers from 1 to 5.**"
      ]
    },
    {
      "cell_type": "code",
      "execution_count": 19,
      "metadata": {
        "colab": {
          "base_uri": "https://localhost:8080/"
        },
        "id": "5DWl7CED-m2N",
        "outputId": "36124a21-8a58-4618-9397-84cd70e854e4"
      },
      "outputs": [
        {
          "output_type": "stream",
          "name": "stdout",
          "text": [
            "Tuple with integers from 1 to 5: (1, 2, 3, 4, 5)\n"
          ]
        }
      ],
      "source": [
        "# Create a tuple with integers from 1 to 5\n",
        "my_tuple = (1, 2, 3, 4, 5)\n",
        "\n",
        "# Example\n",
        "print(\"Tuple with integers from 1 to 5:\", my_tuple)"
      ]
    },
    {
      "cell_type": "markdown",
      "metadata": {
        "id": "BfyN7AJq-ua6"
      },
      "source": [
        "## **2. Access the third element of a tuple.**"
      ]
    },
    {
      "cell_type": "code",
      "execution_count": null,
      "metadata": {
        "colab": {
          "base_uri": "https://localhost:8080/"
        },
        "id": "6IP-ngBp--JL",
        "outputId": "5a9ebff8-30f9-4573-ec60-6ea91d10d9ea"
      },
      "outputs": [
        {
          "name": "stdout",
          "output_type": "stream",
          "text": [
            "The third element of the tuple is: 30\n"
          ]
        }
      ],
      "source": [
        "# Step 1: Create a tuple with some elements\n",
        "my_tuple = (10, 20, 30, 40, 50)\n",
        "\n",
        "# Step 2: Access the third element (index 2) of the tuple\n",
        "third_element = my_tuple[2]\n",
        "\n",
        "# Step 3: Print the third element\n",
        "print(\"The third element of the tuple is:\", third_element)"
      ]
    },
    {
      "cell_type": "markdown",
      "metadata": {
        "id": "Gh1WDxJx-uSW"
      },
      "source": [
        "## **3. Find the length of a tuple without using the `len()` function.**"
      ]
    },
    {
      "cell_type": "code",
      "execution_count": 20,
      "metadata": {
        "colab": {
          "base_uri": "https://localhost:8080/"
        },
        "id": "s4Y1j7mCADvx",
        "outputId": "fc1bc3c0-630e-4654-8bd0-d88cae56a9c7"
      },
      "outputs": [
        {
          "output_type": "stream",
          "name": "stdout",
          "text": [
            "The length of the tuple is: 5\n"
          ]
        }
      ],
      "source": [
        "# Step 1: Create a tuple\n",
        "my_tuple = (10, 20, 30, 40, 50)\n",
        "\n",
        "# Step 2: Initialize a variable to count the elements\n",
        "count = 0\n",
        "\n",
        "# Step 3: Iterate through the tuple and increment the count for each element\n",
        "for i in my_tuple:\n",
        "    count += 1\n",
        "\n",
        "# Step 4: Print the length of the tuple\n",
        "print(\"The length of the tuple is:\", count)"
      ]
    },
    {
      "cell_type": "markdown",
      "metadata": {
        "id": "ys0ZQjPt-uJ7"
      },
      "source": [
        "## **4. Count the occurrences of an element in a tuple.**"
      ]
    },
    {
      "cell_type": "code",
      "execution_count": null,
      "metadata": {
        "colab": {
          "base_uri": "https://localhost:8080/"
        },
        "id": "OEyR0lroAZ7Z",
        "outputId": "6d95b2d9-cd3d-40ec-8b82-883e72775dc5"
      },
      "outputs": [
        {
          "name": "stdout",
          "output_type": "stream",
          "text": [
            "The element 20 appears 3 times in the tuple.\n"
          ]
        }
      ],
      "source": [
        "# Step 1: Create a tuple\n",
        "my_tuple = (10, 20, 30, 20, 40, 50, 20)\n",
        "\n",
        "# Step 2: Choose the element to count occurrences of\n",
        "element_to_count = 20\n",
        "\n",
        "# Step 3: Initialize a variable to keep track of the count\n",
        "count = 0\n",
        "\n",
        "# Step 4: Iterate through the tuple and count occurrences of the chosen element\n",
        "for item in my_tuple:\n",
        "    if item == element_to_count:\n",
        "        count += 1\n",
        "\n",
        "# Step 5: Print the count of occurrences\n",
        "print(f\"The element {element_to_count} appears {count} times in the tuple.\")"
      ]
    },
    {
      "cell_type": "markdown",
      "metadata": {
        "id": "fi9wF_n5-uBr"
      },
      "source": [
        "## **5. Find the index of the first occurrence of an element in a tuple.**"
      ]
    },
    {
      "cell_type": "code",
      "source": [
        "# Find the index of the first occurrence of an element in a tuple\n",
        "my_tuple = (1, 2, 3, 4, 5, 3)\n",
        "\n",
        "element_to_find = 3\n",
        "\n",
        "index_of_element = my_tuple.index(element_to_find)\n",
        "\n",
        "# Example\n",
        "print(\"Tuple:\", my_tuple)\n",
        "print(f\"Index of the first occurrence of {element_to_find}: {index_of_element}\")\n"
      ],
      "metadata": {
        "colab": {
          "base_uri": "https://localhost:8080/"
        },
        "id": "cnV0W-mWeWmv",
        "outputId": "35f0a023-0322-444b-bfe8-05cbb28c7dd3"
      },
      "execution_count": 21,
      "outputs": [
        {
          "output_type": "stream",
          "name": "stdout",
          "text": [
            "Tuple: (1, 2, 3, 4, 5, 3)\n",
            "Index of the first occurrence of 3: 2\n"
          ]
        }
      ]
    },
    {
      "cell_type": "code",
      "execution_count": null,
      "metadata": {
        "colab": {
          "base_uri": "https://localhost:8080/"
        },
        "id": "Rlf7WPkIAvmP",
        "outputId": "70a01623-9d70-4f0c-a093-ac724f2ad707"
      },
      "outputs": [
        {
          "name": "stdout",
          "output_type": "stream",
          "text": [
            "The first occurrence of 20 is at index 1.\n"
          ]
        }
      ],
      "source": [
        "# Step 1: Create a tuple\n",
        "my_tuple = (10, 20, 30, 20, 40, 50)\n",
        "\n",
        "# Step 2: Choose the element to find the index of\n",
        "element_to_find = 20\n",
        "\n",
        "# Step 3: Initialize a variable to keep track of the index\n",
        "index = -1  # Initialize with -1 to indicate that the element was not found\n",
        "\n",
        "# Step 4: Iterate through the tuple and find the index of the chosen element\n",
        "for i, item in enumerate(my_tuple):\n",
        "    if item == element_to_find:\n",
        "        index = i\n",
        "        break  # Exit the loop once the first occurrence is found\n",
        "\n",
        "# Step 5: Print the index of the first occurrence\n",
        "if index != -1:\n",
        "    print(f\"The first occurrence of {element_to_find} is at index {index}.\")\n",
        "else:\n",
        "    print(f\"{element_to_find} is not found in the tuple.\")"
      ]
    },
    {
      "cell_type": "markdown",
      "metadata": {
        "id": "0SwUvz_u-t5Y"
      },
      "source": [
        "## **6. Check if an element exists in a tuple.**"
      ]
    },
    {
      "cell_type": "code",
      "execution_count": null,
      "metadata": {
        "colab": {
          "base_uri": "https://localhost:8080/"
        },
        "id": "hgbPvWp4A5tX",
        "outputId": "4b26aee9-05f3-4aca-a492-5991bc5c976a"
      },
      "outputs": [
        {
          "name": "stdout",
          "output_type": "stream",
          "text": [
            "30 exists in the tuple.\n"
          ]
        }
      ],
      "source": [
        "# Step 1: Create a tuple\n",
        "my_tuple = (10, 20, 30, 40, 50)\n",
        "\n",
        "# Step 2: Choose the element to check for existence\n",
        "element_to_check = 30\n",
        "\n",
        "# Step 3: Check if the element exists in the tuple using the 'in' operator\n",
        "if element_to_check in my_tuple:\n",
        "    print(f\"{element_to_check} exists in the tuple.\")\n",
        "else:\n",
        "    print(f\"{element_to_check} does not exist in the tuple.\")"
      ]
    },
    {
      "cell_type": "markdown",
      "metadata": {
        "id": "sHbgkYAMBKrY"
      },
      "source": [
        "## **7. Convert a tuple to a list.**"
      ]
    },
    {
      "cell_type": "code",
      "execution_count": null,
      "metadata": {
        "colab": {
          "base_uri": "https://localhost:8080/"
        },
        "id": "OsUET7CiBQ85",
        "outputId": "a1305d48-5e3d-476e-f54b-0ab5e50c56b8"
      },
      "outputs": [
        {
          "name": "stdout",
          "output_type": "stream",
          "text": [
            "Tuple: (10, 20, 30, 40, 50)\n",
            "List: [10, 20, 30, 40, 50]\n"
          ]
        }
      ],
      "source": [
        "# Step 1: Create a tuple\n",
        "my_tuple = (10, 20, 30, 40, 50)\n",
        "\n",
        "# Step 2: Convert the tuple to a list\n",
        "my_list = list(my_tuple)\n",
        "\n",
        "# Step 3: Print the resulting list\n",
        "print(\"Tuple:\", my_tuple)\n",
        "print(\"List:\", my_list)"
      ]
    },
    {
      "cell_type": "markdown",
      "metadata": {
        "id": "vtuBA-QJBKIW"
      },
      "source": [
        "## **8. Convert a list to a tuple.**"
      ]
    },
    {
      "cell_type": "code",
      "execution_count": null,
      "metadata": {
        "colab": {
          "base_uri": "https://localhost:8080/"
        },
        "id": "b5163MDHBH6x",
        "outputId": "8eff03e8-a863-48ac-f07e-dad7c2c816f8"
      },
      "outputs": [
        {
          "name": "stdout",
          "output_type": "stream",
          "text": [
            "List: [10, 20, 30, 40, 50]\n",
            "Tuple: (10, 20, 30, 40, 50)\n"
          ]
        }
      ],
      "source": [
        "# Step 1: Create a list\n",
        "my_list = [10, 20, 30, 40, 50]\n",
        "\n",
        "# Step 2: Convert the list to a tuple\n",
        "my_tuple = tuple(my_list)\n",
        "\n",
        "# Step 3: Print the resulting tuple\n",
        "print(\"List:\", my_list)\n",
        "print(\"Tuple:\", my_tuple)\n"
      ]
    },
    {
      "cell_type": "markdown",
      "metadata": {
        "id": "jI541JJP-txK"
      },
      "source": [
        "## **9. Unpack the elements of a tuple into variables.**"
      ]
    },
    {
      "cell_type": "code",
      "execution_count": null,
      "metadata": {
        "colab": {
          "base_uri": "https://localhost:8080/"
        },
        "id": "JjDFgPdWBxZC",
        "outputId": "8fc70bf2-9144-4464-bd9a-9f7248246ab4"
      },
      "outputs": [
        {
          "name": "stdout",
          "output_type": "stream",
          "text": [
            "var1: 10\n",
            "var2: 20\n",
            "var3: 30\n"
          ]
        }
      ],
      "source": [
        "# Step 1: Create a tuple\n",
        "my_tuple = (10, 20, 30)\n",
        "\n",
        "# Step 2: Unpack the elements of the tuple into variables\n",
        "var1, var2, var3 = my_tuple\n",
        "\n",
        "# Step 3: Print the variables\n",
        "print(\"var1:\", var1)\n",
        "print(\"var2:\", var2)\n",
        "print(\"var3:\", var3)"
      ]
    },
    {
      "cell_type": "markdown",
      "metadata": {
        "id": "o_MZRgph-toj"
      },
      "source": [
        "## **10. Create a tuple of even numbers from 1 to 10.**"
      ]
    },
    {
      "cell_type": "code",
      "execution_count": null,
      "metadata": {
        "colab": {
          "base_uri": "https://localhost:8080/"
        },
        "id": "ZsN1yEDYCCmz",
        "outputId": "e92584e1-3c60-4b58-d56d-eb8a171b7ee0"
      },
      "outputs": [
        {
          "name": "stdout",
          "output_type": "stream",
          "text": [
            "Tuple of even numbers: (2, 4, 6, 8, 10)\n"
          ]
        }
      ],
      "source": [
        "# Step 1: Create a list of even numbers using a list comprehension\n",
        "even_numbers_list = [num for num in range(2, 11, 2)]  # Start from 2, step by 2, end at 10\n",
        "\n",
        "# Step 2: Convert the list to a tuple\n",
        "even_numbers_tuple = tuple(even_numbers_list)\n",
        "\n",
        "# Step 3: Print the resulting tuple\n",
        "print(\"Tuple of even numbers:\", even_numbers_tuple)"
      ]
    },
    {
      "cell_type": "markdown",
      "metadata": {
        "id": "RX-92AVo-teh"
      },
      "source": [
        "## **11. Create a tuple of odd numbers from 1 to 10.**"
      ]
    },
    {
      "cell_type": "code",
      "execution_count": null,
      "metadata": {
        "colab": {
          "base_uri": "https://localhost:8080/"
        },
        "id": "9R-W6vXWCQCI",
        "outputId": "e69ecd86-75ba-4027-99b5-76e5df1798c7"
      },
      "outputs": [
        {
          "name": "stdout",
          "output_type": "stream",
          "text": [
            "Tuple of even numbers: (2, 4, 6, 8, 10)\n"
          ]
        }
      ],
      "source": [
        "# Step 1: Create a list of even numbers using a list comprehension\n",
        "even_numbers_list = [num for num in range(2, 11, 2)]  # Start from 2, step by 2, end at 10\n",
        "\n",
        "# Step 2: Convert the list to a tuple\n",
        "even_numbers_tuple = tuple(even_numbers_list)\n",
        "\n",
        "# Step 3: Print the resulting tuple\n",
        "print(\"Tuple of even numbers:\", even_numbers_tuple)"
      ]
    },
    {
      "cell_type": "markdown",
      "metadata": {
        "id": "9xZaYcTG-tWA"
      },
      "source": [
        "## **12. Concatenate two tuples.**"
      ]
    },
    {
      "cell_type": "code",
      "execution_count": null,
      "metadata": {
        "colab": {
          "base_uri": "https://localhost:8080/"
        },
        "id": "DNIedkkmChZ4",
        "outputId": "71fc88fe-7088-4ec7-e2d7-c18f49b0d506"
      },
      "outputs": [
        {
          "name": "stdout",
          "output_type": "stream",
          "text": [
            "Concatenated tuple: (1, 2, 3, 4, 5, 6)\n"
          ]
        }
      ],
      "source": [
        "# Step 1: Create two tuples\n",
        "tuple1 = (1, 2, 3)\n",
        "tuple2 = (4, 5, 6)\n",
        "\n",
        "# Step 2: Concatenate the two tuples\n",
        "concatenated_tuple = tuple1 + tuple2\n",
        "\n",
        "# Step 3: Print the concatenated tuple\n",
        "print(\"Concatenated tuple:\", concatenated_tuple)"
      ]
    },
    {
      "cell_type": "markdown",
      "metadata": {
        "id": "h86BPARh-tOM"
      },
      "source": [
        "## **13. Repeat a tuple three times.**"
      ]
    },
    {
      "cell_type": "code",
      "execution_count": null,
      "metadata": {
        "colab": {
          "base_uri": "https://localhost:8080/"
        },
        "id": "CUKJxuffCudl",
        "outputId": "59c599c9-400f-4c22-a8b2-5d4802134e33"
      },
      "outputs": [
        {
          "name": "stdout",
          "output_type": "stream",
          "text": [
            "Repeated tuple: (1, 2, 3, 1, 2, 3, 1, 2, 3)\n"
          ]
        }
      ],
      "source": [
        "# Step 1: Create a tuple\n",
        "original_tuple = (1, 2, 3)\n",
        "\n",
        "# Step 2: Repeat the tuple three times\n",
        "repeated_tuple = original_tuple * 3\n",
        "\n",
        "# Step 3: Print the repeated tuple\n",
        "print(\"Repeated tuple:\", repeated_tuple)"
      ]
    },
    {
      "cell_type": "markdown",
      "metadata": {
        "id": "a4OY9KiV-tDi"
      },
      "source": [
        "## **14. Check if a tuple is empty.**"
      ]
    },
    {
      "cell_type": "code",
      "execution_count": 22,
      "metadata": {
        "colab": {
          "base_uri": "https://localhost:8080/"
        },
        "id": "KnupOMgfC4RQ",
        "outputId": "98ba2cd8-435c-4331-ec09-49289c53ab70"
      },
      "outputs": [
        {
          "output_type": "stream",
          "name": "stdout",
          "text": [
            "Using len():\n",
            "Is empty_tuple empty? True\n",
            "Is non_empty_tuple empty? False\n",
            "\n",
            "Using truthiness:\n",
            "Is empty_tuple empty? True\n",
            "Is non_empty_tuple empty? False\n"
          ]
        }
      ],
      "source": [
        "# Check if a tuple is empty\n",
        "empty_tuple = ()\n",
        "non_empty_tuple = (1, 2, 3)\n",
        "\n",
        "# Using len()\n",
        "is_empty_len = len(empty_tuple) == 0\n",
        "is_non_empty_len = len(non_empty_tuple) == 0\n",
        "\n",
        "# Using truthiness\n",
        "is_empty_truthiness = not empty_tuple\n",
        "is_non_empty_truthiness = not non_empty_tuple\n",
        "\n",
        "# Example\n",
        "print(\"Using len():\")\n",
        "print(\"Is empty_tuple empty?\", is_empty_len)\n",
        "print(\"Is non_empty_tuple empty?\", is_non_empty_len)\n",
        "\n",
        "print(\"\\nUsing truthiness:\")\n",
        "print(\"Is empty_tuple empty?\", is_empty_truthiness)\n",
        "print(\"Is non_empty_tuple empty?\", is_non_empty_truthiness)\n"
      ]
    },
    {
      "cell_type": "code",
      "source": [
        "# Step 1: Create an empty tuple and a non-empty tuple\n",
        "empty_tuple = ()\n",
        "non_empty_tuple = (1, 2, 3)\n",
        "\n",
        "# Step 2: Check if the tuples are empty\n",
        "if not empty_tuple:\n",
        "    print(\"The empty_tuple is empty.\")\n",
        "else:\n",
        "    print(\"The empty_tuple is not empty.\")\n",
        "\n",
        "if not non_empty_tuple:\n",
        "    print(\"The non_empty_tuple is empty.\")\n",
        "else:\n",
        "    print(\"The non_empty_tuple is not empty.\")"
      ],
      "metadata": {
        "colab": {
          "base_uri": "https://localhost:8080/"
        },
        "id": "zfbhCNpPgGy0",
        "outputId": "d57cb331-9f0a-45eb-e606-38f837743d9e"
      },
      "execution_count": 23,
      "outputs": [
        {
          "output_type": "stream",
          "name": "stdout",
          "text": [
            "The empty_tuple is empty.\n",
            "The non_empty_tuple is not empty.\n"
          ]
        }
      ]
    },
    {
      "cell_type": "markdown",
      "metadata": {
        "id": "EcLudSiX-s7j"
      },
      "source": [
        "## **15. Create a nested tuple.**"
      ]
    },
    {
      "cell_type": "code",
      "execution_count": null,
      "metadata": {
        "colab": {
          "base_uri": "https://localhost:8080/"
        },
        "id": "Gm3PwRehDOos",
        "outputId": "872958d3-c6e1-4057-da89-065a3a996786"
      },
      "outputs": [
        {
          "name": "stdout",
          "output_type": "stream",
          "text": [
            "Nested tuple: ((1, 2, 3), ('a', 'b', 'c'), (True, False))\n"
          ]
        }
      ],
      "source": [
        "# Step 1: Create a nested tuple\n",
        "nested_tuple = ((1, 2, 3), ('a', 'b', 'c'), (True, False))\n",
        "\n",
        "# Step 2: Print the nested tuple\n",
        "print(\"Nested tuple:\", nested_tuple)"
      ]
    },
    {
      "cell_type": "markdown",
      "metadata": {
        "id": "lgDsJ9Zu-szh"
      },
      "source": [
        "## **16. Access the first element of a nested tuple.**"
      ]
    },
    {
      "cell_type": "code",
      "execution_count": null,
      "metadata": {
        "colab": {
          "base_uri": "https://localhost:8080/"
        },
        "id": "xuAflJKCDlrL",
        "outputId": "eaceecc5-e923-4fdd-d3fa-a761720ac9c5"
      },
      "outputs": [
        {
          "name": "stdout",
          "output_type": "stream",
          "text": [
            "First element of the nested tuple: (1, 2, 3)\n"
          ]
        }
      ],
      "source": [
        "# Step 1: Create a nested tuple\n",
        "nested_tuple = ((1, 2, 3), ('a', 'b', 'c'), (True, False))\n",
        "\n",
        "# Step 2: Access the first element of the nested tuple\n",
        "first_element = nested_tuple[0]\n",
        "\n",
        "# Step 3: Print the first element\n",
        "print(\"First element of the nested tuple:\", first_element)"
      ]
    },
    {
      "cell_type": "markdown",
      "metadata": {
        "id": "ScZrH6Bp-srj"
      },
      "source": [
        "## **17. Create a tuple with a single element.**"
      ]
    },
    {
      "cell_type": "code",
      "execution_count": null,
      "metadata": {
        "colab": {
          "base_uri": "https://localhost:8080/"
        },
        "id": "FILtCutfD-Ne",
        "outputId": "f83dcb38-6b4a-43dd-8b0e-0ef81de45166"
      },
      "outputs": [
        {
          "name": "stdout",
          "output_type": "stream",
          "text": [
            "Single element tuple: (42,)\n"
          ]
        }
      ],
      "source": [
        "# Step 1: Create a tuple with a single element\n",
        "single_element_tuple = (42,)  # Note the trailing comma\n",
        "\n",
        "# Step 2: Print the single element tuple\n",
        "print(\"Single element tuple:\", single_element_tuple)"
      ]
    },
    {
      "cell_type": "markdown",
      "metadata": {
        "id": "q9FlgOzP-sjg"
      },
      "source": [
        "## **18. Compare two tuples.**"
      ]
    },
    {
      "cell_type": "code",
      "execution_count": null,
      "metadata": {
        "colab": {
          "base_uri": "https://localhost:8080/"
        },
        "id": "aumD-FQUXNJP",
        "outputId": "51b47aa8-9fe2-461a-951e-4110d87788be"
      },
      "outputs": [
        {
          "name": "stdout",
          "output_type": "stream",
          "text": [
            "tuple1 == tuple2: False\n",
            "tuple1 != tuple2: True\n",
            "tuple1 < tuple2: True\n",
            "tuple1 <= tuple2: True\n",
            "tuple1 > tuple2: False\n",
            "tuple1 >= tuple2: False\n"
          ]
        }
      ],
      "source": [
        "# Step 1: Create two tuples\n",
        "tuple1 = (1, 2, 3)\n",
        "tuple2 = (1, 2, 4)\n",
        "\n",
        "# Step 2: Compare the two tuples using comparison operators\n",
        "print(\"tuple1 == tuple2:\", tuple1 == tuple2)  # Equality check\n",
        "print(\"tuple1 != tuple2:\", tuple1 != tuple2)  # Inequality check\n",
        "print(\"tuple1 < tuple2:\", tuple1 < tuple2)    # Less than check\n",
        "print(\"tuple1 <= tuple2:\", tuple1 <= tuple2)  # Less than or equal to check\n",
        "print(\"tuple1 > tuple2:\", tuple1 > tuple2)    # Greater than check\n",
        "print(\"tuple1 >= tuple2:\", tuple1 >= tuple2)  # Greater than or equal to check"
      ]
    },
    {
      "cell_type": "markdown",
      "metadata": {
        "id": "VAK8OadC-sbx"
      },
      "source": [
        "## **19. Delete a tuple.**"
      ]
    },
    {
      "cell_type": "code",
      "execution_count": 24,
      "metadata": {
        "colab": {
          "base_uri": "https://localhost:8080/",
          "height": 185
        },
        "id": "kVeoDL9EX2QH",
        "outputId": "2bbe2c9d-da9d-4a4f-9845-895e0b49490d"
      },
      "outputs": [
        {
          "output_type": "error",
          "ename": "NameError",
          "evalue": "name 'my_tuple' is not defined",
          "traceback": [
            "\u001b[0;31m---------------------------------------------------------------------------\u001b[0m",
            "\u001b[0;31mNameError\u001b[0m                                 Traceback (most recent call last)",
            "\u001b[0;32m<ipython-input-24-c1d45cd25891>\u001b[0m in \u001b[0;36m<cell line: 8>\u001b[0;34m()\u001b[0m\n\u001b[1;32m      6\u001b[0m \u001b[0;34m\u001b[0m\u001b[0m\n\u001b[1;32m      7\u001b[0m \u001b[0;31m# Step 3: Try to access the tuple (will raise a NameError)\u001b[0m\u001b[0;34m\u001b[0m\u001b[0;34m\u001b[0m\u001b[0m\n\u001b[0;32m----> 8\u001b[0;31m \u001b[0mprint\u001b[0m\u001b[0;34m(\u001b[0m\u001b[0mmy_tuple\u001b[0m\u001b[0;34m)\u001b[0m\u001b[0;34m\u001b[0m\u001b[0;34m\u001b[0m\u001b[0m\n\u001b[0m",
            "\u001b[0;31mNameError\u001b[0m: name 'my_tuple' is not defined"
          ]
        }
      ],
      "source": [
        "# Step 1: Create a tuple\n",
        "my_tuple = (1, 2, 3, 4, 5)\n",
        "\n",
        "# Step 2: Delete the tuple using the 'del' statement\n",
        "del my_tuple\n",
        "\n",
        "# Step 3: Try to access the tuple (will raise a NameError)\n",
        "print(my_tuple)"
      ]
    },
    {
      "cell_type": "markdown",
      "metadata": {
        "id": "WOzsGykG-sT5"
      },
      "source": [
        "## **20. Slice a tuple.**"
      ]
    },
    {
      "cell_type": "code",
      "execution_count": null,
      "metadata": {
        "colab": {
          "base_uri": "https://localhost:8080/"
        },
        "id": "gW2uEvWcYVF7",
        "outputId": "e156beb0-d92f-4ddf-ead1-4e6350e22eb9"
      },
      "outputs": [
        {
          "name": "stdout",
          "output_type": "stream",
          "text": [
            "Sliced tuple: (3, 4, 5, 6)\n"
          ]
        }
      ],
      "source": [
        "# Step 1: Create a tuple\n",
        "my_tuple = (1, 2, 3, 4, 5, 6, 7, 8, 9, 10)\n",
        "\n",
        "# Step 2: Slice the tuple to get a portion of it\n",
        "sliced_tuple = my_tuple[2:6]  # Elements from index 2 to 5 (end index is exclusive)\n",
        "\n",
        "# Step 3: Print the sliced tuple\n",
        "print(\"Sliced tuple:\", sliced_tuple)"
      ]
    },
    {
      "cell_type": "markdown",
      "metadata": {
        "id": "MUbNy86b-sMC"
      },
      "source": [
        "## **21. Find the maximum value in a tuple.**"
      ]
    },
    {
      "cell_type": "code",
      "execution_count": null,
      "metadata": {
        "colab": {
          "base_uri": "https://localhost:8080/"
        },
        "id": "5Yp7wrafYvQv",
        "outputId": "6421579f-edbf-4502-eb32-d0d15faa1892"
      },
      "outputs": [
        {
          "name": "stdout",
          "output_type": "stream",
          "text": [
            "Maximum value: 45\n"
          ]
        }
      ],
      "source": [
        "# Step 1: Create a tuple\n",
        "my_tuple = (10, 20, 5, 45, 30)\n",
        "\n",
        "# Step 2: Find the maximum value in the tuple using the 'max()' function\n",
        "max_value = max(my_tuple)\n",
        "\n",
        "# Step 3: Print the maximum value\n",
        "print(\"Maximum value:\", max_value)"
      ]
    },
    {
      "cell_type": "markdown",
      "metadata": {
        "id": "06nHlxC7-sBn"
      },
      "source": [
        "## **22. Find the minimum value in a tuple.**"
      ]
    },
    {
      "cell_type": "code",
      "execution_count": null,
      "metadata": {
        "colab": {
          "base_uri": "https://localhost:8080/"
        },
        "id": "uQuC7RZ2ZIXt",
        "outputId": "d409044f-7a5a-4854-a618-c0461e8b1660"
      },
      "outputs": [
        {
          "name": "stdout",
          "output_type": "stream",
          "text": [
            "Minimum value: 5\n"
          ]
        }
      ],
      "source": [
        "# Step 1: Create a tuple\n",
        "my_tuple = (10, 20, 5, 45, 30)\n",
        "\n",
        "# Step 2: Find the minimum value in the tuple using the 'min()' function\n",
        "min_value = min(my_tuple)\n",
        "\n",
        "# Step 3: Print the minimum value\n",
        "print(\"Minimum value:\", min_value)"
      ]
    },
    {
      "cell_type": "markdown",
      "metadata": {
        "id": "OPUZZUtw-r6K"
      },
      "source": [
        "## **23. Convert a string to a tuple of characters.**"
      ]
    },
    {
      "cell_type": "code",
      "execution_count": null,
      "metadata": {
        "colab": {
          "base_uri": "https://localhost:8080/"
        },
        "id": "ZkpGrHyEZW4c",
        "outputId": "77b50dd9-4ad0-4e24-cec0-f75da5625959"
      },
      "outputs": [
        {
          "name": "stdout",
          "output_type": "stream",
          "text": [
            "Tuple of characters: ('H', 'e', 'l', 'l', 'o', ',', ' ', 'W', 'o', 'r', 'l', 'd', '!')\n"
          ]
        }
      ],
      "source": [
        "# Step 1: Create a string\n",
        "my_string = \"Hello, World!\"\n",
        "\n",
        "# Step 2: Convert the string to a tuple of characters\n",
        "tuple_of_characters = tuple(my_string)\n",
        "\n",
        "# Step 3: Print the tuple of characters\n",
        "print(\"Tuple of characters:\", tuple_of_characters)"
      ]
    },
    {
      "cell_type": "markdown",
      "metadata": {
        "id": "BSCnejYO-ryq"
      },
      "source": [
        "## **24. Convert a tuple of characters to a string.**"
      ]
    },
    {
      "cell_type": "code",
      "execution_count": null,
      "metadata": {
        "colab": {
          "base_uri": "https://localhost:8080/"
        },
        "id": "_Dv_YWbBZkFi",
        "outputId": "2728628a-9ef3-4471-eb25-b90f5f164c2e"
      },
      "outputs": [
        {
          "name": "stdout",
          "output_type": "stream",
          "text": [
            "String from tuple: Hello World!\n"
          ]
        }
      ],
      "source": [
        "# Step 1: Create a tuple of characters\n",
        "tuple_of_characters = ('H', 'e', 'l', 'l', 'o', ' ', 'W', 'o', 'r', 'l', 'd', '!')\n",
        "\n",
        "# Step 2: Convert the tuple of characters to a string using the 'join()' method\n",
        "string_from_tuple = ''.join(tuple_of_characters)\n",
        "\n",
        "# Step 3: Print the resulting string\n",
        "print(\"String from tuple:\", string_from_tuple)"
      ]
    },
    {
      "cell_type": "markdown",
      "metadata": {
        "id": "14Pxy7uuc3xm"
      },
      "source": [
        "## **25. Create a tuple from multiple data types.**"
      ]
    },
    {
      "cell_type": "code",
      "execution_count": null,
      "metadata": {
        "id": "Yx9Re3mMc3xm",
        "outputId": "7806468d-884e-44f3-c95b-8e7f674a9922"
      },
      "outputs": [
        {
          "name": "stdout",
          "output_type": "stream",
          "text": [
            "(1, 'hello', 3.14, True)\n"
          ]
        }
      ],
      "source": [
        "# Creating a tuple with elements of different data types\n",
        "mixed_tuple = (1, \"hello\", 3.14, True)\n",
        "\n",
        "# Printing the tuple\n",
        "print(mixed_tuple)"
      ]
    },
    {
      "cell_type": "markdown",
      "metadata": {
        "id": "zSsocS7E-rrN"
      },
      "source": [
        "## **26. Check if two tuples are identical.**"
      ]
    },
    {
      "cell_type": "code",
      "execution_count": null,
      "metadata": {
        "colab": {
          "base_uri": "https://localhost:8080/"
        },
        "id": "8okUaLN8Z8BV",
        "outputId": "dbbaaf8e-98f5-4aa1-9d00-3af2b45ef042"
      },
      "outputs": [
        {
          "name": "stdout",
          "output_type": "stream",
          "text": [
            "tuple1 and tuple2 are identical: True\n",
            "tuple1 and tuple3 are identical: False\n"
          ]
        }
      ],
      "source": [
        "# Step 1: Create two tuples\n",
        "tuple1 = (1, 2, 3)\n",
        "tuple2 = (1, 2, 3)\n",
        "tuple3 = (4, 5, 6)\n",
        "\n",
        "# Step 2: Compare the tuples for identity using the equality operator\n",
        "are_identical1 = tuple1 == tuple2\n",
        "are_identical2 = tuple1 == tuple3\n",
        "\n",
        "# Step 3: Print the results\n",
        "print(\"tuple1 and tuple2 are identical:\", are_identical1)\n",
        "print(\"tuple1 and tuple3 are identical:\", are_identical2)"
      ]
    },
    {
      "cell_type": "markdown",
      "metadata": {
        "id": "EC3qeP6H-rjw"
      },
      "source": [
        "## **27. Sort the elements of a tuple.**"
      ]
    },
    {
      "cell_type": "code",
      "execution_count": null,
      "metadata": {
        "colab": {
          "base_uri": "https://localhost:8080/"
        },
        "id": "hejbfdoQaGn3",
        "outputId": "9c86326e-c8a2-4ac3-cb5e-426f7c25ce49"
      },
      "outputs": [
        {
          "name": "stdout",
          "output_type": "stream",
          "text": [
            "Sorted tuple: (1, 2, 3, 5, 8)\n"
          ]
        }
      ],
      "source": [
        "# Step 1: Create a tuple\n",
        "my_tuple = (5, 2, 8, 1, 3)\n",
        "\n",
        "# Step 2: Convert the tuple to a list, sort the list, and convert it back to a tuple\n",
        "sorted_tuple = tuple(sorted(my_tuple))\n",
        "\n",
        "# Step 3: Print the sorted tuple\n",
        "print(\"Sorted tuple:\", sorted_tuple)\n"
      ]
    },
    {
      "cell_type": "markdown",
      "metadata": {
        "id": "16vOltmj-rcY"
      },
      "source": [
        "## **28. Convert a tuple of integers to a tuple of strings.**"
      ]
    },
    {
      "cell_type": "code",
      "execution_count": null,
      "metadata": {
        "colab": {
          "base_uri": "https://localhost:8080/"
        },
        "id": "Tx1XuiBLaSmu",
        "outputId": "4342d125-d3d2-4ffa-cb38-e5c2e2dce5a5"
      },
      "outputs": [
        {
          "name": "stdout",
          "output_type": "stream",
          "text": [
            "Tuple of strings: ('1', '2', '3', '4', '5')\n"
          ]
        }
      ],
      "source": [
        "# Step 1: Create a tuple of integers\n",
        "tuple_of_integers = (1, 2, 3, 4, 5)\n",
        "\n",
        "# Step 2: Convert the tuple of integers to a tuple of strings using a list comprehension\n",
        "tuple_of_strings = tuple(str(item) for item in tuple_of_integers)\n",
        "\n",
        "# Step 3: Print the tuple of strings\n",
        "print(\"Tuple of strings:\", tuple_of_strings)"
      ]
    },
    {
      "cell_type": "markdown",
      "metadata": {
        "id": "y-5yD1wp-rVB"
      },
      "source": [
        "## **29. Convert a tuple of strings to a tuple of integers.**"
      ]
    },
    {
      "cell_type": "code",
      "execution_count": null,
      "metadata": {
        "colab": {
          "base_uri": "https://localhost:8080/"
        },
        "id": "ndOFBsVNanUC",
        "outputId": "7d5cd8e9-d946-45d7-fa7a-61eee12511c2"
      },
      "outputs": [
        {
          "name": "stdout",
          "output_type": "stream",
          "text": [
            "Tuple of integers: (10, 20, 30, 40, 50)\n"
          ]
        }
      ],
      "source": [
        "# Step 1: Create a tuple of strings\n",
        "tuple_of_strings = ('10', '20', '30', '40', '50')\n",
        "\n",
        "# Step 2: Convert the tuple of strings to a tuple of integers using a list comprehension\n",
        "tuple_of_integers = tuple(int(item) for item in tuple_of_strings)\n",
        "\n",
        "# Step 3: Print the tuple of integers\n",
        "print(\"Tuple of integers:\", tuple_of_integers)"
      ]
    },
    {
      "cell_type": "markdown",
      "metadata": {
        "id": "NJ72UfL1-rMB"
      },
      "source": [
        "## **30. Merge two tuples.**"
      ]
    },
    {
      "cell_type": "code",
      "execution_count": null,
      "metadata": {
        "colab": {
          "base_uri": "https://localhost:8080/"
        },
        "id": "z9b1IcEGaywZ",
        "outputId": "7c6e25c9-a22d-4a1a-944b-16710da54c9d"
      },
      "outputs": [
        {
          "name": "stdout",
          "output_type": "stream",
          "text": [
            "Merged tuple: (1, 2, 3, 4, 5, 6)\n"
          ]
        }
      ],
      "source": [
        "# Step 1: Create two tuples\n",
        "tuple1 = (1, 2, 3)\n",
        "tuple2 = (4, 5, 6)\n",
        "\n",
        "# Step 2: Merge the two tuples using the '+' operator\n",
        "merged_tuple = tuple1 + tuple2\n",
        "\n",
        "# Step 3: Print the merged tuple\n",
        "print(\"Merged tuple:\", merged_tuple)"
      ]
    },
    {
      "cell_type": "markdown",
      "metadata": {
        "id": "YYBTQtOX-rEk"
      },
      "source": [
        "## **31. Flatten a nested tuple.**"
      ]
    },
    {
      "cell_type": "code",
      "execution_count": null,
      "metadata": {
        "colab": {
          "base_uri": "https://localhost:8080/"
        },
        "id": "QLFlrwN7bDev",
        "outputId": "14a8999f-a8eb-41b5-91da-c97a0b9ef271"
      },
      "outputs": [
        {
          "name": "stdout",
          "output_type": "stream",
          "text": [
            "Flattened tuple: (1, 2, 3, 4, 5, 6, 7, 8)\n"
          ]
        }
      ],
      "source": [
        "# Recursive function to flatten a nested tuple\n",
        "def flatten_tuple(nested_tuple):\n",
        "    flattened = []\n",
        "    for item in nested_tuple:\n",
        "        if isinstance(item, tuple):\n",
        "            flattened.extend(flatten_tuple(item))\n",
        "        else:\n",
        "            flattened.append(item)\n",
        "    return flattened\n",
        "\n",
        "# Step 1: Create a nested tuple\n",
        "nested_tuple = ((1, 2), (3, 4, 5), (6, (7, 8)))\n",
        "\n",
        "# Step 2: Flatten the nested tuple\n",
        "flattened_tuple = tuple(flatten_tuple(nested_tuple))\n",
        "\n",
        "# Step 3: Print the flattened tuple\n",
        "print(\"Flattened tuple:\", flattened_tuple)"
      ]
    },
    {
      "cell_type": "markdown",
      "metadata": {
        "id": "kC7aI_t9-q9c"
      },
      "source": [
        "## **32. Create a tuple of the first 5 prime numbers.**"
      ]
    },
    {
      "cell_type": "code",
      "execution_count": null,
      "metadata": {
        "colab": {
          "base_uri": "https://localhost:8080/"
        },
        "id": "VRDkDQA2bSii",
        "outputId": "e270b6cf-e7cd-469e-97ac-3b5f0570bc2a"
      },
      "outputs": [
        {
          "name": "stdout",
          "output_type": "stream",
          "text": [
            "Tuple of the first 5 prime numbers: (2, 3, 5, 7, 11)\n"
          ]
        }
      ],
      "source": [
        "# Function to check if a number is prime\n",
        "def is_prime(num):\n",
        "    if num <= 1:\n",
        "        return False\n",
        "    for i in range(2, int(num ** 0.5) + 1):\n",
        "        if num % i == 0:\n",
        "            return False\n",
        "    return True\n",
        "\n",
        "# Generate the first 5 prime numbers\n",
        "prime_numbers_list = [num for num in range(2, 100) if is_prime(num)][:5]\n",
        "\n",
        "# Convert the list to a tuple\n",
        "prime_numbers_tuple = tuple(prime_numbers_list)\n",
        "\n",
        "# Print the tuple of prime numbers\n",
        "print(\"Tuple of the first 5 prime numbers:\", prime_numbers_tuple)"
      ]
    },
    {
      "cell_type": "markdown",
      "metadata": {
        "id": "IHNRNTMa-q2R"
      },
      "source": [
        "## **33. Check if a tuple is a palindrome.**"
      ]
    },
    {
      "cell_type": "code",
      "execution_count": null,
      "metadata": {
        "colab": {
          "base_uri": "https://localhost:8080/"
        },
        "id": "zCH8mgZLbjah",
        "outputId": "1a31baf5-d37a-443d-c152-2f2c9b315deb"
      },
      "outputs": [
        {
          "name": "stdout",
          "output_type": "stream",
          "text": [
            "palindrome_tuple is a palindrome: True\n",
            "non_palindrome_tuple is a palindrome: False\n"
          ]
        }
      ],
      "source": [
        "# Function to check if a tuple is a palindrome\n",
        "def is_palindrome(tup):\n",
        "    return tup == tup[::-1]\n",
        "\n",
        "# Create tuples for testing\n",
        "palindrome_tuple = (1, 2, 3, 2, 1)\n",
        "non_palindrome_tuple = (1, 2, 3, 4, 5)\n",
        "\n",
        "# Check if the tuples are palindromes\n",
        "is_palindrome1 = is_palindrome(palindrome_tuple)\n",
        "is_palindrome2 = is_palindrome(non_palindrome_tuple)\n",
        "\n",
        "# Print the results\n",
        "print(\"palindrome_tuple is a palindrome:\", is_palindrome1)\n",
        "print(\"non_palindrome_tuple is a palindrome:\", is_palindrome2)"
      ]
    },
    {
      "cell_type": "markdown",
      "metadata": {
        "id": "KSVhR4hY-qvE"
      },
      "source": [
        "## **34. Create a tuple of squares of numbers from 1 to 5.**"
      ]
    },
    {
      "cell_type": "code",
      "execution_count": null,
      "metadata": {
        "colab": {
          "base_uri": "https://localhost:8080/"
        },
        "id": "eJ3WKRFmbz-H",
        "outputId": "01324f9f-594d-4948-e5a8-6d466b0ca58f"
      },
      "outputs": [
        {
          "name": "stdout",
          "output_type": "stream",
          "text": [
            "Tuple of squares: (1, 4, 9, 16, 25)\n"
          ]
        }
      ],
      "source": [
        "# Create a tuple of squares using a list comprehension\n",
        "squares_tuple = tuple(x ** 2 for x in range(1, 6))\n",
        "\n",
        "# Print the tuple of squares\n",
        "print(\"Tuple of squares:\", squares_tuple)"
      ]
    },
    {
      "cell_type": "markdown",
      "metadata": {
        "id": "fw9phPf9-qn3"
      },
      "source": [
        "## **35. Filter out all even numbers from a tuple.**"
      ]
    },
    {
      "cell_type": "code",
      "execution_count": null,
      "metadata": {
        "colab": {
          "base_uri": "https://localhost:8080/"
        },
        "id": "YhQtBJV8b9kD",
        "outputId": "ddf7a9b3-a0b5-485e-9673-c9a510376b35"
      },
      "outputs": [
        {
          "name": "stdout",
          "output_type": "stream",
          "text": [
            "Filtered tuple: (1, 3, 5, 7, 9)\n"
          ]
        }
      ],
      "source": [
        "# Create a tuple\n",
        "original_tuple = (1, 2, 3, 4, 5, 6, 7, 8, 9, 10)\n",
        "\n",
        "# Filter out even numbers using a list comprehension\n",
        "filtered_tuple = tuple(num for num in original_tuple if num % 2 != 0)\n",
        "\n",
        "# Print the filtered tuple\n",
        "print(\"Filtered tuple:\", filtered_tuple)"
      ]
    },
    {
      "cell_type": "markdown",
      "metadata": {
        "id": "2sUz0cMY-qg1"
      },
      "source": [
        "## **36. Multiply all elements in a tuple by 2.**"
      ]
    },
    {
      "cell_type": "code",
      "execution_count": null,
      "metadata": {
        "colab": {
          "base_uri": "https://localhost:8080/"
        },
        "id": "VLCmBgLDcRuJ",
        "outputId": "9330bd2d-788e-467c-bd6f-bddac9005804"
      },
      "outputs": [
        {
          "name": "stdout",
          "output_type": "stream",
          "text": [
            "Doubled tuple: (2, 4, 6, 8, 10)\n"
          ]
        }
      ],
      "source": [
        "# Create a tuple\n",
        "original_tuple = (1, 2, 3, 4, 5)\n",
        "\n",
        "# Multiply all elements by 2 using a list comprehension and convert to a tuple\n",
        "doubled_tuple = tuple(num * 2 for num in original_tuple)\n",
        "\n",
        "# Print the doubled tuple\n",
        "print(\"Doubled tuple:\", doubled_tuple)"
      ]
    },
    {
      "cell_type": "markdown",
      "metadata": {
        "id": "qvmR9C4J-qZx"
      },
      "source": [
        "## **37. Create a tuple of random numbers.**"
      ]
    },
    {
      "cell_type": "code",
      "execution_count": null,
      "metadata": {
        "colab": {
          "base_uri": "https://localhost:8080/"
        },
        "id": "ZM_h9niFchcx",
        "outputId": "82634012-e2b5-4955-eb0f-69881f564054"
      },
      "outputs": [
        {
          "name": "stdout",
          "output_type": "stream",
          "text": [
            "Random tuple: (96, 86, 64, 54, 55, 96, 1, 88, 85, 43)\n"
          ]
        }
      ],
      "source": [
        "import random\n",
        "\n",
        "# Create a tuple of random numbers using a list comprehension\n",
        "random_tuple = tuple(random.randint(1, 100) for _ in range(10))  # Generating 10 random numbers between 1 and 100\n",
        "\n",
        "# Print the tuple of random numbers\n",
        "print(\"Random tuple:\", random_tuple)"
      ]
    },
    {
      "cell_type": "markdown",
      "metadata": {
        "id": "Q-r1EP2f-qSs"
      },
      "source": [
        "## **38. Check if a tuple is sorted.**"
      ]
    },
    {
      "cell_type": "code",
      "execution_count": null,
      "metadata": {
        "colab": {
          "base_uri": "https://localhost:8080/"
        },
        "id": "U1qeXetYcuXI",
        "outputId": "0dfe992e-abf8-4c36-ebe1-859e324674c3"
      },
      "outputs": [
        {
          "name": "stdout",
          "output_type": "stream",
          "text": [
            "sorted_tuple is sorted: True\n",
            "unsorted_tuple is sorted: False\n"
          ]
        }
      ],
      "source": [
        "# Function to check if a tuple is sorted\n",
        "def is_sorted(tup):\n",
        "    for i in range(len(tup) - 1):\n",
        "        if tup[i] > tup[i + 1]:\n",
        "            return False\n",
        "    return True\n",
        "\n",
        "# Create tuples for testing\n",
        "sorted_tuple = (1, 2, 3, 4, 5)\n",
        "unsorted_tuple = (5, 3, 1, 4, 2)\n",
        "\n",
        "# Check if the tuples are sorted\n",
        "is_sorted1 = is_sorted(sorted_tuple)\n",
        "is_sorted2 = is_sorted(unsorted_tuple)\n",
        "\n",
        "# Print the results\n",
        "print(\"sorted_tuple is sorted:\", is_sorted1)\n",
        "print(\"unsorted_tuple is sorted:\", is_sorted2)"
      ]
    },
    {
      "cell_type": "markdown",
      "metadata": {
        "id": "Gh8Hd_Fx-qKr"
      },
      "source": [
        "## **39. Rotate a tuple to the left by `n` positions.**"
      ]
    },
    {
      "cell_type": "code",
      "execution_count": null,
      "metadata": {
        "colab": {
          "base_uri": "https://localhost:8080/"
        },
        "id": "uejMlLpj7ShG",
        "outputId": "ce1b272c-b7bf-4116-c75d-6c5a7e8ed080"
      },
      "outputs": [
        {
          "name": "stdout",
          "output_type": "stream",
          "text": [
            "(3, 4, 5, 1, 2)\n"
          ]
        }
      ],
      "source": [
        "def rotate_tuple_left(tup, n):\n",
        "    n = n % len(tup)  # Ensure n is within the range of tuple length\n",
        "    rotated_tuple = tup[n:] + tup[:n]  # Rotate the tuple\n",
        "    return rotated_tuple\n",
        "\n",
        "# Example tuple\n",
        "my_tuple = (1, 2, 3, 4, 5)\n",
        "n_positions = 2\n",
        "result = rotate_tuple_left(my_tuple, n_positions)\n",
        "print(result)"
      ]
    },
    {
      "cell_type": "markdown",
      "metadata": {
        "id": "r-LUhANc-qHO"
      },
      "source": [
        "## **40. Rotate a tuple to the right by `n` positions.**"
      ]
    },
    {
      "cell_type": "code",
      "execution_count": null,
      "metadata": {
        "colab": {
          "base_uri": "https://localhost:8080/"
        },
        "id": "xJ3dNZMw7iVo",
        "outputId": "5d24c9fd-134d-4537-f48c-e65c0f6ee0ac"
      },
      "outputs": [
        {
          "name": "stdout",
          "output_type": "stream",
          "text": [
            "(4, 5, 1, 2, 3)\n"
          ]
        }
      ],
      "source": [
        "def rotate_tuple_right(tup, n):\n",
        "    n = n % len(tup)  # Ensure n is within the range of tuple length\n",
        "    rotated_tuple = tup[-n:] + tup[:-n]  # Rotate the tuple\n",
        "    return rotated_tuple\n",
        "\n",
        "# Example tuple\n",
        "my_tuple = (1, 2, 3, 4, 5)\n",
        "n_positions = 2\n",
        "result = rotate_tuple_right(my_tuple, n_positions)\n",
        "print(result)"
      ]
    },
    {
      "cell_type": "markdown",
      "metadata": {
        "id": "v1QLjAfU-qD0"
      },
      "source": [
        "## **41. Create a tuple of the first 5 Fibonacci numbers.**"
      ]
    },
    {
      "cell_type": "code",
      "execution_count": null,
      "metadata": {
        "colab": {
          "base_uri": "https://localhost:8080/"
        },
        "id": "X7dXQVvC8QTC",
        "outputId": "f07f5665-bbbc-481f-e2c4-b79fe78e2066"
      },
      "outputs": [
        {
          "name": "stdout",
          "output_type": "stream",
          "text": [
            "(0, 1, 1, 2, 3)\n"
          ]
        }
      ],
      "source": [
        "# Define a function to generate the first n Fibonacci numbers\n",
        "def generate_fibonacci(n):\n",
        "    fibonacci = [0, 1]  # Initialize the list with the first two Fibonacci numbers\n",
        "    while len(fibonacci) < n:  # Continue generating Fibonacci numbers until the list has n elements\n",
        "        next_number = fibonacci[-1] + fibonacci[-2]  # Calculate the next Fibonacci number\n",
        "        fibonacci.append(next_number)  # Add the next Fibonacci number to the list\n",
        "    return tuple(fibonacci)  # Convert the list to a tuple and return it\n",
        "\n",
        "# Call the generate_fibonacci function to create a tuple of the first 5 Fibonacci numbers\n",
        "fibonacci_tuple = generate_fibonacci(5)\n",
        "\n",
        "# Print the resulting tuple\n",
        "print(fibonacci_tuple)"
      ]
    },
    {
      "cell_type": "markdown",
      "metadata": {
        "id": "8zPtSB8B-qAY"
      },
      "source": [
        "## **42. Create a tuple from user input.**"
      ]
    },
    {
      "cell_type": "code",
      "execution_count": null,
      "metadata": {
        "colab": {
          "base_uri": "https://localhost:8080/"
        },
        "id": "-mF1Epj684Av",
        "outputId": "bb988aa9-5bfe-4551-92ad-e71050dea291"
      },
      "outputs": [
        {
          "name": "stdout",
          "output_type": "stream",
          "text": [
            "Enter elements separated by commas: s,e,r,,t,y,y,u,\n",
            "User input tuple: ('s', 'e', 'r', '', 't', 'y', 'y', 'u', '')\n"
          ]
        }
      ],
      "source": [
        "# Taking user input for creating a tuple\n",
        "input_str = input(\"Enter elements separated by commas: \")\n",
        "\n",
        "# Splitting the input string into a list of strings\n",
        "input_list = input_str.split(',')\n",
        "\n",
        "# Converting the list of strings to a tuple\n",
        "user_tuple = tuple(input_list)\n",
        "\n",
        "# Printing the created tuple\n",
        "print(\"User input tuple:\", user_tuple)"
      ]
    },
    {
      "cell_type": "markdown",
      "metadata": {
        "id": "i8hDe_OM83yg"
      },
      "source": [
        "In this code, the user is prompted to enter elements separated by commas. The input is split into a list of strings using the split() method, and then converted into a tuple using the tuple() constructor. Finally, the created tuple is printed to the console."
      ]
    },
    {
      "cell_type": "markdown",
      "metadata": {
        "id": "8efVnYAd-p89"
      },
      "source": [
        "## **43. Swap two elements in a tuple.**"
      ]
    },
    {
      "cell_type": "code",
      "execution_count": null,
      "metadata": {
        "colab": {
          "base_uri": "https://localhost:8080/"
        },
        "id": "mjbBK80Q88Ea",
        "outputId": "c7c6d4e4-55ef-4264-b6a8-5dc8789ed9b5"
      },
      "outputs": [
        {
          "name": "stdout",
          "output_type": "stream",
          "text": [
            "Swapped tuple: (1, 4, 3, 2, 5)\n"
          ]
        }
      ],
      "source": [
        "# Create a tuple\n",
        "my_tuple = (1, 2, 3, 4, 5)\n",
        "\n",
        "# Swap elements at indices 1 and 3\n",
        "index1 = 1\n",
        "index2 = 3\n",
        "swapped_tuple = tuple(\n",
        "    my_tuple[i] if i not in (index1, index2) else\n",
        "    my_tuple[index2] if i == index1 else\n",
        "    my_tuple[index1]\n",
        "    for i in range(len(my_tuple))\n",
        ")\n",
        "\n",
        "# Print the swapped tuple\n",
        "print(\"Swapped tuple:\", swapped_tuple)"
      ]
    },
    {
      "cell_type": "markdown",
      "metadata": {
        "id": "rihKk1jR-p5e"
      },
      "source": [
        "## **44. Reverse the elements of a tuple.**"
      ]
    },
    {
      "cell_type": "code",
      "execution_count": null,
      "metadata": {
        "colab": {
          "base_uri": "https://localhost:8080/"
        },
        "id": "GLjlZw0T9tnx",
        "outputId": "00266414-0565-459d-8021-df3b7da2ad80"
      },
      "outputs": [
        {
          "name": "stdout",
          "output_type": "stream",
          "text": [
            "Reversed tuple: (5, 4, 3, 2, 1)\n"
          ]
        }
      ],
      "source": [
        "# Create a tuple\n",
        "my_tuple = (1, 2, 3, 4, 5)\n",
        "\n",
        "# Reverse the elements using slicing\n",
        "reversed_tuple = my_tuple[::-1]\n",
        "\n",
        "# Print the reversed tuple\n",
        "print(\"Reversed tuple:\", reversed_tuple)"
      ]
    },
    {
      "cell_type": "markdown",
      "metadata": {
        "id": "5CS0c5DB-p2E"
      },
      "source": [
        "## **45. Create a tuple of the first `n` powers of 2.**"
      ]
    },
    {
      "cell_type": "code",
      "execution_count": null,
      "metadata": {
        "colab": {
          "base_uri": "https://localhost:8080/"
        },
        "id": "VF-6y5Es-BWy",
        "outputId": "470bfaa8-c313-4491-9e5d-e1293ce9348d"
      },
      "outputs": [
        {
          "name": "stdout",
          "output_type": "stream",
          "text": [
            "Tuple of the first 5 powers of 2: (1, 2, 4, 8, 16)\n"
          ]
        }
      ],
      "source": [
        "# Define the value of n\n",
        "n = 5\n",
        "\n",
        "# Create a tuple of the first n powers of 2 using a list comprehension\n",
        "powers_of_2_tuple = tuple(2 ** i for i in range(n))\n",
        "\n",
        "# Print the tuple of powers of 2\n",
        "print(\"Tuple of the first\", n, \"powers of 2:\", powers_of_2_tuple)"
      ]
    },
    {
      "cell_type": "markdown",
      "metadata": {
        "id": "z5AJecfk-pyj"
      },
      "source": [
        "## **46. Find the longest string in a tuple of strings.**"
      ]
    },
    {
      "cell_type": "code",
      "execution_count": null,
      "metadata": {
        "colab": {
          "base_uri": "https://localhost:8080/"
        },
        "id": "KJhQzMDG-Y0O",
        "outputId": "84217ebe-8e3d-42d2-f1de-7f0448bcd18c"
      },
      "outputs": [
        {
          "name": "stdout",
          "output_type": "stream",
          "text": [
            "Longest string: watermelon\n"
          ]
        }
      ],
      "source": [
        "# Create a tuple of strings\n",
        "string_tuple = (\"apple\", \"banana\", \"grape\", \"kiwi\", \"watermelon\")\n",
        "\n",
        "# Find the longest string in the tuple\n",
        "longest_string = max(string_tuple, key=len)\n",
        "\n",
        "# Print the longest string\n",
        "print(\"Longest string:\", longest_string)"
      ]
    },
    {
      "cell_type": "markdown",
      "metadata": {
        "id": "VNRfd3cO-pu_"
      },
      "source": [
        "## **47. Find the shortest string in a tuple of strings.**"
      ]
    },
    {
      "cell_type": "code",
      "execution_count": null,
      "metadata": {
        "colab": {
          "base_uri": "https://localhost:8080/"
        },
        "id": "LN5WYQML-zCd",
        "outputId": "66a4302a-2842-4722-af44-8158ced93020"
      },
      "outputs": [
        {
          "name": "stdout",
          "output_type": "stream",
          "text": [
            "Shortest string: kiwi\n"
          ]
        }
      ],
      "source": [
        "# Create a tuple of strings\n",
        "string_tuple = (\"apple\", \"banana\", \"grape\", \"kiwi\", \"watermelon\")\n",
        "\n",
        "# Find the shortest string in the tuple\n",
        "shortest_string = min(string_tuple, key=len)\n",
        "\n",
        "# Print the shortest string\n",
        "print(\"Shortest string:\", shortest_string)"
      ]
    },
    {
      "cell_type": "markdown",
      "metadata": {
        "id": "Xj9iIlkK-prR"
      },
      "source": [
        "## **48. Create a tuple of the first `n` triangular numbers.**"
      ]
    },
    {
      "cell_type": "code",
      "execution_count": null,
      "metadata": {
        "colab": {
          "base_uri": "https://localhost:8080/"
        },
        "id": "Fjs9tenZ_mY3",
        "outputId": "e4c1aed2-07d5-4f28-9b93-2d9bf4e7acec"
      },
      "outputs": [
        {
          "name": "stdout",
          "output_type": "stream",
          "text": [
            "Tuple of the first 5 triangular numbers: (1, 3, 6, 10, 15)\n"
          ]
        }
      ],
      "source": [
        "# Define the value of n\n",
        "n = 5\n",
        "\n",
        "# Create a tuple of the first n triangular numbers using a list comprehension\n",
        "triangular_numbers_tuple = tuple((i * (i + 1)) // 2 for i in range(1, n + 1))\n",
        "\n",
        "# Print the tuple of triangular numbers\n",
        "print(\"Tuple of the first\", n, \"triangular numbers:\", triangular_numbers_tuple)"
      ]
    },
    {
      "cell_type": "markdown",
      "metadata": {
        "id": "-hT62MMO-pko"
      },
      "source": [
        "## **49. Check if a tuple contains another tuple as a subsequence.**"
      ]
    },
    {
      "cell_type": "code",
      "execution_count": null,
      "metadata": {
        "colab": {
          "base_uri": "https://localhost:8080/"
        },
        "id": "Q0sFzkTW_tgc",
        "outputId": "7b2f9971-db85-40db-c4d2-262f946d4135"
      },
      "outputs": [
        {
          "name": "stdout",
          "output_type": "stream",
          "text": [
            "Main tuple contains subsequence tuple: True\n"
          ]
        }
      ],
      "source": [
        "# Function to check if a tuple contains another tuple as a subsequence\n",
        "def contains_subsequence(main_tuple, sub_tuple):\n",
        "    sub_length = len(sub_tuple)\n",
        "    for i in range(len(main_tuple) - sub_length + 1):\n",
        "        if main_tuple[i:i+sub_length] == sub_tuple:\n",
        "            return True\n",
        "    return False\n",
        "\n",
        "# Main tuple\n",
        "main_tuple = (1, 2, 3, 4, 5, 6, 7, 8, 9)\n",
        "\n",
        "# Subsequence tuple\n",
        "sub_tuple = (3, 4, 5)\n",
        "\n",
        "# Check if the main tuple contains the subsequence tuple\n",
        "contains_subseq = contains_subsequence(main_tuple, sub_tuple)\n",
        "\n",
        "# Print the result\n",
        "print(\"Main tuple contains subsequence tuple:\", contains_subseq)"
      ]
    },
    {
      "cell_type": "markdown",
      "metadata": {
        "id": "FRkzPck9-phJ"
      },
      "source": [
        "## **50. Create a tuple of alternating 1s and 0s of length `n`.**"
      ]
    },
    {
      "cell_type": "code",
      "execution_count": null,
      "metadata": {
        "colab": {
          "base_uri": "https://localhost:8080/"
        },
        "id": "N3PQL1u4_-Oq",
        "outputId": "84c475a5-43ce-4e32-a642-3701e8b3a705"
      },
      "outputs": [
        {
          "name": "stdout",
          "output_type": "stream",
          "text": [
            "Tuple of alternating 1s and 0s: (0, 1, 0, 1, 0, 1, 0, 1, 0, 1)\n"
          ]
        }
      ],
      "source": [
        "# Define the value of n\n",
        "n = 10\n",
        "\n",
        "# Create a tuple of alternating 1s and 0s using a list comprehension\n",
        "alternating_tuple = tuple(i % 2 for i in range(n))\n",
        "\n",
        "# Print the tuple of alternating 1s and 0s\n",
        "print(\"Tuple of alternating 1s and 0s:\", alternating_tuple)"
      ]
    },
    {
      "cell_type": "markdown",
      "metadata": {
        "id": "6gw6w0TOYqQq"
      },
      "source": [
        "## **Topic Set based problems:**\n",
        "\n",
        "---\n"
      ]
    },
    {
      "cell_type": "markdown",
      "metadata": {
        "id": "vsxhD59xYqF8"
      },
      "source": [
        "## **1. Create a set with integers from 1 to 5**"
      ]
    },
    {
      "cell_type": "code",
      "execution_count": null,
      "metadata": {
        "colab": {
          "base_uri": "https://localhost:8080/"
        },
        "id": "A3mCGLnbYjNU",
        "outputId": "653f88c3-e85a-4436-b3ce-086924c99b2e"
      },
      "outputs": [
        {
          "name": "stdout",
          "output_type": "stream",
          "text": [
            "{1, 2, 3, 4, 5}\n"
          ]
        }
      ],
      "source": [
        "# Step 1: Create an empty set\n",
        "my_set = set()\n",
        "\n",
        "# Step 2: Add integers from 1 to 5 to the set\n",
        "my_set.add(1)\n",
        "my_set.add(2)\n",
        "my_set.add(3)\n",
        "my_set.add(4)\n",
        "my_set.add(5)\n",
        "\n",
        "# Step 3: Print the final set\n",
        "print(my_set)## Set based problems:"
      ]
    },
    {
      "cell_type": "markdown",
      "metadata": {
        "id": "6CH5EoysY3YU"
      },
      "source": [
        "## **2. Add an element to a set**"
      ]
    },
    {
      "cell_type": "code",
      "execution_count": null,
      "metadata": {
        "colab": {
          "base_uri": "https://localhost:8080/"
        },
        "id": "wjEVlGIHYjJ5",
        "outputId": "1a989c97-a66b-42f3-de66-4a3d9dee2167"
      },
      "outputs": [
        {
          "name": "stdout",
          "output_type": "stream",
          "text": [
            "Original set: {1, 2, 3, 4, 5}\n",
            "Set after adding element: {1, 2, 3, 4, 5, 6}\n"
          ]
        }
      ],
      "source": [
        "# Step 1: Create a set\n",
        "my_set = {1, 2, 3, 4, 5}\n",
        "\n",
        "# Step 2: Display the original set\n",
        "print(\"Original set:\", my_set)\n",
        "\n",
        "# Step 3: Add an element to the set\n",
        "element_to_add = 6\n",
        "my_set.add(element_to_add)\n",
        "\n",
        "# Step 4: Display the modified set\n",
        "print(\"Set after adding element:\", my_set)"
      ]
    },
    {
      "cell_type": "markdown",
      "metadata": {
        "id": "v1zErTc3Y4Zd"
      },
      "source": [
        "## **3. Remove an element from a set.**\n"
      ]
    },
    {
      "cell_type": "code",
      "execution_count": null,
      "metadata": {
        "colab": {
          "base_uri": "https://localhost:8080/"
        },
        "id": "C59TRXqkYxDS",
        "outputId": "421c688f-46d2-4128-ee63-53029bbc1faf"
      },
      "outputs": [
        {
          "name": "stdout",
          "output_type": "stream",
          "text": [
            "Original Set: {1, 2, 3, 4, 5}\n",
            "Set after removing 3 : {1, 2, 4, 5}\n"
          ]
        }
      ],
      "source": [
        "# Step 1: Create a set with some elements\n",
        "my_set = {1, 2, 3, 4, 5}\n",
        "\n",
        "# Step 2: Print the original set\n",
        "print(\"Original Set:\", my_set)\n",
        "\n",
        "# Step 3: Choose an element to remove\n",
        "element_to_remove = 3\n",
        "\n",
        "# Step 4: Use the remove() method to remove the chosen element\n",
        "# Note: If the element is not present in the set, remove() raises a KeyError.\n",
        "my_set.remove(element_to_remove)\n",
        "\n",
        "# Step 5: Print the modified set after removal\n",
        "print(\"Set after removing\", element_to_remove, \":\", my_set)"
      ]
    },
    {
      "cell_type": "markdown",
      "metadata": {
        "id": "EjGpcHWxY6pm"
      },
      "source": [
        "## **4. Check if an element exists in a set.**\n"
      ]
    },
    {
      "cell_type": "code",
      "execution_count": null,
      "metadata": {
        "colab": {
          "base_uri": "https://localhost:8080/"
        },
        "id": "CADHZWXTYjHB",
        "outputId": "0d229900-2e80-439f-abe6-c1977806eb93"
      },
      "outputs": [
        {
          "name": "stdout",
          "output_type": "stream",
          "text": [
            "Enter the element to check: 10\n",
            "10 does not exist in the set.\n"
          ]
        }
      ],
      "source": [
        "# Step 1: Create a set with some elements\n",
        "my_set = {1, 3, 5, 7, 9}\n",
        "\n",
        "# Step 2: Ask the user for the element they want to check\n",
        "element_to_check = int(input(\"Enter the element to check: \"))\n",
        "\n",
        "# Step 3: Use the \"in\" keyword to check if the element exists in the set\n",
        "if element_to_check in my_set:\n",
        "    # Step 4: If the element exists in the set, print a message\n",
        "    print(f\"{element_to_check} exists in the set.\")\n",
        "else:\n",
        "    # Step 5: If the element does not exist in the set, print a message\n",
        "    print(f\"{element_to_check} does not exist in the set.\")"
      ]
    },
    {
      "cell_type": "markdown",
      "metadata": {
        "id": "ACEGPlB6Y824"
      },
      "source": [
        "## **5. Find the length of a set without using the `len()` function**"
      ]
    },
    {
      "cell_type": "code",
      "execution_count": null,
      "metadata": {
        "colab": {
          "base_uri": "https://localhost:8080/"
        },
        "id": "-5EkSWVyYjEN",
        "outputId": "521afba7-5a93-4c8c-f737-9024a808279b"
      },
      "outputs": [
        {
          "name": "stdout",
          "output_type": "stream",
          "text": [
            "Length of the set: 5\n"
          ]
        }
      ],
      "source": [
        "# Create a set with some elements\n",
        "my_set = {1, 2, 3, 4, 5}\n",
        "\n",
        "# Initialize a variable to count the elements in the set\n",
        "count = 0\n",
        "\n",
        "# Iterate through each element in the set\n",
        "for _ in my_set:\n",
        "    # Increase the count by 1 for each element\n",
        "    count += 1\n",
        "\n",
        "# Print the count, which is the length of the set\n",
        "print(\"Length of the set:\", count)"
      ]
    },
    {
      "cell_type": "markdown",
      "metadata": {
        "id": "fCqHa_p4Y-pW"
      },
      "source": [
        "## **6. Clear all elements from a set.**"
      ]
    },
    {
      "cell_type": "code",
      "execution_count": null,
      "metadata": {
        "colab": {
          "base_uri": "https://localhost:8080/"
        },
        "id": "yNDEcdrjYyEe",
        "outputId": "3085dca4-dd07-49c9-e678-64ba8c884e06"
      },
      "outputs": [
        {
          "name": "stdout",
          "output_type": "stream",
          "text": [
            "Original set: {1, 2, 3, 4, 5}\n",
            "Set after clearing: set()\n"
          ]
        }
      ],
      "source": [
        "# Step 1: Create a set with some elements\n",
        "my_set = {1, 2, 3, 4, 5}\n",
        "\n",
        "# Step 2: Display the original set\n",
        "print(\"Original set:\", my_set)\n",
        "\n",
        "# Step 3: Clear all elements from the set using the clear() method\n",
        "my_set.clear()\n",
        "\n",
        "# Step 4: Display the set after clearing\n",
        "print(\"Set after clearing:\", my_set)\n"
      ]
    },
    {
      "cell_type": "markdown",
      "metadata": {
        "id": "dWsAh2vHZArU"
      },
      "source": [
        "## **7. Create a set of even numbers from 1 to 10**"
      ]
    },
    {
      "cell_type": "code",
      "execution_count": null,
      "metadata": {
        "colab": {
          "base_uri": "https://localhost:8080/"
        },
        "id": "e0QIGW4vYjBL",
        "outputId": "e92c6d61-9716-497f-cdb0-b3ab1eb81c87"
      },
      "outputs": [
        {
          "name": "stdout",
          "output_type": "stream",
          "text": [
            "{2, 4, 6, 8, 10}\n"
          ]
        }
      ],
      "source": [
        "# Step 1: Initialize an empty set\n",
        "even_numbers_set = set()\n",
        "\n",
        "# Step 2: Iterate through numbers from 1 to 10\n",
        "for num in range(1, 11):\n",
        "    # Step 3: Check if the number is even\n",
        "    if num % 2 == 0:\n",
        "        # Step 4: Add the even number to the set\n",
        "        even_numbers_set.add(num)\n",
        "\n",
        "# Step 5: Print the set of even numbers\n",
        "print(even_numbers_set)"
      ]
    },
    {
      "cell_type": "markdown",
      "metadata": {
        "id": "JhHxULmlZC-D"
      },
      "source": [
        "## **8. Create a set of odd numbers from 1 to 10**"
      ]
    },
    {
      "cell_type": "code",
      "execution_count": null,
      "metadata": {
        "colab": {
          "base_uri": "https://localhost:8080/"
        },
        "id": "JlNsb7eDYy6I",
        "outputId": "506d26b6-0e67-4acb-d123-c9c2d7973241"
      },
      "outputs": [
        {
          "name": "stdout",
          "output_type": "stream",
          "text": [
            "{1, 3, 5, 7, 9}\n"
          ]
        }
      ],
      "source": [
        "# Step 1: Initialize an empty set to store odd numbers.\n",
        "odd_numbers_set = set()\n",
        "\n",
        "# Step 2: Iterate through numbers from 1 to 10.\n",
        "for num in range(1, 11):\n",
        "    # Step 3: Check if the current number is odd.\n",
        "    if num % 2 != 0:\n",
        "        # Step 4: If the number is odd, add it to the set.\n",
        "        odd_numbers_set.add(num)\n",
        "\n",
        "# Step 5: Print the final set of odd numbers.\n",
        "print(odd_numbers_set)"
      ]
    },
    {
      "cell_type": "markdown",
      "metadata": {
        "id": "bm27U_-oZFBw"
      },
      "source": [
        "### **9. Find the union of two sets**"
      ]
    },
    {
      "cell_type": "code",
      "execution_count": null,
      "metadata": {
        "colab": {
          "base_uri": "https://localhost:8080/"
        },
        "id": "jQMHjyfuYi-T",
        "outputId": "072fd106-1ab5-499b-ae20-0240ca3bfd11"
      },
      "outputs": [
        {
          "name": "stdout",
          "output_type": "stream",
          "text": [
            "Set 1: {1, 2, 3, 4, 5}\n",
            "Set 2: {4, 5, 6, 7, 8}\n",
            "Union of Set 1 and Set 2: {1, 2, 3, 4, 5, 6, 7, 8}\n"
          ]
        }
      ],
      "source": [
        "# Define two sets\n",
        "set1 = {1, 2, 3, 4, 5}\n",
        "set2 = {4, 5, 6, 7, 8}\n",
        "\n",
        "# Find the union of the two sets using the `union()` method\n",
        "union_result = set1.union(set2)\n",
        "\n",
        "# Print the original sets and their union\n",
        "print(\"Set 1:\", set1)\n",
        "print(\"Set 2:\", set2)\n",
        "print(\"Union of Set 1 and Set 2:\", union_result)"
      ]
    },
    {
      "cell_type": "markdown",
      "metadata": {
        "id": "zdXrlrkMZG3Q"
      },
      "source": [
        "## **10. Find the intersection of two sets**"
      ]
    },
    {
      "cell_type": "code",
      "execution_count": null,
      "metadata": {
        "colab": {
          "base_uri": "https://localhost:8080/"
        },
        "id": "2O1bwW6_Yi7h",
        "outputId": "bad8a1c6-999e-41a9-ae96-dcbf9ca084fe"
      },
      "outputs": [
        {
          "name": "stdout",
          "output_type": "stream",
          "text": [
            "Set 1: {1, 2, 3, 4, 5}\n",
            "Set 2: {3, 4, 5, 6, 7}\n",
            "Intersection: {3, 4, 5}\n"
          ]
        }
      ],
      "source": [
        "# Create two sets\n",
        "set1 = {1, 2, 3, 4, 5}\n",
        "set2 = {3, 4, 5, 6, 7}\n",
        "\n",
        "# Find the intersection using the intersection() method\n",
        "intersection_result = set1.intersection(set2)\n",
        "\n",
        "# Print the original sets and the intersection\n",
        "print(\"Set 1:\", set1)\n",
        "print(\"Set 2:\", set2)\n",
        "print(\"Intersection:\", intersection_result)"
      ]
    },
    {
      "cell_type": "markdown",
      "metadata": {
        "id": "TRcsWObIZIbw"
      },
      "source": [
        "## **11. Find the difference between two sets.**"
      ]
    },
    {
      "cell_type": "code",
      "execution_count": null,
      "metadata": {
        "colab": {
          "base_uri": "https://localhost:8080/"
        },
        "id": "rkYzuHn3Yi4h",
        "outputId": "a3a32d2a-6e00-48a5-9a76-9abacd6695b2"
      },
      "outputs": [
        {
          "name": "stdout",
          "output_type": "stream",
          "text": [
            "Set 1: {1, 2, 3, 4, 5}\n",
            "Set 2: {3, 4, 5, 6, 7}\n",
            "Difference: {1, 2}\n"
          ]
        }
      ],
      "source": [
        "# Create two sets\n",
        "set1 = {1, 2, 3, 4, 5}\n",
        "set2 = {3, 4, 5, 6, 7}\n",
        "\n",
        "# Find the difference between the sets using the difference() method\n",
        "difference_set = set1.difference(set2)\n",
        "\n",
        "# Print the original sets and the difference set\n",
        "print(\"Set 1:\", set1)\n",
        "print(\"Set 2:\", set2)\n",
        "print(\"Difference:\", difference_set)"
      ]
    },
    {
      "cell_type": "markdown",
      "metadata": {
        "id": "xhO7bVQvZ7KL"
      },
      "source": [
        "## **12. Check if a set is a subset of another set.**"
      ]
    },
    {
      "cell_type": "code",
      "execution_count": null,
      "metadata": {
        "colab": {
          "base_uri": "https://localhost:8080/"
        },
        "id": "u79tpzFTYi1j",
        "outputId": "fa10f4f8-f30c-4eba-c2f7-55fd3e1e9c26"
      },
      "outputs": [
        {
          "name": "stdout",
          "output_type": "stream",
          "text": [
            "Is set1 a subset of set2: True\n"
          ]
        }
      ],
      "source": [
        "# Define the two sets\n",
        "set1 = {1, 2, 3}\n",
        "set2 = {1, 2, 3, 4, 5}\n",
        "\n",
        "# Use the \"issubset()\" method to check if set1 is a subset of set2\n",
        "is_subset = set1.issubset(set2)\n",
        "\n",
        "# Print the result\n",
        "print(\"Is set1 a subset of set2:\", is_subset)"
      ]
    },
    {
      "cell_type": "markdown",
      "metadata": {
        "id": "BuMGQuBXZ95S"
      },
      "source": [
        "## **13. Check if a set is a superset of another set.**"
      ]
    },
    {
      "cell_type": "code",
      "execution_count": null,
      "metadata": {
        "colab": {
          "base_uri": "https://localhost:8080/"
        },
        "id": "9pMjOPQnYiyi",
        "outputId": "52cca78b-2715-4ffe-8fa8-2c179b46b20a"
      },
      "outputs": [
        {
          "name": "stdout",
          "output_type": "stream",
          "text": [
            "set1 is a superset of set2\n"
          ]
        }
      ],
      "source": [
        "# Create two sets\n",
        "set1 = {1, 2, 3, 4, 5, 6}\n",
        "set2 = {3, 4}\n",
        "\n",
        "# Check if set1 is a superset of set2\n",
        "is_superset = set1.issuperset(set2)\n",
        "\n",
        "# Print the result\n",
        "if is_superset:\n",
        "    print(\"set1 is a superset of set2\")\n",
        "else:\n",
        "    print(\"set1 is not a superset of set2\")"
      ]
    },
    {
      "cell_type": "markdown",
      "metadata": {
        "id": "sfSbUGqyZ_OI"
      },
      "source": [
        "## **14. Create a set from a list**"
      ]
    },
    {
      "cell_type": "code",
      "execution_count": null,
      "metadata": {
        "colab": {
          "base_uri": "https://localhost:8080/"
        },
        "id": "onE1v56iYivZ",
        "outputId": "bfab6ab5-d400-4e97-dd57-7be2d07e16d2"
      },
      "outputs": [
        {
          "name": "stdout",
          "output_type": "stream",
          "text": [
            "Original List: [2, 4, 1, 4, 3, 2, 5]\n",
            "Set from List: {1, 2, 3, 4, 5}\n"
          ]
        }
      ],
      "source": [
        "# Step 1: Create a list of elements\n",
        "my_list = [2, 4, 1, 4, 3, 2, 5]\n",
        "\n",
        "# Step 2: Use the set() constructor to convert the list into a set\n",
        "# This automatically removes duplicates and creates a set with unique elements\n",
        "my_set = set(my_list)\n",
        "\n",
        "# Step 3: Print the original list and the resulting set\n",
        "print(\"Original List:\", my_list)\n",
        "print(\"Set from List:\", my_set)"
      ]
    },
    {
      "cell_type": "markdown",
      "metadata": {
        "id": "AmIA-39UaARj"
      },
      "source": [
        "## **15. Convert a set to a list.**"
      ]
    },
    {
      "cell_type": "code",
      "execution_count": null,
      "metadata": {
        "colab": {
          "base_uri": "https://localhost:8080/"
        },
        "id": "BHrxOb9yYisV",
        "outputId": "97198eb8-4653-4464-9b03-6d5875acfe79"
      },
      "outputs": [
        {
          "name": "stdout",
          "output_type": "stream",
          "text": [
            "Original Set: {1, 2, 3, 4, 5, 6, 9}\n",
            "Converted List: [1, 2, 3, 4, 5, 6, 9]\n"
          ]
        }
      ],
      "source": [
        "# Step 1: Create a set with some elements\n",
        "my_set = {3, 1, 4, 1, 5, 9, 2, 6, 5}\n",
        "\n",
        "# Step 2: Convert the set to a list using the list() function\n",
        "my_list = list(my_set)\n",
        "\n",
        "# Now, my_list contains the elements from my_set in list format\n",
        "\n",
        "# Step 3: Print the original set and the converted list\n",
        "print(\"Original Set:\", my_set)\n",
        "print(\"Converted List:\", my_list)"
      ]
    },
    {
      "cell_type": "markdown",
      "metadata": {
        "id": "V-7QfOZ_aBap"
      },
      "source": [
        "## **16. Remove a random element from a set.**"
      ]
    },
    {
      "cell_type": "code",
      "execution_count": null,
      "metadata": {
        "colab": {
          "base_uri": "https://localhost:8080/"
        },
        "id": "8H_b7KCIYipP",
        "outputId": "ac8048fd-0102-47c4-f8df-1cb009ba2582"
      },
      "outputs": [
        {
          "name": "stdout",
          "output_type": "stream",
          "text": [
            "Original set: {1, 2, 3, 4, 5}\n",
            "Updated set after removing 3 : {1, 2, 4, 5}\n"
          ]
        }
      ],
      "source": [
        "import random  # Import the random module\n",
        "\n",
        "# Create a set with some elements\n",
        "my_set = {1, 2, 3, 4, 5}\n",
        "\n",
        "# Display the original set\n",
        "print(\"Original set:\", my_set)\n",
        "\n",
        "# Choose a random element from the set using the random.choice() function\n",
        "random_element = random.choice(list(my_set))\n",
        "\n",
        "# Remove the chosen random element from the set using the remove() method\n",
        "my_set.remove(random_element)\n",
        "\n",
        "# Display the updated set after removing the random element\n",
        "print(\"Updated set after removing\", random_element, \":\", my_set)"
      ]
    },
    {
      "cell_type": "markdown",
      "metadata": {
        "id": "-al0yFuuaCXW"
      },
      "source": [
        "## **17. Pop an element from a set.**"
      ]
    },
    {
      "cell_type": "code",
      "execution_count": null,
      "metadata": {
        "colab": {
          "base_uri": "https://localhost:8080/"
        },
        "id": "3sUmPdaPYimU",
        "outputId": "680d830f-f712-4169-838d-ca292a2e082f"
      },
      "outputs": [
        {
          "name": "stdout",
          "output_type": "stream",
          "text": [
            "Original set: {1, 2, 3, 4, 5}\n",
            "Popped element: 1\n",
            "Set after popping: {2, 3, 4, 5}\n"
          ]
        }
      ],
      "source": [
        "# Create a set with some elements\n",
        "my_set = {1, 2, 3, 4, 5}\n",
        "\n",
        "# Print the original set\n",
        "print(\"Original set:\", my_set)\n",
        "\n",
        "# Pop an element from the set using the pop() method\n",
        "popped_element = my_set.pop()\n",
        "\n",
        "# Print the element that was popped\n",
        "print(\"Popped element:\", popped_element)\n",
        "\n",
        "# Print the set after popping an element\n",
        "print(\"Set after popping:\", my_set)"
      ]
    },
    {
      "cell_type": "markdown",
      "metadata": {
        "id": "hocrZvXAaEC6"
      },
      "source": [
        "## **18. Check if two sets have no elements in common.**"
      ]
    },
    {
      "cell_type": "code",
      "execution_count": null,
      "metadata": {
        "colab": {
          "base_uri": "https://localhost:8080/"
        },
        "id": "00tOpMkoYijY",
        "outputId": "b6325b03-efb0-419f-83ad-7ba82d1ed317"
      },
      "outputs": [
        {
          "name": "stdout",
          "output_type": "stream",
          "text": [
            "The two sets have no elements in common.\n"
          ]
        }
      ],
      "source": [
        "# Step 1: Define two sets\n",
        "set1 = {1, 2, 3, 4}\n",
        "set2 = {5, 6, 7, 8}\n",
        "\n",
        "# Step 2: Check if the intersection of the two sets is empty\n",
        "# The intersection is the set of elements that are common to both sets\n",
        "common_elements = set1.intersection(set2)\n",
        "\n",
        "# Step 3: Check if the common_elements set is empty\n",
        "if not common_elements:\n",
        "    print(\"The two sets have no elements in common.\")\n",
        "else:\n",
        "    print(\"The two sets have common elements:\", common_elements)"
      ]
    },
    {
      "cell_type": "markdown",
      "metadata": {
        "id": "oH3lFxQEaFtx"
      },
      "source": [
        "## **19. Find the symmetric difference between two sets.**"
      ]
    },
    {
      "cell_type": "code",
      "execution_count": null,
      "metadata": {
        "colab": {
          "base_uri": "https://localhost:8080/"
        },
        "id": "YgS1DLb2YigQ",
        "outputId": "5e0120ec-b621-4398-bae6-6a93fd12a892"
      },
      "outputs": [
        {
          "name": "stdout",
          "output_type": "stream",
          "text": [
            "Symmetric Difference: {1, 2, 3, 6, 7, 8}\n"
          ]
        }
      ],
      "source": [
        "# Define two sets\n",
        "set1 = {1, 2, 3, 4, 5}\n",
        "set2 = {4, 5, 6, 7, 8}\n",
        "\n",
        "# Calculate the symmetric difference using the ^ operator\n",
        "symmetric_difference = set1 ^ set2\n",
        "\n",
        "# Print the symmetric difference\n",
        "print(\"Symmetric Difference:\", symmetric_difference)"
      ]
    },
    {
      "cell_type": "markdown",
      "metadata": {
        "id": "yEfCPJ2jaGuo"
      },
      "source": [
        "## **20. Update a set with elements from another set.**"
      ]
    },
    {
      "cell_type": "code",
      "execution_count": null,
      "metadata": {
        "colab": {
          "base_uri": "https://localhost:8080/"
        },
        "id": "az_qRREeYidY",
        "outputId": "8810db3c-22fc-4a24-d08b-67957002650d"
      },
      "outputs": [
        {
          "name": "stdout",
          "output_type": "stream",
          "text": [
            "Set 1: {1, 2, 3}\n",
            "Set 2: {3, 4, 5}\n",
            "Updated Set 1: {1, 2, 3, 4, 5}\n"
          ]
        }
      ],
      "source": [
        "# Create the first set\n",
        "set1 = {1, 2, 3}\n",
        "print(\"Set 1:\", set1)\n",
        "\n",
        "# Create the second set\n",
        "set2 = {3, 4, 5}\n",
        "print(\"Set 2:\", set2)\n",
        "\n",
        "# Update set1 with elements from set2\n",
        "set1.update(set2)\n",
        "print(\"Updated Set 1:\", set1)"
      ]
    },
    {
      "cell_type": "markdown",
      "metadata": {
        "id": "ZKJyjvYgaILF"
      },
      "source": [
        "## **21. Create a set of the first 5 prime numbers.**"
      ]
    },
    {
      "cell_type": "code",
      "execution_count": null,
      "metadata": {
        "colab": {
          "base_uri": "https://localhost:8080/"
        },
        "id": "iD2gtfocYiaa",
        "outputId": "1798b52b-73ed-417b-8b33-b8eabde6bfda"
      },
      "outputs": [
        {
          "name": "stdout",
          "output_type": "stream",
          "text": [
            "Set of the first 5 prime numbers: {2, 3, 5, 7, 11}\n"
          ]
        }
      ],
      "source": [
        "# Function to check if a number is prime\n",
        "def is_prime(num):\n",
        "    if num <= 1:\n",
        "        return False\n",
        "    for i in range(2, int(num ** 0.5) + 1):\n",
        "        if num % i == 0:\n",
        "            return False\n",
        "    return True\n",
        "\n",
        "# Create an empty set to store the prime numbers\n",
        "prime_set = set()\n",
        "\n",
        "# Initialize the number to start checking for primes\n",
        "num = 2\n",
        "\n",
        "# Loop until we have found the first 5 prime numbers\n",
        "while len(prime_set) < 5:\n",
        "    # Check if the current number is prime using the is_prime function\n",
        "    if is_prime(num):\n",
        "        # If the number is prime, add it to the prime_set\n",
        "        prime_set.add(num)\n",
        "\n",
        "    # Move on to the next number for the next iteration\n",
        "    num += 1\n",
        "\n",
        "# Print the set of prime numbers\n",
        "print(\"Set of the first 5 prime numbers:\", prime_set)"
      ]
    },
    {
      "cell_type": "markdown",
      "metadata": {
        "id": "JGwWg_o4aJnT"
      },
      "source": [
        "## **22. Check if two sets are identical.**"
      ]
    },
    {
      "cell_type": "code",
      "execution_count": null,
      "metadata": {
        "colab": {
          "base_uri": "https://localhost:8080/"
        },
        "id": "0tPpuNyFYiXt",
        "outputId": "a49903d4-683b-43c8-f54c-2b9a918c6678"
      },
      "outputs": [
        {
          "name": "stdout",
          "output_type": "stream",
          "text": [
            "The sets are identical.\n"
          ]
        }
      ],
      "source": [
        "# Step 1: Define two sets\n",
        "set1 = {1, 2, 3, 4, 5}\n",
        "set2 = {3, 1, 5, 2, 4}  # The order of elements doesn't matter in sets\n",
        "\n",
        "# Step 2: Check if the sets are identical using the `==` operator\n",
        "# Sets are unordered collections, so the order of elements doesn't matter.\n",
        "# The `==` operator compares the content of the sets.\n",
        "if set1 == set2:\n",
        "    print(\"The sets are identical.\")\n",
        "else:\n",
        "    print(\"The sets are not identical.\")"
      ]
    },
    {
      "cell_type": "markdown",
      "metadata": {
        "id": "T7pNYDF6aMBs"
      },
      "source": [
        "## **23. Create a frozen set**"
      ]
    },
    {
      "cell_type": "code",
      "execution_count": null,
      "metadata": {
        "colab": {
          "base_uri": "https://localhost:8080/"
        },
        "id": "NyhGtlcuYiUy",
        "outputId": "be610cbd-aa9b-46be-bb1a-30146b67c7ef"
      },
      "outputs": [
        {
          "name": "stdout",
          "output_type": "stream",
          "text": [
            "Frozen Set: frozenset({1, 2, 3, 4, 5})\n"
          ]
        }
      ],
      "source": [
        "# Step 2: Define a list of elements that you want to include in the frozen set\n",
        "elements = [1, 2, 3, 4, 5]\n",
        "\n",
        "# Step 3: Create a frozen set using the 'frozenset' constructor and passing the list of elements\n",
        "my_frozen_set = frozenset(elements)\n",
        "\n",
        "# Step 4: Print the frozen set\n",
        "print(\"Frozen Set:\", my_frozen_set)"
      ]
    },
    {
      "cell_type": "markdown",
      "metadata": {
        "id": "8t1QHhTGaNkx"
      },
      "source": [
        "## **24. Check if a set is disjoint with another set.**"
      ]
    },
    {
      "cell_type": "code",
      "execution_count": null,
      "metadata": {
        "colab": {
          "base_uri": "https://localhost:8080/"
        },
        "id": "azmLRLlFYiR8",
        "outputId": "2c2a778b-7e63-420a-98a7-349ba1e4fec0"
      },
      "outputs": [
        {
          "name": "stdout",
          "output_type": "stream",
          "text": [
            "Are the sets disjoint? True\n"
          ]
        }
      ],
      "source": [
        "# Step 1: Define the two sets you want to check for disjointness\n",
        "set1 = {1, 2, 3, 4}\n",
        "set2 = {5, 6, 7, 8}\n",
        "\n",
        "# Step 2: Use the `isdisjoint()` method to check if the sets are disjoint\n",
        "# The `isdisjoint()` method returns True if the sets have no common elements,\n",
        "# and False if they have at least one common element.\n",
        "disjoint_status = set1.isdisjoint(set2)\n",
        "\n",
        "# Step 3: Print the result\n",
        "print(\"Are the sets disjoint?\", disjoint_status)"
      ]
    },
    {
      "cell_type": "markdown",
      "metadata": {
        "id": "78aHwDdSaOqN"
      },
      "source": [
        "## **25. Create a set of squares of numbers from 1 to 5.**"
      ]
    },
    {
      "cell_type": "code",
      "execution_count": null,
      "metadata": {
        "colab": {
          "base_uri": "https://localhost:8080/"
        },
        "id": "1OXTOon5YiO7",
        "outputId": "6157f10f-1730-438e-af4f-5170cb7eba2c"
      },
      "outputs": [
        {
          "name": "stdout",
          "output_type": "stream",
          "text": [
            "{1, 4, 9, 16, 25}\n"
          ]
        }
      ],
      "source": [
        "# Step 1: Create an empty set to store the squares of numbers\n",
        "squares_set = set()\n",
        "\n",
        "# Step 2: Use a loop to iterate through numbers from 1 to 5\n",
        "for num in range(1, 6):\n",
        "    # Step 3: Calculate the square of the current number\n",
        "    square = num ** 2\n",
        "\n",
        "    # Step 4: Add the square to the set\n",
        "    squares_set.add(square)\n",
        "\n",
        "# Step 5: Print the set of squares\n",
        "print(squares_set)"
      ]
    },
    {
      "cell_type": "markdown",
      "metadata": {
        "id": "yg6BV3LFaPyS"
      },
      "source": [
        "## **26. Filter out all even numbers from a set.**"
      ]
    },
    {
      "cell_type": "code",
      "execution_count": null,
      "metadata": {
        "colab": {
          "base_uri": "https://localhost:8080/"
        },
        "id": "FW6izDjfYiL7",
        "outputId": "8d85d855-4313-40b3-85fd-85d875aa89dd"
      },
      "outputs": [
        {
          "name": "stdout",
          "output_type": "stream",
          "text": [
            "Original Set: {1, 2, 3, 4, 5}\n",
            "Even Numbers Set: {2, 4}\n"
          ]
        }
      ],
      "source": [
        "# Step 1: Create a set with integers from 1 to 5\n",
        "original_set = {1, 2, 3, 4, 5}\n",
        "\n",
        "# Step 2: Initialize an empty set to store the filtered even numbers\n",
        "even_numbers_set = set()\n",
        "\n",
        "# Step 3: Iterate through each element in the original set\n",
        "for num in original_set:\n",
        "    # Step 4: Check if the current number is even (divisible by 2)\n",
        "    if num % 2 == 0:\n",
        "        # Step 5: If even, add it to the even_numbers_set\n",
        "        even_numbers_set.add(num)\n",
        "\n",
        "# Step 6: Print the original set and the set containing even numbers\n",
        "print(\"Original Set:\", original_set)\n",
        "print(\"Even Numbers Set:\", even_numbers_set)"
      ]
    },
    {
      "cell_type": "markdown",
      "metadata": {
        "id": "4i9GSoL1aQvs"
      },
      "source": [
        "## **27. Multiply all elements in a set by 2.**"
      ]
    },
    {
      "cell_type": "code",
      "execution_count": null,
      "metadata": {
        "colab": {
          "base_uri": "https://localhost:8080/"
        },
        "id": "Czs215VlYiJA",
        "outputId": "653080aa-b98b-450a-da59-97d5ac5863e9"
      },
      "outputs": [
        {
          "name": "stdout",
          "output_type": "stream",
          "text": [
            "Original Set: {1, 2, 3, 4, 5}\n",
            "Multiplied Set: {2, 4, 6, 8, 10}\n"
          ]
        }
      ],
      "source": [
        "# Create a set with integers from 1 to 5\n",
        "original_set = {1, 2, 3, 4, 5}\n",
        "\n",
        "# Initialize an empty set to store the multiplied elements\n",
        "multiplied_set = set()\n",
        "\n",
        "# Loop through each element in the original set\n",
        "for num in original_set:\n",
        "    # Multiply the current element by 2\n",
        "    multiplied_num = num * 2\n",
        "\n",
        "    # Add the multiplied element to the multiplied_set\n",
        "    multiplied_set.add(multiplied_num)\n",
        "\n",
        "# The original_set remains unchanged\n",
        "print(\"Original Set:\", original_set)\n",
        "\n",
        "# Display the set with elements multiplied by 2\n",
        "print(\"Multiplied Set:\", multiplied_set)"
      ]
    },
    {
      "cell_type": "markdown",
      "metadata": {
        "id": "5w2Pjxd0a3KZ"
      },
      "source": [
        "## **28. Create a set of random numbers.**"
      ]
    },
    {
      "cell_type": "code",
      "execution_count": null,
      "metadata": {
        "colab": {
          "base_uri": "https://localhost:8080/"
        },
        "id": "y0GmtDPVYiGA",
        "outputId": "d97bd173-e1ba-441c-db46-995c85a49102"
      },
      "outputs": [
        {
          "name": "stdout",
          "output_type": "stream",
          "text": [
            "Generated set of random numbers: {64, 4, 42, 56, 29}\n"
          ]
        }
      ],
      "source": [
        "# Step 1: Import the `random` module to generate random numbers\n",
        "import random\n",
        "\n",
        "# Step 2: Define the number of random numbers you want in the set\n",
        "num_random_numbers = 5\n",
        "\n",
        "# Step 3: Initialize an empty set to store the random numbers\n",
        "random_number_set = set()\n",
        "\n",
        "# Step 4: Use a loop to generate random numbers and add them to the set\n",
        "for _ in range(num_random_numbers):\n",
        "    # Generate a random integer using the `randint` function from the `random` module\n",
        "    random_num = random.randint(1, 100)  # Generate a random number between 1 and 100\n",
        "    # Add the random number to the set\n",
        "    random_number_set.add(random_num)\n",
        "\n",
        "# Step 5: Print the generated set of random numbers\n",
        "print(\"Generated set of random numbers:\", random_number_set)"
      ]
    },
    {
      "cell_type": "markdown",
      "metadata": {
        "id": "zQP17Otra4eF"
      },
      "source": [
        "## **29. Check if a set is empty.**"
      ]
    },
    {
      "cell_type": "code",
      "execution_count": null,
      "metadata": {
        "colab": {
          "base_uri": "https://localhost:8080/"
        },
        "id": "q5q3NMeEYiC4",
        "outputId": "d44e8d7f-5403-416c-ca89-c4b6d6554cbc"
      },
      "outputs": [
        {
          "name": "stdout",
          "output_type": "stream",
          "text": [
            "The set is empty.\n"
          ]
        }
      ],
      "source": [
        "# Step 1: Create a set (you can replace this with your own set)\n",
        "my_set = set()\n",
        "\n",
        "# Step 2: Check if the set is empty using the 'if' statement\n",
        "if not my_set:\n",
        "    print(\"The set is empty.\")\n",
        "else:\n",
        "    print(\"The set is not empty.\")"
      ]
    },
    {
      "cell_type": "markdown",
      "metadata": {
        "id": "fw6RQI75a5WA"
      },
      "source": [
        "## **30. Create a nested set (hint: use frozenset).**"
      ]
    },
    {
      "cell_type": "code",
      "execution_count": null,
      "metadata": {
        "colab": {
          "base_uri": "https://localhost:8080/"
        },
        "id": "p2-n7xMPa7xJ",
        "outputId": "5e51b9c8-2259-475d-d408-bfc0b3076d3e"
      },
      "outputs": [
        {
          "name": "stdout",
          "output_type": "stream",
          "text": [
            "Nested Set: {frozenset({1, 2, 3, 4, 5}), frozenset({6, 7, 8, 9, 10})}\n"
          ]
        }
      ],
      "source": [
        "# Step 1: Create the inner sets\n",
        "set1 = {1, 2, 3, 4, 5}\n",
        "set2 = {6, 7, 8, 9, 10}\n",
        "\n",
        "# Step 2: Create frozensets from the inner sets\n",
        "frozen_set1 = frozenset(set1)\n",
        "frozen_set2 = frozenset(set2)\n",
        "\n",
        "# Step 3: Create the nested set using the frozensets\n",
        "nested_set = {frozen_set1, frozen_set2}\n",
        "\n",
        "# Print the nested set\n",
        "print(\"Nested Set:\", nested_set)"
      ]
    },
    {
      "cell_type": "markdown",
      "metadata": {
        "id": "QqAW6WFfa6lk"
      },
      "source": [
        "## **31.  Remove an element from a set using the discard method.**"
      ]
    },
    {
      "cell_type": "code",
      "execution_count": null,
      "metadata": {
        "colab": {
          "base_uri": "https://localhost:8080/"
        },
        "id": "QIlx-_BlYiAE",
        "outputId": "73ccb953-e7aa-4cf3-afdd-a9967eb3d49d"
      },
      "outputs": [
        {
          "name": "stdout",
          "output_type": "stream",
          "text": [
            "Initial set: {1, 2, 3, 4, 5}\n",
            "Set after removing 3 : {1, 2, 4, 5}\n"
          ]
        }
      ],
      "source": [
        "# Create a set with some elements\n",
        "my_set = {1, 2, 3, 4, 5}\n",
        "\n",
        "# Display the initial set\n",
        "print(\"Initial set:\", my_set)\n",
        "\n",
        "# Define the element to be removed\n",
        "element_to_remove = 3\n",
        "\n",
        "# Use the discard() method to remove the element from the set\n",
        "# If the element is not present in the set, discard() won't raise an error\n",
        "my_set.discard(element_to_remove)\n",
        "\n",
        "# Display the set after removing the element\n",
        "print(\"Set after removing\", element_to_remove, \":\", my_set)"
      ]
    },
    {
      "cell_type": "markdown",
      "metadata": {
        "id": "VzoZXEwJa9g7"
      },
      "source": [
        "## **32. Compare two sets.**"
      ]
    },
    {
      "cell_type": "code",
      "execution_count": null,
      "metadata": {
        "colab": {
          "base_uri": "https://localhost:8080/"
        },
        "id": "sf6wUCdIYh9A",
        "outputId": "7e5c925d-b0ae-4283-cc6b-9e23f0f06a76"
      },
      "outputs": [
        {
          "name": "stdout",
          "output_type": "stream",
          "text": [
            "Set 1: {1, 2, 3, 4, 5}\n",
            "Set 2: {4, 5, 6, 7, 8}\n",
            "Is set1 a subset of set2? False\n",
            "Is set2 a subset of set1? False\n",
            "Intersection: {4, 5}\n",
            "Union: {1, 2, 3, 4, 5, 6, 7, 8}\n",
            "Elements in set1 but not in set2: {1, 2, 3}\n",
            "Elements in set2 but not in set1: {8, 6, 7}\n"
          ]
        }
      ],
      "source": [
        "# Step 1: Define two sets\n",
        "set1 = {1, 2, 3, 4, 5}\n",
        "set2 = {4, 5, 6, 7, 8}\n",
        "\n",
        "# Step 2: Use set operations to compare the sets\n",
        "# Check if set1 is a subset of set2\n",
        "is_subset = set1.issubset(set2)\n",
        "\n",
        "# Check if set2 is a subset of set1\n",
        "is_superset = set1.issuperset(set2)\n",
        "\n",
        "# Find the intersection of the sets\n",
        "intersection = set1.intersection(set2)\n",
        "\n",
        "# Find the union of the sets\n",
        "union = set1.union(set2)\n",
        "\n",
        "# Find the elements that are in set1 but not in set2\n",
        "difference1 = set1.difference(set2)\n",
        "\n",
        "# Find the elements that are in set2 but not in set1\n",
        "difference2 = set2.difference(set1)\n",
        "\n",
        "# Step 3: Print the results\n",
        "print(\"Set 1:\", set1)\n",
        "print(\"Set 2:\", set2)\n",
        "print(\"Is set1 a subset of set2?\", is_subset)\n",
        "print(\"Is set2 a subset of set1?\", is_superset)\n",
        "print(\"Intersection:\", intersection)\n",
        "print(\"Union:\", union)\n",
        "print(\"Elements in set1 but not in set2:\", difference1)\n",
        "print(\"Elements in set2 but not in set1:\", difference2)"
      ]
    },
    {
      "cell_type": "markdown",
      "metadata": {
        "id": "DkKCPmvga_ij"
      },
      "source": [
        "## **33. Create a set from a string.**"
      ]
    },
    {
      "cell_type": "code",
      "execution_count": null,
      "metadata": {
        "colab": {
          "base_uri": "https://localhost:8080/"
        },
        "id": "s-r8P2O-Yh6B",
        "outputId": "be0708b4-bd08-43bc-e843-62aa83b300cc"
      },
      "outputs": [
        {
          "name": "stdout",
          "output_type": "stream",
          "text": [
            "{'e', 'l', 'h', 'o'}\n"
          ]
        }
      ],
      "source": [
        "# Step 1: Define the input string\n",
        "input_string = \"hello\"\n",
        "\n",
        "# Step 2: Use the set() constructor to create a set from the characters in the string\n",
        "char_set = set(input_string)\n",
        "\n",
        "# Step 3: Print the resulting set\n",
        "print(char_set)"
      ]
    },
    {
      "cell_type": "markdown",
      "metadata": {
        "id": "0TohqFCbbBy6"
      },
      "source": [
        "## **34. Convert a set of strings to a set of integers.**"
      ]
    },
    {
      "cell_type": "code",
      "execution_count": null,
      "metadata": {
        "colab": {
          "base_uri": "https://localhost:8080/"
        },
        "id": "GLhLM2FnYh3D",
        "outputId": "34bb33da-899c-4b20-a1e1-b40853f00ffd"
      },
      "outputs": [
        {
          "name": "stdout",
          "output_type": "stream",
          "text": [
            "Original String Set: {'789', '123', '456'}\n",
            "Converted Integer Set: {456, 123, 789}\n"
          ]
        }
      ],
      "source": [
        "# Step 1: Create a set of strings\n",
        "string_set = {\"123\", \"456\", \"789\"}\n",
        "\n",
        "# Step 2: Initialize an empty set to store integers\n",
        "integer_set = set()\n",
        "\n",
        "# Step 3: Iterate through each string in the string set\n",
        "for string in string_set:\n",
        "    # Step 4: Convert the string to an integer using the int() function\n",
        "    integer_value = int(string)\n",
        "\n",
        "    # Step 5: Add the integer to the integer set\n",
        "    integer_set.add(integer_value)\n",
        "\n",
        "# Step 6: Print the original string set and the converted integer set\n",
        "print(\"Original String Set:\", string_set)\n",
        "print(\"Converted Integer Set:\", integer_set)"
      ]
    },
    {
      "cell_type": "markdown",
      "metadata": {
        "id": "Y5AedNKnbD1P"
      },
      "source": [
        "## **35. Convert a set of integers to a set of strings.**"
      ]
    },
    {
      "cell_type": "code",
      "execution_count": null,
      "metadata": {
        "colab": {
          "base_uri": "https://localhost:8080/"
        },
        "id": "ggKvDrWdYh0W",
        "outputId": "764d3b6a-9012-4302-fabe-9ad237c6b95c"
      },
      "outputs": [
        {
          "name": "stdout",
          "output_type": "stream",
          "text": [
            "Original integers_set: {1, 2, 3, 4, 5}\n",
            "Converted strings_set: {'3', '4', '2', '1', '5'}\n"
          ]
        }
      ],
      "source": [
        "# Step 1: Create a set of integers\n",
        "integers_set = {1, 2, 3, 4, 5}\n",
        "\n",
        "# Step 2: Initialize an empty set to store the strings\n",
        "strings_set = set()\n",
        "\n",
        "# Step 3: Iterate through each integer in the integers_set\n",
        "for num in integers_set:\n",
        "    # Step 4: Convert the integer to a string using the str() function\n",
        "    num_str = str(num)\n",
        "\n",
        "    # Step 5: Add the string representation to the strings_set\n",
        "    strings_set.add(num_str)\n",
        "\n",
        "# Step 6: Print the original integers_set and the converted strings_set\n",
        "print(\"Original integers_set:\", integers_set)\n",
        "print(\"Converted strings_set:\", strings_set)"
      ]
    },
    {
      "cell_type": "markdown",
      "metadata": {
        "id": "4fRnpU9FbEzL"
      },
      "source": [
        "## **36. Create a set from a tuple.**"
      ]
    },
    {
      "cell_type": "code",
      "execution_count": null,
      "metadata": {
        "colab": {
          "base_uri": "https://localhost:8080/"
        },
        "id": "vho6MqUKYhxT",
        "outputId": "16ef40ef-0018-4292-d98d-dd99968fd0fe"
      },
      "outputs": [
        {
          "name": "stdout",
          "output_type": "stream",
          "text": [
            "{1, 2, 3, 4, 5}\n"
          ]
        }
      ],
      "source": [
        "# Given tuple\n",
        "input_tuple = (1, 2, 3, 2, 4, 5, 1)\n",
        "\n",
        "# Step 1: Convert the tuple to a set\n",
        "output_set = set(input_tuple)\n",
        "# At this point, the set() function is used to convert the elements of the tuple into a set.\n",
        "# Since sets only contain unique elements, duplicate values are automatically removed.\n",
        "\n",
        "# Step 2: Print the resulting set\n",
        "print(output_set)\n",
        "# The set is now printed, and it will only contain the unique elements from the original tuple."
      ]
    },
    {
      "cell_type": "markdown",
      "metadata": {
        "id": "z5fifMMqbHfY"
      },
      "source": [
        "## **37. Convert a set to a tuple.**"
      ]
    },
    {
      "cell_type": "code",
      "execution_count": null,
      "metadata": {
        "colab": {
          "base_uri": "https://localhost:8080/"
        },
        "id": "zNDIEmJ2YhuX",
        "outputId": "51d79690-ebe1-4b4b-9e3d-b5b712ea2294"
      },
      "outputs": [
        {
          "name": "stdout",
          "output_type": "stream",
          "text": [
            "Original set: {1, 2, 3, 4, 5}\n",
            "Converted tuple: (1, 2, 3, 4, 5)\n"
          ]
        }
      ],
      "source": [
        "# Step 1: Create a set\n",
        "input_set = {1, 2, 3, 4, 5}\n",
        "\n",
        "# Step 2: Convert the set to a tuple\n",
        "output_tuple = tuple(input_set)\n",
        "\n",
        "# Step 3: Print the original set and the converted tuple\n",
        "print(\"Original set:\", input_set)\n",
        "print(\"Converted tuple:\", output_tuple)"
      ]
    },
    {
      "cell_type": "markdown",
      "metadata": {
        "id": "y9Fz6mMpbIVx"
      },
      "source": [
        "## **38. Find the maximum value in a set.**"
      ]
    },
    {
      "cell_type": "code",
      "execution_count": null,
      "metadata": {
        "colab": {
          "base_uri": "https://localhost:8080/"
        },
        "id": "enBVzB8jYhrU",
        "outputId": "cfc96c60-2bd9-4efd-849d-d7b681376841"
      },
      "outputs": [
        {
          "name": "stdout",
          "output_type": "stream",
          "text": [
            "Maximum value: 22\n"
          ]
        }
      ],
      "source": [
        "# Define a set with some values\n",
        "my_set = {15, 7, 22, 13, 8}\n",
        "\n",
        "# Initialize a variable to store the maximum value\n",
        "max_value = None\n",
        "\n",
        "# Iterate through each element in the set\n",
        "for num in my_set:\n",
        "    # Check if max_value is None (first iteration) or if the current number is greater than max_value\n",
        "    if max_value is None or num > max_value:\n",
        "        max_value = num  # Update max_value with the current number if it's greater\n",
        "\n",
        "# Print the maximum value\n",
        "print(\"Maximum value:\", max_value)"
      ]
    },
    {
      "cell_type": "markdown",
      "metadata": {
        "id": "cRHVKkUQbJXZ"
      },
      "source": [
        "## **39. Find the minimum value in a set.**"
      ]
    },
    {
      "cell_type": "code",
      "execution_count": null,
      "metadata": {
        "colab": {
          "base_uri": "https://localhost:8080/"
        },
        "id": "Fr4_cZb9YhoZ",
        "outputId": "97e15a42-b6dc-48e0-9582-abae81c3ea3f"
      },
      "outputs": [
        {
          "name": "stdout",
          "output_type": "stream",
          "text": [
            "The minimum value in the set is: 4\n"
          ]
        }
      ],
      "source": [
        "# Create a sample set of numbers\n",
        "number_set = {15, 8, 23, 4, 42, 11}\n",
        "\n",
        "# Initialize a variable to store the minimum value\n",
        "min_value = None\n",
        "\n",
        "# Iterate through each element in the set\n",
        "for num in number_set:\n",
        "    # Check if min_value is None (first iteration) or if num is smaller than the current min_value\n",
        "    if min_value is None or num < min_value:\n",
        "        # Update min_value to the current num since it's smaller\n",
        "        min_value = num\n",
        "\n",
        "# Print the minimum value found in the set\n",
        "print(\"The minimum value in the set is:\", min_value)"
      ]
    },
    {
      "cell_type": "markdown",
      "metadata": {
        "id": "nAxJHSNMbKSj"
      },
      "source": [
        "## **40. Create a set from user input.**"
      ]
    },
    {
      "cell_type": "code",
      "execution_count": null,
      "metadata": {
        "colab": {
          "base_uri": "https://localhost:8080/"
        },
        "id": "KY1zAijAYhlX",
        "outputId": "8ee4f354-3391-4ebe-eb8d-f5020a857abb"
      },
      "outputs": [
        {
          "name": "stdout",
          "output_type": "stream",
          "text": [
            "Enter elements for the set (type 'done' to finish):\n",
            "> ineuron, pwskills, done\n",
            "> done\n",
            "Final set: {'ineuron, pwskills, done'}\n"
          ]
        }
      ],
      "source": [
        "# Step 1: Initialize an empty set\n",
        "user_set = set()\n",
        "\n",
        "# Step 2: Get input from the user\n",
        "print(\"Enter elements for the set (type 'done' to finish):\")\n",
        "while True:\n",
        "    user_input = input(\"> \")  # Get input from the user\n",
        "\n",
        "    if user_input.lower() == 'done':\n",
        "        break  # Exit the loop if the user enters 'done'\n",
        "\n",
        "    # Step 3: Add the user input to the set\n",
        "    user_set.add(user_input)\n",
        "\n",
        "# Step 4: Display the final set created from user input\n",
        "print(\"Final set:\", user_set)"
      ]
    },
    {
      "cell_type": "markdown",
      "metadata": {
        "id": "344K9QsbbNPM"
      },
      "source": [
        "## **41. Check if the intersection of two sets is empty.**"
      ]
    },
    {
      "cell_type": "code",
      "execution_count": null,
      "metadata": {
        "colab": {
          "base_uri": "https://localhost:8080/"
        },
        "id": "G0V2dXFzbNpd",
        "outputId": "07404266-ae61-4024-c0a4-0137487e52e1"
      },
      "outputs": [
        {
          "name": "stdout",
          "output_type": "stream",
          "text": [
            "The intersection of the two sets is not empty.\n"
          ]
        }
      ],
      "source": [
        "# Step 1: Define two sets\n",
        "set1 = {1, 2, 3, 4, 5}\n",
        "set2 = {4, 5, 6, 7, 8}\n",
        "\n",
        "# Step 2: Find the intersection of the two sets using the `intersection()` method\n",
        "intersection_result = set1.intersection(set2)\n",
        "\n",
        "# Step 3: Check if the intersection result is empty\n",
        "if not intersection_result:\n",
        "    print(\"The intersection of the two sets is empty.\")\n",
        "else:\n",
        "    print(\"The intersection of the two sets is not empty.\")"
      ]
    },
    {
      "cell_type": "markdown",
      "metadata": {
        "id": "lMDakLyibLGW"
      },
      "source": [
        "## **42. Create a set of the first 5 Fibonacci numbers.**"
      ]
    },
    {
      "cell_type": "code",
      "execution_count": null,
      "metadata": {
        "colab": {
          "base_uri": "https://localhost:8080/"
        },
        "id": "XkPDWFhrYhiZ",
        "outputId": "c685f1bf-dcad-49b5-bb49-cf946ecd2ee3"
      },
      "outputs": [
        {
          "name": "stdout",
          "output_type": "stream",
          "text": [
            "Set of the first 5 Fibonacci numbers: {0, 1, 2, 3, 5}\n"
          ]
        }
      ],
      "source": [
        "# Create a set to store the first 5 Fibonacci numbers\n",
        "fibonacci_set = set()\n",
        "\n",
        "# Initialize the first two Fibonacci numbers\n",
        "a, b = 0, 1\n",
        "\n",
        "# Loop to generate the first 5 Fibonacci numbers\n",
        "for _ in range(6):\n",
        "    # Add the current Fibonacci number to the set\n",
        "    fibonacci_set.add(a)\n",
        "\n",
        "    # Calculate the next Fibonacci number\n",
        "    a, b = b, a + b\n",
        "\n",
        "# Print the set of Fibonacci numbers\n",
        "print(\"Set of the first 5 Fibonacci numbers:\", fibonacci_set)"
      ]
    },
    {
      "cell_type": "markdown",
      "metadata": {
        "id": "e79eA43neBxj"
      },
      "source": [
        "## **43. Remove duplicates from a list using sets.**"
      ]
    },
    {
      "cell_type": "code",
      "execution_count": null,
      "metadata": {
        "colab": {
          "base_uri": "https://localhost:8080/"
        },
        "id": "a2LuC0UlYhfa",
        "outputId": "71051986-ed93-4568-8753-57a789dcfcb0"
      },
      "outputs": [
        {
          "name": "stdout",
          "output_type": "stream",
          "text": [
            "Original List: [2, 4, 6, 8, 4, 10, 6, 12, 14, 8]\n",
            "List with Duplicates Removed: [2, 4, 6, 8, 10, 12, 14]\n"
          ]
        }
      ],
      "source": [
        "# Step 1: Define a list with duplicates\n",
        "original_list = [2, 4, 6, 8, 4, 10, 6, 12, 14, 8]\n",
        "\n",
        "# Step 2: Convert the list to a set\n",
        "unique_set = set(original_list)\n",
        "# Now, 'unique_set' contains only unique elements from 'original_list'\n",
        "\n",
        "# Step 3: Convert the set back to a list\n",
        "unique_list = list(unique_set)\n",
        "# Now, 'unique_list' is a list containing only unique elements\n",
        "\n",
        "# Step 4: Print the original list and the list with duplicates removed\n",
        "print(\"Original List:\", original_list)\n",
        "print(\"List with Duplicates Removed:\", unique_list)"
      ]
    },
    {
      "cell_type": "markdown",
      "metadata": {
        "id": "FuiGcx2DeHTY"
      },
      "source": [
        "## **44. Check if two sets have the same elements, regardless of their count.**"
      ]
    },
    {
      "cell_type": "code",
      "execution_count": null,
      "metadata": {
        "colab": {
          "base_uri": "https://localhost:8080/"
        },
        "id": "m4u4QzYEYhca",
        "outputId": "e2405910-5637-4ece-e4e5-35d41619d6c0"
      },
      "outputs": [
        {
          "name": "stdout",
          "output_type": "stream",
          "text": [
            "The sets have the same elements.\n"
          ]
        }
      ],
      "source": [
        "def have_same_elements(set1, set2):\n",
        "    # Convert the sets to lists and sort them\n",
        "    sorted_list1 = sorted(list(set1))\n",
        "    sorted_list2 = sorted(list(set2))\n",
        "\n",
        "    # Compare the sorted lists to check if they are equal\n",
        "    return sorted_list1 == sorted_list2\n",
        "\n",
        "# Example sets\n",
        "set1 = {1, 2, 3, 2, 1}\n",
        "set2 = {3, 1, 2}\n",
        "\n",
        "# Check if the sets have the same elements\n",
        "result = have_same_elements(set1, set2)\n",
        "\n",
        "# Print the result\n",
        "if result:\n",
        "    print(\"The sets have the same elements.\")\n",
        "else:\n",
        "    print(\"The sets do not have the same elements.\")"
      ]
    },
    {
      "cell_type": "markdown",
      "metadata": {
        "id": "93G2hKdmeI-Y"
      },
      "source": [
        "## **45. Create a set of the first `n` powers of 2**"
      ]
    },
    {
      "cell_type": "code",
      "execution_count": null,
      "metadata": {
        "colab": {
          "base_uri": "https://localhost:8080/"
        },
        "id": "oPHxj85mYhZQ",
        "outputId": "fd46c818-47ad-4602-a9c5-eff5db2ec8cd"
      },
      "outputs": [
        {
          "name": "stdout",
          "output_type": "stream",
          "text": [
            "{1, 2, 4, 8, 16}\n"
          ]
        }
      ],
      "source": [
        "def generate_powers_of_2(n):\n",
        "    # Initialize an empty set to store the powers of 2\n",
        "    powers_of_2 = set()\n",
        "\n",
        "    # Loop from 0 to n-1\n",
        "    for i in range(n):\n",
        "        # Calculate the current power of 2 using the exponentiation operator **\n",
        "        power = 2 ** i\n",
        "\n",
        "        # Add the current power of 2 to the set\n",
        "        powers_of_2.add(power)\n",
        "\n",
        "    # Return the set of powers of 2\n",
        "    return powers_of_2\n",
        "\n",
        "# Define the value of n\n",
        "n = 5\n",
        "\n",
        "# Call the function to generate the set of powers of 2\n",
        "powers_set = generate_powers_of_2(n)\n",
        "\n",
        "# Print the resulting set\n",
        "print(powers_set)"
      ]
    },
    {
      "cell_type": "markdown",
      "metadata": {
        "id": "qvtYZho-eJ3k"
      },
      "source": [
        "## **46. Find the common elements between a set and a list.**"
      ]
    },
    {
      "cell_type": "code",
      "execution_count": null,
      "metadata": {
        "colab": {
          "base_uri": "https://localhost:8080/"
        },
        "id": "-nuX0tVHYhWq",
        "outputId": "094cfb35-4caa-4aa6-9bfc-a27cc68f3341"
      },
      "outputs": [
        {
          "name": "stdout",
          "output_type": "stream",
          "text": [
            "Common elements: [7, 9, 12]\n"
          ]
        }
      ],
      "source": [
        "# Step 1: Define a set and a list\n",
        "my_set = {3, 7, 9, 12, 15}\n",
        "my_list = [7, 12, 5, 9]\n",
        "\n",
        "# Step 2: Convert the list to a set for efficient comparison\n",
        "list_to_set = set(my_list)\n",
        "\n",
        "# Step 3: Initialize an empty list to store common elements\n",
        "common_elements = []\n",
        "\n",
        "# Step 4: Iterate through the elements in the set\n",
        "for element in my_set:\n",
        "    # Step 5: Check if the element is present in the converted set (list_to_set)\n",
        "    if element in list_to_set:\n",
        "        # Step 6: If the element is present in both the set and the list, add it to the common_elements list\n",
        "        common_elements.append(element)\n",
        "\n",
        "# Step 7: Print the common elements\n",
        "print(\"Common elements:\", common_elements)"
      ]
    },
    {
      "cell_type": "markdown",
      "metadata": {
        "id": "R0nrflvQeLId"
      },
      "source": [
        "### 47. Create a set of the first `n` triangular numbers.:\n",
        "\n",
        "Triangular numbers are a sequence of numbers that represent the number of dots in a triangular arrangement. The sequence starts with 1 and then each subsequent number is obtained by adding the next natural number.\n",
        "\n",
        "Mathematically, the $n^{th}$ triangular number, denoted as $T_n$, is given by the formula:\n",
        "\n",
        "$T_n$ $=$ $1+2+3+...+n=\\frac {n*(n + 1)}{2}$\n",
        "\n",
        "Visually, you can imagine triangular numbers by arranging dots in the shape of equilateral triangles:\n",
        "\n",
        "```\n",
        "   1       1 dot\n",
        "   1 1      3 dots\n",
        "   1 2 1     6 dots\n",
        "   1 2 3 1   10 dots\n",
        "```"
      ]
    },
    {
      "cell_type": "code",
      "execution_count": null,
      "metadata": {
        "colab": {
          "base_uri": "https://localhost:8080/"
        },
        "id": "9a8YlPfNYhUF",
        "outputId": "5ece1900-e427-469d-9a94-b5042af973b6"
      },
      "outputs": [
        {
          "name": "stdout",
          "output_type": "stream",
          "text": [
            "Enter the value of n: 10\n",
            "The set of the first 10 triangular numbers is: {1, 3, 36, 6, 10, 45, 15, 21, 55, 28}\n"
          ]
        }
      ],
      "source": [
        "def generate_triangular_numbers(n):\n",
        "    triangular_numbers = set()  # Create an empty set to store the triangular numbers\n",
        "    for i in range(1, n + 1):\n",
        "        triangular_number = i * (i + 1) // 2  # Calculate the ith triangular number using the formula\n",
        "        triangular_numbers.add(triangular_number)  # Add the calculated triangular number to the set\n",
        "    return triangular_numbers\n",
        "\n",
        "# Input the value of 'n'\n",
        "n = int(input(\"Enter the value of n: \"))\n",
        "\n",
        "# Call the function to generate the set of first 'n' triangular numbers\n",
        "triangular_set = generate_triangular_numbers(n)\n",
        "\n",
        "# Display the set of triangular numbers\n",
        "print(f\"The set of the first {n} triangular numbers is:\", triangular_set)"
      ]
    },
    {
      "cell_type": "markdown",
      "metadata": {
        "id": "B9d7MmcpeNCV"
      },
      "source": [
        "## **48. Check if a set contains another set as a subset.**"
      ]
    },
    {
      "cell_type": "code",
      "execution_count": null,
      "metadata": {
        "colab": {
          "base_uri": "https://localhost:8080/"
        },
        "id": "DsTN_9R7YhQf",
        "outputId": "95e3a520-2b11-47bc-a5a2-1624c2bebc8b"
      },
      "outputs": [
        {
          "name": "stdout",
          "output_type": "stream",
          "text": [
            "set2 is a subset of set1\n"
          ]
        }
      ],
      "source": [
        "# Define two sets\n",
        "set1 = {1, 2, 3, 4, 5}\n",
        "set2 = {3, 4}\n",
        "\n",
        "# Check if set2 is a subset of set1\n",
        "is_subset = set2.issubset(set1)\n",
        "\n",
        "# Print the result\n",
        "if is_subset:\n",
        "    print(\"set2 is a subset of set1\")\n",
        "else:\n",
        "    print(\"set2 is not a subset of set1\")"
      ]
    },
    {
      "cell_type": "markdown",
      "metadata": {
        "id": "khuO_2p2eNuk"
      },
      "source": [
        "## **49. Create a set of alternating 1s and 0s of length `n`.**"
      ]
    },
    {
      "cell_type": "code",
      "execution_count": null,
      "metadata": {
        "colab": {
          "base_uri": "https://localhost:8080/"
        },
        "id": "-wkNOB1YYhNc",
        "outputId": "58d6acb8-43aa-4dc4-a978-ad84721174d9"
      },
      "outputs": [
        {
          "name": "stdout",
          "output_type": "stream",
          "text": [
            "{0, 1}\n"
          ]
        }
      ],
      "source": [
        "def create_alternating_set(n):\n",
        "    # Initialize an empty set to store the alternating sequence.\n",
        "    alternating_set = set()\n",
        "\n",
        "    # Loop to generate alternating 1s and 0s.\n",
        "    for i in range(n):\n",
        "        # Alternate between adding 1 and 0 to the set based on whether i is even or odd.\n",
        "        if i % 2 == 0:\n",
        "            alternating_set.add(1)  # Add 1 if i is even.\n",
        "        else:\n",
        "            alternating_set.add(0)  # Add 0 if i is odd.\n",
        "\n",
        "    return alternating_set\n",
        "\n",
        "# Define the desired length of the alternating set.\n",
        "length_n = 10\n",
        "\n",
        "# Call the function to create the alternating set of length 'length_n'.\n",
        "result = create_alternating_set(length_n)\n",
        "\n",
        "# Print the resulting set.\n",
        "print(result)"
      ]
    },
    {
      "cell_type": "markdown",
      "metadata": {
        "id": "VpNAnj1OeO1x"
      },
      "source": [
        "## **50. Merge multiple sets into one.**"
      ]
    },
    {
      "cell_type": "code",
      "execution_count": null,
      "metadata": {
        "colab": {
          "base_uri": "https://localhost:8080/"
        },
        "id": "xomwOAwIYhKu",
        "outputId": "d712318c-ccbf-4362-a504-42066b89eb2b"
      },
      "outputs": [
        {
          "name": "stdout",
          "output_type": "stream",
          "text": [
            "Merged Set: {1, 2, 3, 4, 5, 6, 7}\n"
          ]
        }
      ],
      "source": [
        "# Step 1: Create multiple sets\n",
        "set1 = {1, 2, 3}\n",
        "set2 = {3, 4, 5}\n",
        "set3 = {5, 6, 7}\n",
        "\n",
        "# Step 2: Use the union() method to merge sets\n",
        "merged_set = set1.union(set2, set3)\n",
        "\n",
        "# Alternatively, you can use the | operator\n",
        "# merged_set = set1 | set2 | set3\n",
        "\n",
        "# Step 3: Print the merged set\n",
        "print(\"Merged Set:\", merged_set)"
      ]
    }
  ]
}