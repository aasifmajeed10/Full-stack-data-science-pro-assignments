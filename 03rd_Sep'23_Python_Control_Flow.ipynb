{
  "nbformat": 4,
  "nbformat_minor": 0,
  "metadata": {
    "colab": {
      "provenance": []
    },
    "kernelspec": {
      "name": "python3",
      "display_name": "Python 3"
    },
    "language_info": {
      "name": "python"
    }
  },
  "cells": [
    {
      "cell_type": "markdown",
      "source": [
        "# Full Stack Data Science Pro\n",
        "Assignment 4 : Python - Control Flow\n",
        "## **Name : Aasif Majeed**\n"
      ],
      "metadata": {
        "id": "n8xZEV2TQTzX"
      }
    },
    {
      "cell_type": "markdown",
      "source": [
        "## ***Basic If-Else Statements:***\n",
        "\n",
        "---\n",
        "\n"
      ],
      "metadata": {
        "id": "bHWZPt6zQexz"
      }
    },
    {
      "cell_type": "markdown",
      "source": [
        "## **1. Write a Python program to check if a given number is positive or negative.**"
      ],
      "metadata": {
        "id": "sEioXxqxSfZC"
      }
    },
    {
      "cell_type": "code",
      "execution_count": null,
      "metadata": {
        "colab": {
          "base_uri": "https://localhost:8080/"
        },
        "id": "9a66tQz0QTRr",
        "outputId": "c047ce0b-ae51-4a00-a7dd-48d9f6c746cb"
      },
      "outputs": [
        {
          "output_type": "stream",
          "name": "stdout",
          "text": [
            "Enter a number: -6\n",
            "The number -6.0 is Negative.\n"
          ]
        }
      ],
      "source": [
        "# Function to check if a number is positive or negative\n",
        "def check_positive_negative(number):\n",
        "    if number > 0:\n",
        "        return \"Positive\"\n",
        "    elif number < 0:\n",
        "        return \"Negative\"\n",
        "    else:\n",
        "        return \"Zero\"\n",
        "\n",
        "# Example: Check if a given number is positive or negative\n",
        "user_input = float(input(\"Enter a number: \"))\n",
        "\n",
        "result = check_positive_negative(user_input)\n",
        "\n",
        "print(f\"The number {user_input} is {result}.\")\n",
        "\n"
      ]
    },
    {
      "cell_type": "markdown",
      "source": [
        "## **2. Create a program that determines if a person is eligible to vote based on their age.**"
      ],
      "metadata": {
        "id": "tuL8BnQhQVFv"
      }
    },
    {
      "cell_type": "code",
      "source": [
        "# Function to check eligibility to vote\n",
        "def check_voting_eligibility(age):\n",
        "    if age >= 18:\n",
        "        return \"Eligible to vote\"\n",
        "    else:\n",
        "        return \"Not eligible to vote\"\n",
        "\n",
        "# Example: Check eligibility based on age\n",
        "user_age = int(input(\"Enter your age: \"))\n",
        "\n",
        "result = check_voting_eligibility(user_age)\n",
        "\n",
        "print(f\"At the age of {user_age}, you are {result}.\")\n"
      ],
      "metadata": {
        "colab": {
          "base_uri": "https://localhost:8080/"
        },
        "id": "CHwZfnlZQVN1",
        "outputId": "044e1e4f-02e0-4f07-ef3f-2b6193984183"
      },
      "execution_count": null,
      "outputs": [
        {
          "output_type": "stream",
          "name": "stdout",
          "text": [
            "Enter your age: 16\n",
            "At the age of 16, you are Not eligible to vote.\n"
          ]
        }
      ]
    },
    {
      "cell_type": "markdown",
      "source": [
        "## **3. Develop a program to find the maximum of two numbers using if-else statements.**"
      ],
      "metadata": {
        "id": "6DbiT-pMQVUp"
      }
    },
    {
      "cell_type": "code",
      "source": [
        "# Function to find the maximum of two numbers\n",
        "def find_maximum(num1, num2):\n",
        "    if num1 > num2:\n",
        "        return num1\n",
        "    else:\n",
        "        return num2\n",
        "\n",
        "# Example: Find the maximum of two numbers\n",
        "user_num1 = float(input(\"Enter the first number: \"))\n",
        "user_num2 = float(input(\"Enter the second number: \"))\n",
        "\n",
        "maximum_value = find_maximum(user_num1, user_num2)\n",
        "\n",
        "print(f\"The maximum of {user_num1} and {user_num2} is: {maximum_value}\")\n"
      ],
      "metadata": {
        "colab": {
          "base_uri": "https://localhost:8080/"
        },
        "id": "tvmeQuauQVb5",
        "outputId": "6a89bd65-f315-4315-a868-95f39cd36de6"
      },
      "execution_count": null,
      "outputs": [
        {
          "output_type": "stream",
          "name": "stdout",
          "text": [
            "Enter the first number: 20\n",
            "Enter the second number: 25\n",
            "The maximum of 20.0 and 25.0 is: 25.0\n"
          ]
        }
      ]
    },
    {
      "cell_type": "markdown",
      "source": [
        "## **4. Write a Python script to classify a given year as a leap year or not.**"
      ],
      "metadata": {
        "id": "oql_TDSvQVj-"
      }
    },
    {
      "cell_type": "code",
      "source": [
        "# Function to check if a year is a leap year\n",
        "def is_leap_year(year):\n",
        "    if (year % 4 == 0 and year % 100 != 0) or (year % 400 == 0):\n",
        "        return True\n",
        "    else:\n",
        "        return False\n",
        "\n",
        "# Example: Check if a given year is a leap year\n",
        "user_year = int(input(\"Enter a year: \"))\n",
        "\n",
        "if is_leap_year(user_year):\n",
        "    print(f\"The year {user_year} is a leap year.\")\n",
        "else:\n",
        "    print(f\"The year {user_year} is not a leap year.\")\n"
      ],
      "metadata": {
        "colab": {
          "base_uri": "https://localhost:8080/"
        },
        "id": "_4ieJuJqQVp3",
        "outputId": "1472833f-673d-422b-ee3c-51c6bdb9a1b2"
      },
      "execution_count": null,
      "outputs": [
        {
          "output_type": "stream",
          "name": "stdout",
          "text": [
            "Enter a year: 1997\n",
            "The year 1997 is not a leap year.\n"
          ]
        }
      ]
    },
    {
      "cell_type": "markdown",
      "source": [
        "## **5. Create a program that checks whether a character is a vowel or a consonant.**"
      ],
      "metadata": {
        "id": "ysCsQTwSQVw1"
      }
    },
    {
      "cell_type": "code",
      "source": [
        "# Function to check if a character is a vowel or consonant\n",
        "def check_vowel_consonant(char):\n",
        "    # Convert the character to lowercase for case-insensitivity\n",
        "    char_lower = char.lower()\n",
        "\n",
        "    # Check if the character is a vowel\n",
        "    if char_lower in 'aeiou':\n",
        "        return \"Vowel\"\n",
        "    else:\n",
        "        return \"Consonant\"\n",
        "\n",
        "# Example: Check if a given character is a vowel or consonant\n",
        "user_char = input(\"Enter a character: \")\n",
        "\n",
        "# Ensure the user input is a single character\n",
        "if len(user_char) == 1:\n",
        "    result = check_vowel_consonant(user_char)\n",
        "    print(f\"The character '{user_char}' is a {result}.\")\n",
        "else:\n",
        "    print(\"Please enter a single character.\")\n"
      ],
      "metadata": {
        "colab": {
          "base_uri": "https://localhost:8080/"
        },
        "id": "NF1NgdUmQV23",
        "outputId": "7eefa88b-9b05-4b54-cebf-30a35512de25"
      },
      "execution_count": null,
      "outputs": [
        {
          "output_type": "stream",
          "name": "stdout",
          "text": [
            "Enter a character: a\n",
            "The character 'a' is a Vowel.\n"
          ]
        }
      ]
    },
    {
      "cell_type": "markdown",
      "source": [
        "## **6. Implement a program to determine whether a given number is even or odd.**"
      ],
      "metadata": {
        "id": "9JZj3U7TQV9L"
      }
    },
    {
      "cell_type": "code",
      "source": [
        "# Function to check if a number is even or odd\n",
        "def check_even_odd(number):\n",
        "    if number % 2 == 0:\n",
        "        return \"Even\"\n",
        "    else:\n",
        "        return \"Odd\"\n",
        "\n",
        "# Example: Check if a given number is even or odd\n",
        "user_number = int(input(\"Enter a number: \"))\n",
        "\n",
        "result = check_even_odd(user_number)\n",
        "\n",
        "print(f\"The number {user_number} is {result}.\")\n",
        "\n"
      ],
      "metadata": {
        "colab": {
          "base_uri": "https://localhost:8080/"
        },
        "id": "8fEHFxWRQWDE",
        "outputId": "ee1245f1-c734-4f10-c770-33c6fb3e69f1"
      },
      "execution_count": null,
      "outputs": [
        {
          "output_type": "stream",
          "name": "stdout",
          "text": [
            "Enter a number: 34\n",
            "The number 34 is Even.\n"
          ]
        }
      ]
    },
    {
      "cell_type": "markdown",
      "source": [
        "## **7. Write a Python function to calculate the absolute value of a number without using the `abs()` function.**"
      ],
      "metadata": {
        "id": "_su7SQsrQWJm"
      }
    },
    {
      "cell_type": "code",
      "source": [
        "# Function to calculate the absolute value of a number without using abs()\n",
        "def absolute_value(number):\n",
        "    if number < 0:\n",
        "        return -number\n",
        "    else:\n",
        "        return number\n",
        "\n",
        "# Example: Calculate the absolute value of a number\n",
        "user_number = float(input(\"Enter a number: \"))\n",
        "\n",
        "result = absolute_value(user_number)\n",
        "\n",
        "print(f\"The absolute value of {user_number} is: {result}\")\n"
      ],
      "metadata": {
        "colab": {
          "base_uri": "https://localhost:8080/"
        },
        "id": "FKZOnsrrQWQL",
        "outputId": "c9e43d30-e7cd-4e24-f551-e0e6aa881604"
      },
      "execution_count": null,
      "outputs": [
        {
          "output_type": "stream",
          "name": "stdout",
          "text": [
            "Enter a number: -6\n",
            "The absolute value of -6.0 is: 6.0\n"
          ]
        }
      ]
    },
    {
      "cell_type": "markdown",
      "source": [
        "## **8. Develop a program that determines the largest of three given numbers using if-else statements.**"
      ],
      "metadata": {
        "id": "EGMW6eE9QWWt"
      }
    },
    {
      "cell_type": "code",
      "source": [
        "# Function to find the largest of three numbers\n",
        "def find_largest(num1, num2, num3):\n",
        "    if num1 >= num2 and num1 >= num3:\n",
        "        return num1\n",
        "    elif num2 >= num1 and num2 >= num3:\n",
        "        return num2\n",
        "    else:\n",
        "        return num3\n",
        "\n",
        "# Example: Find the largest of three numbers\n",
        "user_num1 = float(input(\"Enter the first number: \"))\n",
        "user_num2 = float(input(\"Enter the second number: \"))\n",
        "user_num3 = float(input(\"Enter the third number: \"))\n",
        "\n",
        "largest_value = find_largest(user_num1, user_num2, user_num3)\n",
        "\n",
        "print(f\"The largest of {user_num1}, {user_num2}, and {user_num3} is: {largest_value}\")\n"
      ],
      "metadata": {
        "colab": {
          "base_uri": "https://localhost:8080/"
        },
        "id": "CMS8b-dsQWcR",
        "outputId": "d45a415b-d1ff-4ae3-ccd2-f7822f868879"
      },
      "execution_count": null,
      "outputs": [
        {
          "output_type": "stream",
          "name": "stdout",
          "text": [
            "Enter the first number: 3\n",
            "Enter the second number: 5\n",
            "Enter the third number: 6\n",
            "The largest of 3.0, 5.0, and 6.0 is: 6.0\n"
          ]
        }
      ]
    },
    {
      "cell_type": "markdown",
      "source": [
        "## **9. Create a program that checks if a given string is a palindrome.**"
      ],
      "metadata": {
        "id": "5jEZuo2UQWjM"
      }
    },
    {
      "cell_type": "code",
      "source": [
        "# Function to check if a string is a palindrome\n",
        "def is_palindrome(input_string):\n",
        "    cleaned_string = ''.join(char.lower() for char in input_string if char.isalnum())\n",
        "    return cleaned_string == cleaned_string[::-1]\n",
        "\n",
        "# Example: Check if a given string is a palindrome\n",
        "user_string = input(\"Enter a string: \")\n",
        "\n",
        "if is_palindrome(user_string):\n",
        "    print(f\"The string '{user_string}' is a palindrome.\")\n",
        "else:\n",
        "    print(f\"The string '{user_string}' is not a palindrome.\")\n"
      ],
      "metadata": {
        "colab": {
          "base_uri": "https://localhost:8080/"
        },
        "id": "faQ_Mb10QWpz",
        "outputId": "044394b1-5dfd-4dca-901d-bc756186aa4e"
      },
      "execution_count": null,
      "outputs": [
        {
          "output_type": "stream",
          "name": "stdout",
          "text": [
            "Enter a string: radar\n",
            "The string 'radar' is a palindrome.\n"
          ]
        }
      ]
    },
    {
      "cell_type": "markdown",
      "source": [
        "## **10. Write a Python program to calculate the grade based on a student's score.**"
      ],
      "metadata": {
        "id": "7BeERrwiQWwq"
      }
    },
    {
      "cell_type": "code",
      "source": [
        "# Function to calculate the grade based on a student's score\n",
        "def calculate_grade(score):\n",
        "    if 90 <= score <= 100:\n",
        "        return \"A\"\n",
        "    elif 80 <= score < 90:\n",
        "        return \"B\"\n",
        "    elif 70 <= score < 80:\n",
        "        return \"C\"\n",
        "    elif 60 <= score < 70:\n",
        "        return \"D\"\n",
        "    elif 0 <= score < 60:\n",
        "        return \"F\"\n",
        "    else:\n",
        "        return \"Invalid Score\"\n",
        "\n",
        "# Example: Calculate the grade based on a student's score\n",
        "user_score = float(input(\"Enter the student's score: \"))\n",
        "\n",
        "grade = calculate_grade(user_score)\n",
        "\n",
        "print(f\"The student's grade is: {grade}\")\n"
      ],
      "metadata": {
        "colab": {
          "base_uri": "https://localhost:8080/"
        },
        "id": "cTV5E_lHQW2y",
        "outputId": "fac69331-e0f1-4eab-ea09-2e56a4afdc7e"
      },
      "execution_count": null,
      "outputs": [
        {
          "output_type": "stream",
          "name": "stdout",
          "text": [
            "Enter the student's score: 87\n",
            "The student's grade is: B\n"
          ]
        }
      ]
    },
    {
      "cell_type": "markdown",
      "source": [
        "## ***Nested If-Else Statements:***\n",
        "\n",
        "---\n",
        "\n"
      ],
      "metadata": {
        "id": "Qf2eb9pXQW9T"
      }
    },
    {
      "cell_type": "markdown",
      "source": [
        "## **11. Write a program to find the largest among three numbers using nested if-else statements.**"
      ],
      "metadata": {
        "id": "FO8MLbxs1T0A"
      }
    },
    {
      "cell_type": "code",
      "source": [
        "# Function to find the largest among three numbers using nested if-else statements\n",
        "def find_largest(num1, num2, num3):\n",
        "    if num1 >= num2:\n",
        "        if num1 >= num3:\n",
        "            return num1\n",
        "        else:\n",
        "            return num3\n",
        "    else:\n",
        "        if num2 >= num3:\n",
        "            return num2\n",
        "        else:\n",
        "            return num3\n",
        "\n",
        "# Example: Find the largest among three numbers\n",
        "user_num1 = float(input(\"Enter the first number: \"))\n",
        "user_num2 = float(input(\"Enter the second number: \"))\n",
        "user_num3 = float(input(\"Enter the third number: \"))\n",
        "\n",
        "largest_value = find_largest(user_num1, user_num2, user_num3)\n",
        "\n",
        "print(f\"The largest among {user_num1}, {user_num2}, and {user_num3} is: {largest_value}\")\n",
        "\n"
      ],
      "metadata": {
        "colab": {
          "base_uri": "https://localhost:8080/"
        },
        "id": "1jkEmCHiQXG9",
        "outputId": "05efb69f-2956-4b0f-ebb3-1458c5c98321"
      },
      "execution_count": null,
      "outputs": [
        {
          "output_type": "stream",
          "name": "stdout",
          "text": [
            "Enter the first number: 5\n",
            "Enter the second number: 4\n",
            "Enter the third number: 3\n",
            "The largest among 5.0, 4.0, and 3.0 is: 5.0\n"
          ]
        }
      ]
    },
    {
      "cell_type": "markdown",
      "source": [
        "## ***12. Implement a program to determine if a triangle is equilateral, isosceles, or scalene.***\n",
        "\n",
        "---\n",
        "\n"
      ],
      "metadata": {
        "id": "BH6Mx6rbQXOv"
      }
    },
    {
      "cell_type": "code",
      "source": [
        "# Function to determine the type of triangle\n",
        "def triangle_type(side1, side2, side3):\n",
        "    if side1 == side2 == side3:\n",
        "        return \"Equilateral\"\n",
        "    elif side1 == side2 or side1 == side3 or side2 == side3:\n",
        "        return \"Isosceles\"\n",
        "    else:\n",
        "        return \"Scalene\"\n",
        "\n",
        "# Example: Determine the type of triangle\n",
        "user_side1 = float(input(\"Enter the length of the first side: \"))\n",
        "user_side2 = float(input(\"Enter the length of the second side: \"))\n",
        "user_side3 = float(input(\"Enter the length of the third side: \"))\n",
        "\n",
        "result = triangle_type(user_side1, user_side2, user_side3)\n",
        "\n",
        "print(f\"The triangle with sides {user_side1}, {user_side2}, and {user_side3} is: {result}\")\n"
      ],
      "metadata": {
        "colab": {
          "base_uri": "https://localhost:8080/"
        },
        "id": "5o4fygw_QXVG",
        "outputId": "5ccda29b-ff1a-4b0a-d92b-d6b2b8705cbb"
      },
      "execution_count": null,
      "outputs": [
        {
          "output_type": "stream",
          "name": "stdout",
          "text": [
            "Enter the length of the first side: 65\n",
            "Enter the length of the second side: 52\n",
            "Enter the length of the third side: 41\n",
            "The triangle with sides 65.0, 52.0, and 41.0 is: Scalene\n"
          ]
        }
      ]
    },
    {
      "cell_type": "markdown",
      "source": [
        "### **13. Develop a program that checks if a year is a leap year and also if it is a century year.**"
      ],
      "metadata": {
        "id": "p4JQRk0RQXcW"
      }
    },
    {
      "cell_type": "code",
      "source": [
        "# Function to check if a year is a leap year\n",
        "def is_leap_year(year):\n",
        "    return (year % 4 == 0 and year % 100 != 0) or (year % 400 == 0)\n",
        "\n",
        "# Function to check if a year is a century year\n",
        "def is_century_year(year):\n",
        "    return year % 100 == 0\n",
        "\n",
        "# Example: Check if a year is a leap year and a century year\n",
        "user_year = int(input(\"Enter a year: \"))\n",
        "\n",
        "if is_leap_year(user_year):\n",
        "    print(f\"The year {user_year} is a leap year.\")\n",
        "else:\n",
        "    print(f\"The year {user_year} is not a leap year.\")\n",
        "\n",
        "if is_century_year(user_year):\n",
        "    print(f\"The year {user_year} is a century year.\")\n",
        "else:\n",
        "    print(f\"The year {user_year} is not a century year.\")\n"
      ],
      "metadata": {
        "colab": {
          "base_uri": "https://localhost:8080/"
        },
        "id": "6CQYTQkMQXkc",
        "outputId": "c995d2df-729f-4ac2-fbcf-1cac4577d592"
      },
      "execution_count": null,
      "outputs": [
        {
          "output_type": "stream",
          "name": "stdout",
          "text": [
            "Enter a year: 2024\n",
            "The year 2024 is a leap year.\n",
            "The year 2024 is not a century year.\n"
          ]
        }
      ]
    },
    {
      "cell_type": "markdown",
      "source": [
        "## **14. Write a Python script to determine if a number is positive, negative, or zero.**"
      ],
      "metadata": {
        "id": "IgdTR0eKQXrp"
      }
    },
    {
      "cell_type": "code",
      "source": [
        "# Function to determine if a number is positive, negative, or zero\n",
        "def check_positive_negative_zero(number):\n",
        "    if number > 0:\n",
        "        return \"Positive\"\n",
        "    elif number < 0:\n",
        "        return \"Negative\"\n",
        "    else:\n",
        "        return \"Zero\"\n",
        "\n",
        "# Example: Determine if a number is positive, negative, or zero\n",
        "user_number = float(input(\"Enter a number: \"))\n",
        "\n",
        "result = check_positive_negative_zero(user_number)\n",
        "\n",
        "print(f\"The number {user_number} is {result}.\")\n"
      ],
      "metadata": {
        "colab": {
          "base_uri": "https://localhost:8080/"
        },
        "id": "L88Z4vd6QXxv",
        "outputId": "f21c85c4-68d5-445b-8393-98ad35aef1e3"
      },
      "execution_count": null,
      "outputs": [
        {
          "output_type": "stream",
          "name": "stdout",
          "text": [
            "Enter a number: 3\n",
            "The number 3.0 is Positive.\n"
          ]
        }
      ]
    },
    {
      "cell_type": "markdown",
      "source": [
        "## **15. Create a program to check if a person is a teenager (between 13 and 19 years old).**"
      ],
      "metadata": {
        "id": "j0fv9LdD17VR"
      }
    },
    {
      "cell_type": "code",
      "source": [
        "# Function to check if a person is a teenager\n",
        "def is_teenager(age):\n",
        "    return 13 <= age <= 19\n",
        "\n",
        "# Example: Check if a person is a teenager\n",
        "user_age = int(input(\"Enter the person's age: \"))\n",
        "\n",
        "if is_teenager(user_age):\n",
        "    print(f\"The person with age {user_age} is a teenager.\")\n",
        "else:\n",
        "    print(f\"The person with age {user_age} is not a teenager.\")\n",
        "\n"
      ],
      "metadata": {
        "colab": {
          "base_uri": "https://localhost:8080/"
        },
        "id": "6uB84Bik17gj",
        "outputId": "2b916b32-faea-40c0-fbfb-a450c1d0df16"
      },
      "execution_count": null,
      "outputs": [
        {
          "output_type": "stream",
          "name": "stdout",
          "text": [
            "Enter the person's age: 26\n",
            "The person with age 26 is not a teenager.\n"
          ]
        }
      ]
    },
    {
      "cell_type": "markdown",
      "source": [
        "## **16. Develop a program that determines the type of angle based on its measure (acute, obtuse, or right).**"
      ],
      "metadata": {
        "id": "K0oSvmVq17nv"
      }
    },
    {
      "cell_type": "code",
      "source": [
        "# Function to determine the type of angle\n",
        "def angle_type(measure):\n",
        "    if measure < 90:\n",
        "        return \"Acute Angle\"\n",
        "    elif measure == 90:\n",
        "        return \"Right Angle\"\n",
        "    elif measure < 180:\n",
        "        return \"Obtuse Angle\"\n",
        "    else:\n",
        "        return \"Invalid Angle\"\n",
        "\n",
        "# Example: Determine the type of angle\n",
        "angle_measure = float(input(\"Enter the measure of the angle: \"))\n",
        "\n",
        "result = angle_type(angle_measure)\n",
        "\n",
        "print(f\"The angle with measure {angle_measure} degrees is a {result}.\")\n"
      ],
      "metadata": {
        "colab": {
          "base_uri": "https://localhost:8080/"
        },
        "id": "0LpBtmRv17ur",
        "outputId": "9d74a668-15bc-4274-d3e7-1dfc0299d0af"
      },
      "execution_count": null,
      "outputs": [
        {
          "output_type": "stream",
          "name": "stdout",
          "text": [
            "Enter the measure of the angle: 120\n",
            "The angle with measure 120.0 degrees is a Obtuse Angle.\n"
          ]
        }
      ]
    },
    {
      "cell_type": "markdown",
      "source": [
        "## **17. Write a Python program to calculate the roots of a quadratic equation.**"
      ],
      "metadata": {
        "id": "My2wuA0D172H"
      }
    },
    {
      "cell_type": "code",
      "source": [
        "import math\n",
        "\n",
        "# Function to calculate the roots of a quadratic equation\n",
        "def calculate_roots(a, b, c):\n",
        "    # Calculate the discriminant\n",
        "    discriminant = b**2 - 4*a*c\n",
        "\n",
        "    # Check the nature of roots based on the discriminant\n",
        "    if discriminant > 0:\n",
        "        root1 = (-b + math.sqrt(discriminant)) / (2*a)\n",
        "        root2 = (-b - math.sqrt(discriminant)) / (2*a)\n",
        "        return \"Real and Different Roots\", root1, root2\n",
        "    elif discriminant == 0:\n",
        "        root = -b / (2*a)\n",
        "        return \"Real and Same Roots\", root\n",
        "    else:\n",
        "        real_part = -b / (2*a)\n",
        "        imaginary_part = math.sqrt(abs(discriminant)) / (2*a)\n",
        "        return \"Complex Roots\", f\"{real_part} + {imaginary_part}i\", f\"{real_part} - {imaginary_part}i\"\n",
        "\n",
        "# Example: Calculate the roots of a quadratic equation\n",
        "user_a = float(input(\"Enter the coefficient of x^2 (a): \"))\n",
        "user_b = float(input(\"Enter the coefficient of x (b): \"))\n",
        "user_c = float(input(\"Enter the constant term (c): \"))\n",
        "\n",
        "result = calculate_roots(user_a, user_b, user_c)\n",
        "\n",
        "print(f\"The quadratic equation {user_a}x^2 + {user_b}x + {user_c} has {result[0]}: {result[1:]}\")\n"
      ],
      "metadata": {
        "colab": {
          "base_uri": "https://localhost:8080/"
        },
        "id": "WSZehVMK178s",
        "outputId": "a4ee42e5-2616-4de6-c95c-f1054a9eb16c"
      },
      "execution_count": null,
      "outputs": [
        {
          "output_type": "stream",
          "name": "stdout",
          "text": [
            "Enter the coefficient of x^2 (a): 3\n",
            "Enter the coefficient of x (b): 5\n",
            "Enter the constant term (c): 6\n",
            "The quadratic equation 3.0x^2 + 5.0x + 6.0 has Complex Roots: ('-0.8333333333333334 + 1.1426091000668406i', '-0.8333333333333334 - 1.1426091000668406i')\n"
          ]
        }
      ]
    },
    {
      "cell_type": "markdown",
      "source": [
        "## **18. Implement a program to determine the day of the week based on a user-provided number (1 for Monday, 2 for Tuesday, etc.).**"
      ],
      "metadata": {
        "id": "wyQ_5Abv18Cu"
      }
    },
    {
      "cell_type": "code",
      "source": [
        "# Function to determine the day of the week\n",
        "def day_of_week(number):\n",
        "    days = [\"Monday\", \"Tuesday\", \"Wednesday\", \"Thursday\", \"Friday\", \"Saturday\", \"Sunday\"]\n",
        "\n",
        "    if 1 <= number <= 7:\n",
        "        return days[number - 1]\n",
        "    else:\n",
        "        return \"Invalid day number\"\n",
        "\n",
        "# Example: Determine the day of the week\n",
        "user_number = int(input(\"Enter a number (1 for Monday, 2 for Tuesday, etc.): \"))\n",
        "\n",
        "result = day_of_week(user_number)\n",
        "\n",
        "print(f\"The day corresponding to the number {user_number} is: {result}\")\n"
      ],
      "metadata": {
        "colab": {
          "base_uri": "https://localhost:8080/"
        },
        "id": "yWqPTRGB18Iq",
        "outputId": "78acd3e7-a55c-4a47-bb85-4c360fba75b8"
      },
      "execution_count": null,
      "outputs": [
        {
          "output_type": "stream",
          "name": "stdout",
          "text": [
            "Enter a number (1 for Monday, 2 for Tuesday, etc.): 6\n",
            "The day corresponding to the number 6 is: Saturday\n"
          ]
        }
      ]
    },
    {
      "cell_type": "markdown",
      "source": [
        "## **19. Create a program that determines if a year is a leap year and also if it is evenly divisible by 400.**"
      ],
      "metadata": {
        "id": "ScFp1nND18PA"
      }
    },
    {
      "cell_type": "code",
      "source": [
        "# Function to check if a year is a leap year and divisible by 400\n",
        "def is_leap_year_divisible_by_400(year):\n",
        "    return (year % 4 == 0 and year % 100 != 0) or (year % 400 == 0)\n",
        "\n",
        "# Example: Check if a year is a leap year and divisible by 400\n",
        "user_year = int(input(\"Enter a year: \"))\n",
        "\n",
        "if is_leap_year_divisible_by_400(user_year):\n",
        "    print(f\"The year {user_year} is a leap year and divisible by 400.\")\n",
        "else:\n",
        "    print(f\"The year {user_year} is not a leap year or not divisible by 400.\")\n"
      ],
      "metadata": {
        "colab": {
          "base_uri": "https://localhost:8080/"
        },
        "id": "Q7pH-jdz18VA",
        "outputId": "6b816c45-01c7-48b1-eb30-bb6507936107"
      },
      "execution_count": null,
      "outputs": [
        {
          "output_type": "stream",
          "name": "stdout",
          "text": [
            "Enter a year: 2023\n",
            "The year 2023 is not a leap year or not divisible by 400.\n"
          ]
        }
      ]
    },
    {
      "cell_type": "markdown",
      "source": [
        "## **20. Develop a program that checks if a given number is prime or not using nested if-else statements.**"
      ],
      "metadata": {
        "id": "Xl8JHZdJ3ujV"
      }
    },
    {
      "cell_type": "code",
      "source": [
        "# Function to check if a number is prime\n",
        "def is_prime(number):\n",
        "    if number > 1:\n",
        "        # Check for factors using nested if-else statements\n",
        "        for i in range(2, int(number**0.5) + 1):\n",
        "            if number % i == 0:\n",
        "                return False\n",
        "        return True\n",
        "    else:\n",
        "        return False\n",
        "\n",
        "# Example: Check if a given number is prime\n",
        "user_number = int(input(\"Enter a number: \"))\n",
        "\n",
        "if is_prime(user_number):\n",
        "    print(f\"The number {user_number} is prime.\")\n",
        "else:\n",
        "    print(f\"The number {user_number} is not prime.\")\n"
      ],
      "metadata": {
        "colab": {
          "base_uri": "https://localhost:8080/"
        },
        "id": "fHnwYfb318ge",
        "outputId": "0382ba42-93a1-4a35-9f4a-1b6e920cd6d0"
      },
      "execution_count": null,
      "outputs": [
        {
          "output_type": "stream",
          "name": "stdout",
          "text": [
            "Enter a number: 23\n",
            "The number 23 is prime.\n"
          ]
        }
      ]
    },
    {
      "cell_type": "markdown",
      "source": [
        "\n",
        "\n",
        "\n",
        "\n",
        "## ***Elif Statements:***\n",
        "\n",
        "---\n",
        "\n",
        "\n",
        "\n",
        "\n",
        "\n",
        "\n",
        "\n",
        "\n",
        "\n",
        "\n",
        "\n",
        "\n"
      ],
      "metadata": {
        "id": "RKcHBYvL18mg"
      }
    },
    {
      "cell_type": "markdown",
      "source": [
        "## **21. Write a Python program to assign grades based on different ranges of scores using elif statements.**"
      ],
      "metadata": {
        "id": "cqyprxCK4aaG"
      }
    },
    {
      "cell_type": "code",
      "source": [
        "# Function to assign grades based on scores\n",
        "def assign_grade(score):\n",
        "    if 90 <= score <= 100:\n",
        "        return \"A\"\n",
        "    elif 80 <= score < 90:\n",
        "        return \"B\"\n",
        "    elif 70 <= score < 80:\n",
        "        return \"C\"\n",
        "    elif 60 <= score < 70:\n",
        "        return \"D\"\n",
        "    elif 0 <= score < 60:\n",
        "        return \"F\"\n",
        "    else:\n",
        "        return \"Invalid Score\"\n",
        "\n",
        "# Example: Assign grades based on scores\n",
        "user_score = float(input(\"Enter the student's score: \"))\n",
        "\n",
        "grade = assign_grade(user_score)\n",
        "\n",
        "print(f\"The student's grade is: {grade}\")\n"
      ],
      "metadata": {
        "colab": {
          "base_uri": "https://localhost:8080/"
        },
        "id": "Bs9dnRHu18r-",
        "outputId": "3d71f3a0-fe90-4a06-96cc-d338fa32dc5e"
      },
      "execution_count": null,
      "outputs": [
        {
          "output_type": "stream",
          "name": "stdout",
          "text": [
            "Enter the student's score: 86\n",
            "The student's grade is: B\n"
          ]
        }
      ]
    },
    {
      "cell_type": "markdown",
      "source": [
        "## **22. Implement a program to determine the type of a triangle based on its angles.**"
      ],
      "metadata": {
        "id": "NDovFM9U18yi"
      }
    },
    {
      "cell_type": "code",
      "source": [
        "# Function to determine the type of a triangle based on its angles\n",
        "def triangle_type(angle1, angle2, angle3):\n",
        "    if angle1 + angle2 + angle3 == 180:\n",
        "        if angle1 == angle2 == angle3:\n",
        "            return \"Equilateral Triangle\"\n",
        "        elif angle1 == angle2 or angle1 == angle3 or angle2 == angle3:\n",
        "            return \"Isosceles Triangle\"\n",
        "        else:\n",
        "            return \"Scalene Triangle\"\n",
        "    else:\n",
        "        return \"Invalid Triangle (Sum of angles should be 180 degrees)\"\n",
        "\n",
        "# Example: Determine the type of a triangle based on angles\n",
        "user_angle1 = float(input(\"Enter the first angle: \"))\n",
        "user_angle2 = float(input(\"Enter the second angle: \"))\n",
        "user_angle3 = float(input(\"Enter the third angle: \"))\n",
        "\n",
        "result = triangle_type(user_angle1, user_angle2, user_angle3)\n",
        "\n",
        "print(f\"The triangle with angles {user_angle1}, {user_angle2}, and {user_angle3} is a {result}.\")\n"
      ],
      "metadata": {
        "colab": {
          "base_uri": "https://localhost:8080/"
        },
        "id": "5CdoaIQR183-",
        "outputId": "6ae3bede-1a8d-41b0-ec7e-115c9c976251"
      },
      "execution_count": null,
      "outputs": [
        {
          "output_type": "stream",
          "name": "stdout",
          "text": [
            "Enter the first angle: 45\n",
            "Enter the second angle: 45\n",
            "Enter the third angle: 90\n",
            "The triangle with angles 45.0, 45.0, and 90.0 is a Isosceles Triangle.\n"
          ]
        }
      ]
    },
    {
      "cell_type": "markdown",
      "source": [
        "## **23. Develop a program to categorize a given person's BMI into underweight, normal, overweight, or obese using elif statements.**"
      ],
      "metadata": {
        "id": "KLV3jCaC18-L"
      }
    },
    {
      "cell_type": "code",
      "source": [
        "# Function to categorize BMI\n",
        "def categorize_bmi(bmi):\n",
        "    if bmi < 18.5:\n",
        "        return \"Underweight\"\n",
        "    elif 18.5 <= bmi < 24.9:\n",
        "        return \"Normal Weight\"\n",
        "    elif 25 <= bmi < 29.9:\n",
        "        return \"Overweight\"\n",
        "    elif bmi >= 30:\n",
        "        return \"Obese\"\n",
        "    else:\n",
        "        return \"Invalid BMI\"\n",
        "\n",
        "# Example: Categorize BMI\n",
        "user_weight = float(input(\"Enter the person's weight in kilograms: \"))\n",
        "user_height = float(input(\"Enter the person's height in meters: \"))\n",
        "\n",
        "# Calculate BMI: weight / (height * height)\n",
        "bmi = user_weight / (user_height ** 2)\n",
        "\n",
        "result = categorize_bmi(bmi)\n",
        "\n",
        "print(f\"The person's BMI is {bmi:.2f}, and they are categorized as {result}.\")\n"
      ],
      "metadata": {
        "colab": {
          "base_uri": "https://localhost:8080/"
        },
        "id": "QrylMMJ619D6",
        "outputId": "adaa75fe-83e6-4bab-9931-cd301f53d6c0"
      },
      "execution_count": null,
      "outputs": [
        {
          "output_type": "stream",
          "name": "stdout",
          "text": [
            "Enter the person's weight in kilograms: 71\n",
            "Enter the person's height in meters: 1.4\n",
            "The person's BMI is 36.22, and they are categorized as Obese.\n"
          ]
        }
      ]
    },
    {
      "cell_type": "markdown",
      "source": [
        "## **24. Create a program that determines whether a given number is positive, negative, or zero using elif statements.**"
      ],
      "metadata": {
        "id": "r9WGTFBz19Jj"
      }
    },
    {
      "cell_type": "code",
      "source": [
        "# Function to determine if a number is positive, negative, or zero\n",
        "def check_positive_negative_zero(number):\n",
        "    if number > 0:\n",
        "        return \"Positive\"\n",
        "    elif number < 0:\n",
        "        return \"Negative\"\n",
        "    else:\n",
        "        return \"Zero\"\n",
        "\n",
        "# Example: Determine if a number is positive, negative, or zero\n",
        "user_number = float(input(\"Enter a number: \"))\n",
        "\n",
        "result = check_positive_negative_zero(user_number)\n",
        "\n",
        "print(f\"The number {user_number} is {result}.\")\n"
      ],
      "metadata": {
        "colab": {
          "base_uri": "https://localhost:8080/"
        },
        "id": "rCoXACsP19O7",
        "outputId": "5941efa5-8ecb-42ed-9520-b972547553b3"
      },
      "execution_count": null,
      "outputs": [
        {
          "output_type": "stream",
          "name": "stdout",
          "text": [
            "Enter a number: 23.6\n",
            "The number 23.6 is Positive.\n"
          ]
        }
      ]
    },
    {
      "cell_type": "markdown",
      "source": [
        "## **25. Write a Python script to determine the type of a character (uppercase, lowercase, or special) using elif statements.**"
      ],
      "metadata": {
        "id": "o8s24q6K19VE"
      }
    },
    {
      "cell_type": "code",
      "source": [
        "# Function to determine the type of a character\n",
        "def check_character_type(char):\n",
        "    if char.isupper():\n",
        "        return \"Uppercase Letter\"\n",
        "    elif char.islower():\n",
        "        return \"Lowercase Letter\"\n",
        "    elif char.isnumeric() or not char.isalnum():\n",
        "        return \"Special Character\"\n",
        "    else:\n",
        "        return \"Invalid Input\"\n",
        "\n",
        "# Example: Determine the type of a character\n",
        "user_char = input(\"Enter a character: \")\n",
        "\n",
        "if len(user_char) == 1:\n",
        "    result = check_character_type(user_char)\n",
        "    print(f\"The character '{user_char}' is a {result}.\")\n",
        "else:\n",
        "    print(\"Please enter a single character.\")\n"
      ],
      "metadata": {
        "colab": {
          "base_uri": "https://localhost:8080/"
        },
        "id": "nexIcGs419a8",
        "outputId": "a94676bb-7cea-41cf-c7c0-f24eafc96002"
      },
      "execution_count": null,
      "outputs": [
        {
          "output_type": "stream",
          "name": "stdout",
          "text": [
            "Enter a character: A\n",
            "The character 'A' is a Uppercase Letter.\n"
          ]
        }
      ]
    },
    {
      "cell_type": "markdown",
      "source": [
        "## **26. Implement a program to calculate the discounted price based on different purchase amounts using elif statements.**"
      ],
      "metadata": {
        "id": "toIqxN1V5cCH"
      }
    },
    {
      "cell_type": "code",
      "source": [
        "# Function to calculate discounted price based on purchase amount\n",
        "def calculate_discounted_price(purchase_amount):\n",
        "    if purchase_amount >= 1000:\n",
        "        discount_percentage = 10\n",
        "    elif purchase_amount >= 500:\n",
        "        discount_percentage = 5\n",
        "    else:\n",
        "        discount_percentage = 0\n",
        "\n",
        "    discount_amount = (discount_percentage / 100) * purchase_amount\n",
        "    discounted_price = purchase_amount - discount_amount\n",
        "\n",
        "    return discounted_price\n",
        "\n",
        "# Example: Calculate discounted price based on purchase amount\n",
        "user_purchase_amount = float(input(\"Enter the purchase amount: \"))\n",
        "\n",
        "result = calculate_discounted_price(user_purchase_amount)\n",
        "\n",
        "print(f\"The discounted price for a purchase amount of ${user_purchase_amount:.2f} is: ${result:.2f}\")\n"
      ],
      "metadata": {
        "colab": {
          "base_uri": "https://localhost:8080/"
        },
        "id": "Pn68Cljx5cPc",
        "outputId": "08c87f9b-d874-44a3-f5db-e765070986ef"
      },
      "execution_count": null,
      "outputs": [
        {
          "output_type": "stream",
          "name": "stdout",
          "text": [
            "Enter the purchase amount: 4000\n",
            "The discounted price for a purchase amount of $4000.00 is: $3600.00\n"
          ]
        }
      ]
    },
    {
      "cell_type": "markdown",
      "source": [
        "## **27. Develop a program to calculate the electricity bill based on different consumption slabs using elif statements.**"
      ],
      "metadata": {
        "id": "XNThkIK15cXK"
      }
    },
    {
      "cell_type": "code",
      "source": [
        "# Function to calculate electricity bill based on consumption\n",
        "def calculate_electricity_bill(units_consumed):\n",
        "    if units_consumed <= 50:\n",
        "        rate_per_unit = 2.5\n",
        "    elif units_consumed <= 150:\n",
        "        rate_per_unit = 5\n",
        "    elif units_consumed <= 250:\n",
        "        rate_per_unit = 7.5\n",
        "    else:\n",
        "        rate_per_unit = 10\n",
        "\n",
        "    total_bill = units_consumed * rate_per_unit\n",
        "\n",
        "    return total_bill\n",
        "\n",
        "# Example: Calculate electricity bill based on consumption\n",
        "user_units_consumed = float(input(\"Enter the units of electricity consumed: \"))\n",
        "\n",
        "result = calculate_electricity_bill(user_units_consumed)\n",
        "\n",
        "print(f\"The electricity bill for {user_units_consumed} units is: ${result:.2f}\")\n"
      ],
      "metadata": {
        "colab": {
          "base_uri": "https://localhost:8080/"
        },
        "id": "A8EfnhcS5cdX",
        "outputId": "18c5f02a-9ba3-4eaf-a46a-6397ec59580d"
      },
      "execution_count": null,
      "outputs": [
        {
          "output_type": "stream",
          "name": "stdout",
          "text": [
            "Enter the units of electricity consumed: 457\n",
            "The electricity bill for 457.0 units is: $4570.00\n"
          ]
        }
      ]
    },
    {
      "cell_type": "markdown",
      "source": [
        "## **28. Create a program to determine the type of quadrilateral based on its angles and sides using elif statements.**"
      ],
      "metadata": {
        "id": "i5A3B1xH5cjq"
      }
    },
    {
      "cell_type": "code",
      "source": [
        "# Function to determine the type of quadrilateral\n",
        "def classify_quadrilateral(angles, sides):\n",
        "    if sum(angles) == 360:\n",
        "        if len(set(sides)) == 1:\n",
        "            return \"Square\"\n",
        "        elif angles[0] == angles[1] == angles[2] == angles[3]:\n",
        "            return \"Rhombus\"\n",
        "        elif sides[0] == sides[2] and sides[1] == sides[3]:\n",
        "            return \"Rectangle\"\n",
        "        else:\n",
        "            return \"Quadrilateral\"\n",
        "    else:\n",
        "        return \"Invalid Quadrilateral (Sum of angles should be 360 degrees)\"\n",
        "\n",
        "# Example: Determine the type of quadrilateral\n",
        "user_angles = [float(input(f\"Enter the measure of angle {i+1}: \")) for i in range(4)]\n",
        "user_sides = [float(input(f\"Enter the length of side {i+1}: \")) for i in range(4)]\n",
        "\n",
        "result = classify_quadrilateral(user_angles, user_sides)\n",
        "\n",
        "print(f\"The quadrilateral with angles {user_angles} and sides {user_sides} is a {result}.\")\n"
      ],
      "metadata": {
        "colab": {
          "base_uri": "https://localhost:8080/"
        },
        "id": "1Sv5sGvE5cpk",
        "outputId": "b34b7451-e32c-49ec-b0a8-06ef00b67aea"
      },
      "execution_count": null,
      "outputs": [
        {
          "output_type": "stream",
          "name": "stdout",
          "text": [
            "Enter the measure of angle 1: 90\n",
            "Enter the measure of angle 2: 90\n",
            "Enter the measure of angle 3: 90\n",
            "Enter the measure of angle 4: 90\n",
            "Enter the length of side 1: 5\n",
            "Enter the length of side 2: 5\n",
            "Enter the length of side 3: 5\n",
            "Enter the length of side 4: 5\n",
            "The quadrilateral with angles [90.0, 90.0, 90.0, 90.0] and sides [5.0, 5.0, 5.0, 5.0] is a Square.\n"
          ]
        }
      ]
    },
    {
      "cell_type": "markdown",
      "source": [
        "## **29. Write a Python script to determine the season based on a user-provided month using elif statements.**"
      ],
      "metadata": {
        "id": "zOvfMlMG5cwY"
      }
    },
    {
      "cell_type": "code",
      "source": [
        "# Function to determine the season based on the month\n",
        "def determine_season(month):\n",
        "    if month in [12, 1, 2]:\n",
        "        return \"Winter\"\n",
        "    elif month in [3, 4, 5]:\n",
        "        return \"Spring\"\n",
        "    elif month in [6, 7, 8]:\n",
        "        return \"Summer\"\n",
        "    elif month in [9, 10, 11]:\n",
        "        return \"Fall\"\n",
        "    else:\n",
        "        return \"Invalid Month\"\n",
        "\n",
        "# Example: Determine the season based on a user-provided month\n",
        "user_month = int(input(\"Enter the month (1-12): \"))\n",
        "\n",
        "result = determine_season(user_month)\n",
        "\n",
        "print(f\"The season for the month {user_month} is: {result}\")\n"
      ],
      "metadata": {
        "colab": {
          "base_uri": "https://localhost:8080/"
        },
        "id": "DMRfKc4z5c2V",
        "outputId": "1402f173-b3e0-4ef0-a666-08fe55b7403c"
      },
      "execution_count": null,
      "outputs": [
        {
          "output_type": "stream",
          "name": "stdout",
          "text": [
            "Enter the month (1-12): 4\n",
            "The season for the month 4 is: Spring\n"
          ]
        }
      ]
    },
    {
      "cell_type": "markdown",
      "source": [
        "## **30. Implement a program to determine the type of a year (leap or common) and month (30 or 31 days) using elif statements.**"
      ],
      "metadata": {
        "id": "gTGjexF15c91"
      }
    },
    {
      "cell_type": "code",
      "source": [
        "# Function to determine the type of a year (leap or common)\n",
        "def determine_year_type(year):\n",
        "    if (year % 4 == 0 and year % 100 != 0) or (year % 400 == 0):\n",
        "        return \"Leap Year\"\n",
        "    else:\n",
        "        return \"Common Year\"\n",
        "\n",
        "# Function to determine the number of days in a month\n",
        "def determine_days_in_month(month, year):\n",
        "    if month in [1, 3, 5, 7, 8, 10, 12]:\n",
        "        return 31\n",
        "    elif month in [4, 6, 9, 11]:\n",
        "        return 30\n",
        "    elif month == 2:\n",
        "        if determine_year_type(year) == \"Leap Year\":\n",
        "            return 29\n",
        "        else:\n",
        "            return 28\n",
        "    else:\n",
        "        return \"Invalid Month\"\n",
        "\n",
        "# Example: Determine the type of a year and the number of days in a month\n",
        "user_year = int(input(\"Enter the year: \"))\n",
        "user_month = int(input(\"Enter the month (1-12): \"))\n",
        "\n",
        "year_result = determine_year_type(user_year)\n",
        "days_result = determine_days_in_month(user_month, user_year)\n",
        "\n",
        "print(f\"The year {user_year} is a {year_result}.\")\n",
        "print(f\"The month {user_month} has {days_result} days.\")\n"
      ],
      "metadata": {
        "colab": {
          "base_uri": "https://localhost:8080/"
        },
        "id": "DuN8ul5W5dDf",
        "outputId": "a9936d39-9e10-4b16-e945-131f4fef2236"
      },
      "execution_count": null,
      "outputs": [
        {
          "output_type": "stream",
          "name": "stdout",
          "text": [
            "Enter the year: 2024\n",
            "Enter the month (1-12): 2\n",
            "The year 2024 is a Leap Year.\n",
            "The month 2 has 29 days.\n"
          ]
        }
      ]
    },
    {
      "cell_type": "markdown",
      "source": [
        "## ***Basic Level:***\n",
        "\n",
        "---\n",
        "\n"
      ],
      "metadata": {
        "id": "7tOdxMYP5dJ9"
      }
    },
    {
      "cell_type": "markdown",
      "source": [
        "## 1**. Write a Python program that checks if a given number is positive, negative, or zero.**"
      ],
      "metadata": {
        "id": "5IGnJQnP651x"
      }
    },
    {
      "cell_type": "code",
      "source": [
        "# Function to check if a number is positive, negative, or zero\n",
        "def check_positive_negative_zero(number):\n",
        "    if number > 0:\n",
        "        return \"Positive\"\n",
        "    elif number < 0:\n",
        "        return \"Negative\"\n",
        "    else:\n",
        "        return \"Zero\"\n",
        "\n",
        "# Take user input for a number\n",
        "user_number = float(input(\"Enter a number: \"))\n",
        "\n",
        "# Call the function and print the result\n",
        "result = check_positive_negative_zero(user_number)\n",
        "print(f\"The number {user_number} is {result}.\")\n",
        "\n"
      ],
      "metadata": {
        "colab": {
          "base_uri": "https://localhost:8080/"
        },
        "id": "Z7R45HyJ5dRV",
        "outputId": "1dc51d42-f25d-412e-a2c1-61a7a0d0fb14"
      },
      "execution_count": null,
      "outputs": [
        {
          "output_type": "stream",
          "name": "stdout",
          "text": [
            "Enter a number: 34.9\n",
            "The number 34.9 is Positive.\n"
          ]
        }
      ]
    },
    {
      "cell_type": "markdown",
      "source": [
        "## **2. Create a program to determine if a person is eligible to vote based on their age.**"
      ],
      "metadata": {
        "id": "Z7iFcEFh5dYP"
      }
    },
    {
      "cell_type": "code",
      "source": [
        "# Function to check eligibility to vote\n",
        "def check_voting_eligibility(age):\n",
        "    if age >= 18:\n",
        "        return \"Eligible to Vote\"\n",
        "    else:\n",
        "        return \"Not Eligible to Vote\"\n",
        "\n",
        "# Take user input for age\n",
        "user_age = int(input(\"Enter your age: \"))\n",
        "\n",
        "# Call the function and print the result\n",
        "result = check_voting_eligibility(user_age)\n",
        "print(f\"You are {result}.\")\n"
      ],
      "metadata": {
        "colab": {
          "base_uri": "https://localhost:8080/"
        },
        "id": "GqzYF6ZH5dea",
        "outputId": "f2186baa-9004-4953-d25d-20fcb55b6b16"
      },
      "execution_count": null,
      "outputs": [
        {
          "output_type": "stream",
          "name": "stdout",
          "text": [
            "Enter your age: 26\n",
            "You are Eligible to Vote.\n"
          ]
        }
      ]
    },
    {
      "cell_type": "markdown",
      "source": [
        "## **3. Write a program to find the maximum of two given numbers using conditional statements.**"
      ],
      "metadata": {
        "id": "L8BP6cDv5dlW"
      }
    },
    {
      "cell_type": "code",
      "source": [
        "# Function to find the maximum of two numbers\n",
        "def find_maximum(num1, num2):\n",
        "    if num1 > num2:\n",
        "        return num1\n",
        "    else:\n",
        "        return num2\n",
        "\n",
        "# Take user input for two numbers\n",
        "user_number1 = float(input(\"Enter the first number: \"))\n",
        "user_number2 = float(input(\"Enter the second number: \"))\n",
        "\n",
        "# Call the function and print the result\n",
        "max_result = find_maximum(user_number1, user_number2)\n",
        "print(f\"The maximum of {user_number1} and {user_number2} is: {max_result}\")\n"
      ],
      "metadata": {
        "colab": {
          "base_uri": "https://localhost:8080/"
        },
        "id": "JuVB94Jl5dr6",
        "outputId": "ad9dcb9c-37ad-4ffa-ae9a-67b5aa447532"
      },
      "execution_count": null,
      "outputs": [
        {
          "output_type": "stream",
          "name": "stdout",
          "text": [
            "Enter the first number: 34\n",
            "Enter the second number: 57\n",
            "The maximum of 34.0 and 57.0 is: 57.0\n"
          ]
        }
      ]
    },
    {
      "cell_type": "markdown",
      "source": [
        "## **4. Develop a program that calculates the grade of a student based on their exam score.**"
      ],
      "metadata": {
        "id": "o61sWJz05dy4"
      }
    },
    {
      "cell_type": "code",
      "source": [
        "# Function to calculate the grade based on exam score\n",
        "def calculate_grade(score):\n",
        "    if 90 <= score <= 100:\n",
        "        return \"A\"\n",
        "    elif 80 <= score < 90:\n",
        "        return \"B\"\n",
        "    elif 70 <= score < 80:\n",
        "        return \"C\"\n",
        "    elif 60 <= score < 70:\n",
        "        return \"D\"\n",
        "    elif 0 <= score < 60:\n",
        "        return \"F\"\n",
        "    else:\n",
        "        return \"Invalid Score\"\n",
        "\n",
        "# Example: Calculate the grade for a score of 85\n",
        "exam_score = 85\n",
        "grade_result = calculate_grade(exam_score)\n",
        "print(f\"The grade for a score of {exam_score} is: {grade_result}\")\n"
      ],
      "metadata": {
        "colab": {
          "base_uri": "https://localhost:8080/"
        },
        "id": "XM2IuQw35d49",
        "outputId": "a7e9114b-b6f0-48a6-990d-5ff1b852392e"
      },
      "execution_count": null,
      "outputs": [
        {
          "output_type": "stream",
          "name": "stdout",
          "text": [
            "The grade for a score of 85 is: B\n"
          ]
        }
      ]
    },
    {
      "cell_type": "markdown",
      "source": [
        "## **5. Create a program that checks if a year is a leap year or not.**"
      ],
      "metadata": {
        "id": "lN16U1bl5d_Q"
      }
    },
    {
      "cell_type": "code",
      "source": [
        "# Function to check if a year is a leap year\n",
        "def is_leap_year(year):\n",
        "    if (year % 4 == 0 and year % 100 != 0) or (year % 400 == 0):\n",
        "        return True\n",
        "    else:\n",
        "        return False\n",
        "\n",
        "# Example: Check if the year 2024 is a leap year\n",
        "example_year = 2024\n",
        "leap_year_result = is_leap_year(example_year)\n",
        "print(f\"The year {example_year} is a leap year: {leap_year_result}\")\n"
      ],
      "metadata": {
        "colab": {
          "base_uri": "https://localhost:8080/"
        },
        "id": "Nj2x813K5eF5",
        "outputId": "d13b0387-0a81-4b60-fd74-0071a978d6e1"
      },
      "execution_count": null,
      "outputs": [
        {
          "output_type": "stream",
          "name": "stdout",
          "text": [
            "The year 2024 is a leap year: True\n"
          ]
        }
      ]
    },
    {
      "cell_type": "markdown",
      "source": [
        "## **6. Write a program to classify a triangle based on its sides' lengths.**"
      ],
      "metadata": {
        "id": "Fl4-xFC45eLj"
      }
    },
    {
      "cell_type": "code",
      "source": [
        "# Function to classify a triangle based on sides' lengths\n",
        "def classify_triangle(side1, side2, side3):\n",
        "    if side1 == side2 == side3:\n",
        "        return \"Equilateral Triangle\"\n",
        "    elif side1 == side2 or side1 == side3 or side2 == side3:\n",
        "        return \"Isosceles Triangle\"\n",
        "    else:\n",
        "        return \"Scalene Triangle\"\n",
        "\n",
        "# Example: Classify a triangle with sides 5, 5, and 8\n",
        "side_length1 = 5\n",
        "side_length2 = 5\n",
        "side_length3 = 8\n",
        "triangle_result = classify_triangle(side_length1, side_length2, side_length3)\n",
        "print(f\"A triangle with sides {side_length1}, {side_length2}, and {side_length3} is a {triangle_result}.\")\n"
      ],
      "metadata": {
        "colab": {
          "base_uri": "https://localhost:8080/"
        },
        "id": "jeB7WCLN5eR7",
        "outputId": "cdf998f0-2164-4362-d5c2-ef8fb626370d"
      },
      "execution_count": null,
      "outputs": [
        {
          "output_type": "stream",
          "name": "stdout",
          "text": [
            "A triangle with sides 5, 5, and 8 is a Isosceles Triangle.\n"
          ]
        }
      ]
    },
    {
      "cell_type": "markdown",
      "source": [
        "## **7. Build a program that determines the largest of three given numbers.**"
      ],
      "metadata": {
        "id": "ICJY5jSe5eXh"
      }
    },
    {
      "cell_type": "code",
      "source": [
        "# Function to determine the largest of three numbers\n",
        "def find_largest(num1, num2, num3):\n",
        "    max_num = max(num1, num2, num3)\n",
        "    return max_num\n",
        "\n",
        "# Example: Find the largest among 14, 27, and 9\n",
        "number1 = 14\n",
        "number2 = 27\n",
        "number3 = 9\n",
        "largest_result = find_largest(number1, number2, number3)\n",
        "print(f\"The largest among {number1}, {number2}, and {number3} is: {largest_result}\")\n"
      ],
      "metadata": {
        "colab": {
          "base_uri": "https://localhost:8080/"
        },
        "id": "nFj5RQB85edk",
        "outputId": "ca898ae0-db60-4b5d-d8e6-12c671149c92"
      },
      "execution_count": null,
      "outputs": [
        {
          "output_type": "stream",
          "name": "stdout",
          "text": [
            "The largest among 14, 27, and 9 is: 27\n"
          ]
        }
      ]
    },
    {
      "cell_type": "markdown",
      "source": [
        "## **8. Develop a program that checks whether a character is a vowel or a consonant.**"
      ],
      "metadata": {
        "id": "IuODO6do5ekP"
      }
    },
    {
      "cell_type": "code",
      "source": [
        "# Function to check if a character is a vowel or consonant\n",
        "def check_vowel_consonant(char):\n",
        "    vowels = \"aeiouAEIOU\"\n",
        "\n",
        "    if len(char) == 1 and char.isalpha() and char in vowels:\n",
        "        return \"Vowel\"\n",
        "    elif len(char) == 1 and char.isalpha():\n",
        "        return \"Consonant\"\n",
        "    else:\n",
        "        return \"Invalid Input\"\n",
        "\n",
        "# Take user input for a character\n",
        "user_char = input(\"Enter a single character: \")\n",
        "\n",
        "# Call the function and print the result\n",
        "result = check_vowel_consonant(user_char)\n",
        "print(f\"The character '{user_char}' is a {result}.\")\n",
        "\n"
      ],
      "metadata": {
        "colab": {
          "base_uri": "https://localhost:8080/"
        },
        "id": "XNG5bmpi5epU",
        "outputId": "1e5ea6d9-82dc-4c9e-99f8-40fff4e46a9a"
      },
      "execution_count": null,
      "outputs": [
        {
          "output_type": "stream",
          "name": "stdout",
          "text": [
            "Enter a single character: f\n",
            "The character 'f' is a Consonant.\n"
          ]
        }
      ]
    },
    {
      "cell_type": "markdown",
      "source": [
        "## **9. Create a program to calculate the total cost of a shopping cart based on discounts.**"
      ],
      "metadata": {
        "id": "A1rP58i95eu_"
      }
    },
    {
      "cell_type": "code",
      "source": [
        "# Function to calculate the total cost with discounts\n",
        "def calculate_total_cost(cart_total):\n",
        "    discount_percentage = 0\n",
        "\n",
        "    if cart_total >= 100:\n",
        "        discount_percentage = 10\n",
        "    elif cart_total >= 50:\n",
        "        discount_percentage = 5\n",
        "\n",
        "    discount_amount = (discount_percentage / 100) * cart_total\n",
        "    discounted_total = cart_total - discount_amount\n",
        "\n",
        "    return discounted_total\n",
        "\n",
        "# Take user input for the total cost of the shopping cart\n",
        "user_cart_total = float(input(\"Enter the total cost of the shopping cart: $\"))\n",
        "\n",
        "# Call the function and print the result\n",
        "total_cost_result = calculate_total_cost(user_cart_total)\n",
        "print(f\"The total cost for the shopping cart with a total of ${user_cart_total:.2f} is: ${total_cost_result:.2f}\")\n"
      ],
      "metadata": {
        "colab": {
          "base_uri": "https://localhost:8080/"
        },
        "id": "41hfoKrY5e0j",
        "outputId": "0854db30-950a-408a-ccfe-bf890e5a7cc2"
      },
      "execution_count": null,
      "outputs": [
        {
          "output_type": "stream",
          "name": "stdout",
          "text": [
            "Enter the total cost of the shopping cart: $100\n",
            "The total cost for the shopping cart with a total of $100.00 is: $90.00\n"
          ]
        }
      ]
    },
    {
      "cell_type": "markdown",
      "source": [
        "## **10. Write a program that checks if a given number is even or odd.**"
      ],
      "metadata": {
        "id": "SPSoSOCh5e6p"
      }
    },
    {
      "cell_type": "code",
      "source": [
        "# Function to check if a number is even or odd\n",
        "def check_even_odd(number):\n",
        "    if number % 2 == 0:\n",
        "        return \"Even\"\n",
        "    else:\n",
        "        return \"Odd\"\n",
        "\n",
        "# Take user input for a number\n",
        "user_number = int(input(\"Enter a number: \"))\n",
        "\n",
        "# Call the function and print the result\n",
        "result = check_even_odd(user_number)\n",
        "print(f\"The number {user_number} is {result}.\")\n"
      ],
      "metadata": {
        "colab": {
          "base_uri": "https://localhost:8080/"
        },
        "id": "WoUzTRgr5e__",
        "outputId": "c20fc8ca-2577-4355-83a4-9df886640b97"
      },
      "execution_count": null,
      "outputs": [
        {
          "output_type": "stream",
          "name": "stdout",
          "text": [
            "Enter a number: 4\n",
            "The number 4 is Even.\n"
          ]
        }
      ]
    },
    {
      "cell_type": "markdown",
      "source": [
        "## ***Intermediate Level:***\n",
        "\n",
        "---\n",
        "\n"
      ],
      "metadata": {
        "id": "XOJPApdM-cJD"
      }
    },
    {
      "cell_type": "markdown",
      "source": [
        "## **11. Write a program that calculates the roots of a quadratic equation .**"
      ],
      "metadata": {
        "id": "icGMDs8G-oKM"
      }
    },
    {
      "cell_type": "code",
      "source": [
        "import cmath  # Importing the complex math module for handling complex roots\n",
        "\n",
        "# Function to calculate the roots of a quadratic equation\n",
        "def calculate_roots(a, b, c):\n",
        "    # Calculate the discriminant\n",
        "    discriminant = cmath.sqrt(b**2 - 4*a*c)\n",
        "\n",
        "    # Calculate the roots using the quadratic formula\n",
        "    root1 = (-b + discriminant) / (2*a)\n",
        "    root2 = (-b - discriminant) / (2*a)\n",
        "\n",
        "    return root1, root2\n",
        "\n",
        "# Example: Calculate the roots for the quadratic equation 2x^2 + 5x + 2 = 0\n",
        "coeff_a = 2\n",
        "coeff_b = 5\n",
        "coeff_c = 2\n",
        "roots_result = calculate_roots(coeff_a, coeff_b, coeff_c)\n",
        "print(f\"The roots of the quadratic equation {coeff_a}x^2 + {coeff_b}x + {coeff_c} = 0 are: {roots_result}\")\n"
      ],
      "metadata": {
        "colab": {
          "base_uri": "https://localhost:8080/"
        },
        "id": "FgyTPHg_-GHR",
        "outputId": "27a122e0-6597-493b-8da9-bf300ab2fec3"
      },
      "execution_count": null,
      "outputs": [
        {
          "output_type": "stream",
          "name": "stdout",
          "text": [
            "The roots of the quadratic equation 2x^2 + 5x + 2 = 0 are: ((-0.5+0j), (-2+0j))\n"
          ]
        }
      ]
    },
    {
      "cell_type": "markdown",
      "source": [
        "## **12. Create a program that determines the day of the week based on the day number (1-7).**"
      ],
      "metadata": {
        "id": "Xdxf-Plr-RzU"
      }
    },
    {
      "cell_type": "code",
      "source": [
        "# Function to determine the day of the week\n",
        "def determine_day_of_week(day_number):\n",
        "    days_of_week = [\"Monday\", \"Tuesday\", \"Wednesday\", \"Thursday\", \"Friday\", \"Saturday\", \"Sunday\"]\n",
        "\n",
        "    if 1 <= day_number <= 7:\n",
        "        return days_of_week[day_number - 1]\n",
        "    else:\n",
        "        return \"Invalid Day Number\"\n",
        "\n",
        "# Take user input for the day number\n",
        "user_day_number = int(input(\"Enter the day number (1-7): \"))\n",
        "\n",
        "# Call the function and print the result\n",
        "day_of_week_result = determine_day_of_week(user_day_number)\n",
        "print(f\"Day number {user_day_number} corresponds to {day_of_week_result}.\")\n"
      ],
      "metadata": {
        "colab": {
          "base_uri": "https://localhost:8080/"
        },
        "id": "PoA1ex8R-R9D",
        "outputId": "5e53a1a4-a162-424b-a257-8c243721c09e"
      },
      "execution_count": null,
      "outputs": [
        {
          "output_type": "stream",
          "name": "stdout",
          "text": [
            "Enter the day number (1-7): 5\n",
            "Day number 5 corresponds to Friday.\n"
          ]
        }
      ]
    },
    {
      "cell_type": "markdown",
      "source": [
        "## **13. Develop a program that calculates the factorial of a given number using recursion.**"
      ],
      "metadata": {
        "id": "3pddRYpV-SGv"
      }
    },
    {
      "cell_type": "code",
      "source": [
        "# Function to calculate the factorial using recursion\n",
        "def calculate_factorial(n):\n",
        "    if n == 0 or n == 1:\n",
        "        return 1\n",
        "    else:\n",
        "        return n * calculate_factorial(n - 1)\n",
        "\n",
        "# Take user input for the number\n",
        "user_number = int(input(\"Enter a number to calculate its factorial: \"))\n",
        "\n",
        "# Call the function and print the result\n",
        "factorial_result = calculate_factorial(user_number)\n",
        "print(f\"The factorial of {user_number} is: {factorial_result}\")\n"
      ],
      "metadata": {
        "colab": {
          "base_uri": "https://localhost:8080/"
        },
        "id": "SEMrD5h4-SM8",
        "outputId": "d10d9ae2-02fb-49bd-cbc0-d5cb8468c997"
      },
      "execution_count": null,
      "outputs": [
        {
          "output_type": "stream",
          "name": "stdout",
          "text": [
            "Enter a number to calculate its factorial: 4\n",
            "The factorial of 4 is: 24\n"
          ]
        }
      ]
    },
    {
      "cell_type": "markdown",
      "source": [
        "## **14. Write a program to find the largest among three numbers without using the `max()` function.**"
      ],
      "metadata": {
        "id": "x78Hmr5D-SSK"
      }
    },
    {
      "cell_type": "code",
      "source": [
        "# Function to find the largest among three numbers without using max()\n",
        "def find_largest(num1, num2, num3):\n",
        "    if num1 >= num2 and num1 >= num3:\n",
        "        return num1\n",
        "    elif num2 >= num1 and num2 >= num3:\n",
        "        return num2\n",
        "    else:\n",
        "        return num3\n",
        "\n",
        "# Take user input for three numbers\n",
        "user_num1 = float(input(\"Enter the first number: \"))\n",
        "user_num2 = float(input(\"Enter the second number: \"))\n",
        "user_num3 = float(input(\"Enter the third number: \"))\n",
        "\n",
        "# Call the function and print the result\n",
        "largest_result = find_largest(user_num1, user_num2, user_num3)\n",
        "print(f\"The largest among {user_num1}, {user_num2}, and {user_num3} is: {largest_result}\")\n"
      ],
      "metadata": {
        "colab": {
          "base_uri": "https://localhost:8080/"
        },
        "id": "c58Vr7y7-SXK",
        "outputId": "bcf1d7a1-d0bf-48de-f6fc-cfb08ce418f4"
      },
      "execution_count": null,
      "outputs": [
        {
          "output_type": "stream",
          "name": "stdout",
          "text": [
            "Enter the first number: 35\n",
            "Enter the second number: 326.24\n",
            "Enter the third number: 326.8\n",
            "The largest among 35.0, 326.24, and 326.8 is: 326.8\n"
          ]
        }
      ]
    },
    {
      "cell_type": "markdown",
      "source": [
        "## **15. Create a program that simulates a basic ATM transaction menu.**"
      ],
      "metadata": {
        "id": "4_NtJHxo-S4g"
      }
    },
    {
      "cell_type": "code",
      "source": [
        "# Function to simulate the ATM transaction menu\n",
        "def atm_transaction_menu(balance):\n",
        "    while True:\n",
        "        print(\"\\nATM Transaction Menu:\")\n",
        "        print(\"1. Check Balance\")\n",
        "        print(\"2. Deposit Money\")\n",
        "        print(\"3. Withdraw Money\")\n",
        "        print(\"4. Exit\")\n",
        "\n",
        "        choice = int(input(\"Enter your choice (1-4): \"))\n",
        "\n",
        "        if choice == 1:\n",
        "            print(f\"Current Balance: ${balance:.2f}\")\n",
        "        elif choice == 2:\n",
        "            deposit_amount = float(input(\"Enter the deposit amount: $\"))\n",
        "            balance += deposit_amount\n",
        "            print(f\"Deposited ${deposit_amount:.2f} successfully. Updated Balance: ${balance:.2f}\")\n",
        "        elif choice == 3:\n",
        "            withdraw_amount = float(input(\"Enter the withdrawal amount: $\"))\n",
        "            if withdraw_amount <= balance:\n",
        "                balance -= withdraw_amount\n",
        "                print(f\"Withdrawn ${withdraw_amount:.2f} successfully. Updated Balance: ${balance:.2f}\")\n",
        "            else:\n",
        "                print(\"Insufficient funds.\")\n",
        "        elif choice == 4:\n",
        "            print(\"Exiting ATM. Thank you!\")\n",
        "            break\n",
        "        else:\n",
        "            print(\"Invalid choice. Please enter a valid option.\")\n",
        "\n",
        "# Take user input for the initial balance\n",
        "user_initial_balance = float(input(\"Enter the initial balance: $\"))\n",
        "\n",
        "# Call the function to simulate ATM transactions\n",
        "atm_transaction_menu(user_initial_balance)\n"
      ],
      "metadata": {
        "colab": {
          "base_uri": "https://localhost:8080/"
        },
        "id": "B6dP1c1m-TBp",
        "outputId": "1ebe9d9c-2468-4fa3-b214-ef9e853f476e"
      },
      "execution_count": null,
      "outputs": [
        {
          "output_type": "stream",
          "name": "stdout",
          "text": [
            "Enter the initial balance: $400\n",
            "\n",
            "ATM Transaction Menu:\n",
            "1. Check Balance\n",
            "2. Deposit Money\n",
            "3. Withdraw Money\n",
            "4. Exit\n",
            "Enter your choice (1-4): 3526\n",
            "Invalid choice. Please enter a valid option.\n",
            "\n",
            "ATM Transaction Menu:\n",
            "1. Check Balance\n",
            "2. Deposit Money\n",
            "3. Withdraw Money\n",
            "4. Exit\n",
            "Enter your choice (1-4): 3\n",
            "Enter the withdrawal amount: $200\n",
            "Withdrawn $200.00 successfully. Updated Balance: $200.00\n",
            "\n",
            "ATM Transaction Menu:\n",
            "1. Check Balance\n",
            "2. Deposit Money\n",
            "3. Withdraw Money\n",
            "4. Exit\n",
            "Enter your choice (1-4): 0\n",
            "Invalid choice. Please enter a valid option.\n",
            "\n",
            "ATM Transaction Menu:\n",
            "1. Check Balance\n",
            "2. Deposit Money\n",
            "3. Withdraw Money\n",
            "4. Exit\n",
            "Enter your choice (1-4): 1\n",
            "Current Balance: $200.00\n",
            "\n",
            "ATM Transaction Menu:\n",
            "1. Check Balance\n",
            "2. Deposit Money\n",
            "3. Withdraw Money\n",
            "4. Exit\n",
            "Enter your choice (1-4): 4\n",
            "Exiting ATM. Thank you!\n"
          ]
        }
      ]
    },
    {
      "cell_type": "markdown",
      "source": [
        "## **16. Build a program that checks if a given string is a palindrome or not.**"
      ],
      "metadata": {
        "id": "lga05Uej-TKI"
      }
    },
    {
      "cell_type": "code",
      "source": [
        "# Function to check if a string is a palindrome\n",
        "def is_palindrome(string):\n",
        "    cleaned_string = ''.join(char.lower() for char in string if char.isalnum())\n",
        "    return cleaned_string == cleaned_string[::-1]\n",
        "\n",
        "# Example: Check if the string \"A man, a plan, a canal, Panama\" is a palindrome\n",
        "example_string = \"A man, a plan, a canal, Panama\"\n",
        "result = is_palindrome(example_string)\n",
        "print(f\"The string '{example_string}' is a palindrome: {result}\")\n"
      ],
      "metadata": {
        "colab": {
          "base_uri": "https://localhost:8080/"
        },
        "id": "JWv-khxx-TRK",
        "outputId": "a1c2c0c5-8449-47a8-c54c-50ab8ca85f61"
      },
      "execution_count": null,
      "outputs": [
        {
          "output_type": "stream",
          "name": "stdout",
          "text": [
            "The string 'A man, a plan, a canal, Panama' is a palindrome: True\n"
          ]
        }
      ]
    },
    {
      "cell_type": "markdown",
      "source": [
        "## **17. Write a program that calculates the average of a list of numbers, excluding the smallest and largest values.**\n",
        "\n"
      ],
      "metadata": {
        "id": "G0ZpU4fW-TXn"
      }
    },
    {
      "cell_type": "code",
      "source": [
        "# Function to calculate the average excluding the smallest and largest values\n",
        "def calculate_average(numbers):\n",
        "    if len(numbers) < 3:\n",
        "        return \"List should have at least three elements.\"\n",
        "\n",
        "    # Exclude the smallest and largest values\n",
        "    sorted_numbers = sorted(numbers)\n",
        "    excluded_numbers = sorted_numbers[1:-1]\n",
        "\n",
        "    # Calculate the average of the remaining values\n",
        "    average = sum(excluded_numbers) / len(excluded_numbers)\n",
        "    return average\n",
        "\n",
        "# Take user input for a list of numbers\n",
        "user_numbers = [float(num) for num in input(\"Enter a list of numbers separated by spaces: \").split()]\n",
        "\n",
        "# Call the function and print the result\n",
        "average_result = calculate_average(user_numbers)\n",
        "print(f\"The average excluding the smallest and largest values is: {average_result:.2f}\")\n"
      ],
      "metadata": {
        "id": "Z0p9xgQf-TdI",
        "colab": {
          "base_uri": "https://localhost:8080/"
        },
        "outputId": "ee221bb2-7f75-431f-cf58-390b8a2f0bab"
      },
      "execution_count": 2,
      "outputs": [
        {
          "output_type": "stream",
          "name": "stdout",
          "text": [
            "Enter a list of numbers separated by spaces: 12 13 14 15 16 17 18\n",
            "The average excluding the smallest and largest values is: 15.00\n"
          ]
        }
      ]
    },
    {
      "cell_type": "markdown",
      "source": [
        "## **18. Develop a program that converts a given temperature from Celsius to Fahrenheit.**"
      ],
      "metadata": {
        "id": "KyHZJ4Ul-Tin"
      }
    },
    {
      "cell_type": "code",
      "source": [
        "# Function to convert Celsius to Fahrenheit\n",
        "def celsius_to_fahrenheit(celsius):\n",
        "    fahrenheit = (celsius * 9/5) + 32\n",
        "    return fahrenheit\n",
        "\n",
        "# Example: Convert 20 degrees Celsius to Fahrenheit\n",
        "celsius_example = 20\n",
        "fahrenheit_result = celsius_to_fahrenheit(celsius_example)\n",
        "print(f\"{celsius_example} degrees Celsius is equal to {fahrenheit_result:.2f} degrees Fahrenheit.\")\n"
      ],
      "metadata": {
        "id": "uI1OxXKs-ToO",
        "colab": {
          "base_uri": "https://localhost:8080/"
        },
        "outputId": "267e2b0e-b6e5-45ed-fc38-e099b7e2efb9"
      },
      "execution_count": 3,
      "outputs": [
        {
          "output_type": "stream",
          "name": "stdout",
          "text": [
            "20 degrees Celsius is equal to 68.00 degrees Fahrenheit.\n"
          ]
        }
      ]
    },
    {
      "cell_type": "markdown",
      "source": [
        "## **19. Create a program that simulates a basic calculator for addition, subtraction, multiplication, and division.**"
      ],
      "metadata": {
        "id": "H2jzIih9-T3X"
      }
    },
    {
      "cell_type": "code",
      "source": [
        "# Function to perform basic calculator operations\n",
        "def basic_calculator(num1, num2, operation):\n",
        "    if operation == 'add':\n",
        "        result = num1 + num2\n",
        "    elif operation == 'subtract':\n",
        "        result = num1 - num2\n",
        "    elif operation == 'multiply':\n",
        "        result = num1 * num2\n",
        "    elif operation == 'divide':\n",
        "        if num2 != 0:\n",
        "            result = num1 / num2\n",
        "        else:\n",
        "            return \"Cannot divide by zero.\"\n",
        "    else:\n",
        "        return \"Invalid operation.\"\n",
        "\n",
        "    return result\n",
        "\n",
        "# Example: Perform addition (5 + 3)\n",
        "num1_example = 5\n",
        "num2_example = 3\n",
        "operation_example = 'add'\n",
        "result = basic_calculator(num1_example, num2_example, operation_example)\n",
        "print(f\"{num1_example} + {num2_example} = {result}\")\n"
      ],
      "metadata": {
        "id": "M5-O1nXZ-T8e",
        "colab": {
          "base_uri": "https://localhost:8080/"
        },
        "outputId": "db47d31d-fc68-4a8e-d86f-ef8ce37d5483"
      },
      "execution_count": 4,
      "outputs": [
        {
          "output_type": "stream",
          "name": "stdout",
          "text": [
            "5 + 3 = 8\n"
          ]
        }
      ]
    },
    {
      "cell_type": "markdown",
      "source": [
        "## **20. Write a program that determines the roots of a cubic equation using the Cardano formula.**"
      ],
      "metadata": {
        "id": "bb9zDPAV-UBD"
      }
    },
    {
      "cell_type": "code",
      "source": [
        "import cmath\n",
        "\n",
        "# Function to calculate the roots of a cubic equation using Cardano's formula\n",
        "def cardano_cubic_roots(a, b, c, d):\n",
        "    delta_0 = b**2 - 3*a*c\n",
        "    delta_1 = 2*b**3 - 9*a*b*c + 27*a**2*d\n",
        "    C = ((delta_1 + cmath.sqrt(delta_1**2 - 4*delta_0**3)) / 2)**(1/3)\n",
        "\n",
        "    if C == 0:\n",
        "        root_1 = -b / (3*a)\n",
        "        root_2 = root_3 = (-delta_0 / C) + root_1\n",
        "    else:\n",
        "        root_1 = -(b + C + delta_0/C) / (3*a)\n",
        "        root_2 = -(b + cmath.exp(2j*cmath.pi/3)*C + delta_0/(cmath.exp(2j*cmath.pi/3)*C)) / (3*a)\n",
        "        root_3 = -(b + cmath.exp(4j*cmath.pi/3)*C + delta_0/(cmath.exp(4j*cmath.pi/3)*C)) / (3*a)\n",
        "\n",
        "    return root_1, root_2, root_3\n",
        "\n",
        "# Example: Find the roots of x^3 - 6x^2 + 11x - 6 = 0\n",
        "a_coefficient = 1\n",
        "b_coefficient = -6\n",
        "c_coefficient = 11\n",
        "d_coefficient = -6\n",
        "\n",
        "roots_result = cardano_cubic_roots(a_coefficient, b_coefficient, c_coefficient, d_coefficient)\n",
        "print(f\"The roots of the cubic equation are: {roots_result}\")\n"
      ],
      "metadata": {
        "id": "bCyeA80--UGZ",
        "colab": {
          "base_uri": "https://localhost:8080/"
        },
        "outputId": "d43e6dca-74c7-4f31-c07e-bd9b17fd4587"
      },
      "execution_count": 5,
      "outputs": [
        {
          "output_type": "stream",
          "name": "stdout",
          "text": [
            "The roots of the cubic equation are: ((1-0j), (3+1.1102230246251565e-16j), (2.0000000000000004-7.401486830834377e-17j))\n"
          ]
        }
      ]
    },
    {
      "cell_type": "markdown",
      "source": [
        "## ***Advanced Level:***\n",
        "\n",
        "---\n",
        "\n"
      ],
      "metadata": {
        "id": "KsoXF1FA-ULk"
      }
    },
    {
      "cell_type": "markdown",
      "source": [
        "## **21. Create a program that calculates the income tax based on the user's income and tax brackets.**"
      ],
      "metadata": {
        "id": "rYWpD2pjVXXj"
      }
    },
    {
      "cell_type": "code",
      "source": [
        "# Function to calculate income tax based on tax brackets\n",
        "def calculate_income_tax(income):\n",
        "    # Define tax brackets and rates\n",
        "    brackets = [10000, 40000, 80000]  # Example tax brackets\n",
        "    rates = [0.1, 0.2, 0.3, 0.4]      # Example tax rates\n",
        "\n",
        "    # Initialize variables\n",
        "    remaining_income = income\n",
        "    tax_paid = 0\n",
        "\n",
        "    # Calculate tax based on tax brackets\n",
        "    for i in range(len(brackets)):\n",
        "        if remaining_income <= 0:\n",
        "            break\n",
        "\n",
        "        if i == len(brackets) - 1:\n",
        "            # Last bracket\n",
        "            tax_paid += remaining_income * rates[i]\n",
        "        else:\n",
        "            taxable_amount = min(remaining_income, brackets[i + 1] - brackets[i])\n",
        "            tax_paid += taxable_amount * rates[i]\n",
        "\n",
        "        remaining_income -= brackets[i + 1] - brackets[i]\n",
        "\n",
        "    return tax_paid\n",
        "\n",
        "# Example: Calculate income tax for an income of $50,000\n",
        "user_income = float(input(\"Enter your annual income: $\"))\n",
        "income_tax_result = calculate_income_tax(user_income)\n",
        "print(f\"The income tax for an income of ${user_income:.2f} is: ${income_tax_result:.2f}\")\n"
      ],
      "metadata": {
        "id": "vB1sjpBj-UQM",
        "colab": {
          "base_uri": "https://localhost:8080/"
        },
        "outputId": "f31e9506-a39b-4465-d87d-4941de945634"
      },
      "execution_count": 6,
      "outputs": [
        {
          "output_type": "stream",
          "name": "stdout",
          "text": [
            "Enter your annual income: $3000\n",
            "The income tax for an income of $3000.00 is: $300.00\n"
          ]
        }
      ]
    },
    {
      "cell_type": "markdown",
      "source": [
        "## **22. Write a program that simulates a rock-paper-scissors game against the computer.**"
      ],
      "metadata": {
        "id": "hhTeSpfY-UVi"
      }
    },
    {
      "cell_type": "code",
      "source": [
        "import random\n",
        "\n",
        "# Function to get the user's choice\n",
        "def get_user_choice():\n",
        "    print(\"Choose: Rock, Paper, or Scissors\")\n",
        "    user_choice = input(\"Your choice: \").lower()\n",
        "    return user_choice\n",
        "\n",
        "# Function for the computer to make a random choice\n",
        "def get_computer_choice():\n",
        "    choices = [\"rock\", \"paper\", \"scissors\"]\n",
        "    computer_choice = random.choice(choices)\n",
        "    return computer_choice\n",
        "\n",
        "# Function to determine the winner of the game\n",
        "def determine_winner(user_choice, computer_choice):\n",
        "    if user_choice == computer_choice:\n",
        "        return \"It's a tie!\"\n",
        "    elif (user_choice == \"rock\" and computer_choice == \"scissors\") or \\\n",
        "         (user_choice == \"paper\" and computer_choice == \"rock\") or \\\n",
        "         (user_choice == \"scissors\" and computer_choice == \"paper\"):\n",
        "        return \"You win!\"\n",
        "    else:\n",
        "        return \"Computer wins!\"\n",
        "\n",
        "# Main game loop\n",
        "while True:\n",
        "    # Get user and computer choices\n",
        "    user_choice = get_user_choice()\n",
        "    computer_choice = get_computer_choice()\n",
        "\n",
        "    # Print choices\n",
        "    print(f\"You chose: {user_choice}\")\n",
        "    print(f\"Computer chose: {computer_choice}\")\n",
        "\n",
        "    # Determine the winner\n",
        "    result = determine_winner(user_choice, computer_choice)\n",
        "    print(result)\n",
        "\n",
        "    # Ask if the user wants to play again\n",
        "    play_again = input(\"Do you want to play again? (yes/no): \").lower()\n",
        "    if play_again != 'yes':\n",
        "        print(\"Thanks for playing! Goodbye!\")\n",
        "        break\n"
      ],
      "metadata": {
        "id": "ACnb3y7P-UkF",
        "colab": {
          "base_uri": "https://localhost:8080/"
        },
        "outputId": "3ae3a316-7c92-426f-e24c-291ad8ef0b99"
      },
      "execution_count": 7,
      "outputs": [
        {
          "output_type": "stream",
          "name": "stdout",
          "text": [
            "Choose: Rock, Paper, or Scissors\n",
            "Your choice: paper\n",
            "You chose: paper\n",
            "Computer chose: scissors\n",
            "Computer wins!\n",
            "Do you want to play again? (yes/no): no\n",
            "Thanks for playing! Goodbye!\n"
          ]
        }
      ]
    },
    {
      "cell_type": "markdown",
      "source": [
        "## **23. Develop a program that generates a random password based on user preferences (length, complexity).**"
      ],
      "metadata": {
        "id": "G451URah-UoP"
      }
    },
    {
      "cell_type": "code",
      "source": [
        "import random\n",
        "import string\n",
        "\n",
        "# Function to generate a random password\n",
        "def generate_password(length, include_lowercase, include_uppercase, include_digits, include_special_chars):\n",
        "    # Define character sets based on complexity preferences\n",
        "    lowercase_chars = string.ascii_lowercase if include_lowercase else ''\n",
        "    uppercase_chars = string.ascii_uppercase if include_uppercase else ''\n",
        "    digit_chars = string.digits if include_digits else ''\n",
        "    special_chars = string.punctuation if include_special_chars else ''\n",
        "\n",
        "    # Combine character sets\n",
        "    all_chars = lowercase_chars + uppercase_chars + digit_chars + special_chars\n",
        "\n",
        "    # Check if at least one character set is selected\n",
        "    if not all_chars:\n",
        "        return \"Please select at least one character set.\"\n",
        "\n",
        "    # Generate the random password\n",
        "    password = ''.join(random.choice(all_chars) for _ in range(length))\n",
        "    return password\n",
        "\n",
        "# Get user preferences for password generation\n",
        "length = int(input(\"Enter the desired length of the password: \"))\n",
        "include_lowercase = input(\"Include lowercase letters? (yes/no): \").lower() == 'yes'\n",
        "include_uppercase = input(\"Include uppercase letters? (yes/no): \").lower() == 'yes'\n",
        "include_digits = input(\"Include digits? (yes/no): \").lower() == 'yes'\n",
        "include_special_chars = input(\"Include special characters? (yes/no): \").lower() == 'yes'\n",
        "\n",
        "# Generate and print the password\n",
        "generated_password = generate_password(length, include_lowercase, include_uppercase, include_digits, include_special_chars)\n",
        "print(f\"Generated Password: {generated_password}\")\n",
        "\n"
      ],
      "metadata": {
        "id": "i9PzVj-o-U2N",
        "colab": {
          "base_uri": "https://localhost:8080/"
        },
        "outputId": "019fc745-2b22-4a53-e91b-df1db24679ae"
      },
      "execution_count": 10,
      "outputs": [
        {
          "output_type": "stream",
          "name": "stdout",
          "text": [
            "Enter the desired length of the password: 5\n",
            "Include lowercase letters? (yes/no): yes\n",
            "Include uppercase letters? (yes/no): no\n",
            "Include digits? (yes/no): no\n",
            "Include special characters? (yes/no): no\n",
            "Generated Password: ixgew\n"
          ]
        }
      ]
    },
    {
      "cell_type": "markdown",
      "source": [
        "## **24. Create a program that implements a simple text-based adventure game with branching scenarios.**"
      ],
      "metadata": {
        "id": "AQbQT20P-U63"
      }
    },
    {
      "cell_type": "code",
      "source": [
        "import time\n",
        "\n",
        "# Function to print messages with a slight delay for a more interactive feel\n",
        "def print_with_delay(message, delay=1):\n",
        "    print(message)\n",
        "    time.sleep(delay)\n",
        "\n",
        "# Function to simulate a text-based adventure game\n",
        "def text_adventure_game():\n",
        "    print_with_delay(\"Welcome to the Text Adventure Game!\")\n",
        "\n",
        "    # Scenario 1\n",
        "    print_with_delay(\"\\nYou find yourself standing at a crossroads.\")\n",
        "    choice1 = input(\"Do you want to go left or right? \").lower()\n",
        "\n",
        "    if choice1 == 'left':\n",
        "        # Scenario 2a\n",
        "        print_with_delay(\"\\nYou enter a dark forest.\")\n",
        "        choice2a = input(\"Do you want to continue deeper into the forest or turn back? \").lower()\n",
        "\n",
        "        if choice2a == 'continue':\n",
        "            # Scenario 3a\n",
        "            print_with_delay(\"\\nAs you venture deeper, you encounter a friendly fairy.\")\n",
        "            print_with_delay(\"The fairy grants you a magical key.\")\n",
        "            print_with_delay(\"Congratulations! You've completed the adventure!\")\n",
        "        else:\n",
        "            # Scenario 3b\n",
        "            print_with_delay(\"\\nYou decide to turn back. The adventure ends here.\")\n",
        "    elif choice1 == 'right':\n",
        "        # Scenario 2b\n",
        "        print_with_delay(\"\\nYou walk along a path that leads to a castle.\")\n",
        "        choice2b = input(\"Do you want to explore the castle or head back to the crossroads? \").lower()\n",
        "\n",
        "        if choice2b == 'explore':\n",
        "            # Scenario 3c\n",
        "            print_with_delay(\"\\nInside the castle, you discover a hidden treasure room.\")\n",
        "            print_with_delay(\"Congratulations! You've completed the adventure!\")\n",
        "        else:\n",
        "            # Scenario 3d\n",
        "            print_with_delay(\"\\nYou decide to head back to the crossroads. The adventure ends here.\")\n",
        "    else:\n",
        "        # Invalid choice\n",
        "        print_with_delay(\"\\nInvalid choice. The adventure ends here.\")\n",
        "\n",
        "# Run the text-based adventure game\n",
        "text_adventure_game()\n"
      ],
      "metadata": {
        "id": "eJqa-jUY-VKJ",
        "colab": {
          "base_uri": "https://localhost:8080/"
        },
        "outputId": "428be7e4-adfb-42a9-cb29-ecac4d45cce6"
      },
      "execution_count": 12,
      "outputs": [
        {
          "output_type": "stream",
          "name": "stdout",
          "text": [
            "Welcome to the Text Adventure Game!\n",
            "\n",
            "You find yourself standing at a crossroads.\n",
            "Do you want to go left or right? left\n",
            "\n",
            "You enter a dark forest.\n",
            "Do you want to continue deeper into the forest or turn back? continue\n",
            "\n",
            "As you venture deeper, you encounter a friendly fairy.\n",
            "The fairy grants you a magical key.\n",
            "Congratulations! You've completed the adventure!\n"
          ]
        }
      ]
    },
    {
      "cell_type": "markdown",
      "source": [
        "## **25. Build a program that solves a linear equation for x, considering different cases.**"
      ],
      "metadata": {
        "id": "hJXNDGMU-VNK"
      }
    },
    {
      "cell_type": "code",
      "source": [
        "# Function to solve a linear equation ax + b = 0 for x\n",
        "def solve_linear_equation(a, b):\n",
        "    if a == 0:\n",
        "        if b == 0:\n",
        "            return \"Infinite solutions (all real numbers are solutions)\"\n",
        "        else:\n",
        "            return \"No solution (contradiction)\"\n",
        "    else:\n",
        "        x = -b / a\n",
        "        return f\"The solution for the linear equation {a}x + {b} = 0 is x = {x}\"\n",
        "\n",
        "# Get user input for coefficients a and b\n",
        "a_coefficient = float(input(\"Enter the coefficient 'a': \"))\n",
        "b_coefficient = float(input(\"Enter the coefficient 'b': \"))\n",
        "\n",
        "# Solve the linear equation and print the result\n",
        "result = solve_linear_equation(a_coefficient, b_coefficient)\n",
        "print(result)\n"
      ],
      "metadata": {
        "id": "8wQH2jVT-VW2",
        "colab": {
          "base_uri": "https://localhost:8080/"
        },
        "outputId": "20b9061f-91e6-40bc-bc20-c44a4d7fc75b"
      },
      "execution_count": 13,
      "outputs": [
        {
          "output_type": "stream",
          "name": "stdout",
          "text": [
            "Enter the coefficient 'a': 3\n",
            "Enter the coefficient 'b': 5\n",
            "The solution for the linear equation 3.0x + 5.0 = 0 is x = -1.6666666666666667\n"
          ]
        }
      ]
    },
    {
      "cell_type": "markdown",
      "source": [
        "## **26. Write a program that simulates a basic quiz game with multiple-choice questions and scoring.**"
      ],
      "metadata": {
        "id": "E7ZvGzQp-Vbj"
      }
    },
    {
      "cell_type": "code",
      "source": [
        "# Function to ask a multiple-choice question and validate the answer\n",
        "def ask_question(question, options, correct_answer):\n",
        "    print(question)\n",
        "    for i, option in enumerate(options, start=1):\n",
        "        print(f\"{i}. {option}\")\n",
        "\n",
        "    user_answer = input(\"Enter the number corresponding to your answer: \")\n",
        "\n",
        "    try:\n",
        "        user_answer_index = int(user_answer) - 1\n",
        "        user_selected_option = options[user_answer_index]\n",
        "\n",
        "        if user_selected_option == correct_answer:\n",
        "            print(\"Correct!\\n\")\n",
        "            return 1  # Score 1 point for a correct answer\n",
        "        else:\n",
        "            print(f\"Wrong! The correct answer is: {correct_answer}\\n\")\n",
        "            return 0  # Score 0 points for a wrong answer\n",
        "    except (ValueError, IndexError):\n",
        "        print(\"Invalid input. Please enter the number corresponding to your answer.\\n\")\n",
        "        return 0  # Score 0 points for an invalid answer\n",
        "\n",
        "# Function to conduct the quiz\n",
        "def conduct_quiz():\n",
        "    print(\"Welcome to the Quiz Game!\")\n",
        "\n",
        "    # Define questions, options, and correct answers\n",
        "    questions = [\n",
        "        \"What is the capital of France?\",\n",
        "        \"Which planet is known as the Red Planet?\",\n",
        "        \"What is the largest mammal in the world?\",\n",
        "    ]\n",
        "    options = [\n",
        "        [\"Paris\", \"Berlin\", \"Rome\", \"Madrid\"],\n",
        "        [\"Venus\", \"Mars\", \"Jupiter\", \"Saturn\"],\n",
        "        [\"Elephant\", \"Blue Whale\", \"Giraffe\", \"Polar Bear\"],\n",
        "    ]\n",
        "    correct_answers = [\"Paris\", \"Mars\", \"Blue Whale\"]\n",
        "\n",
        "    # Initialize the score\n",
        "    score = 0\n",
        "\n",
        "    # Ask each question and update the score\n",
        "    for i in range(len(questions)):\n",
        "        score += ask_question(questions[i], options[i], correct_answers[i])\n",
        "\n",
        "    # Print the final score\n",
        "    print(f\"Your final score is: {score}/{len(questions)}\")\n",
        "\n",
        "# Run the quiz game\n",
        "conduct_quiz()\n"
      ],
      "metadata": {
        "id": "ULAsnQDf-Vg5",
        "colab": {
          "base_uri": "https://localhost:8080/"
        },
        "outputId": "4bc845b9-e104-4a73-891e-18edcd355b21"
      },
      "execution_count": 14,
      "outputs": [
        {
          "output_type": "stream",
          "name": "stdout",
          "text": [
            "Welcome to the Quiz Game!\n",
            "What is the capital of France?\n",
            "1. Paris\n",
            "2. Berlin\n",
            "3. Rome\n",
            "4. Madrid\n",
            "Enter the number corresponding to your answer: paris\n",
            "Invalid input. Please enter the number corresponding to your answer.\n",
            "\n",
            "Which planet is known as the Red Planet?\n",
            "1. Venus\n",
            "2. Mars\n",
            "3. Jupiter\n",
            "4. Saturn\n",
            "Enter the number corresponding to your answer: jupiter\n",
            "Invalid input. Please enter the number corresponding to your answer.\n",
            "\n",
            "What is the largest mammal in the world?\n",
            "1. Elephant\n",
            "2. Blue Whale\n",
            "3. Giraffe\n",
            "4. Polar Bear\n",
            "Enter the number corresponding to your answer: 2\n",
            "Correct!\n",
            "\n",
            "Your final score is: 1/3\n"
          ]
        }
      ]
    },
    {
      "cell_type": "markdown",
      "source": [
        "## **27. Develop a program that determines whether a given year is a prime number or not.**"
      ],
      "metadata": {
        "id": "q4b_syEM-VlM"
      }
    },
    {
      "cell_type": "code",
      "source": [
        "# Function to check if a number is prime\n",
        "def is_prime(number):\n",
        "    if number <= 1:\n",
        "        return False\n",
        "    for i in range(2, int(number**0.5) + 1):\n",
        "        if number % i == 0:\n",
        "            return False\n",
        "    return True\n",
        "\n",
        "# Get user input for the year\n",
        "year = int(input(\"Enter the year to check for primality: \"))\n",
        "\n",
        "# Check if the year is prime and print the result\n",
        "if is_prime(year):\n",
        "    print(f\"{year} is a prime year!\")\n",
        "else:\n",
        "    print(f\"{year} is not a prime year.\")\n"
      ],
      "metadata": {
        "id": "ibBjluRP-Vq_",
        "colab": {
          "base_uri": "https://localhost:8080/"
        },
        "outputId": "faa4649c-b539-4c43-d576-7a07a2ac1d7a"
      },
      "execution_count": 16,
      "outputs": [
        {
          "output_type": "stream",
          "name": "stdout",
          "text": [
            "Enter the year to check for primality: 1997\n",
            "1997 is a prime year!\n"
          ]
        }
      ]
    },
    {
      "cell_type": "markdown",
      "source": [
        "## **28. Create a program that sorts three numbers in ascending order using conditional statements.**"
      ],
      "metadata": {
        "id": "cC9LpclY-VvR"
      }
    },
    {
      "cell_type": "code",
      "source": [
        "# Function to sort three numbers in ascending order\n",
        "def sort_numbers(num1, num2, num3):\n",
        "    if num1 <= num2 and num1 <= num3:\n",
        "        smallest = num1\n",
        "        if num2 <= num3:\n",
        "            middle = num2\n",
        "            largest = num3\n",
        "        else:\n",
        "            middle = num3\n",
        "            largest = num2\n",
        "    elif num2 <= num1 and num2 <= num3:\n",
        "        smallest = num2\n",
        "        if num1 <= num3:\n",
        "            middle = num1\n",
        "            largest = num3\n",
        "        else:\n",
        "            middle = num3\n",
        "            largest = num1\n",
        "    else:\n",
        "        smallest = num3\n",
        "        if num1 <= num2:\n",
        "            middle = num1\n",
        "            largest = num2\n",
        "        else:\n",
        "            middle = num2\n",
        "            largest = num1\n",
        "\n",
        "    return smallest, middle, largest\n",
        "\n",
        "# Get user input for three numbers\n",
        "num1 = float(input(\"Enter the first number: \"))\n",
        "num2 = float(input(\"Enter the second number: \"))\n",
        "num3 = float(input(\"Enter the third number: \"))\n",
        "\n",
        "# Sort the numbers and print the result\n",
        "sorted_numbers = sort_numbers(num1, num2, num3)\n",
        "print(f\"The numbers in ascending order are: {sorted_numbers}\")\n"
      ],
      "metadata": {
        "id": "TmNvTLft-V0U",
        "colab": {
          "base_uri": "https://localhost:8080/"
        },
        "outputId": "6f30f704-3321-4b49-9769-e7f188145155"
      },
      "execution_count": 17,
      "outputs": [
        {
          "output_type": "stream",
          "name": "stdout",
          "text": [
            "Enter the first number: 52\n",
            "Enter the second number: 86\n",
            "Enter the third number: 47\n",
            "The numbers in ascending order are: (47.0, 52.0, 86.0)\n"
          ]
        }
      ]
    },
    {
      "cell_type": "markdown",
      "source": [
        "## **29. Build a program that determines the roots of a quartic equation using numerical methods.**"
      ],
      "metadata": {
        "id": "fvq1DfVf-V5v"
      }
    },
    {
      "cell_type": "markdown",
      "source": [
        "# Newton's Method for Finding Roots of a Quartic Equation\n",
        "\n",
        "Newton's method is an iterative numerical technique used to find the roots of a mathematical equation. In the context of a quartic equation, which is a polynomial of degree 4, Newton's method aims to approximate the values of \\(x\\) for which the equation equals zero.\n",
        "\n",
        "## Mathematical Representation\n",
        "\n",
        "Consider the general form of a quartic equation:\n",
        "\n",
        "\\[ ax^4 + bx^3 + cx^2 + dx + e = 0 \\]\n",
        "\n",
        "where \\(a, b, c, d,\\) and \\(e\\) are coefficients.\n",
        "\n",
        "## Newton's Method Iteration\n",
        "\n",
        "The method involves iterating the following formula to refine the approximation for a root:\n",
        "\n",
        "\\[ x_{n+1} = x_n - \\frac{f(x_n)}{f'(x_n)} \\]\n",
        "\n",
        "Here,\n",
        "- \\(x_n\\) is the current approximation for the root,\n",
        "- \\(f(x_n)\\) is the value of the quartic equation at \\(x_n\\),\n",
        "- \\(f'(x_n)\\) is the derivative of the quartic equation at \\(x_n\\),\n",
        "- \\(x_{n+1}\\) is the next approximation for the root.\n",
        "\n",
        "## Application to Quartic Equation\n",
        "\n",
        "In the provided Python program, the quartic equation is defined as:\n",
        "\n",
        "\\[ ax^4 + bx^3 + cx^2 + dx + e = 0 \\]\n",
        "\n",
        "The derivative of this equation is calculated to determine \\(f'(x)\\).\n",
        "\n",
        "Newton's method is then applied iteratively with an initial guess for \\(x\\). The process continues until the difference between consecutive approximations is sufficiently small or a maximum number of iterations is reached.\n",
        "\n",
        "## Example\n",
        "\n",
        "For illustration, the program solves the quartic equation \\(x^4 - 6x^3 + 11x^2 - 6x = 0\\) with an initial guess of 0.\n",
        "\n",
        "The result is printed, and if Newton's method converges, it provides an approximation for one of the roots.\n",
        "\n",
        "Keep in mind that the success of Newton's method depends on the choice of the initial guess, and it may not always converge for all equations or initial values.\n"
      ],
      "metadata": {
        "id": "PHAMnxAKZGrC"
      }
    },
    {
      "cell_type": "code",
      "source": [
        "import sympy as sp\n",
        "\n",
        "# Function to find roots of a quartic equation using Newton's method\n",
        "def find_roots_quartic(a, b, c, d, e, initial_guess, tolerance=1e-6, max_iterations=100):\n",
        "    x = sp.symbols('x')\n",
        "    equation = a*x**4 + b*x**3 + c*x**2 + d*x + e\n",
        "    derivative = sp.diff(equation, x)\n",
        "\n",
        "    # Define the function and its derivative\n",
        "    f = sp.lambdify(x, equation)\n",
        "    f_prime = sp.lambdify(x, derivative)\n",
        "\n",
        "    # Apply Newton's method\n",
        "    root = initial_guess\n",
        "    iteration = 0\n",
        "\n",
        "    while abs(f(root)) > tolerance and iteration < max_iterations:\n",
        "        root = root - f(root) / f_prime(root)\n",
        "        iteration += 1\n",
        "\n",
        "    if abs(f(root)) <= tolerance:\n",
        "        return root\n",
        "    else:\n",
        "        return None  # Newton's method did not converge\n",
        "\n",
        "# Example: Solve the quartic equation x^4 - 6x^3 + 11x^2 - 6x = 0\n",
        "a_coefficient = 1\n",
        "b_coefficient = -6\n",
        "c_coefficient = 11\n",
        "d_coefficient = -6\n",
        "e_coefficient = 0\n",
        "\n",
        "# Choose an initial guess close to a root (e.g., 0)\n",
        "initial_guess = 0\n",
        "\n",
        "# Find roots and print the result\n",
        "root = find_roots_quartic(a_coefficient, b_coefficient, c_coefficient, d_coefficient, e_coefficient, initial_guess)\n",
        "if root is not None:\n",
        "    print(f\"The root of the quartic equation is: {root}\")\n",
        "else:\n",
        "    print(\"Newton's method did not converge.\")\n",
        "\n"
      ],
      "metadata": {
        "id": "4WwFqZBO-V_P",
        "colab": {
          "base_uri": "https://localhost:8080/"
        },
        "outputId": "dc2f1a84-5331-4588-d419-5ee44019ac3a"
      },
      "execution_count": 19,
      "outputs": [
        {
          "output_type": "stream",
          "name": "stdout",
          "text": [
            "The root of the quartic equation is: 0\n"
          ]
        }
      ]
    },
    {
      "cell_type": "markdown",
      "source": [
        "## **30. Write a program that calculates the BMI (Body Mass Index) and provides health recommendations based on the user's input.**\n",
        "\n"
      ],
      "metadata": {
        "id": "-oFpkwSv-WD1"
      }
    },
    {
      "cell_type": "code",
      "source": [
        "# Function to calculate BMI\n",
        "def calculate_bmi(weight, height):\n",
        "    # BMI formula: weight (kg) / (height (m))^2\n",
        "    bmi = weight / (height ** 2)\n",
        "    return bmi\n",
        "\n",
        "# Function to provide health recommendations based on BMI\n",
        "def health_recommendations(bmi):\n",
        "    if bmi < 18.5:\n",
        "        return \"Underweight: Consider consulting with a healthcare professional for advice on gaining weight.\"\n",
        "    elif 18.5 <= bmi < 25:\n",
        "        return \"Normal weight: Keep up the good work on maintaining a healthy weight.\"\n",
        "    elif 25 <= bmi < 30:\n",
        "        return \"Overweight: Consider adopting a balanced diet and regular exercise to achieve a healthier weight.\"\n",
        "    else:\n",
        "        return \"Obese: It is recommended to consult with a healthcare professional for guidance on weight management.\"\n",
        "\n",
        "# Get user input for weight (in kilograms) and height (in meters)\n",
        "weight = float(input(\"Enter your weight in kilograms: \"))\n",
        "height = float(input(\"Enter your height in meters: \"))\n",
        "\n",
        "# Calculate BMI\n",
        "bmi = calculate_bmi(weight, height)\n",
        "\n",
        "# Provide health recommendations based on BMI\n",
        "recommendations = health_recommendations(bmi)\n",
        "\n",
        "# Print the results\n",
        "print(f\"Your BMI is: {bmi:.2f}\")\n",
        "print(\"Health Recommendations:\")\n",
        "print(recommendations)\n"
      ],
      "metadata": {
        "id": "iw1Wh13--WJA",
        "colab": {
          "base_uri": "https://localhost:8080/"
        },
        "outputId": "892d29e8-2891-4d5e-b44f-54d8d1218014"
      },
      "execution_count": 20,
      "outputs": [
        {
          "output_type": "stream",
          "name": "stdout",
          "text": [
            "Enter your weight in kilograms: 73\n",
            "Enter your height in meters: 1\n",
            "Your BMI is: 73.00\n",
            "Health Recommendations:\n",
            "Obese: It is recommended to consult with a healthcare professional for guidance on weight management.\n"
          ]
        }
      ]
    },
    {
      "cell_type": "markdown",
      "source": [
        "## ***Challenge Level:***\n",
        "\n",
        "---\n",
        "\n"
      ],
      "metadata": {
        "id": "Z6xLxNBj-WOS"
      }
    },
    {
      "cell_type": "markdown",
      "source": [
        "## **31. Create a program that validates a password based on complexity rules (length, characters, etc.).**"
      ],
      "metadata": {
        "id": "Tjg96p-dZ4a3"
      }
    },
    {
      "cell_type": "code",
      "source": [
        "import re\n",
        "\n",
        "# Function to validate a password based on complexity rules\n",
        "def validate_password(password):\n",
        "    # Minimum length rule\n",
        "    if len(password) < 8:\n",
        "        return \"Password must be at least 8 characters long.\"\n",
        "\n",
        "    # Character rules using regular expressions\n",
        "    if not re.search(r\"[a-z]\", password):\n",
        "        return \"Password must contain at least one lowercase letter.\"\n",
        "\n",
        "    if not re.search(r\"[A-Z]\", password):\n",
        "        return \"Password must contain at least one uppercase letter.\"\n",
        "\n",
        "    if not re.search(r\"\\d\", password):\n",
        "        return \"Password must contain at least one digit.\"\n",
        "\n",
        "    if not re.search(r\"[!@#$%^&*(),.?\\\":{}|<>]\", password):\n",
        "        return \"Password must contain at least one special character (!@#$%^&*(),.?\\\":{}|<>).\"\n",
        "\n",
        "    # If all rules pass, the password is valid\n",
        "    return \"Password is valid.\"\n",
        "\n",
        "# Get user input for the password\n",
        "password = input(\"Enter your password: \")\n",
        "\n",
        "# Validate the password and print the result\n",
        "result = validate_password(password)\n",
        "print(result)\n"
      ],
      "metadata": {
        "id": "5XK7Srvw-WTQ",
        "colab": {
          "base_uri": "https://localhost:8080/"
        },
        "outputId": "cc06c41e-e34b-4009-ae1a-8a7120e8a779"
      },
      "execution_count": 22,
      "outputs": [
        {
          "output_type": "stream",
          "name": "stdout",
          "text": [
            "Enter your password: Hajshhjjd89#\n",
            "Password is valid.\n"
          ]
        }
      ]
    },
    {
      "cell_type": "markdown",
      "source": [
        "## **32. Develop a program that performs matrix addition and subtraction based on user input.**"
      ],
      "metadata": {
        "id": "sea7dYBgZ5Vx"
      }
    },
    {
      "cell_type": "code",
      "source": [
        "# Function to initialize a matrix\n",
        "def initialize_matrix(rows, cols):\n",
        "    matrix = []\n",
        "    for i in range(rows):\n",
        "        row = [float(input(f\"Enter element at position ({i+1},{j+1}): \")) for j in range(cols)]\n",
        "        matrix.append(row)\n",
        "    return matrix\n",
        "\n",
        "# Function to perform matrix addition\n",
        "def matrix_addition(matrix1, matrix2):\n",
        "    result = [[matrix1[i][j] + matrix2[i][j] for j in range(len(matrix1[0]))] for i in range(len(matrix1))]\n",
        "    return result\n",
        "\n",
        "# Function to perform matrix subtraction\n",
        "def matrix_subtraction(matrix1, matrix2):\n",
        "    result = [[matrix1[i][j] - matrix2[i][j] for j in range(len(matrix1[0]))] for i in range(len(matrix1))]\n",
        "    return result\n",
        "\n",
        "# Function to print a matrix\n",
        "def print_matrix(matrix):\n",
        "    for row in matrix:\n",
        "        print(row)\n",
        "\n",
        "# Get user input for matrix dimensions\n",
        "rows = int(input(\"Enter the number of rows for the matrices: \"))\n",
        "cols = int(input(\"Enter the number of columns for the matrices: \"))\n",
        "\n",
        "# Get user input for the matrices\n",
        "print(\"Enter elements for the first matrix:\")\n",
        "matrix1 = initialize_matrix(rows, cols)\n",
        "\n",
        "print(\"\\nEnter elements for the second matrix:\")\n",
        "matrix2 = initialize_matrix(rows, cols)\n",
        "\n",
        "# Perform matrix addition and subtraction\n",
        "addition_result = matrix_addition(matrix1, matrix2)\n",
        "subtraction_result = matrix_subtraction(matrix1, matrix2)\n",
        "\n",
        "# Print the results\n",
        "print(\"\\nMatrix Addition Result:\")\n",
        "print_matrix(addition_result)\n",
        "\n",
        "print(\"\\nMatrix Subtraction Result:\")\n",
        "print_matrix(subtraction_result)\n"
      ],
      "metadata": {
        "colab": {
          "base_uri": "https://localhost:8080/"
        },
        "id": "l8ee8VwVZ5x0",
        "outputId": "deecc552-09a9-4f78-d1d8-cefb72fdce38"
      },
      "execution_count": 23,
      "outputs": [
        {
          "output_type": "stream",
          "name": "stdout",
          "text": [
            "Enter the number of rows for the matrices: 2\n",
            "Enter the number of columns for the matrices: 2\n",
            "Enter elements for the first matrix:\n",
            "Enter element at position (1,1): 2\n",
            "Enter element at position (1,2): 5\n",
            "Enter element at position (2,1): 7\n",
            "Enter element at position (2,2): 8\n",
            "\n",
            "Enter elements for the second matrix:\n",
            "Enter element at position (1,1): 7\n",
            "Enter element at position (1,2): 9\n",
            "Enter element at position (2,1): 5\n",
            "Enter element at position (2,2): 3\n",
            "\n",
            "Matrix Addition Result:\n",
            "[9.0, 14.0]\n",
            "[12.0, 11.0]\n",
            "\n",
            "Matrix Subtraction Result:\n",
            "[-5.0, -4.0]\n",
            "[2.0, 5.0]\n"
          ]
        }
      ]
    },
    {
      "cell_type": "markdown",
      "source": [
        "## **33. Write a program that calculates the greatest common divisor (GCD) of two numbers using the Euclidean algorithm.**"
      ],
      "metadata": {
        "id": "6jDpa_wKZ5_n"
      }
    },
    {
      "cell_type": "markdown",
      "source": [
        "# Greatest Common Divisor (GCD)\n",
        "\n",
        "The Greatest Common Divisor (GCD) is a mathematical concept that represents the largest positive integer that divides two or more integers without leaving a remainder. It is often denoted as GCD(a, b), where 'a' and 'b' are the integers for which we are finding the common divisor.\n",
        "\n",
        "## Significance\n",
        "\n",
        "The GCD has various applications in number theory, algebra, and computer science. It is a fundamental concept used in simplifying fractions, solving Diophantine equations, and optimizing algorithms.\n",
        "\n",
        "## Euclidean Algorithm\n",
        "\n",
        "One widely used method to calculate the GCD of two numbers is the Euclidean algorithm. The algorithm is based on the principle that the GCD of two numbers remains the same if the larger number is replaced by its difference with the smaller number. This process is repeated until the remainder becomes zero, and the last non-zero remainder is the GCD.\n",
        "\n",
        "In mathematical notation, GCD(a, b) = GCD(b, a % b), where '%' represents the modulus operator.\n",
        "\n",
        "## Example\n",
        "\n",
        "For example, the GCD of 12 and 18 can be calculated using the Euclidean algorithm as follows:\n"
      ],
      "metadata": {
        "id": "5S1TQFn-bRbZ"
      }
    },
    {
      "cell_type": "code",
      "source": [
        "# Function to calculate the GCD using the Euclidean algorithm\n",
        "def euclidean_algorithm(a, b):\n",
        "    while b:\n",
        "        a, b = b, a % b\n",
        "    return a\n",
        "\n",
        "# Get user input for two numbers\n",
        "num1 = int(input(\"Enter the first number: \"))\n",
        "num2 = int(input(\"Enter the second number: \"))\n",
        "\n",
        "# Calculate the GCD using the Euclidean algorithm\n",
        "gcd = euclidean_algorithm(num1, num2)\n",
        "\n",
        "# Print the result\n",
        "print(f\"The GCD of {num1} and {num2} is: {gcd}\")\n"
      ],
      "metadata": {
        "colab": {
          "base_uri": "https://localhost:8080/"
        },
        "id": "4Xg-frTJZ6O7",
        "outputId": "4715d0db-f04e-4e29-a12a-9fe69b6ff1fa"
      },
      "execution_count": 24,
      "outputs": [
        {
          "output_type": "stream",
          "name": "stdout",
          "text": [
            "Enter the first number: 12\n",
            "Enter the second number: 14\n",
            "The GCD of 12 and 14 is: 2\n"
          ]
        }
      ]
    },
    {
      "cell_type": "markdown",
      "source": [
        "# euclidean_algorithm Function:\n",
        "\n",
        "This function takes two parameters, a and b, representing the two numbers for which we want to find the GCD.\n",
        "\n",
        "The function uses a while loop to iteratively apply the Euclidean algorithm until b becomes zero.\n",
        "\n",
        "In each iteration, it updates the values of a and b based on the Euclidean algorithm: a, b = b, a % b.\n",
        "\n",
        "Once b becomes zero, the function returns the last non-zero remainder, which is the GCD."
      ],
      "metadata": {
        "id": "ZuDv5yLOb6qS"
      }
    },
    {
      "cell_type": "markdown",
      "source": [
        "## **34. Build a program that performs matrix multiplication using nested loops and conditional statements.**"
      ],
      "metadata": {
        "id": "Ri1DhX8IZ6cr"
      }
    },
    {
      "cell_type": "markdown",
      "source": [
        "# Matrix Multiplication\n",
        "\n",
        "Matrix multiplication is a fundamental operation in linear algebra, where two matrices are combined to produce a third matrix. The resulting matrix's elements are computed based on the dot product of corresponding rows and columns from the input matrices.\n",
        "\n",
        "## Matrix Representation\n",
        "\n",
        "Consider two matrices A and B:\n",
        "\n",
        "\\[ A = \\begin{bmatrix} a_{11} & a_{12} \\\\ a_{21} & a_{22} \\end{bmatrix} \\]\n",
        "\n",
        "\\[ B = \\begin{bmatrix} b_{11} & b_{12} \\\\ b_{21} & b_{22} \\end{bmatrix} \\]\n",
        "\n",
        "The resulting matrix C (the product of A and B) will have dimensions determined by the number of rows of A and the number of columns of B.\n",
        "\n",
        "## Matrix Multiplication Formula\n",
        "\n",
        "The element at position (i, j) in the resulting matrix C is calculated as follows:\n",
        "\n",
        "\\[ c_{ij} = \\sum_{k=1}^{n} a_{ik} \\cdot b_{kj} \\]\n",
        "\n",
        "Here, 'n' is the number of columns in matrix A (or equivalently, the number of rows in matrix B).\n",
        "\n",
        "## Python Implementation\n",
        "\n",
        "The provided Python program demonstrates matrix multiplication using nested loops and conditional statements. Users are prompted to enter the dimensions and elements of two matrices. The program then checks if matrix multiplication is possible and performs the multiplication, printing the result if applicable.\n",
        "\n",
        "### Example\n",
        "\n",
        "For example, if matrices A and B are:\n",
        "\n",
        "\\[ A = \\begin{bmatrix} 1 & 2 \\\\ 3 & 4 \\end{bmatrix} \\]\n",
        "\n",
        "\\[ B = \\begin{bmatrix} 5 & 6 \\\\ 7 & 8 \\end{bmatrix} \\]\n",
        "\n",
        "The resulting matrix C will be:\n",
        "\n",
        "\\[ C = \\begin{bmatrix} 19 & 22 \\\\ 43 & 50 \\end{bmatrix} \\]\n",
        "\n",
        "Keep in mind that the number of columns in matrix A must match the number of rows in matrix B for multiplication to be possible.\n"
      ],
      "metadata": {
        "id": "eYXFCFgtcr4C"
      }
    },
    {
      "cell_type": "code",
      "source": [
        "# Function to initialize a matrix\n",
        "def initialize_matrix(rows, cols):\n",
        "    matrix = []\n",
        "    for i in range(rows):\n",
        "        row = [float(input(f\"Enter element at position ({i+1},{j+1}): \")) for j in range(cols)]\n",
        "        matrix.append(row)\n",
        "    return matrix\n",
        "\n",
        "# Function to perform matrix multiplication\n",
        "def matrix_multiplication(matrix1, matrix2):\n",
        "    rows1, cols1 = len(matrix1), len(matrix1[0])\n",
        "    rows2, cols2 = len(matrix2), len(matrix2[0])\n",
        "\n",
        "    # Check if matrix multiplication is possible\n",
        "    if cols1 != rows2:\n",
        "        print(\"Matrix multiplication is not possible.\")\n",
        "        return None\n",
        "\n",
        "    # Initialize result matrix with zeros\n",
        "    result = [[0 for _ in range(cols2)] for _ in range(rows1)]\n",
        "\n",
        "    # Perform matrix multiplication using nested loops\n",
        "    for i in range(rows1):\n",
        "        for j in range(cols2):\n",
        "            for k in range(cols1):\n",
        "                result[i][j] += matrix1[i][k] * matrix2[k][j]\n",
        "\n",
        "    return result\n",
        "\n",
        "# Function to print a matrix\n",
        "def print_matrix(matrix):\n",
        "    for row in matrix:\n",
        "        print(row)\n",
        "\n",
        "# Get user input for matrix dimensions\n",
        "rows1 = int(input(\"Enter the number of rows for the first matrix: \"))\n",
        "cols1 = int(input(\"Enter the number of columns for the first matrix: \"))\n",
        "\n",
        "rows2 = int(input(\"Enter the number of rows for the second matrix: \"))\n",
        "cols2 = int(input(\"Enter the number of columns for the second matrix: \"))\n",
        "\n",
        "# Get user input for the matrices\n",
        "print(\"Enter elements for the first matrix:\")\n",
        "matrix1 = initialize_matrix(rows1, cols1)\n",
        "\n",
        "print(\"\\nEnter elements for the second matrix:\")\n",
        "matrix2 = initialize_matrix(rows2, cols2)\n",
        "\n",
        "# Perform matrix multiplication\n",
        "result = matrix_multiplication(matrix1, matrix2)\n",
        "\n",
        "# Print the result\n",
        "if result is not None:\n",
        "    print(\"\\nMatrix Multiplication Result:\")\n",
        "    print_matrix(result)\n"
      ],
      "metadata": {
        "colab": {
          "base_uri": "https://localhost:8080/"
        },
        "id": "-Gsz5nCNZ6na",
        "outputId": "e9e0007f-35c0-4813-8722-d34f244497c0"
      },
      "execution_count": 25,
      "outputs": [
        {
          "output_type": "stream",
          "name": "stdout",
          "text": [
            "Enter the number of rows for the first matrix: 2\n",
            "Enter the number of columns for the first matrix: 2\n",
            "Enter the number of rows for the second matrix: 2\n",
            "Enter the number of columns for the second matrix: 2\n",
            "Enter elements for the first matrix:\n",
            "Enter element at position (1,1): 3\n",
            "Enter element at position (1,2): 6\n",
            "Enter element at position (2,1): 7\n",
            "Enter element at position (2,2): 9\n",
            "\n",
            "Enter elements for the second matrix:\n",
            "Enter element at position (1,1): 4\n",
            "Enter element at position (1,2): 5\n",
            "Enter element at position (2,1): 0\n",
            "Enter element at position (2,2): 3\n",
            "\n",
            "Matrix Multiplication Result:\n",
            "[12.0, 33.0]\n",
            "[28.0, 62.0]\n"
          ]
        }
      ]
    },
    {
      "cell_type": "markdown",
      "source": [
        "## **35. Create a program that simulates a basic text-based tic-tac-toe game against the computer.**"
      ],
      "metadata": {
        "id": "2fqe5G7GZ63u"
      }
    },
    {
      "cell_type": "markdown",
      "source": [
        "#**Game Setup**\n",
        "\n",
        "The game initializes an empty 3x3 tic-tac-toe board represented as a list of lists.\n",
        "\n",
        "The player ('X') and the computer ('O') take turns making moves on the board.\n",
        "\n",
        "The board is displayed after each move to show the current state of the game.\n",
        "\n",
        "# **Player's Move**\n",
        "The player is prompted to enter the row (1, 2, or 3) and column (1, 2, or 3) for their move.\n",
        "\n",
        "The program checks if the selected cell is empty. If not, it prompts the player to choose another cell.\n",
        "\n",
        "If the move is valid, the player's symbol ('X') is placed on the chosen cell."
      ],
      "metadata": {
        "id": "mFtXVN6FeZYg"
      }
    },
    {
      "cell_type": "code",
      "source": [
        "import random\n",
        "\n",
        "# Function to print the tic-tac-toe board\n",
        "def print_board(board):\n",
        "    for row in board:\n",
        "        print(\" | \".join(row))\n",
        "        print(\"-\" * 13)\n",
        "\n",
        "# Function to check for a win\n",
        "def check_win(board, player):\n",
        "    # Check rows and columns\n",
        "    for i in range(3):\n",
        "        if all(board[i][j] == player for j in range(3)) or all(board[j][i] == player for j in range(3)):\n",
        "            return True\n",
        "\n",
        "    # Check diagonals\n",
        "    if all(board[i][i] == player for i in range(3)) or all(board[i][2 - i] == player for i in range(3)):\n",
        "        return True\n",
        "\n",
        "    return False\n",
        "\n",
        "# Function to check if the board is full\n",
        "def is_board_full(board):\n",
        "    return all(board[i][j] != ' ' for i in range(3) for j in range(3))\n",
        "\n",
        "# Function for computer's move\n",
        "def computer_move(board):\n",
        "    empty_cells = [(i, j) for i in range(3) for j in range(3) if board[i][j] == ' ']\n",
        "    return random.choice(empty_cells)\n",
        "\n",
        "# Main game loop\n",
        "def play_game():\n",
        "    # Initialize the board\n",
        "    board = [[' ' for _ in range(3)] for _ in range(3)]\n",
        "\n",
        "    # Main game loop\n",
        "    while True:\n",
        "        # Player's move\n",
        "        print_board(board)\n",
        "        row = int(input(\"Enter row (1, 2, or 3): \")) - 1\n",
        "        col = int(input(\"Enter column (1, 2, or 3): \")) - 1\n",
        "\n",
        "        if board[row][col] != ' ':\n",
        "            print(\"Invalid move. Cell already taken. Try again.\")\n",
        "            continue\n",
        "\n",
        "        board[row][col] = 'X'\n",
        "\n",
        "        # Check if the player wins\n",
        "        if check_win(board, 'X'):\n",
        "            print_board(board)\n",
        "            print(\"Congratulations! You win!\")\n",
        "            break\n",
        "\n",
        "        # Check if the board is full\n",
        "        if is_board_full(board):\n",
        "            print_board(board)\n",
        "            print(\"It's a draw!\")\n",
        "            break\n",
        "\n",
        "        # Computer's move\n",
        "        print(\"Computer's move:\")\n",
        "        comp_row, comp_col = computer_move(board)\n",
        "        board[comp_row][comp_col] = 'O'\n",
        "\n",
        "        # Check if the computer wins\n",
        "        if check_win(board, 'O'):\n",
        "            print_board(board)\n",
        "            print(\"Computer wins! Better luck next time.\")\n",
        "            break\n",
        "\n",
        "        # Check if the board is full\n",
        "        if is_board_full(board):\n",
        "            print_board(board)\n",
        "            print(\"It's a draw!\")\n",
        "            break\n",
        "\n",
        "# Start the game\n",
        "play_game()\n"
      ],
      "metadata": {
        "colab": {
          "base_uri": "https://localhost:8080/"
        },
        "id": "4kc9ilkrZ7C8",
        "outputId": "f39c7283-54a5-436a-ae1a-4d3717203d56"
      },
      "execution_count": 26,
      "outputs": [
        {
          "output_type": "stream",
          "name": "stdout",
          "text": [
            "  |   |  \n",
            "-------------\n",
            "  |   |  \n",
            "-------------\n",
            "  |   |  \n",
            "-------------\n",
            "Enter row (1, 2, or 3): 1\n",
            "Enter column (1, 2, or 3): 3\n",
            "Computer's move:\n",
            "  |   | X\n",
            "-------------\n",
            "  |   |  \n",
            "-------------\n",
            "O |   |  \n",
            "-------------\n",
            "Enter row (1, 2, or 3): 2\n",
            "Enter column (1, 2, or 3): 3\n",
            "Computer's move:\n",
            "  | O | X\n",
            "-------------\n",
            "  |   | X\n",
            "-------------\n",
            "O |   |  \n",
            "-------------\n",
            "Enter row (1, 2, or 3): 1\n",
            "Enter column (1, 2, or 3): 1\n",
            "Computer's move:\n",
            "X | O | X\n",
            "-------------\n",
            "O |   | X\n",
            "-------------\n",
            "O |   |  \n",
            "-------------\n",
            "Enter row (1, 2, or 3): 3\n",
            "Enter column (1, 2, or 3): 3\n",
            "X | O | X\n",
            "-------------\n",
            "O |   | X\n",
            "-------------\n",
            "O |   | X\n",
            "-------------\n",
            "Congratulations! You win!\n"
          ]
        }
      ]
    },
    {
      "cell_type": "markdown",
      "source": [
        "## **36. Write a program that generates Fibonacci numbers up to a specified term using iterative methods.**"
      ],
      "metadata": {
        "id": "J57ZRBHVcMCW"
      }
    },
    {
      "cell_type": "code",
      "source": [
        "# Function to generate Fibonacci numbers up to a specified term using iteration\n",
        "def generate_fibonacci(iterations):\n",
        "    fibonacci_sequence = [0, 1]\n",
        "\n",
        "    for i in range(2, iterations):\n",
        "        next_term = fibonacci_sequence[-1] + fibonacci_sequence[-2]\n",
        "        fibonacci_sequence.append(next_term)\n",
        "\n",
        "    return fibonacci_sequence\n",
        "\n",
        "# Get user input for the number of terms in the Fibonacci sequence\n",
        "iterations = int(input(\"Enter the number of Fibonacci terms to generate: \"))\n",
        "\n",
        "# Generate Fibonacci sequence using iteration\n",
        "fibonacci_sequence = generate_fibonacci(iterations)\n",
        "\n",
        "# Print the result\n",
        "print(f\"Fibonacci sequence up to term {iterations}: {fibonacci_sequence}\")\n"
      ],
      "metadata": {
        "colab": {
          "base_uri": "https://localhost:8080/"
        },
        "id": "pXMd7lK-cMVf",
        "outputId": "c04cc9c6-f4d3-4e46-fa80-ba6ea8c71998"
      },
      "execution_count": 27,
      "outputs": [
        {
          "output_type": "stream",
          "name": "stdout",
          "text": [
            "Enter the number of Fibonacci terms to generate: 10\n",
            "Fibonacci sequence up to term 10: [0, 1, 1, 2, 3, 5, 8, 13, 21, 34]\n"
          ]
        }
      ]
    },
    {
      "cell_type": "markdown",
      "source": [
        "## **37. Develop a program that calculates the nth term of the Fibonacci sequence using memoization.**"
      ],
      "metadata": {
        "id": "Fs8-SaD1cMnJ"
      }
    },
    {
      "cell_type": "markdown",
      "source": [
        "The task is to create a Python program that calculates the nth term of the Fibonacci sequence using a technique called memoization. The Fibonacci sequence is a series of numbers where each number is the sum of the two preceding ones. The sequence starts with 0 and 1:\n",
        "\n",
        "0\n",
        ",\n",
        "1\n",
        ",\n",
        "1\n",
        ",\n",
        "2\n",
        ",\n",
        "3\n",
        ",\n",
        "5\n",
        ",\n",
        "8\n",
        ",\n",
        "13\n",
        ",\n",
        "21\n",
        ",\n",
        "…\n",
        "0,1,1,2,3,5,8,13,21,…\n",
        "\n",
        "Memoization is an optimization technique to store and reuse the results of expensive function calls by caching them. In the context of the Fibonacci sequence, memoization can significantly improve the performance of the calculation by avoiding redundant computations."
      ],
      "metadata": {
        "id": "KS7cy2F0fjIk"
      }
    },
    {
      "cell_type": "code",
      "source": [
        "# Function to calculate the nth term of the Fibonacci sequence using memoization\n",
        "def fibonacci_memo(n, memo={}): #The memo parameter is a dictionary used to store previously calculated Fibonacci numbers.\n",
        "    if n in memo:\n",
        "        return memo[n]\n",
        "\n",
        "    if n <= 1:\n",
        "        return n\n",
        "\n",
        "    result = fibonacci_memo(n - 1, memo) + fibonacci_memo(n - 2, memo)\n",
        "    memo[n] = result\n",
        "    return result\n",
        "\n",
        "# Get user input for the desired term in the Fibonacci sequence\n",
        "nth_term = int(input(\"Enter the term (n) to calculate in the Fibonacci sequence: \"))\n",
        "\n",
        "# Calculate the nth term using memoization\n",
        "result = fibonacci_memo(nth_term)\n",
        "\n",
        "# Print the result\n",
        "print(f\"The {nth_term}-th term in the Fibonacci sequence is: {result}\")\n"
      ],
      "metadata": {
        "colab": {
          "base_uri": "https://localhost:8080/"
        },
        "id": "pufvHT_VcM1u",
        "outputId": "4ea3e40a-e6b4-43c6-d897-19ad3b2a25b7"
      },
      "execution_count": 28,
      "outputs": [
        {
          "output_type": "stream",
          "name": "stdout",
          "text": [
            "Enter the term (n) to calculate in the Fibonacci sequence: 6\n",
            "The 6-th term in the Fibonacci sequence is: 8\n"
          ]
        }
      ]
    },
    {
      "cell_type": "markdown",
      "source": [
        "## **38. Create a program that generates a calendar for a given month and year using conditional statements.**"
      ],
      "metadata": {
        "id": "_zfCUbbUcNFM"
      }
    },
    {
      "cell_type": "code",
      "source": [
        "import calendar\n",
        "\n",
        "# Function to generate a calendar for a given month and year\n",
        "def generate_calendar(year, month):\n",
        "    # Check if the provided month and year are valid\n",
        "    if month < 1 or month > 12:\n",
        "        print(\"Invalid month. Please enter a month between 1 and 12.\")\n",
        "        return\n",
        "    if year < 1:\n",
        "        print(\"Invalid year. Please enter a valid year.\")\n",
        "        return\n",
        "\n",
        "    # Generate the calendar for the specified month and year\n",
        "    cal = calendar.monthcalendar(year, month)\n",
        "\n",
        "    # Print the calendar\n",
        "    print(f\"Calendar for {calendar.month_name[month]} {year}:\")\n",
        "    print(\" Mo Tu We Th Fr Sa Su\")\n",
        "\n",
        "    for week in cal:\n",
        "        for day in week:\n",
        "            if day == 0:\n",
        "                print(\"   \", end=\" \")\n",
        "            else:\n",
        "                print(f\"{day:2} \", end=\" \")\n",
        "        print()\n",
        "\n",
        "# Get user input for the month and year\n",
        "year = int(input(\"Enter the year: \"))\n",
        "month = int(input(\"Enter the month (1-12): \"))\n",
        "\n",
        "# Generate and display the calendar\n",
        "generate_calendar(year, month)\n"
      ],
      "metadata": {
        "colab": {
          "base_uri": "https://localhost:8080/"
        },
        "id": "MMjy3oBKcNWO",
        "outputId": "caaba8de-6a16-4dcd-cf47-9e90839c6d83"
      },
      "execution_count": 29,
      "outputs": [
        {
          "output_type": "stream",
          "name": "stdout",
          "text": [
            "Enter the year: 2024\n",
            "Enter the month (1-12): 10\n",
            "Calendar for October 2024:\n",
            " Mo Tu We Th Fr Sa Su\n",
            "     1   2   3   4   5   6  \n",
            " 7   8   9  10  11  12  13  \n",
            "14  15  16  17  18  19  20  \n",
            "21  22  23  24  25  26  27  \n",
            "28  29  30  31              \n"
          ]
        }
      ]
    },
    {
      "cell_type": "markdown",
      "source": [
        "The generate_calendar function takes the year and month as parameters and checks if they are valid. If not, it prints an error message and returns. If valid, it generates the calendar for the specified month and year.\n",
        "\n",
        "The calendar.monthcalendar function is used to generate a matrix representing the calendar for the specified month and year.\n",
        "\n",
        "The resulting calendar is printed with days arranged in a grid format.\n",
        "\n",
        "The program prompts the user to enter the year and month for which they want to generate the calendar.\n",
        "\n",
        "The generate_calendar function is called with the user-provided input to generate and display the calendar."
      ],
      "metadata": {
        "id": "dNk1nGS6gQ01"
      }
    },
    {
      "cell_type": "markdown",
      "source": [
        "## **39. Build a program that simulates a basic text-based blackjack game against the computer.**"
      ],
      "metadata": {
        "id": "wUSErmTFcNlw"
      }
    },
    {
      "cell_type": "markdown",
      "source": [
        "**Game Setup:**\n",
        "\n",
        "The game uses a standard deck of cards represented by a list with values 2 to 11 (11 represents the value of an Ace).\n",
        "Each player (player and computer) is dealt two initial cards.\n",
        "Player's Turn:\n",
        "\n",
        "The player is presented with their current hand and one card from the computer's hand.\n",
        "The player can choose to \"hit\" (draw another card) or \"stand\" (keep the current hand).\n",
        "Winning Conditions:\n",
        "\n",
        "If the player's hand equals 21 (a blackjack), the player wins.\n",
        "If the player's hand exceeds 21 (busts), the player loses.\n",
        "If the player stands, the computer draws cards until its hand value is at least 17.\n",
        "The winner is determined based on the total hand values.\n",
        "Special Handling for Aces:\n",
        "\n",
        "The program dynamically adjusts the value of Aces in the hand to optimize the total hand value.\n",
        "Displaying Hands:\n",
        "\n",
        "The program displays the player's hand and one card from the computer's hand during the player's turn.\n",
        "After both the player and computer have completed their turns, the final hands are displayed.\n",
        "Outcome:\n",
        "\n",
        "The program announces whether the player wins, loses, or ties with the computer.\n",
        "The game provides feedback on specific outcomes such as a blackjack or bust.\n",
        "Replayability:\n",
        "\n",
        "The game can be replayed by restarting the program, allowing the player to experience different outcomes.\n",
        "Interactive Interface:\n",
        "\n",
        "The game features an interactive interface where the player enters commands to make decisions during their turn.\n",
        "Randomness:\n",
        "\n",
        "The program uses random card selections to simulate the shuffling of the deck and to provide an element of chance in the game.\n",
        "Simple Strategy:\n",
        "\n",
        "The computer follows a basic strategy, drawing cards until its hand value is at least 17."
      ],
      "metadata": {
        "id": "wb0cpYKmgx6W"
      }
    },
    {
      "cell_type": "code",
      "source": [
        "import random\n",
        "\n",
        "# Function to calculate the total value of a hand\n",
        "def calculate_hand_value(hand):\n",
        "    value = sum(hand)\n",
        "    if 11 in hand and value > 21:\n",
        "        hand.remove(11)\n",
        "        hand.append(1)\n",
        "    return value\n",
        "\n",
        "# Function to display the cards in a hand\n",
        "def display_hand(hand):\n",
        "    cards = [str(card) for card in hand]\n",
        "    return ', '.join(cards)\n",
        "\n",
        "# Function to simulate the blackjack game\n",
        "def play_blackjack():\n",
        "    # Initialize deck and hands\n",
        "    deck = [2, 3, 4, 5, 6, 7, 8, 9, 10, 10, 10, 10, 11] * 4\n",
        "    player_hand = [random.choice(deck), random.choice(deck)]\n",
        "    computer_hand = [random.choice(deck)]\n",
        "\n",
        "    while True:\n",
        "        # Display player's hand and one card from the computer's hand\n",
        "        print(f\"\\nYour hand: {display_hand(player_hand)}\")\n",
        "        print(f\"Computer's hand: {computer_hand[0]}\")\n",
        "\n",
        "        # Check for blackjack\n",
        "        if calculate_hand_value(player_hand) == 21:\n",
        "            print(\"Blackjack! You win!\")\n",
        "            break\n",
        "\n",
        "        # Ask player to hit or stand\n",
        "        choice = input(\"Do you want to hit or stand? \").lower()\n",
        "\n",
        "        if choice == 'hit':\n",
        "            player_hand.append(random.choice(deck))\n",
        "            if calculate_hand_value(player_hand) > 21:\n",
        "                print(f\"\\nYour hand: {display_hand(player_hand)}\")\n",
        "                print(\"Bust! You lose.\")\n",
        "                break\n",
        "        elif choice == 'stand':\n",
        "            # Computer's turn\n",
        "            while calculate_hand_value(computer_hand) < 17:\n",
        "                computer_hand.append(random.choice(deck))\n",
        "\n",
        "            # Display final hands\n",
        "            print(f\"\\nYour hand: {display_hand(player_hand)}\")\n",
        "            print(f\"Computer's hand: {display_hand(computer_hand)}\")\n",
        "\n",
        "            # Determine the winner\n",
        "            player_value = calculate_hand_value(player_hand)\n",
        "            computer_value = calculate_hand_value(computer_hand)\n",
        "\n",
        "            if player_value > computer_value or computer_value > 21:\n",
        "                print(\"You win!\")\n",
        "            elif player_value < computer_value:\n",
        "                print(\"You lose.\")\n",
        "            else:\n",
        "                print(\"It's a tie!\")\n",
        "\n",
        "            break\n",
        "        else:\n",
        "            print(\"Invalid choice. Please enter 'hit' or 'stand'.\")\n",
        "\n",
        "# Start the blackjack game\n",
        "play_blackjack()\n"
      ],
      "metadata": {
        "colab": {
          "base_uri": "https://localhost:8080/"
        },
        "id": "Rb1WJmNrcN02",
        "outputId": "63b9e7f8-c957-43d6-bbe6-5d2403f7f26d"
      },
      "execution_count": 30,
      "outputs": [
        {
          "output_type": "stream",
          "name": "stdout",
          "text": [
            "\n",
            "Your hand: 10, 10\n",
            "Computer's hand: 10\n",
            "Do you want to hit or stand? hit\n",
            "\n",
            "Your hand: 10, 10, 9\n",
            "Bust! You lose.\n"
          ]
        }
      ]
    },
    {
      "cell_type": "markdown",
      "source": [
        "he deck is represented as a list of cards with values 2 to 11 (where 11 represents the value of an Ace).\n",
        "\n",
        "The calculate_hand_value function calculates the total value of a hand, taking into account the special case of handling Aces.\n",
        "\n",
        "The display_hand function formats the cards in a hand for display.\n",
        "\n",
        "The play_blackjack function simulates the blackjack game with a simple text-based interface. The player can choose to hit or stand, and the computer makes its decisions based on a basic strategy.\n",
        "\n",
        "The game continues until the player chooses to stand or goes bust.\n",
        "\n",
        "After the game, the program determines the winner based on the total values of the hands."
      ],
      "metadata": {
        "id": "gFDsHG_YhAU8"
      }
    },
    {
      "cell_type": "markdown",
      "source": [
        "## **40. Write a program that generates the prime factors of a given number using trial division.**"
      ],
      "metadata": {
        "id": "0WA22mnlhF8S"
      }
    },
    {
      "cell_type": "code",
      "source": [
        "# Function to generate prime factors using trial division\n",
        "def prime_factors(n):\n",
        "    factors = []\n",
        "    divisor = 2\n",
        "\n",
        "    while n > 1:\n",
        "        # Check if the current divisor divides the number evenly\n",
        "        while n % divisor == 0:\n",
        "            factors.append(divisor)\n",
        "            n //= divisor\n",
        "\n",
        "        # Move to the next divisor\n",
        "        divisor += 1\n",
        "\n",
        "    return factors\n",
        "\n",
        "# Get user input for the number\n",
        "number = int(input(\"Enter a number to find its prime factors: \"))\n",
        "\n",
        "# Generate and display the prime factors\n",
        "result = prime_factors(number)\n",
        "print(f\"Prime factors of {number}: {result}\")\n"
      ],
      "metadata": {
        "colab": {
          "base_uri": "https://localhost:8080/"
        },
        "id": "79HZV7YNg77R",
        "outputId": "93b6c9a2-a5ec-4522-a50d-757682f10615"
      },
      "execution_count": 31,
      "outputs": [
        {
          "output_type": "stream",
          "name": "stdout",
          "text": [
            "Enter a number to find its prime factors: 52\n",
            "Prime factors of 52: [2, 2, 13]\n"
          ]
        }
      ]
    },
    {
      "cell_type": "markdown",
      "source": [
        "The prime_factors function takes a number (n) as input and uses trial division to find its prime factors.\n",
        "\n",
        "\n",
        "\n",
        "It initializes an empty list factors to store the prime factors and starts with the smallest prime divisor, which is 2.\n",
        "\n",
        "The function uses a while loop to check if the current divisor divides the number (n) evenly. If yes, it appends the divisor to the list of factors and updates n by dividing it by the divisor.\n",
        "\n",
        "The function continues this process, incrementing the divisor until the number becomes 1.\n",
        "The final list of factors is returned."
      ],
      "metadata": {
        "id": "CK-k7ufohXx5"
      }
    },
    {
      "cell_type": "markdown",
      "source": [
        "# **end of the assignment**"
      ],
      "metadata": {
        "id": "Lk-v_T1Ohmca"
      }
    }
  ]
}