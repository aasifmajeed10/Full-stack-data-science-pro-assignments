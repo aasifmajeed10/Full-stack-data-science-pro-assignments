{
  "nbformat": 4,
  "nbformat_minor": 0,
  "metadata": {
    "colab": {
      "provenance": []
    },
    "kernelspec": {
      "name": "python3",
      "display_name": "Python 3"
    },
    "language_info": {
      "name": "python"
    }
  },
  "cells": [
    {
      "cell_type": "markdown",
      "source": [
        "## **<font color='darkgreen'>Full Stack Data Science Pro**\n",
        "\n",
        "Assignment 6 :  Python OOPs assignment 1\n",
        "\n",
        "## **<font color='darkgreen'>Name : Aasif Majeed**"
      ],
      "metadata": {
        "id": "V6l6867b5f_I"
      }
    },
    {
      "cell_type": "markdown",
      "source": [
        "## **Problem 1: Bank Account Create a class representing a bank account with attributes like account number, account holder name, and balance. Implement methods to deposit and withdraw money from the account.**"
      ],
      "metadata": {
        "id": "nqidHmqY6Flt"
      }
    },
    {
      "cell_type": "code",
      "execution_count": 1,
      "metadata": {
        "colab": {
          "base_uri": "https://localhost:8080/"
        },
        "id": "XVe6O39J5c-Z",
        "outputId": "fadbf90a-7557-448b-9de3-237707a10d69"
      },
      "outputs": [
        {
          "output_type": "stream",
          "name": "stdout",
          "text": [
            "Account Holder: John Doe, Account Number: 123456, Balance: $0\n",
            "Deposited $1000. New balance: $1000\n",
            "Withdrawn $500. New balance: $500\n",
            "Insufficient funds or invalid amount for withdrawal.\n"
          ]
        }
      ],
      "source": [
        "class BankAccount:\n",
        "    def __init__(self, acc_number, acc_holder, balance=0):\n",
        "        self.acc_number = acc_number\n",
        "        self.acc_holder = acc_holder\n",
        "        self.balance = balance\n",
        "\n",
        "    def deposit(self, amount):\n",
        "        if amount > 0:\n",
        "            self.balance += amount\n",
        "            print(f\"Deposited ${amount}. New balance: ${self.balance}\")\n",
        "        else:\n",
        "            print(\"Invalid amount for deposit.\")\n",
        "\n",
        "    def withdraw(self, amount):\n",
        "        if 0 < amount <= self.balance:\n",
        "            self.balance -= amount\n",
        "            print(f\"Withdrawn ${amount}. New balance: ${self.balance}\")\n",
        "        else:\n",
        "            print(\"Insufficient funds or invalid amount for withdrawal.\")\n",
        "\n",
        "\n",
        "# Example usage:\n",
        "acc1 = BankAccount(\"123456\", \"John Doe\")\n",
        "print(f\"Account Holder: {acc1.acc_holder}, Account Number: {acc1.acc_number}, Balance: ${acc1.balance}\")\n",
        "\n",
        "acc1.deposit(1000)\n",
        "acc1.withdraw(500)\n",
        "acc1.withdraw(700)\n"
      ]
    },
    {
      "cell_type": "markdown",
      "source": [
        "- **Class Definition**: The problem requires us to create a class representing a bank account. Define a class named `BankAccount` with attributes such as `acc_number` (account number), `acc_holder` (account holder name), and `balance` (account balance). The `__init__` method initializes these attributes when a new instance of the class is created.\n",
        "\n",
        "- **Deposit Method**: Implement a method named `deposit` that allows depositing money into the account. The method takes an amount as input, checks if it's a positive value, adds it to the account balance if valid, and prints a message confirming the deposit along with the new balance.\n",
        "\n",
        "- **Withdraw Method**: Similarly,  define a method named `withdraw` to withdraw money from the account. This method takes an amount as input, checks if it's within the available balance and greater than zero, subtracts it from the balance if valid, and prints a message confirming the withdrawal along with the new balance. If the withdrawal amount is invalid or exceeds the available balance, an appropriate message is printed.\n",
        "\n",
        "- **Example Usage**: Finally, demonstrate the usage of the `BankAccount` class by creating an instance `acc1` and printing its initial details. Then, we deposit an amount, withdraw two different amounts (one valid and one invalid), and observe the messages printed by the class methods.\n",
        "\n",
        "This solution effectively encapsulates the bank account functionality within a class, providing methods to interact with the account while ensuring data integrity and validation.\n",
        "\n"
      ],
      "metadata": {
        "id": "DbgzlJM26VwM"
      }
    },
    {
      "cell_type": "markdown",
      "source": [
        "## **Problem 2: Employee Management Create a class representing an employee with attributes like employee ID, name, and salary. Implement methods to calculate the yearly bonus and display employee details.**"
      ],
      "metadata": {
        "id": "_kiddCEk6YkS"
      }
    },
    {
      "cell_type": "code",
      "source": [
        "class Employee:\n",
        "    def __init__(self, emp_id, name, salary):\n",
        "        \"\"\"Initialize the Employee object with employee ID, name, and salary.\"\"\"\n",
        "        self.emp_id = emp_id\n",
        "        self.name = name\n",
        "        self.salary = salary\n",
        "\n",
        "    def calculate_bonus(self, percentage):\n",
        "        \"\"\"Method to calculate the yearly bonus based on a given percentage of the salary.\"\"\"\n",
        "        bonus = (percentage / 100) * self.salary\n",
        "        return bonus\n",
        "\n",
        "    def display_details(self):\n",
        "        \"\"\"Method to display employee details.\"\"\"\n",
        "        print(f\"Employee ID: {self.emp_id}\")\n",
        "        print(f\"Name: {self.name}\")\n",
        "        print(f\"Salary: ${self.salary}\")\n",
        "        print(\"\")\n",
        "\n",
        "\n",
        "# Example usage:\n",
        "emp1 = Employee(\"001\", \"Alice\", 50000)\n",
        "emp2 = Employee(\"002\", \"Bob\", 60000)\n",
        "\n",
        "print(\"Employee 1 Details:\")\n",
        "emp1.display_details()\n",
        "\n",
        "print(\"Employee 2 Details:\")\n",
        "emp2.display_details()\n",
        "\n",
        "bonus_percentage = 10  # Bonus percentage for all employees\n",
        "print(f\"Yearly bonus for {emp1.name}: ${emp1.calculate_bonus(bonus_percentage)}\")\n",
        "print(f\"Yearly bonus for {emp2.name}: ${emp2.calculate_bonus(bonus_percentage)}\")\n"
      ],
      "metadata": {
        "colab": {
          "base_uri": "https://localhost:8080/"
        },
        "id": "k5H8XlVT6Quk",
        "outputId": "4bde3a93-d33d-41de-b82d-79d8fb5e69e4"
      },
      "execution_count": 2,
      "outputs": [
        {
          "output_type": "stream",
          "name": "stdout",
          "text": [
            "Employee 1 Details:\n",
            "Employee ID: 001\n",
            "Name: Alice\n",
            "Salary: $50000\n",
            "\n",
            "Employee 2 Details:\n",
            "Employee ID: 002\n",
            "Name: Bob\n",
            "Salary: $60000\n",
            "\n",
            "Yearly bonus for Alice: $5000.0\n",
            "Yearly bonus for Bob: $6000.0\n"
          ]
        }
      ]
    },
    {
      "cell_type": "markdown",
      "source": [
        "- **Class Definition**: Define a class named `Employee` to represent an employee. It has attributes such as `emp_id` (employee ID), `name`, and `salary`. The `__init__` method initializes these attributes when a new instance of the class is created.\n",
        "\n",
        "- **Calculate Bonus Method**: Implement a method named `calculate_bonus` to calculate the yearly bonus based on a given percentage of the salary. The method takes a percentage as input, calculates the bonus amount, and returns it.\n",
        "\n",
        "- **Display Details Method**: Another method named `display_details` is defined to display the details of the employee, including ID, name, and salary.\n",
        "\n",
        "- **Example Usage**: Create two instances of the `Employee` class (`emp1` and `emp2`) with different details. Then,display the details of each employee and calculate their yearly bonus based on a predefined percentage. Finally, print out the yearly bonuses for both employees.\n",
        "\n",
        "This solution provides a simple yet effective way to manage employee details and calculate yearly bonuses using an object-oriented approach.\n"
      ],
      "metadata": {
        "id": "346amUsS6aId"
      }
    },
    {
      "cell_type": "markdown",
      "source": [
        "## **Problem 3: Vehicle Rental Create a class representing a vehicle rental system. Implement methods to rent a vehicle, return a vehicle, and display available vehicles.**"
      ],
      "metadata": {
        "id": "bH3tY9tH6aZt"
      }
    },
    {
      "cell_type": "code",
      "source": [
        "class VehicleRentalSystem:\n",
        "    def __init__(self):\n",
        "        \"\"\"Initialize the VehicleRentalSystem object with an empty list of available vehicles.\"\"\"\n",
        "        self.available_vehicles = []\n",
        "\n",
        "    def rent_vehicle(self, vehicle):\n",
        "        \"\"\"Method to rent a vehicle.\"\"\"\n",
        "        if vehicle in self.available_vehicles:\n",
        "            self.available_vehicles.remove(vehicle)\n",
        "            print(f\"Vehicle {vehicle} rented successfully.\")\n",
        "        else:\n",
        "            print(f\"Sorry, {vehicle} is not available for rent.\")\n",
        "\n",
        "    def return_vehicle(self, vehicle):\n",
        "        \"\"\"Method to return a rented vehicle.\"\"\"\n",
        "        self.available_vehicles.append(vehicle)\n",
        "        print(f\"Vehicle {vehicle} returned successfully.\")\n",
        "\n",
        "    def display_available_vehicles(self):\n",
        "        \"\"\"Method to display available vehicles.\"\"\"\n",
        "        if self.available_vehicles:\n",
        "            print(\"Available Vehicles:\")\n",
        "            for vehicle in self.available_vehicles:\n",
        "                print(vehicle)\n",
        "        else:\n",
        "            print(\"No vehicles available for rent.\")\n",
        "\n",
        "\n",
        "# Example usage:\n",
        "rental_system = VehicleRentalSystem()\n",
        "\n",
        "# Add some vehicles to the system\n",
        "rental_system.available_vehicles.extend([\"Car\", \"Van\", \"Truck\", \"SUV\"])\n",
        "\n",
        "# Display available vehicles\n",
        "rental_system.display_available_vehicles()\n",
        "\n",
        "# Rent a vehicle\n",
        "rental_system.rent_vehicle(\"Car\")\n",
        "\n",
        "# Display available vehicles after renting\n",
        "rental_system.display_available_vehicles()\n",
        "\n",
        "# Return the rented vehicle\n",
        "rental_system.return_vehicle(\"Car\")\n",
        "\n",
        "# Display available vehicles after returning\n",
        "rental_system.display_available_vehicles()\n"
      ],
      "metadata": {
        "colab": {
          "base_uri": "https://localhost:8080/"
        },
        "id": "UfUHfnEZ6asK",
        "outputId": "6f1a846c-912c-4e65-ea6d-e718de49bff1"
      },
      "execution_count": 3,
      "outputs": [
        {
          "output_type": "stream",
          "name": "stdout",
          "text": [
            "Available Vehicles:\n",
            "Car\n",
            "Van\n",
            "Truck\n",
            "SUV\n",
            "Vehicle Car rented successfully.\n",
            "Available Vehicles:\n",
            "Van\n",
            "Truck\n",
            "SUV\n",
            "Vehicle Car returned successfully.\n",
            "Available Vehicles:\n",
            "Van\n",
            "Truck\n",
            "SUV\n",
            "Car\n"
          ]
        }
      ]
    },
    {
      "cell_type": "markdown",
      "source": [
        "- <span style=\"color:red\">**Class Definition**:</span> Define a class named `VehicleRentalSystem` to represent a vehicle rental system. It has an attribute `available_vehicles`, which is initially an empty list to store available vehicles. The `__init__` method initializes this list when a new instance of the class is created.\n",
        "\n",
        "- <font style=\"color:red\">**Rent Vehicle Method**:</span> Implement a method named `rent_vehicle` to rent a vehicle. It takes the name of the vehicle as input and removes it from the list of available vehicles if it's available for rent.\n",
        "\n",
        "- <span style=\"color:red\">**Return Vehicle Method**:</span> Another method named `return_vehicle` is defined to return a rented vehicle. It takes the name of the vehicle as input and adds it back to the list of available vehicles.\n",
        "\n",
        "- <span style=\"color:red\">**Display Available Vehicles Method**:</span> Implement a method named `display_available_vehicles` to display the available vehicles in the system. It checks if there are any vehicles available and prints their names.\n",
        "\n",
        "- <span style=\"color:red\">**Example Usage**:</span> Create an instance of the `VehicleRentalSystem` class (`rental_system`) and add some vehicles to it. Then, display the available vehicles, rent a vehicle, display available vehicles after renting, return the rented vehicle, and display available vehicles after returning.\n",
        "\n",
        "This solution provides a basic implementation of a vehicle rental system with methods to rent, return, and display available vehicles using an object-oriented approach.\n"
      ],
      "metadata": {
        "id": "0YCux2KK6bDA"
      }
    },
    {
      "cell_type": "markdown",
      "source": [
        "## **Problem 4: Library Catalog Create classes representing a library and a book. Implement methods to add books to the library, borrow books, and display available books.**"
      ],
      "metadata": {
        "id": "0cLVM3eB6bTE"
      }
    },
    {
      "cell_type": "code",
      "source": [
        "class Book:\n",
        "    def __init__(self, title, author):\n",
        "        \"\"\"Initialize the Book object with title and author.\"\"\"\n",
        "        self.title = title\n",
        "        self.author = author\n",
        "        self.borrowed = False\n",
        "\n",
        "    def borrow(self):\n",
        "        \"\"\"Method to mark the book as borrowed.\"\"\"\n",
        "        if not self.borrowed:\n",
        "            self.borrowed = True\n",
        "            print(f\"{self.title} by {self.author} has been borrowed.\")\n",
        "        else:\n",
        "            print(f\"{self.title} by {self.author} is already borrowed.\")\n",
        "\n",
        "    def return_book(self):\n",
        "        \"\"\"Method to mark the book as returned.\"\"\"\n",
        "        if self.borrowed:\n",
        "            self.borrowed = False\n",
        "            print(f\"{self.title} by {self.author} has been returned.\")\n",
        "        else:\n",
        "            print(f\"{self.title} by {self.author} was not borrowed.\")\n",
        "\n",
        "\n",
        "class Library:\n",
        "    def __init__(self):\n",
        "        \"\"\"Initialize the Library object with an empty list of books.\"\"\"\n",
        "        self.books = []\n",
        "\n",
        "    def add_book(self, book):\n",
        "        \"\"\"Method to add a book to the library.\"\"\"\n",
        "        self.books.append(book)\n",
        "        print(f\"Book '{book.title}' by {book.author} added to the library.\")\n",
        "\n",
        "    def display_available_books(self):\n",
        "        \"\"\"Method to display available books in the library.\"\"\"\n",
        "        if self.books:\n",
        "            print(\"Available Books:\")\n",
        "            for book in self.books:\n",
        "                if not book.borrowed:\n",
        "                    print(f\"{book.title} by {book.author}\")\n",
        "        else:\n",
        "            print(\"No books available in the library.\")\n",
        "\n",
        "\n",
        "# Example usage:\n",
        "library = Library()\n",
        "\n",
        "# Add some books to the library\n",
        "book1 = Book(\"Harry Potter and the Philosopher's Stone\", \"J.K. Rowling\")\n",
        "book2 = Book(\"To Kill a Mockingbird\", \"Harper Lee\")\n",
        "library.add_book(book1)\n",
        "library.add_book(book2)\n",
        "\n",
        "# Display available books\n",
        "library.display_available_books()\n",
        "\n",
        "# Borrow a book\n",
        "book1.borrow()\n",
        "\n",
        "# Display available books after borrowing\n",
        "library.display_available_books()\n",
        "\n",
        "# Return the borrowed book\n",
        "book1.return_book()\n",
        "\n",
        "# Display available books after returning\n",
        "library.display_available_books()\n"
      ],
      "metadata": {
        "colab": {
          "base_uri": "https://localhost:8080/"
        },
        "id": "0SDSlahg6bnL",
        "outputId": "f5d40cd4-e816-47dd-a7d7-503d0a882ef5"
      },
      "execution_count": 4,
      "outputs": [
        {
          "output_type": "stream",
          "name": "stdout",
          "text": [
            "Book 'Harry Potter and the Philosopher's Stone' by J.K. Rowling added to the library.\n",
            "Book 'To Kill a Mockingbird' by Harper Lee added to the library.\n",
            "Available Books:\n",
            "Harry Potter and the Philosopher's Stone by J.K. Rowling\n",
            "To Kill a Mockingbird by Harper Lee\n",
            "Harry Potter and the Philosopher's Stone by J.K. Rowling has been borrowed.\n",
            "Available Books:\n",
            "To Kill a Mockingbird by Harper Lee\n",
            "Harry Potter and the Philosopher's Stone by J.K. Rowling has been returned.\n",
            "Available Books:\n",
            "Harry Potter and the Philosopher's Stone by J.K. Rowling\n",
            "To Kill a Mockingbird by Harper Lee\n"
          ]
        }
      ]
    },
    {
      "cell_type": "markdown",
      "source": [
        "- **Class Definition**: define two classes, `Book` and `Library`. The `Book` class represents a book with attributes like title, author, and a flag to indicate if it's borrowed or not. The `Library` class represents a library with a list of books.\n",
        "\n",
        "- **Add Book Method**: In the `Library` class, Implement a method named `add_book` to add a book to the library. It takes a `Book` object as input and appends it to the list of books.\n",
        "\n",
        "- **Display Available Books Method**: Another method named `display_available_books` is defined in the `Library` class to display the available books in the library. It iterates through the list of books and prints the title and author of each available book.\n",
        "\n",
        "- **Borrow and Return Methods**: The `Book` class has methods `borrow` and `return_book` to mark a book as borrowed or returned, respectively. These methods update the `borrowed` attribute of the book accordingly.\n",
        "\n",
        "- **Example Usage**: Create an instance of the `Library` class (`library`) and add some books to it. Then, display the available books, borrow a book, return the borrowed book, and display the available books again to demonstrate the functionality.\n",
        "\n",
        "This solution provides a simple implementation of a library catalog with methods to add books, borrow books, and display available books using an object-oriented approach.\n"
      ],
      "metadata": {
        "id": "DwakmBKR6b2J"
      }
    },
    {
      "cell_type": "markdown",
      "source": [
        "## **Problem 5: Product Inventory Create classes representing a product and an inventory system. Implement methods to add products to the inventory, update product quantity, and display available products.**"
      ],
      "metadata": {
        "id": "tvia-TJ56cAW"
      }
    },
    {
      "cell_type": "code",
      "source": [
        "class Product:\n",
        "    def __init__(self, name, price, quantity):\n",
        "        \"\"\"Initialize the Product object with name, price, and quantity.\"\"\"\n",
        "        self.name = name\n",
        "        self.price = price\n",
        "        self.quantity = quantity\n",
        "\n",
        "    def update_quantity(self, new_quantity):\n",
        "        \"\"\"Method to update the quantity of the product.\"\"\"\n",
        "        self.quantity = new_quantity\n",
        "        print(f\"Quantity of {self.name} updated to {self.quantity}.\")\n",
        "\n",
        "    def __str__(self):\n",
        "        \"\"\"String representation of the Product object.\"\"\"\n",
        "        return f\"{self.name} - Price: ${self.price}, Quantity: {self.quantity}\"\n",
        "\n",
        "\n",
        "class Inventory:\n",
        "    def __init__(self):\n",
        "        \"\"\"Initialize the Inventory object with an empty dictionary of products.\"\"\"\n",
        "        self.products = {}\n",
        "\n",
        "    def add_product(self, product):\n",
        "        \"\"\"Method to add a product to the inventory.\"\"\"\n",
        "        self.products[product.name] = product\n",
        "        print(f\"Product '{product.name}' added to the inventory.\")\n",
        "\n",
        "    def display_available_products(self):\n",
        "        \"\"\"Method to display available products in the inventory.\"\"\"\n",
        "        if self.products:\n",
        "            print(\"Available Products:\")\n",
        "            for product in self.products.values():\n",
        "                print(product)\n",
        "        else:\n",
        "            print(\"No products available in the inventory.\")\n",
        "\n",
        "\n",
        "# Example usage:\n",
        "inventory = Inventory()\n",
        "\n",
        "# Add some products to the inventory\n",
        "product1 = Product(\"Laptop\", 1000, 10)\n",
        "product2 = Product(\"Phone\", 500, 20)\n",
        "inventory.add_product(product1)\n",
        "inventory.add_product(product2)\n",
        "\n",
        "# Display available products\n",
        "inventory.display_available_products()\n",
        "\n",
        "# Update quantity of a product\n",
        "product1.update_quantity(5)\n",
        "\n",
        "# Display available products after updating quantity\n",
        "inventory.display_available_products()\n"
      ],
      "metadata": {
        "colab": {
          "base_uri": "https://localhost:8080/"
        },
        "id": "bOr1UVav6cRR",
        "outputId": "fe51b323-7e6a-4736-963a-4ab72544d0c3"
      },
      "execution_count": 5,
      "outputs": [
        {
          "output_type": "stream",
          "name": "stdout",
          "text": [
            "Product 'Laptop' added to the inventory.\n",
            "Product 'Phone' added to the inventory.\n",
            "Available Products:\n",
            "Laptop - Price: $1000, Quantity: 10\n",
            "Phone - Price: $500, Quantity: 20\n",
            "Quantity of Laptop updated to 5.\n",
            "Available Products:\n",
            "Laptop - Price: $1000, Quantity: 5\n",
            "Phone - Price: $500, Quantity: 20\n"
          ]
        }
      ]
    },
    {
      "cell_type": "markdown",
      "source": [
        "- **Class Definition**: Define two classes, `Product` and `Inventory`. The `Product` class represents a product with attributes like name, price, and quantity. The `Inventory` class represents an inventory system with a dictionary of products.\n",
        "\n",
        "- **Add Product Method**: In the `Inventory` class, implement a method named `add_product` to add a product to the inventory. It takes a `Product` object as input and adds it to the dictionary of products.\n",
        "\n",
        "- **Display Available Products Method**: Another method named `display_available_products` is defined in the `Inventory` class to display the available products in the inventory. It iterates through the dictionary of products and prints the string representation of each product.\n",
        "\n",
        "- **Update Quantity Method**: The `Product` class has a method `update_quantity` to update the quantity of the product. It takes a new quantity as input and updates the `quantity` attribute accordingly.\n",
        "\n",
        "- **Example Usage**: Create an instance of the `Inventory` class (`inventory`) and add some products to it. Then, display the available products, update the quantity of a product, and display the available products again to demonstrate the functionality.\n",
        "\n",
        "This solution provides a simple implementation of a product inventory system with methods to add products, update product quantity, and display available products using an object-oriented approach.\n"
      ],
      "metadata": {
        "id": "PC8YRwx56cgr"
      }
    },
    {
      "cell_type": "markdown",
      "source": [
        "## **Problem 6: Shape Calculation Create a class representing a shape with attributes like length, width, and height. Implement methods to calculate the area and perimeter of the shape.**"
      ],
      "metadata": {
        "id": "UWGmhi-P6ct7"
      }
    },
    {
      "cell_type": "code",
      "source": [
        "class Shape:\n",
        "    def __init__(self, length, width=None, height=None):\n",
        "        \"\"\"Initialize the Shape object with length, width, and height.\"\"\"\n",
        "        self.length = length\n",
        "        self.width = width\n",
        "        self.height = height\n",
        "\n",
        "    def calculate_area(self):\n",
        "        \"\"\"Method to calculate the area of the shape.\"\"\"\n",
        "        if self.width is None:  # For 1D shapes (e.g., line)\n",
        "            return None  # Unable to calculate area\n",
        "        elif self.height is None:  # For 2D shapes (e.g., rectangle)\n",
        "            return self.length * self.width\n",
        "        else:  # For 3D shapes (e.g., cuboid)\n",
        "            return 2 * (self.length * self.width + self.length * self.height + self.width * self.height)\n",
        "\n",
        "    def calculate_perimeter(self):\n",
        "        \"\"\"Method to calculate the perimeter of the shape.\"\"\"\n",
        "        if self.width is None:  # For 1D shapes (e.g., line)\n",
        "            return self.length * 2\n",
        "        elif self.height is None:  # For 2D shapes (e.g., rectangle)\n",
        "            return 2 * (self.length + self.width)\n",
        "        else:  # For 3D shapes (e.g., cuboid)\n",
        "            return 4 * (self.length + self.width + self.height)\n",
        "\n",
        "\n",
        "# Example usage:\n",
        "line = Shape(10)\n",
        "rectangle = Shape(5, 8)\n",
        "cuboid = Shape(3, 4, 6)\n",
        "\n",
        "print(\"Area and Perimeter Calculations:\")\n",
        "print(f\"Line: Area - {line.calculate_area()}, Perimeter - {line.calculate_perimeter()}\")\n",
        "print(f\"Rectangle: Area - {rectangle.calculate_area()}, Perimeter - {rectangle.calculate_perimeter()}\")\n",
        "print(f\"Cuboid: Area - {cuboid.calculate_area()}, Perimeter - {cuboid.calculate_perimeter()}\")\n"
      ],
      "metadata": {
        "colab": {
          "base_uri": "https://localhost:8080/"
        },
        "id": "PdPrBqWh6c8H",
        "outputId": "61afba70-52a5-45d1-8e0b-1e6ac3718361"
      },
      "execution_count": 6,
      "outputs": [
        {
          "output_type": "stream",
          "name": "stdout",
          "text": [
            "Area and Perimeter Calculations:\n",
            "Line: Area - None, Perimeter - 20\n",
            "Rectangle: Area - 40, Perimeter - 26\n",
            "Cuboid: Area - 108, Perimeter - 52\n"
          ]
        }
      ]
    },
    {
      "cell_type": "markdown",
      "source": [
        "- **Class Definition**: define a class named `Shape` to represent a shape with attributes like length, width, and height. The `__init__` method initializes these attributes when a new instance of the class is created.\n",
        "\n",
        "- **Calculate Area Method**: Implement a method named `calculate_area` to calculate the area of the shape. Depending on the dimensions of the shape (1D, 2D, or 3D), the method computes the area accordingly.\n",
        "\n",
        "- **Calculate Perimeter Method**: Another method named `calculate_perimeter` is defined to calculate the perimeter of the shape. Similar to the area calculation, it determines the type of shape and computes the perimeter accordingly.\n",
        "\n",
        "- **Example Usage**: Create instances of the `Shape` class for different types of shapes (line, rectangle, cuboid) and perform area and perimeter calculations for each shape. The results are printed to demonstrate the functionality.\n",
        "\n",
        "This solution provides a versatile implementation for calculating the area and perimeter of various shapes using an object-oriented approach.\n"
      ],
      "metadata": {
        "id": "30BHFRSs6dfQ"
      }
    },
    {
      "cell_type": "markdown",
      "source": [
        "## **Problem 7: Student Management Create a class representing a student with attributes like student ID, name, and grades. Implement methods to calculate the average grade and display student details.**"
      ],
      "metadata": {
        "id": "qOB-LsFo6dsl"
      }
    },
    {
      "cell_type": "code",
      "source": [
        "class Student:\n",
        "    def __init__(self, student_id, name, grades=[]):\n",
        "        \"\"\"Initialize the Student object with student ID, name, and grades.\"\"\"\n",
        "        self.student_id = student_id\n",
        "        self.name = name\n",
        "        self.grades = grades\n",
        "\n",
        "    def add_grade(self, grade):\n",
        "        \"\"\"Method to add a grade to the student's list of grades.\"\"\"\n",
        "        self.grades.append(grade)\n",
        "\n",
        "    def calculate_average_grade(self):\n",
        "        \"\"\"Method to calculate the average grade of the student.\"\"\"\n",
        "        if len(self.grades) == 0:\n",
        "            return None  # No grades available\n",
        "        return sum(self.grades) / len(self.grades)\n",
        "\n",
        "    def display_details(self):\n",
        "        \"\"\"Method to display student details.\"\"\"\n",
        "        print(f\"Student ID: {self.student_id}\")\n",
        "        print(f\"Name: {self.name}\")\n",
        "        print(f\"Grades: {self.grades}\")\n",
        "        print(f\"Average Grade: {self.calculate_average_grade()}\")\n",
        "\n",
        "\n",
        "# Example usage:\n",
        "student1 = Student(\"S001\", \"Alice\", [85, 90, 75])\n",
        "student2 = Student(\"S002\", \"Bob\")\n",
        "\n",
        "student2.add_grade(80)\n",
        "student2.add_grade(95)\n",
        "\n",
        "print(\"Student 1 Details:\")\n",
        "student1.display_details()\n",
        "print(\"\\nStudent 2 Details:\")\n",
        "student2.display_details()\n"
      ],
      "metadata": {
        "colab": {
          "base_uri": "https://localhost:8080/"
        },
        "id": "uagjL5OH6eMa",
        "outputId": "5330a965-b97c-49bb-f98e-fd38320422f8"
      },
      "execution_count": 7,
      "outputs": [
        {
          "output_type": "stream",
          "name": "stdout",
          "text": [
            "Student 1 Details:\n",
            "Student ID: S001\n",
            "Name: Alice\n",
            "Grades: [85, 90, 75]\n",
            "Average Grade: 83.33333333333333\n",
            "\n",
            "Student 2 Details:\n",
            "Student ID: S002\n",
            "Name: Bob\n",
            "Grades: [80, 95]\n",
            "Average Grade: 87.5\n"
          ]
        }
      ]
    },
    {
      "cell_type": "markdown",
      "source": [
        "- **Class Definition**: Define a class named `Student` to represent a student with attributes like student ID, name, and grades. The `__init__` method initializes these attributes when a new instance of the class is created. The `grades` attribute is initialized as an empty list by default.\n",
        "\n",
        "- **Add Grade Method**: Implement a method named `add_grade` to add a grade to the student's list of grades.\n",
        "\n",
        "- **Calculate Average Grade Method**: Another method named `calculate_average_grade` is defined to calculate the average grade of the student. It computes the sum of all grades and divides it by the total number of grades.\n",
        "\n",
        "- **Display Details Method**: Define a method named `display_details` to display student details, including student ID, name, grades, and average grade.\n",
        "\n",
        "- **Example Usage**: Create instances of the `Student` class for two students and add grades for each student. Then,display the details of both students, including their grades and average grade.\n",
        "\n",
        "This solution provides a straightforward way to manage student details and calculate their average grades using an object-oriented approach.\n"
      ],
      "metadata": {
        "id": "05tOSGX76eaz"
      }
    },
    {
      "cell_type": "markdown",
      "source": [
        "## **Problem 8: Email Management Create a class representing an email with attributes like sender, recipient, and subject. Implement methods to send an email and display email details.**"
      ],
      "metadata": {
        "id": "Q-EjWESa6eki"
      }
    },
    {
      "cell_type": "code",
      "source": [
        "class Email:\n",
        "    def __init__(self, sender, recipient, subject, body):\n",
        "        \"\"\"Initialize the Email object with sender, recipient, subject, and body.\"\"\"\n",
        "        self.sender = sender\n",
        "        self.recipient = recipient\n",
        "        self.subject = subject\n",
        "        self.body = body\n",
        "\n",
        "    def send_email(self):\n",
        "        \"\"\"Method to simulate sending the email.\"\"\"\n",
        "        print(\"Email sent successfully.\")\n",
        "        print(\"Sender:\", self.sender)\n",
        "        print(\"Recipient:\", self.recipient)\n",
        "        print(\"Subject:\", self.subject)\n",
        "        print(\"Body:\", self.body)\n",
        "\n",
        "    def display_details(self):\n",
        "        \"\"\"Method to display email details.\"\"\"\n",
        "        print(\"Email Details:\")\n",
        "        print(\"Sender:\", self.sender)\n",
        "        print(\"Recipient:\", self.recipient)\n",
        "        print(\"Subject:\", self.subject)\n",
        "        print(\"Body:\", self.body)\n",
        "\n",
        "\n",
        "# Example usage:\n",
        "email = Email(\"sender@example.com\", \"recipient@example.com\", \"Test Email\", \"This is a test email body.\")\n",
        "\n",
        "print(\"Email Details:\")\n",
        "email.display_details()\n",
        "\n",
        "print(\"\\nSending Email:\")\n",
        "email.send_email()\n"
      ],
      "metadata": {
        "colab": {
          "base_uri": "https://localhost:8080/"
        },
        "id": "giBlyuX16e1n",
        "outputId": "8d2dcbf3-b970-4195-9450-d76d35841cf5"
      },
      "execution_count": 8,
      "outputs": [
        {
          "output_type": "stream",
          "name": "stdout",
          "text": [
            "Email Details:\n",
            "Email Details:\n",
            "Sender: sender@example.com\n",
            "Recipient: recipient@example.com\n",
            "Subject: Test Email\n",
            "Body: This is a test email body.\n",
            "\n",
            "Sending Email:\n",
            "Email sent successfully.\n",
            "Sender: sender@example.com\n",
            "Recipient: recipient@example.com\n",
            "Subject: Test Email\n",
            "Body: This is a test email body.\n"
          ]
        }
      ]
    },
    {
      "cell_type": "markdown",
      "source": [
        "- **Class Definition**: Define a class named `Email` to represent an email with attributes like sender, recipient, subject, and body. The `__init__` method initializes these attributes when a new instance of the class is created.\n",
        "\n",
        "- **Send Email Method**: Implement a method named `send_email` to simulate sending the email. This method prints the email details to the console.\n",
        "\n",
        "- **Display Details Method**: Define another method named `display_details` to display email details, including sender, recipient, subject, and body.\n",
        "\n",
        "- **Example Usage**: Create an instance of the `Email` class with sample email details and display the email details using the `display_details` method. Then, simulate sending the email using the `send_email` method.\n",
        "\n",
        "This solution provides a simple way to manage email details and simulate sending emails using an object-oriented approach.\n",
        "\n"
      ],
      "metadata": {
        "id": "IdabJZc39oWh"
      }
    },
    {
      "cell_type": "markdown",
      "source": [
        "## **Problem 9: Social Media Profile Create a class representing a social media profile with attributes like username and posts. Implement methods to add posts, display posts, and search for posts by keyword.**"
      ],
      "metadata": {
        "id": "04a1wwZq9orT"
      }
    },
    {
      "cell_type": "code",
      "source": [
        "class SocialMediaProfile:\n",
        "    def __init__(self, username):\n",
        "        \"\"\"Initialize the SocialMediaProfile object with a username and an empty list of posts.\"\"\"\n",
        "        self.username = username\n",
        "        self.posts = []\n",
        "\n",
        "    def add_post(self, post):\n",
        "        \"\"\"Method to add a post to the social media profile.\"\"\"\n",
        "        self.posts.append(post)\n",
        "\n",
        "    def display_posts(self):\n",
        "        \"\"\"Method to display all posts in the social media profile.\"\"\"\n",
        "        print(f\"Posts by {self.username}:\")\n",
        "        for post in self.posts:\n",
        "            print(post)\n",
        "\n",
        "    def search_posts_by_keyword(self, keyword):\n",
        "        \"\"\"Method to search for posts containing a specific keyword.\"\"\"\n",
        "        matching_posts = [post for post in self.posts if keyword in post]\n",
        "        if matching_posts:\n",
        "            print(f\"Posts containing '{keyword}':\")\n",
        "            for post in matching_posts:\n",
        "                print(post)\n",
        "        else:\n",
        "            print(f\"No posts containing '{keyword}' found.\")\n",
        "\n",
        "\n",
        "# Example usage:\n",
        "profile = SocialMediaProfile(\"john_doe\")\n",
        "\n",
        "profile.add_post(\"Had a great day at the beach!\")\n",
        "profile.add_post(\"Excited for the new movie release.\")\n",
        "profile.add_post(\"Visited an amazing restaurant for dinner.\")\n",
        "\n",
        "profile.display_posts()\n",
        "\n",
        "print(\"\\nSearching for posts containing 'beach':\")\n",
        "profile.search_posts_by_keyword(\"beach\")\n"
      ],
      "metadata": {
        "colab": {
          "base_uri": "https://localhost:8080/"
        },
        "id": "jPkhWwLn9dKr",
        "outputId": "cdd5f752-7879-4ad2-f948-0b9665bf9d16"
      },
      "execution_count": 9,
      "outputs": [
        {
          "output_type": "stream",
          "name": "stdout",
          "text": [
            "Posts by john_doe:\n",
            "Had a great day at the beach!\n",
            "Excited for the new movie release.\n",
            "Visited an amazing restaurant for dinner.\n",
            "\n",
            "Searching for posts containing 'beach':\n",
            "Posts containing 'beach':\n",
            "Had a great day at the beach!\n"
          ]
        }
      ]
    },
    {
      "cell_type": "markdown",
      "source": [
        "- **Class Definition**: Define a class named `SocialMediaProfile` to represent a social media profile with attributes like username and posts. The `__init__` method initializes these attributes when a new instance of the class is created.\n",
        "\n",
        "- **Add Post Method**: Implement a method named `add_post` to add a post to the social media profile. It appends the post to the list of posts.\n",
        "\n",
        "- **Display Posts Method**: Define a method named `display_posts` to display all posts in the social media profile.\n",
        "\n",
        "- **Search Posts by Keyword Method**: Implement a method named `search_posts_by_keyword` to search for posts containing a specific keyword. It filters the posts list based on the keyword and prints the matching posts.\n",
        "\n",
        "- **Example Usage**: Create an instance of the `SocialMediaProfile` class with a username, add some posts to the profile, display the posts, and search for posts containing a specific keyword.\n",
        "\n",
        "This solution provides a simple way to manage social media profile details and perform operations like adding posts, displaying posts, and searching for posts by keyword using an object-oriented approach.\n"
      ],
      "metadata": {
        "id": "14rqiKZT9-16"
      }
    },
    {
      "cell_type": "markdown",
      "source": [
        "## **Problem 10: ToDo List Create a class representing a ToDo list with attributes like tasks and due dates. Implement methods to add tasks, mark tasks as completed, and display pending tasks.**"
      ],
      "metadata": {
        "id": "ej6F6P6E-DPM"
      }
    },
    {
      "cell_type": "code",
      "source": [
        "class ToDoList:\n",
        "    def __init__(self):\n",
        "        \"\"\"Initialize the ToDoList object with an empty dictionary to store tasks and due dates.\"\"\"\n",
        "        self.tasks = {}\n",
        "\n",
        "    def add_task(self, task, due_date):\n",
        "        \"\"\"Method to add a task to the ToDo list with a specified due date.\"\"\"\n",
        "        self.tasks[task] = due_date\n",
        "        print(f\"Task '{task}' added with due date {due_date}.\")\n",
        "\n",
        "    def mark_task_as_completed(self, task):\n",
        "        \"\"\"Method to mark a task as completed.\"\"\"\n",
        "        if task in self.tasks:\n",
        "            del self.tasks[task]\n",
        "            print(f\"Task '{task}' marked as completed.\")\n",
        "        else:\n",
        "            print(f\"Task '{task}' not found in the ToDo list.\")\n",
        "\n",
        "    def display_pending_tasks(self):\n",
        "        \"\"\"Method to display pending tasks in the ToDo list.\"\"\"\n",
        "        if self.tasks:\n",
        "            print(\"Pending Tasks:\")\n",
        "            for task, due_date in self.tasks.items():\n",
        "                print(f\"Task: {task}, Due Date: {due_date}\")\n",
        "        else:\n",
        "            print(\"No pending tasks in the ToDo list.\")\n",
        "\n",
        "\n",
        "# Example usage:\n",
        "todo_list = ToDoList()\n",
        "\n",
        "todo_list.add_task(\"Complete project proposal\", \"2024-04-30\")\n",
        "todo_list.add_task(\"Submit report\", \"2024-05-05\")\n",
        "\n",
        "todo_list.display_pending_tasks()\n",
        "\n",
        "todo_list.mark_task_as_completed(\"Complete project proposal\")\n",
        "\n",
        "todo_list.display_pending_tasks()\n"
      ],
      "metadata": {
        "colab": {
          "base_uri": "https://localhost:8080/"
        },
        "id": "yFGwOaV295Jc",
        "outputId": "55b7b62e-90ac-4290-baf5-37ae9cc1ace7"
      },
      "execution_count": 11,
      "outputs": [
        {
          "output_type": "stream",
          "name": "stdout",
          "text": [
            "Task 'Complete project proposal' added with due date 2024-04-30.\n",
            "Task 'Submit report' added with due date 2024-05-05.\n",
            "Pending Tasks:\n",
            "Task: Complete project proposal, Due Date: 2024-04-30\n",
            "Task: Submit report, Due Date: 2024-05-05\n",
            "Task 'Complete project proposal' marked as completed.\n",
            "Pending Tasks:\n",
            "Task: Submit report, Due Date: 2024-05-05\n"
          ]
        }
      ]
    },
    {
      "cell_type": "markdown",
      "source": [
        "- **Class Definition**: Define a class named `ToDoList` to represent a ToDo list with attributes like tasks and due dates. The `__init__` method initializes the ToDo list object with an empty dictionary to store tasks and due dates.\n",
        "\n",
        "- **Add Task Method**: Implement a method named `add_task` to add a task to the ToDo list with a specified due date. It adds the task to the dictionary of tasks with the due date.\n",
        "\n",
        "- **Mark Task as Completed Method**: Define a method named `mark_task_as_completed` to mark a task as completed. If the task exists in the ToDo list, it removes the task from the dictionary of tasks.\n",
        "\n",
        "- **Display Pending Tasks Method**: Implement a method named `display_pending_tasks` to display pending tasks in the ToDo list. It iterates through the dictionary of tasks and prints the task name along with its due date.\n",
        "\n",
        "- **Example Usage**: Create an instance of the `ToDoList` class (`todo_list`) and add some tasks with due dates. Then, display the pending tasks, mark one of the tasks as completed, and display the pending tasks again to demonstrate the functionality.\n",
        "\n",
        "This solution provides a basic implementation of a ToDo list with methods to add tasks, mark tasks as completed, and display pending tasks using an object-oriented approach.\n"
      ],
      "metadata": {
        "id": "ZCHo-5Pq-FA-"
      }
    },
    {
      "cell_type": "code",
      "source": [],
      "metadata": {
        "id": "ecSz3Csb-ugt"
      },
      "execution_count": null,
      "outputs": []
    }
  ]
}