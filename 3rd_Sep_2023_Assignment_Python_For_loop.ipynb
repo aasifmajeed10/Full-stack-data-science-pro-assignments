{
  "nbformat": 4,
  "nbformat_minor": 0,
  "metadata": {
    "colab": {
      "provenance": []
    },
    "kernelspec": {
      "name": "python3",
      "display_name": "Python 3"
    },
    "language_info": {
      "name": "python"
    }
  },
  "cells": [
    {
      "cell_type": "markdown",
      "source": [
        "### Full Stack Data Science Pro\n",
        "### Assignment 3 : Python - For loop"
      ],
      "metadata": {
        "id": "siJ3U3_TO-W7"
      }
    },
    {
      "cell_type": "markdown",
      "source": [
        "# **Name : Aasif Majeed**\n"
      ],
      "metadata": {
        "id": "JY1GNApXOpuc"
      }
    },
    {
      "cell_type": "markdown",
      "source": [
        "## **Basic Level:**\n",
        "\n",
        "---\n",
        "\n"
      ],
      "metadata": {
        "id": "Lr1k1d1wPSdS"
      }
    },
    {
      "cell_type": "markdown",
      "source": [
        "## **1. Write a Python program to print the numbers from 1 to 10 using a `for` loop.**"
      ],
      "metadata": {
        "id": "4A-uVJw3PZwb"
      }
    },
    {
      "cell_type": "code",
      "execution_count": null,
      "metadata": {
        "colab": {
          "base_uri": "https://localhost:8080/"
        },
        "id": "wAzP1SWENoko",
        "outputId": "5267076e-e7fd-407b-d0dd-b4beb5d8e0e0"
      },
      "outputs": [
        {
          "output_type": "stream",
          "name": "stdout",
          "text": [
            "1 2 3 4 5 6 7 8 9 10 "
          ]
        }
      ],
      "source": [
        "# Using a for loop to iterate over the range from 1 to 11 (exclusive)\n",
        "for number in range(1, 11):\n",
        "    # Printing each number in the loop on the same line\n",
        "    print(number, end=' ') #end ='' prints numbers in single line reduces code complexity"
      ]
    },
    {
      "cell_type": "markdown",
      "source": [
        "## **2. Create a program that calculates the sum of all numbers in a list using a `for` loop.**"
      ],
      "metadata": {
        "id": "fCXHe2hnOrE3"
      }
    },
    {
      "cell_type": "code",
      "source": [
        "# Define a list of numbers\n",
        "numbers = [1, 2, 3, 4, 5, 6, 7, 8, 9, 10]\n",
        "\n",
        "# Initialize a variable to store the sum\n",
        "sum_of_numbers = 0\n",
        "\n",
        "# Using a for loop to iterate over each number in the list\n",
        "for number in numbers:\n",
        "    # Adding each number to the sum\n",
        "    sum_of_numbers += number # same as sum.. = sum.. + number\n",
        "\n",
        "# Printing the final sum\n",
        "print(\"Sum of numbers:\", sum_of_numbers)"
      ],
      "metadata": {
        "colab": {
          "base_uri": "https://localhost:8080/"
        },
        "id": "2c-3lZbvOrN3",
        "outputId": "661cf69a-4bd9-420f-ac94-bceb3343a886"
      },
      "execution_count": null,
      "outputs": [
        {
          "output_type": "stream",
          "name": "stdout",
          "text": [
            "Sum of numbers: 55\n"
          ]
        }
      ]
    },
    {
      "cell_type": "markdown",
      "source": [
        "## **3. Write a program to print the characters of a string in reverse order using a `for` loop.**"
      ],
      "metadata": {
        "id": "sO0foAsZOrXp"
      }
    },
    {
      "cell_type": "code",
      "source": [
        "# Define a string\n",
        "input_string = \"Aasif, Majeed\"\n",
        "\n",
        "# Using a for loop to iterate over the characters of the string in reverse order\n",
        "for char in reversed(input_string):\n",
        "    # Printing each character in the loop\n",
        "    print(char, end=' ')"
      ],
      "metadata": {
        "colab": {
          "base_uri": "https://localhost:8080/"
        },
        "id": "X7vAyvHwOrfA",
        "outputId": "89fede22-dcab-4755-d898-fc597a1b5cf7"
      },
      "execution_count": null,
      "outputs": [
        {
          "output_type": "stream",
          "name": "stdout",
          "text": [
            "d e e j a M   , f i s a A "
          ]
        }
      ]
    },
    {
      "cell_type": "markdown",
      "source": [
        "## **4. Develop a program that finds the factorial of a given number using a `for` loop.**"
      ],
      "metadata": {
        "id": "l5v27TcbOroL"
      }
    },
    {
      "cell_type": "code",
      "source": [
        "# Function to calculate the factorial of a number\n",
        "def calculate_factorial(n):\n",
        "    # Initialize the factorial variable to 1\n",
        "    factorial = 1\n",
        "\n",
        "    # Using a for loop to multiply numbers from 1 to n\n",
        "    for i in range(1, n + 1):\n",
        "        # Multiply the current number with the factorial\n",
        "        factorial *= i\n",
        "\n",
        "    # Return the final factorial value\n",
        "    return factorial\n",
        "\n",
        "# Example: Calculate factorial of 5\n",
        "number = 5\n",
        "result = calculate_factorial(number)\n",
        "\n",
        "# Print the result\n",
        "print(f\"The factorial of {number} is {result}\")"
      ],
      "metadata": {
        "colab": {
          "base_uri": "https://localhost:8080/"
        },
        "id": "E1mg5pAgOrvS",
        "outputId": "a3021a87-4655-42d5-facf-bd8d671c0c4b"
      },
      "execution_count": null,
      "outputs": [
        {
          "output_type": "stream",
          "name": "stdout",
          "text": [
            "The factorial of 5 is 120\n"
          ]
        }
      ]
    },
    {
      "cell_type": "markdown",
      "source": [
        "## **5. Create a program to print the multiplication table of a given number using a `for` loop.**"
      ],
      "metadata": {
        "id": "LEiQ8xbuOr29"
      }
    },
    {
      "cell_type": "code",
      "source": [
        "# Function to print the multiplication table of a given number\n",
        "def multiplication_table(number):\n",
        "    # Using a for loop to iterate from 1 to 10\n",
        "    for i in range(1, 11):\n",
        "        # Calculate the product and print the result\n",
        "        product = number * i\n",
        "        print(f\"{number} x {i} = {product}\")\n",
        "\n",
        "# Example: Print the multiplication table of 7\n",
        "given_number = 7\n",
        "multiplication_table(given_number)"
      ],
      "metadata": {
        "colab": {
          "base_uri": "https://localhost:8080/"
        },
        "id": "xC-h0nJXOr9a",
        "outputId": "50eb8cfb-0959-4882-9f9f-e01d6c9877e4"
      },
      "execution_count": null,
      "outputs": [
        {
          "output_type": "stream",
          "name": "stdout",
          "text": [
            "7 x 1 = 7\n",
            "7 x 2 = 14\n",
            "7 x 3 = 21\n",
            "7 x 4 = 28\n",
            "7 x 5 = 35\n",
            "7 x 6 = 42\n",
            "7 x 7 = 49\n",
            "7 x 8 = 56\n",
            "7 x 9 = 63\n",
            "7 x 10 = 70\n"
          ]
        }
      ]
    },
    {
      "cell_type": "markdown",
      "source": [
        "## **6. Write a program that counts the number of even and odd numbers in a list using a `for` loop.**"
      ],
      "metadata": {
        "id": "Uzv-VAQvOsDp"
      }
    },
    {
      "cell_type": "code",
      "source": [
        "# Define a list of numbers\n",
        "numbers = [1, 2, 3, 4, 5, 6, 7, 8, 9, 10]\n",
        "\n",
        "# Initialize variables to count even and odd numbers\n",
        "even_count = 0\n",
        "odd_count = 0\n",
        "\n",
        "# Using a for loop to iterate over each number in the list\n",
        "for number in numbers:\n",
        "    # Check if the number is even or odd\n",
        "    if number % 2 == 0:\n",
        "        # Increment the even count\n",
        "        even_count += 1\n",
        "    else:\n",
        "        # Increment the odd count\n",
        "        odd_count += 1\n",
        "\n",
        "# Printing the counts\n",
        "print(\"Number of even numbers:\", even_count)\n",
        "print(\"Number of odd numbers:\", odd_count)"
      ],
      "metadata": {
        "colab": {
          "base_uri": "https://localhost:8080/"
        },
        "id": "qmB7XgtQOsKS",
        "outputId": "7e34ee7d-ff0f-4bc5-c4c1-25db91d6a359"
      },
      "execution_count": null,
      "outputs": [
        {
          "output_type": "stream",
          "name": "stdout",
          "text": [
            "Number of even numbers: 5\n",
            "Number of odd numbers: 5\n"
          ]
        }
      ]
    },
    {
      "cell_type": "markdown",
      "source": [
        "## **7. Develop a program that prints the squares of numbers from 1 to 5 using a `for` loop.**"
      ],
      "metadata": {
        "id": "miUSm4l-OsVR"
      }
    },
    {
      "cell_type": "code",
      "source": [
        "# Using a for loop to iterate over the range from 1 to 6 (exclusive)\n",
        "for number in range(1, 6):\n",
        "    # Calculate the square and print the result\n",
        "    square = number ** 2\n",
        "    print(f\"The square of {number} is {square}\")# \"f-string\" or \"formatted string literal."
      ],
      "metadata": {
        "colab": {
          "base_uri": "https://localhost:8080/"
        },
        "id": "rYlt5aCOOsY-",
        "outputId": "f6272721-32f7-4e90-e938-063935821b95"
      },
      "execution_count": null,
      "outputs": [
        {
          "output_type": "stream",
          "name": "stdout",
          "text": [
            "The square of 1 is 1\n",
            "The square of 2 is 4\n",
            "The square of 3 is 9\n",
            "The square of 4 is 16\n",
            "The square of 5 is 25\n"
          ]
        }
      ]
    },
    {
      "cell_type": "markdown",
      "source": [
        "## **8. Create a program to find the length of a string without using the `len()` function.**"
      ],
      "metadata": {
        "id": "EHakHUo4OsdG"
      }
    },
    {
      "cell_type": "code",
      "source": [
        "# Function to find the length of a string without using len()\n",
        "def find_string_length(input_string):\n",
        "    # Initialize a counter variable\n",
        "    length = 0\n",
        "\n",
        "    # Iterate through each character in the string\n",
        "    for char in input_string:\n",
        "        # Increment the counter for each character\n",
        "        length += 1\n",
        "\n",
        "    # Return the final length\n",
        "    return length\n",
        "\n",
        "# Example: Find the length of a string\n",
        "input_string = \"My name is Aasif Majeed\"\n",
        "result = find_string_length(input_string)\n",
        "\n",
        "# Print the result\n",
        "print(f\"The length of the string is: {result}\")\n"
      ],
      "metadata": {
        "colab": {
          "base_uri": "https://localhost:8080/"
        },
        "id": "vih1rfhcOsi3",
        "outputId": "a95dc79f-fdcf-419e-a56e-9579c3604958"
      },
      "execution_count": null,
      "outputs": [
        {
          "output_type": "stream",
          "name": "stdout",
          "text": [
            "The length of the string is: 23\n"
          ]
        }
      ]
    },
    {
      "cell_type": "markdown",
      "source": [
        "## **9. Write a program that calculates the average of a list of numbers using a `for` loop.**"
      ],
      "metadata": {
        "id": "Bnl08cgiOsqP"
      }
    },
    {
      "cell_type": "code",
      "source": [
        "# Define a list of numbers\n",
        "numbers = [10, 5, 8, 12, 6]\n",
        "\n",
        "# Initialize variables for sum and count\n",
        "total_sum = 0\n",
        "count = 0\n",
        "\n",
        "# Using a for loop to iterate over each number in the list\n",
        "for number in numbers:\n",
        "    # Add each number to the sum\n",
        "    total_sum += number\n",
        "    # Increment the count\n",
        "    count += 1 #to get the total numbers in the list\n",
        "\n",
        "# Calculate the average\n",
        "average = total_sum / count\n",
        "\n",
        "# Print the result\n",
        "print(f\"The average of the numbers is: {average}\")\n"
      ],
      "metadata": {
        "colab": {
          "base_uri": "https://localhost:8080/"
        },
        "id": "hp7zULNYOsvF",
        "outputId": "3403b4ac-d3de-41f7-b9fa-3a3d3dc3d037"
      },
      "execution_count": null,
      "outputs": [
        {
          "output_type": "stream",
          "name": "stdout",
          "text": [
            "The average of the numbers is: 8.2\n"
          ]
        }
      ]
    },
    {
      "cell_type": "markdown",
      "source": [
        "## **10. Develop a program that prints the first `n` Fibonacci numbers using a `for` loop.**"
      ],
      "metadata": {
        "id": "SCQ0YEbBOs1b"
      }
    },
    {
      "cell_type": "code",
      "source": [
        "# Function to print the first n Fibonacci numbers\n",
        "def fibonacci_sequence(n):\n",
        "    # Initialize the first two numbers in the sequence\n",
        "    fib_sequence = [0, 1]\n",
        "\n",
        "    # Using a for loop to generate the Fibonacci sequence\n",
        "    for i in range(2, n):\n",
        "        # Calculate the next Fibonacci number by adding the last two numbers\n",
        "        next_number = fib_sequence[i - 1] + fib_sequence[i - 2]\n",
        "        # Append the next number to the sequence\n",
        "        fib_sequence.append(next_number)\n",
        "\n",
        "    # Print the Fibonacci sequence\n",
        "    print(f\"The first {n} Fibonacci numbers are: {fib_sequence}\")\n",
        "\n",
        "# Example: Print the first 8 Fibonacci numbers\n",
        "n = 8\n",
        "fibonacci_sequence(n)\n"
      ],
      "metadata": {
        "colab": {
          "base_uri": "https://localhost:8080/"
        },
        "id": "3evhQqPCOs7L",
        "outputId": "834852fb-28da-4e39-f584-9b3b97d16ce4"
      },
      "execution_count": null,
      "outputs": [
        {
          "output_type": "stream",
          "name": "stdout",
          "text": [
            "The first 8 Fibonacci numbers are: [0, 1, 1, 2, 3, 5, 8, 13]\n"
          ]
        }
      ]
    },
    {
      "cell_type": "markdown",
      "source": [
        "## ***Intermediate Level:***\n",
        "\n",
        "---\n",
        "\n"
      ],
      "metadata": {
        "id": "WtsrTmjeOtBr"
      }
    },
    {
      "cell_type": "markdown",
      "source": [
        "## **11. Write a program to check if a given list contains any duplicates using a `for` loop.**"
      ],
      "metadata": {
        "id": "pBiNHG_yTsb4"
      }
    },
    {
      "cell_type": "code",
      "source": [
        "# Function to check for duplicates in a list\n",
        "def has_duplicates(input_list):\n",
        "    # Create an empty set to store unique elements\n",
        "    unique_elements = set()\n",
        "\n",
        "    # Using a for loop to iterate over each element in the list\n",
        "    for element in input_list:\n",
        "        # If the element is already in the set, it's a duplicate\n",
        "        if element in unique_elements:\n",
        "            return True\n",
        "        else:\n",
        "            # Add the element to the set if it's not already present\n",
        "            unique_elements.add(element)\n",
        "\n",
        "    # If the loop completes without finding duplicates, return False\n",
        "    return False\n",
        "\n",
        "# Example: Check for duplicates in a list\n",
        "numbers_with_duplicates = [1, 2, 3, 4, 5, 2, 7, 8, 9]\n",
        "result = has_duplicates(numbers_with_duplicates)\n",
        "\n",
        "# Print the result\n",
        "if result:\n",
        "    print(\"The list contains duplicates.\")\n",
        "else:\n",
        "    print(\"The list does not contain duplicates.\")\n"
      ],
      "metadata": {
        "colab": {
          "base_uri": "https://localhost:8080/"
        },
        "id": "boMGKr8sOtHV",
        "outputId": "26e2f058-28b4-4476-df98-15b05b6f56d1"
      },
      "execution_count": null,
      "outputs": [
        {
          "output_type": "stream",
          "name": "stdout",
          "text": [
            "The list contains duplicates.\n"
          ]
        }
      ]
    },
    {
      "cell_type": "markdown",
      "source": [
        "## **12. Create a program that prints the prime numbers in a given range using a `for` loop**."
      ],
      "metadata": {
        "id": "jEbR8zHdOtM5"
      }
    },
    {
      "cell_type": "code",
      "source": [
        "# Function to check if a number is prime\n",
        "def is_prime(number):\n",
        "    # Prime numbers are greater than 1\n",
        "    if number <= 1:\n",
        "        return False\n",
        "\n",
        "    # Check for factors from 2 to the square root of the number\n",
        "    for i in range(2, int(number**0.5) + 1):\n",
        "        if number % i == 0:\n",
        "            return False\n",
        "\n",
        "    # If no factors were found, the number is prime\n",
        "    return True\n",
        "\n",
        "# Function to print prime numbers in a given range\n",
        "def print_primes_in_range(start, end):\n",
        "    # Using a for loop to iterate over the range\n",
        "    for num in range(start, end + 1):\n",
        "        # Check if the current number is prime\n",
        "        if is_prime(num):\n",
        "            print(num, end=' ')\n",
        "\n",
        "# Example: Print prime numbers in the range 10 to 50\n",
        "start_range = 10\n",
        "end_range = 50\n",
        "print(f\"Prime numbers in the range {start_range} to {end_range}:\")\n",
        "print_primes_in_range(start_range, end_range)"
      ],
      "metadata": {
        "colab": {
          "base_uri": "https://localhost:8080/"
        },
        "id": "3IUbhe_zOtSj",
        "outputId": "1bd2d8b4-4797-4345-bc1b-5215709ba61e"
      },
      "execution_count": null,
      "outputs": [
        {
          "output_type": "stream",
          "name": "stdout",
          "text": [
            "Prime numbers in the range 10 to 50:\n",
            "11 13 17 19 23 29 31 37 41 43 47 "
          ]
        }
      ]
    },
    {
      "cell_type": "markdown",
      "source": [
        "## **13. Develop a program that counts the number of vowels in a string using a `for` loop.**"
      ],
      "metadata": {
        "id": "97558etsOtYI"
      }
    },
    {
      "cell_type": "code",
      "source": [
        "# Function to count vowels in a string\n",
        "def count_vowels(input_string):\n",
        "    # Define a set of vowels\n",
        "    vowels = set(\"aeiouAEIOU\")\n",
        "\n",
        "    # Initialize a counter variable\n",
        "    vowel_count = 0\n",
        "\n",
        "    # Using a for loop to iterate over each character in the string\n",
        "    for char in input_string:\n",
        "        # Check if the character is a vowel\n",
        "        if char in vowels:\n",
        "            vowel_count += 1\n",
        "\n",
        "    # Return the final count\n",
        "    return vowel_count\n",
        "\n",
        "# Example: Count vowels in a string\n",
        "input_string = \"Aasif Majeed\"\n",
        "result = count_vowels(input_string)\n",
        "\n",
        "# Print the result\n",
        "print(f\"The number of vowels in the string is: {result}\")\n"
      ],
      "metadata": {
        "colab": {
          "base_uri": "https://localhost:8080/"
        },
        "id": "gW0Nx4KrOtdE",
        "outputId": "3a3a2ddb-c138-47e6-8e54-5b12f1c2582d"
      },
      "execution_count": null,
      "outputs": [
        {
          "output_type": "stream",
          "name": "stdout",
          "text": [
            "The number of vowels in the string is: 6\n"
          ]
        }
      ]
    },
    {
      "cell_type": "markdown",
      "source": [
        "## **14. Write a program to find the maximum element in a 2D list using a nested `for` loop.**"
      ],
      "metadata": {
        "id": "VrsgG29AU_L2"
      }
    },
    {
      "cell_type": "code",
      "source": [
        "# Function to find the maximum element in a 2D list\n",
        "def find_max_element(matrix):\n",
        "    # Assume the first element as the maximum\n",
        "    max_element = matrix[0][0]\n",
        "\n",
        "    # Using nested for loops to iterate through the 2D list\n",
        "    for row in matrix:\n",
        "        for element in row:\n",
        "            # Update max_element if a greater element is found\n",
        "            if element > max_element:\n",
        "                max_element = element\n",
        "\n",
        "    # Return the maximum element\n",
        "    return max_element\n",
        "\n",
        "# Example: Find the maximum element in a 2D list\n",
        "matrix = [\n",
        "    [3, 8, 1],\n",
        "    [5, 2, 9],\n",
        "    [4, 7, 6]\n",
        "]\n",
        "\n",
        "result = find_max_element(matrix)\n",
        "\n",
        "# Print the result\n",
        "print(f\"The maximum element in the 2D list is: {result}\")\n"
      ],
      "metadata": {
        "colab": {
          "base_uri": "https://localhost:8080/"
        },
        "id": "elGYocVJUvOk",
        "outputId": "a54baab1-0b12-4033-b13a-832d39f4695e"
      },
      "execution_count": null,
      "outputs": [
        {
          "output_type": "stream",
          "name": "stdout",
          "text": [
            "The maximum element in the 2D list is: 9\n"
          ]
        }
      ]
    },
    {
      "cell_type": "markdown",
      "source": [
        "## **15. Create a program that removes all occurrences of a specific element from a list using a `for` loop.**"
      ],
      "metadata": {
        "id": "kki3iQz7VDrM"
      }
    },
    {
      "cell_type": "code",
      "source": [
        "# Function to remove all occurrences of a specific element from a list\n",
        "def remove_element(lst, target):\n",
        "    # Using a for loop to iterate over the list\n",
        "    for item in lst[:]:  # Iterate over a copy of the list to avoid modifying it during iteration\n",
        "        # Check if the current item is equal to the target element\n",
        "        if item == target:\n",
        "            # Remove the item from the original list\n",
        "            lst.remove(item)\n",
        "\n",
        "# Example: Remove all occurrences of 2 from the list\n",
        "numbers = [1, 2, 3, 2, 4, 2, 5]\n",
        "target_element = 2\n",
        "\n",
        "# Print the original list\n",
        "print(\"Original List:\", numbers)\n",
        "\n",
        "# Remove all occurrences of the target element\n",
        "remove_element(numbers, target_element)\n",
        "\n",
        "# Print the modified list\n",
        "print(f\"List after removing all occurrences of {target_element}:\", numbers)\n"
      ],
      "metadata": {
        "colab": {
          "base_uri": "https://localhost:8080/"
        },
        "id": "2aul3-e7VD4I",
        "outputId": "f1a51b74-827f-451e-a0d6-00c2785be9fd"
      },
      "execution_count": null,
      "outputs": [
        {
          "output_type": "stream",
          "name": "stdout",
          "text": [
            "Original List: [1, 2, 3, 2, 4, 2, 5]\n",
            "List after removing all occurrences of 2: [1, 3, 4, 5]\n"
          ]
        }
      ]
    },
    {
      "cell_type": "markdown",
      "source": [
        "## **16. Develop a program that generates a multiplication table for numbers from 1 to 5 using a nested `for` loop.**"
      ],
      "metadata": {
        "id": "r2c8jewSVEA5"
      }
    },
    {
      "cell_type": "code",
      "source": [
        "# Using nested for loops to generate a multiplication table\n",
        "for i in range(1, 6):\n",
        "    for j in range(1, 11):\n",
        "        # Calculate the product and print the result\n",
        "        product = i * j\n",
        "        print(f\"{i} x {j} = {product}\")\n",
        "\n",
        "    # Print a newline after each row to separate the tables\n",
        "    print()\n"
      ],
      "metadata": {
        "colab": {
          "base_uri": "https://localhost:8080/"
        },
        "id": "cc1oOIyjVEH-",
        "outputId": "aa8e01c3-2424-4945-f389-712cb908fb28"
      },
      "execution_count": null,
      "outputs": [
        {
          "output_type": "stream",
          "name": "stdout",
          "text": [
            "1 x 1 = 1\n",
            "1 x 2 = 2\n",
            "1 x 3 = 3\n",
            "1 x 4 = 4\n",
            "1 x 5 = 5\n",
            "1 x 6 = 6\n",
            "1 x 7 = 7\n",
            "1 x 8 = 8\n",
            "1 x 9 = 9\n",
            "1 x 10 = 10\n",
            "\n",
            "2 x 1 = 2\n",
            "2 x 2 = 4\n",
            "2 x 3 = 6\n",
            "2 x 4 = 8\n",
            "2 x 5 = 10\n",
            "2 x 6 = 12\n",
            "2 x 7 = 14\n",
            "2 x 8 = 16\n",
            "2 x 9 = 18\n",
            "2 x 10 = 20\n",
            "\n",
            "3 x 1 = 3\n",
            "3 x 2 = 6\n",
            "3 x 3 = 9\n",
            "3 x 4 = 12\n",
            "3 x 5 = 15\n",
            "3 x 6 = 18\n",
            "3 x 7 = 21\n",
            "3 x 8 = 24\n",
            "3 x 9 = 27\n",
            "3 x 10 = 30\n",
            "\n",
            "4 x 1 = 4\n",
            "4 x 2 = 8\n",
            "4 x 3 = 12\n",
            "4 x 4 = 16\n",
            "4 x 5 = 20\n",
            "4 x 6 = 24\n",
            "4 x 7 = 28\n",
            "4 x 8 = 32\n",
            "4 x 9 = 36\n",
            "4 x 10 = 40\n",
            "\n",
            "5 x 1 = 5\n",
            "5 x 2 = 10\n",
            "5 x 3 = 15\n",
            "5 x 4 = 20\n",
            "5 x 5 = 25\n",
            "5 x 6 = 30\n",
            "5 x 7 = 35\n",
            "5 x 8 = 40\n",
            "5 x 9 = 45\n",
            "5 x 10 = 50\n",
            "\n"
          ]
        }
      ]
    },
    {
      "cell_type": "markdown",
      "source": [
        "## **17. Write a program that converts a list of Fahrenheit temperatures to Celsius using a `for` loop.**"
      ],
      "metadata": {
        "id": "r-tmSVJ1VFEu"
      }
    },
    {
      "cell_type": "code",
      "source": [
        "# Function to convert Fahrenheit to Celsius\n",
        "def fahrenheit_to_celsius(fahrenheit):\n",
        "    return (fahrenheit - 32) * 5/9\n",
        "\n",
        "# List of Fahrenheit temperatures\n",
        "fahrenheit_temperatures = [32, 68, 86, 104, 212]\n",
        "\n",
        "# Using a for loop to iterate over each Fahrenheit temperature\n",
        "for fahrenheit in fahrenheit_temperatures:\n",
        "    # Convert Fahrenheit to Celsius and print the result\n",
        "    celsius = fahrenheit_to_celsius(fahrenheit)\n",
        "    print(f\"{fahrenheit} degrees Fahrenheit is {celsius:.2f} degrees Celsius\")\n"
      ],
      "metadata": {
        "colab": {
          "base_uri": "https://localhost:8080/"
        },
        "id": "L3_PT76WVGFR",
        "outputId": "aaf045a4-fd42-439c-d3cc-ffd9304fdcac"
      },
      "execution_count": null,
      "outputs": [
        {
          "output_type": "stream",
          "name": "stdout",
          "text": [
            "32 degrees Fahrenheit is 0.00 degrees Celsius\n",
            "68 degrees Fahrenheit is 20.00 degrees Celsius\n",
            "86 degrees Fahrenheit is 30.00 degrees Celsius\n",
            "104 degrees Fahrenheit is 40.00 degrees Celsius\n",
            "212 degrees Fahrenheit is 100.00 degrees Celsius\n"
          ]
        }
      ]
    },
    {
      "cell_type": "markdown",
      "source": [
        "## **18. Create a program to print the common elements from two lists using a `for` loop.**"
      ],
      "metadata": {
        "id": "rDCSnt7YVGfG"
      }
    },
    {
      "cell_type": "code",
      "source": [
        "# Function to find common elements in two lists\n",
        "def find_common_elements(list1, list2):\n",
        "    # Using a for loop to iterate over elements in the first list\n",
        "    for element1 in list1:\n",
        "        # Using a nested for loop to compare with elements in the second list\n",
        "        for element2 in list2:\n",
        "            # If a common element is found, print it\n",
        "            if element1 == element2:\n",
        "                print(f\"Common element: {element1}\")\n",
        "\n",
        "# Example: Find common elements in two lists\n",
        "list_a = [1, 2, 3, 4, 5]\n",
        "list_b = [3, 4, 5, 6, 7]\n",
        "\n",
        "print(\"List A:\", list_a)\n",
        "print(\"List B:\", list_b)\n",
        "\n",
        "# Call the function to find common elements\n",
        "find_common_elements(list_a, list_b)\n"
      ],
      "metadata": {
        "colab": {
          "base_uri": "https://localhost:8080/"
        },
        "id": "I753HO6tVGqd",
        "outputId": "2e92f956-4b78-446e-95bb-2a7bbe715ea8"
      },
      "execution_count": null,
      "outputs": [
        {
          "output_type": "stream",
          "name": "stdout",
          "text": [
            "List A: [1, 2, 3, 4, 5]\n",
            "List B: [3, 4, 5, 6, 7]\n",
            "Common element: 3\n",
            "Common element: 4\n",
            "Common element: 5\n"
          ]
        }
      ]
    },
    {
      "cell_type": "markdown",
      "source": [
        "## 19. Develop a program that prints the pattern of right-angled triangles using a `for` loop. Use ‘*’ to draw the pattern"
      ],
      "metadata": {
        "id": "SYu-Z1AmVG2p"
      }
    },
    {
      "cell_type": "code",
      "source": [
        "# Function to print a right-angled triangle pattern\n",
        "def print_right_triangle(rows):\n",
        "    # Using a for loop to iterate over rows\n",
        "    for i in range(1, rows + 1):\n",
        "        # Using a nested for loop to print '*' for each column\n",
        "        for j in range(1, i + 1):\n",
        "            print('*', end=' ')\n",
        "        # Move to the next line after printing each row\n",
        "        print()\n",
        "\n",
        "# Example: Print a right-angled triangle pattern with 5 rows\n",
        "num_rows = 5\n",
        "print_right_triangle(num_rows)\n"
      ],
      "metadata": {
        "colab": {
          "base_uri": "https://localhost:8080/"
        },
        "id": "PvEBte_xVHAc",
        "outputId": "9eebc714-44bb-487f-ccf6-6ca146d4b940"
      },
      "execution_count": null,
      "outputs": [
        {
          "output_type": "stream",
          "name": "stdout",
          "text": [
            "* \n",
            "* * \n",
            "* * * \n",
            "* * * * \n",
            "* * * * * \n"
          ]
        }
      ]
    },
    {
      "cell_type": "markdown",
      "source": [
        "## **20. Write a program to find the greatest common divisor (GCD) of two numbers using a `for` loop.**"
      ],
      "metadata": {
        "id": "P3FHBh9AVHMS"
      }
    },
    {
      "cell_type": "code",
      "source": [
        "# Function to find the greatest common divisor (GCD) of two numbers\n",
        "def find_gcd(num1, num2):\n",
        "    # Determine the smaller of the two numbers\n",
        "    smaller = min(num1, num2)\n",
        "\n",
        "    # Initialize the GCD variable\n",
        "    gcd = 1\n",
        "\n",
        "    # Using a for loop to iterate from 1 to the smaller number\n",
        "    for i in range(1, smaller + 1):\n",
        "        # Check if i is a divisor of both numbers\n",
        "        if num1 % i == 0 and num2 % i == 0:\n",
        "            # Update the GCD if i is a common divisor\n",
        "            gcd = i\n",
        "\n",
        "    # Return the GCD\n",
        "    return gcd\n",
        "\n",
        "# Example: Find the GCD of 48 and 18\n",
        "number1 = 48\n",
        "number2 = 18\n",
        "\n",
        "result = find_gcd(number1, number2)\n",
        "\n",
        "# Print the result\n",
        "print(f\"The GCD of {number1} and {number2} is: {result}\")\n"
      ],
      "metadata": {
        "colab": {
          "base_uri": "https://localhost:8080/"
        },
        "id": "grxS58GNVHV4",
        "outputId": "d20dacea-d376-4e8c-e6b9-3601282b9687"
      },
      "execution_count": null,
      "outputs": [
        {
          "output_type": "stream",
          "name": "stdout",
          "text": [
            "The GCD of 48 and 18 is: 6\n"
          ]
        }
      ]
    },
    {
      "cell_type": "markdown",
      "source": [
        "## ***Advanced Level:***\n",
        "\n",
        "---\n",
        "\n"
      ],
      "metadata": {
        "id": "UKy7jS4kVHim"
      }
    },
    {
      "cell_type": "markdown",
      "source": [
        "## **21. Create a program that calculates the sum of the digits of numbers in a list using a list comprehension.**"
      ],
      "metadata": {
        "id": "yPf_oAIukZ5-"
      }
    },
    {
      "cell_type": "code",
      "source": [
        "# Function to calculate the sum of digits of a number\n",
        "def sum_of_digits(number):\n",
        "    return sum(int(digit) for digit in str(number) if digit.isdigit())\n",
        "\n",
        "# List of numbers\n",
        "numbers = [123, 456, 789, 12, 34]\n",
        "\n",
        "# Using a list comprehension to calculate the sum of digits for each number\n",
        "sums_of_digits = [sum_of_digits(num) for num in numbers]\n",
        "\n",
        "# Print the result\n",
        "print(\"Original Numbers:\", numbers)\n",
        "print(\"Sums of Digits:\", sums_of_digits)\n"
      ],
      "metadata": {
        "id": "mLE7nRrHVHsT",
        "colab": {
          "base_uri": "https://localhost:8080/"
        },
        "outputId": "cd9a980b-f1ea-4a11-9077-ff1d40b3e701"
      },
      "execution_count": 1,
      "outputs": [
        {
          "output_type": "stream",
          "name": "stdout",
          "text": [
            "Original Numbers: [123, 456, 789, 12, 34]\n",
            "Sums of Digits: [6, 15, 24, 3, 7]\n"
          ]
        }
      ]
    },
    {
      "cell_type": "markdown",
      "source": [
        "## **22. Write a program to find the prime factors of a given number using a `for` loop and list comprehension.**"
      ],
      "metadata": {
        "id": "ogJVxcnmVH4v"
      }
    },
    {
      "cell_type": "code",
      "source": [
        "# Function to find prime factors of a number\n",
        "def prime_factors(n):\n",
        "    # Using a list comprehension to find prime factors\n",
        "    factors = [factor for factor in range(2, n + 1) if n % factor == 0 and all(factor % i != 0 for i in range(2, int(factor**0.5) + 1))]\n",
        "\n",
        "    return factors\n",
        "\n",
        "# Example: Find prime factors of 48\n",
        "number = 48\n",
        "\n",
        "result = prime_factors(number)\n",
        "\n",
        "# Print the result\n",
        "print(f\"The prime factors of {number} are: {result}\")\n",
        "\n"
      ],
      "metadata": {
        "id": "3VLz4VYZVIDB",
        "colab": {
          "base_uri": "https://localhost:8080/"
        },
        "outputId": "af98b8e2-1398-478e-f3a6-d79f7a1f0600"
      },
      "execution_count": 2,
      "outputs": [
        {
          "output_type": "stream",
          "name": "stdout",
          "text": [
            "The prime factors of 48 are: [2, 3]\n"
          ]
        }
      ]
    },
    {
      "cell_type": "markdown",
      "source": [
        "simple version of the above problem"
      ],
      "metadata": {
        "id": "vfQe5emNVIPO"
      }
    },
    {
      "cell_type": "code",
      "source": [
        "# Function to check if a number is prime\n",
        "def is_prime(num):\n",
        "    if num < 2:\n",
        "        return False\n",
        "    for i in range(2, int(num**0.5) + 1):\n",
        "        if num % i == 0:\n",
        "            return False\n",
        "    return True\n",
        "\n",
        "# Function to find prime factors of a number\n",
        "def prime_factors(n):\n",
        "    factors = []\n",
        "\n",
        "    # Check for factors from 2 to n\n",
        "    for factor in range(2, n + 1):\n",
        "        # If factor is a divisor and prime, add to the list of factors\n",
        "        if n % factor == 0 and is_prime(factor):\n",
        "            factors.append(factor)\n",
        "\n",
        "    return factors\n",
        "\n",
        "# Example: Find prime factors of 48\n",
        "number = 48\n",
        "\n",
        "result = prime_factors(number)\n",
        "\n",
        "# Print the result\n",
        "print(f\"The prime factors of {number} are: {result}\")\n"
      ],
      "metadata": {
        "id": "z3M7PSyQVIZm",
        "colab": {
          "base_uri": "https://localhost:8080/"
        },
        "outputId": "21bcfabd-0a24-45eb-b167-11f8c616dbb2"
      },
      "execution_count": 3,
      "outputs": [
        {
          "output_type": "stream",
          "name": "stdout",
          "text": [
            "The prime factors of 48 are: [2, 3]\n"
          ]
        }
      ]
    },
    {
      "cell_type": "markdown",
      "source": [
        "## **23. Develop a program that extracts unique elements from a list and stores them in a new list using a list comprehension.**"
      ],
      "metadata": {
        "id": "TybdoU0OVIlb"
      }
    },
    {
      "cell_type": "code",
      "source": [
        "# Function to extract unique elements from a list using list comprehension\n",
        "def extract_unique_elements(input_list):\n",
        "    return list(set(input_list))\n",
        "\n",
        "# Example: Extract unique elements from a list\n",
        "original_list = [1, 2, 2, 3, 4, 4, 5, 5, 5]\n",
        "\n",
        "unique_elements = extract_unique_elements(original_list)\n",
        "\n",
        "# Print the result\n",
        "print(\"Original List:\", original_list)\n",
        "print(\"Unique Elements:\", unique_elements)\n"
      ],
      "metadata": {
        "id": "UUDCCq2JVIvq",
        "colab": {
          "base_uri": "https://localhost:8080/"
        },
        "outputId": "28990d75-c6db-4466-870e-7610e07f9d59"
      },
      "execution_count": 4,
      "outputs": [
        {
          "output_type": "stream",
          "name": "stdout",
          "text": [
            "Original List: [1, 2, 2, 3, 4, 4, 5, 5, 5]\n",
            "Unique Elements: [1, 2, 3, 4, 5]\n"
          ]
        }
      ]
    },
    {
      "cell_type": "markdown",
      "source": [
        "## **24. Create a program that generates a list of all palindromic numbers up to a specified limit using a list comprehension.**"
      ],
      "metadata": {
        "id": "Z2IhXm96VI74"
      }
    },
    {
      "cell_type": "code",
      "source": [
        "# Function to check if a number is a palindrome\n",
        "def is_palindrome(num):\n",
        "    return str(num) == str(num)[::-1]\n",
        "\n",
        "# Function to generate a list of palindromic numbers up to a specified limit\n",
        "def generate_palindromic_numbers(limit):\n",
        "    return [num for num in range(limit) if is_palindrome(num)]\n",
        "\n",
        "# Example: Generate palindromic numbers up to 1000\n",
        "limit = 1000\n",
        "\n",
        "palindromic_numbers = generate_palindromic_numbers(limit)\n",
        "\n",
        "# Print the result\n",
        "print(f\"Palindromic Numbers up to {limit}: {palindromic_numbers}\")\n"
      ],
      "metadata": {
        "id": "eG8oHzG1VJFq",
        "colab": {
          "base_uri": "https://localhost:8080/"
        },
        "outputId": "5a4e60f6-82db-480b-912a-6b453af9cbdc"
      },
      "execution_count": 5,
      "outputs": [
        {
          "output_type": "stream",
          "name": "stdout",
          "text": [
            "Palindromic Numbers up to 1000: [0, 1, 2, 3, 4, 5, 6, 7, 8, 9, 11, 22, 33, 44, 55, 66, 77, 88, 99, 101, 111, 121, 131, 141, 151, 161, 171, 181, 191, 202, 212, 222, 232, 242, 252, 262, 272, 282, 292, 303, 313, 323, 333, 343, 353, 363, 373, 383, 393, 404, 414, 424, 434, 444, 454, 464, 474, 484, 494, 505, 515, 525, 535, 545, 555, 565, 575, 585, 595, 606, 616, 626, 636, 646, 656, 666, 676, 686, 696, 707, 717, 727, 737, 747, 757, 767, 777, 787, 797, 808, 818, 828, 838, 848, 858, 868, 878, 888, 898, 909, 919, 929, 939, 949, 959, 969, 979, 989, 999]\n"
          ]
        }
      ]
    },
    {
      "cell_type": "markdown",
      "source": [
        "## **25. Write a program to flatten a nested list using list comprehension.**"
      ],
      "metadata": {
        "id": "_fTxYKT4VJSP"
      }
    },
    {
      "cell_type": "code",
      "source": [
        "# Function to flatten a nested list using list comprehension\n",
        "def flatten_nested_list(nested_list):\n",
        "    return [element for sublist in nested_list for element in sublist]\n",
        "\n",
        "# Example: Flatten a nested list\n",
        "nested_list = [[1, 2, 3], [4, 5], [6, 7, 8]]\n",
        "\n",
        "flattened_list = flatten_nested_list(nested_list)\n",
        "\n",
        "# Print the result\n",
        "print(\"Nested List:\", nested_list)\n",
        "print(\"Flattened List:\", flattened_list)\n"
      ],
      "metadata": {
        "id": "J_hXc8axVJdm",
        "colab": {
          "base_uri": "https://localhost:8080/"
        },
        "outputId": "84a6a8e7-de30-48f8-f58b-935ac70d9ba9"
      },
      "execution_count": 6,
      "outputs": [
        {
          "output_type": "stream",
          "name": "stdout",
          "text": [
            "Nested List: [[1, 2, 3], [4, 5], [6, 7, 8]]\n",
            "Flattened List: [1, 2, 3, 4, 5, 6, 7, 8]\n"
          ]
        }
      ]
    },
    {
      "cell_type": "markdown",
      "source": [
        "## **26. Develop a program that computes the sum of even and odd numbers in a list separately using list comprehension.**"
      ],
      "metadata": {
        "id": "HeMMKKEzVJsN"
      }
    },
    {
      "cell_type": "code",
      "source": [
        "# Function to compute the sum of even and odd numbers separately using list comprehension\n",
        "def sum_even_odd_numbers(numbers):\n",
        "    even_sum = sum(num for num in numbers if num % 2 == 0)\n",
        "    odd_sum = sum(num for num in numbers if num % 2 != 0)\n",
        "    return even_sum, odd_sum\n",
        "\n",
        "# Example: Compute the sum of even and odd numbers in a list\n",
        "number_list = [1, 2, 3, 4, 5, 6, 7, 8, 9]\n",
        "\n",
        "even_sum, odd_sum = sum_even_odd_numbers(number_list)\n",
        "\n",
        "# Print the result\n",
        "print(\"Original List:\", number_list)\n",
        "print(\"Sum of Even Numbers:\", even_sum)\n",
        "print(\"Sum of Odd Numbers:\", odd_sum)\n"
      ],
      "metadata": {
        "id": "p5UTtJbxVJ1m",
        "colab": {
          "base_uri": "https://localhost:8080/"
        },
        "outputId": "8c1ff08a-506f-4856-f148-39947ad86262"
      },
      "execution_count": 7,
      "outputs": [
        {
          "output_type": "stream",
          "name": "stdout",
          "text": [
            "Original List: [1, 2, 3, 4, 5, 6, 7, 8, 9]\n",
            "Sum of Even Numbers: 20\n",
            "Sum of Odd Numbers: 25\n"
          ]
        }
      ]
    },
    {
      "cell_type": "markdown",
      "source": [
        "## **27. Create a program that generates a list of squares of odd numbers between 1 and 10 using list comprehension.**"
      ],
      "metadata": {
        "id": "iTwetTmZVKBp"
      }
    },
    {
      "cell_type": "code",
      "source": [
        "# List comprehension to generate squares of odd numbers between 1 and 10\n",
        "squares_of_odd_numbers = [num**2 for num in range(1, 11) if num % 2 != 0]\n",
        "\n",
        "# Print the result\n",
        "print(\"Squares of Odd Numbers between 1 and 10:\", squares_of_odd_numbers)\n"
      ],
      "metadata": {
        "id": "vpKQMky6VKLd",
        "colab": {
          "base_uri": "https://localhost:8080/"
        },
        "outputId": "4d56317b-eeeb-4db2-9f91-f6153435a684"
      },
      "execution_count": 8,
      "outputs": [
        {
          "output_type": "stream",
          "name": "stdout",
          "text": [
            "Squares of Odd Numbers between 1 and 10: [1, 9, 25, 49, 81]\n"
          ]
        }
      ]
    },
    {
      "cell_type": "markdown",
      "source": [
        "## **28. Write a program that combines two lists into a dictionary using list comprehension.**"
      ],
      "metadata": {
        "id": "b50i3KTNVKXO"
      }
    },
    {
      "cell_type": "code",
      "source": [
        "# Lists to be combined into a dictionary\n",
        "keys = ['name', 'age', 'city']\n",
        "values = ['Aasif', 26, 'Srinagar']\n",
        "\n",
        "# Using list comprehension to combine lists into a dictionary\n",
        "combined_dict = {keys[i]: values[i] for i in range(min(len(keys), len(values)))}\n",
        "\n",
        "# Print the result\n",
        "print(\"Combined Dictionary:\", combined_dict)\n"
      ],
      "metadata": {
        "id": "rI6xJ8nmVKhO",
        "colab": {
          "base_uri": "https://localhost:8080/"
        },
        "outputId": "d154552a-7417-4a34-d39f-258d0c5c36d2"
      },
      "execution_count": 10,
      "outputs": [
        {
          "output_type": "stream",
          "name": "stdout",
          "text": [
            "Combined Dictionary: {'name': 'Aasif', 'age': 26, 'city': 'Srinagar'}\n"
          ]
        }
      ]
    },
    {
      "cell_type": "markdown",
      "source": [
        "## **29. Develop a program that extracts the vowels from a string and stores them in a list using list comprehension.**"
      ],
      "metadata": {
        "id": "XmFKxY6yVKs-"
      }
    },
    {
      "cell_type": "code",
      "source": [
        "# Function to check if a character is a vowel\n",
        "def is_vowel(char):\n",
        "    return char.lower() in 'aeiou'\n",
        "\n",
        "# Function to extract vowels from a string using list comprehension\n",
        "def extract_vowels(input_string):\n",
        "    return [char for char in input_string if is_vowel(char)]\n",
        "\n",
        "# Example: Extract vowels from a string\n",
        "input_string = \"My name is aasif majeed\"\n",
        "\n",
        "vowels_list = extract_vowels(input_string)\n",
        "\n",
        "# Print the result\n",
        "print(\"Original String:\", input_string)\n",
        "print(\"Vowels Extracted:\", vowels_list)\n"
      ],
      "metadata": {
        "id": "hW4fnBflVK3D",
        "colab": {
          "base_uri": "https://localhost:8080/"
        },
        "outputId": "0a1d3191-19d2-4fde-82fe-43abfa73b4b7"
      },
      "execution_count": 11,
      "outputs": [
        {
          "output_type": "stream",
          "name": "stdout",
          "text": [
            "Original String: My name is aasif majeed\n",
            "Vowels Extracted: ['a', 'e', 'i', 'a', 'a', 'i', 'a', 'e', 'e']\n"
          ]
        }
      ]
    },
    {
      "cell_type": "markdown",
      "source": [
        "## **30. Create a program that removes all non-numeric characters from a list of strings using list comprehension.**"
      ],
      "metadata": {
        "id": "Ke871s9wZM4_"
      }
    },
    {
      "cell_type": "code",
      "source": [
        "# Function to filter numeric characters from a string\n",
        "def filter_numeric_characters(input_str):\n",
        "    return ''.join(char for char in input_str if char.isdigit())\n",
        "\n",
        "# Function to remove non-numeric characters from a list of strings using list comprehension\n",
        "def remove_non_numeric_characters(string_list):\n",
        "    return [filter_numeric_characters(string) for string in string_list]\n",
        "\n",
        "# Example: Remove non-numeric characters from a list of strings\n",
        "string_list = ['abc123', '456def', '7ghi', 'jkl']\n",
        "\n",
        "numeric_strings = remove_non_numeric_characters(string_list)\n",
        "\n",
        "# Print the result\n",
        "print(\"Original List:\", string_list)\n",
        "print(\"Numeric Strings:\", numeric_strings)\n",
        "\n"
      ],
      "metadata": {
        "id": "gxoRLW_pZNXE",
        "colab": {
          "base_uri": "https://localhost:8080/"
        },
        "outputId": "cb175261-3ced-4339-e6b6-afb263f5d1ca"
      },
      "execution_count": 12,
      "outputs": [
        {
          "output_type": "stream",
          "name": "stdout",
          "text": [
            "Original List: ['abc123', '456def', '7ghi', 'jkl']\n",
            "Numeric Strings: ['123', '456', '7', '']\n"
          ]
        }
      ]
    },
    {
      "cell_type": "markdown",
      "source": [
        "# *Challenge Level:*"
      ],
      "metadata": {
        "id": "5AyakwflZNoh"
      }
    },
    {
      "cell_type": "markdown",
      "source": [
        "## **31. Write a program to generate a list of prime numbers using the Sieve of Eratosthenes algorithm and list comprehension.**"
      ],
      "metadata": {
        "id": "PD250uvRocx_"
      }
    },
    {
      "cell_type": "markdown",
      "source": [
        "# The Sieve of Eratosthenes is an ancient algorithm for finding all prime numbers up to a given limit. Here's an explanation of how the algorithm works, along with an example:\n",
        "\n",
        "Create a List: Create a list of consecutive integers from 2 through the given limit. This list is often referred to as the \"sieve.\"\n",
        "\n",
        "Mark Multiples as Composite: Start with the first prime number, which is 2. Mark all multiples of 2 as composite (not prime). Move to the next unmarked number (which is a prime), and repeat the process until you've processed all numbers up to the square root of the given limit.\n",
        "\n",
        "Collect Primes: All unmarked numbers in the list are now prime. Collect them into a separate list."
      ],
      "metadata": {
        "id": "xvrCViV_pCny"
      }
    },
    {
      "cell_type": "code",
      "source": [
        "# Function to generate a list of prime numbers using the Sieve of Eratosthenes\n",
        "def sieve_of_eratosthenes(limit):\n",
        "    # Create a boolean list representing whether each number is prime\n",
        "    sieve = [True] * (limit + 1)\n",
        "    sieve[0] = sieve[1] = False  # 0 and 1 are not prime\n",
        "\n",
        "    # Mark multiples of primes as non-prime\n",
        "    for i in range(2, int(limit**0.5) + 1):\n",
        "        if sieve[i]:\n",
        "            # Use list slicing to mark multiples as non-prime\n",
        "            sieve[i*i:limit+1:i] = [False] * len(range(i*i, limit+1, i))\n",
        "\n",
        "    # Return a list of prime numbers by filtering the sieve\n",
        "    return [num for num in range(2, limit + 1) if sieve[num]]\n",
        "\n",
        "# Example: Generate a list of prime numbers up to 50\n",
        "limit = 50\n",
        "\n",
        "# Call the sieve_of_eratosthenes function to get prime numbers\n",
        "prime_numbers = sieve_of_eratosthenes(limit)\n",
        "\n",
        "# Print the result\n",
        "print(f\"Prime Numbers up to {limit}: {prime_numbers}\")\n",
        "\n"
      ],
      "metadata": {
        "id": "7LENIyQaZN58",
        "colab": {
          "base_uri": "https://localhost:8080/"
        },
        "outputId": "0c412416-54ad-4333-b8ed-ebe24d3a4cb5"
      },
      "execution_count": 15,
      "outputs": [
        {
          "output_type": "stream",
          "name": "stdout",
          "text": [
            "Prime Numbers up to 50: [2, 3, 5, 7, 11, 13, 17, 19, 23, 29, 31, 37, 41, 43, 47]\n"
          ]
        }
      ]
    },
    {
      "cell_type": "code",
      "source": [
        "#using list comprehension\n",
        "def sieve_of_eratosthenes(limit):\n",
        "    sieve = [True] * (limit + 1)\n",
        "    sieve[0] = sieve[1] = False\n",
        "\n",
        "    [sieve[i*i:limit+1:i] for i in range(2, int(limit**0.5) + 1) if sieve[i]]\n",
        "\n",
        "    return [num for num in range(2, limit + 1) if sieve[num]]\n",
        "\n",
        "# Example: Generate a list of prime numbers up to 50\n",
        "limit = 50\n",
        "\n",
        "prime_numbers = sieve_of_eratosthenes(limit)\n",
        "\n",
        "# Print the result\n",
        "print(f\"Prime Numbers up to {limit}: {prime_numbers}\")\n"
      ],
      "metadata": {
        "colab": {
          "base_uri": "https://localhost:8080/"
        },
        "id": "CEl9nLiTqBEf",
        "outputId": "23823052-4084-4b66-d69a-90227b697f97"
      },
      "execution_count": 14,
      "outputs": [
        {
          "output_type": "stream",
          "name": "stdout",
          "text": [
            "Prime Numbers up to 50: [2, 3, 4, 5, 6, 7, 8, 9, 10, 11, 12, 13, 14, 15, 16, 17, 18, 19, 20, 21, 22, 23, 24, 25, 26, 27, 28, 29, 30, 31, 32, 33, 34, 35, 36, 37, 38, 39, 40, 41, 42, 43, 44, 45, 46, 47, 48, 49, 50]\n"
          ]
        }
      ]
    },
    {
      "cell_type": "markdown",
      "source": [
        "## **32. Create a program that generates a list of all Pythagorean triplets up to a specified limit using list comprehension.**"
      ],
      "metadata": {
        "id": "RHPGYT3RtsCM"
      }
    },
    {
      "cell_type": "markdown",
      "source": [
        "A Pythagorean triplet is a set of three positive integers\n",
        "(a, b, c) that satisfy the Pythagorean theorem:\n",
        "\n",
        "a^2 + b^2 = c^2"
      ],
      "metadata": {
        "id": "15GLKWt9ttGP"
      }
    },
    {
      "cell_type": "code",
      "source": [
        "# Function to check if a set of three numbers forms a Pythagorean triplet\n",
        "def is_pythagorean_triplet(a, b, c):\n",
        "    return a**2 + b**2 == c**2\n",
        "\n",
        "# Function to generate a list of Pythagorean triplets up to a specified limit\n",
        "def generate_pythagorean_triplets(limit):\n",
        "    # Use list comprehension to generate triplets\n",
        "    triplets = [(a, b, c) for a in range(1, limit + 1)\n",
        "                              for b in range(a, limit + 1)\n",
        "                              for c in range(b, limit + 1)\n",
        "                              if is_pythagorean_triplet(a, b, c)]\n",
        "    return triplets\n",
        "\n",
        "# Example: Generate Pythagorean triplets up to a limit of 20\n",
        "limit = 20\n",
        "\n",
        "# Generate Pythagorean triplets\n",
        "pythagorean_triplets = generate_pythagorean_triplets(limit)\n",
        "\n",
        "# Print the result\n",
        "print(f\"Pythagorean Triplets up to {limit}: {pythagorean_triplets}\")\n",
        "\n",
        "\n",
        "\n"
      ],
      "metadata": {
        "id": "xbX5yLVjZOcD",
        "colab": {
          "base_uri": "https://localhost:8080/"
        },
        "outputId": "fafe93ef-6166-4a4d-ce8b-36adaed6bf44"
      },
      "execution_count": 17,
      "outputs": [
        {
          "output_type": "stream",
          "name": "stdout",
          "text": [
            "Pythagorean Triplets up to 20: [(3, 4, 5), (5, 12, 13), (6, 8, 10), (8, 15, 17), (9, 12, 15), (12, 16, 20)]\n"
          ]
        }
      ]
    },
    {
      "cell_type": "markdown",
      "source": [
        "## **33. Develop a program that generates a list of all possible combinations of two lists using list comprehension.**"
      ],
      "metadata": {
        "id": "k342BbjcZOxF"
      }
    },
    {
      "cell_type": "code",
      "source": [
        "# Function to generate all possible combinations of two lists\n",
        "def generate_combinations(list1, list2):\n",
        "    # Using list comprehension to generate combinations\n",
        "    combinations = [(x, y) for x in list1 for y in list2]\n",
        "    return combinations\n",
        "\n",
        "# Example lists\n",
        "list_a = [1, 2, 3]\n",
        "list_b = ['a', 'b', 'c']\n",
        "\n",
        "# Generate all possible combinations\n",
        "all_combinations = generate_combinations(list_a, list_b)\n",
        "\n",
        "# Print the result\n",
        "print(f\"All Combinations of {list_a} and {list_b}: {all_combinations}\")\n"
      ],
      "metadata": {
        "id": "TtCb6p0IZPDh",
        "colab": {
          "base_uri": "https://localhost:8080/"
        },
        "outputId": "6cc7ff3c-8147-4145-fe73-14b2860550e3"
      },
      "execution_count": 18,
      "outputs": [
        {
          "output_type": "stream",
          "name": "stdout",
          "text": [
            "All Combinations of [1, 2, 3] and ['a', 'b', 'c']: [(1, 'a'), (1, 'b'), (1, 'c'), (2, 'a'), (2, 'b'), (2, 'c'), (3, 'a'), (3, 'b'), (3, 'c')]\n"
          ]
        }
      ]
    },
    {
      "cell_type": "markdown",
      "source": [
        "## **34. Write a program that calculates the mean, median, and mode of a list of numbers using list comprehension.**"
      ],
      "metadata": {
        "id": "dx2nSlk1ZPUZ"
      }
    },
    {
      "cell_type": "code",
      "source": [
        "from collections import Counter\n",
        "\n",
        "# Function to calculate mean of a list\n",
        "def calculate_mean(numbers):\n",
        "    return sum(numbers) / len(numbers) if len(numbers) > 0 else 0\n",
        "\n",
        "# Function to calculate median of a list\n",
        "def calculate_median(numbers):\n",
        "    sorted_numbers = sorted(numbers)\n",
        "    n = len(sorted_numbers)\n",
        "    mid = n // 2\n",
        "    return (sorted_numbers[mid] + sorted_numbers[mid - 1]) / 2 if n % 2 == 0 else sorted_numbers[mid]\n",
        "\n",
        "# Function to calculate mode of a list\n",
        "def calculate_mode(numbers):\n",
        "    counts = Counter(numbers)\n",
        "    mode = max(counts, key=counts.get)\n",
        "    return mode\n",
        "\n",
        "# Example list of numbers\n",
        "number_list = [1, 2, 3, 4, 5, 5, 6, 7, 8, 8, 9]\n",
        "\n",
        "# Calculate mean, median, and mode\n",
        "mean_value = calculate_mean(number_list)\n",
        "median_value = calculate_median(number_list)\n",
        "mode_value = calculate_mode(number_list)\n",
        "\n",
        "# Print the results\n",
        "print(f\"List of Numbers: {number_list}\")\n",
        "print(f\"Mean: {mean_value}\")\n",
        "print(f\"Median: {median_value}\")\n",
        "print(f\"Mode: {mode_value}\")\n"
      ],
      "metadata": {
        "id": "WwYjh4TOZPk_",
        "colab": {
          "base_uri": "https://localhost:8080/"
        },
        "outputId": "982a39a2-d4c6-4403-84dd-a4091db79247"
      },
      "execution_count": 19,
      "outputs": [
        {
          "output_type": "stream",
          "name": "stdout",
          "text": [
            "List of Numbers: [1, 2, 3, 4, 5, 5, 6, 7, 8, 8, 9]\n",
            "Mean: 5.2727272727272725\n",
            "Median: 5\n",
            "Mode: 5\n"
          ]
        }
      ]
    },
    {
      "cell_type": "markdown",
      "source": [
        "## **35. Create a program that generates Pascal's triangle up to a specified number of rows using list comprehension.**"
      ],
      "metadata": {
        "id": "I0PXwSn4v6Zq"
      }
    },
    {
      "cell_type": "markdown",
      "source": [
        "# Pascal's Triangle\n",
        "\n",
        "Pascal's Triangle is a mathematical structure named after the French mathematician Blaise Pascal, although it was known to Chinese mathematicians over 500 years earlier.\n",
        "\n",
        "It is formed by starting with the number 1 at the apex, and then constructing the rows below it, with each entry being the sum of the two numbers immediately above it. The triangle is infinite, but usually, a specified number of rows are generated.\n",
        "\n",
        "## Construction\n",
        "\n",
        "The first few rows of Pascal's Triangle look like this:\n",
        "\n"
      ],
      "metadata": {
        "id": "6RMhgGsLwoc0"
      }
    },
    {
      "cell_type": "markdown",
      "source": [
        "      1\n",
        "     1 1\n",
        "    1 2 1\n"
      ],
      "metadata": {
        "id": "fHhUlOGUxwhQ"
      }
    },
    {
      "cell_type": "markdown",
      "source": [
        "This row represents the coefficients of the binomial expansion of (a + b)^3, where the exponents are 3, 2, 1, and 0, respectively.\n",
        "\n",
        "In general, the nth row of Pascal's Triangle represents the coefficients of the binomial expansion of (a + b)^(n-1).\n",
        "\n",
        "Pascal's Triangle has wide applications in combinatorics, probability theory, and algebra."
      ],
      "metadata": {
        "id": "qRCIab4EyTLb"
      }
    },
    {
      "cell_type": "code",
      "source": [
        "# Function to generate Pascal's triangle up to a specified number of rows\n",
        "def generate_pascals_triangle(rows):\n",
        "    triangle = [[1] * (row + 1) for row in range(rows)]\n",
        "    for row in range(2, rows):\n",
        "        for col in range(1, row):\n",
        "            triangle[row][col] = triangle[row - 1][col - 1] + triangle[row - 1][col]\n",
        "    return triangle\n",
        "\n",
        "# Function to display Pascal's triangle\n",
        "def display_pascals_triangle(triangle):\n",
        "    for row in triangle:\n",
        "        print(row)\n",
        "\n",
        "# Example: Generate Pascal's triangle with 5 rows\n",
        "num_rows = 5\n",
        "\n",
        "# Generate Pascal's triangle\n",
        "pascals_triangle = generate_pascals_triangle(num_rows)\n",
        "\n",
        "# Display the result\n",
        "print(f\"Pascal's Triangle (up to {num_rows} rows):\")\n",
        "display_pascals_triangle(pascals_triangle)\n",
        "\n"
      ],
      "metadata": {
        "colab": {
          "base_uri": "https://localhost:8080/"
        },
        "id": "tfvFfSDIv6ql",
        "outputId": "4cf334d9-571c-44fb-e6d9-0ac5c7edf37a"
      },
      "execution_count": 21,
      "outputs": [
        {
          "output_type": "stream",
          "name": "stdout",
          "text": [
            "Pascal's Triangle (up to 5 rows):\n",
            "[1]\n",
            "[1, 1]\n",
            "[1, 2, 1]\n",
            "[1, 3, 3, 1]\n",
            "[1, 4, 6, 4, 1]\n"
          ]
        }
      ]
    },
    {
      "cell_type": "markdown",
      "source": [
        "## **36. Develop a program that calculates the sum of the digits of a factorial of numbers from 1 to 5 using list comprehension.**"
      ],
      "metadata": {
        "id": "joXxVvguv7B5"
      }
    },
    {
      "cell_type": "code",
      "source": [
        "import math\n",
        "\n",
        "# Function to calculate the sum of digits of a number\n",
        "def sum_of_digits(number):\n",
        "    return sum(int(digit) for digit in str(number))\n",
        "\n",
        "# Calculate the factorial of numbers from 1 to 5 and their sum of digits using list comprehension\n",
        "factorials_and_sums = [(n, sum_of_digits(math.factorial(n))) for n in range(1, 6)]\n",
        "\n",
        "# Print the results\n",
        "for n, digit_sum in factorials_and_sums:\n",
        "    print(f\"Factorial of {n}! is {math.factorial(n)}, and the sum of its digits is {digit_sum}\")\n"
      ],
      "metadata": {
        "colab": {
          "base_uri": "https://localhost:8080/"
        },
        "id": "7LP4lbfkv7KZ",
        "outputId": "59ad6d28-8e45-47b9-a256-2fd364ce189f"
      },
      "execution_count": 23,
      "outputs": [
        {
          "output_type": "stream",
          "name": "stdout",
          "text": [
            "Factorial of 1! is 1, and the sum of its digits is 1\n",
            "Factorial of 2! is 2, and the sum of its digits is 2\n",
            "Factorial of 3! is 6, and the sum of its digits is 6\n",
            "Factorial of 4! is 24, and the sum of its digits is 6\n",
            "Factorial of 5! is 120, and the sum of its digits is 3\n"
          ]
        }
      ]
    },
    {
      "cell_type": "markdown",
      "source": [
        "## **37. Write a program that finds the longest word in a sentence using list comprehension.**"
      ],
      "metadata": {
        "id": "UB0lrDadv7TO"
      }
    },
    {
      "cell_type": "code",
      "source": [
        "# Function to find the longest word in a sentence\n",
        "def find_longest_word(sentence):\n",
        "    words = sentence.split()\n",
        "    longest_word = max(words, key=len)\n",
        "    return longest_word\n",
        "\n",
        "# Example sentence\n",
        "example_sentence = \"My name is AASIFMAJEED, and i am from kashmir\"\n",
        "\n",
        "# Find the longest word using list comprehension\n",
        "longest_word = find_longest_word(example_sentence)\n",
        "\n",
        "# Print the result\n",
        "print(f\"The longest word in the sentence is: {longest_word}\")\n"
      ],
      "metadata": {
        "colab": {
          "base_uri": "https://localhost:8080/"
        },
        "id": "wMFu7fUPv7aA",
        "outputId": "3c4ef7f2-5599-4112-d6be-a7b6de7d1a49"
      },
      "execution_count": 25,
      "outputs": [
        {
          "output_type": "stream",
          "name": "stdout",
          "text": [
            "The longest word in the sentence is: AASIFMAJEED,\n"
          ]
        }
      ]
    },
    {
      "cell_type": "markdown",
      "source": [
        "## **38. Create a program that filters a list of strings to include only those with more than three vowels using list comprehension.**"
      ],
      "metadata": {
        "id": "ZNn_03ohv7he"
      }
    },
    {
      "cell_type": "code",
      "source": [
        "# Function to count vowels in a string\n",
        "def count_vowels(string):\n",
        "    return sum(1 for char in string if char.lower() in 'aeiou')\n",
        "\n",
        "# Function to filter strings with more than three vowels\n",
        "def filter_strings_by_vowels(string_list):\n",
        "    return [s for s in string_list if count_vowels(s) > 3]\n",
        "\n",
        "# Example list of strings\n",
        "example_strings = [\"hello\", \"world\", \"python\", \"programming\", \"example\",\"aasiif\"]\n",
        "\n",
        "# Filter strings with more than three vowels\n",
        "filtered_strings = filter_strings_by_vowels(example_strings)\n",
        "\n",
        "# Print the result\n",
        "print(f\"Original List: {example_strings}\")\n",
        "print(f\"Filtered List with more than three vowels: {filtered_strings}\")\n"
      ],
      "metadata": {
        "colab": {
          "base_uri": "https://localhost:8080/"
        },
        "id": "iOrLN_eXv7nw",
        "outputId": "5ff52d2b-0a88-44ff-93da-16d4a7812856"
      },
      "execution_count": 29,
      "outputs": [
        {
          "output_type": "stream",
          "name": "stdout",
          "text": [
            "Original List: ['hello', 'world', 'python', 'programming', 'example', 'aasiif']\n",
            "Filtered List with more than three vowels: ['aasiif']\n"
          ]
        }
      ]
    },
    {
      "cell_type": "markdown",
      "source": [
        "## **39. Develop a program that calculates the sum of the digits of numbers from 1 to 1000 using list comprehension.**"
      ],
      "metadata": {
        "id": "U8_3V4fKv7ub"
      }
    },
    {
      "cell_type": "code",
      "source": [
        "# Function to calculate the sum of digits of a number\n",
        "def sum_of_digits(number):\n",
        "    return sum(int(digit) for digit in str(number))\n",
        "\n",
        "# Calculate the sum of digits for numbers from 1 to 1000 using list comprehension\n",
        "sums_of_digits = [sum_of_digits(n) for n in range(1, 1001)]\n",
        "\n",
        "# Print the result\n",
        "total_sum = sum(sums_of_digits)\n",
        "print(f\"The sum of digits for numbers from 1 to 1000 is: {total_sum}\")\n"
      ],
      "metadata": {
        "colab": {
          "base_uri": "https://localhost:8080/"
        },
        "id": "8HxX6O2Vv70u",
        "outputId": "4f55091a-982d-4224-9780-f52067117a09"
      },
      "execution_count": 30,
      "outputs": [
        {
          "output_type": "stream",
          "name": "stdout",
          "text": [
            "The sum of digits for numbers from 1 to 1000 is: 13501\n"
          ]
        }
      ]
    },
    {
      "cell_type": "markdown",
      "source": [
        "## **40. Write a program that generates a list of prime palindromic numbers using list comprehension.**"
      ],
      "metadata": {
        "id": "wahwPe_V0N8s"
      }
    },
    {
      "cell_type": "markdown",
      "source": [
        "# Prime Palindromic Numbers\n",
        "\n",
        "Prime Palindromic Numbers are special numbers that possess two distinct properties: they are both prime and palindromic.\n",
        "\n",
        "## Prime Numbers\n",
        "\n",
        "A prime number is a natural number greater than 1 that is not a product of two smaller natural numbers. In other words, a prime number has no positive divisors other than 1 and itself. Examples of prime numbers include 2, 3, 5, 7, 11, and so on.\n",
        "\n",
        "## Palindromic Numbers\n",
        "\n",
        "A palindromic number is a number that remains the same when its digits are reversed. For example, 121, 1331, and 1221 are palindromic numbers.\n",
        "\n",
        "## Prime Palindromic Numbers\n",
        "\n",
        "Prime Palindromic Numbers are those rare numbers that satisfy both conditions—they are prime and palindromic simultaneously. Generating and exploring these numbers can be an interesting mathematical exercise.\n",
        "\n",
        "\n"
      ],
      "metadata": {
        "id": "DFoCOHFbv76V"
      }
    },
    {
      "cell_type": "code",
      "source": [
        "# Function to check if a number is prime\n",
        "def is_prime(number):\n",
        "    if number < 2:\n",
        "        return False\n",
        "    for i in range(2, int(number**0.5) + 1):\n",
        "        if number % i == 0:\n",
        "            return False\n",
        "    return True\n",
        "\n",
        "# Function to check if a number is palindromic\n",
        "def is_palindromic(number):\n",
        "    return str(number) == str(number)[::-1]\n",
        "\n",
        "# Generate a list of prime palindromic numbers using list comprehension\n",
        "prime_palindromes = [num for num in range(10, 1001) if is_prime(num) and is_palindromic(num)]\n",
        "\n",
        "# Print the result\n",
        "print(\"Prime Palindromic Numbers:\", prime_palindromes)\n"
      ],
      "metadata": {
        "colab": {
          "base_uri": "https://localhost:8080/"
        },
        "id": "18XT7DJuv8AO",
        "outputId": "e7015177-1c1a-4547-c976-5e5a0175b97d"
      },
      "execution_count": 31,
      "outputs": [
        {
          "output_type": "stream",
          "name": "stdout",
          "text": [
            "Prime Palindromic Numbers: [11, 101, 131, 151, 181, 191, 313, 353, 373, 383, 727, 757, 787, 797, 919, 929]\n"
          ]
        }
      ]
    },
    {
      "cell_type": "markdown",
      "source": [
        "## Program Explanation\n",
        "\n",
        "The provided Python program uses list comprehension to generate a list of Prime Palindromic Numbers in a specified range (in this case, between 10 and 1000). The program employs two functions: one to check if a number is prime (`is_prime`), and the other to check if a num"
      ],
      "metadata": {
        "id": "azGiwkY10axs"
      }
    }
  ]
}