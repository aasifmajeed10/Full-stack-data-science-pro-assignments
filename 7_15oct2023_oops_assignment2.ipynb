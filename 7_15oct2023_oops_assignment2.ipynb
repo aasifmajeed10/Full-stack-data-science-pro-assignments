{
  "nbformat": 4,
  "nbformat_minor": 0,
  "metadata": {
    "colab": {
      "provenance": []
    },
    "kernelspec": {
      "name": "python3",
      "display_name": "Python 3"
    },
    "language_info": {
      "name": "python"
    }
  },
  "cells": [
    {
      "cell_type": "markdown",
      "source": [
        "## **<font color='darkgreen'>Full Stack Data Science Pro**\n",
        "\n",
        "Assignment 6 :  Python OOPS assignment 2\n",
        "\n",
        "## **<font color='darkgreen'>Name : Aasif Majeed**"
      ],
      "metadata": {
        "id": "2NkagBwpJUs5"
      }
    },
    {
      "cell_type": "markdown",
      "source": [
        "# **<font color='blue'>Constructor:**"
      ],
      "metadata": {
        "id": "326VFB4LJb0d"
      }
    },
    {
      "cell_type": "markdown",
      "source": [
        "## ***1. What is a constructor in Python? Explain its purpose and usage.***"
      ],
      "metadata": {
        "id": "SztxCyMvKBhs"
      }
    },
    {
      "cell_type": "markdown",
      "source": [
        "## Constructor in Python\n",
        "\n",
        "### A constructor in Python is a special method within a class that is automatically called when an instance of the class is created. Its purpose is to initialize the object's state, typically by setting initial attribute values.\n",
        "\n",
        "Here's how you define and use a constructor in Python:\n",
        "\n",
        "```python\n",
        "class MyClass:\n",
        "    def __init__(self, param1, param2):\n",
        "        self.attribute1 = param1\n",
        "        self.attribute2 = param2\n",
        "\n",
        "# Creating an instance of MyClass\n",
        "obj = MyClass(value1, value2)\n"
      ],
      "metadata": {
        "id": "WmvZo4XYLC_o"
      }
    },
    {
      "cell_type": "markdown",
      "source": [
        "\n",
        "\n",
        "<font color=\"red\">In <font color=\"red\">**this example:**</font></font>\n",
        "- <font color=\"red\">`__init__()`</font> is the constructor method, which takes <font color=\"red\">(self)</font> (representing the instance being created) along with any other parameters needed for initialization.\n",
        "- Inside the constructor, we initialize the object's attributes using the parameters passed during instantiation.\n",
        "- When we create an instance of <font color=\"red\">`MyClass`</font> using <font color=\"red\">`obj = MyClass(value1, value2)`</font>, the <font color=\"red\">`__init__()`</font> method is automatically called with <font color=\"red\">`obj`</font> as the <font color=\"red\">(self)</font> parameter, and <font color=\"red\">`value1`</font> and <font color=\"red\">`value2`</font> as the parameters <font color=\"red\">(param1)</font> and <font color=\"red\">(param2)</font>, respectively.\n",
        "- If the <font color=\"red\">`__init__`</font> method is not present in a class definition, Python will still create instances of that class without any explicit initialization. However, the instances will be created with a default state, meaning they won't have any attributes initialized unless explicitly set elsewhere in the code.\n",
        "- Without an <font color=\"red\">`__init__`</font> method, you can still assign attributes to instances after they are created, but having an <font color=\"red\">`__init__`</font> method allows you to ensure that instances are properly initialized upon creation and reduces the chances of errors or unexpected behavior in your code.\n",
        "\n"
      ],
      "metadata": {
        "id": "2zeBs2tbLFIo"
      }
    },
    {
      "cell_type": "markdown",
      "source": [
        "## ***2. Differentiate between a parameterless constructor and a parameterized constructor in Python.***"
      ],
      "metadata": {
        "id": "AT_ST-79P9Sn"
      }
    },
    {
      "cell_type": "markdown",
      "source": [
        "## Parameterless Constructor vs Parameterized Constructor in Python\n",
        "\n",
        "### Parameterless Constructor\n",
        "\n",
        "A parameterless constructor, also known as a default constructor, is a constructor method within a class that doesn't take any parameters. It is used to initialize an object's state without requiring any external input.\n",
        "\n",
        "#### Example:\n",
        "\n",
        "```python\n",
        "class ParameterlessConstructor:\n",
        "    def __init__(self):\n",
        "        print(\"This is a parameterless constructor.\")\n",
        "\n",
        "# Creating an instance of ParameterlessConstructor\n",
        "obj = ParameterlessConstructor()  # This will print \"This is a parameterless constructor.\"\n",
        "\n",
        "```\n",
        "## Parameterized Constructor in Python\n",
        "\n",
        "A parameterized constructor is a constructor method within a class that takes one or more parameters. It is used to initialize the object's state with specific values provided during the object's creation.\n",
        "\n",
        "### Usage\n",
        "\n",
        "```python\n",
        "class ParameterizedConstructor:\n",
        "    def __init__(self, param1, param2):\n",
        "        self.param1 = param1\n",
        "        self.param2 = param2\n",
        "        print(\"This is a parameterized constructor.\")\n",
        "\n",
        "# Creating an instance of ParameterizedConstructor with parameters\n",
        "obj = Paramete\n"
      ],
      "metadata": {
        "id": "YC3pnbsOQqNl"
      }
    },
    {
      "cell_type": "markdown",
      "source": [
        "## ***3. How do you define a constructor in a Python class? Provide an example.***"
      ],
      "metadata": {
        "id": "ahNDYrVCJdU0"
      }
    },
    {
      "cell_type": "markdown",
      "source": [
        "## Defining a Constructor in a Python Class\n",
        "\n",
        "In Python, a constructor is defined using a special method called `__init__()`. This method is automatically called when an instance of the class is created.\n",
        "\n",
        "### Example:\n",
        "\n",
        "```python\n",
        "class MyClass:\n",
        "    def __init__(self, param1, param2):\n",
        "        self.param1 = param1\n",
        "        self.param2 = param2\n",
        "\n",
        "# Creating an instance of MyClass\n",
        "obj = MyClass(\"value1\", \"value2\")\n",
        "```\n",
        "### <font color=\"red\">`Explanation`</font>\n",
        "\n",
        "- define a class called <font color=\"red\">`My class`</font>.\n",
        "- Within the class definition, we define the <font color=\"red\">`__init__()`</font> method, which serves as the constructor.\n",
        "- The <font color=\"red\">`__init__()`</font> method takes <font color=\"red\">`self`</font> (representing the instance being created) along with any other parameters needed for initialization, such as <font color=\"red\">`param1`</font> and <font color=\"red\">`param2`</font>.\n",
        "- Inside the constructor, we initialize the object's attributes <font color=\"red\">`param1`</font> and <font color=\"red\">`param2`</font> with the values passed during instantiation.\n",
        "- When we create an instance of <font color=\"red\">`MyClass`</font> using <font color=\"red\">`obj = MyClass(\"value1\", \"value2\")`</font>, the <font color=\"red\">`__init__()`</font> method is automatically called with <font color=\"red\">`\"value1\"`</font> assigned to <font color=\"red\">`param1`</font> and <font color=\"red\">`\"value2\"`</font> assigned to <font color=\"red\">`param2`</font>.\n"
      ],
      "metadata": {
        "id": "kABj80IsJeAL"
      }
    },
    {
      "cell_type": "markdown",
      "source": [
        "## ***4. Explain the `__init__` method in Python and its role in constructors.***"
      ],
      "metadata": {
        "id": "4YoFM3H1SKZC"
      }
    },
    {
      "cell_type": "markdown",
      "source": [
        "## Explanation of the `__init__` Method in Python\n",
        "\n",
        "In Python, the `__init__` method is a special method within a class that serves as the constructor. It is automatically called when an instance of the class is created.\n",
        "\n",
        "### Role in Constructors\n",
        "\n",
        "The primary role of the `__init__` method is to initialize the object's state by setting initial attribute values or performing any necessary setup operations when an instance of the class is created.\n",
        "\n",
        "#### Example:\n",
        "\n",
        "```python\n",
        "class MyClass:\n",
        "    def __init__(self, param1, param2):\n",
        "        self.param1 = param1\n",
        "        self.param2 = param2\n",
        "\n",
        "# Creating an instance of MyClass\n",
        "obj = MyClass(\"value1\", \"value2\")\n",
        "```\n",
        "Explanation:\n",
        "\n",
        "- define a class called MyClass.\n",
        "Within the class definition, we define the <font color=\"red\">__init__</font>() method, which serves as the constructor.\n",
        "- The <font color=\"red\">__init__</font>() method takes <font color=\"red\">self</font> (representing the instance being created) along with any other parameters needed for initialization, such as <font color=\"red\">param1</font> and <font color=\"red\">param2</font>.\n",
        "- Inside the constructor, we initialize the object's attributes <font color=\"red\">param1</font> and <font color=\"red\">param2</font> with the values passed during instantiation.\n",
        "- When we create an instance of MyClass using <font color=\"red\">obj = MyClass(\"value1\", \"value2\")</font>, the <font color=\"red\">__init__</font>() method is automatically called with <font color=\"red\">\"value1\"</font> assigned to <font color=\"red\">param1</font> and <font color=\"red\">\"value2\"</font> assigned to <font color=\"red\">param2</font>."
      ],
      "metadata": {
        "id": "7_iFqF1dR4hD"
      }
    },
    {
      "cell_type": "markdown",
      "source": [
        "## ***5.In a class named `Person`, create a constructor that initializes the `name` and `age` attributes. Provide an example of creating an object of this class***."
      ],
      "metadata": {
        "id": "PlwyfOnwGM_g"
      }
    },
    {
      "cell_type": "markdown",
      "source": [
        "## Creating a Constructor in the `Person` Class\n",
        "\n",
        "In the `Person` class, we'll create a constructor that initializes the `name` and `age` attributes.\n",
        "\n",
        "### Example:\n",
        "\n",
        "```python\n",
        "class Person:\n",
        "    def __init__(self, name, age):\n",
        "        self.name = name\n",
        "        self.age = age\n",
        "\n",
        "# Creating an object of the Person class\n",
        "person1 = Person(\"John\", 30)\n",
        "print(\"Name:\", person1.name)  # Output: Name: John\n",
        "print(\"Age:\", person1.age)    # Output: Age: 30\n"
      ],
      "metadata": {
        "id": "f2DGfrFDFhCU"
      }
    },
    {
      "cell_type": "markdown",
      "source": [
        "## <font color=\"red\">Explanation</font>\n",
        "\n",
        "- define a class called <font color=\"red\">`Person`</font>.\n",
        "- Within the class definition, we define the <font color=\"red\">`__init__()`</font> method, which serves as the constructor.\n",
        "- The <font color=\"red\">`__init__()`</font> method takes <font color=\"red\">`self`</font> (representing the instance being created) along with parameters <font color=\"red\">`name`</font> and <font color=\"red\">`age`</font>.\n",
        "- Inside the constructor, we initialize the object's attributes <font color=\"red\">`name`</font> and <font color=\"red\">`age`</font> with the values passed during instantiation.\n",
        "- When we create an instance of <font color=\"red\">`Person`</font> using <font color=\"red\">`person1 = Person(\"John\", 30)`</font>, the <font color=\"red\">`__init__()`</font> method is automatically called with <font color=\"red\">`\"John\"`</font> assigned to <font color=\"red\">`name`</font> and <font color=\"red\">`30`</font> assigned to <font color=\"red\">`age`</font>.\n"
      ],
      "metadata": {
        "id": "Jvb8vz-5GjiA"
      }
    },
    {
      "cell_type": "markdown",
      "source": [
        "## ***6. How can you call a constructor explicitly in Python? Give an example.***"
      ],
      "metadata": {
        "id": "flFxXIW3GmPD"
      }
    },
    {
      "cell_type": "markdown",
      "source": [
        "## Calling a Constructor Explicitly in Python\n",
        "\n",
        "In Python, a constructor can be called explicitly by using the class name along with the `__init__` method. This can be useful in certain scenarios where you want to reinitialize an object or perform specific setup operations.\n",
        "\n",
        "### Example:\n",
        "\n",
        "```python\n",
        "class MyClass:\n",
        "    def __init__(self, value):\n",
        "        self.value = value\n",
        "        print(\"Constructor called with value:\", value)\n",
        "\n",
        "    def display(self):\n",
        "        print(\"Value:\", self.value)\n",
        "\n",
        "# Creating an instance of MyClass\n",
        "obj = MyClass(\"initial value\")\n",
        "\n",
        "# Explicitly calling the constructor to reinitialize the object\n",
        "obj.__init__(\"new value\")\n",
        "\n",
        "# Displaying the updated value\n",
        "obj.display()  # Output: Value: new value\n"
      ],
      "metadata": {
        "id": "Jb7ij0xVJeVa"
      }
    },
    {
      "cell_type": "markdown",
      "source": [
        "## Explanation\n",
        "\n",
        "- define a class called <font color=\"red\">`MyClass`</font> with an <font color=\"red\">`__init__`</font> method as the constructor.\n",
        "- The <font color=\"red\">`__init__`</font> method takes <font color=\"red\">`self`</font> (representing the instance being created) along with a parameter <font color=\"red\">`value`</font>.\n",
        "- Inside the constructor, we initialize the object's attribute <font color=\"red\">`value`</font> with the value passed during instantiation.\n",
        "- create an instance of <font color=\"red\">`MyClass`</font> called <font color=\"red\">`obj`</font> with an initial value of <font color=\"red\">`\"initial value\"`</font>.\n",
        "- explicitly call the constructor again using <font color=\"red\">`obj.__init__(\"new value\")`</font> to reinitialize the object with a new value of <font color=\"red\">`\"new value\"`</font>.\n",
        "- Finally, we call the <font color=\"red\">`display()`</font> method to print the updated value of the object.\n",
        "\n"
      ],
      "metadata": {
        "id": "nLFvn5pIJesl"
      }
    },
    {
      "cell_type": "markdown",
      "source": [
        "## ***7. What is the significance of the `self` parameter in Python constructors? Explain with an example.***"
      ],
      "metadata": {
        "id": "3f5AwvX0JfEu"
      }
    },
    {
      "cell_type": "markdown",
      "source": [
        "## <font color=\"red\">Significance of the `self` Parameter in Python Constructors</font>\n",
        "\n",
        "In Python, the `self` parameter in constructors (and methods) refers to the instance of the class itself. It allows access to the instance variables and methods within the class.\n",
        "\n",
        "### Example:\n",
        "\n",
        "```python\n",
        "class MyClass:\n",
        "    def __init__(self, value):\n",
        "        self.value = value\n",
        "\n",
        "    def display(self):\n",
        "        print(\"Value:\", self.value)\n",
        "\n",
        "# Creating two instances of MyClass\n",
        "obj1 = MyClass(\"object 1\")\n",
        "obj2 = MyClass(\"object 2\")\n",
        "\n",
        "# Calling the display method for each object\n",
        "obj1.display()  # Output: Value: object 1\n",
        "obj2.display()  # Output: Value: object 2\n"
      ],
      "metadata": {
        "id": "_cw7yhN7Jfb1"
      }
    },
    {
      "cell_type": "markdown",
      "source": [
        "## Impact of Absent `self` Parameter in a Constructor\n",
        "\n",
        "If the `self` parameter is not present in a constructor in Python, it will lead to errors when trying to access instance attributes or methods within the class. The `self` parameter is essential for referring to the instance of the class and accessing its properties and methods.\n",
        "\n",
        "### Example:\n",
        "\n",
        "```python\n",
        "class MyClass:\n",
        "    def __init__(name, age):\n",
        "        name = name\n",
        "        age = age\n",
        "\n",
        "    def display_info():\n",
        "        print(\"Name:\", name)\n",
        "        print(\"Age:\", age)\n",
        "\n",
        "# Creating an instance of MyClass\n",
        "obj = MyClass(\"John\", 30)\n",
        "\n",
        "# Calling the display_info method\n",
        "obj.display_info()  # This will raise a TypeError: display_info() takes 0 positional arguments but 1 was given\n",
        "```\n",
        "## Explanation\n",
        "\n",
        "- define a class called <font color=\"red\">`MyClass`</font>.\n",
        "- In the <font color=\"red\">`__init__`</font> method (constructor), the <font color=\"red\">`self`</font> parameter is missing.\n",
        "- Inside the constructor, we attempt to assign values to <font color=\"red\">`name`</font> and <font color=\"red\">`age`</font> directly without using <font color=\"red\">`self`</font>.\n",
        "- When trying to access <font color=\"red\">`name`</font> and <font color=\"red\">`age`</font> in the <font color=\"red\">`display_info`</font> method, it will lead to a <font color=\"red\">`NameError`</font> because these variables are not defined in the scope of the method.\n",
        "- When creating an instance of <font color=\"red\">`MyClass`</font> and calling the <font color=\"red\">`display_info`</font> method, it will raise a <font color=\"red\">`TypeError`</font> because the method expects 0 positional arguments but 1 was given (implicitly passing the instance itself).\n"
      ],
      "metadata": {
        "id": "mUGftBbUIuQY"
      }
    },
    {
      "cell_type": "markdown",
      "source": [
        "## Concept of Default Constructors in Python\n",
        "\n",
        "In Python, a default constructor is a constructor that doesn't take any parameters other than `self`. When a class is defined without an explicit constructor, Python automatically provides a default constructor for it.\n",
        "\n",
        "### Example:\n",
        "\n"
      ],
      "metadata": {
        "id": "dHLYZwdgJf3A"
      }
    },
    {
      "cell_type": "code",
      "source": [
        "\n",
        "class Person:\n",
        "    def __init__(self):\n",
        "        self.name = \"Unknown\"\n",
        "        self.age = 0\n",
        "\n",
        "    def display_info(self):\n",
        "        print(\"Name:\", self.name)\n",
        "        print(\"Age:\", self.age)\n",
        "\n",
        "# Creating an instance of Person\n",
        "person = Person()\n",
        "\n",
        "# Calling the display_info method\n",
        "person.display_info()  # Output: Name: Unknown, Age: 0"
      ],
      "metadata": {
        "colab": {
          "base_uri": "https://localhost:8080/"
        },
        "id": "rCLeGXJLJ1wI",
        "outputId": "f807ecc1-5e28-40e5-e567-29d158543006"
      },
      "execution_count": null,
      "outputs": [
        {
          "output_type": "stream",
          "name": "stdout",
          "text": [
            "Name: Unknown\n",
            "Age: 0\n"
          ]
        }
      ]
    },
    {
      "cell_type": "markdown",
      "source": [
        "### <font color='red'>Explanation:\n",
        "\n",
        "-  define a class called <font color=\"red\">`Person`</font> without an explicit constructor.\n",
        "- Python automatically provides a default constructor for the class, which initializes instance variables <font color=\"red\">`name`</font> and <font color=\"red\">`age`</font> with default values.\n",
        "- create an instance of <font color=\"red\">`Person`</font> called <font color=\"red\">`person`</font>.\n",
        "- When calling the <font color=\"red\">`display_info`</font> method for the <font color=\"red\">`person`</font> object, it prints the default values of <font color=\"red\">`name`</font> and <font color=\"red\">`age`</font>.\n"
      ],
      "metadata": {
        "id": "SOvteqd6JgO-"
      }
    },
    {
      "cell_type": "markdown",
      "source": [
        "## ***9. Create a Python class called `Rectangle` with a constructor that initializes the `width` and `height` attributes. Provide a method to calculate the area of the rectangle.***"
      ],
      "metadata": {
        "id": "BrkIqkY0JglO"
      }
    },
    {
      "cell_type": "code",
      "source": [
        "class Rectangle:\n",
        "    def __init__(self, width, height):\n",
        "        self.width = width\n",
        "        self.height = height\n",
        "\n",
        "    def calculate_area(self):\n",
        "        return self.width * self.height\n",
        "\n",
        "# Creating an instance of Rectangle\n",
        "rect = Rectangle(5, 4)\n",
        "\n",
        "# Calculating the area of the rectangle\n",
        "area = rect.calculate_area()\n",
        "print(\"Area of the rectangle:\", area)  # Output: Area of the rectangle: 20"
      ],
      "metadata": {
        "colab": {
          "base_uri": "https://localhost:8080/"
        },
        "id": "V9aituS-KWyu",
        "outputId": "c8294ff5-4caf-4041-ef2e-af6001c10031"
      },
      "execution_count": null,
      "outputs": [
        {
          "output_type": "stream",
          "name": "stdout",
          "text": [
            "Area of the rectangle: 20\n"
          ]
        }
      ]
    },
    {
      "cell_type": "markdown",
      "source": [
        "### Explanation:\n",
        "\n",
        "-  define a class called <font color=\"red\">`Rectangle`</font> with a constructor that initializes the <font color=\"red\">`width`</font> and <font color=\"red\">`height`</font> attributes.\n",
        "- The constructor (<font color=\"red\">`__init__`</font> method) takes <font color=\"red\">`self`</font>, <font color=\"red\">`width`</font>, and <font color=\"red\">`height`</font> as parameters and initializes the attributes accordingly.\n",
        "- provide a method called <font color=\"red\">`calculate_area`</font> that calculates the area of the rectangle using the formula <font color=\"red\">`width * height`</font>.\n",
        "-  create an instance of <font color=\"red\">`Rectangle`</font> called <font color=\"red\">`rect`</font> with width <font color=\"red\">`5`</font> and height <font color=\"red\">`4`</font>.\n",
        "-  then call the <font color=\"red\">`calculate_area`</font> method for the <font color=\"red\">`rect`</font> object to calculate the area of the rectangle.\n"
      ],
      "metadata": {
        "id": "RZnIAfoQJg6D"
      }
    },
    {
      "cell_type": "markdown",
      "source": [
        "## ***10. How can you have multiple constructors in a Python class? Explain with an example.***"
      ],
      "metadata": {
        "id": "2s2FZW_fJhNy"
      }
    },
    {
      "cell_type": "markdown",
      "source": [
        "## <font color='red'>Multiple Constructors in a Python Class\n",
        "\n",
        "### In Python, you can achieve the concept of having multiple constructors by using class methods as alternative constructors. These class methods can be used to create instances of the class with different initialization parameters.\n",
        "\n",
        "### Example:"
      ],
      "metadata": {
        "id": "DliVVUZHKyHF"
      }
    },
    {
      "cell_type": "code",
      "source": [
        "class MyClass:\n",
        "    def __init__(self, value):\n",
        "        self.value = value\n",
        "\n",
        "    @classmethod\n",
        "    def from_string(cls, string):\n",
        "        # Parse the string and extract necessary values\n",
        "        value = string.upper()\n",
        "        # Create and return an instance using the parsed values\n",
        "        return cls(value)\n",
        "\n",
        "    @classmethod\n",
        "    def from_list(cls, lst):\n",
        "        # Perform operations on the list to extract necessary values\n",
        "        value = sum(lst)\n",
        "        # Create and return an instance using the extracted values\n",
        "        return cls(value)\n",
        "\n",
        "# Creating instances of MyClass using different constructors\n",
        "obj1 = MyClass(\"initial value\")\n",
        "obj2 = MyClass.from_string(\"text input\")\n",
        "obj3 = MyClass.from_list([1, 2, 3, 4, 5])\n",
        "\n",
        "# Printing the values of the instances\n",
        "print(\"Value of obj1:\", obj1.value)\n",
        "print(\"Value of obj2:\", obj2.value)\n",
        "print(\"Value of obj3:\", obj3.value)"
      ],
      "metadata": {
        "id": "xv9dPJSrJhbB",
        "colab": {
          "base_uri": "https://localhost:8080/"
        },
        "outputId": "e4fa25e6-aa66-42a7-d173-4fc478e526e6"
      },
      "execution_count": null,
      "outputs": [
        {
          "output_type": "stream",
          "name": "stdout",
          "text": [
            "Value of obj1: initial value\n",
            "Value of obj2: TEXT INPUT\n",
            "Value of obj3: 15\n"
          ]
        }
      ]
    },
    {
      "cell_type": "markdown",
      "source": [
        "### <font color='red'>Explanation:\n",
        "\n",
        "- define a class called <font color=\"red\">`MyClass`</font> with a constructor that initializes the <font color=\"red\">`value`</font> attribute.\n",
        "- define class methods (<font color=\"red\">`from_string`</font> and <font color=\"red\">`from_list`</font>) that act as alternative constructors.\n",
        "- The <font color=\"red\">`from_string`</font> method takes a string as input, performs necessary operations (in this case, converting the string to uppercase), and creates an instance of <font color=\"red\">`MyClass`</font> with the processed value.\n",
        "- The <font color=\"red\">`from_list`</font> method takes a list as input, performs necessary operations (in this case, summing up the elements of the list), and creates an instance of <font color=\"red\">`MyClass`</font> with the processed value.\n",
        "-  create instances of <font color=\"red\">`MyClass`</font> using different constructors: one with the regular constructor and two with the alternative constructors.\n",
        "-  print the values of the instances to verify their creation and initialization.\n"
      ],
      "metadata": {
        "id": "2bUA_j6ZJhtQ"
      }
    },
    {
      "cell_type": "markdown",
      "source": [
        "## ***11. What is method overloading, and how is it related to constructors in Python?***"
      ],
      "metadata": {
        "id": "vhdX2aNuLYPz"
      }
    },
    {
      "cell_type": "markdown",
      "source": [
        "## Method Overloading and Its Relation to Constructors in Python\n",
        "\n",
        "### <font color='red'>Method Overloading:\n",
        "\n",
        "Method overloading refers to the ability to define multiple methods with the same name but with different parameters or different types of parameters within the same class. In other words, method overloading allows a class to have multiple methods with the same name but different signatures.\n",
        "\n",
        "### <font color='red'>Relation to Constructors:\n",
        "\n",
        "In Python, method overloading is not directly supported in the same way as it is in some other programming languages like Java or C++. However, Python provides a mechanism called \"duck typing\" or \"function overloading by default,\" where a single method can handle different types of arguments dynamically based on their types or number of arguments.\n",
        "\n",
        "### <font color='red'>Example:"
      ],
      "metadata": {
        "id": "-JFtDPKbk8DA"
      }
    },
    {
      "cell_type": "code",
      "source": [
        "class MyClass:\n",
        "    def __init__(self, *args):\n",
        "        if len(args) == 1:\n",
        "            self.initialize_with_single_argument(args[0])\n",
        "        elif len(args) == 2:\n",
        "            self.initialize_with_two_arguments(args[0], args[1])\n",
        "\n",
        "    def initialize_with_single_argument(self, value):\n",
        "        print(\"Initializing with a single argument\")\n",
        "        # Perform initialization with a single argument\n",
        "\n",
        "    def initialize_with_two_arguments(self, value1, value2):\n",
        "        print(\"Initializing with two arguments\")\n",
        "        # Perform initialization with two arguments\n",
        "\n",
        "# Creating instances of MyClass with different number of arguments\n",
        "obj1 = MyClass(10)\n",
        "obj2 = MyClass(20, 30)"
      ],
      "metadata": {
        "id": "cA8Vk2mFJh5N",
        "colab": {
          "base_uri": "https://localhost:8080/"
        },
        "outputId": "5923818d-927c-445f-fb33-57fac07cd069"
      },
      "execution_count": null,
      "outputs": [
        {
          "output_type": "stream",
          "name": "stdout",
          "text": [
            "Initializing with a single argument\n",
            "Initializing with two arguments\n"
          ]
        }
      ]
    },
    {
      "cell_type": "markdown",
      "source": [
        "### Explanation:\n",
        "\n",
        "-  define a class called <font color=\"red\">`MyClass`</font> with a constructor that accepts variable-length arguments (<font color=\"red\">`*args`</font>).\n",
        "- Inside the constructor, we check the number of arguments passed and call different initialization methods (<font color=\"red\">`initialize_with_single_argument`</font> or <font color=\"red\">`initialize_with_two_arguments`</font>) accordingly.\n",
        "- If only one argument is passed, we initialize the object using the method <font color=\"red\">`initialize_with_single_argument`</font>. If two arguments are passed, we initialize the object using the method <font color=\"red\">`initialize_with_two_arguments`</font>.\n",
        "- create instances of <font color=\"red\">`MyClass`</font> with different numbers of arguments, and the appropriate initialization method is called based on the number of arguments provided.\n"
      ],
      "metadata": {
        "id": "DNsbXFgIJiDE"
      }
    },
    {
      "cell_type": "markdown",
      "source": [
        "## ***12. Explain the use of the `super()` function in Python constructors. Provide an example.***"
      ],
      "metadata": {
        "id": "C-2t2sollomY"
      }
    },
    {
      "cell_type": "markdown",
      "source": [
        "## Use of the `super()` Function in Python Constructors\n",
        "\n",
        "### Purpose of `super()` Function:\n",
        "\n",
        "- The `super()` function in Python is used to call the constructor of the parent class (also known as the superclass) within the constructor of the child class (also known as the subclass).\n",
        "- It allows the child class to inherit and utilize the behavior of the parent class constructor while extending or modifying it as needed.\n",
        "- `super()` is especially useful in situations where the child class needs to perform additional initialization or customization beyond what is provided by the parent class constructor.\n",
        "\n",
        "### Example:\n",
        "\n",
        "```python\n",
        "\n"
      ],
      "metadata": {
        "id": "ER78K267mOyp"
      }
    },
    {
      "cell_type": "code",
      "source": [
        "class ParentClass:\n",
        "    def __init__(self, parent_attribute):\n",
        "        self.parent_attribute = parent_attribute\n",
        "        print(\"Parent constructor called\")\n",
        "\n",
        "class ChildClass(ParentClass):\n",
        "    def __init__(self, parent_attribute, child_attribute):\n",
        "        super().__init__(parent_attribute)\n",
        "        self.child_attribute = child_attribute\n",
        "        print(\"Child constructor called\")\n",
        "\n",
        "# Creating an instance of ChildClass\n",
        "child_obj = ChildClass(\"Parent Attribute Value\", \"Child Attribute Value\")"
      ],
      "metadata": {
        "id": "wE8T-tDAJiMJ",
        "colab": {
          "base_uri": "https://localhost:8080/"
        },
        "outputId": "6de8e960-2a2e-4a17-b17d-fcdb7812daf2"
      },
      "execution_count": null,
      "outputs": [
        {
          "output_type": "stream",
          "name": "stdout",
          "text": [
            "Parent constructor called\n",
            "Child constructor called\n"
          ]
        }
      ]
    },
    {
      "cell_type": "markdown",
      "source": [
        "<font color=\"red\">Explanation:</font>\n",
        "\n",
        "- define a parent class called <font color=\"red\">ParentClass</font> with a constructor that initializes a parent attribute.\n",
        "- We define a child class called <font color=\"red\">ChildClass</font> that inherits from <font color=\"red\">ParentClass</font>.\n",
        "Inside the constructor of <font color=\"red\">ChildClass</font>, - use the <font color=\"red\">super()</font> function to call the constructor of the parent class and initialize the parent attribute.\n",
        "- initialize a child attribute within the constructor of <font color=\"red\">ChildClass</font>.\n",
        "- When creating an instance of <font color=\"red\">ChildClass</font>, both the parent and child constructors are called, and the attributes of both classes are initialized accordingly."
      ],
      "metadata": {
        "id": "WCypPXYzJiY3"
      }
    },
    {
      "cell_type": "markdown",
      "source": [
        "## **13. Create a class called `Book` with a constructor that initializes the `title`, `author`, and `published_year` attributes. Provide a method to display book details. **"
      ],
      "metadata": {
        "id": "-T9JBCr7np7y"
      }
    },
    {
      "cell_type": "code",
      "source": [
        "class Book:\n",
        "    def __init__(self, title, author, published_year):\n",
        "        # Initialize the attributes\n",
        "        self.title = title\n",
        "        self.author = author\n",
        "        self.published_year = published_year\n",
        "\n",
        "    def display_details(self):\n",
        "        # Display book details\n",
        "        print(\"Title:\", self.title)\n",
        "        print(\"Author:\", self.author)\n",
        "        print(\"Published Year:\", self.published_year)\n",
        "\n",
        "# Creating an instance of Book\n",
        "book = Book(\"The Great Gatsby\", \"F. Scott Fitzgerald\", 1925)\n",
        "\n",
        "# Displaying book details\n",
        "book.display_details()\n"
      ],
      "metadata": {
        "id": "kxSz7a5rJilX",
        "colab": {
          "base_uri": "https://localhost:8080/"
        },
        "outputId": "0cf7a937-5141-414d-d878-aa7d6b96ac55"
      },
      "execution_count": null,
      "outputs": [
        {
          "output_type": "stream",
          "name": "stdout",
          "text": [
            "Title: The Great Gatsby\n",
            "Author: F. Scott Fitzgerald\n",
            "Published Year: 1925\n"
          ]
        }
      ]
    },
    {
      "cell_type": "markdown",
      "source": [
        "## ***14. Discuss the differences between constructors and regular methods in Python classes.***"
      ],
      "metadata": {
        "id": "XradoRvtJiv9"
      }
    },
    {
      "cell_type": "markdown",
      "source": [
        "1. **<font color='red'>Constructor</font>**:\n",
        "   - **<font color='red'>Definition</font>**: **Constructors** are special methods in Python classes that are automatically invoked when an instance of the class is created.\n",
        "   - **<font color='red'>Name</font>**: In Python, **constructors** are named `__init__`.\n",
        "   - **<font color='red'>Purpose</font>**: **Constructors** are primarily used for initializing the attributes of an object when it is instantiated.\n",
        "   - **<font color='red'>Invocation</font>**: **Constructors** are called automatically when an instance of the class is created using the class name followed by parentheses.\n",
        "\n",
        "   ```python\n",
        "   class MyClass:\n",
        "       def __init__(self, arg1, arg2):\n",
        "           self.attribute1 = arg1\n",
        "           self.attribute2 = arg2\n",
        "\n",
        "   obj = MyClass(value1, value2)  # **Constructor** invoked here\n",
        "  ```\n",
        "  \n",
        "2. **<font color='red'>Regular Methods</font>**:\n",
        "   - **<font color='red'>Definition</font>**: **Regular methods** are functions defined within a class and operate on the object's attributes.\n",
        "   - **<font color='red'>Name</font>**: **Regular methods** can have any valid name following the rules of Python function naming.\n",
        "   - **<font color='red'>Purpose</font>**: **Regular methods** are used to perform operations or computations on the attributes of an object.\n",
        "   - **<font color='red'>Invocation</font>**: **Regular methods** are called explicitly using the object instance followed by a dot (.) and the method name, along with any required arguments.\n",
        "\n",
        "   ```python\n",
        "   class MyClass:\n",
        "       def __init__(self, arg):\n",
        "           self.attribute = arg\n",
        "\n",
        "       def <font color='red'>my_method</font>(self, arg):\n",
        "           return self.<font color='red'>attribute</font> * arg\n",
        "\n",
        "   obj = MyClass(value)\n",
        "   result = obj.<font color='red'>my_method</font>(argument)  # **Regular method** invoked here\n"
      ],
      "metadata": {
        "id": "c0F54iWvNGkT"
      }
    },
    {
      "cell_type": "markdown",
      "source": [
        "## ***15. Explain the role of the `self` parameter in instance variable initialization within a constructor.***"
      ],
      "metadata": {
        "id": "5q-vtCYtOede"
      }
    },
    {
      "cell_type": "markdown",
      "source": [
        "1. **<font color='red'>Explain the role of the `self` parameter in instance variable initialization within a constructor</font>**:\n",
        "\n",
        "   The **<font color='red'>self</font>** parameter in Python plays a crucial role in instance variable initialization within a constructor. Here's an explanation of its role:\n",
        "\n",
        "   1. **<font color='red'>Reference to the Instance</font>**:\n",
        "      - **<font color='red'>self</font>** is a reference to the instance of the class. When a constructor or any method is called on an object, the instance is automatically passed as the first argument to the method. By convention, this parameter is named **<font color='red'>self</font>**, but you can technically name it anything you want, although it's strongly recommended to stick with **<font color='red'>self</font>** for clarity and consistency.\n",
        "\n",
        "   2. **<font color='red'>Instance Variable Initialization</font>**:\n",
        "      - Within the constructor (**<font color='red'>__init__</font>** method), **<font color='red'>self</font>** is used to initialize instance variables. Instance variables are attributes specific to each instance of the class. By using **<font color='red'>self</font>**, you're effectively telling Python to assign values to attributes of the specific instance being created, rather than to a generic variable.\n",
        "\n",
        "   3. **<font color='red'>Accessing Instance Variables</font>**:\n",
        "      - After initializing instance variables using **<font color='red'>self</font>** within the constructor, those variables become accessible throughout the entire class. You can access and manipulate these instance variables within any method of the class using the **<font color='red'>self</font>** keyword. This ensures that each instance of the class has its own separate copy of instance variables.\n",
        "\n",
        "   Here's a simple example to illustrate the role of **<font color='red'>self</font>** in instance variable initialization within a constructor:\n",
        "\n",
        "   \n",
        "\n",
        "\n",
        "   \n",
        "  "
      ],
      "metadata": {
        "id": "8jfQs9IWO23J"
      }
    },
    {
      "cell_type": "code",
      "source": [
        "class MyClass:\n",
        "    def __init__(self, arg1, arg2):\n",
        "        self.attribute1 = arg1  # Initializing instance variable attribute1\n",
        "        self.attribute2 = arg2  # Initializing instance variable attribute2\n",
        "\n",
        "    def display_attributes(self):\n",
        "        print(\"Attribute 1:\", self.attribute1)\n",
        "        print(\"Attribute 2:\", self.attribute2)\n",
        "\n",
        "# Creating an instance of MyClass\n",
        "obj = MyClass(\"Value 1\", \"Value 2\")\n",
        "\n",
        "# Calling the display_attributes method\n",
        "obj.display_attributes()  # Output will display the values of attribute1 and attribute2 for the obj instance\n",
        "\n"
      ],
      "metadata": {
        "id": "Ft_QxNoPJi6M",
        "colab": {
          "base_uri": "https://localhost:8080/"
        },
        "outputId": "a208b53b-0449-41b5-ed25-dffcf19734a3"
      },
      "execution_count": null,
      "outputs": [
        {
          "output_type": "stream",
          "name": "stdout",
          "text": [
            "Attribute 1: Value 1\n",
            "Attribute 2: Value 2\n"
          ]
        }
      ]
    },
    {
      "cell_type": "markdown",
      "source": [
        "In this example, <font color='red'>self.attribute1</font> and <font color='red'>self.attribute2</font> within the <font color='red'>init</font> method are initializing instance variables <font color='red'>attribute1</font> and <font color='red'>attribute2</font> respectively for the specific instance being created (<font color='red'>obj</font>). Later, within the <font color='red'>display_attributes</font> method, <font color='red'>self.attribute1</font> and <font color='red'>self.attribute2</font> are used to access these instance variables to display their values."
      ],
      "metadata": {
        "id": "4YyM7UgkPhRq"
      }
    },
    {
      "cell_type": "markdown",
      "source": [
        "## ***16.How do you prevent a class from having multiple instances by using constructors in Python? Provide an example.***"
      ],
      "metadata": {
        "id": "-wEapaHqJjQT"
      }
    },
    {
      "cell_type": "markdown",
      "source": [
        "### - In Python, you can prevent a class from having multiple instances by using a class variable to keep track of whether an instance has already been created.\n",
        "### - If an instance already exists, the constructor can raise an exception to prevent the creation of another instance. This pattern is commonly known as a singleton.\n",
        "\n",
        "Here's an example demonstrating how to implement a singleton class in Python:"
      ],
      "metadata": {
        "id": "NeDaOrTtQIcp"
      }
    },
    {
      "cell_type": "code",
      "source": [
        "class Singleton:\n",
        "    _instance = None\n",
        "\n",
        "    def __new__(cls):\n",
        "        if cls._instance is None:\n",
        "            cls._instance = super().__new__(cls)\n",
        "        else:\n",
        "            raise Exception(\"Singleton class cannot have multiple instances\")\n",
        "        return cls._instance\n",
        "\n",
        "    def __init__(self, data):\n",
        "        self.data = data\n",
        "\n",
        "# Creating instances of the Singleton class\n",
        "try:\n",
        "    obj1 = Singleton(\"Instance 1\")\n",
        "    print(\"Object 1 created successfully\")\n",
        "\n",
        "    # Trying to create another instance\n",
        "    obj2 = Singleton(\"Instance 2\")\n",
        "    print(\"Object 2 created successfully\")\n",
        "except Exception as e:\n",
        "    print(e)\n",
        "\n"
      ],
      "metadata": {
        "id": "U0o_HnVTJjey",
        "colab": {
          "base_uri": "https://localhost:8080/"
        },
        "outputId": "15c1a370-5208-4e04-d092-9cdde8f6b05d"
      },
      "execution_count": null,
      "outputs": [
        {
          "output_type": "stream",
          "name": "stdout",
          "text": [
            "Singleton.__new__() takes 1 positional argument but 2 were given\n"
          ]
        }
      ]
    },
    {
      "cell_type": "markdown",
      "source": [
        "<font color='red'>in this example:</font>\n",
        "\n",
        "- The <font color='red'>Singleton</font> class has a class variable <font color='red'>_instance</font> to keep track of the single instance.\n",
        "- The __new__ method is overridden to ensure that only one instance of the class is created. If <font color='red'>_instance</font> is None, it creates a new instance using the superclass's __new__ method. If <font color='red'>_instance</font> is not None, it raises an exception.\n",
        "- The __init__ method initializes the instance with the provided <font color='red'>data</font>.\n",
        "When attempting to create multiple instances of the <font color='red'>Singleton</font> class, the second attempt raises an exception because the class can have only one instance."
      ],
      "metadata": {
        "id": "oR7Ip6AqJjtD"
      }
    },
    {
      "cell_type": "markdown",
      "source": [
        "## ***17. Create a Python class called `Student` with a constructor that takes a list of subjects as a parameter and initializes the `subjects` attribute.***"
      ],
      "metadata": {
        "id": "Igoi8Qj-RDcq"
      }
    },
    {
      "cell_type": "code",
      "source": [
        "class Student:\n",
        "    def __init__(self, subjects):\n",
        "        self.subjects = subjects\n",
        "\n",
        "# Example usage:\n",
        "subjects_list = [\"Math\", \"Science\", \"History\"]\n",
        "student1 = Student(subjects_list)\n",
        "print(student1.subjects)  # Output: ['Math', 'Science', 'History']\n"
      ],
      "metadata": {
        "id": "LmW8gIizJj6O"
      },
      "execution_count": null,
      "outputs": []
    },
    {
      "cell_type": "markdown",
      "source": [
        "## ***18. What is the purpose of the `__del__` method in Python classes, and how does it relate to constructors?***"
      ],
      "metadata": {
        "id": "UahOhA48yEYg"
      }
    },
    {
      "cell_type": "markdown",
      "source": [
        "The <font color=\"red\">`__del__`</font> method in Python classes is called the destructor. It's used to perform any necessary cleanup or resource deallocation when an object is about to be destroyed or garbage collected. The destructor is invoked automatically when there are no more references to the object, and it is being removed from memory.\n",
        "\n",
        "In contrast, the constructor (<font color=\"red\">`__init__`</font> method) is called when a new instance of the class is created. Its purpose is to initialize the object's attributes or perform any necessary setup operations.\n",
        "\n",
        "- While the constructor (<font color=\"red\">`__init__`</font>) is invoked when an object is being created, the destructor (<font color=\"red\">`__del__`</font>) is called when the object is being destroyed. They are complementary in that sense - the constructor prepares the object for use, while the destructor cleans up any resources associated with the object when it's no longer needed.\n",
        "\n",
        "However, it's important to note that in Python, you generally don't need to define a <font color=\"red\">`__del__`</font> method explicitly unless you're working with objects that manage system resources like file handles, network connections, etc. Python's garbage collector handles memory management automatically for most objects, so explicit resource cleanup is often unnecessary. It's recommended to use context managers (<font color=\"red\">`\n",
        "\n"
      ],
      "metadata": {
        "id": "3fgmm2OIJkKE"
      }
    },
    {
      "cell_type": "code",
      "source": [
        "\n",
        "class Student:\n",
        "    def __init__(self, name):\n",
        "        self.name = name\n",
        "\n",
        "    def __del__(self):\n",
        "        print(\"\\033[91mDestructor called for\\033[0m\", self.name)\n",
        "\n",
        "student1 = Student(\"John\")\n",
        "del student1  # Destructor called for John\n"
      ],
      "metadata": {
        "id": "a_JbGYVmJkX6",
        "colab": {
          "base_uri": "https://localhost:8080/"
        },
        "outputId": "ec3666bb-6c9f-4d2a-e16f-6ab26314997e"
      },
      "execution_count": null,
      "outputs": [
        {
          "output_type": "stream",
          "name": "stdout",
          "text": [
            "\u001b[91mDestructor called for\u001b[0m John\n"
          ]
        }
      ]
    },
    {
      "cell_type": "markdown",
      "source": [
        "## ***19. Explain the use of constructor chaining in Python. Provide a practical example.***"
      ],
      "metadata": {
        "id": "wf2W6mkeJkx6"
      }
    },
    {
      "cell_type": "markdown",
      "source": [
        "<font color=\"red\">`Constructor`</font>  chaining in Python refers to the process of one constructor method calling another constructor method within the same class hierarchy. This allows for code reuse and helps in initializing objects more efficiently by delegating initialization tasks to other constructors.\n",
        "\n",
        "<font color=\"red\">Here's how constructor chaining typically works:</font>\n",
        "1. A subclass constructor can call the constructor of its superclass using `super().__init__()`.\n",
        "2. If the subclass constructor does not explicitly call `super().__init__()`, Python automatically calls the superclass constructor.\n",
        "\n",
        "Constructor chaining is useful when you have a hierarchy of classes and want to ensure that the initialization process properly initializes attributes from all levels of the hierarchy.\n",
        "\n",
        "Let's illustrate constructor chaining with a practical example:\n",
        "\n",
        "\n"
      ],
      "metadata": {
        "id": "XML4PgCrzKJN"
      }
    },
    {
      "cell_type": "code",
      "source": [
        "class Person:\n",
        "    def __init__(self, name, age):\n",
        "        self.name = name\n",
        "        self.age = age\n",
        "\n",
        "class Employee(Person):\n",
        "    def __init__(self, name, age, emp_id):\n",
        "        super().__init__(name, age)  # Call superclass constructor\n",
        "        self.emp_id = emp_id\n",
        "\n",
        "    def display_info(self):\n",
        "        print(f\"Name: {self.name}, Age: {self.age}, Employee ID: {self.emp_id}\")\n",
        "\n",
        "# Creating an instance of Employee\n",
        "emp = Employee(\"Alice\", 30, \"EMP123\")\n",
        "emp.display_info()\n"
      ],
      "metadata": {
        "id": "R6jXfNGZJlD_",
        "colab": {
          "base_uri": "https://localhost:8080/"
        },
        "outputId": "651f592e-fee8-4aff-edb3-fe444cb02c9d"
      },
      "execution_count": null,
      "outputs": [
        {
          "output_type": "stream",
          "name": "stdout",
          "text": [
            "Name: Alice, Age: 30, Employee ID: EMP123\n"
          ]
        }
      ]
    },
    {
      "cell_type": "markdown",
      "source": [
        "<font color=\"red\">`In this example:`</font>\n",
        "\n",
        "- We have a superclass Person with a constructor that initializes name and age.\n",
        "- We have a subclass Employee that inherits from Person.\n",
        "The Employee class has its own constructor that initializes emp_id and calls the superclass constructor using super().__init__(name, age).\n",
        "- When we create an instance of Employee, both the superclass and subclass constructors are called, ensuring that all attributes are properly initialized."
      ],
      "metadata": {
        "id": "GCYB-GddJlbm"
      }
    },
    {
      "cell_type": "markdown",
      "source": [
        "## ***20. Create a Python class called `Car` with a default constructor that initializes the `make` and `model` attributes. Provide a method to display car information.***"
      ],
      "metadata": {
        "id": "zTLvl44p0KKU"
      }
    },
    {
      "cell_type": "code",
      "source": [
        "class Car:\n",
        "    def __init__(self, make, model):\n",
        "        \"\"\"\n",
        "        Constructor for the Car class.\n",
        "\n",
        "        Parameters:\n",
        "        - make (str): The make of the car.\n",
        "        - model (str): The model of the car.\n",
        "        \"\"\"\n",
        "        self.make = make\n",
        "        self.model = model\n",
        "\n",
        "    def display_info(self):\n",
        "        \"\"\"\n",
        "        Method to display the car's information.\n",
        "        \"\"\"\n",
        "        print(f\"Make: {self.make}, Model: {self.model}\")\n",
        "\n",
        "# Example usage:\n",
        "car1 = Car(\"Toyota\", \"Camry\")\n",
        "car1.display_info()  # Output: Make: Toyota, Model: Camry\n"
      ],
      "metadata": {
        "id": "x7ElvIK8Jln_",
        "colab": {
          "base_uri": "https://localhost:8080/"
        },
        "outputId": "3a1c3b92-f7ab-41b4-923f-7378352acfc3"
      },
      "execution_count": null,
      "outputs": [
        {
          "output_type": "stream",
          "name": "stdout",
          "text": [
            "Make: Toyota, Model: Camry\n"
          ]
        }
      ]
    },
    {
      "cell_type": "markdown",
      "source": [
        "## <font color = 'blue' >**Inheritance:**"
      ],
      "metadata": {
        "id": "BiglVyPG0gP8"
      }
    },
    {
      "cell_type": "markdown",
      "source": [
        "## ***1. What is inheritance in Python? Explain its significance in object-oriented programming.***"
      ],
      "metadata": {
        "id": "-lHqmmi00uyQ"
      }
    },
    {
      "cell_type": "markdown",
      "source": [
        "\n",
        "\n",
        "In Python, **<font color='red'>inheritance</font>** is a fundamental concept in **<font color='red'>object-oriented programming (OOP)</font>** where a new class, called the **<font color='red'>child class</font>** or **<font color='red'>subclass</font>**, can inherit attributes and methods from an existing class, known as the **<font color='red'>parent class</font>** or **<font color='red'>superclass</font>**. This means that the child class can reuse the code of the parent class, reducing redundancy and promoting code reusability.\n",
        "\n",
        "When a child class inherits from a parent class, it automatically gains access to all the attributes and methods defined in the parent class. The child class can then extend or override these attributes and methods to tailor them to its specific needs. This allows for creating a hierarchy of classes, where each subclass can add its own unique functionality while still benefiting from the common functionality provided by its parent class.\n",
        "\n",
        "The significance of **<font color='red'>inheritance</font>** in **<font color='red'>object-oriented programming</font>** includes:\n",
        "\n",
        "1. **<font color='red'>Code Reusability</font>**: Inheritance allows classes to reuse code from existing classes, reducing redundancy and promoting modular programming.\n",
        "\n",
        "2. **<font color='red'>Extensibility</font>**: Child classes can extend the functionality of parent classes by adding new attributes and methods or overriding existing ones.\n",
        "\n",
        "3. **<font color='red'>Hierarchy and Organization</font>**: Inheritance facilitates the creation of class hierarchies, allowing for a structured and organized approach to designing and managing code.\n",
        "\n",
        "4. **<font color='red'>Polymorphism</font>**: Through inheritance, objects of different classes can be treated uniformly if they are part of the same inheritance hierarchy, enabling polymorphic behavior.\n",
        "\n",
        "Overall, **<font color='red'>inheritance</font>** is a powerful mechanism in Python's **<font color='red'>object-oriented paradigm</font>** that promotes code reuse, extensibility, and maintainability, making it a key feature for building complex software systems.\n"
      ],
      "metadata": {
        "id": "fLhIQMDc1bjo"
      }
    },
    {
      "cell_type": "markdown",
      "source": [
        "## ***2. Differentiate between single inheritance and multiple inheritance in Python. Provide examples for each.***"
      ],
      "metadata": {
        "id": "k6o59YY911HK"
      }
    },
    {
      "cell_type": "markdown",
      "source": [
        "2. Differentiate between **<font color='red'>single inheritance</font>** and **<font color='red'>multiple inheritance</font>** in Python. Provide examples for each.\n",
        "\n",
        "In Python, inheritance can be classified into two main types: **<font color='red'>single inheritance</font>** and **<font color='red'>multiple inheritance</font>**.\n",
        "\n",
        "| **<font color='red'>Single Inheritance</font>** | **<font color='red'>Multiple Inheritance</font>** |\n",
        "|----------------------------------------------|-------------------------------------------------|\n",
        "| In **<font color='red'>single inheritance</font>**, a class inherits from only one parent class. | In **<font color='red'>multiple inheritance</font>**, a class inherits from more than one parent class. |\n",
        "| Example: | Example: |\n",
        "| ```python | ```python |\n",
        "| class Parent: | class Parent1: |\n",
        "| &nbsp;&nbsp;&nbsp;&nbsp;def __init__(self): | &nbsp;&nbsp;&nbsp;&nbsp;def __init__(self): |\n",
        "| &nbsp;&nbsp;&nbsp;&nbsp;&nbsp;&nbsp;&nbsp;&nbsp;self.parent_property = \"Parent property\" | &nbsp;&nbsp;&nbsp;&nbsp;&nbsp;&nbsp;&nbsp;&nbsp;self.parent1_property = \"Parent 1 property\" |\n",
        "| class Child(Parent): | class Parent2: |\n",
        "| &nbsp;&nbsp;&nbsp;&nbsp;def __init__(self): | &nbsp;&nbsp;&nbsp;&nbsp;def __init__(self): |\n",
        "| &nbsp;&nbsp;&nbsp;&nbsp;&nbsp;&nbsp;&nbsp;&nbsp;super().__init__() | &nbsp;&nbsp;&nbsp;&nbsp;&nbsp;&nbsp;&nbsp;&nbsp;self.parent2_property = \"Parent 2 property\" |\n",
        "| &nbsp;&nbsp;&nbsp;&nbsp;&nbsp;&nbsp;&nbsp;&nbsp;self.child_property = \"Child property\" | class Child(Parent1, Parent2): |\n",
        "| &nbsp;&nbsp;&nbsp;&nbsp;... | &nbsp;&nbsp;&nbsp;&nbsp;def __init__(self): |\n",
        "| ``` | &nbsp;&nbsp;&nbsp;&nbsp;&nbsp;&nbsp;&nbsp;&nbsp;super().__init__() |\n",
        "| | &nbsp;&nbsp;&nbsp;&nbsp;&nbsp;&nbsp;&nbsp;&nbsp;self.child_property = \"Child property\" |\n",
        "| | &nbsp;&nbsp;&nbsp;&nbsp;... |\n",
        "| ``` | ``` |\n",
        "\n",
        "In **<font color='red'>single inheritance</font>**:\n",
        "\n",
        "- A class inherits from only one parent class.\n",
        "- Example:\n",
        "```python\n",
        "class Parent:\n",
        "    def __init__(self):\n",
        "        self.parent_property = \"Parent property\"\n",
        "\n",
        "class Child(Parent):\n",
        "    def __init__(self):\n",
        "        super().__init__()\n",
        "        self.child_property = \"Child property\"\n"
      ],
      "metadata": {
        "id": "CM28XyLU11QG"
      }
    },
    {
      "cell_type": "code",
      "source": [
        "class Parent1:\n",
        "    def __init__(self):\n",
        "        self.parent1_property = \"Parent 1 property\"\n",
        "\n",
        "class Parent2:\n",
        "    def __init__(self):\n",
        "        self.parent2_property = \"Parent 2 property\"\n",
        "\n",
        "class Child(Parent1, Parent2):\n",
        "    def __init__(self):\n",
        "        super().__init__()\n",
        "        self.child_property = \"Child property\"\n"
      ],
      "metadata": {
        "id": "jF7BOah80eCG"
      },
      "execution_count": null,
      "outputs": []
    },
    {
      "cell_type": "markdown",
      "source": [
        "## ***3. Create a Python class called `Vehicle` with attributes `color` and `speed`. Then, create a child class called `Car` that inherits from `Vehicle` and adds a `brand`attribute. Provide an example of creating a `Car` object.***"
      ],
      "metadata": {
        "id": "pxx42F2T2tRq"
      }
    },
    {
      "cell_type": "code",
      "source": [
        "class Vehicle:\n",
        "    def __init__(self, color, speed):\n",
        "        # Initialize color and speed attributes\n",
        "        self.color = color\n",
        "        self.speed = speed\n",
        "\n",
        "class Car(Vehicle):\n",
        "    def __init__(self, color, speed, brand):\n",
        "        # Call the __init__() method of the parent class (Vehicle) to initialize color and speed attributes\n",
        "        super().__init__(color, speed)\n",
        "        # Add the brand attribute specific to Car\n",
        "        self.brand = brand\n",
        "\n",
        "# Example of creating a Car object\n",
        "car1 = Car(\"Red\", 120, \"Toyota\")\n",
        "print(\"Color:\", car1.color)\n",
        "print(\"Speed:\", car1.speed)\n",
        "print(\"Brand:\", car1.brand)\n"
      ],
      "metadata": {
        "colab": {
          "base_uri": "https://localhost:8080/"
        },
        "id": "pX9XMoYG2SjB",
        "outputId": "f0fa5095-a3d8-4cba-8ed3-45b73e40e651"
      },
      "execution_count": null,
      "outputs": [
        {
          "output_type": "stream",
          "name": "stdout",
          "text": [
            "Color: Red\n",
            "Speed: 120\n",
            "Brand: Toyota\n"
          ]
        }
      ]
    },
    {
      "cell_type": "markdown",
      "source": [
        "## ***4. Explain the concept of method overriding in inheritance. Provide a practical example.***"
      ],
      "metadata": {
        "id": "9VdOKXC13Iwg"
      }
    },
    {
      "cell_type": "markdown",
      "source": [
        "\n",
        "\n",
        "\n",
        "In **<font color='red'>inheritance</font>**, **<font color='red'>method overriding</font>** refers to the ability of a **<font color='red'>child class</font>** to provide a specific implementation of a method that is already defined in its **<font color='red'>parent class</font>**. This means that the child class can define a method with the same name and signature as the method in the parent class, effectively replacing or overriding the behavior of the parent class method.\n",
        "\n",
        "**<font color='red'>Method overriding</font>** is commonly used to customize or extend the behavior of a parent class method in the context of a child class, allowing for more flexibility and specialization in **<font color='red'>object-oriented programming</font>**.\n",
        "\n",
        "Here's a practical example:\n",
        "\n",
        "\n"
      ],
      "metadata": {
        "id": "PAx-4DUL3I6c"
      }
    },
    {
      "cell_type": "code",
      "source": [
        "class Animal:\n",
        "    def make_sound(self):\n",
        "        return \"Some generic sound\"\n",
        "\n",
        "class Dog(Animal):\n",
        "    def make_sound(self):\n",
        "        return \"Woof!\"\n",
        "\n",
        "class Cat(Animal):\n",
        "    def make_sound(self):\n",
        "        return \"Meow!\"\n",
        "\n",
        "# Create instances of Dog and Cat\n",
        "dog = Dog()\n",
        "cat = Cat()\n",
        "\n",
        "# Call make_sound method on each instance\n",
        "print(\"Dog says:\", dog.make_sound())  # Output: Dog says: Woof!\n",
        "print(\"Cat says:\", cat.make_sound())  # Output: Cat says: Meow!"
      ],
      "metadata": {
        "colab": {
          "base_uri": "https://localhost:8080/"
        },
        "id": "-k5fDHvX2saq",
        "outputId": "726a0de9-0118-4259-d46d-647ac71c0747"
      },
      "execution_count": null,
      "outputs": [
        {
          "output_type": "stream",
          "name": "stdout",
          "text": [
            "Dog says: Woof!\n",
            "Cat says: Meow!\n"
          ]
        }
      ]
    },
    {
      "cell_type": "markdown",
      "source": [
        "<font color='red'>In this example,</font>\n",
        "- the <font color='red'>Animal</font> class has a method called <font color='red'>make_sound</font> that returns a generic sound.\n",
        "- The <font color='red'>Dog</font> and <font color='red'>Cat</font> classes inherit from the <font color='red'>Animal</font> class and override the <font color='red'>make_sound</font> method with their specific implementations for the sounds they make.\n",
        "- When <font color='red'>make_sound</font> is called on instances of <font color='red'>Dog</font> and <font color='red'>Cat</font>, it returns the appropriate sound for each animal."
      ],
      "metadata": {
        "id": "cfJ_WEIM3YRI"
      }
    },
    {
      "cell_type": "markdown",
      "source": [
        "## ***5. How can you access the methods and attributes of a parent class from a child class in Python? Give an example.***"
      ],
      "metadata": {
        "id": "f_D1Ym2I3l3U"
      }
    },
    {
      "cell_type": "markdown",
      "source": [
        "\n",
        "In Python, you can access the methods and attributes of a parent class from a child class using the **<font color='red'>super()</font>** function. The **<font color='red'>super()</font>** function returns a proxy object that allows you to call methods of the parent class.\n",
        "\n",
        "Here's an example:\n",
        "\n"
      ],
      "metadata": {
        "id": "xWg3LObQ3mDq"
      }
    },
    {
      "cell_type": "code",
      "source": [
        "class Parent:\n",
        "    def __init__(self, name):\n",
        "        self.name = name\n",
        "\n",
        "    def greet(self):\n",
        "        return f\"Hello, I'm {self.name}\"\n",
        "\n",
        "class Child(Parent):\n",
        "    def __init__(self, name, age):\n",
        "        super().__init__(name)  # Call the __init__() method of the parent class\n",
        "        self.age = age\n",
        "\n",
        "    def greet(self):\n",
        "        parent_greeting = super().greet()  # Access the greet() method of the parent class\n",
        "        return f\"{parent_greeting} and I'm {self.age} years old\"\n",
        "\n",
        "# Create an instance of Child\n",
        "child = Child(\"Alice\", 10)\n",
        "\n",
        "# Access parent class attribute and method from the child class\n",
        "print(\"Name:\", child.name)  # Output: Name: Alice\n",
        "print(\"Greeting:\", child.greet())  # Output: Greeting: Hello, I'm Alice and I'm 10 years old"
      ],
      "metadata": {
        "colab": {
          "base_uri": "https://localhost:8080/"
        },
        "id": "CpGybiL-3Rln",
        "outputId": "8b3ff6e0-fa81-460b-b0dc-c2e82ddcdff8"
      },
      "execution_count": null,
      "outputs": [
        {
          "output_type": "stream",
          "name": "stdout",
          "text": [
            "Name: Alice\n",
            "Greeting: Hello, I'm Alice and I'm 10 years old\n"
          ]
        }
      ]
    },
    {
      "cell_type": "markdown",
      "source": [
        "In this example,\n",
        "- the <font color='red'>Child</font> class inherits from the <font color='red'>Parent</font> class.\n",
        "- Inside the <font color='red'>Child</font> class, the <font color='red'>super()</font> function is used to call the <font color='red'>init()</font> method of the parent class to initialize the <font color='red'>name</font> attribute.\n",
        "- Similarly, the <font color='red'>super()</font> function is used to access the <font color='red'>greet()</font> method of the parent class to obtain the parent's greeting message, which is then extended with the child's age."
      ],
      "metadata": {
        "id": "R-S2uWkh4OyN"
      }
    },
    {
      "cell_type": "markdown",
      "source": [
        "## ***6. Discuss the use of the `super()` function in Python inheritance. When and why is it used? Provide an example.***"
      ],
      "metadata": {
        "id": "O3BqABjJ4ePk"
      }
    },
    {
      "cell_type": "markdown",
      "source": [
        "6. Discuss the use of the **<font color='red'>super()</font>** function in Python **<font color='red'>inheritance</font>**. When and why is it used? Provide an example.\n",
        "\n",
        "In Python, the **<font color='red'>super()</font>** function is used in the context of **<font color='red'>inheritance</font>** to call methods and access attributes of the **<font color='red'>parent class</font>** from a **<font color='red'>child class</font>**.\n",
        "\n",
        "The **<font color='red'>super()</font>** function returns a proxy object that allows you to invoke methods and access attributes of the parent class. It provides a way to delegate method calls to the parent class without explicitly naming the parent class, making the code more flexible and maintainable, especially in cases of multiple inheritance.\n",
        "\n",
        "**<font color='red'>super()</font>** is typically used inside the methods of a child class to call the corresponding methods of the parent class, allowing for method overriding and extension.\n",
        "\n",
        "Here's an example:\n",
        "\n",
        "\n"
      ],
      "metadata": {
        "id": "VCUP0NAg-31f"
      }
    },
    {
      "cell_type": "code",
      "source": [
        "class Parent:\n",
        "    def __init__(self, name):\n",
        "        self.name = name\n",
        "\n",
        "    def greet(self):\n",
        "        return f\"Hello, I'm {self.name}\"\n",
        "\n",
        "class Child(Parent):\n",
        "    def __init__(self, name, age):\n",
        "        super().__init__(name)  # Call the __init__() method of the parent class\n",
        "        self.age = age\n",
        "\n",
        "    def greet(self):\n",
        "        parent_greeting = super().greet()  # Access the greet() method of the parent class\n",
        "        return f\"{parent_greeting} and I'm {self.age} years old\"\n",
        "\n",
        "# Create an instance of Child\n",
        "child = Child(\"Alice\", 10)\n",
        "\n",
        "# Call the greet() method of the Child class\n",
        "print(child.greet())  # Output: Hello, I'm Alice and I'm 10 years old"
      ],
      "metadata": {
        "colab": {
          "base_uri": "https://localhost:8080/"
        },
        "id": "x02ump-U4HYh",
        "outputId": "2e8d984c-82f8-4d8c-e667-a1cb05935cf1"
      },
      "execution_count": null,
      "outputs": [
        {
          "output_type": "stream",
          "name": "stdout",
          "text": [
            "Hello, I'm Alice and I'm 10 years old\n"
          ]
        }
      ]
    },
    {
      "cell_type": "markdown",
      "source": [
        "In this example,\n",
        "- the <font color='red'>Child</font> class inherits from the <font color='red'>Parent</font> class. Inside the <font color='red'>init()</font> method of the <font color='red'>Child</font> class, <font color='red'>super()</font> is used to call the <font color='red'>init()</font> method of the <font color='red'>Parent</font> class to initialize the <font color='red'>name</font> attribute\n",
        "- Similarly, inside the <font color='red'>greet()</font> method of the <font color='red'>Child</font> class, <font color='red'>super()</font> is used to access the <font color='red'>greet()</font> method of the <font color='red'>Parent</font> class and obtain the parent's greeting message, which is then extended with the child's age.\n",
        "\n"
      ],
      "metadata": {
        "id": "_otBubKp_CPV"
      }
    },
    {
      "cell_type": "markdown",
      "source": [
        "## ***7. Create a Python class called `Animal` with a method `speak()`. Then, create child classes `Dog` and `Cat` that inherit from `Animal` and override the `speak()` method. Provide an example of using these classes.***"
      ],
      "metadata": {
        "id": "j4DWMNFX_Rxj"
      }
    },
    {
      "cell_type": "code",
      "source": [
        "class Animal:\n",
        "    def speak(self):\n",
        "        return \"Some generic sound\"\n",
        "\n",
        "class Dog(Animal):\n",
        "    def speak(self):\n",
        "        return \"Woof!\"\n",
        "\n",
        "class Cat(Animal):\n",
        "    def speak(self):\n",
        "        return \"Meow!\"\n",
        "\n",
        "# Example of using the classes\n",
        "dog = Dog()\n",
        "cat = Cat()\n",
        "\n",
        "print(\"Dog says:\", dog.speak())  # Output: Dog says: Woof!\n",
        "print(\"Cat says:\", cat.speak())  # Output: Cat says: Meow!"
      ],
      "metadata": {
        "colab": {
          "base_uri": "https://localhost:8080/"
        },
        "id": "PcGW5bm3--ex",
        "outputId": "958145bc-d4a2-4367-a30f-3f7a2c2fd925"
      },
      "execution_count": null,
      "outputs": [
        {
          "output_type": "stream",
          "name": "stdout",
          "text": [
            "Dog says: Woof!\n",
            "Cat says: Meow!\n"
          ]
        }
      ]
    },
    {
      "cell_type": "markdown",
      "source": [
        "In this example,\n",
        "- the <font color='red'>Animal</font> class has a method called <font color='red'>speak()</font> that returns a generic sound. - The <font color='red'>Dog</font> and <font color='red'>Cat</font> classes inherit from the <font color='red'>Animal</font> class and override the <font color='red'>speak()</font> method with their specific implementations for the sounds they make.\n",
        "- When <font color='red'>speak()</font> is called on instances of <font color='red'>Dog</font> and <font color='red'>Cat</font>, it returns the appropriate sound for each animal."
      ],
      "metadata": {
        "id": "CRuG9ahd_kfM"
      }
    },
    {
      "cell_type": "markdown",
      "source": [
        "## **8. Explain the role of the `isinstance()` function in Python and how it relates to inheritance.**"
      ],
      "metadata": {
        "id": "g2JUTRkYDu0U"
      }
    },
    {
      "cell_type": "markdown",
      "source": [
        "**8.** Explain the role of the **<font color='red'>isinstance()</font>** function in Python and how it relates to **<font color='red'>inheritance</font>**.\n",
        "\n",
        "The **<font color='red'>isinstance()</font>** function in Python is used to determine whether an object is an instance of a particular class or of a subclass of that class. It takes two arguments: the object to be checked and the class (or a tuple of classes) to check against. The function returns **<font color='red'>True</font>** if the object is an instance of the specified class or subclass, and **<font color='red'>False</font>** otherwise.\n",
        "\n",
        "The role of the **<font color='red'>isinstance()</font>** function in Python is closely related to **<font color='red'>inheritance</font>**. Here's how it relates to inheritance:\n",
        "\n",
        "1. **Checking Object Types**: **<font color='red'>isinstance()</font>** allows you to check the type of an object at runtime. This is particularly useful when dealing with polymorphic behavior, where objects of different classes share a common interface or superclass.\n",
        "\n",
        "2. **Dynamic Dispatch**: In languages that support polymorphism, like Python, methods can be dynamically dispatched based on the actual type of the object at runtime. **<font color='red'>isinstance()</font>** helps in determining the appropriate method to call based on the type of the object.\n",
        "\n",
        "3. **Inheritance Hierarchy**: Since **<font color='red'>isinstance()</font>** can check for subclasses as well, it plays a crucial role in working with inheritance hierarchies. You can use **<font color='red'>isinstance()</font>** to determine if an object belongs to a specific class or any of its subclasses, facilitating flexible and robust code design.\n",
        "\n",
        "4. **Code Validation and Error Handling**: **<font color='red'>isinstance()</font>** is often used in code validation and error handling to ensure that the input received is of the expected type or subtype. It helps in enforcing type constraints and improving the reliability of the code.\n",
        "\n",
        "Here's an example\n"
      ],
      "metadata": {
        "id": "gju8XwkWDvR1"
      }
    },
    {
      "cell_type": "code",
      "source": [
        "class Animal:\n",
        "    pass\n",
        "\n",
        "class Dog(Animal):\n",
        "    pass\n",
        "\n",
        "class Cat(Animal):\n",
        "    pass\n",
        "\n",
        "# Create instances of Dog and Cat\n",
        "dog = Dog()\n",
        "cat = Cat()\n",
        "\n",
        "# Check if instances are of specific classes or subclasses\n",
        "print(isinstance(dog, Dog))  # Output: True\n",
        "print(isinstance(dog, Animal))  # Output: True\n",
        "print(isinstance(cat, Cat))  # Output: True\n",
        "print(isinstance(cat, Animal))  # Output: True\n",
        "print(isinstance(cat, Dog))  # Output: False\n"
      ],
      "metadata": {
        "colab": {
          "base_uri": "https://localhost:8080/"
        },
        "id": "oWSnEHyu_eMW",
        "outputId": "b4222e50-6ba9-4288-d84f-394a26a0f443"
      },
      "execution_count": null,
      "outputs": [
        {
          "output_type": "stream",
          "name": "stdout",
          "text": [
            "True\n",
            "True\n",
            "True\n",
            "True\n",
            "False\n"
          ]
        }
      ]
    },
    {
      "cell_type": "markdown",
      "source": [
        "In this example, isinstance() is used to check if the instances dog and cat belong to the classes Dog, Animal, or their subclasses. The function returns True for the appropriate checks based on the inheritance hierarchy."
      ],
      "metadata": {
        "id": "SMcbiBQIEKUK"
      }
    },
    {
      "cell_type": "markdown",
      "source": [
        "## ***9. What is the purpose of the `issubclass()` function in Python? Provide an example.***"
      ],
      "metadata": {
        "id": "pG1aw7sEETbx"
      }
    },
    {
      "cell_type": "markdown",
      "source": [
        "The **<font color='red'>issubclass()</font>** function in Python is used to determine whether a given class is a subclass of another class. It takes two arguments: the potential subclass and the potential superclass. If the first argument is indeed a subclass of the second argument, the function returns **<font color='red'>True</font>**; otherwise, it returns **<font color='red'>False</font>**.\n",
        "\n",
        "The purpose of the **<font color='red'>issubclass()</font>** function is to provide a convenient way to check the inheritance relationship between classes in Python.\n",
        "\n",
        "Here's an example:\n",
        "\n",
        "\n",
        "\n",
        "\n"
      ],
      "metadata": {
        "id": "RpSQ4KzZETov"
      }
    },
    {
      "cell_type": "code",
      "source": [
        "class Animal:\n",
        "    pass\n",
        "\n",
        "class Dog(Animal):\n",
        "    pass\n",
        "\n",
        "class Cat(Animal):\n",
        "    pass\n",
        "\n",
        "# Check if Dog is a subclass of Animal\n",
        "print(issubclass(Dog, Animal))  # Output: True\n",
        "\n",
        "# Check if Cat is a subclass of Animal\n",
        "print(issubclass(Cat, Animal))  # Output: True\n",
        "\n",
        "# Check if Animal is a subclass of Dog (this will return False)\n",
        "print(issubclass(Animal, Dog))  # Output: False"
      ],
      "metadata": {
        "colab": {
          "base_uri": "https://localhost:8080/"
        },
        "id": "RFB6C0CdD8oa",
        "outputId": "b0e46a25-5ac3-406d-aa0e-0fc0bbfbb7ba"
      },
      "execution_count": null,
      "outputs": [
        {
          "output_type": "stream",
          "name": "stdout",
          "text": [
            "True\n",
            "True\n",
            "False\n"
          ]
        }
      ]
    },
    {
      "cell_type": "markdown",
      "source": [
        "In this example,\n",
        "- we have three classes: <font color='red'>Animal</font>, <font color='red'>Dog</font>, and <font color='red'>Cat</font>. We use the <font color='red'>issubclass()</font> function to check if <font color='red'>Dog</font> and <font color='red'>Cat</font> are subclasses of <font color='red'>Animal</font>, which they are.\n",
        "- Then, we check if <font color='red'>Animal</font> is a subclass of <font color='red'>Dog</font>, which returns <font color='red'>False</font> because <font color='red'>Animal</font> is the superclass in this case."
      ],
      "metadata": {
        "id": "j5p9YSW8GSzz"
      }
    },
    {
      "cell_type": "markdown",
      "source": [
        "## ***10. Discuss the concept of constructor inheritance in Python. How are constructors inherited in child classes?***"
      ],
      "metadata": {
        "id": "rgyCw7VVGcUR"
      }
    },
    {
      "cell_type": "markdown",
      "source": [
        "\n",
        "\n",
        "Constructor inheritance in Python refers to the mechanism by which child classes inherit the behavior of constructors (i.e., **<font color='red'>__init__</font>** methods) from their parent classes. When a child class is created, if it does not define its own constructor, it automatically inherits the constructor of its parent class. This means that the child class can utilize the initialization logic defined in the parent class constructor without explicitly redefining it.\n",
        "\n",
        "Here's how constructors are inherited in child classes:\n",
        "\n",
        "1. **Automatic Inheritance**: If a child class does not explicitly define its own constructor, Python automatically looks for and inherits the constructor from its parent class.\n",
        "\n",
        "2. **Superclass Initialization**: When the child class constructor is called, it automatically calls the constructor of the parent class using the **<font color='red'>super()</font>** function. This ensures that any initialization logic defined in the parent class constructor is executed before the child class constructor's code.\n",
        "\n",
        "3. **Extension and Customization**: Child classes can extend or customize the behavior of the inherited constructor by adding additional parameters or initialization logic. They can also override the parent class constructor entirely if needed.\n",
        "\n",
        "4. **Multiple Inheritance**: In the case of multiple inheritance, constructors are inherited from the first parent class listed in the class definition order.\n",
        "\n",
        "Here's a simple example to illustrate constructor inheritance in Python:\n",
        "\n",
        "\n"
      ],
      "metadata": {
        "id": "OuxE8Vg7GcjN"
      }
    },
    {
      "cell_type": "code",
      "source": [
        "class Parent:\n",
        "    def __init__(self, name):\n",
        "        self.name = name\n",
        "        print(\"Parent constructor called\")\n",
        "\n",
        "class Child(Parent):\n",
        "    def __init__(self, name, age):\n",
        "        super().__init__(name)  # Call the constructor of the parent class\n",
        "        self.age = age\n",
        "        print(\"Child constructor called\")\n",
        "\n",
        "# Creating an instance of the Child class\n",
        "child = Child(\"Alice\", 10)\n"
      ],
      "metadata": {
        "colab": {
          "base_uri": "https://localhost:8080/"
        },
        "id": "Y5cNNLOsGQLd",
        "outputId": "9e819ce7-1412-4bf1-ecfd-6ae7ba6b58a7"
      },
      "execution_count": null,
      "outputs": [
        {
          "output_type": "stream",
          "name": "stdout",
          "text": [
            "Parent constructor called\n",
            "Child constructor called\n"
          ]
        }
      ]
    },
    {
      "cell_type": "markdown",
      "source": [
        "In this example, the Child class inherits the constructor from the Parent class because it does not define its own constructor. When an instance of the Child class is created, both the constructor of the Parent class and the constructor of the Child class are executed. The super().__init__(name) line in the Child class constructor explicitly calls the constructor of the Parent class, ensuring that the initialization logic defined in the Parent class is executed first."
      ],
      "metadata": {
        "id": "kBeUypdsHafH"
      }
    },
    {
      "cell_type": "markdown",
      "source": [
        "## ***11. Create a Python class called `Shape` with a method `area()` that calculates the area of a shape. Then, create child classes `Circle` and `Rectangle` that inherit from `Shape` and implement the `area()` method accordingly. Provide an example.***"
      ],
      "metadata": {
        "id": "25fEMGyAoneU"
      }
    },
    {
      "cell_type": "code",
      "source": [
        "class Shape:\n",
        "    def area(self):\n",
        "        pass  # Placeholder method to be overridden in child classes\n",
        "\n",
        "class Circle(Shape):\n",
        "    def __init__(self, radius):\n",
        "        self.radius = radius\n",
        "\n",
        "    def area(self):\n",
        "        return 3.14 * self.radius ** 2  # Area of a circle: π * r^2\n",
        "\n",
        "class Rectangle(Shape):\n",
        "    def __init__(self, width, height):\n",
        "        self.width = width\n",
        "        self.height = height\n",
        "\n",
        "    def area(self):\n",
        "        return self.width * self.height  # Area of a rectangle: width * height\n",
        "\n",
        "# Example of using the classes\n",
        "circle = Circle(5)\n",
        "print(\"Area of the circle:\", circle.area())  # Output: Area of the circle: 78.5\n",
        "\n",
        "rectangle = Rectangle(4, 6)\n",
        "print(\"Area of the rectangle:\", rectangle.area())  # Output: Area of the rectangle: 24\n"
      ],
      "metadata": {
        "id": "hqfnv5EcGroV",
        "colab": {
          "base_uri": "https://localhost:8080/"
        },
        "outputId": "80dd3c0b-ea7b-4e5b-c2dd-cf9b69da05d0"
      },
      "execution_count": 1,
      "outputs": [
        {
          "output_type": "stream",
          "name": "stdout",
          "text": [
            "Area of the circle: 78.5\n",
            "Area of the rectangle: 24\n"
          ]
        }
      ]
    },
    {
      "cell_type": "markdown",
      "source": [
        "In this example:\n",
        "\n",
        "- The Shape class defines a method area() with a placeholder implementation, meant to be overridden by its child classes.\n",
        "- The Circle class inherits from Shape and implements its own area() method to calculate the area of a circle using the formula π * r^2.\n",
        "- The Rectangle class also inherits from Shape and implements its own area() method to calculate the area of a rectangle using the formula width * height.\n",
        "- Instances of Circle and Rectangle are created, and the area() method is called on each to calculate their respective areas."
      ],
      "metadata": {
        "id": "L-2nT5ajonvH"
      }
    },
    {
      "cell_type": "markdown",
      "source": [
        "## ***12. Explain the use of abstract base classes (ABCs) in Python and how they relate to inheritance. Provide an example using the `abc` module.***"
      ],
      "metadata": {
        "id": "BclJ2gphcg0R"
      }
    },
    {
      "cell_type": "markdown",
      "source": [
        "Abstract Base Classes (ABCs) in Python serve as a way to define a blueprint for classes, specifying a set of methods that must be implemented by any subclass. ABCs help in enforcing a common interface among related classes, ensuring that they adhere to a certain protocol or behavior.\n",
        "\n",
        "ABCs are typically used in scenarios where you want to create a family of classes that share some common functionality but may have different implementations for certain methods. By defining an **abstract base class** with **abstract methods**, you can provide a common interface for these classes, making it easier to work with them in a consistent manner.\n",
        "\n",
        "In Python, ABCs are implemented using the **`abc` module**. This module provides the **`ABC`** class as a base class for defining abstract base classes, as well as the **`abstractmethod`** decorator for marking methods as abstract.\n"
      ],
      "metadata": {
        "id": "_qCws2MqchN9"
      }
    },
    {
      "cell_type": "code",
      "source": [
        "from abc import ABC, abstractmethod\n",
        "\n",
        "class Shape(ABC):\n",
        "    @abstractmethod\n",
        "    def area(self):\n",
        "        pass\n",
        "\n",
        "class Circle(Shape):\n",
        "    def __init__(self, radius):\n",
        "        self.radius = radius\n",
        "\n",
        "    def area(self):\n",
        "        return 3.14 * self.radius ** 2\n",
        "\n",
        "class Rectangle(Shape):\n",
        "    def __init__(self, width, height):\n",
        "        self.width = width\n",
        "        self.height = height\n",
        "\n",
        "    def area(self):\n",
        "        return self.width * self.height\n",
        "\n",
        "# Create instances of Circle and Rectangle\n",
        "circle = Circle(5)\n",
        "rectangle = Rectangle(4, 6)\n",
        "\n",
        "# Call the area() method on each instance\n",
        "print(\"Area of the circle:\", circle.area())  # Output: Area of the circle: 78.5\n",
        "print(\"Area of the rectangle:\", rectangle.area())  # Output: Area of the rectangle: 24\n"
      ],
      "metadata": {
        "colab": {
          "base_uri": "https://localhost:8080/"
        },
        "id": "ajNQBSGzpCXl",
        "outputId": "39efdd1f-6c94-4145-ae71-a47a5094a14a"
      },
      "execution_count": 1,
      "outputs": [
        {
          "output_type": "stream",
          "name": "stdout",
          "text": [
            "Area of the circle: 78.5\n",
            "Area of the rectangle: 24\n"
          ]
        }
      ]
    },
    {
      "cell_type": "markdown",
      "source": [
        "In this example:\n",
        "\n",
        "- The Shape class is defined as an abstract base class (ABC) with an abstract method area().\n",
        "- The Circle and Rectangle classes inherit from Shape and provide concrete implementations for the area() method.\n",
        "- Instances of Circle and Rectangle are created, and the area() method is called on each, demonstrating polymorphic behavior enforced by the common interface provided by the Shape abstract base class."
      ],
      "metadata": {
        "id": "bvAO3rfRdoyH"
      }
    },
    {
      "cell_type": "markdown",
      "source": [
        "## ***13. How can you prevent a child class from modifying certain attributes or methods inherited from a parent class in Python?***"
      ],
      "metadata": {
        "id": "xL1R0VBidybi"
      }
    },
    {
      "cell_type": "markdown",
      "source": [
        "\n",
        "\n",
        "In Python, you can prevent a child class from modifying certain attributes or methods inherited from a parent class by following these approaches:\n",
        "\n",
        "1. <font color='red'>**Using Name Mangling**</font>: Prefix the attribute or method name with double underscores (`__`) in the parent class. This will enforce name mangling, making it difficult for the child class to access or modify the attribute or method directly.\n",
        "\n",
        "2. <font color='red'>**Using Properties**</font>: Define properties with getter methods in the parent class for the attributes you want to protect. By only providing a getter method and no setter method, you prevent the child class from modifying the attribute directly.\n",
        "\n",
        "3. <font color='red'>**Overriding Methods**</font>: If a method in the parent class is not meant to be modified by the child class, you can make it final by not providing an implementation in the child class. This effectively prevents the child class from overriding the method.\n",
        "\n",
        "4. <font color='red'>**Using Composition**</font>: Instead of inheritance, use composition to include instances of the parent class in the child class. This gives you more control over which methods and attributes of the parent class are accessible to the child class.\n",
        "\n",
        "Here's an example demonstrating some of these approaches:"
      ],
      "metadata": {
        "id": "UWmMvjOtdyks"
      }
    },
    {
      "cell_type": "code",
      "source": [
        "class Parent:\n",
        "    def __init__(self):\n",
        "        self.__private_attr = 10  # Name mangling for private attribute\n",
        "\n",
        "    def get_private_attr(self):\n",
        "        return self.__private_attr\n",
        "\n",
        "    def __private_method(self):  # Name mangling for private method\n",
        "        print(\"This is a private method.\")\n",
        "\n",
        "    def public_method(self):\n",
        "        print(\"This is a public method.\")\n",
        "        self.__private_method()\n",
        "\n",
        "class Child(Parent):\n",
        "    def __init__(self):\n",
        "        super().__init__()\n",
        "\n",
        "    # Attempting to override the private method\n",
        "    # def __private_method(self):\n",
        "    #     print(\"Child class trying to override the private method.\")\n",
        "\n",
        "    # Attempting to modify the private attribute\n",
        "    # def modify_private_attr(self, value):\n",
        "    #     self.__private_attr = value\n",
        "\n",
        "# Example\n",
        "parent = Parent()\n",
        "child = Child()\n",
        "\n",
        "print(\"Parent's private attribute:\", parent.get_private_attr())  # Output: Parent's private attribute: 10\n",
        "\n",
        "# Attempting to modify the private attribute directly\n",
        "# child.modify_private_attr(20)\n",
        "\n",
        "parent.public_method()  # Output: This is a public method. \\n This is a private method.\n",
        "# Attempting to override the private method\n",
        "# child.__private_method()\n"
      ],
      "metadata": {
        "colab": {
          "base_uri": "https://localhost:8080/"
        },
        "id": "BJ4h2qxoc17A",
        "outputId": "b65e5a6f-a3f9-44d8-e13c-508cbac446fd"
      },
      "execution_count": 2,
      "outputs": [
        {
          "output_type": "stream",
          "name": "stdout",
          "text": [
            "Parent's private attribute: 10\n",
            "This is a public method.\n",
            "This is a private method.\n"
          ]
        }
      ]
    },
    {
      "cell_type": "markdown",
      "source": [
        "In this example, the <font color='red'>Parent</font> class defines a private attribute and a private method using name mangling.\n",
        "\n",
        "It also has a public method that calls the private method. The <font color='red'>Child</font> class inherits from <font color='red'>Parent</font>.\n",
        "\n",
        " By default, the child class cannot modify the private attribute or override the private method. Uncomment the commented lines to see the errors or modify the code behavior."
      ],
      "metadata": {
        "id": "qnJNclkOeliG"
      }
    },
    {
      "cell_type": "markdown",
      "source": [
        "## ***14. Create a Python class called `Employee` with attributes `name` and `salary`. Then, create a child class`Manager` that inherits from `Employee` and adds an attribute `department`. Provide an example.***"
      ],
      "metadata": {
        "id": "Dz4AFXQIetww"
      }
    },
    {
      "cell_type": "code",
      "source": [
        "class Employee:\n",
        "    def __init__(self, name, salary):\n",
        "        self.name = name\n",
        "        self.salary = salary\n",
        "\n",
        "class Manager(Employee):\n",
        "    def __init__(self, name, salary, department):\n",
        "        super().__init__(name, salary)\n",
        "        self.department = department\n",
        "\n",
        "# Example of using the classes\n",
        "employee = Employee(\"John Doe\", 50000)\n",
        "manager = Manager(\"Jane Smith\", 70000, \"Engineering\")\n",
        "\n",
        "print(\"Employee:\", employee.name, \", Salary:\", employee.salary)\n",
        "print(\"Manager:\", manager.name, \", Salary:\", manager.salary, \", Department:\", manager.department)\n"
      ],
      "metadata": {
        "colab": {
          "base_uri": "https://localhost:8080/"
        },
        "id": "VVbspcLzeNEY",
        "outputId": "7c0912a8-efb4-4a58-db5e-348eeb59455f"
      },
      "execution_count": 3,
      "outputs": [
        {
          "output_type": "stream",
          "name": "stdout",
          "text": [
            "Employee: John Doe , Salary: 50000\n",
            "Manager: Jane Smith , Salary: 70000 , Department: Engineering\n"
          ]
        }
      ]
    },
    {
      "cell_type": "markdown",
      "source": [
        "In this example:\n",
        "\n",
        "- The Employee class is defined with attributes name and salary.\n",
        "- The Manager class inherits from Employee and adds an additional attribute department.\n",
        "- Instances of Employee and Manager are created, and their attributes are printed to demonstrate the functionality."
      ],
      "metadata": {
        "id": "qghrAfFaet61"
      }
    },
    {
      "cell_type": "markdown",
      "source": [
        "## ***15. Discuss the concept of method overloading in Python inheritance. How does it differ from method overriding?***"
      ],
      "metadata": {
        "id": "uymdU6SUfFq3"
      }
    },
    {
      "cell_type": "markdown",
      "source": [
        "Method overloading in Python refers to defining multiple methods in a class with the same name but with different parameters. This allows a single method name to perform different actions based on the number or type of parameters passed to it. Python does not support traditional method overloading like some other programming languages (e.g., Java), where methods with the same name but different signatures can coexist within the same class.\n",
        "\n",
        "However, you can achieve method overloading in Python using default parameter values or variable-length argument lists. With default parameter values, you can define a single method with optional parameters, allowing it to be called with different numbers of arguments. With variable-length argument lists (using *args or **kwargs), you can define a method that accepts any number of positional or keyword arguments.\n",
        "\n",
        "Here's an example demonstrating method overloading using default parameter values:"
      ],
      "metadata": {
        "id": "7tPC762PfFyq"
      }
    },
    {
      "cell_type": "code",
      "source": [
        "class Calculator:\n",
        "    def add(self, a, b=0):  # Method overloading with default parameter values\n",
        "        return a + b\n",
        "\n",
        "# Example of using the Calculator class\n",
        "calculator = Calculator()\n",
        "print(\"Sum with one argument:\", calculator.add(5))  # Output: Sum with one argument: 5\n",
        "print(\"Sum with two arguments:\", calculator.add(5, 3))  # Output: Sum with two arguments: 8\n"
      ],
      "metadata": {
        "colab": {
          "base_uri": "https://localhost:8080/"
        },
        "id": "VKXxss49fE_e",
        "outputId": "3bed33b6-4516-4793-b90b-4512a71dc337"
      },
      "execution_count": 4,
      "outputs": [
        {
          "output_type": "stream",
          "name": "stdout",
          "text": [
            "Sum with one argument: 5\n",
            "Sum with two arguments: 8\n"
          ]
        }
      ]
    },
    {
      "cell_type": "markdown",
      "source": [
        "In contrast, method overriding occurs when a subclass provides a specific implementation of a method that is already defined in its superclass.\n",
        "- The method in the subclass has the same name and signature (i.e., parameters) as the method in the superclass. When an instance of the subclass calls the overridden method, the implementation in the subclass is executed instead of the one in the superclass.\n",
        "\n",
        "Here's an example demonstrating method overriding:"
      ],
      "metadata": {
        "id": "mpTbNRRGgYy-"
      }
    },
    {
      "cell_type": "code",
      "source": [
        "class Animal:\n",
        "    def make_sound(self):\n",
        "        print(\"Some generic sound\")\n",
        "\n",
        "class Dog(Animal):\n",
        "    def make_sound(self):  # Method overriding\n",
        "        print(\"Woof!\")\n",
        "\n",
        "# Example of using the Dog class\n",
        "dog = Dog()\n",
        "dog.make_sound()  # Output: Woof!\n"
      ],
      "metadata": {
        "colab": {
          "base_uri": "https://localhost:8080/"
        },
        "id": "5XqdrhvTgVox",
        "outputId": "b318e7e0-5b12-4741-a20a-19f3478f0806"
      },
      "execution_count": 5,
      "outputs": [
        {
          "output_type": "stream",
          "name": "stdout",
          "text": [
            "Woof!\n"
          ]
        }
      ]
    },
    {
      "cell_type": "markdown",
      "source": [
        "In this example, the Dog class overrides the make_sound() method inherited from the Animal class with its own implementation. When dog.make_sound() is called, it prints \"Woof!\" instead of the generic sound defined in the Animal class."
      ],
      "metadata": {
        "id": "1byPae_Jgqol"
      }
    },
    {
      "cell_type": "markdown",
      "source": [
        "## ***16. Explain the purpose of the `__init__()` method in Python inheritance and how it is utilized in child classes.***"
      ],
      "metadata": {
        "id": "g7Uidr6IgsCk"
      }
    },
    {
      "cell_type": "markdown",
      "source": [
        "In Python, the <font color=\"red\"><b>`__init__()`</b></font> method serves as a constructor for a class. It is automatically called when you create a new instance of a class. The primary purpose of <font color=\"red\"><b>`__init__()`</b></font> is to initialize the attributes of the class instance to their initial values.\n",
        "\n",
        "When it comes to inheritance, the <font color=\"red\"><b>`__init__()`</b></font> method plays a crucial role in child classes as well. When a child class inherits from a parent class, it can either <font color=\"red\"><b>override</b></font> the <font color=\"red\"><b>`__init__()`</b></font> method of the parent class or <font color=\"red\"><b>extend</b></font> it.\n",
        "\n",
        "Here's how it works:\n",
        "\n",
        "1. <font color=\"red\"><b>Overriding</b></font> <font color=\"red\"><b>`__init__()`</b></font> method: If the child class defines its own <font color=\"red\"><b>`__init__()`</b></font> method, it overrides the parent class's <font color=\"red\"><b>`__init__()`</b></font> method. However, if you still want to utilize the parent class's <font color=\"red\"><b>`__init__()`</b></font> method within the child class's <font color=\"red\"><b>`__init__()`</b></font> method, you need to explicitly call it using <font color=\"red\"><b>`super()`</b></font>:\n",
        "\n",
        "    ```python\n",
        "    class Parent:\n",
        "        def __init__(self, x):\n",
        "            self.x = x\n",
        "\n",
        "    class Child(Parent):\n",
        "        def __init__(self, x, y):\n",
        "            super().__init__(x)  # Call parent's __init__() method\n",
        "            self.y = y\n",
        "    ```\n",
        "\n",
        "    In this example, the <font color=\"red\"><b>`Child`</b></font> class overrides the <font color=\"red\"><b>`__init__()`</b></font> method of the <font color=\"red\"><b>`Parent`</b></font> class but still utilizes it to initialize the <font color=\"red\"><b>`x`</b></font> attribute.\n",
        "\n",
        "2. <font color=\"red\"><b>Extending</b></font> <font color=\"red\"><b>`__init__()`</b></font> method: If the child class wants to add additional initialization steps without completely overriding the parent class's <font color=\"red\"><b>`__init__()`</b></font> method, it can call the parent class's <font color=\"red\"><b>`__init__()`</b></font> method first and then perform its own initialization:\n",
        "\n",
        "    ```python\n",
        "    class Parent:\n",
        "        def __init__(self, x):\n",
        "            self.x = x\n",
        "\n",
        "    class Child(Parent):\n",
        "        def __init__(self, x, y):\n",
        "            Parent.__init__(self, x)  # Call parent's __init__() method\n",
        "            self.y = y\n",
        "    ```\n",
        "\n",
        "    Here, the <font color=\"red\"><b>`Child`</b></font> class extends the initialization process defined in the <font color=\"red\"><b>`Parent`</b></font> class by first calling the parent's <font color=\"red\"><b>`__init__()`</b></font> method and then initializing its own attribute <font color=\"red\"><b>`y`</b></font>.\n",
        "\n",
        "In summary, the <font color=\"red\"><b>`__init__()`</b></font> method in Python inheritance allows child classes to either <font color=\"red\"><b>override</b></font> or <font color=\"red\"><b>extend</b></font> the initialization behavior defined in the parent class, ensuring that the instance attributes are properly initialized when creating objects of the child class.\n"
      ],
      "metadata": {
        "id": "Rsm2W2VxhokC"
      }
    },
    {
      "cell_type": "markdown",
      "source": [
        "## ***17. Create a Python class called `Bird` with a method `fly()`. Then, create child classes `Eagle` and `Sparrow` that inherit from `Bird` and implement the `fly()` method differently. Provide an example of using these classes.***"
      ],
      "metadata": {
        "id": "EEi3XGrxh1-c"
      }
    },
    {
      "cell_type": "code",
      "source": [
        "class Bird:\n",
        "    def fly(self):\n",
        "        raise NotImplementedError(\"Subclasses must implement the fly() method\")\n",
        "\n",
        "\n",
        "class Eagle(Bird):\n",
        "    def fly(self):\n",
        "        return \"Eagle soaring high\"\n",
        "\n",
        "\n",
        "class Sparrow(Bird):\n",
        "    def fly(self):\n",
        "        return \"Sparrow fluttering around\"\n",
        "\n",
        "\n",
        "# Example usage:\n",
        "eagle = Eagle()\n",
        "print(eagle.fly())  # Output: Eagle soaring high\n",
        "\n",
        "sparrow = Sparrow()\n",
        "print(sparrow.fly())  # Output: Sparrow fluttering around\n"
      ],
      "metadata": {
        "colab": {
          "base_uri": "https://localhost:8080/"
        },
        "id": "JrtDK7mdglUI",
        "outputId": "4c09f89d-fcd7-4b9a-8630-fddc16591788"
      },
      "execution_count": 6,
      "outputs": [
        {
          "output_type": "stream",
          "name": "stdout",
          "text": [
            "Eagle soaring high\n",
            "Sparrow fluttering around\n"
          ]
        }
      ]
    },
    {
      "cell_type": "markdown",
      "source": [
        "In this example:\n",
        "\n",
        "- The Bird class defines a method fly() which raises a NotImplementedError. This method is intended to be overridden by subclasses.\n",
        "\n",
        "- The Eagle class is a subclass of Bird and it overrides the fly() method to implement the behavior of an eagle soaring high.\n",
        "- The Sparrow class is also a subclass of Bird and it overrides the fly() method to implement the behavior of a sparrow fluttering around.\n",
        "- Finally, the example demonstrates how to create instances of Eagle and Sparrow classes and call their fly() methods to see their specific behaviors."
      ],
      "metadata": {
        "id": "86lVc5o8iF2r"
      }
    },
    {
      "cell_type": "markdown",
      "source": [
        "## ***18. What is the \"diamond problem\" in multiple inheritance, and how does Python address it?***"
      ],
      "metadata": {
        "id": "v77GsO_AihYT"
      }
    },
    {
      "cell_type": "markdown",
      "source": [
        "The \"<font color=\"red\"><b>diamond problem</b></font>\" is a common issue that arises in programming languages that support <font color=\"red\"><b>multiple inheritance</b></font>, where a subclass inherits from two or more classes that have a common ancestor. It gets its name from the shape of the inheritance diagram, which forms a diamond shape.\n",
        "\n",
        "Here's an illustration:\n",
        "\n"
      ],
      "metadata": {
        "id": "OF34_hMziMyt"
      }
    },
    {
      "cell_type": "markdown",
      "source": [
        "  A\n",
        " / \\\n",
        "B   C\n",
        " \\ /\n",
        "  D\n",
        "\n",
        "  \n"
      ],
      "metadata": {
        "id": "bMkL-f-viojD"
      }
    },
    {
      "cell_type": "markdown",
      "source": [
        "\n",
        "In this scenario, class <font color=\"red\"><b>D</b></font> inherits from both classes <font color=\"red\"><b>B</b></font> and <font color=\"red\"><b>C</b></font>, which in turn inherit from class <font color=\"red\"><b>A</b></font>. When a method or attribute is called on <font color=\"red\"><b>D</b></font>, there might be ambiguity as to which implementation to use, leading to the <font color=\"red\"><b>diamond problem</b></font>.\n",
        "\n",
        "Python addresses the <font color=\"red\"><b>diamond problem</b></font> by following the <font color=\"red\"><b>C3 Linearization</b></font> algorithm, also known as <font color=\"red\"><b>C3 superclass linearization</b></font>. This algorithm ensures that the <font color=\"red\"><b>method resolution order (MRO)</b></font> is well-defined and consistent, even in cases of <font color=\"red\"><b>multiple inheritance</b></font>. It effectively resolves ambiguity by providing a deterministic order in which methods and attributes are searched for in the class hierarchy.\n",
        "\n",
        "Python's <font color=\"red\"><b>MRO</b></font> algorithm follows these principles:\n",
        "1. <font color=\"red\"><b>Depth-first search</b></font> from left to right.\n",
        "2. Maintain the <font color=\"red\"><b>order of appearance</b></font> in base classes.\n",
        "3. Ensure that a class is always followed by its <font color=\"red\"><b>parents before its siblings</b></font>.\n",
        "\n",
        "By adhering to these principles, Python's <font color=\"red\"><b>MRO</b></font> algorithm ensures that <font color=\"red\"><b>method resolution</b></font> is predictable and unambiguous, effectively addressing the <font color=\"red\"><b>diamond problem</b></font> in <font color=\"red\"><b>multiple inheritance</b></font> scenarios.\n"
      ],
      "metadata": {
        "id": "QynVoUZkisx2"
      }
    },
    {
      "cell_type": "markdown",
      "source": [
        "## **19. Discuss the concept of \"is-a\" and \"has-a\" relationships in inheritance, and provide examples of each**. *italicized text*"
      ],
      "metadata": {
        "id": "A2i5GWx9j3Jz"
      }
    },
    {
      "cell_type": "markdown",
      "source": [
        "The concepts of \"<font color=\"red\"><b>is-a</b></font>\" and \"<font color=\"red\"><b>has-a</b></font>\" relationships are fundamental in object-oriented programming, particularly in the context of inheritance.\n",
        "\n",
        "1. **\"<font color=\"red\">Is-a</font>\" Relationship**:\n",
        "   - An \"<font color=\"red\"><b>is-a</b></font>\" relationship, also known as inheritance or specialization, implies that one class is a subtype of another class. It indicates that an object of one class is also an object of another class, but with some additional specific features or behaviors.\n",
        "   - Inheritance is commonly used to model \"<font color=\"red\"><b>is-a</b></font>\" relationships in object-oriented programming languages.\n",
        "   - Example: Suppose we have a base class <font color=\"red\"><b>`Animal`</b></font>, and subclasses <font color=\"red\"><b>`Dog`</b></font> and <font color=\"red\"><b>`Cat`</b></font>. We can say that \"a <font color=\"red\"><b>`Dog`</b></font> <font color=\"red\"><b>is-an</b></font> <font color=\"red\"><b>`Animal`</b></font>\" and \"a <font color=\"red\"><b>`Cat`</b></font> <font color=\"red\"><b>is-an</b></font> <font color=\"red\"><b>`Animal`</b></font>\". Therefore, <font color=\"red\"><b>`Dog`</b></font> and <font color=\"red\"><b>`Cat`</b></font> inherit common attributes and behaviors from the <font color=\"red\"><b>`Animal`</b></font> class.\n",
        "\n",
        "\n"
      ],
      "metadata": {
        "id": "Y8XnCUqKj-ML"
      }
    },
    {
      "cell_type": "code",
      "source": [
        "class Animal:\n",
        "    def speak(self):\n",
        "        pass\n",
        "\n",
        "class Dog(Animal):\n",
        "    def speak(self):\n",
        "        return \"Woof!\"\n",
        "\n",
        "class Cat(Animal):\n",
        "    def speak(self):\n",
        "        return \"Meow!\"\n",
        "\n",
        "dog = Dog()\n",
        "print(dog.speak())  # Output: Woof!\n",
        "\n",
        "cat = Cat()\n",
        "print(cat.speak())  # Output: Meow!"
      ],
      "metadata": {
        "colab": {
          "base_uri": "https://localhost:8080/"
        },
        "id": "v9uLLW9FiDNY",
        "outputId": "9a83ec39-ba44-4f7e-8944-7b998bde5653"
      },
      "execution_count": 7,
      "outputs": [
        {
          "output_type": "stream",
          "name": "stdout",
          "text": [
            "Woof!\n",
            "Meow!\n"
          ]
        }
      ]
    },
    {
      "cell_type": "markdown",
      "source": [
        "2-\"<font color=\"red\">Has-a</font>\" Relationship:\n",
        "A \"<font color=\"red\"><b>has-a</b></font>\" relationship denotes that one class contains an instance of another class as one of its members.\n",
        "- It implies that an object of one class \"<font color=\"red\"><b>has</b></font>\" another object as a part of its state.\n",
        "- Composition is commonly used to model \"<font color=\"red\"><b>has-a</b></font>\" relationships in object-oriented programming languages.\n",
        "- Example: Suppose we have a class <font color=\"red\"><b>Car</b></font>, which has a <font color=\"red\"><b>Engine</b></font> as one of its components. We can say that \"a <font color=\"red\"><b>Car</b></font> <font color=\"red\"><b>has-a</b></font> <font color=\"red\"><b>Engine</b></font>\"."
      ],
      "metadata": {
        "id": "bNAVFxqekh4X"
      }
    },
    {
      "cell_type": "code",
      "source": [
        "class Engine:\n",
        "    def start(self):\n",
        "        return \"Engine started\"\n",
        "\n",
        "class Car:\n",
        "    def __init__(self):\n",
        "        self.engine = Engine()\n",
        "\n",
        "    def start_engine(self):\n",
        "        return self.engine.start()\n",
        "\n",
        "car = Car()\n",
        "print(car.start_engine())  # Output: Engine started\n"
      ],
      "metadata": {
        "colab": {
          "base_uri": "https://localhost:8080/"
        },
        "id": "ULR3MRR0kZi8",
        "outputId": "9b985ec2-0399-4469-a791-9a47fcf8a019"
      },
      "execution_count": 8,
      "outputs": [
        {
          "output_type": "stream",
          "name": "stdout",
          "text": [
            "Engine started\n"
          ]
        }
      ]
    },
    {
      "cell_type": "markdown",
      "source": [
        "\"<font color=\"red\"><b>Is-a</b></font>\" relationship (inheritance) indicates a hierarchy of classes where one class is a specialized version of another class.\n",
        "\"<font color=\"red\"><b>Has-a</b></font>\" relationship (composition) indicates that one class contains another class as one of its components."
      ],
      "metadata": {
        "id": "ketb8o29k5oa"
      }
    },
    {
      "cell_type": "markdown",
      "source": [
        "## ***20. Create a Python class hierarchy for a university system. Start with a base class `Person` and create child classes `Student` and `Professor`, each with their own attributes and methods. Provide an example of using these classes in a university context.***"
      ],
      "metadata": {
        "id": "DHkVeRBolB8Q"
      }
    },
    {
      "cell_type": "code",
      "source": [
        "class Person:\n",
        "    def __init__(self, name, age):\n",
        "        self.name = name\n",
        "        self.age = age\n",
        "\n",
        "    def introduce(self):\n",
        "        return f\"My name is {self.name} and I am {self.age} years old.\"\n",
        "\n",
        "\n",
        "class Student(Person):\n",
        "    def __init__(self, name, age, student_id):\n",
        "        super().__init__(name, age)\n",
        "        self.student_id = student_id\n",
        "\n",
        "    def study(self):\n",
        "        return f\"{self.name} is studying.\"\n",
        "\n",
        "\n",
        "class Professor(Person):\n",
        "    def __init__(self, name, age, department):\n",
        "        super().__init__(name, age)\n",
        "        self.department = department\n",
        "\n",
        "    def teach(self):\n",
        "        return f\"{self.name} is teaching in the {self.department} department.\"\n",
        "\n",
        "\n",
        "# Example usage:\n",
        "student1 = Student(\"Alice\", 20, \"S12345\")\n",
        "print(student1.introduce())  # Output: My name is Alice and I am 20 years old.\n",
        "print(student1.study())  # Output: Alice is studying.\n",
        "\n",
        "professor1 = Professor(\"Dr. Smith\", 45, \"Computer Science\")\n",
        "print(professor1.introduce())  # Output: My name is Dr. Smith and I am 45 years old.\n",
        "print(professor1.teach())  # Output: Dr. Smith is teaching in the Computer Science department.\n"
      ],
      "metadata": {
        "colab": {
          "base_uri": "https://localhost:8080/"
        },
        "id": "2KY--7Y6k1f5",
        "outputId": "acefbf0b-8b7f-44d3-d0c9-f9bce5235149"
      },
      "execution_count": 9,
      "outputs": [
        {
          "output_type": "stream",
          "name": "stdout",
          "text": [
            "My name is Alice and I am 20 years old.\n",
            "Alice is studying.\n",
            "My name is Dr. Smith and I am 45 years old.\n",
            "Dr. Smith is teaching in the Computer Science department.\n"
          ]
        }
      ]
    },
    {
      "cell_type": "markdown",
      "source": [
        "In this class hierarchy:\n",
        "\n",
        "- Person is the base class representing a generic person with attributes name and age.\n",
        "- Student is a subclass of Person representing a student with an additional attribute student_id and a method study().\n",
        "- Professor is also a subclass of Person representing a professor with an additional attribute department and a method teach().\n",
        "- Each class has its own constructor (__init__() method) to initialize its specific attributes, and a method introduce() to introduce themselves.\n",
        "- The example usage demonstrates how to create instances of Student and Professor classes and call their methods."
      ],
      "metadata": {
        "id": "jq1L7kgllVkW"
      }
    },
    {
      "cell_type": "markdown",
      "source": [
        "## <font color= 'blue'>**Encapsulation:**"
      ],
      "metadata": {
        "id": "GWNXa-jqsMJR"
      }
    },
    {
      "cell_type": "markdown",
      "source": [
        "##**1. Explain the concept of encapsulation in Python. What is its role in object-oriented programming?**"
      ],
      "metadata": {
        "id": "E3V4Cu7gsejw"
      }
    },
    {
      "cell_type": "markdown",
      "source": [
        "**Encapsulation** is a fundamental concept in object-oriented programming (OOP) that refers to the bundling of data (attributes) and methods (functions) that operate on the data into a single unit or class. In Python, **encapsulation** is implemented through classes and their access modifiers (attributes and methods).\n",
        "\n",
        "The role of **encapsulation** in OOP, including Python, is threefold:\n",
        "\n",
        "1. <font color='red'>**Data Hiding**</font>: **Encapsulation** allows the internal representation of an object to be hidden from the outside. This means that the internal state of an object can only be modified by its own methods, preventing external code from directly accessing or modifying the object's data. This helps ensure data integrity and protects the object's internal state from unintended interference.\n",
        "\n",
        "2. <font color='red'>**Abstraction**</font>: **Encapsulation** provides a way to abstract the implementation details of an object's behavior. By exposing only the necessary methods and hiding the underlying implementation details, **encapsulation** allows users of the class to interact with objects at a higher level of abstraction, focusing on what an object does rather than how it does it. This promotes code simplicity, reusability, and maintainability.\n",
        "\n",
        "3. <font color='red'>**Modularity**</font>: **Encapsulation** promotes modularity by encapsulating related data and behavior into a single unit or class. This makes it easier to manage and organize complex systems by breaking them down into smaller, more manageable components. Each class encapsulates a specific set of responsibilities, making it easier to understand, test, and modify individual components without affecting the rest of the system.\n",
        "\n",
        "In Python, **encapsulation** is achieved using access modifiers such as **public**, **protected**, and **private**:\n",
        "\n",
        "- <font color='red'>**Public**</font>: Attributes and methods are accessible from outside the class.\n",
        "- <font color='red'>**Protected**</font>: Attributes and methods are accessible within the class and its subclasses (using a single underscore prefix conventionally).\n",
        "- <font color='red'>**Private**</font>: Attributes and methods are accessible only within the class itself (using a double underscore prefix conventionally).\n",
        "\n",
        "By using these access modifiers, Python allows developers to control the visibility and accessibility of class members, thereby enforcing **encapsulation** principles and promoting good OOP design practices.\n",
        "\n",
        "\n"
      ],
      "metadata": {
        "id": "-5shN2O2tf3A"
      }
    },
    {
      "cell_type": "code",
      "source": [
        "class Car:\n",
        "    def __init__(self, brand):\n",
        "        self._brand = brand  # Protected attribute\n",
        "\n",
        "    def get_brand(self):\n",
        "        return self._brand\n",
        "\n",
        "    def set_brand(self, new_brand):\n",
        "        self._brand = new_brand\n",
        "\n",
        "\n",
        "my_car = Car(\"Toyota\")\n",
        "print(my_car.get_brand())  # Output: Toyota\n",
        "my_car.set_brand(\"Honda\")\n",
        "print(my_car.get_brand())  # Output: Honda\n"
      ],
      "metadata": {
        "colab": {
          "base_uri": "https://localhost:8080/"
        },
        "id": "gwUPMW_FlRtB",
        "outputId": "789a59e6-91eb-4031-cc43-c0af41e87ef6"
      },
      "execution_count": 10,
      "outputs": [
        {
          "output_type": "stream",
          "name": "stdout",
          "text": [
            "Toyota\n",
            "Honda\n"
          ]
        }
      ]
    },
    {
      "cell_type": "markdown",
      "source": [
        "## ***2. Describe the key principles of encapsulation, including access control and data hiding.***"
      ],
      "metadata": {
        "id": "rrgI45QhuTle"
      }
    },
    {
      "cell_type": "markdown",
      "source": [
        "**Encapsulation** is a fundamental principle in object-oriented programming (OOP) that encompasses several key principles, including <font color='red'>**access control**</font> and <font color='red'>**data hiding**</font>. Here's a breakdown of these principles:\n",
        "\n",
        "1. <font color='red'>**Data Hiding**</font>: <font color='red'>**Data hiding**</font> is the principle of restricting access to certain parts of an object, typically its attributes or data members, from outside the object's definition. This is achieved by marking attributes as <font color='red'>**private**</font> or <font color='red'>**protected**</font>, preventing direct access or modification by external code. Instead, access to the object's data is provided through methods or functions, allowing the object to control how its data is accessed and modified.\n",
        "\n",
        "2. <font color='red'>**Access Control**</font>: <font color='red'>**Access control**</font> refers to the mechanisms used to manage the visibility and accessibility of a class's members, including its attributes and methods. In OOP, <font color='red'>**access control**</font> is typically implemented through access modifiers, which specify the level of access that other parts of the program have to a particular member. The three main access modifiers are:\n",
        "\n",
        "    - <font color='red'>**Public**</font>: <font color='red'>**Public**</font> members are accessible from outside the class. They can be freely accessed and modified by any part of the program.\n",
        "    \n",
        "    - <font color='red'>**Protected**</font>: <font color='red'>**Protected**</font> members are accessible within the class and its subclasses. They cannot be accessed directly from outside the class, but can be accessed and modified by subclasses.\n",
        "    \n",
        "    - <font color='red'>**Private**</font>: <font color='red'>**Private**</font> members are accessible only within the class itself. They cannot be accessed or modified from outside the class, not even by subclasses. <font color='red'>**Private**</font> members are typically used for internal implementation details that should not be exposed to external code.\n",
        "\n",
        "3. <font color='red'>**Encapsulation**</font>: <font color='red'>**Encapsulation**</font> is the bundling of data and methods that operate on the data into a single unit or class. It combines <font color='red'>**data hiding**</font> and <font color='red'>**access control**</font> to achieve information hiding, ensuring that the internal state of an object is protected from external interference and manipulation. <font color='red'>**Encapsulation**</font> promotes modularity, abstraction, and code reusability by encapsulating related data and behavior within a single unit, making it easier to manage and maintain complex systems.\n",
        "\n",
        "By adhering to the principles of <font color='red'>**encapsulation**</font>, including <font color='red'>**access control**</font> and <font color='red'>**data hiding**</font>, developers can create robust, maintainable, and secure object-oriented systems that are easier to understand, extend, and modify. These principles help enforce good design practices and promote code integrity and reliability.\n"
      ],
      "metadata": {
        "id": "h_FWEz81u5g0"
      }
    },
    {
      "cell_type": "markdown",
      "source": [
        "## ***3. How can you achieve encapsulation in Python classes? Provide an example.***"
      ],
      "metadata": {
        "id": "ubdquybRvCk2"
      }
    },
    {
      "cell_type": "markdown",
      "source": [
        "In Python, encapsulation can be achieved by using access modifiers to control the visibility and accessibility of class members, including attributes and methods. The three main access modifiers are <font color='red'>**public**</font>, <font color='red'>**protected**</font>, and <font color='red'>**private**</font>:\n",
        "\n",
        "1. <font color='red'>**Public**</font>: Attributes and methods are accessible from outside the class without any restrictions.\n",
        "2. <font color='red'>**Protected**</font>: Attributes and methods are accessible within the class and its subclasses (using a single underscore prefix conventionally).\n",
        "3. <font color='red'>**Private**</font>: Attributes and methods are accessible only within the class itself (using a double underscore prefix conventionally).\n",
        "\n",
        "Here's an example demonstrating encapsulation in a Python class:"
      ],
      "metadata": {
        "id": "iTlnpC5YvYl3"
      }
    },
    {
      "cell_type": "code",
      "source": [
        "class Car:\n",
        "    def __init__(self, brand, model, year):\n",
        "        self._brand = brand          # Protected attribute\n",
        "        self.__model = model         # Private attribute\n",
        "        self.__year = year           # Private attribute\n",
        "\n",
        "    def get_brand(self):\n",
        "        return self._brand\n",
        "\n",
        "    def set_brand(self, brand):\n",
        "        self._brand = brand\n",
        "\n",
        "    def get_model(self):\n",
        "        return self.__model\n",
        "\n",
        "    def set_model(self, model):\n",
        "        self.__model = model\n",
        "\n",
        "    def get_year(self):\n",
        "        return self.__year\n",
        "\n",
        "    def set_year(self, year):\n",
        "        self.__year = year\n",
        "\n",
        "# Create a Car object\n",
        "my_car = Car(\"Toyota\", \"Camry\", 2022)\n",
        "\n",
        "# Accessing and modifying a protected attribute\n",
        "print(\"Brand (before modification):\", my_car.get_brand())  # Output: Toyota\n",
        "my_car.set_brand(\"Honda\")\n",
        "print(\"Brand (after modification):\", my_car.get_brand())   # Output: Honda\n",
        "\n",
        "# Accessing and modifying a private attribute\n",
        "# This will throw an AttributeError because __model is private\n",
        "# print(\"Model (before modification):\", my_car.__model)\n",
        "# AttributeError: 'Car' object has no attribute '__model'\n",
        "\n",
        "# Instead, we can use the getter and setter methods for private attributes\n",
        "print(\"Model (before modification):\", my_car.get_model())  # Output: Camry\n",
        "my_car.set_model(\"Accord\")\n",
        "print(\"Model (after modification):\", my_car.get_model())   # Output: Accord\n"
      ],
      "metadata": {
        "colab": {
          "base_uri": "https://localhost:8080/"
        },
        "id": "X8TTS3USsUpe",
        "outputId": "7f8e89b1-03fc-4216-9214-1fd2c638b29b"
      },
      "execution_count": 11,
      "outputs": [
        {
          "output_type": "stream",
          "name": "stdout",
          "text": [
            "Brand (before modification): Toyota\n",
            "Brand (after modification): Honda\n",
            "Model (before modification): Camry\n",
            "Model (after modification): Accord\n"
          ]
        }
      ]
    },
    {
      "cell_type": "markdown",
      "source": [
        "In this example, the Car class has three attributes: _brand (protected), __model, and __year (both private). The class provides getter and setter methods to access and modify these attributes. The __model and __year attributes are accessed and modified using the getter and setter methods because they are private, while the _brand attribute can be accessed directly because it is protected. This demonstrates encapsulation by controlling access to the class's attributes."
      ],
      "metadata": {
        "id": "uSghkVn3vroz"
      }
    },
    {
      "cell_type": "markdown",
      "source": [
        "## ***4. Discuss the difference between public, private, and protected access modifiers in Python.***"
      ],
      "metadata": {
        "id": "uMBLim_VvuHQ"
      }
    },
    {
      "cell_type": "markdown",
      "source": [
        "In Python, access modifiers control the visibility and accessibility of class members, including attributes and methods. The three main access modifiers are <font color='red'>**public**</font>, <font color='red'>**private**</font>, and <font color='red'>**protected**</font>. Here's a discussion of the differences between them:\n",
        "\n",
        "1. <font color='red'>**Public**</font>:\n",
        "   - **Description**: Public members are accessible from outside the class without any restrictions.\n",
        "   - **Syntax**: Public members do not have any special syntax. They are declared without any prefix.\n",
        "   - **Access**: Public attributes and methods can be freely accessed and modified from anywhere, including outside the class, without any restrictions.\n",
        "   - **Example**:\n",
        "     ```python\n",
        "     class MyClass:\n",
        "         def __init__(self):\n",
        "             self.public_attribute = \"This is a public attribute\"\n",
        "             \n",
        "         def public_method(self):\n",
        "             return \"This is a public method\"\n",
        "     ```\n",
        "\n",
        "2. <font color='red'>**Private**</font>:\n",
        "   - **Description**: Private members are accessible only within the class itself.\n",
        "   - **Syntax**: Private members are prefixed with a double underscore `__`.\n",
        "   - **Access**: Private attributes and methods cannot be accessed or modified from outside the class, not even by subclasses. However, they can be accessed within the class itself.\n",
        "   - **Example**:\n",
        "     ```python\n",
        "     class MyClass:\n",
        "         def __init__(self):\n",
        "             self.__private_attribute = \"This is a private attribute\"\n",
        "             \n",
        "         def __private_method(self):\n",
        "             return \"This is a private method\"\n",
        "     ```\n",
        "\n",
        "3. <font color='red'>**Protected**</font>:\n",
        "   - **Description**: Protected members are accessible within the class and its subclasses.\n",
        "   - **Syntax**: Protected members are prefixed with a single underscore `_`.\n",
        "   - **Access**: Protected attributes and methods can be accessed and modified within the class and its subclasses. They are not intended for use outside the class hierarchy, but they can still be accessed from outside if necessary.\n",
        "   - **Example**:\n",
        "     ```python\n",
        "     class MyClass:\n",
        "         def __init__(self):\n",
        "             self._protected_attribute = \"This is a protected attribute\"\n",
        "             \n",
        "         def _protected_method(self):\n",
        "             return \"This is a protected method\"\n",
        "     ```\n",
        "\n",
        "In summary, the key differences between <font color='red'>**public**</font>, <font color='red'>**private**</font>, and <font color='red'>**protected**</font> access modifiers in Python are their visibility and accessibility:\n",
        "\n",
        "- <font color='red'>**Public**</font>: Accessible from anywhere.\n",
        "- <font color='red'>**Private**</font>: Accessible only within the class itself.\n",
        "- <font color='red'>**Protected**</font>: Accessible within the class and its subclasses.\n"
      ],
      "metadata": {
        "id": "Eehl3VwvvuT_"
      }
    },
    {
      "cell_type": "markdown",
      "source": [
        "## ***5. Create a Python class called `Person` with a private attribute `__name`. Provide methods to get and set the name attribute.***"
      ],
      "metadata": {
        "id": "PFIBZiZBwO6x"
      }
    },
    {
      "cell_type": "code",
      "source": [
        "class Person:\n",
        "    def __init__(self, name):\n",
        "        self.__name = name\n",
        "\n",
        "    def get_name(self):\n",
        "        return self.__name\n",
        "\n",
        "    def set_name(self, name):\n",
        "        self.__name = name\n",
        "\n",
        "# Example usage:\n",
        "# Create a Person object\n",
        "person = Person(\"John\")\n",
        "\n",
        "# Get the name attribute\n",
        "print(\"Name:\", person.get_name())  # Output: Name: John\n",
        "\n",
        "# Set a new name\n",
        "person.set_name(\"Alice\")\n",
        "\n",
        "# Get the updated name attribute\n",
        "print(\"Updated Name:\", person.get_name())  # Output: Updated Name: Alice\n"
      ],
      "metadata": {
        "colab": {
          "base_uri": "https://localhost:8080/"
        },
        "id": "tJmXlwOpvTjz",
        "outputId": "04c89736-8910-4e31-a2e0-4ac86726d403"
      },
      "execution_count": 12,
      "outputs": [
        {
          "output_type": "stream",
          "name": "stdout",
          "text": [
            "Name: John\n",
            "Updated Name: Alice\n"
          ]
        }
      ]
    },
    {
      "cell_type": "markdown",
      "source": [
        "In this class:\n",
        "\n",
        "- The __init__ method initializes the __name attribute with the provided name value.\n",
        "- The get_name method returns the value of the __name attribute.\n",
        "- The set_name method sets a new value for the __name attribute.\n"
      ],
      "metadata": {
        "id": "_8eWS468weLl"
      }
    },
    {
      "cell_type": "markdown",
      "source": [
        "## ***6. Explain the purpose of getter and setter methods in encapsulation. Provide examples.***"
      ],
      "metadata": {
        "id": "rfQUoXyrwi85"
      }
    },
    {
      "cell_type": "markdown",
      "source": [
        "### Purpose of Getter and Setter Methods:\n",
        "\n",
        "1. <font color='red'>**Encapsulation**</font>:\n",
        "   - Getter and setter methods encapsulate the access to private attributes, ensuring that their internal representation is hidden from external code.\n",
        "   - They provide a level of abstraction, allowing the internal implementation details of a class to be modified without affecting the external interface.\n",
        "\n",
        "2. <font color='red'>**Validation**</font>:\n",
        "   - Getter and setter methods enable validation logic to be applied when getting or setting attribute values. This helps enforce constraints and maintain data integrity.\n",
        "\n",
        "3. <font color='red'>**Computed Attributes**</font>:\n",
        "   - Getter methods can compute attribute values dynamically based on other attributes or external factors, providing computed attributes to external code.\n",
        "\n",
        "4. <font color='red'>**Flexibility**</font>:\n",
        "   - Getter and setter methods provide flexibility in modifying the behavior of attribute access without changing the class interface. This allows for future enhancements or modifications without breaking existing code.\n",
        "\n",
        "### Examples:\n",
        "\n",
        "Here's an example demonstrating the use of getter and setter methods in encapsulation:"
      ],
      "metadata": {
        "id": "6BAdl3kqw7KZ"
      }
    },
    {
      "cell_type": "code",
      "source": [
        "class Circle:\n",
        "    def __init__(self, radius):\n",
        "        self.__radius = radius\n",
        "\n",
        "    def get_radius(self):\n",
        "        return self.__radius\n",
        "\n",
        "    def set_radius(self, radius):\n",
        "        if radius > 0:\n",
        "            self.__radius = radius\n",
        "        else:\n",
        "            print(\"Radius must be greater than zero.\")\n",
        "\n",
        "    def area(self):\n",
        "        return 3.14 * self.__radius ** 2\n",
        "\n",
        "# Example usage:\n",
        "circle = Circle(5)\n",
        "\n",
        "# Get radius using getter method\n",
        "print(\"Radius:\", circle.get_radius())  # Output: Radius: 5\n",
        "\n",
        "# Set radius using setter method\n",
        "circle.set_radius(7)\n",
        "\n",
        "# Get radius again\n",
        "print(\"Updated Radius:\", circle.get_radius())  # Output: Updated Radius: 7\n",
        "\n",
        "# Try to set an invalid radius\n",
        "circle.set_radius(-3)  # Output: Radius must be greater than zero.\n",
        "\n",
        "# Calculate area\n",
        "print(\"Area:\", circle.area())  # Output: Area: 153.86\n"
      ],
      "metadata": {
        "colab": {
          "base_uri": "https://localhost:8080/"
        },
        "id": "lK3G_aKmwai9",
        "outputId": "03304d92-fe3c-43b5-c999-db6aa4fb96d6"
      },
      "execution_count": 13,
      "outputs": [
        {
          "output_type": "stream",
          "name": "stdout",
          "text": [
            "Radius: 5\n",
            "Updated Radius: 7\n",
            "Radius must be greater than zero.\n",
            "Area: 153.86\n"
          ]
        }
      ]
    },
    {
      "cell_type": "markdown",
      "source": [
        "In this example:\n",
        "\n",
        "- The Circle class has a private attribute __radius.\n",
        "Getter and setter methods (get_radius and set_radius) are provided to access and modify the __radius attribute.\n",
        "- The setter method includes validation logic to ensure that the radius is greater than zero.\n",
        "- The area method computes the area of the circle based on the radius.\n",
        "- External code interacts with the Circle class using the getter and setter methods, maintaining encapsulation and enabling validation and computation."
      ],
      "metadata": {
        "id": "eUyj71vNxEjg"
      }
    },
    {
      "cell_type": "markdown",
      "source": [
        "## ***7. What is name mangling in Python, and how does it affect encapsulation?***"
      ],
      "metadata": {
        "id": "VHGB3n7nxQEy"
      }
    },
    {
      "cell_type": "markdown",
      "source": [
        "Name mangling in Python is a technique used to make class members (attributes and methods) with double underscore (`__`) prefixes more unique by adding the class name to their names. This is done to avoid accidental overriding of these members in subclasses.\n",
        "\n",
        "When Python encounters an identifier with a double underscore prefix (`__`) within a class definition, it automatically performs name mangling by prefixing the identifier with a single underscore and the class name. This effectively makes the attribute or method \"private\" in the sense that it becomes harder to access or override it from outside the class.\n",
        "\n",
        "Here's how name mangling affects encapsulation:\n",
        "\n",
        "1. <font color='red'>**Enhanced Privacy**</font>: Name mangling increases the level of privacy of class members by making them more difficult to access from outside the class. By modifying their names with the class name, Python effectively hides these members from accidental access or modification.\n",
        "\n",
        "2. <font color='red'>**Subclassing**</font>: Name mangling ensures that subclasses cannot accidentally override private attributes or methods of their superclass. Since the modified names include the class name, each class has its own unique set of mangled names for its private members.\n",
        "\n",
        "3. <font color='red'>**Limited Access**</font>: While name mangling provides a degree of encapsulation by making class members \"private\", it's important to note that it does not provide true access control. It's still possible to access mangled names from outside the class by manually constructing the mangled name (`_ClassName__member`) or by using reflection techniques.\n",
        "\n",
        "Here's a simple example to demonstrate name mangling in Python:"
      ],
      "metadata": {
        "id": "P6Dg69ACxdxs"
      }
    },
    {
      "cell_type": "code",
      "source": [
        "class MyClass:\n",
        "    def __init__(self):\n",
        "        self.__private_attr = 42\n",
        "\n",
        "    def __private_method(self):\n",
        "        return \"This is a private method\"\n",
        "\n",
        "# Example usage\n",
        "obj = MyClass()\n",
        "# Accessing private attribute using name mangling\n",
        "print(obj._MyClass__private_attr)  # Output: 42\n",
        "# Accessing private method using name mangling\n",
        "print(obj._MyClass__private_method())  # Output: This is a private method\n"
      ],
      "metadata": {
        "colab": {
          "base_uri": "https://localhost:8080/"
        },
        "id": "XliYeVg4xBi3",
        "outputId": "3a83417b-bbc8-4ede-c286-1208e7de980c"
      },
      "execution_count": 14,
      "outputs": [
        {
          "output_type": "stream",
          "name": "stdout",
          "text": [
            "42\n",
            "This is a private method\n"
          ]
        }
      ]
    },
    {
      "cell_type": "markdown",
      "source": [
        "In this example, the private attribute __private_attr and the private method __private_method are mangled to _MyClass__private_attr and _MyClass__private_method, respectively.\n",
        "\n",
        "They can still be accessed from outside the class using their mangled names, but it's not recommended as it breaks encapsulation."
      ],
      "metadata": {
        "id": "t8YsygPNxlrF"
      }
    },
    {
      "cell_type": "markdown",
      "source": [
        "## ***8. Create a Python class called `BankAccount` with private attributes for the account balance (`__balance`)***"
      ],
      "metadata": {
        "id": "WCCD12X7xqJv"
      }
    },
    {
      "cell_type": "code",
      "source": [
        "class BankAccount:\n",
        "    def __init__(self, initial_balance=0):\n",
        "        self.__balance = initial_balance\n",
        "\n",
        "    def get_balance(self):\n",
        "        return self.__balance\n",
        "\n",
        "    def deposit(self, amount):\n",
        "        if amount > 0:\n",
        "            self.__balance += amount\n",
        "            print(f\"Deposited ${amount}. New balance: ${self.__balance}\")\n",
        "        else:\n",
        "            print(\"Invalid amount for deposit.\")\n",
        "\n",
        "    def withdraw(self, amount):\n",
        "        if 0 < amount <= self.__balance:\n",
        "            self.__balance -= amount\n",
        "            print(f\"Withdrew ${amount}. New balance: ${self.__balance}\")\n",
        "        else:\n",
        "            print(\"Insufficient funds or invalid amount for withdrawal.\")\n",
        "\n",
        "# Example usage:\n",
        "account = BankAccount(100)  # Initialize account with initial balance of $100\n",
        "\n",
        "# Get current balance\n",
        "print(\"Current Balance:\", account.get_balance())  # Output: Current Balance: 100\n",
        "\n",
        "# Deposit $50\n",
        "account.deposit(50)  # Output: Deposited $50. New balance: $150\n",
        "\n",
        "# Withdraw $30\n",
        "account.withdraw(30)  # Output: Withdrew $30. New balance: $120\n",
        "\n",
        "# Withdraw $200 (insufficient funds)\n",
        "account.withdraw(200)  # Output: Insufficient funds or invalid amount for withdrawal.\n"
      ],
      "metadata": {
        "colab": {
          "base_uri": "https://localhost:8080/"
        },
        "id": "7kiwF0Ikxh41",
        "outputId": "990125bd-a13b-4688-cbc9-34aa26584cec"
      },
      "execution_count": 15,
      "outputs": [
        {
          "output_type": "stream",
          "name": "stdout",
          "text": [
            "Current Balance: 100\n",
            "Deposited $50. New balance: $150\n",
            "Withdrew $30. New balance: $120\n",
            "Insufficient funds or invalid amount for withdrawal.\n"
          ]
        }
      ]
    },
    {
      "cell_type": "markdown",
      "source": [
        "## ***9. Discuss the advantages of encapsulation in terms of code maintainability and security.***"
      ],
      "metadata": {
        "id": "Jrzr9L3Xx9sV"
      }
    },
    {
      "cell_type": "markdown",
      "source": [
        "### Code Maintainability:\n",
        "\n",
        "1. **Modularity**:\n",
        "   - Encapsulation promotes modularity by bundling data and methods together within a class. This makes it easier to understand and manage the codebase, as related functionality is grouped together.\n",
        "\n",
        "2. **Information Hiding**:\n",
        "   - Encapsulation hides the internal implementation details of a class from external code. This allows for changes to the internal implementation without affecting the external interface, reducing the risk of breaking dependent code.\n",
        "\n",
        "3. **Ease of Modification**:\n",
        "   - Since encapsulation limits direct access to class members, modifications to the internal implementation can be made without affecting other parts of the codebase. This improves maintainability by reducing the likelihood of unintended side effects.\n",
        "\n",
        "### Security:\n",
        "\n",
        "1. <font color='red'>**Access Control**</font>:\n",
        "   - Encapsulation provides control over the access to class members through access modifiers (e.g., public, private, protected). This prevents unauthorized access and modification of sensitive data, enhancing security.\n",
        "\n",
        "2. <font color='red'>**Prevention of Data Corruption**</font>:\n",
        "   - By encapsulating data within objects and providing controlled access through methods, encapsulation helps prevent accidental data corruption or unintended modification of critical data.\n",
        "\n",
        "3. <font color='red'>**Encapsulation of Complexity**</font>:\n",
        "   - Complex logic and data structures can be encapsulated within classes, hiding the complexity from external code. This reduces the risk of security vulnerabilities due to inadvertent misuse or exploitation of complex features.\n",
        "\n",
        "4. <font color='red'>**Isolation of Changes**</font>:\n",
        "   - Encapsulation isolates changes to the internal implementation of a class, limiting the impact of security updates or patches. Changes can be made within the class without affecting the rest of the system, minimizing the risk of introducing security vulnerabilities.\n",
        "\n",
        "In summary, encapsulation improves code maintainability by promoting modularity, information hiding, and ease of modification. It also enhances security by providing access control, preventing data corruption, encapsulating complexity, and isolating changes within class boundaries. These advantages contribute to the development of robust, maintainable, and secure software systems.\n"
      ],
      "metadata": {
        "id": "w-VL2gHWyOg9"
      }
    },
    {
      "cell_type": "markdown",
      "source": [
        "## ***10. How can you access private attributes in Python? Provide an example demonstrating the use of name mangling.***"
      ],
      "metadata": {
        "id": "E6s31TfiyQQu"
      }
    },
    {
      "cell_type": "markdown",
      "source": [
        "In Python, private attributes, which are those with names starting with double underscores (__), cannot be directly accessed from outside the class. However, they can still be accessed using a mechanism called name mangling. Name mangling modifies the name of the private attribute by prefixing it with a single underscore and the class name.\n",
        "\n",
        "Here's how you can access private attributes in Python using name mangling:"
      ],
      "metadata": {
        "id": "q9zsG7b-yd7L"
      }
    },
    {
      "cell_type": "code",
      "source": [
        "class MyClass:\n",
        "    def __init__(self):\n",
        "        self.__private_attribute = 42\n",
        "\n",
        "# Create an instance of MyClass\n",
        "obj = MyClass()\n",
        "\n",
        "# Accessing private attribute using name mangling\n",
        "print(obj._MyClass__private_attribute)  # Output: 42\n"
      ],
      "metadata": {
        "colab": {
          "base_uri": "https://localhost:8080/"
        },
        "id": "kNBXC2uZx7xk",
        "outputId": "841717fe-874c-4aaf-d3b1-e7896f7d4aaa"
      },
      "execution_count": 16,
      "outputs": [
        {
          "output_type": "stream",
          "name": "stdout",
          "text": [
            "42\n"
          ]
        }
      ]
    },
    {
      "cell_type": "markdown",
      "source": [
        "In this example, __private_attribute is a private attribute of the MyClass class. To access this private attribute from outside the class, we use name mangling by prefixing the attribute name with _MyClass, which is the name of the class where the private attribute is defined.\n",
        "\n",
        "It's important to note that accessing private attributes using name mangling is generally discouraged because it breaks encapsulation and may lead to unexpected behavior. It's preferable to use getter and setter methods for accessing and modifying private attributes to maintain encapsulation and ensure data integrity.\n",
        "\n",
        "\n",
        "\n",
        "\n",
        "\n"
      ],
      "metadata": {
        "id": "YRUvzHWZylZm"
      }
    },
    {
      "cell_type": "markdown",
      "source": [
        "## ***11. Create a Python class hierarchy for a school system, including classes for students, teachers, and courses,and implement encapsulation principles to protect sensitive information.***"
      ],
      "metadata": {
        "id": "JqJ7yFYoynG-"
      }
    },
    {
      "cell_type": "code",
      "source": [
        "class Person:\n",
        "    def __init__(self, name, age):\n",
        "        self._name = name  # Protected attribute\n",
        "        self._age = age    # Protected attribute\n",
        "\n",
        "    def get_name(self):\n",
        "        return self._name\n",
        "\n",
        "    def set_name(self, name):\n",
        "        self._name = name\n",
        "\n",
        "    def get_age(self):\n",
        "        return self._age\n",
        "\n",
        "    def set_age(self, age):\n",
        "        self._age = age\n",
        "\n",
        "\n",
        "class Student(Person):\n",
        "    def __init__(self, name, age, student_id):\n",
        "        super().__init__(name, age)\n",
        "        self.__student_id = student_id  # Private attribute\n",
        "\n",
        "    def get_student_id(self):\n",
        "        return self.__student_id\n",
        "\n",
        "    def set_student_id(self, student_id):\n",
        "        self.__student_id = student_id\n",
        "\n",
        "\n",
        "class Teacher(Person):\n",
        "    def __init__(self, name, age, teacher_id):\n",
        "        super().__init__(name, age)\n",
        "        self.__teacher_id = teacher_id  # Private attribute\n",
        "\n",
        "    def get_teacher_id(self):\n",
        "        return self.__teacher_id\n",
        "\n",
        "    def set_teacher_id(self, teacher_id):\n",
        "        self.__teacher_id = teacher_id\n",
        "\n",
        "\n",
        "class Course:\n",
        "    def __init__(self, course_name, course_code, teacher, students=None):\n",
        "        self.__course_name = course_name  # Private attribute\n",
        "        self.__course_code = course_code  # Private attribute\n",
        "        self.__teacher = teacher          # Private attribute\n",
        "        self.__students = students if students is not None else []  # Private attribute\n",
        "\n",
        "    def get_course_name(self):\n",
        "        return self.__course_name\n",
        "\n",
        "    def set_course_name(self, course_name):\n",
        "        self.__course_name = course_name\n",
        "\n",
        "    def get_course_code(self):\n",
        "        return self.__course_code\n",
        "\n",
        "    def set_course_code(self, course_code):\n",
        "        self.__course_code = course_code\n",
        "\n",
        "    def get_teacher(self):\n",
        "        return self.__teacher\n",
        "\n",
        "    def set_teacher(self, teacher):\n",
        "        self.__teacher = teacher\n",
        "\n",
        "    def get_students(self):\n",
        "        return self.__students\n",
        "\n",
        "    def add_student(self, student):\n",
        "        self.__students.append(student)\n",
        "\n",
        "    def remove_student(self, student):\n",
        "        if student in self.__students:\n",
        "            self.__students.remove(student)\n",
        "\n",
        "\n",
        "# Example usage:\n",
        "\n",
        "# Create a teacher\n",
        "teacher = Teacher(\"John Doe\", 35, \"T001\")\n",
        "\n",
        "# Create students\n",
        "student1 = Student(\"Alice\", 18, \"S001\")\n",
        "student2 = Student(\"Bob\", 17, \"S002\")\n",
        "\n",
        "# Create a course and assign teacher and students\n",
        "course = Course(\"Mathematics\", \"MATH101\", teacher, [student1, student2])\n",
        "\n",
        "# Get course information\n",
        "print(\"Course Name:\", course.get_course_name())      # Output: Course Name: Mathematics\n",
        "print(\"Course Code:\", course.get_course_code())      # Output: Course Code: MATH101\n",
        "print(\"Teacher:\", course.get_teacher().get_name())   # Output: Teacher: John Doe\n",
        "\n",
        "# Add a new student to the course\n",
        "new_student = Student(\"Eve\", 16, \"S003\")\n",
        "course.add_student(new_student)\n",
        "\n",
        "# Get list of students in the course\n",
        "print(\"Students:\")\n",
        "for student in course.get_students():\n",
        "    print(\"-\", student.get_name())\n",
        "\n",
        "# Remove a student from the course\n",
        "course.remove_student(student2)\n",
        "\n",
        "# Get updated list of students in the course\n",
        "print(\"Updated Students:\")\n",
        "for student in course.get_students():\n",
        "    print(\"-\", student.get_name())\n"
      ],
      "metadata": {
        "colab": {
          "base_uri": "https://localhost:8080/"
        },
        "id": "tgzhqQhXygxe",
        "outputId": "f62b3bd7-2659-45d0-fdcd-1d684393ab8a"
      },
      "execution_count": 17,
      "outputs": [
        {
          "output_type": "stream",
          "name": "stdout",
          "text": [
            "Course Name: Mathematics\n",
            "Course Code: MATH101\n",
            "Teacher: John Doe\n",
            "Students:\n",
            "- Alice\n",
            "- Bob\n",
            "- Eve\n",
            "Updated Students:\n",
            "- Alice\n",
            "- Eve\n"
          ]
        }
      ]
    },
    {
      "cell_type": "markdown",
      "source": [
        "In this example:\n",
        "\n",
        "- The Person, Student, and Teacher classes represent the hierarchy of individuals within the school system.\n",
        "- The Course class represents a course offered by the school, with attributes for course name, course code, teacher, and students enrolled in the course.\n",
        "- Encapsulation principles are applied by making most attributes private (prefixed with double underscores) and providing getter and setter methods for accessing and modifying them.\n",
        "- This protects sensitive information and ensures controlled access to class attributes."
      ],
      "metadata": {
        "id": "ZZXdJYv_y2TT"
      }
    },
    {
      "cell_type": "markdown",
      "source": [
        "## **12. Explain the concept of property decorators in Python and how they relate to encapsulation.**"
      ],
      "metadata": {
        "id": "MFxSO44d1JTG"
      }
    },
    {
      "cell_type": "markdown",
      "source": [
        "### How Property Decorators Work:\n",
        "\n",
        "1. <font color='red'>**Getter Method**</font>:\n",
        "   - The `@property` decorator is used to define a getter method for an attribute. This method is called when accessing the attribute's value.\n",
        "\n",
        "2. <font color='red'>**Setter Method**</font>:\n",
        "   - The `@attribute.setter` decorator is used to define a setter method for an attribute. This method is called when assigning a new value to the attribute.\n",
        "\n",
        "3. <font color='red'>**Deleter Method**</font>:\n",
        "   - The `@attribute.deleter` decorator is used to define a deleter method for an attribute. This method is called when deleting the attribute.\n",
        "\n",
        "### Relation to Encapsulation:\n",
        "\n",
        "- <font color='red'>**Getter Method**</font>:\n",
        "  - Property decorators allow for the implementation of getter methods, which can perform validation, computation, or other logic before returning the attribute's value. This helps encapsulate the internal representation of the attribute by controlling how it is accessed.\n",
        "\n",
        "- <font color='red'>**Setter Method**</font>:\n",
        "  - Property decorators enable the implementation of setter methods, which can enforce constraints or perform validation before allowing a new value to be assigned to the attribute. This ensures that the internal state of the object remains consistent and protects against invalid data.\n",
        "\n",
        "- <font color='red'>**Deleter Method**</font>:\n",
        "  - Property decorators also support deleter methods, which can perform cleanup or additional actions when an attribute is deleted. This allows for controlled removal of attributes and helps maintain the integrity of the object's state.\n",
        "\n",
        "### Example:"
      ],
      "metadata": {
        "id": "ujAeMZLf1yU4"
      }
    },
    {
      "cell_type": "code",
      "source": [
        "class Circle:\n",
        "    def __init__(self, radius):\n",
        "        self._radius = radius  # Protected attribute\n",
        "\n",
        "    @property\n",
        "    def radius(self):\n",
        "        return self._radius\n",
        "\n",
        "    @radius.setter\n",
        "    def radius(self, value):\n",
        "        if value > 0:\n",
        "            self._radius = value\n",
        "        else:\n",
        "            raise ValueError(\"Radius must be greater than zero.\")\n",
        "\n",
        "    @radius.deleter\n",
        "    def radius(self):\n",
        "        del self._radius\n",
        "\n",
        "# Example usage:\n",
        "circle = Circle(5)\n",
        "\n",
        "# Get radius using property getter\n",
        "print(\"Radius:\", circle.radius)  # Output: Radius: 5\n",
        "\n",
        "# Set radius using property setter\n",
        "circle.radius = 7\n",
        "\n",
        "# Get updated radius\n",
        "print(\"Updated Radius:\", circle.radius)  # Output: Updated Radius: 7\n",
        "\n",
        "# Try to set an invalid radius\n",
        "try:\n",
        "    circle.radius = -3\n",
        "except ValueError as e:\n",
        "    print(e)  # Output: Radius must be greater than zero.\n",
        "\n",
        "# Delete the radius attribute\n",
        "del circle.radius\n",
        "\n",
        "# Trying to access the radius after deletion will raise an AttributeError\n",
        "try:\n",
        "    print(\"Radius after deletion:\", circle.radius)\n",
        "except AttributeError as e:\n",
        "    print(e)  # Output: 'Circle' object has no attribute '_radius'\n"
      ],
      "metadata": {
        "colab": {
          "base_uri": "https://localhost:8080/"
        },
        "id": "vf-J_WJryysO",
        "outputId": "053788af-9946-40b1-96d6-43a361a519e0"
      },
      "execution_count": 18,
      "outputs": [
        {
          "output_type": "stream",
          "name": "stdout",
          "text": [
            "Radius: 5\n",
            "Updated Radius: 7\n",
            "Radius must be greater than zero.\n",
            "'Circle' object has no attribute '_radius'\n"
          ]
        }
      ]
    },
    {
      "cell_type": "markdown",
      "source": [
        "In this example, the Circle class encapsulates the radius attribute using property decorators. The @property decorator defines a getter method for the radius attribute, while the @radius.setter decorator defines a setter method. Additionally, the @radius.deleter decorator defines a deleter method. These property decorators allow for controlled access to the radius attribute, ensuring encapsulation and data integrity."
      ],
      "metadata": {
        "id": "BHaMAW1q17sS"
      }
    },
    {
      "cell_type": "markdown",
      "source": [
        "## ***13. What is data hiding, and why is it important in encapsulation? Provide examples.***"
      ],
      "metadata": {
        "id": "YZOG2Kyu174d"
      }
    },
    {
      "cell_type": "markdown",
      "source": [
        "Data hiding is a concept in object-oriented programming that involves restricting access to certain attributes or methods of a class, typically by making them private or protected. This prevents direct modification or access from external code, promoting **encapsulation** and protecting the internal state of an object.\n",
        "\n",
        "### Importance of Data Hiding in Encapsulation:\n",
        "\n",
        "1. <font color='red'>**Encapsulation**</font>:\n",
        "   - Data hiding is essential for encapsulation, which is the bundling of data (attributes) and methods that operate on the data within a single unit or class. By hiding the internal details of an object, encapsulation allows for a clear separation between the internal implementation and the external interface, improving code maintainability and reducing complexity.\n",
        "\n",
        "2. <font color='red'>**Controlled Access**</font>:\n",
        "   - Data hiding allows for controlled access to class members. By making certain attributes private or protected, a class can enforce restrictions on how these members are accessed or modified. This prevents external code from directly manipulating sensitive data, reducing the risk of unintended side effects and maintaining the integrity of the object's state.\n",
        "\n",
        "3. <font color='red'>**Security**</font>:\n",
        "   - Data hiding enhances security by preventing unauthorized access to sensitive information. By hiding implementation details, such as internal data structures or algorithms, from external code, data hiding helps protect against data breaches or malicious attacks that may attempt to exploit vulnerabilities in the system.\n",
        "\n",
        "### Examples:\n",
        "\n",
        "1. <font color='red'>**Private Attributes**</font>:\n",
        "   - In Python, private attributes are typically denoted by prefixing their names with double underscores (`__`). For example, consider a `BankAccount` class where the account balance is a private attribute:\n",
        "     ```python\n",
        "     class BankAccount:\n",
        "         def __init__(self, initial_balance):\n",
        "             self.__balance = initial_balance\n",
        "\n",
        "         def get_balance(self):\n",
        "             return self.__balance\n",
        "\n",
        "         def deposit(self, amount):\n",
        "             self.__balance += amount\n",
        "\n",
        "         def withdraw(self, amount):\n",
        "             if amount <= self.__balance:\n",
        "                 self.__balance -= amount\n",
        "             else:\n",
        "                 print(\"Insufficient funds\")\n",
        "     ```\n",
        "   - In this example, the `__balance` attribute is hidden from external code, and access to it is controlled through getter and setter methods.\n",
        "\n",
        "2. <font color='red'>**Protected Methods**</font>:\n",
        "   - In Java, methods can be declared as `protected` to restrict access to them to subclasses and classes within the same package. For example, consider a `Person` class with a `calculateAge()` method declared as protected:\n",
        "     ```java\n",
        "     public class Person {\n",
        "         protected int calculateAge(int birthYear) {\n",
        "             return Year.now().getValue() - birthYear;\n",
        "         }\n",
        "     }\n",
        "     ```\n",
        "   - The `calculateAge()` method is accessible within subclasses of `Person` but not from external classes, promoting data hiding and encapsulation.\n"
      ],
      "metadata": {
        "id": "BWARH9Up2Fpm"
      }
    },
    {
      "cell_type": "markdown",
      "source": [
        "## ***14. Create a Python class called `Employee` with private attributes for salary (`__salary`) and employee ID***"
      ],
      "metadata": {
        "id": "N1HbNoGH2T7X"
      }
    },
    {
      "cell_type": "code",
      "source": [
        "class Employee:\n",
        "    def __init__(self, salary, employee_id):\n",
        "        self.__salary = salary  # Private attribute\n",
        "        self.__employee_id = employee_id  # Private attribute\n",
        "\n",
        "    def get_salary(self):\n",
        "        return self.__salary\n",
        "\n",
        "    def set_salary(self, salary):\n",
        "        self.__salary = salary\n",
        "\n",
        "    def get_employee_id(self):\n",
        "        return self.__employee_id\n",
        "\n",
        "    def set_employee_id(self, employee_id):\n",
        "        self.__employee_id = employee_id\n",
        "\n",
        "# Example usage:\n",
        "employee = Employee(50000, \"E12345\")\n",
        "\n",
        "# Get employee salary and ID\n",
        "print(\"Salary:\", employee.get_salary())           # Output: Salary: 50000\n",
        "print(\"Employee ID:\", employee.get_employee_id()) # Output: Employee ID: E12345\n",
        "\n",
        "# Update employee salary and ID\n",
        "employee.set_salary(55000)\n",
        "employee.set_employee_id(\"E67890\")\n",
        "\n",
        "# Get updated employee salary and ID\n",
        "print(\"Updated Salary:\", employee.get_salary())           # Output: Updated Salary: 55000\n",
        "print(\"Updated Employee ID:\", employee.get_employee_id()) # Output: Updated Employee ID: E67890\n"
      ],
      "metadata": {
        "colab": {
          "base_uri": "https://localhost:8080/"
        },
        "id": "lWAqhsK-1w_C",
        "outputId": "949c10fe-9739-4a69-d3c3-357d4d6d8d1f"
      },
      "execution_count": 19,
      "outputs": [
        {
          "output_type": "stream",
          "name": "stdout",
          "text": [
            "Salary: 50000\n",
            "Employee ID: E12345\n",
            "Updated Salary: 55000\n",
            "Updated Employee ID: E67890\n"
          ]
        }
      ]
    },
    {
      "cell_type": "markdown",
      "source": [
        "In this example:\n",
        "\n",
        "The Employee class has private attributes __salary and __employee_id to store the salary and employee ID respectively.\n",
        "Getter and setter methods are provided for accessing and modifying these private attributes, ensuring controlled access and encapsulation."
      ],
      "metadata": {
        "id": "OLn1zSM22hE7"
      }
    },
    {
      "cell_type": "markdown",
      "source": [
        "## ***15. Discuss the use of accessors and mutators in encapsulation. How do they help maintain control over attribute access?***"
      ],
      "metadata": {
        "id": "x0QBfuFe4Ab9"
      }
    },
    {
      "cell_type": "markdown",
      "source": [
        "### Accessors (Getters):\n",
        "\n",
        "- **<font color='red'>**Purpose**</font>**: Accessors are methods used to retrieve the values of private attributes.\n",
        "- <font color='red'>**Implementation**</font>: They typically have the prefix `get_` followed by the attribute name.\n",
        "- <font color='red'>**Advantages**</font>::\n",
        "  - They allow indirect access to private attributes, ensuring that the internal state of the object remains hidden from external code.\n",
        "  - Accessors enable validation, computation, or other logic before returning the attribute's value, ensuring consistency and integrity.\n",
        "- **Example**:\n",
        "  ```python\n",
        "  class Circle:\n",
        "      def __init__(self, radius):\n",
        "          self.__radius = radius\n",
        "\n",
        "      def get_radius(self):\n",
        "          return self.__radius\n"
      ],
      "metadata": {
        "id": "BxmJymUv4Aup"
      }
    },
    {
      "cell_type": "markdown",
      "source": [
        "## <font color='red'>**Mutators (Setters):**</font>:\n",
        "\n",
        "**## Purpose:**  \n",
        "- Mutators are methods used to modify the values of private attributes.\n",
        "- Implementation: They typically have the prefix set_ followed by the attribute name.\n",
        "## **Advantages:**\n",
        "They provide a controlled interface for modifying private attributes, allowing validation or enforcement of constraints before updating the attribute's value.\n",
        "Mutators enable encapsulation by hiding the internal representation of the attribute and ensuring that changes to it follow defined rules.\n",
        "Example:"
      ],
      "metadata": {
        "id": "vLfP2x0W43dG"
      }
    },
    {
      "cell_type": "code",
      "source": [
        "class Circle:\n",
        "    def __init__(self, radius):\n",
        "        self.__radius = radius\n",
        "\n",
        "    def set_radius(self, radius):\n",
        "        if radius > 0:\n",
        "            self.__radius = radius\n",
        "        else:\n",
        "            raise ValueError(\"Radius must be greater than zero.\")\n"
      ],
      "metadata": {
        "id": "J4q7Q0zh2dmO"
      },
      "execution_count": 20,
      "outputs": []
    },
    {
      "cell_type": "markdown",
      "source": [
        "\n",
        "\n",
        "Maintenance of Control:\n",
        "\n",
        "<font color='red'>1.Enforcement of Rules</font>:Accessors and mutators enable classes to enforce rules and constraints on attribute access and modification. For example, in the set_radius() method above, a rule is enforced that the radius must be greater than zero.\n",
        "\n",
        "<font color='red'>2 Prevention of Unintended Changes</font>:\n",
        "By providing controlled access to private attributes, accessors and mutators prevent unintended changes to the internal state of objects. External code cannot directly modify private attributes, reducing the risk of data corruption or inconsistencies.\n",
        "\n",
        "<font color='red'>3 Improved Maintainability</font>:\n",
        "Accessors and mutators encapsulate the implementation details of attribute access and modification, making it easier to maintain and modify the class without affecting dependent code. Changes to validation rules or internal representation can be made within these methods without impacting external code."
      ],
      "metadata": {
        "id": "6FCkhWv55rAS"
      }
    },
    {
      "cell_type": "markdown",
      "source": [
        "## ***16. What are the potential drawbacks or disadvantages of using encapsulation in Python?***"
      ],
      "metadata": {
        "id": "87SYX76T6Z-5"
      }
    },
    {
      "cell_type": "markdown",
      "source": [
        "While encapsulation in Python offers numerous benefits, it also comes with some potential drawbacks:\n",
        "\n",
        "1. <font color='red'>**Increased Complexity**</font>: Encapsulation may introduce additional complexity to the codebase, especially when implementing getter and setter methods for multiple attributes. This complexity can make the code harder to understand and maintain, particularly for developers unfamiliar with the codebase.\n",
        "\n",
        "2. <font color='red'>**Performance Overhead**</font>: Accessing attributes through getter and setter methods can incur a slight performance overhead compared to direct attribute access. Although this overhead is typically negligible, it can become significant in performance-critical applications.\n",
        "\n",
        "3. <font color='red'>**Verbose Code**</font>: Implementing encapsulation often requires writing additional code for getter and setter methods, which can make the code more verbose and harder to read. This verbosity can reduce code clarity and increase the potential for errors.\n",
        "\n",
        "4. <font color='red'>**Limited Flexibility**</font>: Encapsulation restricts direct access to class attributes, which may limit the flexibility of the codebase. In some cases, direct access to attributes may be desirable for performance reasons or to simplify certain operations.\n",
        "\n",
        "5. <font color='red'>**Difficulty in Debugging**</font>: Encapsulation can make debugging more challenging, especially when debugging code that relies heavily on getter and setter methods. Understanding the flow of data through these methods may require additional effort, slowing down the debugging process.\n",
        "\n",
        "6. <font color='red'>**Overuse of Accessors and Mutators**</font>: In some cases, developers may overuse accessors and mutators, implementing them for every attribute without considering whether they are necessary. This can lead to unnecessary code bloat and reduce the clarity of the codebase.\n",
        "\n",
        "7. <font color='red'>**Potential for Inconsistency**</font>: Encapsulation relies on developers consistently using getter and setter methods to access and modify attributes. If developers bypass these methods and directly access or modify attributes, it can lead to inconsistencies in the codebase and undermine the benefits of encapsulation.\n",
        "\n",
        "Despite these potential drawbacks, encapsulation remains a valuable programming principle in Python and other object-oriented languages. By promoting data hiding, abstraction, and modular design, encapsulation helps create more maintainable, reusable, and secure software systems.\n",
        "\n"
      ],
      "metadata": {
        "id": "9Gt8fNAn6pyk"
      }
    },
    {
      "cell_type": "markdown",
      "source": [
        "## ***17. Create a Python class for a library system that encapsulates book information, including titles, authors,and availability status.***"
      ],
      "metadata": {
        "id": "46NZXhxi7Ahy"
      }
    },
    {
      "cell_type": "code",
      "source": [
        "class Book:\n",
        "    def __init__(self, title, author):\n",
        "        self.title = title\n",
        "        self.author = author\n",
        "        self.available = True  # Initially set to True\n",
        "\n",
        "    def borrow_book(self):\n",
        "        if self.available:\n",
        "            self.available = False\n",
        "            print(f\"Book '{self.title}' by {self.author} has been borrowed.\")\n",
        "        else:\n",
        "            print(f\"Sorry, '{self.title}' by {self.author} is currently not available.\")\n",
        "\n",
        "    def return_book(self):\n",
        "        if not self.available:\n",
        "            self.available = True\n",
        "            print(f\"Book '{self.title}' by {self.author} has been returned.\")\n",
        "        else:\n",
        "            print(f\"Error: '{self.title}' by {self.author} is already available.\")\n",
        "\n",
        "# Example usage:\n",
        "book1 = Book(\"The Great Gatsby\", \"F. Scott Fitzgerald\")\n",
        "book2 = Book(\"To Kill a Mockingbird\", \"Harper Lee\")\n",
        "\n",
        "# Borrow book1\n",
        "book1.borrow_book()  # Output: Book 'The Great Gatsby' by F. Scott Fitzgerald has been borrowed.\n",
        "\n",
        "# Try to borrow book1 again\n",
        "book1.borrow_book()  # Output: Sorry, 'The Great Gatsby' by F. Scott Fitzgerald is currently not available.\n",
        "\n",
        "# Return book1\n",
        "book1.return_book()  # Output: Book 'The Great Gatsby' by F. Scott Fitzgerald has been returned.\n",
        "\n",
        "# Borrow book1 again\n",
        "book1.borrow_book()  # Output: Book 'The Great Gatsby' by F. Scott Fitzgerald has been borrowed.\n"
      ],
      "metadata": {
        "colab": {
          "base_uri": "https://localhost:8080/"
        },
        "id": "UuKafDpa5lNu",
        "outputId": "74b46e06-f4ed-485f-bc1d-0a2736cf6929"
      },
      "execution_count": 21,
      "outputs": [
        {
          "output_type": "stream",
          "name": "stdout",
          "text": [
            "Book 'The Great Gatsby' by F. Scott Fitzgerald has been borrowed.\n",
            "Sorry, 'The Great Gatsby' by F. Scott Fitzgerald is currently not available.\n",
            "Book 'The Great Gatsby' by F. Scott Fitzgerald has been returned.\n",
            "Book 'The Great Gatsby' by F. Scott Fitzgerald has been borrowed.\n"
          ]
        }
      ]
    },
    {
      "cell_type": "markdown",
      "source": [
        "In this example:\n",
        "\n",
        "The Book class encapsulates book information such as title, author, and availability status.\n",
        "\n",
        "The borrow_book() method is used to borrow a book, updating its availability status accordingly.\n",
        "\n",
        "The return_book() method is used to return a book, updating its availability status accordingly.\n",
        "\n",
        "Example usage demonstrates borrowing and returning books while maintaining their availability status."
      ],
      "metadata": {
        "id": "FQdp5YDS7Q2N"
      }
    },
    {
      "cell_type": "markdown",
      "source": [
        "## ***18. Explain how encapsulation enhances code reusability and modularity in Python programs.***"
      ],
      "metadata": {
        "id": "ddYenZCk7ars"
      }
    },
    {
      "cell_type": "markdown",
      "source": [
        "Encapsulation enhances code reusability and modularity in Python programs through the following mechanisms:\n",
        "\n",
        "1. <font color='red'>**Data Hiding**</font>: Encapsulation allows for hiding the internal state of an object, meaning that the implementation details are encapsulated within the class and are not accessible from outside. This prevents external code from directly manipulating the internal data, reducing the risk of unintentional modifications or errors. By hiding implementation details, encapsulation promotes code reusability by enabling objects to be used without needing to understand their internal workings.\n",
        "\n",
        "2. <font color='red'>**Abstraction**</font>: Encapsulation enables the creation of abstract data types where only essential details are exposed to the outside world while hiding the complexity of the implementation. This abstraction allows developers to focus on the interface provided by the class rather than its internal implementation. By abstracting away implementation details, encapsulation facilitates code reuse as classes can be used as black boxes, providing functionality without exposing unnecessary complexity.\n",
        "\n",
        "3. <font color='red'>**Modularity**</font>: Encapsulation promotes modularity by breaking down complex systems into smaller, manageable units (i.e., classes). Each class encapsulates a specific set of functionality and data, making it easier to understand, maintain, and modify. This modular structure allows developers to work on different parts of the system independently, reducing dependencies and promoting code reusability. Additionally, encapsulation encourages the use of well-defined interfaces between modules, facilitating communication and collaboration among developers.\n",
        "\n",
        "4. <font color='red'>**Encapsulation of Behavior**</font>: In addition to encapsulating data, encapsulation also encapsulates behavior through methods. By bundling data and behavior within a single class, encapsulation ensures that related functionality is grouped together, promoting a more organized and maintainable codebase. This encapsulation of behavior facilitates code reuse by allowing developers to reuse existing methods across different parts of the program.\n",
        "\n",
        "5. <font color='red'>**Information Hiding**</font>: Encapsulation allows developers to control access to class members (attributes and methods) using access modifiers such as public, private, and protected. By restricting access to certain members, encapsulation prevents unintended modifications and enforces proper usage of the class interface. This information hiding reduces the likelihood of bugs and improves the robustness of the codebase, ultimately enhancing code reusability and maintainability.\n",
        "\n",
        "In summary, encapsulation enhances code reusability and modularity in Python programs by promoting <font color='red'>**data hiding**</font>, <font color='red'>**abstraction**</font>, <font color='red'>**modularity**</font>, <font color='red'>**encapsulation of behavior**</font>, and <font color='red'>**information hiding**</font>. By encapsulating implementation details within classes and providing well-defined interfaces, encapsulation enables developers to build reusable, modular, and maintainable software systems.\n"
      ],
      "metadata": {
        "id": "329XTzDL7quX"
      }
    },
    {
      "cell_type": "markdown",
      "source": [
        "## ***19. Describe the concept of information hiding in encapsulation. Why is it essential in software development?***"
      ],
      "metadata": {
        "id": "0451hlBe7xo1"
      }
    },
    {
      "cell_type": "markdown",
      "source": [
        "\n",
        "### Describe the concept of information hiding in encapsulation. Why is it essential in software development?\n",
        "\n",
        "Information hiding is a key concept in encapsulation that involves hiding the implementation details of a class from external code, while exposing only the necessary interface for interacting with the class. This means that the internal workings of the class, including its data and methods, are hidden from outside access, and only a well-defined set of public methods and properties are accessible.\n",
        "\n",
        "**Why Information Hiding is Essential:**\n",
        "\n",
        "1. <font color='red'>**Abstraction**</font>: Information hiding allows developers to create abstractions by exposing only the essential features of a class while hiding its implementation details. This abstraction simplifies the usage of complex systems by providing a clear and concise interface.\n",
        "\n",
        "2. <font color='red'>**Reduced Complexity**</font>: By hiding the internal details of a class, information hiding reduces the complexity of the system for external users. Users only need to understand the public interface of the class, rather than its internal implementation, making the system easier to use and maintain.\n",
        "\n",
        "3. <font color='red'>**Encapsulation of Complexity**</font>: Information hiding enables encapsulation by bundling data and behavior together within a class and exposing a controlled interface. This encapsulation allows developers to manage and modify the internal behavior of the class without affecting external code, promoting code modularity and reusability.\n",
        "\n",
        "4. <font color='red'>**Enhanced Security**</font>: Hiding implementation details prevents unauthorized access to sensitive data and methods, enhancing security in software systems. By controlling access to class members, developers can enforce proper usage of the class and prevent unintended modifications or misuse.\n",
        "\n",
        "5. <font color='red'>**Improved Maintainability**</font>: Information hiding promotes code maintainability by reducing the dependencies between different parts of the system. Changes to the internal implementation of a class can be made without affecting external code, minimizing the risk of introducing bugs or breaking existing functionality.\n",
        "\n",
        "6. <font color='red'>**Flexibility and Evolution**</font>: Information hiding allows for changes to the internal implementation of a class without impacting the external interface. This flexibility enables developers to evolve and improve the system over time, adapting to changing requirements and technologies without disrupting existing code.\n",
        "\n",
        "In summary, information hiding is essential in software development because it promotes abstraction, reduces complexity, encapsulates complexity, enhances security, improves maintainability, and provides flexibility for system evolution. By hiding implementation details and exposing a controlled interface, information hiding enables the creation of robust, maintainable, and secure software systems.\n",
        "\n",
        "\n"
      ],
      "metadata": {
        "id": "bomAcm3z7_Cu"
      }
    },
    {
      "cell_type": "markdown",
      "source": [
        "## ***20. Create a Python class called `Customer` with private attributes for customer details like name, address,and contact information. Implement encapsulation to ensure data integrity and security.***"
      ],
      "metadata": {
        "id": "JUBdi5Dj7_N1"
      }
    },
    {
      "cell_type": "code",
      "source": [
        "class Customer:\n",
        "    def __init__(self, name, address, contact_info):\n",
        "        self.__name = name\n",
        "        self.__address = address\n",
        "        self.__contact_info = contact_info\n",
        "\n",
        "    def get_name(self):\n",
        "        return self.__name\n",
        "\n",
        "    def set_name(self, name):\n",
        "        self.__name = name\n",
        "\n",
        "    def get_address(self):\n",
        "        return self.__address\n",
        "\n",
        "    def set_address(self, address):\n",
        "        self.__address = address\n",
        "\n",
        "    def get_contact_info(self):\n",
        "        return self.__contact_info\n",
        "\n",
        "    def set_contact_info(self, contact_info):\n",
        "        self.__contact_info = contact_info\n",
        "\n",
        "# Example usage:\n",
        "customer1 = Customer(\"John Doe\", \"123 Main St\", \"john@example.com\")\n",
        "print(\"Customer Name:\", customer1.get_name())  # Output: Customer Name: John Doe\n",
        "print(\"Customer Address:\", customer1.get_address())  # Output: Customer Address: 123 Main St\n",
        "print(\"Customer Contact Info:\", customer1.get_contact_info())  # Output: Customer Contact Info: john@example.com\n",
        "\n",
        "# Update customer information\n",
        "customer1.set_address(\"456 Elm St\")\n",
        "print(\"Updated Customer Address:\", customer1.get_address())  # Output: Updated Customer Address: 456 Elm St\n"
      ],
      "metadata": {
        "colab": {
          "base_uri": "https://localhost:8080/"
        },
        "id": "8v34Qze38RZq",
        "outputId": "70db110b-82b4-4615-a2e3-8cbd5baa5ff8"
      },
      "execution_count": 22,
      "outputs": [
        {
          "output_type": "stream",
          "name": "stdout",
          "text": [
            "Customer Name: John Doe\n",
            "Customer Address: 123 Main St\n",
            "Customer Contact Info: john@example.com\n",
            "Updated Customer Address: 456 Elm St\n"
          ]
        }
      ]
    },
    {
      "cell_type": "markdown",
      "source": [
        "In this example:\n",
        "\n",
        "- The Customer class encapsulates customer details such as name, address, and contact information.\n",
        "- Private attributes (__name, __address, and __contact_info) ensure data integrity and security by restricting direct access from outside the class.\n",
        "- Getter and setter methods (get_name, set_name, get_address, set_address, get_contact_info, and set_contact_info) are provided to access and modify the private attributes, maintaining encapsulation and ensuring controlled access to customer information.\n",
        "- Example usage demonstrates creating a Customer object, accessing its attributes using getter methods, and updating customer information using setter methods."
      ],
      "metadata": {
        "id": "i_wZEY2m7_aK"
      }
    },
    {
      "cell_type": "markdown",
      "source": [
        "## <font color='blue'> **Polymorphism:**"
      ],
      "metadata": {
        "id": "r2Bxwa7nTFGD"
      }
    },
    {
      "cell_type": "markdown",
      "source": [
        "## ***1. What is polymorphism in Python? Explain how it is related to object-oriented programming.***"
      ],
      "metadata": {
        "id": "hlUYRaniTSi7"
      }
    },
    {
      "cell_type": "markdown",
      "source": [
        "\n",
        "\n",
        "Polymorphism in Python refers to the ability of different objects to respond to the same method or function call in different ways. It allows objects of different classes to be treated as objects of a common superclass, providing a unified interface for different types of objects.\n",
        "\n",
        "### Relationship to Object-Oriented Programming (OOP):\n",
        "\n",
        "1. <font color='red'>**Abstraction**</font>: Polymorphism is a fundamental concept in OOP that promotes abstraction by allowing objects to exhibit different behaviors through a common interface. This enables developers to write code that operates on objects at a higher level of abstraction, without needing to know the specific class of each object.\n",
        "\n",
        "2. <font color='red'>**Inheritance**</font>: Polymorphism is closely related to inheritance, as it often involves subclassing and overriding methods from superclass. Subclasses can provide their own implementation of methods inherited from the superclass, allowing for specialized behavior while still adhering to the common interface defined by the superclass.\n",
        "\n",
        "3. <font color='red'>**Encapsulation**</font>: Polymorphism helps in achieving encapsulation by allowing objects to expose only relevant behavior through their interface, while hiding the implementation details. This promotes modularity and code reuse by enabling objects to interact with each other through a well-defined interface without needing to know the internal details of each object.\n",
        "\n",
        "4. <font color='red'>**Dynamic Binding**</font>: Polymorphism in Python is achieved through dynamic binding, where the method or function to be called is determined at runtime based on the type of the object. This allows for flexibility and extensibility in the codebase, as new subclasses can be added without modifying existing code, and the appropriate method implementation is selected based on the actual type of the object during runtime.\n",
        "\n",
        "5. <font color='red'>**Code Reusability**</font>: Polymorphism promotes code reusability by allowing developers to write generic code that can operate on objects of different types. This reduces code duplication and increases the maintainability of the codebase, as common behaviors can be implemented once in a superclass and reused by multiple subclasses.\n",
        "\n",
        "In summary, polymorphism is a core concept in object-oriented programming that facilitates abstraction, inheritance, encapsulation, dynamic binding, and code reusability. It allows for flexible and extensible code designs by providing a unified interface for objects of different types, enabling them to exhibit different behaviors through a common interface.\n"
      ],
      "metadata": {
        "id": "1Y5TEz7DTn6o"
      }
    },
    {
      "cell_type": "markdown",
      "source": [
        "## ***2. Describe the difference between compile-time polymorphism and runtime polymorphism in Python.***"
      ],
      "metadata": {
        "id": "6V88VguHTtG3"
      }
    },
    {
      "cell_type": "markdown",
      "source": [
        "### Describe the difference between compile-time polymorphism and runtime polymorphism in Python.\n",
        "\n",
        "Compile-time polymorphism and runtime polymorphism are two forms of polymorphism that occur at different stages of program execution:\n",
        "\n",
        "1. <font color='red'>**Compile-time Polymorphism**</font>:\n",
        "   - Also known as static polymorphism or early binding.\n",
        "   - Occurs at compile time when the compiler determines which method or function to call based on the number, types, and order of arguments passed to it.\n",
        "   - Examples of compile-time polymorphism in Python include function overloading and operator overloading.\n",
        "   - Function overloading refers to defining multiple functions with the same name but with different parameter types or numbers. The appropriate function is selected by the compiler based on the arguments provided at compile time.\n",
        "   - Operator overloading allows operators such as +, -, *, / to be overloaded and used with custom classes. The behavior of the operator depends on the operands' types, which are known at compile time.\n",
        "\n",
        "\n",
        "\n",
        "```python\n",
        "class MathOperations:     #function overloading\n",
        "    @staticmethod\n",
        "    def add(x, y):\n",
        "        return x + y\n",
        "    \n",
        "    @staticmethod\n",
        "    def add(x, y, z):\n",
        "        return x + y + z\n",
        "\n",
        "# Example usage:\n",
        "print(MathOperations.add(2, 3))        # Output: TypeError: add() missing 1 required positional argument: 'z'\n",
        "print(MathOperations.add(2, 3, 4))     # Output: 9\n",
        "\n",
        "```\n",
        "\n",
        "\n",
        "\n",
        "```python\n",
        "class Vector:                        #Operator Overloading:\n",
        "    def __init__(self, x, y):\n",
        "        self.x = x\n",
        "        self.y = y\n",
        "    \n",
        "    def __add__(self, other):\n",
        "        return Vector(self.x + other.x, self.y + other.y)\n",
        "\n",
        "# Example usage:\n",
        "v1 = Vector(1, 2)\n",
        "v2 = Vector(3, 4)\n",
        "v3 = v1 + v2\n",
        "print(f\"({v3.x}, {v3.y})\")   # Output: (4, 6)\n",
        "\n",
        "```\n",
        "\n",
        "\n",
        "\n",
        "2. <font color='red'>**Runtime Polymorphism**</font>:\n",
        "   - Also known as dynamic polymorphism or late binding.\n",
        "   - Occurs at runtime when the method or function to be called is determined based on the actual type of the object.\n",
        "   - Achieved through method overriding, where a subclass provides a specific implementation of a method that is already defined in its superclass.\n",
        "   - The decision on which method implementation to execute is made dynamically at runtime based on the actual type of the object.\n",
        "   - In Python, runtime polymorphism is commonly achieved through inheritance and method overriding, allowing different subclasses to provide their own implementations of methods defined in a superclass. The method called on an object is determined dynamically based on the object's actual type during runtime.\n",
        "\n",
        "\n",
        "\n",
        "```python\n",
        "class Animal:          #method overloading\n",
        "    def speak(self):\n",
        "        print(\"Animal speaks\")\n",
        "\n",
        "class Dog(Animal):\n",
        "    def speak(self):\n",
        "        print(\"Dog barks\")\n",
        "\n",
        "class Cat(Animal):\n",
        "    def speak(self):\n",
        "        print(\"Cat meows\")\n",
        "\n",
        "# Example usage:\n",
        "animals = [Dog(), Cat()]\n",
        "for animal in animals:\n",
        "    animal.speak()\n",
        "# Output:\n",
        "# Dog barks\n",
        "# Cat meows\n",
        "\n",
        "```\n",
        "\n",
        "\n",
        "\n",
        "In summary, the main difference between compile-time polymorphism and runtime polymorphism in Python lies in when the method or function resolution occurs: compile time for compile-time polymorphism and runtime for runtime polymorphism.\n"
      ],
      "metadata": {
        "id": "zTH9iH-bUI1U"
      }
    },
    {
      "cell_type": "markdown",
      "source": [
        "## ***3. Create a Python class hierarchy for shapes (e.g., circle, square, triangle) and demonstrate polymorphism through a common method, such as `calculate_area()`.***"
      ],
      "metadata": {
        "id": "sFWNvSOLV0JK"
      }
    },
    {
      "cell_type": "code",
      "source": [
        "import math\n",
        "\n",
        "class Shape:\n",
        "    def calculate_area(self):\n",
        "        pass\n",
        "\n",
        "class Circle(Shape):\n",
        "    def __init__(self, radius):\n",
        "        self.radius = radius\n",
        "\n",
        "    def calculate_area(self):\n",
        "        return math.pi * self.radius ** 2\n",
        "\n",
        "class Square(Shape):\n",
        "    def __init__(self, side_length):\n",
        "        self.side_length = side_length\n",
        "\n",
        "    def calculate_area(self):\n",
        "        return self.side_length ** 2\n",
        "\n",
        "class Triangle(Shape):\n",
        "    def __init__(self, base, height):\n",
        "        self.base = base\n",
        "        self.height = height\n",
        "\n",
        "    def calculate_area(self):\n",
        "        return 0.5 * self.base * self.height\n",
        "\n",
        "# Example usage:\n",
        "circle = Circle(5)\n",
        "square = Square(4)\n",
        "triangle = Triangle(3, 6)\n",
        "\n",
        "shapes = [circle, square, triangle]\n",
        "for shape in shapes:\n",
        "    print(\"Area:\", shape.calculate_area())\n"
      ],
      "metadata": {
        "colab": {
          "base_uri": "https://localhost:8080/"
        },
        "id": "RLKhp67N7L6c",
        "outputId": "43c6820a-2ca0-45b9-ff48-61e83c097fba"
      },
      "execution_count": 1,
      "outputs": [
        {
          "output_type": "stream",
          "name": "stdout",
          "text": [
            "Area: 78.53981633974483\n",
            "Area: 16\n",
            "Area: 9.0\n"
          ]
        }
      ]
    },
    {
      "cell_type": "markdown",
      "source": [
        "In this example:\n",
        "\n",
        "- There is a base class Shape with a method calculate_area() that is meant to be overridden by subclasses.\n",
        "- Subclasses Circle, Square, and Triangle inherit from the Shape class and provide their own implementations of the calculate_area() method.\n",
        "- When the calculate_area() method is called on objects of different shapes, the appropriate overridden method is invoked based on the actual type of the object, demonstrating polymorphism.\n",
        "- The calculate_area() method calculates and returns the area of the respective shape based on its specific formula."
      ],
      "metadata": {
        "id": "Uy9PzP6cWD75"
      }
    },
    {
      "cell_type": "markdown",
      "source": [
        "## ***4. Explain the concept of method overriding in polymorphism. Provide an example.***"
      ],
      "metadata": {
        "id": "iN1rOcbYWKe9"
      }
    },
    {
      "cell_type": "markdown",
      "source": [
        "\n",
        "\n",
        "Method overriding is a concept in polymorphism where a subclass provides a specific implementation of a method that is already defined in its superclass. This allows the subclass to customize or extend the behavior of the inherited method while maintaining the same method signature (i.e., method name and parameters) as the superclass.\n",
        "\n",
        "#### Example of Method Overriding:\n",
        "\n",
        "```python\n",
        "class Animal:\n",
        "    def speak(self):\n",
        "        print(\"Animal speaks\")\n",
        "\n",
        "class Dog(Animal):\n",
        "    def speak(self):\n",
        "        print(\"Dog barks\")\n",
        "\n",
        "class Cat(Animal):\n",
        "    def speak(self):\n",
        "        print(\"Cat meows\")\n",
        "\n",
        "# Example usage:\n",
        "animals = [Dog(), Cat()]\n",
        "for animal in animals:\n",
        "    animal.speak()\n",
        "# Output:\n",
        "# Dog barks\n",
        "# Cat meows\n"
      ],
      "metadata": {
        "id": "4pM22BWbWUEs"
      }
    },
    {
      "cell_type": "markdown",
      "source": [
        "\n",
        "\n",
        "Method overriding is a concept in polymorphism where a subclass provides a specific implementation of a method that is already defined in its superclass. This allows the subclass to customize or extend the behavior of the inherited method while maintaining the same method signature (i.e., method name and parameters) as the superclass.\n",
        "\n",
        "#### Example of Method Overriding:\n",
        "\n",
        "```python\n",
        "class Animal:\n",
        "    def speak(self):\n",
        "        print(\"Animal speaks\")\n",
        "\n",
        "class Dog(Animal):\n",
        "    def speak(self):\n",
        "        print(\"Dog barks\")\n",
        "\n",
        "class Cat(Animal):\n",
        "    def speak(self):\n",
        "        print(\"Cat meows\")\n",
        "\n",
        "# Example usage:\n",
        "animals = [Dog(), Cat()]\n",
        "for animal in animals:\n",
        "    animal.speak()\n",
        "# Output:\n",
        "# Dog barks\n",
        "# Cat meows\n",
        "```\n",
        "In this example:\n",
        "\n",
        "- The Animal class defines a speak method.\n",
        "- Both the Dog and Cat classes inherit from the Animal class and provide their own implementations of the speak method, overriding the method defined in the Animal class.\n",
        "- When calling the speak method on objects of type Dog or Cat, the overridden method in the respective subclass is invoked, demonstrating polymorphism through method overriding."
      ],
      "metadata": {
        "id": "-e-eox51WYHU"
      }
    },
    {
      "cell_type": "markdown",
      "source": [
        "## ***5. How is polymorphism different from method overloading in Python? Provide examples for both.***"
      ],
      "metadata": {
        "id": "RW7ryQWYWmLH"
      }
    },
    {
      "cell_type": "markdown",
      "source": [
        "\n",
        "\n",
        "#### Polymorphism:\n",
        "\n",
        "Polymorphism refers to the ability of different objects to respond to the same method or function call in different ways. It allows objects of different classes to be treated as objects of a common superclass, providing a unified interface for different types of objects.\n",
        "\n",
        "```python\n",
        "class Animal:\n",
        "    def speak(self):\n",
        "        print(\"Animal speaks\")\n",
        "\n",
        "class Dog(Animal):\n",
        "    def speak(self):\n",
        "        print(\"Dog barks\")\n",
        "\n",
        "class Cat(Animal):\n",
        "    def speak(self):\n",
        "        print(\"Cat meows\")\n",
        "\n",
        "# Example usage:\n",
        "animals = [Dog(), Cat()]\n",
        "for animal in animals:\n",
        "    animal.speak()\n",
        "# Output:\n",
        "# Dog barks\n",
        "# Cat meows\n"
      ],
      "metadata": {
        "id": "oqQJg6FVWuXC"
      }
    },
    {
      "cell_type": "markdown",
      "source": [
        "In this example, the speak method is invoked on objects of different subclasses (Dog and Cat), and the appropriate overridden method is called based on the actual type of the object, demonstrating polymorphism.\n",
        "\n",
        "## **Method Overloading:**\n",
        "\n",
        "Method overloading refers to the ability to define multiple methods with the same name but with different parameter types or numbers within the same class.\n",
        "\n",
        "However, Python does not support true method overloading based on parameter types or numbers like some other programming languages. Instead, the last method definition overwrites the previous one."
      ],
      "metadata": {
        "id": "Z5V6HyuHW62A"
      }
    },
    {
      "cell_type": "code",
      "source": [
        "class MathOperations:\n",
        "    def add(self, x, y):\n",
        "        return x + y\n",
        "\n",
        "    def add(self, x, y, z):\n",
        "        return x + y + z\n",
        "\n",
        "# Example usage:\n",
        "math_ops = MathOperations()\n",
        "#print(math_ops.add(2, 3))        # Output: TypeError: add() missing 1 required positional argument: 'z'\n",
        "#print(math_ops.add(2, 3, 4))     # Output: 9\n"
      ],
      "metadata": {
        "id": "q_rO4W71V_JE"
      },
      "execution_count": 3,
      "outputs": []
    },
    {
      "cell_type": "markdown",
      "source": [
        "In this example, the MathOperations class attempts to define two add methods with different numbers of parameters. However, only the last method definition is retained, and attempting to call the add method with two arguments results in a TypeError."
      ],
      "metadata": {
        "id": "VpMIiLZoXNa8"
      }
    },
    {
      "cell_type": "markdown",
      "source": [
        "## ***6. Create a Python class called `Animal` with a method `speak()`. Then, create child classes like `Dog`, `Cat`, and `Bird`, each with their own `speak()` method. Demonstrate polymorphism by calling the `speak()` method on objects of different subclasses.***"
      ],
      "metadata": {
        "id": "OKJcjb43XV_h"
      }
    },
    {
      "cell_type": "code",
      "source": [
        "class Animal:\n",
        "    def speak(self):\n",
        "        # Base class method for speaking, to be overridden by subclasses\n",
        "        pass\n",
        "\n",
        "class Dog(Animal):\n",
        "    def speak(self):\n",
        "        # Dog's implementation of the speak method\n",
        "        return \"Woof!\"\n",
        "\n",
        "class Cat(Animal):\n",
        "    def speak(self):\n",
        "        # Cat's implementation of the speak method\n",
        "        return \"Meow!\"\n",
        "\n",
        "class Bird(Animal):\n",
        "    def speak(self):\n",
        "        # Bird's implementation of the speak method\n",
        "        return \"Tweet!\"\n",
        "\n",
        "# Example usage:\n",
        "dog = Dog()\n",
        "cat = Cat()\n",
        "bird = Bird()\n",
        "\n",
        "animals = [dog, cat, bird]\n",
        "for animal in animals:\n",
        "    # Print the name of the animal's class and its sound\n",
        "    print(animal.__class__.__name__, \"says:\", animal.speak())\n",
        "# Output:\n",
        "# Dog says: Woof!\n",
        "# Cat says: Meow!\n",
        "# Bird says: Tweet!\n"
      ],
      "metadata": {
        "colab": {
          "base_uri": "https://localhost:8080/"
        },
        "id": "5sfwxFUcXIKb",
        "outputId": "26e55be8-c244-4253-efab-f324adbd36f2"
      },
      "execution_count": 4,
      "outputs": [
        {
          "output_type": "stream",
          "name": "stdout",
          "text": [
            "Dog says: Woof!\n",
            "Cat says: Meow!\n",
            "Bird says: Tweet!\n"
          ]
        }
      ]
    },
    {
      "cell_type": "markdown",
      "source": [
        "In this code:\n",
        "\n",
        "Each class is commented to explain its purpose and the method overriding.\n",
        "\n",
        "Comments are added to the example usage section to describe how the speak() method is called on objects of different subclasses and the expected output."
      ],
      "metadata": {
        "id": "DClrFJvXX3vI"
      }
    },
    {
      "cell_type": "markdown",
      "source": [
        "## ***7. Discuss the use of abstract methods and classes in achieving polymorphism in Python. Provide an example using the `abc` module.***"
      ],
      "metadata": {
        "id": "zQzANv7zX7B8"
      }
    },
    {
      "cell_type": "markdown",
      "source": [
        "\n",
        "\n",
        "\n",
        "<font color='red'>**Abstract methods**</font> and <font color='red'>**classess**</font> are used to define a common interface or behavior that subclasses must implement. This promotes polymorphism by ensuring that objects of different subclasses can be treated uniformly through a common interface, even though each subclass provides its own implementation of the abstract methods.\n",
        "\n",
        "#### Example using the `abc` module:\n",
        "\n",
        "\n"
      ],
      "metadata": {
        "id": "s8kZSI10YzeT"
      }
    },
    {
      "cell_type": "code",
      "source": [
        "import math\n",
        "from abc import ABC, abstractmethod\n",
        "\n",
        "class Shape(ABC):\n",
        "    @abstractmethod\n",
        "    def calculate_area(self):\n",
        "        pass\n",
        "\n",
        "class Circle(Shape):\n",
        "    def __init__(self, radius):\n",
        "        self.radius = radius\n",
        "\n",
        "    def calculate_area(self):\n",
        "        return math.pi * self.radius ** 2\n",
        "\n",
        "class Square(Shape):\n",
        "    def __init__(self, side_length):\n",
        "        self.side_length = side_length\n",
        "\n",
        "    def calculate_area(self):\n",
        "        return self.side_length ** 2\n",
        "\n",
        "class Triangle(Shape):\n",
        "    def __init__(self, base, height):\n",
        "        self.base = base\n",
        "        self.height = height\n",
        "\n",
        "    def calculate_area(self):\n",
        "        return 0.5 * self.base * self.height\n",
        "\n",
        "# Example usage:\n",
        "circle = Circle(5)\n",
        "square = Square(4)\n",
        "triangle = Triangle(3, 6)\n",
        "\n",
        "shapes = [circle, square, triangle]\n",
        "for shape in shapes:\n",
        "    print(\"Area:\", shape.calculate_area())"
      ],
      "metadata": {
        "colab": {
          "base_uri": "https://localhost:8080/"
        },
        "id": "XHVKWevEXzIX",
        "outputId": "49d9ed76-b61d-4434-b735-92ccd385d7a4"
      },
      "execution_count": 5,
      "outputs": [
        {
          "output_type": "stream",
          "name": "stdout",
          "text": [
            "Area: 78.53981633974483\n",
            "Area: 16\n",
            "Area: 9.0\n"
          ]
        }
      ]
    },
    {
      "cell_type": "markdown",
      "source": [
        "In this example:\n",
        "\n",
        "- The <font color='red'>Shape</font> class is an abstract base class (ABC) that defines an <font color='red'>abstract method</font> <font color='red'>calculate_area()</font>.\n",
        "- Subclasses <font color='red'>Circle</font>, <font color='red'>Square</font>, and <font color='red'>Triangle</font> inherit from the <font color='red'>Shape</font> class and provide their own implementations of the <font color='red'>calculate_area()</font> method.\n",
        "- Each subclass implements the <font color='red'>calculate_area()</font> method according to its specific shape, ensuring that objects of different subclasses can be treated uniformly through the common interface provided by the <font color='red'>Shape</font> class.\n",
        "- Polymorphism is achieved as the <font color='red'>calculate_area()</font> method is called on objects of different subclasses, and the appropriate overridden method in each subclass is invoked based on the actual type of the object."
      ],
      "metadata": {
        "id": "M3t6xMrEZX32"
      }
    },
    {
      "cell_type": "markdown",
      "source": [
        "## ***8. Create a Python class hierarchy for a vehicle system (e.g., car, bicycle, boat) and implement a polymorphic `start()` method that prints a message specific to each vehicle type.***"
      ],
      "metadata": {
        "id": "1sHxOVXTaApw"
      }
    },
    {
      "cell_type": "code",
      "source": [
        "class Vehicle:\n",
        "    def start(self):\n",
        "        # Base class method for starting the vehicle, to be overridden by subclasses\n",
        "        pass\n",
        "\n",
        "class Car(Vehicle):\n",
        "    def start(self):\n",
        "        # Car-specific implementation of starting\n",
        "        return \"Car started. Vroom!\"\n",
        "\n",
        "class Bicycle(Vehicle):\n",
        "    def start(self):\n",
        "        # Bicycle-specific implementation of starting\n",
        "        return \"Bicycle started. Pedal away!\"\n",
        "\n",
        "class Boat(Vehicle):\n",
        "    def start(self):\n",
        "        # Boat-specific implementation of starting\n",
        "        return \"Boat started. Set sail!\"\n",
        "\n",
        "# Example usage:\n",
        "car = Car()\n",
        "bicycle = Bicycle()\n",
        "boat = Boat()\n",
        "\n",
        "vehicles = [car, bicycle, boat]\n",
        "for vehicle in vehicles:\n",
        "    # Call the start method on each vehicle object and print the result\n",
        "    print(vehicle.start())\n"
      ],
      "metadata": {
        "colab": {
          "base_uri": "https://localhost:8080/"
        },
        "id": "4pVAadp4ZTUd",
        "outputId": "5babd6ad-9d4a-467e-ed8c-a5fc16bad883"
      },
      "execution_count": 6,
      "outputs": [
        {
          "output_type": "stream",
          "name": "stdout",
          "text": [
            "Car started. Vroom!\n",
            "Bicycle started. Pedal away!\n",
            "Boat started. Set sail!\n"
          ]
        }
      ]
    },
    {
      "cell_type": "markdown",
      "source": [
        "\n",
        "In this example:\n",
        "\n",
        "The <font color='red'>Vehicle</font> class is a base class that defines a polymorphic method <font color='red'>start()</font>.\n",
        "\n",
        "Subclasses such as <font color='red'>Car</font>, <font color='red'>Bicycle</font>, and <font color='red'>Boat</font> inherit from the <font color='red'>Vehicle</font> class and provide their own implementations of the <font color='red'>start()</font> method.\n",
        "\n",
        "Each subclass implements the <font color='red'>start()</font> method with a message specific to its type of vehicle.\n",
        "\n",
        "Polymorphism is demonstrated as the <font color='red'>start()</font> method is called on objects of different subclasses, and the appropriate overridden method in each subclass is invoked based on the actual type of the object."
      ],
      "metadata": {
        "id": "qdcKR4OFay3B"
      }
    },
    {
      "cell_type": "markdown",
      "source": [
        "## ***9. Explain the significance of the `isinstance()` and `issubclass()` functions in Python polymorphism.***"
      ],
      "metadata": {
        "id": "J8lCO66Hba3X"
      }
    },
    {
      "cell_type": "markdown",
      "source": [
        "## **Polymorphism in Python with isinstance() and issubclass()**\n",
        "\n",
        "Polymorphism in Python allows you to write code that works with objects of different classes in a similar way. The isinstance() and issubclass() functions are crucial tools for implementing polymorphism effectively.\n",
        "\n",
        "**isinstance()**\n",
        "\n",
        "- Checks if an object is an instance of a class or a subclass of that class.\n",
        "- Takes two arguments:\n",
        "- The object to be checked.\n",
        "- A class or tuple of classes.\n",
        "Returns True if the object is an instance of the class or any subclass in the tuple, otherwise False.\n",
        "\n",
        "**Significance in Polymorphism**\n",
        "\n",
        "- Enables writing functions that accept objects of a particular class or its subclasses (red).\n",
        "- The function can then call methods or access attributes that are common to all the accepted classes.\n",
        "- Enforces type safety by ensuring the function is working with expected object types.\n",
        "\n",
        "\n",
        "Example"
      ],
      "metadata": {
        "id": "LuDSlSZXkaR-"
      }
    },
    {
      "cell_type": "code",
      "source": [
        "\n",
        "class Animal:\n",
        "  def __init__(self, name):\n",
        "    self.name = name\n",
        "\n",
        "  def speak(self):\n",
        "    print(\"Generic animal sound\")\n",
        "\n",
        "class Dog(Animal):\n",
        "  def speak(self):\n",
        "    print(\"Woof!\")\n",
        "\n",
        "class Cat(Animal):\n",
        "  def speak(self):\n",
        "\n",
        "    print(\"Meow!\")\n",
        "\n",
        "def make_animal_speak(animal):\n",
        "  # isinstance() check if an object is an instance of a class (**red**)\n",
        "  if isinstance(animal, Animal):\n",
        "    animal.speak()\n",
        "  else:\n",
        "    print(\"That is not an Animal!\")\n",
        "\n",
        "# Create objects\n",
        "dog = Dog(\"Fido\")\n",
        "cat = Cat(\"Whiskers\")\n",
        "not_an_animal = \"Not an Animal\"\n",
        "\n",
        "# Call make_animal_speak with different objects\n",
        "make_animal_speak(dog)  # Output: Woof!\n",
        "make_animal_speak(cat)  # Output: Meow!\n",
        "make_animal_speak(not_an_animal)  # Output: That is not an Animal!"
      ],
      "metadata": {
        "colab": {
          "base_uri": "https://localhost:8080/"
        },
        "id": "GTUbYNW6bAgy",
        "outputId": "a002e63c-5746-425d-8887-fe375ff6e037"
      },
      "execution_count": 8,
      "outputs": [
        {
          "output_type": "stream",
          "name": "stdout",
          "text": [
            "Woof!\n",
            "Meow!\n",
            "That is not an Animal!\n"
          ]
        }
      ]
    },
    {
      "cell_type": "markdown",
      "source": [
        "## **issubclass()**\n",
        "\n",
        "- Checks if a class is a subclass of another class (red).\n",
        "- Takes two arguments:\n",
        "  - A class to be checked.\n",
        "  - A class or tuple of classes.\n",
        "- Returns True if the first class is a subclass of the second class (or any class in the tuple), otherwise False.\n",
        "\n",
        "##**Significance in Polymorphism**\n",
        "\n",
        "- Useful for checking class relationships at runtime (red).\n",
        "- Can be used to dynamically determine appropriate behavior based on class hierarchies.\n",
        "\n",
        "**Example**"
      ],
      "metadata": {
        "id": "58w0dDG3lhfQ"
      }
    },
    {
      "cell_type": "code",
      "source": [
        "print(issubclass(Dog, Animal))  # Output: True (Dog inherits from Animal)\n",
        "print(issubclass(Animal, Dog))  # Output: False (Animal is not a subclass of Dog)"
      ],
      "metadata": {
        "colab": {
          "base_uri": "https://localhost:8080/"
        },
        "id": "yn_1PdbElZla",
        "outputId": "966aa53f-ce08-4295-d046-0ec963100922"
      },
      "execution_count": 9,
      "outputs": [
        {
          "output_type": "stream",
          "name": "stdout",
          "text": [
            "True\n",
            "False\n"
          ]
        }
      ]
    },
    {
      "cell_type": "markdown",
      "source": [
        "## ***10.What is the role of the `@abstractmethod` decorator in achieving polymorphism in Python? Provide an example.***"
      ],
      "metadata": {
        "id": "nwr1E7PRnMK8"
      }
    },
    {
      "cell_type": "markdown",
      "source": [
        "- <font color='red'><b>The `@abstractmethod` decorator</b></font> plays a vital role in achieving polymorphism in Python by defining abstract methods within abstract classes. Here's how it works:\n",
        "\n",
        "- <font color='red'><b>Abstract Methods:</b></font>\n",
        "  - An abstract method is a method declared in an abstract class but has no implementation within the class itself. It acts as a blueprint for subclasses, forcing them to provide a concrete implementation.\n",
        "\n",
        "- <font color='red'><b>The `@abstractmethod` decorator:</b></font>\n",
        "  - This decorator is used to mark a method within an abstract class as abstract. When a method is decorated with <font color='red'><b>@abstractmethod</b></font>, it enforces the requirement for subclasses to define their own implementation of that method. If a subclass inherits from an abstract class without implementing the abstract methods, attempting to create an instance of that subclass will result in an error.\n",
        "\n",
        "- <font color='red'><b>Benefits for Polymorphism:</b></font>\n",
        "  - Abstract classes with abstract methods establish a common interface for subclasses. Subclasses can inherit the common functionality from the abstract class while providing their specific implementations for the abstract methods. This allows you to write functions that work with objects of the abstract class or any of its concrete subclasses (as long as they implement the abstract methods). The function can call the methods (including the abstract methods) knowing that they will have a concrete implementation in the specific subclass being used.\n",
        "\n"
      ],
      "metadata": {
        "id": "OcpIHwG6nMhU"
      }
    },
    {
      "cell_type": "code",
      "source": [
        "from abc import ABC, abstractmethod\n",
        "\n",
        "class Shape(ABC):\n",
        "  \"\"\"Abstract class representing a geometric shape.\"\"\"\n",
        "\n",
        "  @abstractmethod\n",
        "  def area(self):\n",
        "    \"\"\"Abstract method to calculate the area of the shape.\"\"\"\n",
        "    pass  # Placeholder for subclasses to implement\n",
        "\n",
        "class Square(Shape):\n",
        "  \"\"\"Concrete subclass representing a square.\"\"\"\n",
        "\n",
        "  def __init__(self, side_length):\n",
        "    self.side_length = side_length\n",
        "\n",
        "  def area(self):\n",
        "    \"\"\"Concrete implementation of area for Square.\"\"\"\n",
        "    return self.side_length * self.side_length\n",
        "\n",
        "class Circle(Shape):\n",
        "  \"\"\"Concrete subclass representing a circle.\"\"\"\n",
        "\n",
        "  def __init__(self, radius):\n",
        "    self.radius = radius\n",
        "\n",
        "  def area(self):\n",
        "    \"\"\"Concrete implementation of area for Circle.\"\"\"\n",
        "    return 3.14 * self.radius * self.radius\n",
        "\n",
        "def calculate_total_area(shapes):\n",
        "  \"\"\"Function that calculates the total area of a list of shapes.\"\"\"\n",
        "  total_area = 0\n",
        "  for shape in shapes:\n",
        "    total_area += shape.area()  # Polymorphic call - works with Square and Circle\n",
        "  return total_area\n",
        "\n",
        "# Create shapes\n",
        "square = Square(5)\n",
        "circle = Circle(3)\n",
        "\n",
        "# List of shapes\n",
        "shapes = [square, circle]\n",
        "\n",
        "# Calculate total area using the function (polymorphic behavior)\n",
        "total_area = calculate_total_area(shapes)\n",
        "print(f\"Total area of shapes: {total_area}\")\n"
      ],
      "metadata": {
        "colab": {
          "base_uri": "https://localhost:8080/"
        },
        "id": "XXHoFOeimI3z",
        "outputId": "8759c0a9-3e8d-43d7-ef0f-e8037b250239"
      },
      "execution_count": 10,
      "outputs": [
        {
          "output_type": "stream",
          "name": "stdout",
          "text": [
            "Total area of shapes: 53.26\n"
          ]
        }
      ]
    },
    {
      "cell_type": "markdown",
      "source": [
        "In this example:\n",
        "\n",
        "- Shape is an abstract class with an abstract method area().\n",
        "- Square and Circle are concrete subclasses that inherit from Shape and implement the area() method with their specific calculations.\n",
        "- The calculate_total_area function works with a list of Shape objects (or any subclasses of Shape).\n",
        "- The polymorphic call to shape.area() ensures the appropriate implementation is used based on the actual object type (Square or Circle) in the loop."
      ],
      "metadata": {
        "id": "Q7w6OxRinjrd"
      }
    },
    {
      "cell_type": "markdown",
      "source": [
        "## ***11. Create a Python class called `Shape` with a polymorphic method `area()` that calculates the area of different shapes (e.g., circle, rectangle, triangle).***"
      ],
      "metadata": {
        "id": "yefyh78snsQN"
      }
    },
    {
      "cell_type": "code",
      "source": [
        "from abc import ABC, abstractmethod\n",
        "\n",
        "class Shape(ABC):\n",
        "  \"\"\"Abstract class representing a geometric shape.\"\"\"\n",
        "\n",
        "  @abstractmethod\n",
        "  def area(self):\n",
        "    \"\"\"Abstract method to calculate the area of the shape.\"\"\"\n",
        "    pass  # Placeholder for subclasses to implement\n",
        "\n",
        "class Circle(Shape):\n",
        "  \"\"\"Concrete subclass representing a circle.\"\"\"\n",
        "\n",
        "  def __init__(self, radius):\n",
        "    self.radius = radius\n",
        "\n",
        "  def area(self):\n",
        "    \"\"\"Calculates the area of a circle.\"\"\"\n",
        "    return 3.14 * self.radius * self.radius\n",
        "\n",
        "class Rectangle(Shape):\n",
        "  \"\"\"Concrete subclass representing a rectangle.\"\"\"\n",
        "\n",
        "  def __init__(self, width, height):\n",
        "    self.width = width\n",
        "    self.height = height\n",
        "\n",
        "  def area(self):\n",
        "    \"\"\"Calculates the area of a rectangle.\"\"\"\n",
        "    return self.width * self.height\n",
        "\n",
        "class Triangle(Shape):\n",
        "  \"\"\"Concrete subclass representing a triangle.\"\"\"\n",
        "\n",
        "  def __init__(self, base, height):\n",
        "    self.base = base\n",
        "    self.height = height\n",
        "\n",
        "  def area(self):\n",
        "    \"\"\"Calculates the area of a triangle.\"\"\"\n",
        "    return 0.5 * self.base * self.height\n",
        "\n",
        "# Create shapes\n",
        "circle = Circle(5)\n",
        "rectangle = Rectangle(4, 6)\n",
        "triangle = Triangle(3, 4)\n",
        "\n",
        "# Calculate areas using the polymorphic area() method\n",
        "print(f\"Circle area: {circle.area()}\")\n",
        "print(f\"Rectangle area: {rectangle.area()}\")\n",
        "print(f\"Triangle area: {triangle.area()}\")\n"
      ],
      "metadata": {
        "colab": {
          "base_uri": "https://localhost:8080/"
        },
        "id": "srKZQ3a2nfoT",
        "outputId": "be3f7238-3df3-4f74-87c0-fddd40a76b77"
      },
      "execution_count": 11,
      "outputs": [
        {
          "output_type": "stream",
          "name": "stdout",
          "text": [
            "Circle area: 78.5\n",
            "Rectangle area: 24\n",
            "Triangle area: 6.0\n"
          ]
        }
      ]
    },
    {
      "cell_type": "markdown",
      "source": [
        "This code defines:\n",
        "\n",
        "- An abstract class Shape with an abstract method area().\n",
        "- Subclasses Circle, Rectangle, and Triangle that inherit from Shape and provide concrete implementations for area() based on their specific formulas.\n",
        "- The area() method calls within the print statements demonstrate the polymorphic behavior.\n",
        "- The correct area() method is invoked depending on the object type (Circle, Rectangle, or Triangle) at runtime."
      ],
      "metadata": {
        "id": "vFXf6gbuoWJN"
      }
    },
    {
      "cell_type": "markdown",
      "source": [
        "## ***12. Discuss the benefits of polymorphism in terms of code reusability and flexibility in Python programs.***"
      ],
      "metadata": {
        "id": "HuMYt-SDpgYL"
      }
    },
    {
      "cell_type": "markdown",
      "source": [
        "\n",
        "\n",
        "## <font color='red'>**Benefits of Polymorphism in Python**</font>:\n",
        "\n",
        "Polymorphism brings significant advantages to Python programs in terms of **code reusability** and **flexibility**. Here's a breakdown of these benefits:\n",
        "\n",
        "**reusability**\n",
        "\n",
        "* **Reduced Code Duplication:** Polymorphism allows you to write generic code that can work with objects of different classes that share a common interface. This eliminates the need to write separate code blocks for handling each specific class type (written in **red**). Imagine having separate functions to calculate areas for squares, circles, and triangles. With polymorphism, you can define a single `area()` method in an abstract `Shape` class and let subclasses handle the specifics.\n",
        "* **Maintainable Codebase:** By using polymorphic functions and abstract classes, your code becomes more modular and easier to maintain (written in **red**). Changes made to the abstract class or a specific subclass's implementation propagate throughout the codebase automatically, reducing the need for repetitive modifications.\n",
        "\n",
        "**Flexibility**\n",
        "\n",
        "* **Expandable Functionality:** Polymorphic design allows you to easily add new concrete subclasses without modifying existing code (written in **red**). As long as the new subclass implements the required methods from the abstract class, it can seamlessly integrate with the existing functionality. Imagine wanting to add a `Pentagon` class to calculate its area. You wouldn't need to change the `calculate_total_area()` function; you'd simply create a `Pentagon` class with an `area()` method.\n",
        "* **Dynamic Behavior:** Polymorphism enables functions to handle objects of different types at runtime (written in **red**). This allows for more dynamic and adaptable code. For example, a sorting function that works with a list of `Shape` objects can sort them based on their area by calling the polymorphic `area()` method on each object, regardless of its specific subclass type (Circle, Rectangle, etc.).\n",
        "\n",
        "Here are some additional points to consider:\n",
        "\n",
        "* Polymorphism promotes a more **object-oriented** approach to programming, encouraging code organization based on real-world concepts (like shapes) and their behaviors (written in **red**).\n",
        "* While polymorphism offers great benefits, it can introduce complexity if not designed carefully. Overly abstract class structures can be challenging to understand and maintain.\n",
        "\n",
        "Overall, polymorphism is a powerful tool in Python that helps you write cleaner, more reusable, and adaptable code, making your programs more efficient and easier to maintain in the long run.\n"
      ],
      "metadata": {
        "id": "DOt_gf5bofFI"
      }
    },
    {
      "cell_type": "markdown",
      "source": [
        "## ***13. Explain the use of the `super()` function in Python polymorphism. How does it help call methods of parent classes?***"
      ],
      "metadata": {
        "id": "ZdZnyvdSpu1i"
      }
    },
    {
      "cell_type": "markdown",
      "source": [
        "In Python's approach to polymorphism, the `super()` function plays a crucial role in enabling method overriding and inheritance. Here's a breakdown of its functionality:\n",
        "\n",
        "**Method Overriding and Inheritance:**\n",
        "\n",
        "* Polymorphism often involves subclasses inheriting methods from parent classes (superclasses) and potentially providing their own implementations for those methods. This is known as **method overriding**.\n",
        "* When a method is overridden in a subclass, the subclass's implementation takes precedence.\n",
        "\n",
        "**The Role of `super()`:**\n",
        "\n",
        "* The `super()` function helps you call methods from a parent class within a method of a subclass.\n",
        "* It provides a way to access and potentially reuse the functionality defined in the parent class, even if it's been overridden in the subclass.\n",
        "\n",
        "**How it Works:**\n",
        "\n",
        "1. `super()` takes two arguments (though often only the first argument is explicitly provided):\n",
        "    * The current subclass (`self` by convention).\n",
        "    * The parent class (or a superclass in the hierarchy).\n",
        "2. It returns a proxy object that delegates method calls to the corresponding method in the parent class.\n",
        "3. When you call a method using `super()`, the call is directed to the appropriate method in the parent class hierarchy.\n",
        "\n",
        "**Benefits of Using `super()`:**\n",
        "\n",
        "* **Maintains Parent Class Behavior:** By calling the parent class method using `super()`, you ensure that the base functionality defined in the parent class is still executed, even if you've overridden the method in the subclass. This is essential for preserving the intended behavior of the class hierarchy.\n",
        "* **Flexibility in Method Overriding:** `super()` allows you to selectively reuse parts of the parent class method while providing your own customizations in the subclass. This promotes code reusability and maintainability.\n",
        "\n",
        "**Example:**\n",
        "\n",
        "```python\n",
        "class Animal:\n",
        "  def __init__(self, name):\n",
        "    self.name = name\n",
        "\n",
        "  def speak(self):\n",
        "    print(\"Generic animal sound\")\n",
        "\n",
        "class Dog(Animal):\n",
        "  def __init__(self, name, breed):\n",
        "    super().__init__(name)  # Call parent constructor using super()\n",
        "    self.breed = breed\n",
        "\n",
        "  def speak(self):\n",
        "    # Call the parent's speak method using super()\n",
        "    super().speak()  # Prints \"Generic animal sound\"\n",
        "    print(f\"{self.name} (the {self.breed}) says woof!\")\n",
        "\n",
        "# Create objects\n",
        "animal = Animal(\"Creature\")\n",
        "dog = Dog(\"Fido\", \"Labrador\")\n",
        "\n",
        "# Call speak methods\n",
        "animal.speak()  # Output: Generic animal sound\n",
        "dog.speak()  # Output: Generic animal sound\n",
        "            #        Fido (the Labrador) says woof!\n",
        "```\n",
        "\n",
        "In this example:\n",
        "\n",
        "* `Dog` inherits from `Animal`.\n",
        "* `Dog` overrides the `speak` method to add its specific behavior (printing the dog's name and breed).\n",
        "* Within the overridden `speak` method in `Dog`, `super().speak()` calls the parent class's `speak` method, ensuring the base functionality of making a generic animal sound is still included.\n",
        "\n",
        "By using `super()`, you can create a more robust and well-structured inheritance hierarchy in your Python programs, leveraging polymorphism effectively.\n"
      ],
      "metadata": {
        "id": "4Yn6KtNAqDP-"
      }
    },
    {
      "cell_type": "markdown",
      "source": [
        "## ***14. Create a Python class hierarchy for a banking system with various account types (e.g., savings, checking, credit card) and demonstrate polymorphism by implementing a common `withdraw()` method.***"
      ],
      "metadata": {
        "id": "BMuIlVELqn5p"
      }
    },
    {
      "cell_type": "code",
      "source": [
        "from abc import ABC, abstractmethod\n",
        "\n",
        "class Account(ABC):\n",
        "  \"\"\"Abstract base class representing a bank account.\"\"\"\n",
        "\n",
        "  def __init__(self, account_number, balance):\n",
        "    self.account_number = account_number\n",
        "    self.balance = balance\n",
        "\n",
        "  @abstractmethod\n",
        "  def withdraw(self, amount):\n",
        "    \"\"\"Withdraws the specified amount from the account (abstract).\"\"\"\n",
        "    pass\n",
        "\n",
        "  def get_balance(self):\n",
        "    \"\"\"Returns the current balance of the account.\"\"\"\n",
        "    return self.balance\n",
        "\n",
        "class SavingsAccount(Account):\n",
        "  \"\"\"Subclass representing a savings account.\"\"\"\n",
        "\n",
        "  def __init__(self, account_number, balance, interest_rate):\n",
        "    super().__init__(account_number, balance)\n",
        "    self.interest_rate = interest_rate\n",
        "\n",
        "  def withdraw(self, amount):\n",
        "    \"\"\"Withdraws from savings account, disallowing overdraft.\"\"\"\n",
        "    if amount > 0 and self.balance >= amount:\n",
        "      self.balance -= amount\n",
        "      print(f\"Withdrew {amount} from savings. New balance: {self.balance}\")\n",
        "    else:\n",
        "      print(\"Insufficient funds or invalid withdrawal amount for savings.\")\n",
        "\n",
        "class CheckingAccount(Account):\n",
        "  \"\"\"Subclass representing a checking account.\"\"\"\n",
        "\n",
        "  def __init__(self, account_number, balance, overdraft_limit):\n",
        "    super().__init__(account_number, balance)\n",
        "    self.overdraft_limit = overdraft_limit\n",
        "\n",
        "  def withdraw(self, amount):\n",
        "    \"\"\"Withdraws from checking account, considering overdraft limit.\"\"\"\n",
        "    if amount > 0 and (self.balance >= amount or self.balance + self.overdraft_limit >= amount):\n",
        "      available_balance = self.balance + self.overdraft_limit\n",
        "      if amount > available_balance:\n",
        "        print(f\"Using overdraft limit. Charges may apply.\")\n",
        "      self.balance -= amount\n",
        "      print(f\"Withdrew {amount} from checking. New balance: {self.balance}\")\n",
        "    else:\n",
        "      print(\"Insufficient funds or invalid withdrawal amount for checking.\")\n",
        "\n",
        "class CreditCard(Account):\n",
        "  \"\"\"Subclass representing a credit card account.\"\"\"\n",
        "\n",
        "  def __init__(self, account_number, balance, credit_limit):\n",
        "    super().__init__(account_number, balance)\n",
        "    self.credit_limit = credit_limit\n",
        "\n",
        "  def withdraw(self, amount):\n",
        "    \"\"\"Increases credit card balance, up to the credit limit.\"\"\"\n",
        "    if amount > 0 and self.balance + amount <= self.credit_limit:\n",
        "      self.balance += amount\n",
        "      print(f\"Increased credit card balance by {amount}. New balance: {self.balance}\")\n",
        "    else:\n",
        "      print(\"Insufficient credit limit or invalid withdrawal amount for credit card.\")\n",
        "\n",
        "# Create accounts\n",
        "savings_account = SavingsAccount(12345, 1000, 0.01)\n",
        "checking_account = CheckingAccount(54321, 500, 100)\n",
        "credit_card = CreditCard(98765, 0, 1000)\n",
        "\n",
        "# Perform withdrawals (polymorphic behavior)\n",
        "savings_account.withdraw(200)  # Uses SavingsAccount's withdraw\n",
        "checking_account.withdraw(400)  # Uses CheckingAccount's withdraw\n",
        "credit_card.withdraw(500)  # Uses CreditCard's withdraw\n"
      ],
      "metadata": {
        "colab": {
          "base_uri": "https://localhost:8080/"
        },
        "id": "s4nIAoVDoTZU",
        "outputId": "4d7977b8-d354-470c-a262-7cd212c0bcb9"
      },
      "execution_count": 12,
      "outputs": [
        {
          "output_type": "stream",
          "name": "stdout",
          "text": [
            "Withdrew 200 from savings. New balance: 800\n",
            "Withdrew 400 from checking. New balance: 100\n",
            "Increased credit card balance by 500. New balance: 500\n"
          ]
        }
      ]
    },
    {
      "cell_type": "markdown",
      "source": [
        "This code demonstrates polymorphism through the following aspects:\n",
        "\n",
        "* **Abstract `withdraw()` method:** The base class `Account` defines an abstract `withdraw()` method, forcing subclasses to implement their specific withdrawal logic.\n",
        "* **Subclass Implementations:** Each subclass (SavingsAccount, CheckingAccount, CreditCard) implements the `withdraw()` method based on its unique characteristics:\n",
        "    * SavingsAccount disallows overdraft.\n",
        "    * CheckingAccount considers the overdraft limit.\n",
        "    * CreditCard increases the balance up to the credit limit.\n",
        "* **Polymorphic Calls:** When calling `withdraw()` on different account objects, the appropriate subclass implementation is executed at runtime due to polymorphism. This allows for a single function (like a transaction processing function) to work with various account types seamlessly.\n",
        "\n",
        "This approach showcases how polymorphism enables flexible and adaptable code in the context of a banking system."
      ],
      "metadata": {
        "id": "u7coFU_urXRe"
      }
    },
    {
      "cell_type": "markdown",
      "source": [
        "## 15. Describe the concept of operator overloading in Python and how it relates to polymorphism. Provide examples using operators like `+` and `*`."
      ],
      "metadata": {
        "id": "2wC6FwRerjYb"
      }
    },
    {
      "cell_type": "markdown",
      "source": [
        "In Python, operator overloading extends the functionality of built-in operators (like +, -, *, etc.) to work with user-defined classes. This lets you define custom behavior for these operators when used with your objects. Here's how it connects to polymorphism:\n",
        "\n",
        "**Polymorphism** allows objects of different classes to respond differently to the same function call. Operator overloading leverages this by enabling you to customize how operators behave depending on the types of objects they're working with.\n",
        "\n",
        "**Example 1: Overloading `+` for Vector Addition**\n",
        "\n",
        "```python\n",
        "class Vector:\n",
        "  def __init__(self, x, y):\n",
        "    self.x = x\n",
        "    self.y = y\n",
        "\n",
        "  def __add__(self, other):\n",
        "    \"\"\"Overloads + operator for vector addition.\"\"\"\n",
        "    if isinstance(other, Vector):\n",
        "      return Vector(self.x + other.x, self.y + other.y)\n",
        "    else:\n",
        "      raise TypeError(\"Can only add vectors with other vectors\")\n",
        "\n",
        "# Create vectors\n",
        "v1 = Vector(1, 2)\n",
        "v2 = Vector(3, 4)\n",
        "\n",
        "# Add vectors using overloaded + operator (polymorphic behavior)\n",
        "v3 = v1 + v2\n",
        "print(v3.x, v3.y)  # Output: 4 6\n",
        "```\n",
        "\n",
        "In this example:\n",
        "\n",
        "* The `Vector` class defines a custom `__add__()` method to overload the `+` operator.\n",
        "* When you add two `Vector` objects, the `__add__()` method is called, performing vector addition (polymorphic behavior).\n",
        "* If you try to add a `Vector` with a non-`Vector` object, a `TypeError` is raised to ensure type safety.\n",
        "\n",
        "**Example 2: Overloading `*` for Complex Number Multiplication**\n",
        "\n",
        "```python\n",
        "class ComplexNumber:\n",
        "  def __init__(self, real, imag):\n",
        "    self.real = real\n",
        "    self.imag = imag\n",
        "\n",
        "  def __mul__(self, other):\n",
        "    \"\"\"Overloads * operator for complex number multiplication.\"\"\"\n",
        "    if isinstance(other, ComplexNumber):\n",
        "      return ComplexNumber(self.real * other.real - self.imag * other.imag,\n",
        "                            self.real * other.imag + self.imag * other.real)\n",
        "    else:\n",
        "      # Assuming multiplication by a scalar\n",
        "      return ComplexNumber(self.real * other, self.imag * other)\n",
        "\n",
        "# Create complex numbers\n",
        "c1 = ComplexNumber(2, 3)\n",
        "c2 = ComplexNumber(1, -2)\n",
        "scalar = 4\n",
        "\n",
        "# Multiply complex numbers and complex number with scalar using overloaded * operator (polymorphic behavior)\n",
        "result1 = c1 * c2\n",
        "result2 = c1 * scalar\n",
        "print(result1.real, result1.imag)  # Output: -7 11\n",
        "print(result2.real, result2.imag)  # Output: 8 12\n",
        "```\n",
        "\n",
        "This example demonstrates overloading `*` for complex number multiplication:\n",
        "\n",
        "* The `ComplexNumber` class defines a custom `__mul__()` method to overload the `*` operator.\n",
        "* When you multiply two `ComplexNumber` objects, the `__mul__()` method performs complex number multiplication.\n",
        "* Multiplying a `ComplexNumber` with a number (scalar) is also handled within `__mul__()`.\n",
        "* Attempting to multiply a `ComplexNumber` with an incompatible object raises a `TypeError`.\n",
        "\n",
        "These examples showcase how operator overloading allows you to create intuitive interactions between your custom classes and built-in operators. This enhances code readability and leverages polymorphism for flexible object behavior."
      ],
      "metadata": {
        "id": "PYVkHpBWsi6W"
      }
    },
    {
      "cell_type": "markdown",
      "source": [
        "## ***16. What is dynamic polymorphism, and how is it achieved in Python?***"
      ],
      "metadata": {
        "id": "NDaMGy_ftlss"
      }
    },
    {
      "cell_type": "markdown",
      "source": [
        "Dynamic polymorphism is a core concept in object-oriented programming (OOP) that allows objects of different classes to respond differently to the same method call at runtime. In simpler terms, the specific implementation of a method that gets called depends on the object's actual type, not the variable's declared type.\n",
        "\n",
        "Here's how Python achieves dynamic polymorphism:\n",
        "\n",
        "**1. Duck Typing:**\n",
        "\n",
        "* Python relies heavily on \"duck typing,\" which means an object is considered usable if it walks like a duck and quacks like a duck (i.e., has the necessary methods/attributes).\n",
        "* There's no strict requirement to define object types beforehand.\n",
        "* When a method is called on a variable, Python checks the object's type at runtime and executes the corresponding method implementation from that specific class.\n",
        "\n",
        "**2. Method Resolution Order (MRO):**\n",
        "\n",
        "* When dealing with inheritance, Python uses Method Resolution Order (MRO) to determine which method gets called for a particular function.\n",
        "* MRO defines the order in which Python searches for methods in a class hierarchy. It starts with the class itself, then its parent classes, and so on, following the inheritance chain.\n",
        "* If a method with the same name exists in multiple classes within the MRO, the one defined in the closest parent class (based on the inheritance hierarchy) takes precedence.\n",
        "\n",
        "**Example:**\n",
        "\n",
        "```python\n",
        "class Animal:\n",
        "  def speak(self):\n",
        "    print(\"Generic animal sound\")\n",
        "\n",
        "class Dog(Animal):\n",
        "  def speak(self):\n",
        "    print(\"Woof!\")\n",
        "\n",
        "class Cat(Animal):\n",
        "  def speak(self):\n",
        "\n",
        "    print(\"Meow!\")\n",
        "\n",
        "# Create objects\n",
        "animal = Animal()\n",
        "dog = Dog()\n",
        "cat = Cat()\n",
        "\n",
        "# Call speak methods on different objects (polymorphic behavior)\n",
        "animal.speak()  # Output: Generic animal sound\n",
        "dog.speak()     # Output: Woof!\n",
        "cat.speak()     # Output: Meow!\n",
        "```\n",
        "\n",
        "In this example:\n",
        "\n",
        "* All three classes (`Animal`, `Dog`, `Cat`) inherit from `Animal`, which has a `speak()` method.\n",
        "* `Dog` and `Cat` override the `speak()` method with their specific sounds.\n",
        "* When `speak()` is called on each object, Python uses dynamic polymorphism to determine the appropriate implementation based on the object's type at runtime:\n",
        "    * `animal.speak()` calls the `speak()` method from `Animal`.\n",
        "    * `dog.speak()` calls the overridden `speak()` method from `Dog`.\n",
        "    * `cat.speak()` calls the overridden `speak()` method from `Cat`.\n",
        "\n",
        "This demonstrates how Python leverages duck typing and MRO to achieve dynamic polymorphism, allowing for flexible and adaptable code behavior."
      ],
      "metadata": {
        "id": "uo1013Q0s2ni"
      }
    },
    {
      "cell_type": "markdown",
      "source": [
        "## ***17. Create a Python class hierarchy for employees in a company (e.g., manager, developer, designer) and implement polymorphism through a common `calculate_salary()` method.***"
      ],
      "metadata": {
        "id": "u3YrpaJxt1uG"
      }
    },
    {
      "cell_type": "code",
      "source": [
        "from abc import ABC, abstractmethod\n",
        "\n",
        "class Employee(ABC):\n",
        "  \"\"\"Base class representing an employee in the company.\"\"\"\n",
        "\n",
        "  def __init__(self, name, base_salary):\n",
        "    self.name = name\n",
        "    self.base_salary = base_salary\n",
        "\n",
        "  @abstractmethod\n",
        "  def calculate_salary(self):\n",
        "    \"\"\"Calculates the employee's salary (abstract).\"\"\"\n",
        "    pass\n",
        "\n",
        "  def get_details(self):\n",
        "    \"\"\"Returns employee details.\"\"\"\n",
        "    return f\"Name: {self.name}\\nBase Salary: ${self.base_salary}\"\n",
        "\n",
        "\n",
        "class Manager(Employee):\n",
        "  \"\"\"Subclass representing a manager.\"\"\"\n",
        "\n",
        "  def __init__(self, name, base_salary, bonus):\n",
        "    super().__init__(name, base_salary)\n",
        "    self.bonus = bonus\n",
        "\n",
        "  def calculate_salary(self):\n",
        "    \"\"\"Calculates manager's salary with bonus.\"\"\"\n",
        "    return self.base_salary + self.bonus\n",
        "\n",
        "  def get_details(self):\n",
        "    \"\"\"Returns manager details including bonus.\"\"\"\n",
        "    return super().get_details() + f\"\\nBonus: ${self.bonus}\"\n",
        "\n",
        "\n",
        "class Developer(Employee):\n",
        "  \"\"\"Subclass representing a developer.\"\"\"\n",
        "\n",
        "  def __init__(self, name, base_salary, experience):\n",
        "    super().__init__(name, base_salary)\n",
        "    self.experience = experience\n",
        "\n",
        "  def calculate_salary(self):\n",
        "    \"\"\"Calculates developer's salary with experience bonus (example).\"\"\"\n",
        "    experience_bonus = self.experience * 1000\n",
        "    return self.base_salary + experience_bonus\n",
        "\n",
        "  def get_details(self):\n",
        "    \"\"\"Returns developer details including experience.\"\"\"\n",
        "    return super().get_details() + f\"\\nExperience: {self.experience} years\"\n",
        "\n",
        "\n",
        "class Designer(Employee):\n",
        "  \"\"\"Subclass representing a designer.\"\"\"\n",
        "\n",
        "  def __init__(self, name, base_salary, skillset):\n",
        "    super().__init__(name, base_salary)\n",
        "    self.skillset = skillset\n",
        "\n",
        "  def calculate_salary(self):\n",
        "    \"\"\"Calculates designer's salary with potential skillset bonus (example).\"\"\"\n",
        "    # Implement logic for skillset bonus based on specific skills\n",
        "    skillset_bonus = 0  # Placeholder for skillset bonus calculation\n",
        "    return self.base_salary + skillset_bonus\n",
        "\n",
        "  def get_details(self):\n",
        "    \"\"\"Returns designer details including skillset.\"\"\"\n",
        "    return super().get_details() + f\"\\nSkillset: {self.skillset}\"\n",
        "\n",
        "# Create employee objects\n",
        "manager = Manager(\"Alice\", 80000, 10000)\n",
        "developer = Developer(\"Bob\", 60000, 5)\n",
        "designer = Designer(\"Charlie\", 55000, \"UI/UX, Graphic Design\")\n",
        "\n",
        "# Calculate salaries using polymorphic behavior\n",
        "print(manager.get_details())\n",
        "print(f\"Salary: ${manager.calculate_salary()}\")\n",
        "print(\"\\n\")\n",
        "\n",
        "print(developer.get_details())\n",
        "print(f\"Salary: ${developer.calculate_salary()}\")\n",
        "print(\"\\n\")\n",
        "\n",
        "print(designer.get_details())\n",
        "print(f\"Salary: ${designer.calculate_salary()}\")\n"
      ],
      "metadata": {
        "colab": {
          "base_uri": "https://localhost:8080/"
        },
        "id": "1lElAJAdrYKD",
        "outputId": "220fa8c0-11e8-4768-9414-57bbc4e39252"
      },
      "execution_count": 13,
      "outputs": [
        {
          "output_type": "stream",
          "name": "stdout",
          "text": [
            "Name: Alice\n",
            "Base Salary: $80000\n",
            "Bonus: $10000\n",
            "Salary: $90000\n",
            "\n",
            "\n",
            "Name: Bob\n",
            "Base Salary: $60000\n",
            "Experience: 5 years\n",
            "Salary: $65000\n",
            "\n",
            "\n",
            "Name: Charlie\n",
            "Base Salary: $55000\n",
            "Skillset: UI/UX, Graphic Design\n",
            "Salary: $55000\n"
          ]
        }
      ]
    },
    {
      "cell_type": "markdown",
      "source": [
        "\n",
        "\n",
        "This code defines:\n",
        "\n",
        "* An abstract base class `Employee` with a `calculate_salary()` method (abstract) and a `get_details()` method.\n",
        "* Subclasses `Manager`, `Developer`, and `Designer` inheriting from `Employee` and overriding `calculate_salary()` to implement their specific salary calculations.\n",
        "* The `calculate_salary()` method is polymorphic, meaning the appropriate implementation is executed based on the object's type at runtime.\n",
        "* The `get_details()` method provides a way to retrieve general employee information.\n",
        "\n",
        "This approach showcases how polymorphism enables flexible behavior for calculating salaries based on employee types. You can further extend this example by adding more employee subclasses and customizing their salary calculations."
      ],
      "metadata": {
        "id": "TafqLnlDuI5m"
      }
    },
    {
      "cell_type": "markdown",
      "source": [
        "## ***18. Discuss the concept of function pointers and how they can be used to achieve polymorphism in Python.***"
      ],
      "metadata": {
        "id": "5064fVIfuRd8"
      }
    },
    {
      "cell_type": "markdown",
      "source": [
        "In Python, function pointers, also known as first-class functions, are objects that can be passed around as arguments to other functions, returned as values from other functions, and stored in data structures. They provide a powerful mechanism for achieving polymorphism by allowing different functions to be called dynamically based on runtime conditions.\n",
        "\n",
        "Here's how function pointers can be used to achieve polymorphism in Python:\n",
        "\n",
        "1. **Passing Functions as Arguments**: One common use of function pointers is to pass functions as arguments to other functions. This allows you to define a generic function that can accept different behaviors as input. By passing different functions as arguments, you can achieve polymorphic behavior.\n",
        "\n",
        "2. **Callback Functions**: Function pointers are often used as callback functions, where a function is passed as an argument to another function and called back later to perform specific tasks. This allows for flexible and polymorphic behavior, as the callback function can vary depending on the situation.\n",
        "\n",
        "3. **Strategy Pattern**: The strategy pattern is a design pattern that uses function pointers to encapsulate algorithms and allow them to be selected at runtime. This pattern is useful for achieving polymorphism by decoupling the algorithm implementation from the context in which it is used.\n",
        "\n",
        "4. **Event Handling**: In event-driven programming, function pointers are used to handle events by associating event types with corresponding handler functions. This allows different event handlers to be registered dynamically, enabling polymorphic behavior based on the type of event being handled.\n",
        "\n",
        "5. **Decorator Pattern**: Function pointers are also commonly used in Python decorators, which are higher-order functions that modify or extend the behavior of other functions. Decorators allow you to dynamically add functionality to functions without modifying their code directly, achieving polymorphic behavior.\n",
        "\n",
        "Here's a simple example demonstrating the use of function pointers to achieve polymorphism in Python:\n",
        "\n",
        "```python\n",
        "def add(x, y):\n",
        "    return x + y\n",
        "\n",
        "def subtract(x, y):\n",
        "    return x - y\n",
        "\n",
        "def multiply(x, y):\n",
        "    return x * y\n",
        "\n",
        "# Function pointer\n",
        "operation = add\n",
        "\n",
        "result = operation(5, 3)\n",
        "print(\"Result of operation:\", result)  # Output: 8\n",
        "\n",
        "# Change function pointer to achieve polymorphism\n",
        "operation = subtract\n",
        "\n",
        "result = operation(5, 3)\n",
        "print(\"Result of operation:\", result)  # Output: 2\n",
        "\n",
        "# Change function pointer again to achieve polymorphism\n",
        "operation = multiply\n",
        "\n",
        "result = operation(5, 3)\n",
        "print(\"Result of operation:\", result)  # Output: 15\n",
        "```\n",
        "\n",
        "In this example, the `operation` function pointer is initially set to `add`, but it can be dynamically changed to point to different functions (`subtract` or `multiply`) at runtime. This allows for polymorphic behavior, as the same `operation` variable can be used to call different functions based on the desired behavior."
      ],
      "metadata": {
        "id": "8qx5rfFlu1Gc"
      }
    },
    {
      "cell_type": "markdown",
      "source": [
        "## ***19. Explain the role of interfaces and abstract classes in polymorphism, drawing comparisons between them.***"
      ],
      "metadata": {
        "id": "gl1zj0ljvXv9"
      }
    },
    {
      "cell_type": "markdown",
      "source": [
        "Interfaces and abstract classes are both tools in object-oriented programming (OOP) that contribute to polymorphism, but they serve different purposes:\n",
        "\n",
        "**Interfaces:**\n",
        "\n",
        "* **Definition:** An interface is a blueprint that specifies what methods a class must implement. It outlines the functionalities a class must provide without defining how those functionalities are implemented.\n",
        "* **Focus:** Interfaces focus on defining a contract (the methods) that classes must adhere to.\n",
        "* **Implementation:** Classes implementing an interface are responsible for providing the specific code for each method. A class can implement multiple interfaces.\n",
        "* **Example:** An `Animal` interface might specify methods like `make_sound()`, leaving the implementation details (e.g., `woof()` for dogs, `meow()` for cats) to the concrete classes inheriting from it.\n",
        "\n",
        "**Abstract Classes:**\n",
        "\n",
        "* **Definition:** An abstract class is a class that cannot be instantiated directly. It serves as a base class for other classes to inherit from. It can define methods, some of which can be abstract (without implementation).\n",
        "* **Focus:** Abstract classes focus on defining a common structure and potentially some shared functionality for subclasses. They can also enforce abstract methods that subclasses must implement.\n",
        "* **Implementation:** Subclasses inherit from an abstract class and can override abstract methods to provide their specific implementations. A class can only inherit from one abstract class directly (but can implement multiple interfaces).\n",
        "* **Example:** An abstract class `Vehicle` might define methods like `accelerate()` and `brake()`, but leave them as abstract methods. Concrete subclasses like `Car` and `Bicycle` would inherit and implement these methods with their specific logic.\n",
        "\n",
        "**Similarities:**\n",
        "\n",
        "* Both interfaces and abstract classes promote loose coupling by separating the contract (what needs to be done) from the implementation (how it's done).\n",
        "* Both contribute to polymorphism by allowing different classes to respond differently to the same method call (based on their implementation).\n",
        "\n",
        "**Differences:**\n",
        "\n",
        "* **Focus:** Interfaces define a contract, while abstract classes define a structure and potentially some shared behavior.\n",
        "* **Implementation:** Interfaces only specify methods, while abstract classes can have both abstract and concrete methods.\n",
        "* **Inheritance:** A class can implement multiple interfaces but can only inherit directly from one abstract class (though it can inherit from a class that inherits from an abstract class).\n",
        "\n",
        "**Choosing Between Interfaces and Abstract Classes:**\n",
        "\n",
        "* Use interfaces when you want to define a common behavior across unrelated classes or enforce a contract for functionality.\n",
        "* Use abstract classes when you want to define a base class with shared functionality and enforce some methods to be implemented by subclasses.\n",
        "\n",
        "In conclusion, interfaces and abstract classes are complementary tools for achieving polymorphism. Interfaces focus on defining the \"what,\" while abstract classes focus on the \"what\" and potentially some \"how.\" Choose the approach that best suits your design needs and the level of abstraction and code sharing you want to achieve."
      ],
      "metadata": {
        "id": "voYlb6nQvgVV"
      }
    },
    {
      "cell_type": "markdown",
      "source": [
        "### **Here are examples demonstrating the use of interfaces and abstract classes in Python:**\n",
        "\n",
        "**Interface Example: Animal Sounds**\n",
        "\n",
        "```python\n",
        "from abc import ABC, abstractmethod\n",
        "\n",
        "class AnimalSounds(ABC):\n",
        "  \"\"\"Interface defining methods for animal sounds.\"\"\"\n",
        "\n",
        "  @abstractmethod\n",
        "  def make_sound(self):\n",
        "    \"\"\"Makes the animal's sound (abstract).\"\"\"\n",
        "    pass\n",
        "\n",
        "class Dog(AnimalSounds):\n",
        "  \"\"\"Dog class implementing AnimalSounds interface.\"\"\"\n",
        "\n",
        "  def make_sound(self):\n",
        "    \"\"\"Dog's specific sound implementation.\"\"\"\n",
        "    print(\"Woof!\")\n",
        "\n",
        "class Cat(AnimalSounds):\n",
        "  \"\"\"Cat class implementing AnimalSounds interface.\"\"\"\n",
        "\n",
        "  def make_sound(self):\n",
        "    \"\"\"Cat's specific sound implementation.\"\"\"\n",
        "    print(\"Meow!\")\n",
        "\n",
        "# Create animal objects\n",
        "dog = Dog()\n",
        "cat = Cat()\n",
        "\n",
        "# Call make_sound() on both objects (polymorphic behavior)\n",
        "dog.make_sound()  # Output: Woof!\n",
        "cat.make_sound()  # Output: Meow!\n",
        "```\n",
        "\n",
        "Here, the `AnimalSounds` interface defines a single method `make_sound()` without implementation. Both `Dog` and `Cat` classes implement this interface and provide their specific implementations for the sound. This enforces a common functionality (making sound) across unrelated classes (`Dog` and `Cat`) while allowing for individual sound variations.\n",
        "\n",
        "**Abstract Class Example: Shape Calculations**\n",
        "\n",
        "```python\n",
        "from abc import ABC, abstractmethod\n",
        "\n",
        "class Shape(ABC):\n",
        "  \"\"\"Abstract base class representing a shape.\"\"\"\n",
        "\n",
        "  def __init__(self, name):\n",
        "    self.name = name\n",
        "\n",
        "  @abstractmethod\n",
        "  def calculate_area(self):\n",
        "    \"\"\"Calculates the shape's area (abstract).\"\"\"\n",
        "    pass\n",
        "\n",
        "  def get_info(self):\n",
        "    \"\"\"Returns shape information.\"\"\"\n",
        "    return f\"Shape: {self.name}\"\n",
        "\n",
        "class Square(Shape):\n",
        "  \"\"\"Square class inheriting from Shape.\"\"\"\n",
        "\n",
        "  def __init__(self, side_length):\n",
        "    super().__init__(\"Square\")\n",
        "    self.side_length = side_length\n",
        "\n",
        "  def calculate_area(self):\n",
        "    \"\"\"Square's specific area calculation implementation.\"\"\"\n",
        "    return self.side_length * self.side_length\n",
        "\n",
        "class Circle(Shape):\n",
        "  \"\"\"Circle class inheriting from Shape.\"\"\"\n",
        "\n",
        "  def __init__(self, radius):\n",
        "    super().__init__(\"Circle\")\n",
        "    self.radius = radius\n",
        "\n",
        "  def calculate_area(self):\n",
        "    \"\"\"Circle's specific area calculation implementation.\"\"\"\n",
        "    from math import pi  # Import pi for circle area calculation\n",
        "    return pi * self.radius * self.radius\n",
        "\n",
        "# Create shape objects\n",
        "square = Square(5)\n",
        "circle = Circle(3)\n",
        "\n",
        "# Call calculate_area() on both objects (polymorphic behavior)\n",
        "print(square.get_info())\n",
        "print(f\"Area: {square.calculate_area()}\")  # Output: Shape: Square, Area: 25\n",
        "\n",
        "print(circle.get_info())\n",
        "print(f\"Area: {circle.calculate_area():.2f}\")  # Output: Shape: Circle, Area: 28.27\n",
        "\n",
        "```\n",
        "\n",
        "In this example, the abstract class `Shape` defines a common structure (`name` attribute) and an abstract method `calculate_area()`. Subclasses `Square` and `Circle` inherit from `Shape` and implement the abstract method with their specific area calculation formulas. This enforces a shared structure for all shapes while allowing for individual area calculation logic based on the shape type.\n",
        "\n",
        "These examples showcase the distinct roles of interfaces and abstract classes in promoting polymorphism. They provide flexibility and code reusability while ensuring consistent behavior across different object types."
      ],
      "metadata": {
        "id": "ikf-ItD7wBVP"
      }
    },
    {
      "cell_type": "markdown",
      "source": [
        "## ***20. Create a Python class for a zoo simulation, demonstrating polymorphism with different animal types (e.g., mammals, birds, reptiles) and their behavior (e.g., eating, sleeping, making sounds).***"
      ],
      "metadata": {
        "id": "leTY1MdlwUsa"
      }
    },
    {
      "cell_type": "code",
      "source": [
        "class Animal:\n",
        "    def __init__(self, name):\n",
        "        self.name = name\n",
        "\n",
        "    def make_sound(self):\n",
        "        pass\n",
        "\n",
        "    def eat(self):\n",
        "        pass\n",
        "\n",
        "    def sleep(self):\n",
        "        pass\n",
        "\n",
        "class Mammal(Animal):\n",
        "    def make_sound(self):\n",
        "        return \"Mammal sound\"\n",
        "\n",
        "    def eat(self):\n",
        "        return \"Mammal eating\"\n",
        "\n",
        "    def sleep(self):\n",
        "        return \"Mammal sleeping\"\n",
        "\n",
        "class Bird(Animal):\n",
        "    def make_sound(self):\n",
        "        return \"Bird sound\"\n",
        "\n",
        "    def eat(self):\n",
        "        return \"Bird eating\"\n",
        "\n",
        "    def sleep(self):\n",
        "        return \"Bird sleeping\"\n",
        "\n",
        "class Reptile(Animal):\n",
        "    def make_sound(self):\n",
        "        return \"Reptile sound\"\n",
        "\n",
        "    def eat(self):\n",
        "        return \"Reptile eating\"\n",
        "\n",
        "    def sleep(self):\n",
        "        return \"Reptile sleeping\"\n",
        "\n",
        "# Zoo simulation\n",
        "def simulate_zoo(animals):\n",
        "    for animal in animals:\n",
        "        print(animal.name + \":\")\n",
        "        print(\"  Sound:\", animal.make_sound())\n",
        "        print(\"  Eating:\", animal.eat())\n",
        "        print(\"  Sleeping:\", animal.sleep())\n",
        "        print()\n",
        "\n",
        "# Create different types of animals\n",
        "lion = Mammal(\"Lion\")\n",
        "parrot = Bird(\"Parrot\")\n",
        "snake = Reptile(\"Snake\")\n",
        "\n",
        "# Create a list of animals\n",
        "zoo_animals = [lion, parrot, snake]\n",
        "\n",
        "# Simulate the zoo\n",
        "simulate_zoo(zoo_animals)\n"
      ],
      "metadata": {
        "colab": {
          "base_uri": "https://localhost:8080/"
        },
        "id": "iQaZJTW0ww_W",
        "outputId": "1400baff-3971-4eca-e632-64a9ae1085f7"
      },
      "execution_count": 15,
      "outputs": [
        {
          "output_type": "stream",
          "name": "stdout",
          "text": [
            "Lion:\n",
            "  Sound: Mammal sound\n",
            "  Eating: Mammal eating\n",
            "  Sleeping: Mammal sleeping\n",
            "\n",
            "Parrot:\n",
            "  Sound: Bird sound\n",
            "  Eating: Bird eating\n",
            "  Sleeping: Bird sleeping\n",
            "\n",
            "Snake:\n",
            "  Sound: Reptile sound\n",
            "  Eating: Reptile eating\n",
            "  Sleeping: Reptile sleeping\n",
            "\n"
          ]
        }
      ]
    },
    {
      "cell_type": "markdown",
      "source": [
        "In this example, we have a base class Animal with methods for making sound, eating, and sleeping. Subclasses Mammal, Bird, and Reptile inherit from the Animal class and override these methods with their specific implementations.\n",
        "\n",
        "We then simulate a zoo with different types of animals (a lion, a parrot, and a snake) by creating instances of the respective subclasses and adding them to a list. Finally, we simulate the zoo by iterating over the list of animals and calling their methods to demonstrate polymorphic behavior. Each animal type exhibits its own behavior for making sound, eating, and sleeping, showcasing polymorphism in action.\n",
        "\n",
        "\n",
        "\n",
        "\n",
        "\n"
      ],
      "metadata": {
        "id": "m6DP_-T5w5Hy"
      }
    },
    {
      "cell_type": "markdown",
      "source": [
        "## <font  color='blue'>**Abstraction**"
      ],
      "metadata": {
        "id": "gge3Rbq6zClU"
      }
    },
    {
      "cell_type": "markdown",
      "source": [
        "## ***1. What is abstraction in Python, and how does it relate to object-oriented programming?***"
      ],
      "metadata": {
        "id": "qhy3S2kIzUjV"
      }
    },
    {
      "cell_type": "markdown",
      "source": [
        "In Python, abstraction is a fundamental concept in object-oriented programming (OOP) that focuses on simplifying complex functionalities by hiding unnecessary details and exposing only the essential functionalities to the user. It's like using a light switch - you know it turns the light on and off, but you don't need to know the complex electrical engineering behind it.\n",
        "\n",
        "Here's how abstraction relates to OOP in Python:\n",
        "\n",
        "* **Focus on \"what\" instead of \"how\":**  Abstraction allows you to define what a class or function can do (its functionalities) without revealing the intricate details of how it accomplishes those tasks. This makes your code easier to understand and use.\n",
        "* **Modular and reusable code:** By separating the internal implementation from the user interface, abstraction promotes code modularity. You can create reusable components that can be easily integrated into different parts of your program.\n",
        "* **Inheritance:**  Abstraction is a key concept behind inheritance, a core principle of OOP.  Inheritance allows you to create new classes (subclasses) that inherit properties and behaviors from existing classes (parent classes). This promotes code reusability and reduces redundancy.\n",
        "\n",
        "Overall, abstraction in Python helps you write cleaner, more maintainable, and more efficient code by focusing on the core functionalities and hiding the complexities.\n"
      ],
      "metadata": {
        "id": "XL3vXrcCzXoj"
      }
    },
    {
      "cell_type": "markdown",
      "source": [
        "## **2. Describe the benefits of abstraction in terms of code organization and complexity reduction.**"
      ],
      "metadata": {
        "id": "XMDoFOsBzhIy"
      }
    },
    {
      "cell_type": "markdown",
      "source": [
        "Abstraction offers several advantages when it comes to organizing and reducing complexity in your code:\n",
        "\n",
        "**1. Manageable chunks:**  Imagine a large and complex program as a giant machine with countless moving parts. Abstraction allows you to break down this machine into smaller, more manageable components. These components, like classes or functions, encapsulate specific functionalities with clear interfaces. This way, you can focus on understanding and working with individual components without getting bogged down by the entire system's intricacies.\n",
        "\n",
        "**2. Reduced mental burden:** By hiding unnecessary details, abstraction reduces the mental load on programmers.  Instead of keeping track of every low-level operation, developers can concentrate on the bigger picture - the problem they are trying to solve. This allows for a more focused and efficient development process.\n",
        "\n",
        "**3. Improved readability and maintainability:** Well-abstracted code is generally easier to read and understand.  Since the code focuses on what things do rather than how they do it,  other developers can quickly grasp the program's functionality. This also simplifies maintenance, as changes can be made within a specific component without affecting unrelated parts of the codebase.\n",
        "\n",
        "**4. Increased reusability:**  Abstraction promotes code reusability. By creating well-defined functions and classes, you can avoid code duplication. These components can be reused in different parts of your program or even in other projects, saving time and effort.\n",
        "\n",
        "**5. Loose coupling:** Abstraction helps achieve loose coupling between different parts of your code. This means that changes made in one component have minimal impact on other components, as they only interact through defined interfaces. This makes the codebase more robust and easier to modify.\n",
        "\n",
        "In essence, abstraction acts like a bridge between the complex inner workings of your program and the user's interaction with it. It simplifies code organization, reduces mental strain for developers, and promotes maintainability and reusability."
      ],
      "metadata": {
        "id": "NjpI8tfNzp1O"
      }
    },
    {
      "cell_type": "markdown",
      "source": [
        "## ***3. Create a Python class called `Shape` with an abstract method `calculate_area()`. Then, create child classes (e.g., `Circle`, `Rectangle`) that implement the `calculate_area()` method Provide an example of using these classes.***"
      ],
      "metadata": {
        "id": "0rdHjq0hztW2"
      }
    },
    {
      "cell_type": "code",
      "source": [
        "from abc import ABC, abstractmethod\n",
        "\n",
        "class Shape(ABC):\n",
        "  \"\"\"Abstract class representing a geometric shape.\"\"\"\n",
        "\n",
        "  def __init__(self):\n",
        "    pass\n",
        "\n",
        "  @abstractmethod\n",
        "  def calculate_area(self):\n",
        "    \"\"\"Abstract method to calculate the area of the shape.\n",
        "\n",
        "    Raises:\n",
        "        NotImplementedError: Since this is an abstract method, it must be implemented by child classes.\n",
        "    \"\"\"\n",
        "    raise NotImplementedError(\"Please implement calculate_area() in a subclass.\")\n",
        "\n",
        "class Circle(Shape):\n",
        "  \"\"\"Circle class inheriting from Shape.\"\"\"\n",
        "\n",
        "  def __init__(self, radius):\n",
        "    super().__init__()\n",
        "    self.radius = radius\n",
        "\n",
        "  def calculate_area(self):\n",
        "    \"\"\"Calculates and returns the area of the circle.\"\"\"\n",
        "    return 3.14159 * self.radius * self.radius\n",
        "\n",
        "class Rectangle(Shape):\n",
        "  \"\"\"Rectangle class inheriting from Shape.\"\"\"\n",
        "\n",
        "  def __init__(self, length, width):\n",
        "    super().__init__()\n",
        "    self.length = length\n",
        "    self.width = width\n",
        "\n",
        "  def calculate_area(self):\n",
        "    \"\"\"Calculates and returns the area of the rectangle.\"\"\"\n",
        "    return self.length * self.width\n",
        "\n",
        "# Example usage\n",
        "shapes = [Circle(5), Rectangle(4, 6)]\n",
        "for shape in shapes:\n",
        "  print(f\"{type(shape).__name__} area: {shape.calculate_area()}\")\n"
      ],
      "metadata": {
        "colab": {
          "base_uri": "https://localhost:8080/"
        },
        "id": "mscjGA9RzFny",
        "outputId": "f096a2eb-9730-4f53-fd94-91909863fe80"
      },
      "execution_count": 16,
      "outputs": [
        {
          "output_type": "stream",
          "name": "stdout",
          "text": [
            "Circle area: 78.53975\n",
            "Rectangle area: 24\n"
          ]
        }
      ]
    },
    {
      "cell_type": "markdown",
      "source": [
        "\n",
        "\n",
        "This code defines the following:\n",
        "\n",
        "* An abstract class `Shape` with an abstract method `calculate_area()`. This enforces that any class inheriting from `Shape` must provide its own implementation for calculating the area.\n",
        "* Child classes `Circle` and `Rectangle` that inherit from `Shape` and implement the `calculate_area()` method specific to their shapes.\n",
        "* An example usage that creates instances of `Circle` and `Rectangle`, and then calls the `calculate_area()` method on each shape to print its area."
      ],
      "metadata": {
        "id": "lv8EtT97zDJJ"
      }
    },
    {
      "cell_type": "markdown",
      "source": [
        "## ***4. Explain the concept of abstract classes in Python and how they are defined using the `abc` module. Provide an example.***"
      ],
      "metadata": {
        "id": "atgnCFlL0Iyo"
      }
    },
    {
      "cell_type": "markdown",
      "source": [
        "In Python, abstract classes are classes that serve as blueprints for creating other classes. They define the overall structure and functionalities that subclasses must adhere to, but they cannot be instantiated themselves. This enforces a specific interface or contract that all subclasses must follow, promoting code consistency and ensuring essential methods are implemented.\n",
        "\n",
        "The `abc` module provides the tools for defining abstract classes in Python. Here's how it works:\n",
        "\n",
        "1. **Import necessary classes:**  From the `abc` module, you import the two main classes:\n",
        "   * `ABC`: This class acts as the base class for your abstract class.\n",
        "   * `abstractmethod`: This decorator is used to mark specific methods within the abstract class as abstract methods.\n",
        "\n",
        "2. **Create the abstract class:**  Define a class that inherits from `ABC`. This class will contain the methods and attributes that subclasses must implement.\n",
        "\n",
        "3. **Define abstract methods:**  Use the `@abstractmethod` decorator above any method you want to enforce as abstract. Subclasses must provide their own implementation for these methods.\n",
        "\n",
        "Here's an example of an abstract class `Animal` with an abstract method `make_sound()`:\n",
        "\n",
        "```python\n",
        "from abc import ABC, abstractmethod\n",
        "\n",
        "class Animal(ABC):\n",
        "  \"\"\"Abstract class representing an animal.\"\"\"\n",
        "\n",
        "  def __init__(self, name):\n",
        "    self.name = name\n",
        "\n",
        "  @abstractmethod\n",
        "  def make_sound(self):\n",
        "    \"\"\"Abstract method that defines the sound an animal makes.\n",
        "\n",
        "    This method must be implemented by subclasses.\n",
        "    \"\"\"\n",
        "    pass\n",
        "\n",
        "class Dog(Animal):\n",
        "  \"\"\"Dog class inheriting from Animal.\"\"\"\n",
        "\n",
        "  def make_sound(self):\n",
        "    \"\"\"Implements the make_sound() method for Dog.\"\"\"\n",
        "    print(f\"{self.name} barks: Woof!\")\n",
        "\n",
        "class Cat(Animal):\n",
        "  \"\"\"Cat class inheriting from Animal.\"\"\"\n",
        "\n",
        "  def make_sound(self):\n",
        "    \"\"\"Implements the make_sound() method for Cat.\"\"\"\n",
        "    print(f\"{self.name} meows: Meow!\")\n",
        "\n",
        "# Example usage\n",
        "animals = [Dog(\"Buddy\"), Cat(\"Whiskers\")]\n",
        "for animal in animals:\n",
        "  animal.make_sound()  # This will call the implemented method in each subclass\n",
        "```\n",
        "\n",
        "In this example, `Animal` is an abstract class that defines the basic structure for animals with a name and an abstract `make_sound()` method.  `Dog` and `Cat` inherit from `Animal` and provide their own implementations for the `make_sound()` method, fulfilling the contract established by the abstract class.\n"
      ],
      "metadata": {
        "id": "SPOR-RmJ0aEO"
      }
    },
    {
      "cell_type": "markdown",
      "source": [
        "## ***5. How do abstract classes differ from regular classes in Python? Discuss their use cases.***"
      ],
      "metadata": {
        "id": "6D5HAjxY0dSJ"
      }
    },
    {
      "cell_type": "markdown",
      "source": [
        "Here's a breakdown of the key differences between abstract classes and regular classes in Python, along with their use cases:\n",
        "\n",
        "**Abstract Classes:**\n",
        "\n",
        "* **Purpose:** Define a blueprint for subclasses. They cannot be instantiated directly.\n",
        "* **Functionality:**  \n",
        "    * Can contain both abstract methods (without implementation) and concrete methods (with implementation).\n",
        "    * Abstract methods enforce that subclasses implement them.\n",
        "* **Use Cases:**\n",
        "    * Promote code consistency and ensure essential methods are implemented in subclasses.\n",
        "    * Define a common interface for related classes with varying implementations.\n",
        "    * Facilitate polymorphism, allowing functions to work on different subclasses of the abstract class without knowing their exact type.\n",
        "\n",
        "**Regular Classes:**\n",
        "\n",
        "* **Purpose:** Serve as blueprints for creating objects (instances).\n",
        "* **Functionality:**  \n",
        "    * Can only contain concrete methods (with implementation).\n",
        "    * Methods define the functionalities of the objects created from the class.\n",
        "* **Use Cases:**\n",
        "    * Encapsulate data (attributes) and behavior (methods) for specific objects.\n",
        "    * Promote code reusability by creating objects with similar functionalities.\n",
        "    * Provide structure and organization to your code.\n",
        "\n",
        "**Key Differences:**\n",
        "\n",
        "1. **Instantiation:** Abstract classes cannot be directly instantiated, while regular classes can be used to create objects.\n",
        "2. **Abstract Methods:** Abstract classes can have abstract methods, while regular classes only have concrete methods.\n",
        "3. **Flexibility:**  Regular classes offer more flexibility in terms of not requiring every method to be defined.\n",
        "\n",
        "Here's a table summarizing the key points:\n",
        "\n",
        "| Feature                 | Abstract Class | Regular Class |\n",
        "|-------------------------|-----------------|---------------|\n",
        "| Instantiation           | Not directly    | Directly      |\n",
        "| Abstract Methods        | Yes             | No             |\n",
        "| Flexibility             | Less flexible   | More flexible  |\n",
        "| Use Case                | Blueprints, Interfaces | Object creation |\n",
        "\n",
        "In essence, abstract classes act as a contract, enforcing specific functionalities on subclasses, while regular classes provide concrete implementations for creating objects with well-defined behaviors."
      ],
      "metadata": {
        "id": "g5IOXGB00uwQ"
      }
    },
    {
      "cell_type": "markdown",
      "source": [
        "## ***8. Create a Python class hierarchy for animals and implement abstraction by defining common methods (e.g., `eat()`, `sleep()`) in an abstract base class.***"
      ],
      "metadata": {
        "id": "OC98iRNI0_CS"
      }
    },
    {
      "cell_type": "code",
      "source": [
        "from abc import ABC, abstractmethod\n",
        "\n",
        "class Animal(ABC):\n",
        "    def __init__(self, name, species):\n",
        "        self.name = name\n",
        "        self.species = species\n",
        "\n",
        "    @abstractmethod\n",
        "    def eat(self):\n",
        "        pass\n",
        "\n",
        "    @abstractmethod\n",
        "    def sleep(self):\n",
        "        pass\n",
        "\n",
        "class Dog(Animal):\n",
        "    def __init__(self, name):\n",
        "        super().__init__(name, \"Dog\")\n",
        "\n",
        "    def eat(self):\n",
        "        return f\"{self.name} the {self.species} is eating dog food.\"\n",
        "\n",
        "    def sleep(self):\n",
        "        return f\"{self.name} the {self.species} is sleeping in a dog bed.\"\n",
        "\n",
        "class Cat(Animal):\n",
        "    def __init__(self, name):\n",
        "        super().__init__(name, \"Cat\")\n",
        "\n",
        "    def eat(self):\n",
        "        return f\"{self.name} the {self.species} is eating cat food.\"\n",
        "\n",
        "    def sleep(self):\n",
        "        return f\"{self.name} the {self.species} is sleeping on a windowsill.\"\n",
        "\n",
        "class Bird(Animal):\n",
        "    def __init__(self, name):\n",
        "        super().__init__(name, \"Bird\")\n",
        "\n",
        "    def eat(self):\n",
        "        return f\"{self.name} the {self.species} is eating birdseed.\"\n",
        "\n",
        "    def sleep(self):\n",
        "        return f\"{self.name} the {self.species} is sleeping in a nest.\"\n",
        "\n",
        "# Example usage:\n",
        "dog = Dog(\"Buddy\")\n",
        "print(dog.eat())\n",
        "print(dog.sleep())\n",
        "\n",
        "cat = Cat(\"Whiskers\")\n",
        "print(cat.eat())\n",
        "print(cat.sleep())\n",
        "\n",
        "bird = Bird(\"Tweetie\")\n",
        "print(bird.eat())\n",
        "print(bird.sleep())\n"
      ],
      "metadata": {
        "colab": {
          "base_uri": "https://localhost:8080/"
        },
        "id": "dO0fgXT_wfbQ",
        "outputId": "693d36c3-8c6b-4473-9f95-601afc318078"
      },
      "execution_count": 17,
      "outputs": [
        {
          "output_type": "stream",
          "name": "stdout",
          "text": [
            "Buddy the Dog is eating dog food.\n",
            "Buddy the Dog is sleeping in a dog bed.\n",
            "Whiskers the Cat is eating cat food.\n",
            "Whiskers the Cat is sleeping on a windowsill.\n",
            "Tweetie the Bird is eating birdseed.\n",
            "Tweetie the Bird is sleeping in a nest.\n"
          ]
        }
      ]
    },
    {
      "cell_type": "markdown",
      "source": [
        "In this example,\n",
        "\n",
        "Animal is an abstract base class with abstract methods eat() and sleep().\n",
        "\n",
        " Subclasses like Dog, Cat, and Bird inherit from Animal and provide concrete implementations of these methods according to the behavior of each animal.\n",
        "\n",
        "  The eat() and sleep() methods can be called on instances of each subclass, demonstrating polymorphism and code reuse."
      ],
      "metadata": {
        "id": "CQuRW46m1PPR"
      }
    },
    {
      "cell_type": "markdown",
      "source": [
        "## ***9. Explain the significance of encapsulation in achieving abstraction. Provide examples.***"
      ],
      "metadata": {
        "id": "Ivrirhxi1PgP"
      }
    },
    {
      "cell_type": "markdown",
      "source": [
        "Encapsulation plays a crucial role in achieving abstraction in object-oriented programming (OOP). Here's how they work together:\n",
        "\n",
        "**Encapsulation:**\n",
        "\n",
        "* Encapsulation is the concept of bundling data (attributes) and methods (functions) that operate on that data together within a single unit, typically a class.\n",
        "* It controls access to the data by using access modifiers (public, private, protected) in some languages. This allows you to hide the internal workings of an object and expose only a well-defined interface for interacting with it.\n",
        "\n",
        "**Abstraction:**\n",
        "\n",
        "* Abstraction focuses on providing a simplified view of an object's functionality, hiding the underlying implementation details.\n",
        "* It allows users to interact with an object without needing to know how it accomplishes its tasks.\n",
        "\n",
        "**Significance of Encapsulation for Abstraction:**\n",
        "\n",
        "* **Data Protection:** Encapsulation helps achieve abstraction by protecting the internal data of an object. By hiding data and controlling access through methods, you ensure that the data is manipulated in a controlled way, preventing unexpected changes that could break the object's functionality.\n",
        "* **Implementation Independence:**  Encapsulation allows you to change the internal implementation details of an object without affecting the way users interact with it. As long as the public interface (methods) remains the same, users don't need to be aware of the internal changes. This promotes loose coupling and makes code more flexible and maintainable.\n",
        "* **Simplified Interface:** By hiding internal complexities, encapsulation helps create a cleaner and more focused interface for users. They only need to understand the available methods and their functionalities, not the intricate details of how those methods work.\n",
        "\n",
        "**Example:**\n",
        "\n",
        "Consider a `Car` class. Encapsulation would allow you to:\n",
        "\n",
        "* Define private attributes like `engine`, `fuelLevel`, etc.\n",
        "* Provide public methods like `accelerate()`, `brake()`, and `getFuelLevel()`.\n",
        "\n",
        "These methods manage the internal state of the car (engine, fuelLevel) without exposing the users to the underlying mechanics. Users can simply call these methods to interact with the car, achieving abstraction by hiding the implementation details.\n",
        "\n",
        "**Another Example:**\n",
        "\n",
        "Imagine a `Shape` class hierarchy with different shapes like `Circle` and `Rectangle`. Encapsulation allows you to:\n",
        "\n",
        "* Define private attributes like `radius` for `Circle` and `length`, `width` for `Rectangle`.\n",
        "* Have a public abstract method `calculate_area()` in the `Shape` class.\n",
        "* Implement this method in each subclass (`Circle`, `Rectangle`) using their specific formulas.\n",
        "\n",
        "This enforces that all shapes can calculate their area, but hides the specific implementation details within each subclass. Users only interact with the `calculate_area()` method, achieving abstraction for the area calculation functionality.\n",
        "\n",
        "In essence, encapsulation provides the foundation for abstraction by protecting data and controlling access. This allows you to create clean interfaces that hide implementation complexities, making your code more robust, maintainable, and easier to use.\n",
        "\n",
        "Here's an example to illustrate the significance of encapsulation in achieving abstraction:\n",
        "\n",
        "```python\n",
        "class Car:\n",
        "    def __init__(self, make, model, year):\n",
        "        self.make = make\n",
        "        self.model = model\n",
        "        self.year = year\n",
        "        self.__odometer_reading = 0  # Encapsulated attribute\n",
        "    \n",
        "    def get_odometer_reading(self):\n",
        "        return self.__odometer_reading\n",
        "    \n",
        "    def set_odometer_reading(self, mileage):\n",
        "        if mileage >= self.__odometer_reading:\n",
        "            self.__odometer_reading = mileage\n",
        "        else:\n",
        "            print(\"Odometer reading cannot be rolled back.\")\n",
        "\n",
        "    def drive(self, miles):\n",
        "        self.__odometer_reading += miles\n",
        "\n",
        "# Example usage:\n",
        "my_car = Car(\"Toyota\", \"Camry\", 2020)\n",
        "\n",
        "# Accessing encapsulated attribute indirectly\n",
        "print(\"Initial odometer reading:\", my_car.get_odometer_reading())\n",
        "\n",
        "# Modifying encapsulated attribute through setter method\n",
        "my_car.set_odometer_reading(100)\n",
        "print(\"Updated odometer reading:\", my_car.get_odometer_reading())\n",
        "\n",
        "# Attempting to modify encapsulated attribute directly (will not work due to encapsulation)\n",
        "# my_car.__odometer_reading = 200  # This line won't work\n",
        "```\n",
        "\n",
        "In this example, the `Car` class encapsulates its attributes, including `__odometer_reading`, which is marked as private by prefixing it with double underscores (`__`). This encapsulation hides the implementation details of the `Car` class from external code. Access to the encapsulated attribute is provided through getter and setter methods (`get_odometer_reading()` and `set_odometer_reading()`), allowing controlled access to the internal state of the object while maintaining abstraction."
      ],
      "metadata": {
        "id": "SqokXn-Q107Q"
      }
    },
    {
      "cell_type": "markdown",
      "source": [
        "## ***10. What is the purpose of abstract methods, and how do they enforce abstraction in Python classes?***"
      ],
      "metadata": {
        "id": "QoSRACxV27HY"
      }
    },
    {
      "cell_type": "markdown",
      "source": [
        "Abstract methods in Python serve two main purposes:\n",
        "\n",
        "1. **Defining a Contract for Subclasses:** Abstract methods act like a contract that subclasses must adhere to. They specify the method names and their required arguments (if any) but don't provide any implementation within the abstract class itself. This enforces that any class inheriting from the abstract class must implement these methods with their own specific logic.\n",
        "\n",
        "2. **Enforcing Code Consistency and Completeness:** By requiring subclasses to implement abstract methods, you ensure that all child classes have a specific set of functionalities. This promotes consistency across the class hierarchy and helps prevent incomplete classes with missing functionalities. It forces developers to consider all the necessary methods when creating subclasses.\n",
        "\n",
        "Here's how abstract methods achieve abstraction in Python:\n",
        "\n",
        "* **Hiding Implementation Details:** Abstract methods don't have an implementation in the abstract class. This hides the low-level details of how a specific task should be accomplished from the user of the abstract class.\n",
        "* **Focusing on \"What\" Instead of \"How\":** When using an abstract class, you only see the method names and their required arguments. You don't need to worry about how the abstract class itself would perform those actions. This promotes thinking about what a method should do rather than how it's done in the abstract class.\n",
        "\n",
        "**Example:**\n",
        "\n",
        "Consider an abstract class `Animal` with an abstract method `make_sound()`. This enforces that any subclass representing a specific animal (e.g., `Dog`, `Cat`) must provide its own implementation for `make_sound()`. This way, the `Animal` class defines the concept of making a sound, but the specific sound (woof, meow, etc.) is left to the subclasses, achieving abstraction of the sound-making behavior.\n",
        "\n",
        "**Key Points:**\n",
        "\n",
        "* Abstract methods are declared using the `@abstractmethod` decorator from the `abc` module.\n",
        "* Abstract classes themselves cannot be instantiated.\n",
        "* Subclasses inheriting from an abstract class must implement all abstract methods.\n",
        "\n",
        "Overall, abstract methods play a crucial role in enforcing abstraction by establishing a contract for subclasses and ensuring a consistent and complete set of functionalities across the class hierarchy. They promote code maintainability, flexibility, and a clear separation of concerns."
      ],
      "metadata": {
        "id": "OCS2bLs33X17"
      }
    },
    {
      "cell_type": "markdown",
      "source": [
        "## ***11. Create a Python class for a vehicle system and demonstrate abstraction by defining common methods (e.g., `start()`, `stop()`) in an abstract base class.***"
      ],
      "metadata": {
        "id": "m9xCslW03cU9"
      }
    },
    {
      "cell_type": "code",
      "source": [
        "from abc import ABC, abstractmethod\n",
        "\n",
        "class Vehicle(ABC):\n",
        "  \"\"\"Abstract base class representing a vehicle.\"\"\"\n",
        "\n",
        "  def __init__(self, make, model):\n",
        "    self.make = make\n",
        "    self.model = model\n",
        "    self.is_running = False\n",
        "\n",
        "  @abstractmethod\n",
        "  def start(self):\n",
        "    \"\"\"Abstract method for starting the vehicle.\n",
        "\n",
        "    This method must be implemented by subclasses.\n",
        "    \"\"\"\n",
        "    pass\n",
        "\n",
        "  @abstractmethod\n",
        "  def stop(self):\n",
        "    \"\"\"Abstract method for stopping the vehicle.\n",
        "\n",
        "    This method must be implemented by subclasses.\n",
        "    \"\"\"\n",
        "    pass\n",
        "\n",
        "  def get_info(self):\n",
        "    \"\"\"Returns information about the vehicle.\"\"\"\n",
        "    return f\"Vehicle: {self.make} {self.model}\"\n",
        "\n",
        "class Car(Vehicle):\n",
        "  \"\"\"Class representing a car.\"\"\"\n",
        "\n",
        "  def __init__(self, make, model, num_wheels):\n",
        "    super().__init__(make, model)\n",
        "    self.num_wheels = num_wheels\n",
        "\n",
        "  def start(self):\n",
        "    \"\"\"Implementation of start() for Car.\"\"\"\n",
        "    self.is_running = True\n",
        "    print(f\"{self.get_info()} started!\")\n",
        "\n",
        "  def stop(self):\n",
        "    \"\"\"Implementation of stop() for Car.\"\"\"\n",
        "    self.is_running = False\n",
        "    print(f\"{self.get_info()} stopped!\")\n",
        "\n",
        "class Motorcycle(Vehicle):\n",
        "  \"\"\"Class representing a motorcycle.\"\"\"\n",
        "\n",
        "  def __init__(self, make, model, engine_size):\n",
        "    super().__init__(make, model)\n",
        "    self.engine_size = engine_size\n",
        "\n",
        "  def start(self):\n",
        "    \"\"\"Implementation of start() for Motorcycle.\"\"\"\n",
        "    self.is_running = True\n",
        "    print(f\"{self.get_info()} started with a roar!\")\n",
        "\n",
        "  def stop(self):\n",
        "    \"\"\"Implementation of stop() for Motorcycle.\"\"\"\n",
        "    self.is_running = False\n",
        "    print(f\"{self.get_info()} sputtered to a stop.\")\n",
        "\n",
        "# Example usage\n",
        "vehicles = [Car(\"Toyota\", \"Camry\", 4), Motorcycle(\"Harley Davidson\", \"Street Glide\", 1750)]\n",
        "for vehicle in vehicles:\n",
        "  vehicle.start()\n",
        "  vehicle.stop()\n"
      ],
      "metadata": {
        "colab": {
          "base_uri": "https://localhost:8080/"
        },
        "id": "wMz_jTeg1Nxl",
        "outputId": "dcd2b9c9-88f3-47ff-a96b-cae37c455d6e"
      },
      "execution_count": 18,
      "outputs": [
        {
          "output_type": "stream",
          "name": "stdout",
          "text": [
            "Vehicle: Toyota Camry started!\n",
            "Vehicle: Toyota Camry stopped!\n",
            "Vehicle: Harley Davidson Street Glide started with a roar!\n",
            "Vehicle: Harley Davidson Street Glide sputtered to a stop.\n"
          ]
        }
      ]
    },
    {
      "cell_type": "markdown",
      "source": [
        "\n",
        "\n",
        "This code defines:\n",
        "\n",
        "* An abstract class `Vehicle` with `start()`, `stop()`, and `get_info()` methods.  `start()` and `stop()` are declared as abstract using the `@abstractmethod` decorator.\n",
        "* Subclasses `Car` and `Motorcycle` that inherit from `Vehicle` and implement their own versions of `start()` and `stop()`.\n",
        "* An example usage that creates instances of `Car` and `Motorcycle`, and then calls the `start()`, `stop()`, and `get_info()` methods on each vehicle.\n",
        "\n",
        "This demonstrates how abstraction allows us to define common functionalities (`get_info()`) in the base class and enforce specific behaviors (`start()`, `stop()`) through abstract methods that must be implemented by subclasses."
      ],
      "metadata": {
        "id": "fegnWBKv3st9"
      }
    },
    {
      "cell_type": "markdown",
      "source": [
        "## ***12. Describe the use of abstract properties in Python and how they can be employed in abstract classes.***"
      ],
      "metadata": {
        "id": "lclbVoqRwwD9"
      }
    },
    {
      "cell_type": "markdown",
      "source": [
        "Abstract properties are a concept in Python that leverage the combination of abstract methods and the `property` decorator from the `property` module. They are used within abstract classes to define attributes that must be implemented as properties (with getters and/or setters) by subclasses.\n",
        "\n",
        "Here's a breakdown of how abstract properties work:\n",
        "\n",
        "1. **Utilizing the `@property` decorator:**  The `@property` decorator is used on a method within an abstract class. This method defines the getter logic for the property.\n",
        "\n",
        "2. **Marking the method as abstract:**  The method decorated with `@property` is also marked as abstract using the `@abstractmethod` decorator from the `abc` module. This enforces that subclasses must implement this method as a property.\n",
        "\n",
        "3. **Optional setter implementation:**  Optionally, you can define a setter method for the property using the `@setter.abstractmethod` decorator. This enforces that subclasses must also implement a setter method for the property.\n",
        "\n",
        "**Benefits of Abstract Properties:**\n",
        "\n",
        "* **Enforces Data Validation:** By requiring subclasses to implement properties with getters and potentially setters, you can enforce data validation and control how attributes are accessed and modified.\n",
        "* **Consistent Property Behavior:**  Abstract properties ensure that all subclasses have properties with consistent behavior, promoting code uniformity.\n",
        "\n",
        "**Example:**\n",
        "\n",
        "Here's an example of an abstract class `Shape` with an abstract property `area`:\n",
        "\n",
        "\n",
        "\n"
      ],
      "metadata": {
        "id": "f72YRHXXw9e9"
      }
    },
    {
      "cell_type": "code",
      "source": [
        "from abc import ABC, abstractmethod\n",
        "\n",
        "class Shape(ABC):\n",
        "    @property\n",
        "    @abstractmethod\n",
        "    def area(self):\n",
        "        pass\n",
        "\n",
        "class Circle(Shape):\n",
        "    def __init__(self, radius):\n",
        "        self.radius = radius\n",
        "\n",
        "    @property\n",
        "    def area(self):\n",
        "        return 3.14 * self.radius ** 2\n",
        "\n",
        "class Rectangle(Shape):\n",
        "    def __init__(self, width, height):\n",
        "        self.width = width\n",
        "        self.height = height\n",
        "\n",
        "    @property\n",
        "    def area(self):\n",
        "        return self.width * self.height\n",
        "\n",
        "# Example usage:\n",
        "circle = Circle(5)\n",
        "print(\"Area of the circle:\", circle.area)\n",
        "\n",
        "rectangle = Rectangle(4, 6)\n",
        "print(\"Area of the rectangle:\", rectangle.area)\n"
      ],
      "metadata": {
        "colab": {
          "base_uri": "https://localhost:8080/"
        },
        "id": "VwNd1h6F3nRm",
        "outputId": "63fd7029-b423-4332-d18d-afebf773f70d"
      },
      "execution_count": 2,
      "outputs": [
        {
          "output_type": "stream",
          "name": "stdout",
          "text": [
            "Area of the circle: 78.5\n",
            "Area of the rectangle: 24\n"
          ]
        }
      ]
    },
    {
      "cell_type": "markdown",
      "source": [
        "In this example, the Shape class is an abstract base class with an abstract property area. Subclasses Circle and Rectangle inherit from Shape and provide concrete implementations for the area property. Each subclass calculates the area according to its specific shape. The area property can be accessed on instances of each subclass, demonstrating abstraction and polymorphism."
      ],
      "metadata": {
        "id": "cyCMlyPUxpd7"
      }
    },
    {
      "cell_type": "markdown",
      "source": [
        "## ***13. Create a Python class hierarchy for employees in a company (e.g., manager, developer, designer) and implement abstraction by defining a common `get_salary()` method.***"
      ],
      "metadata": {
        "id": "TFnnphn9yO6T"
      }
    },
    {
      "cell_type": "code",
      "source": [
        "from abc import ABC, abstractmethod\n",
        "\n",
        "class Employee(ABC):\n",
        "  \"\"\"Abstract base class representing an employee in a company.\"\"\"\n",
        "\n",
        "  def __init__(self, name, experience):\n",
        "    self.name = name\n",
        "    self.experience = experience\n",
        "\n",
        "  @abstractmethod\n",
        "  def get_salary(self):\n",
        "    \"\"\"Abstract method for calculating an employee's salary.\n",
        "\n",
        "    This method must be implemented by subclasses.\n",
        "    \"\"\"\n",
        "    pass\n",
        "\n",
        "class Manager(Employee):\n",
        "  \"\"\"Class representing a manager.\"\"\"\n",
        "\n",
        "  def __init__(self, name, experience, department):\n",
        "    super().__init__(name, experience)\n",
        "    self.department = department\n",
        "\n",
        "  def get_salary(self):\n",
        "    \"\"\"Calculates and returns a manager's salary (based on experience and department).\"\"\"\n",
        "    base_salary = 50000\n",
        "    experience_bonus = self.experience * 2000\n",
        "    department_bonus = 10000 if self.department == \"Engineering\" else 5000\n",
        "    return base_salary + experience_bonus + department_bonus\n",
        "\n",
        "class Developer(Employee):\n",
        "  \"\"\"Class representing a developer.\"\"\"\n",
        "\n",
        "  def __init__(self, name, experience, skillset):\n",
        "    super().__init__(name, experience)\n",
        "    self.skillset = skillset\n",
        "\n",
        "  def get_salary(self):\n",
        "    \"\"\"Calculates and returns a developer's salary (based on experience and skills).\"\"\"\n",
        "    base_salary = 40000\n",
        "    experience_bonus = self.experience * 1500\n",
        "    skill_bonus = len(self.skillset) * 1000\n",
        "    return base_salary + experience_bonus + skill_bonus\n",
        "\n",
        "class Designer(Employee):\n",
        "  \"\"\"Class representing a designer.\"\"\"\n",
        "\n",
        "  def __init__(self, name, experience, design_software):\n",
        "    super().__init__(name, experience)\n",
        "    self.design_software = design_software\n",
        "\n",
        "  def get_salary(self):\n",
        "    \"\"\"Calculates and returns a designer's salary (based on experience and software expertise).\"\"\"\n",
        "    base_salary = 35000\n",
        "    experience_bonus = self.experience * 1000\n",
        "    software_bonus = len(self.design_software) * 500\n",
        "    return base_salary + experience_bonus + software_bonus\n",
        "\n",
        "# Example usage\n",
        "employees = [\n",
        "    Manager(\"Alice\", 5, \"Engineering\"),\n",
        "    Developer(\"Bob\", 3, [\"Python\", \"Java\"]),\n",
        "    Designer(\"Charlie\", 2, [\"Photoshop\", \"Illustrator\"]),\n",
        "]\n",
        "\n",
        "for employee in employees:\n",
        "  print(f\"{employee.name} ({type(employee).__name__}): ${employee.get_salary()}\")\n"
      ],
      "metadata": {
        "colab": {
          "base_uri": "https://localhost:8080/"
        },
        "id": "FSPf4n6Xxqh4",
        "outputId": "db6a16f8-b58e-427e-cd7c-eeedb264d9f0"
      },
      "execution_count": 3,
      "outputs": [
        {
          "output_type": "stream",
          "name": "stdout",
          "text": [
            "Alice (Manager): $70000\n",
            "Bob (Developer): $46500\n",
            "Charlie (Designer): $38000\n"
          ]
        }
      ]
    },
    {
      "cell_type": "markdown",
      "source": [
        "\n",
        "\n",
        "This code defines:\n",
        "\n",
        "* An abstract class `Employee` with a `get_salary()` method marked as abstract.\n",
        "* Subclasses `Manager`, `Developer`, and `Designer` that inherit from `Employee` and implement their own specific logic for calculating salaries in the `get_salary()` method.\n",
        "* An example usage that creates instances of each subclass and calls the `get_salary()` method to print each employee's salary.\n",
        "\n",
        "This example demonstrates how abstraction allows us to define a common interface (`get_salary()`) for calculating salaries while enabling specific implementations based on employee roles in the subclasses."
      ],
      "metadata": {
        "id": "ZUV9hv4EyfnC"
      }
    },
    {
      "cell_type": "markdown",
      "source": [
        "## ***14. Discuss the differences between abstract classes and concrete classes in Python, including their instantiation.***"
      ],
      "metadata": {
        "id": "mwzXcTRjyldw"
      }
    },
    {
      "cell_type": "markdown",
      "source": [
        "Here's a breakdown of the key differences between abstract classes and concrete classes in Python, focusing on instantiation:\n",
        "\n",
        "**Abstract Classes:**\n",
        "\n",
        "* **Purpose:**  Serve as blueprints for creating subclasses. They define a template for functionalities that subclasses must adhere to.\n",
        "* **Instantiation:**  **Cannot be directly instantiated**. This means you cannot create objects directly from an abstract class.\n",
        "* **Functionality:**  \n",
        "    * Can contain both abstract methods (without implementation) and concrete methods (with implementation).\n",
        "    * Abstract methods enforce that subclasses implement them with their own logic.\n",
        "* **Use Cases:**  \n",
        "    * Promote code consistency and ensure essential methods are implemented in subclasses.\n",
        "    * Define a common interface for related classes with varying implementations.\n",
        "    * Facilitate polymorphism, allowing functions to work on different subclasses of the abstract class without knowing their exact type.\n",
        "\n",
        "**Concrete Classes:**\n",
        "\n",
        "* **Purpose:**  Serve as blueprints for creating objects (instances). They represent specific entities with defined attributes and functionalities.\n",
        "* **Instantiation:**  **Can be directly instantiated**. You can use the `class_name()` syntax to create objects from a concrete class.\n",
        "* **Functionality:**  \n",
        "    * Only contain concrete methods (with implementation) that define the behaviors of the objects created from the class.\n",
        "* **Use Cases:**  \n",
        "    * Encapsulate data (attributes) and behavior (methods) for specific objects.\n",
        "    * Promote code reusability by creating objects with similar functionalities.\n",
        "    * Provide structure and organization to your code.\n",
        "\n",
        "**Instantiation as the Key Distinction:**\n",
        "\n",
        "The primary difference between abstract and concrete classes lies in their ability to be instantiated. Abstract classes cannot be directly used to create objects, while concrete classes are the workhorses for creating object instances.\n",
        "\n",
        "Here's a table summarizing the key points:\n",
        "\n",
        "| Feature                 | Abstract Class | Concrete Class |\n",
        "|-------------------------|-----------------|---------------|\n",
        "| Instantiation           | Not directly    | Directly      |\n",
        "| Abstract Methods        | Yes             | No             |\n",
        "| Flexibility             | Less flexible   | More flexible  |\n",
        "| Use Case                | Blueprints, Interfaces | Object creation |\n",
        "\n",
        "**Example:**\n",
        "\n",
        "```python\n",
        "from abc import ABC, abstractmethod\n",
        "\n",
        "class Animal(ABC):  # Abstract class\n",
        "  def __init__(self, name):\n",
        "    self.name = name\n",
        "\n",
        "  @abstractmethod\n",
        "  def make_sound(self):\n",
        "    pass\n",
        "\n",
        "class Dog(Animal):  # Concrete class\n",
        "  def make_sound(self):\n",
        "    print(f\"{self.name} barks: Woof!\")\n",
        "\n",
        "# This will cause an error because you cannot directly instantiate an abstract class\n",
        "# animal = Animal(\"Fido\")\n",
        "\n",
        "# This works perfectly because Dog is a concrete class\n",
        "dog = Dog(\"Fido\")\n",
        "dog.make_sound()  # This will print \"Fido barks: Woof!\"\n",
        "```\n",
        "\n",
        "In this example, `Animal` is abstract and cannot be instantiated.  `Dog` inherits from `Animal` and provides a concrete implementation for `make_sound()`, making it a concrete class that can be used to create objects.\n"
      ],
      "metadata": {
        "id": "bKvPA-jOyl1q"
      }
    },
    {
      "cell_type": "markdown",
      "source": [
        "## ***15. Explain the concept of abstract data types (ADTs) and their role in achieving abstraction in Python.***"
      ],
      "metadata": {
        "id": "LxWN5FMkzH8s"
      }
    },
    {
      "cell_type": "markdown",
      "source": [
        "Abstract Data Types (ADTs) are a fundamental concept in computer science that focuses on the behavior and operations associated with a data structure, rather than its specific implementation details. They provide a high-level view of how data can be organized and manipulated, hiding the underlying complexities.\n",
        "\n",
        "Here's how ADTs contribute to achieving abstraction in Python:\n",
        "\n",
        "* **Focus on \"What\" Instead of \"How\":** When using an ADT, you primarily deal with the operations (methods) you can perform on the data. You don't need to worry about how the data is actually stored or manipulated internally. This promotes cleaner code that focuses on what needs to be done rather than the specifics of how it's done.\n",
        "* **Improved Code Maintainability:** By separating the interface (operations) from the implementation, ADTs make code easier to maintain and modify. Changes to the internal implementation details of the data structure don't affect the way users interact with it, as long as the public interface (methods) remains consistent.\n",
        "* **Flexibility and Reusability:** ADTs promote flexible and reusable code. You can create different data structures that implement the same ADT (e.g., a linked list and an array both implement the list ADT). This allows you to choose the most appropriate data structure for your specific needs without affecting the overall functionality of your code.\n",
        "\n",
        "**Python's Built-in ADTs:**\n",
        "\n",
        "Python provides several built-in data types that can be considered ADTs:\n",
        "\n",
        "* **List:** An ordered collection of items, allowing access by index and various operations like insertion, deletion, and searching.\n",
        "* **Set:** An unordered collection of unique elements, supporting operations like checking for membership, adding or removing elements.\n",
        "* **Dictionary:** An unordered collection of key-value pairs, allowing access by keys and various operations like adding, modifying, and deleting key-value pairs.\n",
        "\n",
        "These data types offer a set of well-defined methods for interacting with the data, hiding the underlying implementation details (like arrays or hash tables) and achieving abstraction.\n",
        "\n",
        "**Custom ADTs in Python:**\n",
        "\n",
        "While Python has built-in ADTs, you can also create your own using classes:\n",
        "\n",
        "```python\n",
        "class Stack:\n",
        "  \"\"\"Abstract Data Type representing a last-in-first-out (LIFO) stack.\"\"\"\n",
        "\n",
        "  def __init__(self):\n",
        "    self.items = []\n",
        "\n",
        "  def push(self, item):\n",
        "    \"\"\"Adds an item to the top of the stack.\"\"\"\n",
        "    self.items.append(item)\n",
        "\n",
        "  def pop(self):\n",
        "    \"\"\"Removes and returns the item from the top of the stack.\"\"\"\n",
        "    return self.items.pop()\n",
        "\n",
        "  # ... other methods for stack operations\n",
        "```\n",
        "\n",
        "This `Stack` class defines an ADT for a LIFO stack with methods like `push()` and `pop()`, hiding the internal implementation using a list.\n",
        "\n",
        "**In essence, ADTs provide a way to think about data structures in a more abstract way, promoting code clarity, maintainability, and flexibility. Python's built-in data types and the ability to create custom ADTs through classes empower you to leverage this powerful concept in your programs.**"
      ],
      "metadata": {
        "id": "Mge0EwN4zIWX"
      }
    },
    {
      "cell_type": "markdown",
      "source": [
        "## **16. Create a Python class for a computer system, demonstrating abstraction by defining common methods (e.g., `power_on()`, `shutdown()`) in an abstract base class.**"
      ],
      "metadata": {
        "id": "Kqg3IFxszwN8"
      }
    },
    {
      "cell_type": "code",
      "source": [
        "from abc import ABC, abstractmethod\n",
        "\n",
        "class Computer(ABC):\n",
        "    def __init__(self, brand, model):\n",
        "        self.brand = brand\n",
        "        self.model = model\n",
        "\n",
        "    @abstractmethod\n",
        "    def power_on(self):\n",
        "        pass\n",
        "\n",
        "    @abstractmethod\n",
        "    def shutdown(self):\n",
        "        pass\n",
        "\n",
        "class Desktop(Computer):\n",
        "    def __init__(self, brand, model):\n",
        "        super().__init__(brand, model)\n",
        "\n",
        "    def power_on(self):\n",
        "        return f\"{self.brand} {self.model} desktop is booting up.\"\n",
        "\n",
        "    def shutdown(self):\n",
        "        return f\"{self.brand} {self.model} desktop is shutting down.\"\n",
        "\n",
        "class Laptop(Computer):\n",
        "    def __init__(self, brand, model):\n",
        "        super().__init__(brand, model)\n",
        "\n",
        "    def power_on(self):\n",
        "        return f\"{self.brand} {self.model} laptop is powering on.\"\n",
        "\n",
        "    def shutdown(self):\n",
        "        return f\"{self.brand} {self.model} laptop is shutting down.\"\n",
        "\n",
        "# Example usage:\n",
        "desktop = Desktop(\"Dell\", \"OptiPlex\")\n",
        "print(desktop.power_on())\n",
        "print(desktop.shutdown())\n",
        "\n",
        "laptop = Laptop(\"HP\", \"Pavilion\")\n",
        "print(laptop.power_on())\n",
        "print(laptop.shutdown())\n"
      ],
      "metadata": {
        "colab": {
          "base_uri": "https://localhost:8080/"
        },
        "id": "EbaKjJniyV4X",
        "outputId": "10bf9cda-3c1c-42c7-c5f9-9d215a39a4e0"
      },
      "execution_count": 4,
      "outputs": [
        {
          "output_type": "stream",
          "name": "stdout",
          "text": [
            "Dell OptiPlex desktop is booting up.\n",
            "Dell OptiPlex desktop is shutting down.\n",
            "HP Pavilion laptop is powering on.\n",
            "HP Pavilion laptop is shutting down.\n"
          ]
        }
      ]
    },
    {
      "cell_type": "markdown",
      "source": [
        "\n",
        "\n",
        "In this example, the `Computer` class is an abstract base class with abstract methods `power_on()` and `shutdown()`. Subclasses like `Desktop` and `Laptop` inherit from `Computer` and provide concrete implementations of these methods according to the behavior of each computer type. The `power_on()` and `shutdown()` methods can be called on instances of each subclass, demonstrating abstraction and polymorphism."
      ],
      "metadata": {
        "id": "oIEZmHpd0AD3"
      }
    },
    {
      "cell_type": "markdown",
      "source": [
        "## ***17. Discuss the benefits of using abstraction in large-scale software development projects.***"
      ],
      "metadata": {
        "id": "K9kWpoTa0GoZ"
      }
    },
    {
      "cell_type": "markdown",
      "source": [
        "Abstraction offers numerous benefits in large-scale software development projects, making the codebase more manageable, maintainable, and adaptable:\n",
        "\n",
        "**1. Improved Code Maintainability:**\n",
        "\n",
        "* **Reduced Complexity:** Abstraction allows you to hide implementation details behind well-defined interfaces. This reduces the mental burden on developers by focusing on what a piece of code does rather than how it does it.\n",
        "* **Easier Modifications:** Changes to the internal workings of a class or module can be made without affecting the user code that interacts with it, as long as the public interface (methods and attributes) remains consistent. This promotes modularity and simplifies maintenance efforts.\n",
        "* **Reduced Code Duplication:** By defining common functionalities in abstract classes or base classes, you avoid code duplication and promote code reuse throughout the project.\n",
        "\n",
        "**2. Enhanced Flexibility and Adaptability:**\n",
        "\n",
        "* **Loose Coupling:** Abstraction encourages loose coupling between different parts of the system. Code modules depend on interfaces rather than specific implementations. This makes the system more adaptable to changes. You can swap out implementations without affecting other parts of the code that rely on the interface.\n",
        "* **Extensibility:** Abstract classes and ADTs provide a foundation for building new functionalities and extending the system without modifying existing code. Developers can create new subclasses that inherit from an abstract class or implement an ADT, adhering to the established interface.\n",
        "* **Improved Testability:** By focusing on interfaces, abstraction allows for easier unit testing of individual modules in isolation. You can mock or stub concrete implementations for testing purposes, ensuring that the public interface works as expected.\n",
        "\n",
        "**3. Increased Code Clarity and Readability:**\n",
        "\n",
        "* **Focus on Functionality:** Abstract interfaces promote code that is easier to understand by focusing on the \"what\" (functionality) rather than the \"how\" (implementation details). This improves code readability and makes it easier for developers to grasp the overall system design.\n",
        "* **Improved Communication:** When everyone on the development team works with well-defined interfaces, it fosters better communication and collaboration. Developers can discuss functionalities and behaviors without getting bogged down in specific implementation details.\n",
        "\n",
        "**4. Error Reduction:**\n",
        "\n",
        "* **Standardized Interfaces:** By using abstract classes and ADTs, you enforce standardized interfaces for interacting with data structures and functionalities. This reduces the likelihood of errors caused by using modules or classes incorrectly.\n",
        "\n",
        "**Overall, abstraction is a cornerstone of good software design in large projects. It leads to cleaner, more maintainable, adaptable, and understandable code, ultimately saving time and resources during development and maintenance.**"
      ],
      "metadata": {
        "id": "R0vbA6Yp0caH"
      }
    },
    {
      "cell_type": "markdown",
      "source": [
        "## ***18. Explain how abstraction enhances code reusability and modularity in Python programs.***"
      ],
      "metadata": {
        "id": "xYzYkJHg0mUC"
      }
    },
    {
      "cell_type": "markdown",
      "source": [
        "Abstraction plays a crucial role in promoting code reusability and modularity in Python programs. Here's how:\n",
        "\n",
        "**1. Reusability:**\n",
        "\n",
        "* **Abstract Classes and Base Classes:** By defining common functionalities in abstract classes or base classes, you create reusable code blocks. Subclasses can inherit these functionalities and extend them without duplicating code. This reduces the overall codebase size and development time.\n",
        "* **Separation of Concerns:** Abstraction encourages breaking down complex problems into smaller, well-defined modules with specific functionalities. These modules can be reused in different parts of your program or even in other projects, promoting code sharing and reducing redundancy.\n",
        "\n",
        "**Example:**\n",
        "\n",
        "```python\n",
        "class Animal:\n",
        "  \"\"\"Abstract base class representing an animal.\"\"\"\n",
        "\n",
        "  def __init__(self, name):\n",
        "    self.name = name\n",
        "\n",
        "  def make_sound(self):\n",
        "    \"\"\"Abstract method for making a sound.\"\"\"\n",
        "    pass\n",
        "\n",
        "class Dog(Animal):\n",
        "  def make_sound(self):\n",
        "    print(f\"{self.name} barks: Woof!\")\n",
        "\n",
        "class Cat(Animal):\n",
        "  def make_sound(self):\n",
        "    print(f\"{self.name} meows!\")\n",
        "\n",
        "# Reusable functionality for making sounds in different contexts\n",
        "def play_animal_sound(animal):\n",
        "  animal.make_sound()\n",
        "\n",
        "dog = Dog(\"Fido\")\n",
        "cat = Cat(\"Mittens\")\n",
        "\n",
        "play_animal_sound(dog)  # Output: Fido barks: Woof!\n",
        "play_animal_sound(cat)  # Output: Mittens meows!\n",
        "```\n",
        "\n",
        "In this example, the `Animal` class defines a reusable `make_sound()` method. Subclasses like `Dog` and `Cat` implement it with specific sounds. The `play_animal_sound()` function can then be reused with any object inheriting from `Animal`, promoting code reuse.\n",
        "\n",
        "**2. Modularity:**\n",
        "\n",
        "* **Focus on Specific Tasks:** Abstraction allows you to create modules with clear responsibilities. Each module can focus on a particular task or functionality, making the codebase more organized and easier to understand.\n",
        "* **Independent Development and Testing:** Well-defined modules with clear interfaces can be developed and tested independently. This promotes parallel development and simplifies the testing process by isolating concerns within each module.\n",
        "\n",
        "**Example:**\n",
        "\n",
        "Imagine a program with modules:\n",
        "\n",
        "* `data_processing.py`: Handles data loading, cleaning, and preprocessing.\n",
        "* `model_training.py`: Implements the training logic for a machine learning model.\n",
        "* `evaluation.py`: Provides functions for evaluating the model's performance.\n",
        "\n",
        "These modules can be developed and tested independently, promoting code modularity and maintainability.\n",
        "\n",
        "**Overall, abstraction allows you to break down complex functionalities into reusable components and well-defined modules. This fosters code reusability, reduces redundancy, and makes your Python programs more modular, organized, and easier to maintain.**"
      ],
      "metadata": {
        "id": "mROuXNPq08Ci"
      }
    },
    {
      "cell_type": "markdown",
      "source": [
        "## ***19. Create a Python class for a library system, implementing abstraction by defining common methods (e.g., `add_book()`, `borrow_book()`) in an abstract base class.***"
      ],
      "metadata": {
        "id": "xAgRA33u1CtT"
      }
    },
    {
      "cell_type": "code",
      "source": [
        "from abc import ABC, abstractmethod\n",
        "\n",
        "class LibraryItem(ABC):\n",
        "  \"\"\"Abstract base class representing a library item.\"\"\"\n",
        "\n",
        "  def __init__(self, title, author, isbn):\n",
        "    self.title = title\n",
        "    self.author = author\n",
        "    self.isbn = isbn\n",
        "    self.is_available = True\n",
        "\n",
        "  @abstractmethod\n",
        "  def borrow(self):\n",
        "    \"\"\"Abstract method for borrowing a library item.\n",
        "\n",
        "    This method must be implemented by subclasses.\n",
        "    \"\"\"\n",
        "    pass\n",
        "\n",
        "  @abstractmethod\n",
        "  def return_item(self):\n",
        "    \"\"\"Abstract method for returning a library item.\n",
        "\n",
        "    This method must be implemented by subclasses.\n",
        "    \"\"\"\n",
        "    pass\n",
        "\n",
        "  def get_info(self):\n",
        "    \"\"\"Returns information about the library item.\"\"\"\n",
        "    return f\"{self.title} by {self.author} (ISBN: {self.isbn})\"\n",
        "\n",
        "class Book(LibraryItem):\n",
        "  \"\"\"Class representing a book.\"\"\"\n",
        "\n",
        "  def __init__(self, title, author, isbn, genre):\n",
        "    super().__init__(title, author, isbn)\n",
        "    self.genre = genre\n",
        "\n",
        "  def borrow(self):\n",
        "    \"\"\"Implementation of borrow() for Book.\"\"\"\n",
        "    if self.is_available:\n",
        "      self.is_available = False\n",
        "      print(f\"Borrowed book: {self.get_info()}\")\n",
        "    else:\n",
        "      print(f\"Sorry, {self.title} is not currently available.\")\n",
        "\n",
        "  def return_item(self):\n",
        "    \"\"\"Implementation of return_item() for Book.\"\"\"\n",
        "    self.is_available = True\n",
        "    print(f\"Returned book: {self.get_info()}\")\n",
        "\n",
        "class DVD(LibraryItem):\n",
        "  \"\"\"Class representing a DVD.\"\"\"\n",
        "\n",
        "  def __init__(self, title, director, isbn, runtime):\n",
        "    super().__init__(title, director, isbn)  # Director acts as author here\n",
        "    self.runtime = runtime\n",
        "\n",
        "  def borrow(self):\n",
        "    \"\"\"Implementation of borrow() for DVD.\"\"\"\n",
        "    if self.is_available:\n",
        "      self.is_available = False\n",
        "      print(f\"Borrowed DVD: {self.get_info()}\")\n",
        "    else:\n",
        "      print(f\"Sorry, {self.title} is not currently available.\")\n",
        "\n",
        "  def return_item(self):\n",
        "    \"\"\"Implementation of return_item() for DVD.\"\"\"\n",
        "    self.is_available = True\n",
        "    print(f\"Returned DVD: {self.get_info()}\")\n",
        "\n",
        "# Example usage\n",
        "book1 = Book(\"The Lord of the Rings\", \"J.R.R. Tolkien\", \"9780261102694\", \"Fantasy\")\n",
        "dvd1 = DVD(\"The Shawshank Redemption\", \"Frank Darabont\", \"9780788881602\", 142)\n",
        "\n",
        "book1.borrow()\n",
        "dvd1.borrow()\n",
        "\n",
        "book1.return_item()\n",
        "dvd1.return_item()\n"
      ],
      "metadata": {
        "colab": {
          "base_uri": "https://localhost:8080/"
        },
        "id": "WHVfrkJMz9TP",
        "outputId": "aa15e079-4bc0-4eb1-ba8d-d471b17bad88"
      },
      "execution_count": 5,
      "outputs": [
        {
          "output_type": "stream",
          "name": "stdout",
          "text": [
            "Borrowed book: The Lord of the Rings by J.R.R. Tolkien (ISBN: 9780261102694)\n",
            "Borrowed DVD: The Shawshank Redemption by Frank Darabont (ISBN: 9780788881602)\n",
            "Returned book: The Lord of the Rings by J.R.R. Tolkien (ISBN: 9780261102694)\n",
            "Returned DVD: The Shawshank Redemption by Frank Darabont (ISBN: 9780788881602)\n"
          ]
        }
      ]
    },
    {
      "cell_type": "markdown",
      "source": [
        "\n",
        "\n",
        "This code defines:\n",
        "\n",
        "* An abstract class `LibraryItem` with `add_book()` (intentionally omitted as it's not a borrowing/returning functionality), `borrow()`, `return_item()`, and `get_info()` methods. `borrow()` and `return_item()` are declared as abstract using the `@abstractmethod` decorator.\n",
        "* Subclasses `Book` and `DVD` that inherit from `LibraryItem` and implement their own versions of `borrow()` and `return_item()`.\n",
        "* An example usage that creates instances of `Book` and `DVD`, and then calls the `borrow()`, `return_item()`, and `get_info()` methods on each library item.\n",
        "\n",
        "This demonstrates how abstraction allows us to define common functionalities (`get_info()`) in the base class and enforce specific behaviors (`borrow()`, `return_item()`) through abstract methods that must be implemented by subclasses."
      ],
      "metadata": {
        "id": "v71yNNY51fNL"
      }
    },
    {
      "cell_type": "markdown",
      "source": [
        "## ***20. Describe the concept of method abstraction in Python and how it relates to polymorphism.***"
      ],
      "metadata": {
        "id": "OK9qU7El1sPB"
      }
    },
    {
      "cell_type": "markdown",
      "source": [
        "## Method Abstraction and Polymorphism in Python\n",
        "\n",
        "Method abstraction and polymorphism are interconnected concepts in Python object-oriented programming that contribute to cleaner, more flexible code. Here's a breakdown of each concept and how they relate:\n",
        "\n",
        "**Method Abstraction:**\n",
        "\n",
        "* **Focus:**  Hides the implementation details of methods within a class, exposing only their functionality through the method names and arguments.\n",
        "* **Mechanism:**  Achieved through abstract methods (using the `@abstractmethod` decorator from the `abc` module) in abstract classes. Abstract methods define the method signature (name and arguments) but lack an implementation. Subclasses must implement these methods with their own logic.\n",
        "* **Benefits:**\n",
        "    * Promotes code clarity by focusing on \"what\" the method does rather than \"how\" it does it.\n",
        "    * Enforces consistency across subclasses by requiring them to implement a specific method signature.\n",
        "    * Enables loose coupling by allowing different implementations for the same method in subclasses.\n",
        "\n",
        "**Polymorphism:**\n",
        "\n",
        "* **Focus:**  The ability for objects of different classes to respond to the same method call in different ways based on their specific type.\n",
        "* **Mechanism:**  Leverages method names and inheritance. When a method is called on an object, Python determines the object's class and executes the corresponding implementation defined in that class or a parent class (through inheritance).\n",
        "* **Benefits:**\n",
        "    * Promotes code flexibility by allowing different functionalities for the same method name.\n",
        "    * Simplifies code that works with various object types without needing to check their specific class.\n",
        "    * Enables the creation of generic functions or methods that can work with objects of different subclasses as long as they share a common base class and method name.\n",
        "\n",
        "**Relationship Between Method Abstraction and Polymorphism:**\n",
        "\n",
        "* **Foundation for Polymorphism:**  Method abstraction using abstract methods in an abstract class lays the groundwork for polymorphism. It defines the method signature and enforces its presence in subclasses, allowing different implementations to exist.\n",
        "* **Flexibility Through Polymorphism:**  Polymorphism allows code to work with objects of various subclasses (as long as they inherit from the abstract class) without needing to know their exact type. The specific method implementation for the abstract method will be executed based on the object's actual class.\n",
        "\n",
        "**Example:**\n",
        "\n",
        "```python\n",
        "from abc import ABC, abstractmethod\n",
        "\n",
        "class Shape(ABC):\n",
        "  \"\"\"Abstract base class representing a shape.\"\"\"\n",
        "\n",
        "  @abstractmethod\n",
        "  def calculate_area(self):\n",
        "    \"\"\"Abstract method for calculating the area of the shape.\n",
        "\n",
        "    This method must be implemented by subclasses.\n",
        "    \"\"\"\n",
        "    pass\n",
        "\n",
        "class Square(Shape):\n",
        "  \"\"\"Class representing a square.\"\"\"\n",
        "\n",
        "  def __init__(self, side_length):\n",
        "    self.side_length = side_length\n",
        "\n",
        "  def calculate_area(self):\n",
        "    \"\"\"Calculates and returns the area of the square.\"\"\"\n",
        "    return self.side_length * self.side_length\n",
        "\n",
        "class Circle(Shape):\n",
        "  \"\"\"Class representing a circle.\"\"\"\n",
        "\n",
        "  def __init__(self, radius):\n",
        "    self.radius = radius\n",
        "\n",
        "  def calculate_area(self):\n",
        "    \"\"\"Calculates and returns the area of the circle.\"\"\"\n",
        "    return 3.14159 * self.radius * self.radius\n",
        "\n",
        "# Example usage (polymorphism in action)\n",
        "def calculate_total_area(shapes):\n",
        "  \"\"\"Calculates the total area of all shapes in the list.\"\"\"\n",
        "  total_area = 0\n",
        "  for shape in shapes:\n",
        "    total_area += shape.calculate_area()\n",
        "  return total_area\n",
        "\n",
        "shapes = [Square(5), Circle(3)]\n",
        "total_area = calculate_total_area(shapes)\n",
        "print(f\"Total area of all shapes: {total_area}\")\n",
        "```\n",
        "\n",
        "In this example:\n",
        "\n",
        "* `Shape` is an abstract class with an abstract method `calculate_area()`.\n",
        "* `Square` and `Circle` inherit from `Shape` and implement their specific logic for calculating area.\n",
        "* The `calculate_total_area()` function works with a list of shapes (which can be of different subclasses) and calls the `calculate_area()` method on each one. Polymorphism ensures the appropriate implementation (based on the object's class) is executed.\n",
        "\n",
        "**In essence, method abstraction lays the foundation for polymorphism by defining the interface (method signature) in an abstract class, while polymorphism allows for the flexibility of having different implementations of that method in subclasses.**"
      ],
      "metadata": {
        "id": "9RWYg-hB1zpI"
      }
    },
    {
      "cell_type": "markdown",
      "source": [
        "## <font color='blue'>**Composition:**"
      ],
      "metadata": {
        "id": "kt60atqP1-bJ"
      }
    },
    {
      "cell_type": "markdown",
      "source": [
        "## ***1. Explain the concept of composition in Python and how it is used to build complex objects from simpler ones.***"
      ],
      "metadata": {
        "id": "p7RRS7sv2swV"
      }
    },
    {
      "cell_type": "markdown",
      "source": [
        "In Python, composition is a fundamental concept in object-oriented programming (OOP) that allows you to create complex objects by combining simpler objects. It's essentially a \"has-a\" relationship between classes. Here's a breakdown of how it works:\n",
        "\n",
        "**Core Idea:**\n",
        "\n",
        "* A class can contain instances of other classes as its attributes.\n",
        "* These contained objects are then used as building blocks to define the functionality of the complex object.\n",
        "\n",
        "**Benefits:**\n",
        "\n",
        "* **Code Reusability:** By leveraging existing classes, you can avoid code duplication and promote code reuse.\n",
        "* **Modularity:** Composition breaks down complex functionalities into smaller, manageable objects, improving code organization and maintainability.\n",
        "* **Flexibility:** You can combine different objects to create various functionalities within the complex object.\n",
        "\n",
        "**Example:**\n",
        "\n",
        "```python\n",
        "class Engine:\n",
        "  \"\"\"Class representing an engine.\"\"\"\n",
        "\n",
        "  def __init__(self, horse_power):\n",
        "    self.horse_power = horse_power\n",
        "\n",
        "  def start(self):\n",
        "    print(\"Engine started!\")\n",
        "\n",
        "class Car:\n",
        "  \"\"\"Class representing a car.\"\"\"\n",
        "\n",
        "  def __init__(self, make, model, engine):\n",
        "    self.make = make\n",
        "    self.model = model\n",
        "    self.engine = engine  # Car has an Engine object as an attribute\n",
        "\n",
        "  def accelerate(self):\n",
        "    print(f\"{self.make} {self.model} is accelerating with {self.engine.horse_power} horsepower!\")\n",
        "\n",
        "# Create an engine and a car\n",
        "my_engine = Engine(200)\n",
        "my_car = Car(\"Tesla\", \"Model S\", my_engine)\n",
        "\n",
        "# Start the car (using the engine's method)\n",
        "my_car.engine.start()\n",
        "my_car.accelerate()  # Output: Tesla Model S is accelerating with 200 horsepower!\n",
        "```\n",
        "\n",
        "In this example:\n",
        "\n",
        "* `Engine` is a simple class with attributes and methods related to an engine.\n",
        "* `Car` is a more complex class that has an `Engine` object as an attribute. It uses the `Engine` object's methods (`start()`) and combines it with its own methods (`accelerate()`) to provide functionalities specific to a car.\n",
        "\n",
        "**Key Points:**\n",
        "\n",
        "* Composition differs from inheritance. In inheritance, a class inherits attributes and methods from a parent class. In composition, a class has instances of other classes as attributes, but doesn't inherit their functionalities directly.\n",
        "* You can have multiple instances of different classes as attributes within a complex object, allowing for even more intricate functionalities.\n",
        "\n",
        "By effectively using composition, you can create well-structured, reusable, and adaptable object-oriented programs in Python."
      ],
      "metadata": {
        "id": "VRp4CzRi2wkW"
      }
    },
    {
      "cell_type": "markdown",
      "source": [
        "## ***2. Describe the difference between composition and inheritance in object-oriented programming.***"
      ],
      "metadata": {
        "id": "OZHOtaRh3GT3"
      }
    },
    {
      "cell_type": "markdown",
      "source": [
        "Inheritance and composition are both fundamental techniques in object-oriented programming (OOP) used to establish relationships between classes. However, they differ in the way they achieve this and the resulting relationship between the classes.\n",
        "\n",
        "**Inheritance:**\n",
        "\n",
        "* **Concept:**  Establishes an \"is-a\" relationship between classes. A subclass inherits attributes and methods from a parent class, becoming a more specialized version of it.\n",
        "* **Mechanism:**  A subclass is declared using the `class Subclass(ParentClass):` syntax. The subclass inherits all public and protected attributes and methods from the parent class.\n",
        "* **Benefits:**\n",
        "    * Promotes code reuse by eliminating the need to duplicate code in child classes.\n",
        "    * Enables polymorphism, allowing objects of different subclasses to be treated similarly through a common interface (inherited methods).\n",
        "    * Provides a natural way to model real-world hierarchical relationships between entities.\n",
        "\n",
        "**Example:**\n",
        "\n",
        "```python\n",
        "class Animal:\n",
        "  \"\"\"Base class representing an animal.\"\"\"\n",
        "\n",
        "  def __init__(self, name):\n",
        "    self.name = name\n",
        "\n",
        "  def make_sound(self):\n",
        "    print(\"Generic animal sound\")\n",
        "\n",
        "class Dog(Animal):\n",
        "  \"\"\"Subclass representing a dog.\"\"\"\n",
        "\n",
        "  def make_sound(self):\n",
        "    print(f\"{self.name} barks: Woof!\")\n",
        "\n",
        "# Dog inherits from Animal and can use its methods (like make_sound)\n",
        "my_dog = Dog(\"Fido\")\n",
        "my_dog.make_sound()  # Output: Fido barks: Woof!\n",
        "```\n",
        "\n",
        "**Composition:**\n",
        "\n",
        "* **Concept:**  Establishes a \"has-a\" relationship between classes. A class has instances of other classes as attributes, utilizing their functionalities to achieve its own behavior.\n",
        "* **Mechanism:**  A class defines attributes that hold references (objects) of other classes. The class interacts with these objects using their methods.\n",
        "* **Benefits:**\n",
        "    * Promotes code reusability by allowing existing classes to be combined to create new functionalities.\n",
        "    * Improves code modularity by breaking down complex objects into smaller, independent components.\n",
        "    * Provides greater flexibility in creating diverse functionalities by combining different objects.\n",
        "\n",
        "**Example:**\n",
        "\n",
        "```python\n",
        "class Engine:\n",
        "  \"\"\"Class representing an engine.\"\"\"\n",
        "\n",
        "  def __init__(self, horse_power):\n",
        "    self.horse_power = horse_power\n",
        "\n",
        "  def start(self):\n",
        "    print(\"Engine started!\")\n",
        "\n",
        "class Car:\n",
        "  \"\"\"Class representing a car (using an Engine object).\"\"\"\n",
        "\n",
        "  def __init__(self, make, model, engine):\n",
        "    self.make = make\n",
        "    self.model = model\n",
        "    self.engine = engine  # Car has an Engine object as an attribute\n",
        "\n",
        "  def accelerate(self):\n",
        "    print(f\"{self.make} {self.model} is accelerating with {self.engine.horse_power} horsepower!\")\n",
        "\n",
        "# Create an engine and a car (composition)\n",
        "my_engine = Engine(200)\n",
        "my_car = Car(\"Tesla\", \"Model S\", my_engine)\n",
        "my_car.engine.start()  # Call start method from the engine object\n",
        "my_car.accelerate()  # Output: Tesla Model S is accelerating with 200 horsepower!\n",
        "```\n",
        "\n",
        "**Key Differences:**\n",
        "\n",
        "* **Relationship:** Inheritance creates an \"is-a\" relationship, while composition creates a \"has-a\" relationship.\n",
        "* **Code Reuse:** Inheritance promotes code reuse through inheritance, while composition promotes code reuse by combining existing classes.\n",
        "* **Flexibility:** Inheritance is less flexible as subclasses inherit a defined set of functionalities. Composition is more flexible as you can combine various objects to achieve different functionalities.\n",
        "\n",
        "**Choosing Between Inheritance and Composition:**\n",
        "\n",
        "* Use inheritance when you have a clear \"is-a\" relationship between classes and want to specialize existing functionalities.\n",
        "* Use composition when you want more flexibility in combining functionalities from different classes and have a \"has-a\" relationship.\n",
        "\n",
        "In essence, inheritance and composition are complementary techniques. You can even combine them within your program structure to achieve complex and well-designed object-oriented systems."
      ],
      "metadata": {
        "id": "sRaDap9r3kYn"
      }
    },
    {
      "cell_type": "markdown",
      "source": [
        "## ***3. Create a Python class called `Author` with attributes for name and birthdate. Then, create a `Book` class that contains an instance of `Author` as a composition. Provide an example of creating a `Book` object.***"
      ],
      "metadata": {
        "id": "CmA1b4ZB33dM"
      }
    },
    {
      "cell_type": "code",
      "source": [
        "class Author:\n",
        "    def __init__(self, name, birthdate):\n",
        "        self.name = name\n",
        "        self.birthdate = birthdate\n",
        "\n",
        "class Book:\n",
        "    def __init__(self, title, author_name, author_birthdate):\n",
        "        self.title = title\n",
        "        self.author = Author(author_name, author_birthdate)\n",
        "\n",
        "# Example usage:\n",
        "author = Author(\"J.K. Rowling\", \"July 31, 1965\")\n",
        "book = Book(\"Harry Potter and the Sorcerer's Stone\", author.name, author.birthdate)\n",
        "\n",
        "print(\"Book Title:\", book.title)\n",
        "print(\"Author Name:\", book.author.name)\n",
        "print(\"Author Birthdate:\", book.author.birthdate)\n"
      ],
      "metadata": {
        "colab": {
          "base_uri": "https://localhost:8080/"
        },
        "id": "RbzO0DWt1TPF",
        "outputId": "a556ae27-b1b8-4b03-c225-009037980e24"
      },
      "execution_count": 6,
      "outputs": [
        {
          "output_type": "stream",
          "name": "stdout",
          "text": [
            "Book Title: Harry Potter and the Sorcerer's Stone\n",
            "Author Name: J.K. Rowling\n",
            "Author Birthdate: July 31, 1965\n"
          ]
        }
      ]
    },
    {
      "cell_type": "markdown",
      "source": [
        "\n",
        "\n",
        "In this example:\n",
        "- The `Author` class represents an author with attributes for name and birthdate.\n",
        "- The `Book` class contains an instance of `Author` as a composition. It has attributes for the book title and an `Author` object representing the book's author.\n",
        "- When creating a `Book` object, an `Author` object is also created and passed as an argument to the `Book` constructor.\n",
        "- Example usage demonstrates how to create a `Book` object with an associated `Author` object and access the attributes of both."
      ],
      "metadata": {
        "id": "izspQSQ94NFm"
      }
    },
    {
      "cell_type": "markdown",
      "source": [
        "## ***4. Discuss the benefits of using composition over inheritance in Python, especially in terms of code flexibility and reusability.***"
      ],
      "metadata": {
        "id": "E7AlyArr4aL4"
      }
    },
    {
      "cell_type": "markdown",
      "source": [
        "Here's a breakdown of the benefits of using composition over inheritance in Python, particularly focusing on code flexibility and reusability:\n",
        "\n",
        "**Increased Code Flexibility:**\n",
        "\n",
        "* **Freer Choice of Collaborating Classes:** Inheritance restricts subclasses to inherit functionalities from a single parent class. Composition allows you to combine objects from various unrelated classes to achieve the desired behavior in your complex object. This provides more flexibility in crafting functionalities specific to your needs.\n",
        "\n",
        "  * Example: Imagine a `Vehicle` class using inheritance. You might have a `Car` and a `Truck` subclass that inherit from `Vehicle`. But what if you need a `FlyingCar` object? Inheritance wouldn't be ideal here. With composition, you could create a `FlyingCar` class that has a `Car` object and a `FlyingModule` object (potentially from a completely different class hierarchy), offering more flexibility in defining its functionalities.\n",
        "\n",
        "* **Dynamic Composition at Runtime:**  In some cases, you might not know the exact type of object you need to compose with until runtime. Inheritance locks you into a specific class hierarchy. Composition allows you to create objects with different compositions at runtime based on your requirements.\n",
        "\n",
        "  * Example:  Imagine a game with different types of power-ups. Instead of inheriting from a single `PowerUp` class, you could use composition. A `SpeedBoost` power-up might have a `Player` object and a `SpeedModifier` object, while a `HealthBoost` power-up might have a `Player` object and a `HealthModifier` object. This allows for dynamic creation of power-ups with different functionalities at runtime.\n",
        "\n",
        "**Enhanced Code Reusability:**\n",
        "\n",
        "* **Focus on Independent Classes:** Composition encourages creating well-defined, independent classes with specific responsibilities. These classes can be reused in various contexts with different compositions, promoting code reuse and reducing redundancy.\n",
        "\n",
        "  * Example:  An `Engine` class might be reusable in a `Car` class, a `Boat` class, or even a `Generator` class. Each class can leverage the `Engine` class's functionalities while having its own unique behavior through separate compositions.\n",
        "\n",
        "* **Reduced Coupling:** Inheritance creates a tight coupling between classes, as subclasses rely on the functionalities of the parent class. Composition creates a looser coupling, as classes collaborate through their attributes (objects of other classes) without relying on specific inheritance structures. This loose coupling makes code easier to maintain and modify as changes in one class have less impact on others.\n",
        "\n",
        "**Additional Considerations:**\n",
        "\n",
        "* **Complexity of Relationships:** While composition offers flexibility, it can sometimes lead to more complex class structures, especially when dealing with many collaborating classes. Inheritance can be simpler for clear \"is-a\" relationships.\n",
        "* **Testing:** Both inheritance and composition require careful testing strategies. However, with composition, you might need to test interactions between multiple independent classes, whereas inheritance often involves testing within a class hierarchy.\n",
        "\n",
        "\n",
        "**In essence, composition provides greater flexibility in how you build complex objects by allowing you to combine functionalities from various classes. It also promotes code reusability through well-defined, independent classes. However, it's important to consider the trade-off in terms of potential complexity and testing strategies when choosing between composition and inheritance.**\n"
      ],
      "metadata": {
        "id": "78Ask-zA4r_G"
      }
    },
    {
      "cell_type": "markdown",
      "source": [
        "## ***5. How can you implement composition in Python classes? Provide examples of using composition to create complex objects.***"
      ],
      "metadata": {
        "id": "2sxNfB-I4xJR"
      }
    },
    {
      "cell_type": "markdown",
      "source": [
        "Composition in Python classes can be implemented by embedding instances of other classes as attributes within a class or by passing instances of other classes as parameters in the constructor or methods. Here are examples demonstrating both approaches:\n",
        "\n",
        "**1. Embedding Instances as Attributes:**\n",
        "\n",
        "```python\n",
        "class Engine:\n",
        "    def __init__(self, horsepower):\n",
        "        self.horsepower = horsepower\n",
        "\n",
        "class Car:\n",
        "    def __init__(self, make, model, engine_horsepower):\n",
        "        self.make = make\n",
        "        self.model = model\n",
        "        self.engine = Engine(engine_horsepower)  # Composition: Car has-an Engine\n",
        "```\n",
        "\n",
        "In this example, the `Car` class has an instance of the `Engine` class embedded as an attribute. This composition relationship represents the fact that a car contains an engine as one of its components.\n",
        "\n",
        "**2. Passing Instances as Parameters:**\n",
        "\n",
        "```python\n",
        "class Engine:\n",
        "    def __init__(self, horsepower):\n",
        "        self.horsepower = horsepower\n",
        "\n",
        "class Car:\n",
        "    def __init__(self, make, model, engine):\n",
        "        self.make = make\n",
        "        self.model = model\n",
        "        self.engine = engine  # Composition: Car has-an Engine\n",
        "```\n",
        "\n",
        "In this example, the `Car` class takes an instance of the `Engine` class as a parameter in its constructor. This composition relationship allows for greater flexibility, as different instances of `Engine` can be passed to create different `Car` objects.\n",
        "\n",
        "**Example Usage:**\n",
        "\n",
        "```python\n",
        "# Using the first approach (embedding instances as attributes)\n",
        "engine = Engine(200)\n",
        "car = Car(\"Toyota\", \"Camry\", engine)\n",
        "\n",
        "print(\"Car Make:\", car.make)\n",
        "print(\"Car Model:\", car.model)\n",
        "print(\"Car Engine Horsepower:\", car.engine.horsepower)\n",
        "\n",
        "# Using the second approach (passing instances as parameters)\n",
        "engine = Engine(250)\n",
        "car = Car(\"Honda\", \"Accord\", engine)\n",
        "\n",
        "print(\"Car Make:\", car.make)\n",
        "print(\"Car Model:\", car.model)\n",
        "print(\"Car Engine Horsepower:\", car.engine.horsepower)\n",
        "```\n",
        "\n",
        "In both examples, the `Car` objects are composed of `Engine` objects. By embedding instances of the `Engine` class as attributes or by passing instances of the `Engine` class as parameters, we achieve composition, allowing us to create complex objects with different combinations of components."
      ],
      "metadata": {
        "id": "mqldGor38Ype"
      }
    },
    {
      "cell_type": "markdown",
      "source": [
        "## ***6. Create a Python class hierarchy for a music player system, using composition to represent playlists and songs.***"
      ],
      "metadata": {
        "id": "2S6ObjbB8i1n"
      }
    },
    {
      "cell_type": "code",
      "source": [
        "class Song:\n",
        "    def __init__(self, title, artist, duration):\n",
        "        self.title = title\n",
        "        self.artist = artist\n",
        "        self.duration = duration\n",
        "\n",
        "    def play(self):\n",
        "        print(f\"Playing: {self.title} by {self.artist} ({self.duration} seconds)\")\n",
        "\n",
        "\n",
        "class Playlist:\n",
        "    def __init__(self, name):\n",
        "        self.name = name\n",
        "        self.songs = []\n",
        "\n",
        "    def add_song(self, song):\n",
        "        self.songs.append(song)\n",
        "\n",
        "    def remove_song(self, song):\n",
        "        if song in self.songs:\n",
        "            self.songs.remove(song)\n",
        "\n",
        "    def play_all(self):\n",
        "        print(f\"Playing all songs in playlist '{self.name}':\")\n",
        "        for song in self.songs:\n",
        "            song.play()\n",
        "\n",
        "\n",
        "# Example usage:\n",
        "song1 = Song(\"Shape of You\", \"Ed Sheeran\", 240)\n",
        "song2 = Song(\"Believer\", \"Imagine Dragons\", 210)\n",
        "song3 = Song(\"Havana\", \"Camila Cabello\", 200)\n",
        "\n",
        "playlist1 = Playlist(\"Pop Hits\")\n",
        "playlist1.add_song(song1)\n",
        "playlist1.add_song(song2)\n",
        "playlist1.add_song(song3)\n",
        "\n",
        "song4 = Song(\"Stairway to Heaven\", \"Led Zeppelin\", 480)\n",
        "song5 = Song(\"Hotel California\", \"Eagles\", 360)\n",
        "\n",
        "playlist2 = Playlist(\"Classic Rock\")\n",
        "playlist2.add_song(song4)\n",
        "playlist2.add_song(song5)\n",
        "\n",
        "# Playlists can contain songs\n",
        "playlist1.play_all()\n",
        "playlist2.play_all()\n"
      ],
      "metadata": {
        "colab": {
          "base_uri": "https://localhost:8080/"
        },
        "id": "NMubmUTy4Khw",
        "outputId": "48b87e79-90bf-4b47-c807-927cbb7e529d"
      },
      "execution_count": 7,
      "outputs": [
        {
          "output_type": "stream",
          "name": "stdout",
          "text": [
            "Playing all songs in playlist 'Pop Hits':\n",
            "Playing: Shape of You by Ed Sheeran (240 seconds)\n",
            "Playing: Believer by Imagine Dragons (210 seconds)\n",
            "Playing: Havana by Camila Cabello (200 seconds)\n",
            "Playing all songs in playlist 'Classic Rock':\n",
            "Playing: Stairway to Heaven by Led Zeppelin (480 seconds)\n",
            "Playing: Hotel California by Eagles (360 seconds)\n"
          ]
        }
      ]
    },
    {
      "cell_type": "markdown",
      "source": [
        "\n",
        "\n",
        "In this example:\n",
        "- The `Song` class represents individual songs with attributes for title, artist, and duration.\n",
        "- The `Playlist` class represents playlists with attributes for name and a list of songs.\n",
        "- Composition is used to represent playlists containing songs. Each `Playlist` object contains instances of the `Song` class as its components.\n",
        "- Methods are provided to add and remove songs from playlists, as well as to play all songs in a playlist.\n",
        "- Example usage demonstrates creating songs, playlists, adding songs to playlists, and playing all songs in each playlist."
      ],
      "metadata": {
        "id": "KNWmjRVA8ur8"
      }
    },
    {
      "cell_type": "markdown",
      "source": [
        "## ***7. Explain the concept of \"has-a\" relationships in composition and how it helps design software systems.***"
      ],
      "metadata": {
        "id": "p2rA3vpm9MhU"
      }
    },
    {
      "cell_type": "markdown",
      "source": [
        "In the context of object-oriented programming (OOP), composition represents a \"has-a\" relationship between classes. It describes a scenario where one class (the whole) contains instances (objects) of other classes (the parts) as attributes. These contained objects contribute to the functionality of the whole object.\n",
        "\n",
        "Here's a breakdown of how \"has-a\" relationships in composition benefit software system design:\n",
        "\n",
        "**1. Modular Design:**\n",
        "\n",
        "* By breaking down complex functionalities into smaller, independent classes, composition promotes a modular design. Each class focuses on a specific responsibility, making the code easier to understand, maintain, and modify.\n",
        "* Imagine a program with a `Car` class. Using composition, you can have separate classes for `Engine`, `Wheels`, and `SteeringWheel`. This modularity promotes better code organization and reduces the complexity of the `Car` class itself.\n",
        "\n",
        "**2. Code Reusability:**\n",
        "\n",
        "* The independent classes used in composition are often reusable in other contexts. For example, an `Engine` class might be used in a `Car` class, a `Boat` class, or even a `Generator` class. This reduces code duplication and promotes efficient code reuse.\n",
        "* By leveraging existing, well-defined classes, you can create new functionalities more quickly and efficiently.\n",
        "\n",
        "**3. Flexibility in Building Complex Objects:**\n",
        "\n",
        "* Composition allows you to combine functionalities from different classes to create diverse and complex objects. You can have various car models with different engine and wheel configurations without modifying the core functionalities of the individual classes.\n",
        "* This flexibility allows you to model real-world systems more accurately, where objects are often composed of various interacting parts.\n",
        "\n",
        "**4. Loose Coupling:**\n",
        "\n",
        "* Composition fosters a looser coupling between classes compared to inheritance. Classes collaborate through their contained objects instead of relying on a strict inheritance hierarchy. This makes the code more adaptable and easier to maintain.\n",
        "* Changes in one class (e.g., the `Engine` class) have less impact on other classes (e.g., the `Car` class) as long as the interface (methods and attributes) of the contained object remains consistent.\n",
        "\n",
        "**5. Improved Testability:**\n",
        "\n",
        "* Independent classes used in composition are often easier to test in isolation. You can test the functionalities of an `Engine` class without needing a complete `Car` object. This simplifies the testing process and improves overall code quality.\n",
        "\n",
        "**Overall, the \"has-a\" relationship in composition is a valuable concept for designing well-structured, maintainable, and reusable software systems. It promotes modularity, code reuse, flexibility, and looser coupling, leading to cleaner and more efficient code.**"
      ],
      "metadata": {
        "id": "g3eUgLkC9Y0e"
      }
    },
    {
      "cell_type": "markdown",
      "source": [
        " Here's an example to illustrate the \"has-a\" relationship in composition:\n",
        "\n",
        "```python\n",
        "class Engine:\n",
        "    def __init__(self, horsepower):\n",
        "        self.horsepower = horsepower\n",
        "\n",
        "class Car:\n",
        "    def __init__(self, make, model, engine):\n",
        "        self.make = make\n",
        "        self.model = model\n",
        "        self.engine = engine  # Composition: Car has-an Engine\n",
        "```\n",
        "\n",
        "In this example:\n",
        "- The `Engine` class represents an engine with an attribute for horsepower.\n",
        "- The `Car` class represents a car with attributes for make, model, and an instance of the `Engine` class as an attribute.\n",
        "- The `Car` class exhibits a \"has-a\" relationship with the `Engine` class, indicating that a car \"has\" an engine as one of its components.\n",
        "- By composing a `Car` object from an instance of the `Engine` class, we create a complex object that combines the functionality of both classes. This composition allows us to represent the car's engine as a part of its state.\n",
        "\n",
        "Example usage:\n",
        "\n",
        "```python\n",
        "# Creating an Engine instance\n",
        "engine = Engine(200)\n",
        "\n",
        "# Creating a Car instance with the engine instance as a parameter\n",
        "car = Car(\"Toyota\", \"Camry\", engine)\n",
        "\n",
        "# Accessing attributes of the car and its engine\n",
        "print(\"Car Make:\", car.make)\n",
        "print(\"Car Model:\", car.model)\n",
        "print(\"Car Engine Horsepower:\", car.engine.horsepower)\n",
        "```\n",
        "\n",
        "In this example, the `Car` object contains an instance of the `Engine` class as one of its attributes, demonstrating the \"has-a\" relationship in composition. This relationship allows us to represent the car's engine as a part of its state, enabling us to model complex systems in a modular and reusable manner."
      ],
      "metadata": {
        "id": "Oe6NWXso96Ja"
      }
    },
    {
      "cell_type": "markdown",
      "source": [
        "## ***8. Create a Python class for a computer system, using composition to represent components like CPU, RAM,and storage devices.***"
      ],
      "metadata": {
        "id": "nKuEplu5-Crd"
      }
    },
    {
      "cell_type": "code",
      "source": [
        "class CPU:\n",
        "  \"\"\"Class representing a central processing unit.\"\"\"\n",
        "\n",
        "  def __init__(self, cores, clock_speed):\n",
        "    self.cores = cores\n",
        "    self.clock_speed = clock_speed\n",
        "\n",
        "  def process(self):\n",
        "    print(\"CPU processing data...\")\n",
        "\n",
        "class RAM:\n",
        "  \"\"\"Class representing random access memory.\"\"\"\n",
        "\n",
        "  def __init__(self, capacity):\n",
        "    self.capacity = capacity\n",
        "\n",
        "  def store_data(self):\n",
        "    print(\"RAM storing data...\")\n",
        "\n",
        "class StorageDevice:\n",
        "  \"\"\"Base class representing a storage device.\"\"\"\n",
        "\n",
        "  def __init__(self, capacity):\n",
        "    self.capacity = capacity\n",
        "\n",
        "  def store_data(self):\n",
        "    print(\"Storing data...\")  # Abstract method, can be overridden in subclasses\n",
        "\n",
        "class HardDiskDrive(StorageDevice):\n",
        "  \"\"\"Class representing a hard disk drive.\"\"\"\n",
        "\n",
        "  def __init__(self, capacity, rpm):\n",
        "    super().__init__(capacity)\n",
        "    self.rpm = rpm\n",
        "\n",
        "class SolidStateDrive(StorageDevice):\n",
        "  \"\"\"Class representing a solid state drive.\"\"\"\n",
        "\n",
        "  def __init__(self, capacity):\n",
        "    super().__init__(capacity)\n",
        "\n",
        "class ComputerSystem:\n",
        "  \"\"\"Class representing a computer system.\"\"\"\n",
        "\n",
        "  def __init__(self, cpu, ram, storage_device):\n",
        "    self.cpu = cpu\n",
        "    self.ram = ram\n",
        "    self.storage_device = storage_device\n",
        "\n",
        "  def process_data(self):\n",
        "    self.cpu.process()\n",
        "    self.ram.store_data()  # Utilize methods from contained objects\n",
        "    self.storage_device.store_data()\n",
        "\n",
        "# Example usage\n",
        "cpu = CPU(4, 3.5)\n",
        "ram = RAM(16)\n",
        "hdd = HardDiskDrive(2000, 7200)  # Or use SSD(capacity)\n",
        "\n",
        "computer = ComputerSystem(cpu, ram, hdd)\n",
        "computer.process_data()  # Output: CPU processing data..., RAM storing data..., Storing data...\n"
      ],
      "metadata": {
        "colab": {
          "base_uri": "https://localhost:8080/"
        },
        "id": "m4ESKjcb95Eg",
        "outputId": "02180c35-5469-45a7-f0e2-745f08a81547"
      },
      "execution_count": 9,
      "outputs": [
        {
          "output_type": "stream",
          "name": "stdout",
          "text": [
            "CPU processing data...\n",
            "RAM storing data...\n",
            "Storing data...\n"
          ]
        }
      ]
    },
    {
      "cell_type": "markdown",
      "source": [
        "\n",
        "\n",
        "**Explanation:**\n",
        "\n",
        "* We define separate classes for `CPU`, `RAM`, `StorageDevice` (abstract base class), `HardDiskDrive`, and `SolidStateDrive`.\n",
        "* `ComputerSystem` uses composition. It has attributes that hold objects of the other classes (`cpu`, `ram`, and `storage_device`).\n",
        "* `ComputerSystem` defines a method `process_data()` that utilizes the functionalities of the contained objects through their methods (`cpu.process()`, `ram.store_data()`, and `storage_device.store_data()`)."
      ],
      "metadata": {
        "id": "T4IoajoL-ek0"
      }
    },
    {
      "cell_type": "markdown",
      "source": [
        "## ***9. Describe the concept of \"delegation\" in composition and how it simplifies the design of complex systems.***"
      ],
      "metadata": {
        "id": "YkW8IASK-6ls"
      }
    },
    {
      "cell_type": "markdown",
      "source": [
        "In the context of composition with object-oriented programming (OOP), delegation refers to a specific technique where a class (the delegator) forwards a method call to an object (the delegate) it contains as a composition. This allows the delegator to utilize the functionalities of the delegate without duplicating the code or directly exposing the delegate's methods in its own interface.\n",
        "\n",
        "Here's a breakdown of how delegation simplifies the design of complex systems:\n",
        "\n",
        "**1. Improved Code Organization:**\n",
        "\n",
        "* By delegating specific tasks to dedicated objects (delegates), the delegator class remains focused on its core responsibilities. This reduces code complexity and improves overall organization.\n",
        "* Imagine a `ComputerSystem` class with a method `boot_up()`. Instead of including all the intricate logic for booting up (checking hardware, loading software), it can delegate this task to a separate `BootManager` object.\n",
        "\n",
        "**2. Enhanced Maintainability:**\n",
        "\n",
        "* If the logic for a specific task needs to be changed, you only modify the delegate object. This keeps the delegator class clean and simplifies maintenance.\n",
        "* For instance, if the boot process changes due to hardware upgrades, you would modify the `BootManager` class logic without affecting the `ComputerSystem` class.\n",
        "\n",
        "**3. Code Reusability:**\n",
        "\n",
        "* Delegate objects can be reused in other parts of your program or even in different delegator classes. This promotes code reuse and reduces redundancy.\n",
        "* A `NetworkManager` object used for network connectivity in the `ComputerSystem` class could potentially be used for similar functionalities in a `Router` class.\n",
        "\n",
        "**4. Flexibility in Choosing the Delegate:**\n",
        "\n",
        "* In some cases, the delegator might not know the exact type of delegate object it needs at compile time. Delegation allows for dynamic selection of the delegate object at runtime.\n",
        "* A media player class might delegate the task of playing audio or video to different objects based on the file format (e.g., `AudioPlayer` or `VideoPlayer`).\n",
        "\n",
        "**5. Separation of Concerns:**\n",
        "\n",
        "* Delegation promotes a separation of concerns by clearly dividing functionalities between the delegator and the delegate. This makes the code easier to understand and reason about.\n",
        "* The `ComputerSystem` class focuses on high-level system functionalities, while the `BootManager` class handles the intricate details of the boot process.\n",
        "\n",
        "**Overall, delegation within composition is a powerful technique for simplifying complex system design. It promotes cleaner code organization, improved maintainability, reusability, and a clear separation of concerns, leading to well-structured and efficient software.**\n",
        "\n",
        "**Here are some additional points to consider:**\n",
        "\n",
        "* Delegation can sometimes lead to slightly more complex code structure compared to directly calling methods within the delegator class. However, the benefits in terms of maintainability and flexibility often outweigh this trade-off.\n",
        "* When designing delegation, it's crucial to ensure a clear relationship between the delegator and the delegate, with the delegate encapsulating the specific functionality being delegated.\n"
      ],
      "metadata": {
        "id": "kDVFNh9N-63F"
      }
    },
    {
      "cell_type": "markdown",
      "source": [
        "## ***10. Create a Python class for a car, using composition to represent components like the engine, wheels, and transmission.***"
      ],
      "metadata": {
        "id": "zO_Dsaei_PY9"
      }
    },
    {
      "cell_type": "code",
      "source": [
        "class Engine:\n",
        "  \"\"\"Class representing a car engine.\"\"\"\n",
        "\n",
        "  def __init__(self, horse_power):\n",
        "    self.horse_power = horse_power\n",
        "\n",
        "  def start(self):\n",
        "    print(\"Engine started!\")\n",
        "\n",
        "class Wheel:\n",
        "  \"\"\"Class representing a car wheel.\"\"\"\n",
        "\n",
        "  def __init__(self, size):\n",
        "    self.size = size\n",
        "\n",
        "  def rotate(self):\n",
        "    print(\"Wheel rotating...\")\n",
        "\n",
        "class Transmission:\n",
        "  \"\"\"Class representing a car transmission.\"\"\"\n",
        "\n",
        "  def __init__(self, num_gears):\n",
        "    self.num_gears = num_gears\n",
        "\n",
        "  def shift_gear(self, gear):\n",
        "    print(f\"Shifting to gear {gear}\")\n",
        "\n",
        "class Car:\n",
        "  \"\"\"Class representing a car.\"\"\"\n",
        "\n",
        "  def __init__(self, make, model, engine, wheels, transmission):\n",
        "    self.make = make\n",
        "    self.model = model\n",
        "    self.engine = engine\n",
        "    self.wheels = wheels  # List of Wheel objects\n",
        "    self.transmission = transmission\n",
        "\n",
        "  def accelerate(self):\n",
        "    print(f\"{self.make} {self.model} is accelerating!\")\n",
        "    self.engine.start()  # Delegation - utilize engine functionality\n",
        "\n",
        "  def turn(self, direction):\n",
        "    print(f\"{self.make} {self.model} is turning {direction}\")\n",
        "    # Delegate turning logic to wheels (implementation depends on complexity)\n",
        "    for wheel in self.wheels:\n",
        "      wheel.rotate()  # Example delegation to wheels\n",
        "\n",
        "  def shift(self, gear):\n",
        "    self.transmission.shift_gear(gear)\n",
        "\n",
        "# Example usage\n",
        "engine = Engine(200)\n",
        "wheels = [Wheel(17) for _ in range(4)]  # Create 4 wheels\n",
        "transmission = Transmission(5)\n",
        "\n",
        "car = Car(\"Tesla\", \"Model S\", engine, wheels, transmission)\n",
        "car.accelerate()  # Output: Engine started! Tesla Model S is accelerating!\n",
        "car.turn(\"left\")   # Output: Tesla Model S is turning left, Wheel rotating..., Wheel rotating..., Wheel rotating..., Wheel rotating...\n",
        "car.shift(2)       # Output: Shifting to gear 2\n"
      ],
      "metadata": {
        "colab": {
          "base_uri": "https://localhost:8080/"
        },
        "id": "30PKj1499ogp",
        "outputId": "7cca076a-faa9-4ad1-f09d-d5dc439209f2"
      },
      "execution_count": 10,
      "outputs": [
        {
          "output_type": "stream",
          "name": "stdout",
          "text": [
            "Tesla Model S is accelerating!\n",
            "Engine started!\n",
            "Tesla Model S is turning left\n",
            "Wheel rotating...\n",
            "Wheel rotating...\n",
            "Wheel rotating...\n",
            "Wheel rotating...\n",
            "Shifting to gear 2\n"
          ]
        }
      ]
    },
    {
      "cell_type": "markdown",
      "source": [
        "\n",
        "\n",
        "**Explanation:**\n",
        "\n",
        "* We define separate classes for `Engine`, `Wheel`, and `Transmission`.\n",
        "* `Car` uses composition. It has attributes for the `engine`, a list of `wheels`, and a `transmission` object.\n",
        "* `Car` methods (`accelerate`, `turn`, and `shift`) delegate functionalities to the contained objects:\n",
        "  * `accelerate()` starts the engine using delegation.\n",
        "  * `turn()` could potentially delegate turning logic to individual wheels (implementation depends on complexity). Here, it simply calls `rotate()` on each wheel object for demonstration.\n",
        "  * `shift()` directly uses the `transmission` object's method.\n",
        "\n",
        "This example showcases how composition and delegation can be combined to create a well-structured and maintainable representation of a car with its components."
      ],
      "metadata": {
        "id": "xsiuW-mW_jZX"
      }
    },
    {
      "cell_type": "markdown",
      "source": [
        "## ***11. How can you encapsulate and hide the details of composed objects in Python classes to maintain abstraction?***"
      ],
      "metadata": {
        "id": "5PICu9i_AJJU"
      }
    },
    {
      "cell_type": "markdown",
      "source": [
        "you can encapsulate and hide the details of composed objects in Python classes to maintain abstraction:\n",
        "\n",
        "**1. Utilize Private Attributes:**\n",
        "\n",
        "* Python doesn't have a strict keyword for private attributes, but you can use the convention of prefixing attributes with double underscores (`__`) to indicate they are intended to be private.\n",
        "* Restrict direct access to these internal attributes of the composed objects within your main class.\n",
        "\n",
        "**Example:**\n",
        "\n",
        "```python\n",
        "class Engine:\n",
        "  \"\"\"Class representing a car engine.\"\"\"\n",
        "\n",
        "  def __init__(self, horse_power):\n",
        "    self.__horse_power = horse_power  # Private attribute\n",
        "\n",
        "  def start(self):\n",
        "    print(\"Engine started!\")\n",
        "\n",
        "  def get_horse_power(self):  # Public method to access private attribute\n",
        "    return self.__horse_power\n",
        "```\n",
        "\n",
        "Here, the `Engine` class has a private attribute `__horse_power`. The main class can't directly access it, but it provides a public method `get_horse_power()` to retrieve the value if needed.\n",
        "\n",
        "**2. Leverage Public Methods:**\n",
        "\n",
        "* Instead of directly exposing the functionalities of the contained objects, define public methods within your main class that utilize the functionalities of the composed objects through delegation.\n",
        "* This allows you to control how the functionalities are accessed and potentially add additional logic or validation within the public methods.\n",
        "\n",
        "**Example (continued):**\n",
        "\n",
        "```python\n",
        "class Car:\n",
        "  \"\"\"Class representing a car.\"\"\"\n",
        "\n",
        "  def __init__(self, make, model, engine):\n",
        "    self.make = make\n",
        "    self.model = model\n",
        "    self.engine = engine\n",
        "\n",
        "  def accelerate(self):\n",
        "    self.engine.start()  # Delegation\n",
        "    print(f\"{self.make} {self.model} is accelerating!\")\n",
        "```\n",
        "\n",
        "In the `Car` class, the `accelerate()` method delegates the starting functionality to the `engine` object but also adds its own logic to print a message.\n",
        "\n",
        "**3. Abstract Base Classes (ABCs):**\n",
        "\n",
        "* For more complex scenarios, you can use ABCs to define a common interface for composed objects. This ensures that all composed objects implement the required methods, promoting consistency and abstraction.\n",
        "\n",
        "**Overall, by combining private attributes, public methods with delegation, and potentially ABCs, you can effectively encapsulate the internal details of composed objects while maintaining a clean abstraction layer in your Python classes.**\n",
        "\n",
        "**Additional Considerations:**\n",
        "\n",
        "* While private attributes and methods provide a strong convention for encapsulation, they can still be accessed using techniques like `getattr`. It's essential to document your code clearly to emphasize the intended usage patterns.\n",
        "* Over-encapsulation can sometimes make code less readable. Strive for a balance between hiding unnecessary details and providing reasonable access methods when needed.\n"
      ],
      "metadata": {
        "id": "h0W1C7IKA2wC"
      }
    },
    {
      "cell_type": "markdown",
      "source": [
        "## ***12. Create a Python class for a university course, using composition to represent students, instructors, and course materials.***"
      ],
      "metadata": {
        "id": "Hwiips1QBNl7"
      }
    },
    {
      "cell_type": "code",
      "source": [
        "from abc import ABC, abstractmethod\n",
        "\n",
        "class Person:\n",
        "  \"\"\"Base class representing a person (student or instructor).\"\"\"\n",
        "\n",
        "  def __init__(self, name):\n",
        "    self.name = name\n",
        "\n",
        "class Student(Person):\n",
        "  \"\"\"Class representing a student enrolled in a course.\"\"\"\n",
        "\n",
        "  def __init__(self, name, student_id):\n",
        "    super().__init__(name)\n",
        "    self.student_id = student_id\n",
        "\n",
        "class Instructor(Person):\n",
        "  \"\"\"Class representing an instructor teaching a course.\"\"\"\n",
        "\n",
        "  def __init__(self, name, department):\n",
        "    super().__init__(name)\n",
        "    self.department = department\n",
        "\n",
        "class CourseMaterial(ABC):\n",
        "  \"\"\"Abstract base class representing course materials.\"\"\"\n",
        "\n",
        "  @abstractmethod\n",
        "  def get_material_description(self):\n",
        "    pass\n",
        "\n",
        "class LectureNotes(CourseMaterial):\n",
        "  \"\"\"Class representing lecture notes.\"\"\"\n",
        "\n",
        "  def __init__(self, topic):\n",
        "    self.topic = topic\n",
        "\n",
        "  def get_material_description(self):\n",
        "    return f\"Lecture notes on {self.topic}\"\n",
        "\n",
        "class Textbook(CourseMaterial):\n",
        "  \"\"\"Class representing a textbook.\"\"\"\n",
        "\n",
        "  def __init__(self, title, author):\n",
        "    self.title = title\n",
        "    self.author = author\n",
        "\n",
        "  def get_material_description(self):\n",
        "    return f\"Textbook: {self.title} by {self.author}\"\n",
        "\n",
        "class Course:\n",
        "  \"\"\"Class representing a university course.\"\"\"\n",
        "\n",
        "  def __init__(self, course_name, instructor, students, materials):\n",
        "    self.course_name = course_name\n",
        "    self.instructor = instructor\n",
        "    self.students = students  # List of Student objects\n",
        "    self.materials = materials  # List of CourseMaterial objects\n",
        "\n",
        "  def get_enrolled_students(self):\n",
        "    return [student.name for student in self.students]\n",
        "\n",
        "  def get_course_materials(self):\n",
        "    descriptions = [material.get_material_description() for material in self.materials]\n",
        "    return \"\\n\".join(descriptions)  # Combine descriptions with newlines\n",
        "\n",
        "# Example usage\n",
        "instructor = Instructor(\"Dr. Jones\", \"Computer Science\")\n",
        "students = [Student(\"Alice\", 1234), Student(\"Bob\", 5678)]\n",
        "materials = [LectureNotes(\"Python Programming\"), Textbook(\"Introduction to Algorithms\", \"Thomas H. Cormen et al.\")]\n",
        "\n",
        "course = Course(\"Introduction to Programming\", instructor, students, materials)\n",
        "\n",
        "print(f\"Course Name: {course.course_name}\")\n",
        "print(f\"Instructor: {course.instructor.name} ({course.instructor.department})\")\n",
        "print(f\"Enrolled Students: {', '.join(course.get_enrolled_students())}\")\n",
        "print(f\"Course Materials:\\n{course.get_course_materials()}\")\n"
      ],
      "metadata": {
        "colab": {
          "base_uri": "https://localhost:8080/"
        },
        "id": "BZ9UWMNa_dfX",
        "outputId": "4610af8a-07ca-4d90-9585-5009041fcfdc"
      },
      "execution_count": 11,
      "outputs": [
        {
          "output_type": "stream",
          "name": "stdout",
          "text": [
            "Course Name: Introduction to Programming\n",
            "Instructor: Dr. Jones (Computer Science)\n",
            "Enrolled Students: Alice, Bob\n",
            "Course Materials:\n",
            "Lecture notes on Python Programming\n",
            "Textbook: Introduction to Algorithms by Thomas H. Cormen et al.\n"
          ]
        }
      ]
    },
    {
      "cell_type": "markdown",
      "source": [
        "\n",
        "\n",
        "**Explanation:**\n",
        "\n",
        "* We define `Person` as a base class for `Student` and `Instructor`.\n",
        "* `CourseMaterial` is an abstract base class with an abstract method `get_material_description` that forces subclasses to implement it.\n",
        "* `LectureNotes` and `Textbook` inherit from `CourseMaterial` and define their specific functionalities.\n",
        "* `Course` uses composition. It has attributes for the `course_name`, `instructor`, a list of `students`, and a list of `materials`.\n",
        "* The `Course` class provides methods to retrieve information about enrolled students and course materials using delegation to access information from the contained objects.\n",
        "\n",
        "This example demonstrates how composition allows you to model different aspects of a university course and encapsulate their details within separate classes."
      ],
      "metadata": {
        "id": "gtAkBOCOBe51"
      }
    },
    {
      "cell_type": "markdown",
      "source": [
        "# ***13. Discuss the challenges and drawbacks of composition, such as increased complexity and potential for tight coupling between objects.***"
      ],
      "metadata": {
        "id": "NJmOcGQ8Bz7h"
      }
    },
    {
      "cell_type": "markdown",
      "source": [
        "While composition offers several benefits in object-oriented design, such as code reuse, flexibility, and modularity, it also comes with its own set of challenges and drawbacks:\n",
        "\n",
        "1. **Increased Complexity:** As the number of composed objects grows, managing the relationships between them can become complex. Tracking dependencies, managing object lifecycles, and ensuring proper initialization of composed objects can add to the overall complexity of the system.\n",
        "\n",
        "2. **Potential for Tight Coupling:** Composition can lead to tight coupling between objects if the containing class directly accesses or depends on the internal details of composed objects. This can make the system less flexible and more difficult to maintain, as changes to one object may require modifications to other objects that are tightly coupled to it.\n",
        "\n",
        "3. **Difficulty in Understanding Relationships:** Understanding the relationships between composed objects and their interactions within the containing class can be challenging, especially in large and complex systems. Developers may find it difficult to reason about the behavior of the system and anticipate the effects of changes.\n",
        "\n",
        "4. **Inheritance vs. Composition Dilemma:** Choosing between inheritance and composition can be challenging, as both approaches have their own strengths and weaknesses. While composition promotes flexibility and modularity, inheritance simplifies code reuse and promotes code sharing. Deciding which approach to use in a given context requires careful consideration of the trade-offs involved.\n",
        "\n",
        "5. **Potential for Code Duplication:** In some cases, using composition to assemble objects from smaller components may lead to code duplication, especially if similar compositions are used in multiple places within the codebase. Managing duplicated code can increase maintenance overhead and introduce inconsistencies.\n",
        "\n",
        "6. **Overhead of Indirection:** Delegating method calls and managing interactions between composed objects can introduce overhead in terms of performance and memory consumption. This overhead may be negligible in many cases but can become significant in performance-critical systems.\n",
        "\n",
        "7. **Complex Initialization Logic:** Initializing composed objects and ensuring their proper configuration within the containing class's constructor or factory methods can be challenging, especially if the initialization logic is complex or involves dependencies between objects.\n",
        "\n",
        "To mitigate these challenges and drawbacks, developers should carefully design the composition relationships within their systems, favoring loose coupling, encapsulation, and abstraction. They should also adhere to best practices such as providing clear interfaces, minimizing dependencies, and favoring composition over inheritance where appropriate. Additionally, using design patterns such as dependency injection and inversion of control can help manage dependencies and improve the flexibility and maintainability of composed systems."
      ],
      "metadata": {
        "id": "_e43P6RhCTyi"
      }
    },
    {
      "cell_type": "markdown",
      "source": [
        "## ***14. Create a Python class hierarchy for a restaurant system, using composition to represent menus, dishes,and ingredients.***"
      ],
      "metadata": {
        "id": "Ko5sHNNBD_OP"
      }
    },
    {
      "cell_type": "code",
      "source": [
        "class Ingredient:\n",
        "    def __init__(self, name, quantity):\n",
        "        self.name = name\n",
        "        self.quantity = quantity\n",
        "\n",
        "    def __str__(self):\n",
        "        return f\"{self.quantity} {self.name}\"\n",
        "\n",
        "class Dish:\n",
        "    def __init__(self, name, ingredients):\n",
        "        self.name = name\n",
        "        self.ingredients = ingredients\n",
        "\n",
        "    def __str__(self):\n",
        "        ingredients_info = \", \".join(str(ingredient) for ingredient in self.ingredients)\n",
        "        return f\"Dish: {self.name} - Ingredients: {ingredients_info}\"\n",
        "\n",
        "class Menu:\n",
        "    def __init__(self, name, dishes):\n",
        "        self.name = name\n",
        "        self.dishes = dishes\n",
        "\n",
        "    def __str__(self):\n",
        "        dishes_info = \"\\n\".join(str(dish) for dish in self.dishes)\n",
        "        return f\"Menu: {self.name}\\n{dishes_info}\"\n",
        "\n",
        "# Example usage:\n",
        "ingredient1 = Ingredient(\"Tomato\", 2)\n",
        "ingredient2 = Ingredient(\"Cheese\", 200)\n",
        "ingredient3 = Ingredient(\"Dough\", 300)\n",
        "ingredient4 = Ingredient(\"Mushrooms\", 100)\n",
        "\n",
        "pizza = Dish(\"Pizza\", [ingredient1, ingredient2, ingredient3])\n",
        "pasta = Dish(\"Pasta\", [ingredient1, ingredient2])\n",
        "salad = Dish(\"Salad\", [ingredient1, ingredient4])\n",
        "\n",
        "menu = Menu(\"Italian Cuisine\", [pizza, pasta, salad])\n",
        "print(menu)\n"
      ],
      "metadata": {
        "colab": {
          "base_uri": "https://localhost:8080/"
        },
        "id": "y0F9lC1MBXvl",
        "outputId": "2eb32041-7215-4e7d-ff67-5fbc129f1fc1"
      },
      "execution_count": 12,
      "outputs": [
        {
          "output_type": "stream",
          "name": "stdout",
          "text": [
            "Menu: Italian Cuisine\n",
            "Dish: Pizza - Ingredients: 2 Tomato, 200 Cheese, 300 Dough\n",
            "Dish: Pasta - Ingredients: 2 Tomato, 200 Cheese\n",
            "Dish: Salad - Ingredients: 2 Tomato, 100 Mushrooms\n"
          ]
        }
      ]
    },
    {
      "cell_type": "markdown",
      "source": [
        "\n",
        "\n",
        "In this example:\n",
        "- The `Ingredient`, `Dish`, and `Menu` classes represent components of a restaurant system, each with its attributes and methods.\n",
        "- The `Ingredient` class represents ingredients with attributes for name and quantity.\n",
        "- The `Dish` class represents dishes with attributes for name and a list of ingredients.\n",
        "- The `Menu` class represents menus with attributes for name and a list of dishes.\n",
        "- Composition is used to represent the restaurant system containing instances of the `Dish` class as its components, with each `Dish` object containing instances of the `Ingredient` class as its components.\n",
        "- Example usage demonstrates creating a `Menu` object with instances of `Dish` components and printing information about the menu."
      ],
      "metadata": {
        "id": "vkOCqd3XEIP2"
      }
    },
    {
      "cell_type": "markdown",
      "source": [
        "## ***15. Explain how composition enhances code maintainability and modularity in Python programs.***"
      ],
      "metadata": {
        "id": "kDSrGOXPETvn"
      }
    },
    {
      "cell_type": "markdown",
      "source": [
        "How composition enhances code maintainability and modularity in Python programs:\n",
        "\n",
        "**1. Modular Design:**\n",
        "\n",
        "* Composition promotes a modular design by breaking down complex functionalities into smaller, independent classes. Each class focuses on a specific responsibility, making the code easier to understand, modify, and reuse.\n",
        "\n",
        "* Imagine a program with a single `Restaurant` class responsible for everything: managing menus, calculating costs, and handling orders. Using composition, you can have separate classes for `Menu`, `Dish`, `Ingredient`, and `Order`, leading to cleaner and more manageable code.\n",
        "\n",
        "**2. Improved Maintainability:**\n",
        "\n",
        "* By isolating functionalities within well-defined classes, changes become more localized. If you need to modify the logic for calculating dish costs, you only need to update the `Dish` class without impacting other parts of the system.\n",
        "\n",
        "* This reduces the risk of unintended side effects and simplifies the debugging process. You can focus on the specific class where the issue resides.\n",
        "\n",
        "**3. Increased Reusability:**\n",
        "\n",
        "* Independent classes used in composition are often reusable in various contexts. An `Ingredient` class can be used not only for dishes but potentially for recipes or inventory management.\n",
        "\n",
        "* This reduces code duplication and promotes code efficiency. You can leverage existing, well-tested classes to build new functionalities quicker.\n",
        "\n",
        "**4. Loose Coupling:**\n",
        "\n",
        "* Composition fosters a looser coupling between classes compared to inheritance. Classes collaborate through their contained objects instead of relying on a strict inheritance hierarchy. This makes the code more adaptable and easier to maintain.\n",
        "\n",
        "* If a change is made to an `Ingredient` class (e.g., adding a unit measurement attribute), it won't necessarily affect other classes (like `Dish`) as long as the core interface (methods and attributes) remains consistent.\n",
        "\n",
        "**5. Testability:**\n",
        "\n",
        "* Independent classes used in composition are often easier to test in isolation. You can test the functionalities of an `Ingredient` class or a `Dish` class without needing a complete `Restaurant` object with all its dependencies.\n",
        "\n",
        "* This simplifies the testing process and improves overall code quality by ensuring individual building blocks work as expected.\n",
        "\n",
        "**Overall, composition is a valuable tool for promoting maintainability and modularity in Python programs. By breaking down functionalities into well-designed, independent classes, you create a flexible and adaptable codebase that is easier to understand, modify, and reuse.**"
      ],
      "metadata": {
        "id": "mwzgVzauEirB"
      }
    },
    {
      "cell_type": "markdown",
      "source": [
        "## ***16. Create a Python class for a computer game character, using composition to represent attributes like weapons, armor, and inventory.***"
      ],
      "metadata": {
        "id": "lRKxUQ3WFEn9"
      }
    },
    {
      "cell_type": "code",
      "source": [
        "class Weapon:\n",
        "    def __init__(self, name, damage):\n",
        "        self.name = name\n",
        "        self.damage = damage\n",
        "\n",
        "    def __str__(self):\n",
        "        return f\"Weapon: {self.name}, Damage: {self.damage}\"\n",
        "\n",
        "class Armor:\n",
        "    def __init__(self, name, defense):\n",
        "        self.name = name\n",
        "        self.defense = defense\n",
        "\n",
        "    def __str__(self):\n",
        "        return f\"Armor: {self.name}, Defense: {self.defense}\"\n",
        "\n",
        "class InventoryItem:\n",
        "    def __init__(self, name, quantity):\n",
        "        self.name = name\n",
        "        self.quantity = quantity\n",
        "\n",
        "    def __str__(self):\n",
        "        return f\"Item: {self.name}, Quantity: {self.quantity}\"\n",
        "\n",
        "class Character:\n",
        "    def __init__(self, name, weapon=None, armor=None, inventory=None):\n",
        "        self.name = name\n",
        "        self.weapon = weapon\n",
        "        self.armor = armor\n",
        "        # If inventory is not provided, initialize it as an empty list\n",
        "        self.inventory = inventory or []\n",
        "\n",
        "    def equip_weapon(self, weapon):\n",
        "        self.weapon = weapon\n",
        "\n",
        "    def equip_armor(self, armor):\n",
        "        self.armor = armor\n",
        "\n",
        "    def add_item_to_inventory(self, item):\n",
        "        self.inventory.append(item)\n",
        "\n",
        "    def __str__(self):\n",
        "        # Generate string representations for weapon, armor, and inventory\n",
        "        weapon_info = f\"Weapon: {self.weapon}\" if self.weapon else \"No weapon equipped\"\n",
        "        armor_info = f\"Armor: {self.armor}\" if self.armor else \"No armor equipped\"\n",
        "        inventory_info = \"\\n\".join(str(item) for item in self.inventory) if self.inventory else \"Inventory is empty\"\n",
        "        # Combine all information into a single string\n",
        "        return f\"Character: {self.name}\\n{weapon_info}\\n{armor_info}\\nInventory:\\n{inventory_info}\"\n",
        "\n",
        "# Example usage:\n",
        "sword = Weapon(\"Sword\", 10)\n",
        "shield = Armor(\"Shield\", 5)\n",
        "potion = InventoryItem(\"Health Potion\", 3)\n",
        "\n",
        "character = Character(\"Hero\", sword, shield, [potion])\n",
        "print(character)\n",
        "\n",
        "# Modify character attributes\n",
        "character.equip_weapon(Weapon(\"Axe\", 15))\n",
        "character.equip_armor(Armor(\"Helmet\", 3))\n",
        "character.add_item_to_inventory(InventoryItem(\"Mana Potion\", 2))\n",
        "\n",
        "print(\"\\nAfter updates:\\n\")\n",
        "print(character)\n"
      ],
      "metadata": {
        "colab": {
          "base_uri": "https://localhost:8080/"
        },
        "id": "sJvLmmSFEGQa",
        "outputId": "3641514e-424d-4918-9cc9-f182325097d8"
      },
      "execution_count": 13,
      "outputs": [
        {
          "output_type": "stream",
          "name": "stdout",
          "text": [
            "Character: Hero\n",
            "Weapon: Weapon: Sword, Damage: 10\n",
            "Armor: Armor: Shield, Defense: 5\n",
            "Inventory:\n",
            "Item: Health Potion, Quantity: 3\n",
            "\n",
            "After updates:\n",
            "\n",
            "Character: Hero\n",
            "Weapon: Weapon: Axe, Damage: 15\n",
            "Armor: Armor: Helmet, Defense: 3\n",
            "Inventory:\n",
            "Item: Health Potion, Quantity: 3\n",
            "Item: Mana Potion, Quantity: 2\n"
          ]
        }
      ]
    },
    {
      "cell_type": "markdown",
      "source": [
        "\n",
        "\n",
        "In this example:\n",
        "- The `Weapon`, `Armor`, and `InventoryItem` classes represent components of a game character, each with its attributes and methods.\n",
        "- The `Character` class represents a game character with attributes for name, weapon, armor, and inventory.\n",
        "- Composition is used to represent the game character containing instances of the `Weapon`, `Armor`, and `InventoryItem` classes as its components.\n",
        "- The `equip_weapon()`, `equip_armor()`, and `add_item_to_inventory()` methods allow modifying the character's attributes.\n",
        "- Example usage demonstrates creating a `Character` object with instances of `Weapon`, `Armor`, and `InventoryItem` components and modifying the character's attributes."
      ],
      "metadata": {
        "id": "Ma2dPH4MF7cm"
      }
    },
    {
      "cell_type": "markdown",
      "source": [
        "## ***17. Describe the concept of \"aggregation\" in composition and how it differs from simple composition.***"
      ],
      "metadata": {
        "id": "H_2rZNBmGDN-"
      }
    },
    {
      "cell_type": "markdown",
      "source": [
        "Aggregation is a concept related to composition in object-oriented programming (OOP) but with a key distinction. Both involve creating relationships between classes, but they differ in the strength and ownership of that relationship.\n",
        "\n",
        "**Simple Composition:**\n",
        "\n",
        "* In simple composition, one class (the whole)  **has-a**  relationship with another class (the part). The contained object (the part) has a stronger dependency on the whole object (its container). The lifecycle of the part is often tied to the lifecycle of the whole.\n",
        "* The whole object is responsible for creating, managing, and ultimately destroying the contained object.\n",
        "* If the whole object is deleted, the contained object is typically deleted as well.\n",
        "\n",
        "**Example:**\n",
        "\n",
        "```python\n",
        "class Engine:\n",
        "  def __init__(self, horse_power):\n",
        "    self.horse_power = horse_power\n",
        "\n",
        "class Car:\n",
        "  def __init__(self, make, model):\n",
        "    self.make = make\n",
        "    self.model = model\n",
        "    self.engine = Engine(200)  # Create and contain an Engine object\n",
        "\n",
        "  def start(self):\n",
        "    self.engine.start()  # Delegate functionality to the engine\n",
        "\n",
        "car = Car(\"Tesla\", \"Model S\")\n",
        "del car  # This would also delete the engine object\n",
        "```\n",
        "\n",
        "**Aggregation:**\n",
        "\n",
        "* In aggregation, one class (the whole)  **has-a**  relationship with another class (the part), but the relationship is weaker. The contained object (the part) has a more independent lifecycle.\n",
        "* The whole object can own a reference to the contained object, but it doesn't necessarily control its creation or destruction. The contained object can potentially exist outside the context of the whole object.\n",
        "* This allows for more flexibility and loose coupling between the classes.\n",
        "\n",
        "**Example:**\n",
        "\n",
        "```python\n",
        "class Student:\n",
        "  def __init__(self, name):\n",
        "    self.name = name\n",
        "\n",
        "class Course:\n",
        "  def __init__(self, name):\n",
        "    self.name = name\n",
        "    self.students = []  # List to hold references to Student objects\n",
        "\n",
        "  def enroll_student(self, student):\n",
        "    self.students.append(student)  # Add a reference to the Student object\n",
        "\n",
        "course = Course(\"Programming 101\")\n",
        "student1 = Student(\"Alice\")\n",
        "student2 = Student(\"Bob\")\n",
        "\n",
        "course.enroll_student(student1)\n",
        "course.enroll_student(student2)\n",
        "\n",
        "del course  # This wouldn't necessarily delete the Student objects (Alice and Bob)\n",
        "```\n",
        "\n",
        "**Key Differences:**\n",
        "\n",
        "| Feature        | Simple Composition | Aggregation       |\n",
        "|----------------|--------------------|--------------------|\n",
        "| Relationship   | Whole has-a part (stronger dependency) | Whole has-a part (weaker dependency) |\n",
        "| Lifecycle      | Part's lifecycle tied to whole | Part has independent lifecycle |\n",
        "| Creation/Deletion | Whole creates/deletes part | Whole references existing part |\n",
        "\n",
        "\n",
        "**In summary:**\n",
        "\n",
        "* Simple composition creates a tighter bond between the classes, with the whole object controlling the part's existence.\n",
        "* Aggregation creates a looser association where the contained object can potentially exist and function independently of the whole object.\n",
        "\n",
        "The choice between composition and aggregation depends on the specific relationship you want to model between your classes. If the contained object's existence is strongly tied to the whole object, then composition is a good choice. If the contained object has a more independent existence, then aggregation is a better option."
      ],
      "metadata": {
        "id": "ZG2GIW1zGduc"
      }
    },
    {
      "cell_type": "markdown",
      "source": [
        "## ***18. Create a Python class for a house, using composition to represent rooms, furniture, and appliances.***"
      ],
      "metadata": {
        "id": "L4-iaWRzGpgl"
      }
    },
    {
      "cell_type": "code",
      "source": [
        "class Appliance:\n",
        "  \"\"\"Class representing an appliance in a house.\"\"\"\n",
        "\n",
        "  def __init__(self, name, brand):\n",
        "    self.name = name\n",
        "    self.brand = brand\n",
        "\n",
        "  def turn_on(self):\n",
        "    print(f\"{self.name} is turned on.\")\n",
        "\n",
        "  def turn_off(self):\n",
        "    print(f\"{self.name} is turned off.\")\n",
        "\n",
        "class Furniture:\n",
        "  \"\"\"Class representing a piece of furniture in a house.\"\"\"\n",
        "\n",
        "  def __init__(self, name, material):\n",
        "    self.name = name\n",
        "    self.material = material\n",
        "\n",
        "class Room:\n",
        "  \"\"\"Class representing a room in a house.\"\"\"\n",
        "\n",
        "  def __init__(self, name):\n",
        "    self.name = name\n",
        "    self.furniture = []  # List of Furniture objects\n",
        "    self.appliances = []  # List of Appliance objects\n",
        "\n",
        "  def add_furniture(self, furniture):\n",
        "    self.furniture.append(furniture)\n",
        "\n",
        "  def add_appliance(self, appliance):\n",
        "    self.appliances.append(appliance)\n",
        "\n",
        "  def get_furniture(self):\n",
        "    if self.furniture:\n",
        "      furniture_list = \", \".join([f.name for f in self.furniture])\n",
        "      return f\"This room has furniture: {furniture_list}\"\n",
        "    else:\n",
        "      return \"This room has no furniture.\"\n",
        "\n",
        "  def get_appliances(self):\n",
        "    if self.appliances:\n",
        "      appliance_list = \", \".join([f.name for f in self.appliances])\n",
        "      return f\"This room has appliances: {appliance_list}\"\n",
        "    else:\n",
        "      return \"This room has no appliances.\"\n",
        "\n",
        "class House:\n",
        "  \"\"\"Class representing a house.\"\"\"\n",
        "\n",
        "  def __init__(self, address):\n",
        "    self.address = address\n",
        "    self.rooms = {}  # Dictionary to store rooms with names as keys and Room objects as values\n",
        "\n",
        "  def add_room(self, room_name):\n",
        "    self.rooms[room_name] = Room(room_name)\n",
        "\n",
        "  def get_room(self, room_name):\n",
        "    return self.rooms.get(room_name)\n",
        "\n",
        "  def add_furniture_to_room(self, room_name, furniture):\n",
        "    if room := self.get_room(room_name):\n",
        "      room.add_furniture(furniture)\n",
        "    else:\n",
        "      print(f\"Room {room_name} does not exist in this house.\")\n",
        "\n",
        "  def add_appliance_to_room(self, room_name, appliance):\n",
        "    if room := self.get_room(room_name):\n",
        "      room.add_appliance(appliance)\n",
        "    else:\n",
        "      print(f\"Room {room_name} does not exist in this house.\")\n",
        "\n",
        "  def display_room_info(self, room_name):\n",
        "    if room := self.get_room(room_name):\n",
        "      print(f\"Room: {room.name}\")\n",
        "      print(room.get_furniture())\n",
        "      print(room.get_appliances())\n",
        "    else:\n",
        "      print(f\"Room {room_name} does not exist in this house.\")\n",
        "\n",
        "# Example usage\n",
        "fridge = Appliance(\"Refrigerator\", \"LG\")\n",
        "sofa = Furniture(\"Sofa\", \"Leather\")\n",
        "bed = Furniture(\"Bed\", \"Wood\")\n",
        "\n",
        "living_room = Room(\"Living Room\")\n",
        "kitchen = Room(\"Kitchen\")\n",
        "\n",
        "house = House(\"123 Main St\")\n",
        "house.add_room(\"Living Room\")\n",
        "house.add_room(\"Kitchen\")\n",
        "\n",
        "house.add_furniture_to_room(\"Living Room\", sofa)\n",
        "house.add_appliance_to_room(\"Kitchen\", fridge)\n",
        "house.add_furniture_to_room(\"Bedroom\", bed)  # This will print an error message\n",
        "\n",
        "house.display_room_info(\"Living Room\")\n"
      ],
      "metadata": {
        "colab": {
          "base_uri": "https://localhost:8080/"
        },
        "id": "cd0Dn8CfF2pb",
        "outputId": "1ee0e07b-a6e3-48b0-a72d-14265b1e2bb7"
      },
      "execution_count": 14,
      "outputs": [
        {
          "output_type": "stream",
          "name": "stdout",
          "text": [
            "Room Bedroom does not exist in this house.\n",
            "Room: Living Room\n",
            "This room has furniture: Sofa\n",
            "This room has no appliances.\n"
          ]
        }
      ]
    },
    {
      "cell_type": "markdown",
      "source": [
        "\n",
        "\n",
        "**Explanation:**\n",
        "\n",
        "* We define separate classes for `Appliance`, `Furniture`, and `Room`.\n",
        "* `House` uses composition. It has an address and a dictionary to store `Room` objects with names as keys.\n",
        "* `Room` can contain lists of `Furniture` and `Appliance` objects, allowing for multiple furniture pieces and appliances in a room.\n",
        "* `House` provides methods to manage rooms, furniture, and appliances, including adding them to specific rooms and displaying information about a particular room's contents.\n",
        "\n",
        "This example showcases how composition lets you model the different parts of a house (rooms, furniture, appliances) as separate classes and create a well-structured representation of a house with its contents"
      ],
      "metadata": {
        "id": "81bVnWzEHFSA"
      }
    },
    {
      "cell_type": "markdown",
      "source": [
        "## ***19. How can you achieve flexibility in composed objects by allowing them to be replaced or modified dynamically at runtime?***"
      ],
      "metadata": {
        "id": "MrF-7jQ-HRGe"
      }
    },
    {
      "cell_type": "markdown",
      "source": [
        "There are several approaches to achieve flexibility in composed objects by allowing them to be replaced or modified dynamically at runtime in Python:\n",
        "\n",
        "1. **Dependency Injection:**\n",
        "\n",
        "* This is a design pattern where you don't create the contained objects within the main class itself. Instead, you inject them as dependencies through the constructor or setter methods.\n",
        "* This allows you to pass different implementations of the composed object at runtime, enabling flexibility in behavior.\n",
        "\n",
        "```python\n",
        "class Engine:\n",
        "  def start(self):\n",
        "    print(\"Engine started!\")\n",
        "\n",
        "class ElectricEngine(Engine):\n",
        "  def start(self):\n",
        "    print(\"Electric engine whirring to life!\")\n",
        "\n",
        "class Car:\n",
        "  def __init__(self, engine):  # Engine is injected as a dependency\n",
        "    self.engine = engine\n",
        "\n",
        "  def start(self):\n",
        "    self.engine.start()\n",
        "\n",
        "# Example usage\n",
        "car1 = Car(Engine())  # Regular engine\n",
        "car2 = Car(ElectricEngine())  # Electric engine\n",
        "car1.start()  # Output: Engine started!\n",
        "car2.start()  # Output: Electric engine whirring to life!\n",
        "```\n",
        "\n",
        "2. **Abstract Base Classes (ABCs):**\n",
        "\n",
        "* Define an ABC that outlines the required interface (methods) for composed objects.\n",
        "* Concrete implementations with varying functionalities can inherit from the ABC.\n",
        "* At runtime, you can choose which concrete implementation to use in your composition.\n",
        "\n",
        "```python\n",
        "from abc import ABC, abstractmethod\n",
        "\n",
        "class Weapon(ABC):\n",
        "  @abstractmethod\n",
        "  def attack(self):\n",
        "    pass\n",
        "\n",
        "class Sword(Weapon):\n",
        "  def attack(self):\n",
        "    print(\"Slashing with the sword!\")\n",
        "\n",
        "class BowAndArrow(Weapon):\n",
        "  def attack(self):\n",
        "    print(\"Firing an arrow!\")\n",
        "\n",
        "class Character:\n",
        "  def __init__(self, weapon):  # Weapon injected as a dependency\n",
        "    self.weapon = weapon\n",
        "\n",
        "  def attack(self):\n",
        "    self.weapon.attack()\n",
        "\n",
        "# Example usage\n",
        "character1 = Character(Sword())\n",
        "character2 = Character(BowAndArrow())\n",
        "\n",
        "character1.attack()  # Output: Slashing with the sword!\n",
        "character2.attack()  # Output: Firing an arrow!\n",
        "```\n",
        "\n",
        "3. **Dynamic Attribute Setting (Use with Caution):**\n",
        "\n",
        "* This approach involves dynamically adding attributes (objects) to the composed object at runtime using `setattr`.\n",
        "* It can be useful for specific scenarios, but it's generally less preferred due to potential for runtime errors and reduced code readability.\n",
        "\n",
        "```python\n",
        "class Car:\n",
        "  def __init__(self):\n",
        "    self.engine = Engine()  # Initial engine\n",
        "\n",
        "  def set_engine(self, new_engine):\n",
        "    setattr(self, \"engine\", new_engine)  # Dynamically change the engine\n",
        "\n",
        "# Example usage\n",
        "car = Car()\n",
        "car.start()  # Uses the initial engine\n",
        "\n",
        "electric_engine = ElectricEngine()\n",
        "car.set_engine(electric_engine)\n",
        "car.start()  # Uses the newly set electric engine\n",
        "```\n",
        "\n",
        "**Choosing the Right Approach:**\n",
        "\n",
        "* Dependency injection is the preferred method for achieving flexibility with composed objects. It promotes loose coupling and improves testability.\n",
        "* ABCs are useful when you need to enforce a specific interface for composed objects while allowing for different implementations.\n",
        "* Dynamic attribute setting should be used cautiously due to potential drawbacks and is generally less recommended.\n",
        "\n",
        "Remember, the key is to choose the approach that best suits your specific needs and promotes clean, maintainable, and flexible code.\n"
      ],
      "metadata": {
        "id": "04bK8lh9Hi_F"
      }
    },
    {
      "cell_type": "markdown",
      "source": [
        "## ***20. Create a Python class for a social media application, using composition to represent users, posts, and comments.***"
      ],
      "metadata": {
        "id": "UVqMZ9qbHpPX"
      }
    },
    {
      "cell_type": "code",
      "source": [
        "class Comment:\n",
        "    def __init__(self, author, content):\n",
        "        self.author = author\n",
        "        self.content = content\n",
        "\n",
        "    def __str__(self):\n",
        "        return f\"Comment by {self.author}: {self.content}\"\n",
        "\n",
        "class Post:\n",
        "    def __init__(self, author, content):\n",
        "        self.author = author\n",
        "        self.content = content\n",
        "        self.comments = []  # Initialize an empty list to store comments\n",
        "\n",
        "    def add_comment(self, comment):\n",
        "        self.comments.append(comment)  # Add a comment to the post\n",
        "\n",
        "    def __str__(self):\n",
        "        comment_info = \"\\n\".join(str(comment) for comment in self.comments) if self.comments else \"No comments\"\n",
        "        # Generate string representation for comments\n",
        "        return f\"Post by {self.author}: {self.content}\\nComments:\\n{comment_info}\"\n",
        "\n",
        "class User:\n",
        "    def __init__(self, username):\n",
        "        self.username = username\n",
        "        self.posts = []  # Initialize an empty list to store posts\n",
        "\n",
        "    def create_post(self, content):\n",
        "        post = Post(self.username, content)  # Create a new post\n",
        "        self.posts.append(post)  # Add the post to the user's list of posts\n",
        "        return post\n",
        "\n",
        "    def __str__(self):\n",
        "        post_info = \"\\n\\n\".join(str(post) for post in self.posts) if self.posts else \"No posts\"\n",
        "        # Generate string representation for posts\n",
        "        return f\"User: {self.username}\\nPosts:\\n{post_info}\"\n",
        "\n",
        "class SocialMediaApp:\n",
        "    def __init__(self):\n",
        "        self.users = []  # Initialize an empty list to store users\n",
        "\n",
        "    def create_user(self, username):\n",
        "        user = User(username)  # Create a new user\n",
        "        self.users.append(user)  # Add the user to the list of users\n",
        "        return user\n",
        "\n",
        "    def __str__(self):\n",
        "        user_info = \"\\n\\n\".join(str(user) for user in self.users) if self.users else \"No users\"\n",
        "        # Generate string representation for users\n",
        "        return f\"Social Media Application\\nUsers:\\n{user_info}\"\n",
        "\n",
        "# Example usage:\n",
        "app = SocialMediaApp()\n",
        "\n",
        "user1 = app.create_user(\"Alice\")  # Create a user named \"Alice\"\n",
        "user2 = app.create_user(\"Bob\")  # Create a user named \"Bob\"\n",
        "\n",
        "post1 = user1.create_post(\"Hello, everyone!\")  # User \"Alice\" creates a post\n",
        "post2 = user2.create_post(\"Good morning!\")  # User \"Bob\" creates a post\n",
        "\n",
        "comment1 = Comment(\"Charlie\", \"Nice post!\")  # Create a comment by \"Charlie\"\n",
        "post1.add_comment(comment1)  # Add the comment to post1\n",
        "\n",
        "comment2 = Comment(\"David\", \"Great to see you here!\")  # Create a comment by \"David\"\n",
        "post2.add_comment(comment2)  # Add the comment to post2\n",
        "\n",
        "print(app)  # Print information about the social media application\n"
      ],
      "metadata": {
        "colab": {
          "base_uri": "https://localhost:8080/"
        },
        "id": "EkziEYnTJop8",
        "outputId": "be32ace5-a560-463c-e5b7-d357f5860de9"
      },
      "execution_count": 19,
      "outputs": [
        {
          "output_type": "stream",
          "name": "stdout",
          "text": [
            "Social Media Application\n",
            "Users:\n",
            "User: Alice\n",
            "Posts:\n",
            "Post by Alice: Hello, everyone!\n",
            "Comments:\n",
            "Comment by Charlie: Nice post!\n",
            "\n",
            "User: Bob\n",
            "Posts:\n",
            "Post by Bob: Good morning!\n",
            "Comments:\n",
            "Comment by David: Great to see you here!\n"
          ]
        }
      ]
    },
    {
      "cell_type": "markdown",
      "source": [
        "\n",
        "\n",
        "In this example:\n",
        "- The `Comment`, `Post`, and `User` classes represent components of a social media application, each with its attributes and methods.\n",
        "- The `SocialMediaApp` class represents the social media application itself, containing a list of users.\n",
        "- Composition is used to represent the social media application containing instances of the `User` class as its components, with each `User` object containing instances of the `Post` class, and each `Post` object containing instances of the `Comment` class.\n",
        "- The `create_user()` method in the `SocialMediaApp` class allows creating new users, while the `create_post()` method in the `User` class allows creating new posts.\n",
        "- Example usage demonstrates creating users, posts, and comments within the social media application and printing information about the application."
      ],
      "metadata": {
        "id": "PStnbOQWJUD8"
      }
    },
    {
      "cell_type": "code",
      "source": [],
      "metadata": {
        "id": "hL11gx7HIXOj"
      },
      "execution_count": null,
      "outputs": []
    }
  ]
}